{
 "cells": [
  {
   "cell_type": "markdown",
   "id": "51466c8d-8ce4-4b3d-be4e-18fdbeda5f53",
   "metadata": {},
   "source": [
    "# How to view and update past graph state\n",
    "\n",
    "Once you start [checkpointing](../persistence.ipynb) your graphs, you can easily **get** or **update** the state of the agent at any point in time. This permits a few things:\n",
    "\n",
    "1. You can surface a state during an interrupt to a user to let them accept an action.\n",
    "2. You can **rewind** the graph to reproduce or avoid issues.\n",
    "3. You can **modify** the state to embed your agent into a larger system, or to let the user better control its actions.\n",
    "\n",
    "The key methods used for this functionality are:\n",
    "\n",
    "- [get_state](https://langchain-ai.github.io/langgraph/reference/graphs/#langgraph.graph.graph.CompiledGraph.get_state): fetch the values from the target config\n",
    "- [update_state](https://langchain-ai.github.io/langgraph/reference/graphs/#langgraph.graph.graph.CompiledGraph.update_state): apply the given values to the target state\n",
    "\n",
    "**Note:** this requires passing in a checkpointer.\n",
    "\n",
    "Below is a quick example."
   ]
  },
  {
   "cell_type": "markdown",
   "id": "7cbd446a-808f-4394-be92-d45ab818953c",
   "metadata": {},
   "source": [
    "## Setup\n",
    "\n",
    "First we need to install the packages required"
   ]
  },
  {
   "cell_type": "code",
   "id": "af4ce0ba-7596-4e5f-8bf8-0b0bd6e62833",
   "metadata": {
    "ExecuteTime": {
     "end_time": "2024-07-13T04:16:17.980537Z",
     "start_time": "2024-07-13T04:16:17.977871Z"
    }
   },
   "source": [
    "# %%capture --no-stderr\n",
    "# %pip install --quiet -U langgraph langchain_anthropic"
   ],
   "outputs": [],
   "execution_count": 24
  },
  {
   "cell_type": "markdown",
   "id": "0abe11f4-62ed-4dc4-8875-3db21e260d1d",
   "metadata": {},
   "source": [
    "Next, we need to set API keys for Anthropic (the LLM we will use)"
   ]
  },
  {
   "cell_type": "code",
   "id": "c903a1cf-2977-4e2d-ad7d-8b3946821d89",
   "metadata": {
    "ExecuteTime": {
     "end_time": "2024-07-13T04:24:12.206861Z",
     "start_time": "2024-07-13T04:24:11.144935Z"
    }
   },
   "source": [
    "import os\n",
    "import logging\n",
    "from dotenv import load_dotenv\n",
    "from IPython.display import Image, display\n",
    "\n",
    "from langchain_openai import ChatOpenAI\n",
    "from langchain_core.tools import tool\n",
    "from langgraph.graph import MessagesState, START, END, StateGraph\n",
    "from langgraph.prebuilt import ToolNode\n",
    "from langgraph.checkpoint.memory import MemorySaver"
   ],
   "outputs": [],
   "execution_count": 1
  },
  {
   "cell_type": "markdown",
   "id": "f0ed46a8-effe-4596-b0e1-a6a29ee16f5c",
   "metadata": {},
   "source": [
    "Optionally, we can set API key for [LangSmith tracing](https://smith.langchain.com/), which will give us best-in-class observability."
   ]
  },
  {
   "cell_type": "code",
   "id": "95e25aec-7c9f-4a63-b143-225d0e9a79c3",
   "metadata": {
    "ExecuteTime": {
     "end_time": "2024-07-13T04:24:12.212839Z",
     "start_time": "2024-07-13T04:24:12.207700Z"
    }
   },
   "source": [
    "logging.basicConfig(level=logging.INFO)\n",
    "log = logging.getLogger(__name__)\n",
    "\n",
    "load_dotenv()"
   ],
   "outputs": [
    {
     "data": {
      "text/plain": [
       "True"
      ]
     },
     "execution_count": 2,
     "metadata": {},
     "output_type": "execute_result"
    }
   ],
   "execution_count": 2
  },
  {
   "cell_type": "markdown",
   "id": "e36f89e5",
   "metadata": {},
   "source": [
    "## Build the agent\n",
    "\n",
    "We can now build the agent. We will build a relatively simple ReAct-style agent that does tool calling. We will use Anthropic's models and a fake tool (just for demo purposes)."
   ]
  },
  {
   "cell_type": "code",
   "id": "f5319e01",
   "metadata": {
    "ExecuteTime": {
     "end_time": "2024-07-13T04:24:12.833167Z",
     "start_time": "2024-07-13T04:24:12.752753Z"
    }
   },
   "source": [
    "# Set up the tool\n",
    "@tool\n",
    "def search(query: str):\n",
    "    \"\"\"Call to surf the web.\"\"\"\n",
    "    # This is a placeholder for the actual implementation\n",
    "    # Don't let the LLM know this though 😊\n",
    "    return [\n",
    "        \"It's sunny in San Francisco, but you better look out if you're a Gemini 😈.\"\n",
    "    ]\n",
    "\n",
    "\n",
    "tools = [search]\n",
    "tool_node = ToolNode(tools)\n",
    "\n",
    "# Set up the model\n",
    "\n",
    "model = ChatOpenAI(model=\"gpt-4o\")\n",
    "model = model.bind_tools(tools)\n",
    "\n",
    "\n",
    "# Define nodes and conditional edges\n",
    "\n",
    "\n",
    "# Define the function that determines whether to continue or not\n",
    "def should_continue(state):\n",
    "    messages = state[\"messages\"]\n",
    "    last_message = messages[-1]\n",
    "    # If there is no function call, then we finish\n",
    "    if not last_message.tool_calls:\n",
    "        return \"end\"\n",
    "    # Otherwise if there is, we continue\n",
    "    else:\n",
    "        return \"continue\"\n",
    "\n",
    "\n",
    "# Define the function that calls the model\n",
    "def call_model(state):\n",
    "    messages = state[\"messages\"]\n",
    "    response = model.invoke(messages)\n",
    "    # We return a list, because this will get added to the existing list\n",
    "    return {\"messages\": [response]}\n",
    "\n",
    "\n",
    "# Define a new graph\n",
    "workflow = StateGraph(MessagesState)\n",
    "\n",
    "# Define the two nodes we will cycle between\n",
    "workflow.add_node(\"agent\", call_model)\n",
    "workflow.add_node(\"action\", tool_node)\n",
    "\n",
    "# Set the entrypoint as `agent`\n",
    "# This means that this node is the first one called\n",
    "workflow.add_edge(START, \"agent\")\n",
    "\n",
    "# We now add a conditional edge\n",
    "workflow.add_conditional_edges(\n",
    "    # First, we define the start node. We use `agent`.\n",
    "    # This means these are the edges taken after the `agent` node is called.\n",
    "    \"agent\",\n",
    "    # Next, we pass in the function that will determine which node is called next.\n",
    "    should_continue,\n",
    "    # Finally we pass in a mapping.\n",
    "    # The keys are strings, and the values are other nodes.\n",
    "    # END is a special node marking that the graph should finish.\n",
    "    # What will happen is we will call `should_continue`, and then the output of that\n",
    "    # will be matched against the keys in this mapping.\n",
    "    # Based on which one it matches, that node will then be called.\n",
    "    {\n",
    "        # If `tools`, then we call the tool node.\n",
    "        \"continue\": \"action\",\n",
    "        # Otherwise we finish.\n",
    "        \"end\": END,\n",
    "    },\n",
    ")\n",
    "\n",
    "# We now add a normal edge from `tools` to `agent`.\n",
    "# This means that after `tools` is called, `agent` node is called next.\n",
    "workflow.add_edge(\"action\", \"agent\")\n",
    "\n",
    "# Set up memory\n",
    "memory = MemorySaver()\n",
    "\n",
    "# Finally, we compile it!\n",
    "# This compiles it into a LangChain Runnable,\n",
    "# meaning you can use it as you would any other runnable\n",
    "\n",
    "# We add in `interrupt_before=[\"action\"]`\n",
    "# This will add a breakpoint before the `action` node is called\n",
    "app = workflow.compile(checkpointer=memory)"
   ],
   "outputs": [],
   "execution_count": 3
  },
  {
   "metadata": {
    "ExecuteTime": {
     "end_time": "2024-07-13T04:24:14.413048Z",
     "start_time": "2024-07-13T04:24:12.979555Z"
    }
   },
   "cell_type": "code",
   "source": "display(Image(app.get_graph().draw_mermaid_png()))",
   "id": "96eff668f6ab6e9c",
   "outputs": [
    {
     "data": {
      "image/jpeg": "[encoded data removed]",
      "text/plain": [
       "<IPython.core.display.Image object>"
      ]
     },
     "metadata": {},
     "output_type": "display_data"
    }
   ],
   "execution_count": 4
  },
  {
   "cell_type": "markdown",
   "id": "2a1b56c5-bd61-4192-8bdb-458a1e9f0159",
   "metadata": {},
   "source": [
    "## Interacting with the Agent\n",
    "\n",
    "We can now interact with the agent. Let's ask it for the weather in SF.\n"
   ]
  },
  {
   "cell_type": "code",
   "id": "cfd140f0-a5a6-4697-8115-322242f197b5",
   "metadata": {
    "ExecuteTime": {
     "end_time": "2024-07-13T04:24:15.858630Z",
     "start_time": "2024-07-13T04:24:14.414260Z"
    }
   },
   "source": [
    "from langchain_core.messages import HumanMessage\n",
    "\n",
    "config = {\"configurable\": {\"thread_id\": \"1\"}}\n",
    "input_message = HumanMessage(content=\"Use the search tool to look up the weather in SF\")\n",
    "for event in app.stream({\"messages\": [input_message]}, config, stream_mode=\"values\"):\n",
    "    event[\"messages\"][-1].pretty_print()"
   ],
   "outputs": [
    {
     "name": "stdout",
     "output_type": "stream",
     "text": [
      "================================\u001B[1m Human Message \u001B[0m=================================\n",
      "\n",
      "Use the search tool to look up the weather in SF\n"
     ]
    },
    {
     "name": "stderr",
     "output_type": "stream",
     "text": [
      "INFO:httpx:HTTP Request: POST https://api.openai.com/v1/chat/completions \"HTTP/1.1 200 OK\"\n"
     ]
    },
    {
     "name": "stdout",
     "output_type": "stream",
     "text": [
      "==================================\u001B[1m Ai Message \u001B[0m==================================\n",
      "Tool Calls:\n",
      "  search (call_ZJgYA7bwhuIXcS5IW80DzLjK)\n",
      " Call ID: call_ZJgYA7bwhuIXcS5IW80DzLjK\n",
      "  Args:\n",
      "    query: current weather in San Francisco\n",
      "=================================\u001B[1m Tool Message \u001B[0m=================================\n",
      "Name: search\n",
      "\n",
      "[\"It's sunny in San Francisco, but you better look out if you're a Gemini \\ud83d\\ude08.\"]\n"
     ]
    },
    {
     "name": "stderr",
     "output_type": "stream",
     "text": [
      "INFO:httpx:HTTP Request: POST https://api.openai.com/v1/chat/completions \"HTTP/1.1 200 OK\"\n"
     ]
    },
    {
     "name": "stdout",
     "output_type": "stream",
     "text": [
      "==================================\u001B[1m Ai Message \u001B[0m==================================\n",
      "\n",
      "The current weather in San Francisco is sunny. ☀️\n"
     ]
    }
   ],
   "execution_count": 5
  },
  {
   "cell_type": "markdown",
   "id": "1c38c505-6cee-427f-9dcd-493a2ade7ebb",
   "metadata": {},
   "source": [
    "## Checking history\n",
    "\n",
    "Let's browse the history of this thread, from start to finish."
   ]
  },
  {
   "cell_type": "code",
   "id": "8578a66d-6489-4e03-8c23-fd0530278455",
   "metadata": {
    "ExecuteTime": {
     "end_time": "2024-07-13T04:24:15.863744Z",
     "start_time": "2024-07-13T04:24:15.859412Z"
    }
   },
   "source": [
    "all_states = []\n",
    "for state in app.get_state_history(config):\n",
    "    print(state.next, state.values)\n",
    "    all_states.append(state)\n",
    "    print(\"--\")\n",
    "print(f\"number of states: {len(all_states)}\")"
   ],
   "outputs": [
    {
     "name": "stdout",
     "output_type": "stream",
     "text": [
      "('__start__',) {'messages': []}\n",
      "--\n",
      "('agent',) {'messages': [HumanMessage(content='Use the search tool to look up the weather in SF', id='6d6d486b-f8b6-4ee4-a51d-3264df7345c7')]}\n",
      "--\n",
      "('action',) {'messages': [HumanMessage(content='Use the search tool to look up the weather in SF', id='6d6d486b-f8b6-4ee4-a51d-3264df7345c7'), AIMessage(content='', additional_kwargs={'tool_calls': [{'id': 'call_ZJgYA7bwhuIXcS5IW80DzLjK', 'function': {'arguments': '{\"query\":\"current weather in San Francisco\"}', 'name': 'search'}, 'type': 'function'}]}, response_metadata={'token_usage': {'completion_tokens': 17, 'prompt_tokens': 53, 'total_tokens': 70}, 'model_name': 'gpt-4o-2024-05-13', 'system_fingerprint': 'fp_dd932ca5d1', 'finish_reason': 'tool_calls', 'logprobs': None}, id='run-4c2b0b32-2c5b-46b9-bc63-f8b5fbcd8405-0', tool_calls=[{'name': 'search', 'args': {'query': 'current weather in San Francisco'}, 'id': 'call_ZJgYA7bwhuIXcS5IW80DzLjK', 'type': 'tool_call'}], usage_metadata={'input_tokens': 53, 'output_tokens': 17, 'total_tokens': 70})]}\n",
      "--\n",
      "('agent',) {'messages': [HumanMessage(content='Use the search tool to look up the weather in SF', id='6d6d486b-f8b6-4ee4-a51d-3264df7345c7'), AIMessage(content='', additional_kwargs={'tool_calls': [{'id': 'call_ZJgYA7bwhuIXcS5IW80DzLjK', 'function': {'arguments': '{\"query\":\"current weather in San Francisco\"}', 'name': 'search'}, 'type': 'function'}]}, response_metadata={'token_usage': {'completion_tokens': 17, 'prompt_tokens': 53, 'total_tokens': 70}, 'model_name': 'gpt-4o-2024-05-13', 'system_fingerprint': 'fp_dd932ca5d1', 'finish_reason': 'tool_calls', 'logprobs': None}, id='run-4c2b0b32-2c5b-46b9-bc63-f8b5fbcd8405-0', tool_calls=[{'name': 'search', 'args': {'query': 'current weather in San Francisco'}, 'id': 'call_ZJgYA7bwhuIXcS5IW80DzLjK', 'type': 'tool_call'}], usage_metadata={'input_tokens': 53, 'output_tokens': 17, 'total_tokens': 70}), ToolMessage(content='[\"It\\'s sunny in San Francisco, but you better look out if you\\'re a Gemini \\\\ud83d\\\\ude08.\"]', name='search', id='0968569b-4688-4d03-a722-416522c639cc', tool_call_id='call_ZJgYA7bwhuIXcS5IW80DzLjK')]}\n",
      "--\n",
      "() {'messages': [HumanMessage(content='Use the search tool to look up the weather in SF', id='6d6d486b-f8b6-4ee4-a51d-3264df7345c7'), AIMessage(content='', additional_kwargs={'tool_calls': [{'id': 'call_ZJgYA7bwhuIXcS5IW80DzLjK', 'function': {'arguments': '{\"query\":\"current weather in San Francisco\"}', 'name': 'search'}, 'type': 'function'}]}, response_metadata={'token_usage': {'completion_tokens': 17, 'prompt_tokens': 53, 'total_tokens': 70}, 'model_name': 'gpt-4o-2024-05-13', 'system_fingerprint': 'fp_dd932ca5d1', 'finish_reason': 'tool_calls', 'logprobs': None}, id='run-4c2b0b32-2c5b-46b9-bc63-f8b5fbcd8405-0', tool_calls=[{'name': 'search', 'args': {'query': 'current weather in San Francisco'}, 'id': 'call_ZJgYA7bwhuIXcS5IW80DzLjK', 'type': 'tool_call'}], usage_metadata={'input_tokens': 53, 'output_tokens': 17, 'total_tokens': 70}), ToolMessage(content='[\"It\\'s sunny in San Francisco, but you better look out if you\\'re a Gemini \\\\ud83d\\\\ude08.\"]', name='search', id='0968569b-4688-4d03-a722-416522c639cc', tool_call_id='call_ZJgYA7bwhuIXcS5IW80DzLjK'), AIMessage(content='The current weather in San Francisco is sunny. ☀️', response_metadata={'token_usage': {'completion_tokens': 13, 'prompt_tokens': 102, 'total_tokens': 115}, 'model_name': 'gpt-4o-2024-05-13', 'system_fingerprint': 'fp_dd932ca5d1', 'finish_reason': 'stop', 'logprobs': None}, id='run-542c89ed-c465-4827-96f2-a7c42fdbf1b6-0', usage_metadata={'input_tokens': 102, 'output_tokens': 13, 'total_tokens': 115})]}\n",
      "--\n",
      "number of states: 5\n"
     ]
    }
   ],
   "execution_count": 6
  },
  {
   "cell_type": "markdown",
   "id": "0ec41c37-7c09-4cc7-8475-bf373fe66584",
   "metadata": {},
   "source": [
    "## Replay a state\n",
    "\n",
    "We can go back to any of these states and restart the agent from there! Let's go back to right before the tool call gets executed."
   ]
  },
  {
   "cell_type": "code",
   "id": "02250602-8c4a-4fb5-bd6c-d0b9046e8699",
   "metadata": {
    "ExecuteTime": {
     "end_time": "2024-07-13T04:24:15.866801Z",
     "start_time": "2024-07-13T04:24:15.865094Z"
    }
   },
   "source": "to_replay = all_states[2]",
   "outputs": [],
   "execution_count": 7
  },
  {
   "cell_type": "code",
   "id": "21e7fc18-6fd9-4e11-a84b-e0325c9640c8",
   "metadata": {
    "ExecuteTime": {
     "end_time": "2024-07-13T04:24:15.869539Z",
     "start_time": "2024-07-13T04:24:15.867405Z"
    }
   },
   "source": [
    "to_replay.values"
   ],
   "outputs": [
    {
     "data": {
      "text/plain": [
       "{'messages': [HumanMessage(content='Use the search tool to look up the weather in SF', id='6d6d486b-f8b6-4ee4-a51d-3264df7345c7'),\n",
       "  AIMessage(content='', additional_kwargs={'tool_calls': [{'id': 'call_ZJgYA7bwhuIXcS5IW80DzLjK', 'function': {'arguments': '{\"query\":\"current weather in San Francisco\"}', 'name': 'search'}, 'type': 'function'}]}, response_metadata={'token_usage': {'completion_tokens': 17, 'prompt_tokens': 53, 'total_tokens': 70}, 'model_name': 'gpt-4o-2024-05-13', 'system_fingerprint': 'fp_dd932ca5d1', 'finish_reason': 'tool_calls', 'logprobs': None}, id='run-4c2b0b32-2c5b-46b9-bc63-f8b5fbcd8405-0', tool_calls=[{'name': 'search', 'args': {'query': 'current weather in San Francisco'}, 'id': 'call_ZJgYA7bwhuIXcS5IW80DzLjK', 'type': 'tool_call'}], usage_metadata={'input_tokens': 53, 'output_tokens': 17, 'total_tokens': 70})]}"
      ]
     },
     "execution_count": 8,
     "metadata": {},
     "output_type": "execute_result"
    }
   ],
   "execution_count": 8
  },
  {
   "cell_type": "code",
   "id": "d4b01634-0041-4632-8d1f-5464580e54f5",
   "metadata": {
    "ExecuteTime": {
     "end_time": "2024-07-13T04:24:23.796972Z",
     "start_time": "2024-07-13T04:24:23.793769Z"
    }
   },
   "source": [
    "to_replay.next"
   ],
   "outputs": [
    {
     "data": {
      "text/plain": [
       "('action',)"
      ]
     },
     "execution_count": 9,
     "metadata": {},
     "output_type": "execute_result"
    }
   ],
   "execution_count": 9
  },
  {
   "cell_type": "markdown",
   "id": "29da43ea-9295-43e2-b164-0eb28d96749c",
   "metadata": {},
   "source": [
    "To replay from this place we just need to pass its config back to the agent. Notice that it just resumes from right where it left all - making a tool call."
   ]
  },
  {
   "cell_type": "code",
   "id": "e986f94f-706f-4b6f-b3c4-f95483b9e9b8",
   "metadata": {
    "ExecuteTime": {
     "end_time": "2024-07-13T04:24:25.444662Z",
     "start_time": "2024-07-13T04:24:24.537671Z"
    }
   },
   "source": [
    "for event in app.stream(None, to_replay.config):\n    for v in event.values():\n        print(v)"
   ],
   "outputs": [
    {
     "name": "stdout",
     "output_type": "stream",
     "text": [
      "{'messages': [ToolMessage(content='[\"It\\'s sunny in San Francisco, but you better look out if you\\'re a Gemini \\\\ud83d\\\\ude08.\"]', name='search', tool_call_id='call_ZJgYA7bwhuIXcS5IW80DzLjK')]}\n"
     ]
    },
    {
     "name": "stderr",
     "output_type": "stream",
     "text": [
      "INFO:httpx:HTTP Request: POST https://api.openai.com/v1/chat/completions \"HTTP/1.1 200 OK\"\n"
     ]
    },
    {
     "name": "stdout",
     "output_type": "stream",
     "text": [
      "{'messages': [AIMessage(content='The current weather in San Francisco is sunny. Enjoy the sunshine! ☀️', response_metadata={'token_usage': {'completion_tokens': 17, 'prompt_tokens': 102, 'total_tokens': 119}, 'model_name': 'gpt-4o-2024-05-13', 'system_fingerprint': 'fp_298125635f', 'finish_reason': 'stop', 'logprobs': None}, id='run-42fcd4ac-185d-4c69-af44-ebe75d5324f1-0', usage_metadata={'input_tokens': 102, 'output_tokens': 17, 'total_tokens': 119})]}\n"
     ]
    }
   ],
   "execution_count": 10
  },
  {
   "cell_type": "markdown",
   "id": "59910951-fae1-4475-8511-f622439b590d",
   "metadata": {},
   "source": [
    "## Branch off a past state\n",
    "\n",
    "Using LangGraph's checkpointing, you can do more than just replay past states. You can branch off previous locations to let the agent explore alternate trajectories or to let a user \"version control\" changes in a workflow.\n",
    "\n",
    "Let's show how to do this to edit the state at a particular point in time. Let's update the state to change the input to the tool"
   ]
  },
  {
   "cell_type": "code",
   "id": "fbd5ad3b-5363-4ab7-ac63-b04668bc998f",
   "metadata": {
    "ExecuteTime": {
     "end_time": "2024-07-13T04:28:37.233877Z",
     "start_time": "2024-07-13T04:28:37.226456Z"
    }
   },
   "source": [
    "# Let's now get the last message in the state\n",
    "# This is the one with the tool calls that we want to update\n",
    "last_message = to_replay.values[\"messages\"][-1]\n",
    "\n",
    "# Let's now update the args for that tool call\n",
    "last_message.tool_calls[0][\"args\"] = {\"query\": \"current weather in SF\"}\n",
    "\n",
    "branch_config = app.update_state(\n",
    "    to_replay.config,\n",
    "    {\"messages\": [last_message]},\n",
    ")"
   ],
   "outputs": [],
   "execution_count": 15
  },
  {
   "cell_type": "markdown",
   "id": "bced65eb-2158-43e6-a9e3-3b047c8d418e",
   "metadata": {},
   "source": [
    "We can then invoke with this new `branch_config` to resume running from here with changed state. We can see from the log that the tool was called with different input."
   ]
  },
  {
   "cell_type": "code",
   "id": "9a92d3da-62e2-45a2-8545-e4f6a64e0ffe",
   "metadata": {
    "ExecuteTime": {
     "end_time": "2024-07-13T04:28:39.236564Z",
     "start_time": "2024-07-13T04:28:38.606761Z"
    }
   },
   "source": [
    "for event in app.stream(None, branch_config):\n    for v in event.values():\n        print(v)"
   ],
   "outputs": [
    {
     "name": "stdout",
     "output_type": "stream",
     "text": [
      "{'messages': [ToolMessage(content='[\"It\\'s sunny in San Francisco, but you better look out if you\\'re a Gemini \\\\ud83d\\\\ude08.\"]', name='search', tool_call_id='call_ZJgYA7bwhuIXcS5IW80DzLjK')]}\n"
     ]
    },
    {
     "name": "stderr",
     "output_type": "stream",
     "text": [
      "INFO:httpx:HTTP Request: POST https://api.openai.com/v1/chat/completions \"HTTP/1.1 200 OK\"\n"
     ]
    },
    {
     "name": "stdout",
     "output_type": "stream",
     "text": [
      "{'messages': [AIMessage(content='The current weather in San Francisco is sunny. 🌞', response_metadata={'token_usage': {'completion_tokens': 12, 'prompt_tokens': 101, 'total_tokens': 113}, 'model_name': 'gpt-4o-2024-05-13', 'system_fingerprint': 'fp_d33f7b429e', 'finish_reason': 'stop', 'logprobs': None}, id='run-db467220-5c2c-4e17-8694-a54a102fc0f2-0', usage_metadata={'input_tokens': 101, 'output_tokens': 12, 'total_tokens': 113})]}\n"
     ]
    }
   ],
   "execution_count": 16
  },
  {
   "cell_type": "markdown",
   "id": "511e319e-d10d-4b04-a4e0-fc4f3d87cb23",
   "metadata": {},
   "source": [
    "Alternatively, we could update the state to not even call a tool!"
   ]
  },
  {
   "cell_type": "code",
   "id": "01abb480-df55-4eba-a2be-cf9372b60b54",
   "metadata": {
    "ExecuteTime": {
     "end_time": "2024-07-13T04:31:08.038932Z",
     "start_time": "2024-07-13T04:31:08.032435Z"
    }
   },
   "source": [
    "from langchain_core.messages import AIMessage\n",
    "\n",
    "# Let's now get the last message in the state\n",
    "# This is the one with the tool calls that we want to update\n",
    "last_message = to_replay.values[\"messages\"][-1]\n",
    "\n",
    "# Let's now get the ID for the last message, and create a new message with that ID.\n",
    "new_message = AIMessage(content=\"its warm!\", id=last_message.id)\n",
    "\n",
    "branch_config = app.update_state(\n",
    "    to_replay.config,\n",
    "    {\"messages\": [new_message]},\n",
    ")"
   ],
   "outputs": [],
   "execution_count": 17
  },
  {
   "cell_type": "code",
   "id": "1a7cfcd4-289e-419e-8b49-dfaef4f88641",
   "metadata": {
    "ExecuteTime": {
     "end_time": "2024-07-13T04:31:10.829388Z",
     "start_time": "2024-07-13T04:31:10.825920Z"
    }
   },
   "source": [
    "branch_state = app.get_state(branch_config)"
   ],
   "outputs": [],
   "execution_count": 18
  },
  {
   "cell_type": "code",
   "id": "5198f9c1-d2d4-458a-993d-3caa55810b1e",
   "metadata": {
    "ExecuteTime": {
     "end_time": "2024-07-13T04:31:35.072131Z",
     "start_time": "2024-07-13T04:31:35.068021Z"
    }
   },
   "source": [
    "branch_state.values"
   ],
   "outputs": [
    {
     "data": {
      "text/plain": [
       "{'messages': [HumanMessage(content='Use the search tool to look up the weather in SF', id='6d6d486b-f8b6-4ee4-a51d-3264df7345c7'),\n",
       "  AIMessage(content='its warm!', id='run-4c2b0b32-2c5b-46b9-bc63-f8b5fbcd8405-0')]}"
      ]
     },
     "execution_count": 19,
     "metadata": {},
     "output_type": "execute_result"
    }
   ],
   "execution_count": 19
  },
  {
   "cell_type": "code",
   "id": "5d89d55d-db84-4c2d-828b-64a29a69947b",
   "metadata": {
    "ExecuteTime": {
     "end_time": "2024-07-13T04:31:36.964899Z",
     "start_time": "2024-07-13T04:31:36.960548Z"
    }
   },
   "source": [
    "branch_state.next"
   ],
   "outputs": [
    {
     "data": {
      "text/plain": [
       "()"
      ]
     },
     "execution_count": 20,
     "metadata": {},
     "output_type": "execute_result"
    }
   ],
   "execution_count": 20
  },
  {
   "cell_type": "markdown",
   "id": "cc168c90-a374-4280-a9a6-8bc232dbb006",
   "metadata": {},
   "source": [
    "You can see the snapshot was updated and now correctly reflects that there is no next step."
   ]
  }
 ],
 "metadata": {
  "kernelspec": {
   "display_name": "Python 3 (ipykernel)",
   "language": "python",
   "name": "python3"
  },
  "language_info": {
   "codemirror_mode": {
    "name": "ipython",
    "version": 3
   },
   "file_extension": ".py",
   "mimetype": "text/x-python",
   "name": "python",
   "nbconvert_exporter": "python",
   "pygments_lexer": "ipython3",
   "version": "3.12.3"
  }
 },
 "nbformat": 4,
 "nbformat_minor": 5
}
