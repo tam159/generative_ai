{
 "cells": [
  {
   "cell_type": "markdown",
   "id": "1c161710-fc66-426f-8c96-28440b9c9626",
   "metadata": {},
   "source": [
    "# Reasoning without Observation\n",
    "\n",
    "In [ReWOO](https://arxiv.org/abs/2305.18323), Xu, et. al, propose an agent that combines a multi-step planner and variable substitution for effective tool use. It was designed to improve on the ReACT-style agent architecture in the following ways:\n",
    "\n",
    "1. Reduce token consumption and execution time by generating the full chain of tools used in a single pass. (_ReACT-style agent architecture requires many LLM calls with redundant prefixes (since the system prompt and previous steps are provided to the LLM for each reasoning step_)\n",
    "2. Simplify the fine-tuning process. Since the planning data doesn't depend on the outputs of the tool, models can be fine-tuned without actually invoking the tools (in theory).\n",
    "\n",
    "\n",
    "The following diagram outlines ReWOO's overall computation graph:\n",
    "\n",
    "![ReWoo Diagram](./img/rewoo.png)\n",
    "\n",
    "ReWOO is made of 3 modules:\n",
    "\n",
    "1. 🧠**Planner**: Generate the plan in the following format:\n",
    "```text\n",
    "Plan: <reasoning>\n",
    "#E1 = Tool[argument for tool]\n",
    "Plan: <reasoning>\n",
    "#E2 = Tool[argument for tool with #E1 variable substitution]\n",
    "...\n",
    "```\n",
    "3. **Worker**: executes the tool with the provided arguments.\n",
    "4. 🧠**Solver**: generates the answer for the initial task based on the tool observations.\n",
    "\n",
    "The modules with a 🧠 emoji depend on an LLM call. Notice that we avoid redundant calls to the planner LLM by using variable substitution.\n",
    "\n",
    "In this example, each module is represented by a LangGraph node. The end result will leave a trace that looks [like this one](https://smith.langchain.com/public/39dbdcf8-fbcc-4479-8e28-15377ca5e653/r). Let's get started!\n",
    "\n",
    "## 0. Prerequisites\n",
    "\n",
    "For this example, we will provide the agent with a Tavily search engine tool. You can get an API key [here](https://app.tavily.com/sign-in) or replace with a free tool option (e.g., [duck duck go search](https://python.langchain.com/docs/integrations/tools/ddg)).\n",
    "\n",
    "To see the full langsmith trace, you can s"
   ]
  },
  {
   "cell_type": "code",
   "execution_count": 1,
   "id": "7f52bded-9d23-4826-8bfc-20b0d3a51182",
   "metadata": {},
   "outputs": [],
   "source": [
    "# %pip install -U langgraph langchain_community langchain_openai tavily-python"
   ]
  },
  {
   "cell_type": "code",
   "execution_count": 2,
   "id": "4215f9fb-71ff-4d88-8484-f73174db5592",
   "metadata": {},
   "outputs": [],
   "source": [
    "# import os\n",
    "# import getpass\n",
    "\n",
    "\n",
    "# def _set_if_undefined(var: str):\n",
    "#     if not os.environ.get(var):\n",
    "#         os.environ[var] = getpass.getpass(f\"{var}=\")\n",
    "\n",
    "\n",
    "# os.environ[\"LANGCHAIN_TRACING_V2\"] = \"true\"\n",
    "# os.environ[\"LANGCHAIN_PROJECT\"] = \"ReWOO\"\n",
    "# _set_if_undefined(\"TAVILY_API_KEY\")\n",
    "# _set_if_undefined(\"LANGCHAIN_API_KEY\")\n",
    "# _set_if_undefined(\"OPENAI_API_KEY\")"
   ]
  },
  {
   "metadata": {
    "ExecuteTime": {
     "end_time": "2024-05-23T07:52:06.228811Z",
     "start_time": "2024-05-23T07:52:06.222474Z"
    }
   },
   "cell_type": "code",
   "source": [
    "import os\n",
    "import logging\n",
    "from dotenv import load_dotenv"
   ],
   "id": "15422c92c3b7012f",
   "outputs": [],
   "execution_count": 1
  },
  {
   "metadata": {
    "ExecuteTime": {
     "end_time": "2024-05-23T07:52:12.087158Z",
     "start_time": "2024-05-23T07:52:12.082075Z"
    }
   },
   "cell_type": "code",
   "source": [
    "logging.basicConfig(level=logging.INFO)\n",
    "log = logging.getLogger(__name__)\n",
    "\n",
    "load_dotenv()"
   ],
   "id": "ce5681567236af04",
   "outputs": [
    {
     "data": {
      "text/plain": [
       "True"
      ]
     },
     "execution_count": 2,
     "metadata": {},
     "output_type": "execute_result"
    }
   ],
   "execution_count": 2
  },
  {
   "cell_type": "markdown",
   "id": "55239a14-a14d-4117-adb5-07199e1e5e16",
   "metadata": {},
   "source": [
    "**Graph State**: In LangGraph, every node updates a shared graph state. The state is the input to any node whenever it is invoked.\n",
    "\n",
    "Below, we will define a state dict to contain the task, plan, steps, and other variables."
   ]
  },
  {
   "cell_type": "code",
   "id": "9a92c875-c20b-4b7e-9d88-61c62382f8e2",
   "metadata": {
    "ExecuteTime": {
     "end_time": "2024-05-23T07:54:47.638235Z",
     "start_time": "2024-05-23T07:54:47.636057Z"
    }
   },
   "source": [
    "from typing import TypedDict, List\n",
    "\n",
    "\n",
    "class ReWOO(TypedDict):\n",
    "    task: str\n",
    "    plan_string: str\n",
    "    steps: List\n",
    "    results: dict\n",
    "    result: str"
   ],
   "outputs": [],
   "execution_count": 3
  },
  {
   "cell_type": "markdown",
   "id": "997f9181-41c0-4c44-937d-94bd3946a929",
   "metadata": {},
   "source": [
    "## 1. Planner\n",
    "\n",
    "The planner prompts an LLM to generate a plan in the form of a task list. The arguments to each task are strings that may contain special variables (`#E{0-9}+`) that are used for variable substitution from other task results.\n",
    "\n",
    "\n",
    "![ReWOO workflow](./img/rewoo-paper-workflow.png)\n",
    "\n",
    "Our example agent will have two tools: \n",
    "1. Google - a search engine (in this case Tavily)\n",
    "2. LLM - an LLM call to reason about previous outputs.\n",
    "\n",
    "The LLM tool receives less of the prompt context and so can be more token-efficient than the ReACT paradigm."
   ]
  },
  {
   "cell_type": "code",
   "id": "c8836921-c89e-42b6-8c71-27aeaeac5368",
   "metadata": {
    "ExecuteTime": {
     "end_time": "2024-05-23T08:13:56.412882Z",
     "start_time": "2024-05-23T08:13:56.394278Z"
    }
   },
   "source": [
    "from langchain_openai import ChatOpenAI\n",
    "\n",
    "model = ChatOpenAI(temperature=0)"
   ],
   "outputs": [],
   "execution_count": 69
  },
  {
   "cell_type": "code",
   "id": "7e7faa92-30a1-4942-b3c7-acd3a7bfccbc",
   "metadata": {
    "ExecuteTime": {
     "end_time": "2024-05-23T08:13:56.769551Z",
     "start_time": "2024-05-23T08:13:56.767234Z"
    }
   },
   "source": [
    "prompt = \"\"\"For the following task, make plans that can solve the problem step by step. For each plan, indicate \\\n",
    "which external tool together with tool input to retrieve evidence. You can store the evidence into a \\\n",
    "variable #E that can be called by later tools. (Plan, #E1, Plan, #E2, Plan, ...)\n",
    "\n",
    "Tools can be one of the following:\n",
    "(1) Google[input]: Worker that searches results from Google. Useful when you need to find short\n",
    "and succinct answers about a specific topic. The input should be a search query.\n",
    "(2) LLM[input]: A pretrained LLM like yourself. Useful when you need to act with general\n",
    "world knowledge and common sense. Prioritize it when you are confident in solving the problem\n",
    "yourself. Input can be any instruction.\n",
    "\n",
    "For example,\n",
    "Task: Thomas, Toby, and Rebecca worked a total of 157 hours in one week. Thomas worked x\n",
    "hours. Toby worked 10 hours less than twice what Thomas worked, and Rebecca worked 8 hours\n",
    "less than Toby. How many hours did Rebecca work?\n",
    "Plan: Given Thomas worked x hours, translate the problem into algebraic expressions and solve\n",
    "with Wolfram Alpha. #E1 = WolframAlpha[Solve x + (2x − 10) + ((2x − 10) − 8) = 157]\n",
    "Plan: Find out the number of hours Thomas worked. #E2 = LLM[What is x, given #E1]\n",
    "Plan: Calculate the number of hours Rebecca worked. #E3 = Calculator[(2 ∗ #E2 − 10) − 8]\n",
    "\n",
    "Begin! \n",
    "Describe your plans with rich details. Each Plan should be followed by only one #E.\n",
    "\n",
    "Task: {task}\"\"\""
   ],
   "outputs": [],
   "execution_count": 70
  },
  {
   "cell_type": "code",
   "id": "72b4ab0f-7215-4f4b-9407-0ebad8b13b92",
   "metadata": {
    "ExecuteTime": {
     "end_time": "2024-05-23T08:13:57.120861Z",
     "start_time": "2024-05-23T08:13:57.116722Z"
    }
   },
   "source": [
    "task = \"what is the hometown of the 2024 australian open winner\""
   ],
   "outputs": [],
   "execution_count": 71
  },
  {
   "cell_type": "code",
   "id": "56ecb45b-ea76-4303-a4f3-51406fe8312a",
   "metadata": {
    "ExecuteTime": {
     "end_time": "2024-05-23T08:13:59.481708Z",
     "start_time": "2024-05-23T08:13:57.770505Z"
    }
   },
   "source": [
    "result = model.invoke(prompt.format(task=task))"
   ],
   "outputs": [
    {
     "name": "stderr",
     "output_type": "stream",
     "text": [
      "INFO:httpx:HTTP Request: POST https://api.openai.com/v1/chat/completions \"HTTP/1.1 200 OK\"\n"
     ]
    }
   ],
   "execution_count": 72
  },
  {
   "cell_type": "code",
   "id": "8a733caa-d75b-422c-93aa-6ad913c995f3",
   "metadata": {
    "ExecuteTime": {
     "end_time": "2024-05-23T08:14:01.271729Z",
     "start_time": "2024-05-23T08:14:01.269764Z"
    }
   },
   "source": [
    "print(result.content)"
   ],
   "outputs": [
    {
     "name": "stdout",
     "output_type": "stream",
     "text": [
      "Plan: Use Google to search for the winner of the 2024 Australian Open. #E1 = Google[2024 Australian Open winner]\n",
      "Plan: Once the winner is identified, search for their hometown using Google. #E2 = Google[hometown of 2024 Australian Open winner]\n"
     ]
    }
   ],
   "execution_count": 73
  },
  {
   "cell_type": "markdown",
   "id": "37166985-5bec-4615-bd40-54d16fd7b4ea",
   "metadata": {},
   "source": [
    "#### Planner Node\n",
    "\n",
    "To connect the planner to our graph, we will create a `get_plan` node that accepts the `ReWOO` state and returns with a state update for the\n",
    "`steps` and `plan_string` fields."
   ]
  },
  {
   "cell_type": "code",
   "id": "f9f042b6-90d8-430f-abf3-04ad2bb047c7",
   "metadata": {
    "ExecuteTime": {
     "end_time": "2024-05-23T08:14:07.930343Z",
     "start_time": "2024-05-23T08:14:07.927978Z"
    }
   },
   "source": [
    "import re\n",
    "from langchain_core.prompts import ChatPromptTemplate\n",
    "\n",
    "# Regex to match expressions of the form E#... = ...[...]\n",
    "regex_pattern = r\"Plan:\\s*(.+)\\s*(#E\\d+)\\s*=\\s*(\\w+)\\s*\\[([^\\]]+)\\]\"\n",
    "prompt_template = ChatPromptTemplate.from_messages([(\"user\", prompt)])\n",
    "planner = prompt_template | model\n",
    "\n",
    "\n",
    "def get_plan(state: ReWOO):\n",
    "    task = state[\"task\"]\n",
    "    result = planner.invoke({\"task\": task})\n",
    "    # Find all matches in the sample text\n",
    "    matches = re.findall(regex_pattern, result.content)\n",
    "    return {\"steps\": matches, \"plan_string\": result.content}"
   ],
   "outputs": [],
   "execution_count": 74
  },
  {
   "cell_type": "markdown",
   "id": "0d97942f-27d3-4761-b6cc-6614dbb90c77",
   "metadata": {},
   "source": [
    "## 2. Executor\n",
    "\n",
    "The executor receives the plan and executes the tools in sequence.\n",
    "\n",
    "Below, instantiate the search engine and define the toole execution node."
   ]
  },
  {
   "cell_type": "code",
   "id": "3412cfc4-6796-4295-aea4-7eeb304e10bd",
   "metadata": {
    "ExecuteTime": {
     "end_time": "2024-05-23T08:14:08.449405Z",
     "start_time": "2024-05-23T08:14:08.447371Z"
    }
   },
   "source": [
    "from langchain_community.tools.tavily_search import TavilySearchResults\n",
    "\n",
    "search = TavilySearchResults()"
   ],
   "outputs": [],
   "execution_count": 75
  },
  {
   "cell_type": "code",
   "id": "aa96fbac-28bc-4afe-ae35-ddb3383d1147",
   "metadata": {
    "ExecuteTime": {
     "end_time": "2024-05-23T08:14:08.867907Z",
     "start_time": "2024-05-23T08:14:08.865163Z"
    }
   },
   "source": [
    "def _get_current_task(state: ReWOO):\n",
    "    if state[\"results\"] is None:\n",
    "        return 1\n",
    "    if len(state[\"results\"]) == len(state[\"steps\"]):\n",
    "        return None\n",
    "    else:\n",
    "        return len(state[\"results\"]) + 1\n",
    "\n",
    "\n",
    "def tool_execution(state: ReWOO):\n",
    "    \"\"\"Worker node that executes the tools of a given plan.\"\"\"\n",
    "    _step = _get_current_task(state)\n",
    "    _, step_name, tool, tool_input = state[\"steps\"][_step - 1]\n",
    "    _results = state[\"results\"] or {}\n",
    "    for k, v in _results.items():\n",
    "        tool_input = tool_input.replace(k, v)\n",
    "    if tool == \"Google\":\n",
    "        result = search.invoke(tool_input)\n",
    "    elif tool == \"LLM\":\n",
    "        result = model.invoke(tool_input)\n",
    "    else:\n",
    "        raise ValueError\n",
    "    _results[step_name] = str(result)\n",
    "    return {\"results\": _results}"
   ],
   "outputs": [],
   "execution_count": 76
  },
  {
   "cell_type": "markdown",
   "id": "28e20b31-d721-470d-94d2-db0c177fae75",
   "metadata": {},
   "source": [
    "## 3. Solver\n",
    "\n",
    "The solver receives the full plan and generates the final response based on the responses of the tool calls from the worker."
   ]
  },
  {
   "cell_type": "code",
   "id": "0a4d9851-8590-42be-8c53-9969ebff85f4",
   "metadata": {
    "ExecuteTime": {
     "end_time": "2024-05-23T08:14:09.378611Z",
     "start_time": "2024-05-23T08:14:09.375994Z"
    }
   },
   "source": [
    "solve_prompt = \"\"\"Solve the following task or problem. To solve the problem, we have made step-by-step Plan and \\\n",
    "retrieved corresponding Evidence to each Plan. Use them with caution since long evidence might \\\n",
    "contain irrelevant information.\n",
    "\n",
    "{plan}\n",
    "\n",
    "Now solve the question or task according to provided Evidence above. Respond with the answer\n",
    "directly with no extra words.\n",
    "\n",
    "Task: {task}\n",
    "Response:\"\"\"\n",
    "\n",
    "\n",
    "def solve(state: ReWOO):\n",
    "    plan = \"\"\n",
    "    for _plan, step_name, tool, tool_input in state[\"steps\"]:\n",
    "        _results = state[\"results\"] or {}\n",
    "        for k, v in _results.items():\n",
    "            tool_input = tool_input.replace(k, v)\n",
    "            step_name = step_name.replace(k, v)\n",
    "        plan += f\"Plan: {_plan}\\n{step_name} = {tool}[{tool_input}]\"\n",
    "    prompt = solve_prompt.format(plan=plan, task=state[\"task\"])\n",
    "    result = model.invoke(prompt)\n",
    "    return {\"result\": result.content}"
   ],
   "outputs": [],
   "execution_count": 77
  },
  {
   "cell_type": "markdown",
   "id": "8ce26c3f-6ced-4a91-a9f2-d0bc235e4010",
   "metadata": {},
   "source": [
    "## 4. Define Graph\n",
    "\n",
    "Our graph defines the workflow. Each of the planner, tool executor, and solver modules are added as nodes."
   ]
  },
  {
   "cell_type": "code",
   "id": "73b235d7-fa83-4e84-9f2e-2908f16deb26",
   "metadata": {
    "ExecuteTime": {
     "end_time": "2024-05-23T08:14:10.313228Z",
     "start_time": "2024-05-23T08:14:10.311335Z"
    }
   },
   "source": [
    "def _route(state):\n",
    "    _step = _get_current_task(state)\n",
    "    if _step is None:\n",
    "        # We have executed all tasks\n",
    "        return \"solve\"\n",
    "    else:\n",
    "        # We are still executing tasks, loop back to the \"tool\" node\n",
    "        return \"tool\""
   ],
   "outputs": [],
   "execution_count": 78
  },
  {
   "cell_type": "code",
   "id": "cf173aa1-ce31-4dca-8111-30c91e209652",
   "metadata": {
    "ExecuteTime": {
     "end_time": "2024-05-23T08:14:10.810204Z",
     "start_time": "2024-05-23T08:14:10.807277Z"
    }
   },
   "source": [
    "from langgraph.graph import StateGraph, END\n",
    "\n",
    "graph = StateGraph(ReWOO)\n",
    "graph.add_node(\"plan\", get_plan)\n",
    "graph.add_node(\"tool\", tool_execution)\n",
    "graph.add_node(\"solve\", solve)\n",
    "graph.add_edge(\"plan\", \"tool\")\n",
    "graph.add_edge(\"solve\", END)\n",
    "graph.add_conditional_edges(\"tool\", _route)\n",
    "graph.set_entry_point(\"plan\")\n",
    "\n",
    "app = graph.compile()"
   ],
   "outputs": [],
   "execution_count": 79
  },
  {
   "metadata": {
    "ExecuteTime": {
     "end_time": "2024-05-23T08:14:11.665854Z",
     "start_time": "2024-05-23T08:14:11.544956Z"
    }
   },
   "cell_type": "code",
   "source": [
    "from IPython.display import Image, display\n",
    "\n",
    "display(Image(app.get_graph(xray=True).draw_mermaid_png()))"
   ],
   "id": "598ca77c8773d53",
   "outputs": [
    {
     "data": {
      "image/jpeg": "[encoded data removed]",
      "text/plain": [
       "<IPython.core.display.Image object>"
      ]
     },
     "metadata": {},
     "output_type": "display_data"
    }
   ],
   "execution_count": 80
  },
  {
   "cell_type": "code",
   "id": "badaca52-5d55-433f-8770-1bd50c10bf7f",
   "metadata": {
    "ExecuteTime": {
     "end_time": "2024-05-23T08:14:18.374907Z",
     "start_time": "2024-05-23T08:14:12.606052Z"
    }
   },
   "source": [
    "for s in app.stream({\"task\": task}):\n",
    "    print(s)\n",
    "    print(\"---\")"
   ],
   "outputs": [
    {
     "name": "stderr",
     "output_type": "stream",
     "text": [
      "INFO:httpx:HTTP Request: POST https://api.openai.com/v1/chat/completions \"HTTP/1.1 200 OK\"\n"
     ]
    },
    {
     "name": "stdout",
     "output_type": "stream",
     "text": [
      "{'plan': {'plan_string': 'Plan: Use Google to search for the winner of the 2024 Australian Open. #E1 = Google[2024 Australian Open winner]\\nPlan: Use Google to search for the hometown of the 2024 Australian Open winner. #E2 = Google[hometown of 2024 Australian Open winner]', 'steps': [('Use Google to search for the winner of the 2024 Australian Open. ', '#E1', 'Google', '2024 Australian Open winner'), ('Use Google to search for the hometown of the 2024 Australian Open winner. ', '#E2', 'Google', 'hometown of 2024 Australian Open winner')]}}\n",
      "---\n",
      "{'tool': {'results': {'#E1': '[{\\'url\\': \\'https://au.sports.yahoo.com/tennis-alex-de-minaur-hits-brilliant-new-high-bad-news-katie-boulter-miami-open-210420537.html\\', \\'content\\': \"March 25, 2024 Alex de Minaur\\'s record vs. Top 30 players entering this year: 35-63 (35.7%)He is 9-4 (69.2%) against such opponents in 2024 pic.twitter.com/tO6jglIo7y — Mario Boccardi (@marioboc17) March 25, 2024 Alex de Minaur to face Alexei Popyrin conqueror Fellow Sydneysiders Alexei Popyrin and Chris O\\'Connell also won in straight sets at Miami Gardens on Sunday, meaning three Australians made the third round of the ATP Masters 1000 event. 🇩🇪 Jan-Lenard Struff (24) #TheFirstServe 📺 Tennis TV ⤵️ pic.twitter.com/4jfNWe5evT — The First Serve (@TheFirstServeAU) March 24, 2024 Aryna Sabalenka exits Miami Open in emotional scenes There were sad and emotional scenes for Aryna Sabalenka on Saturday when the World No.2 exited the tournament at the hands of Ukrainian Anhelina Kalinina. Sabalenka had kept her emotions in check all tournament after the death of her former boyfriend, but the 6-4 1-6 6-1 win for the 36th-ranked Kalinina prompted Sabalenka to smash her racquet violently into the court.  RELATED: Simona Halep fires back after eye-opening claims from Caroline Wozniacki Novak Djokovic in surprise announcement after Indian Wells loss Sabalenka issued a brief statement on March 20 saying her “heart was broken” by the “unthinkable tragedy”, but has otherwise remained out of the spotlight and hasn\\'t been doing any media in Miami. Ninth seed Alex de Minaur and Alexei Popyrin are into the third round, with No.24 seed Jan-Lennard Struff and Fabian Marozsan to come, respectively, for the chance to join O’Connell in the last 16 at #MiamiOpen — Marc McGowan 🗣✍️👨🏻\\\\u200d💻📰 (@ByMarcMcGowan)\"}, {\\'url\\': \\'https://au.sports.yahoo.com/six-australians-win-french-open-003610691.html\\', \\'content\\': \"Taylah Preston beat Croatian Tara Wurth 6-2 6-4, Astra Sharma advanced with a 2-6 7-6 (7-4) 6-2 victory over German Ella Seidel, Olivia Gadecki outclassed American Mccartney Kessler 7-6 (7-4) 6-1 and Priscilla Hon defeated German veteran Mona Barthel 7-6 (7-5) 6-3.  Tu rallied from a set down to beat Brit Oliver Crawford 6-7 (4-7) 6-4 6-2 in his quest to make the main draw of the clay-court grand slam starting on Sunday.  Kim Birrell, who qualified last year, led five Aussie women into round two of the preliminary event with a 2-6 6-0 6-3 comeback win over Russian Polena Kudermetova on Tuesday (Wednesday AEST).  Six Australians win French Open qualifying matches Six more Australian tennis players remain in the hunt for French Open main-draw starts after successfully winning through to the second round of qualifying in Paris.  Li Tu is the only Australian remaining in the men\\'s qualifying event after Omar Jasika, Dane Sweeny, Marc Polmans and third seed James Duckworth were all eliminated in roune one. \"}, {\\'url\\': \\'https://au.sports.yahoo.com/aussies-gadecki-sharma-home-french-234631513.html\\', \\'content\\': \\'While Gadecki and Sharma were the only survivors from nine Australians who entered the women\\\\\\'s qualifying, none of their men\\\\\\'s counterparts got through, with Adelaide\\\\\\'s Li Tu the last to depart in the second round on Wednesday, beaten by Kazakhstan\\\\\\'s Mikhail Kukushkin 6-4 6-2.  May 22, 2024 The biggest international name to get knocked out was Austria\\\\\\'s two-time finalist Dominic Thiem, who announced earlier in the month this Roland Garros quest would be his last because he\\\\\\'ll be retiring at the end of the season following his struggles to get back to his best after a wrist injury.  Aussies Gadecki and Sharma home in on French Open spots Olivia Gadecki and Astra Sharma will be out to double the Australian women\\\\\\'s representation in the French Open main draw after setting up final qualifying matches at Roland Garros.  But in the cut-throat qualifying draw on the Roland Garros clay, rising star Gadecki and former WTA tournament winner Sharma both enjoyed their second wins of the week on Wednesday (Thursday AEST) to set up third-round \"finals\\\\\\'\\\\\\'.  Perth\\\\\\'s Sharma, whose Charleston Open triumph in 2021 came on clay, will face Olga Danilovic, the Serbian 11th qualifying seed, on Thursday (Friday AEST), with the winner earning a place in the 128-player main draw. \\'}, {\\'url\\': \\'https://www.bozemandailychronicle.com/ap_news/sports/french-open-2024-novak-djokovic-and-iga-swiatek-are-the-defending-champions-at-roland-garros/article_a200a51a-1c8f-564d-b784-f6e032897220.html\\', \\'content\\': \"Novak Djokovic and Iga Swiatek are the defending champions at Roland Garros Play begins at the French Open in Paris on Sunday FILE - A ball rests on the court of the French Open tennis tournament at the Roland Garros stadium in Paris, Saturday, June 3, 2023.  PARIS (AP) — A glance at the French Open, the second Grand Slam tennis tournament of 2024: Surface Red clay Site Roland Garros Schedule Play begins Sunday and lasts 15 days. 2023 Women\\'s Singles Champion Iga Swiatek, Poland 2023 Men\\'s Singles Champion Novak Djokovic, Spain Last Year Swiatek got past Karolina Muchova 6-2, 5-7, 6-4 for a third career championship at the French Open and fourth Grand Slam title overall. Log In Invalid password or account does not exist Sign in with Reset Password Submitting this form below will send a message to your email with a link to change your password.  Sign Up Account processing issue - the email address may already exist Sign up with You\\'re all set! \"}, {\\'url\\': \\'https://apnews.com/article/miami-open-tennis-danielle-collins-retiring-833161aba94be46e9d10a6b9909eb125\\', \\'content\\': \\'Easter 2024 Danielle Collins wins Miami Open on her final try, topping Elena Rybakina in straight sets Danielle Collins hits a return to Elena Rybakina, of Kazakhstan, during the women’s singles final of the Miami Open tennis tournament, Saturday, March 30, 2024, in Miami Gardens, Fla. (AP Photo/Lynne Sladky) Danielle Collins serves to Elena Rybakina, of Kazakhstan, during the women’s singles final of the Miami Open tennis tournament, Saturday, March 30, 2024, in Miami Gardens, Fla. (AP Photo/Lynne Sladky) Elena Rybakina, of Kazakhstan, prepares to hit a return to Danielle Collins during the women’s singles final of the Miami Open tennis tournament, Saturday, March 30, 2024, in Miami Gardens, Fla. (AP Photo/Lynne Sladky) Elena Rybakina, of Kazakhstan, follows through on a serve to Danielle Collins during the women’s singles final of the Miami Open tennis tournament, Saturday, March 30, 2024, in Miami Gardens, Fla. (AP Photo/Lynne Sladky) Danielle Collins can’t get to a ball hit by Elena Rybakina, of Kazakhstan, during the women’s singles final of the Miami Open tennis tournament, Saturday, March 30, 2024, in Miami Gardens, Fla. (AP Photo/Lynne Sladky) MIAMI GARDENS, Fla. (AP) — Danielle Collins had the perfect send-off at her final Miami Open, beating Elena Rybakina 7-5, 6-3 on Saturday to capture the title in her home state before an adoring crowd that included Andre Agassi and Martina Navratilova.  Ranked No. 53 and unseeded, Collins was animated throughout the two-hour match against the fourth-ranked Rybakina, pumping her fist and staring up at the crowd that featured a big American flag early in the third row. In the men’s doubles final Saturday, top-seeded Rohan Bopanna and Matt Ebden beat Ivan Dodig and Austin Krajicek, 6-7, 6-3 (6), with the title decided on a 10-point tiebreaker. ___ AP tennis: https://apnews.com/hub/tennis  The 30-year-old Collins announced at the Australian Open that this season would be her last because she’s suffering from endometriosis, a painful ailment that affects the uterus.  Collins finally seized the set as the Kazakh player nervously poked a backhand deep on the third set point. \\'}]'}}}\n",
      "---\n",
      "{'tool': {'results': {'#E1': '[{\\'url\\': \\'https://au.sports.yahoo.com/tennis-alex-de-minaur-hits-brilliant-new-high-bad-news-katie-boulter-miami-open-210420537.html\\', \\'content\\': \"March 25, 2024 Alex de Minaur\\'s record vs. Top 30 players entering this year: 35-63 (35.7%)He is 9-4 (69.2%) against such opponents in 2024 pic.twitter.com/tO6jglIo7y — Mario Boccardi (@marioboc17) March 25, 2024 Alex de Minaur to face Alexei Popyrin conqueror Fellow Sydneysiders Alexei Popyrin and Chris O\\'Connell also won in straight sets at Miami Gardens on Sunday, meaning three Australians made the third round of the ATP Masters 1000 event. 🇩🇪 Jan-Lenard Struff (24) #TheFirstServe 📺 Tennis TV ⤵️ pic.twitter.com/4jfNWe5evT — The First Serve (@TheFirstServeAU) March 24, 2024 Aryna Sabalenka exits Miami Open in emotional scenes There were sad and emotional scenes for Aryna Sabalenka on Saturday when the World No.2 exited the tournament at the hands of Ukrainian Anhelina Kalinina. Sabalenka had kept her emotions in check all tournament after the death of her former boyfriend, but the 6-4 1-6 6-1 win for the 36th-ranked Kalinina prompted Sabalenka to smash her racquet violently into the court.  RELATED: Simona Halep fires back after eye-opening claims from Caroline Wozniacki Novak Djokovic in surprise announcement after Indian Wells loss Sabalenka issued a brief statement on March 20 saying her “heart was broken” by the “unthinkable tragedy”, but has otherwise remained out of the spotlight and hasn\\'t been doing any media in Miami. Ninth seed Alex de Minaur and Alexei Popyrin are into the third round, with No.24 seed Jan-Lennard Struff and Fabian Marozsan to come, respectively, for the chance to join O’Connell in the last 16 at #MiamiOpen — Marc McGowan 🗣✍️👨🏻\\\\u200d💻📰 (@ByMarcMcGowan)\"}, {\\'url\\': \\'https://au.sports.yahoo.com/six-australians-win-french-open-003610691.html\\', \\'content\\': \"Taylah Preston beat Croatian Tara Wurth 6-2 6-4, Astra Sharma advanced with a 2-6 7-6 (7-4) 6-2 victory over German Ella Seidel, Olivia Gadecki outclassed American Mccartney Kessler 7-6 (7-4) 6-1 and Priscilla Hon defeated German veteran Mona Barthel 7-6 (7-5) 6-3.  Tu rallied from a set down to beat Brit Oliver Crawford 6-7 (4-7) 6-4 6-2 in his quest to make the main draw of the clay-court grand slam starting on Sunday.  Kim Birrell, who qualified last year, led five Aussie women into round two of the preliminary event with a 2-6 6-0 6-3 comeback win over Russian Polena Kudermetova on Tuesday (Wednesday AEST).  Six Australians win French Open qualifying matches Six more Australian tennis players remain in the hunt for French Open main-draw starts after successfully winning through to the second round of qualifying in Paris.  Li Tu is the only Australian remaining in the men\\'s qualifying event after Omar Jasika, Dane Sweeny, Marc Polmans and third seed James Duckworth were all eliminated in roune one. \"}, {\\'url\\': \\'https://au.sports.yahoo.com/aussies-gadecki-sharma-home-french-234631513.html\\', \\'content\\': \\'While Gadecki and Sharma were the only survivors from nine Australians who entered the women\\\\\\'s qualifying, none of their men\\\\\\'s counterparts got through, with Adelaide\\\\\\'s Li Tu the last to depart in the second round on Wednesday, beaten by Kazakhstan\\\\\\'s Mikhail Kukushkin 6-4 6-2.  May 22, 2024 The biggest international name to get knocked out was Austria\\\\\\'s two-time finalist Dominic Thiem, who announced earlier in the month this Roland Garros quest would be his last because he\\\\\\'ll be retiring at the end of the season following his struggles to get back to his best after a wrist injury.  Aussies Gadecki and Sharma home in on French Open spots Olivia Gadecki and Astra Sharma will be out to double the Australian women\\\\\\'s representation in the French Open main draw after setting up final qualifying matches at Roland Garros.  But in the cut-throat qualifying draw on the Roland Garros clay, rising star Gadecki and former WTA tournament winner Sharma both enjoyed their second wins of the week on Wednesday (Thursday AEST) to set up third-round \"finals\\\\\\'\\\\\\'.  Perth\\\\\\'s Sharma, whose Charleston Open triumph in 2021 came on clay, will face Olga Danilovic, the Serbian 11th qualifying seed, on Thursday (Friday AEST), with the winner earning a place in the 128-player main draw. \\'}, {\\'url\\': \\'https://www.bozemandailychronicle.com/ap_news/sports/french-open-2024-novak-djokovic-and-iga-swiatek-are-the-defending-champions-at-roland-garros/article_a200a51a-1c8f-564d-b784-f6e032897220.html\\', \\'content\\': \"Novak Djokovic and Iga Swiatek are the defending champions at Roland Garros Play begins at the French Open in Paris on Sunday FILE - A ball rests on the court of the French Open tennis tournament at the Roland Garros stadium in Paris, Saturday, June 3, 2023.  PARIS (AP) — A glance at the French Open, the second Grand Slam tennis tournament of 2024: Surface Red clay Site Roland Garros Schedule Play begins Sunday and lasts 15 days. 2023 Women\\'s Singles Champion Iga Swiatek, Poland 2023 Men\\'s Singles Champion Novak Djokovic, Spain Last Year Swiatek got past Karolina Muchova 6-2, 5-7, 6-4 for a third career championship at the French Open and fourth Grand Slam title overall. Log In Invalid password or account does not exist Sign in with Reset Password Submitting this form below will send a message to your email with a link to change your password.  Sign Up Account processing issue - the email address may already exist Sign up with You\\'re all set! \"}, {\\'url\\': \\'https://apnews.com/article/miami-open-tennis-danielle-collins-retiring-833161aba94be46e9d10a6b9909eb125\\', \\'content\\': \\'Easter 2024 Danielle Collins wins Miami Open on her final try, topping Elena Rybakina in straight sets Danielle Collins hits a return to Elena Rybakina, of Kazakhstan, during the women’s singles final of the Miami Open tennis tournament, Saturday, March 30, 2024, in Miami Gardens, Fla. (AP Photo/Lynne Sladky) Danielle Collins serves to Elena Rybakina, of Kazakhstan, during the women’s singles final of the Miami Open tennis tournament, Saturday, March 30, 2024, in Miami Gardens, Fla. (AP Photo/Lynne Sladky) Elena Rybakina, of Kazakhstan, prepares to hit a return to Danielle Collins during the women’s singles final of the Miami Open tennis tournament, Saturday, March 30, 2024, in Miami Gardens, Fla. (AP Photo/Lynne Sladky) Elena Rybakina, of Kazakhstan, follows through on a serve to Danielle Collins during the women’s singles final of the Miami Open tennis tournament, Saturday, March 30, 2024, in Miami Gardens, Fla. (AP Photo/Lynne Sladky) Danielle Collins can’t get to a ball hit by Elena Rybakina, of Kazakhstan, during the women’s singles final of the Miami Open tennis tournament, Saturday, March 30, 2024, in Miami Gardens, Fla. (AP Photo/Lynne Sladky) MIAMI GARDENS, Fla. (AP) — Danielle Collins had the perfect send-off at her final Miami Open, beating Elena Rybakina 7-5, 6-3 on Saturday to capture the title in her home state before an adoring crowd that included Andre Agassi and Martina Navratilova.  Ranked No. 53 and unseeded, Collins was animated throughout the two-hour match against the fourth-ranked Rybakina, pumping her fist and staring up at the crowd that featured a big American flag early in the third row. In the men’s doubles final Saturday, top-seeded Rohan Bopanna and Matt Ebden beat Ivan Dodig and Austin Krajicek, 6-7, 6-3 (6), with the title decided on a 10-point tiebreaker. ___ AP tennis: https://apnews.com/hub/tennis  The 30-year-old Collins announced at the Australian Open that this season would be her last because she’s suffering from endometriosis, a painful ailment that affects the uterus.  Collins finally seized the set as the Kazakh player nervously poked a backhand deep on the third set point. \\'}]', '#E2': '[{\\'url\\': \\'https://uk.sports.yahoo.com/news/winner-bag-peter-malnati-2024-215846949.html\\', \\'content\\': \\'Top Leagues Top Clubs Top Leagues Top Clubs AFC AFC North AFC South AFC East AFC West NFC NFC East NFC North NFC South NFC West Winner’s Bag: Peter Malnati, 2024 Valspar Championship A complete list of the golf equipment Peter Malnati used to win the PGA Tour’s 2024 Valspar Championship: DRIVER: Titleist Pro V1x Yellow Story originally appeared on GolfWeek Latest stories The debutant did his hopes the world of good, but the defender may have seen his go up in smoke Childhood fan who is dying of pancreatic cancer managed the home side to victory over Ajax at Anfield in a legends match Explore the secret behind doubling your investments with these top 5 stock recommendations from industry-leading experts.  The Scot is through to the third round of the Miami Open after victory over Tomas Martin Etcheverry Play in Miami was suspended with the scored tied in the first set Saka is battling to be fit for Manchester City showdown after withdrawing from England duty England take on Belgium at Wembley in the second of two pre-Euro 2024 friendlies during this international window.  Sanibel, Island | Florida Gulf Coast Sven-Goran Eriksson inspires an incredible turnaround on an emotional day at Anfield In the week that Owen Farrell appeared to leave the door ajar for a future England return, the Saracens captain produced the kind of bristling, dominant all-court display in this statement victory that leaves his club and country in no doubt what they will be missing when he departs for Racing 92 for two years next season.  Follow live updates from the Australian Grand Prix as Verstappen and Hamilton retire in Melbourne The British 18-year-old was back in Formula 2 action at the Australian Grand Prix in Melbourne The 27-year-old will meet WTA Tour veteran Victoria Azarenka in the fourth round. \\'}, {\\'url\\': \\'https://au.sports.yahoo.com/tennis-alex-de-minaur-hits-brilliant-new-high-bad-news-katie-boulter-miami-open-210420537.html\\', \\'content\\': \"March 25, 2024 Alex de Minaur\\'s record vs. Top 30 players entering this year: 35-63 (35.7%)He is 9-4 (69.2%) against such opponents in 2024 pic.twitter.com/tO6jglIo7y — Mario Boccardi (@marioboc17) March 25, 2024 Alex de Minaur to face Alexei Popyrin conqueror Fellow Sydneysiders Alexei Popyrin and Chris O\\'Connell also won in straight sets at Miami Gardens on Sunday, meaning three Australians made the third round of the ATP Masters 1000 event. 🇩🇪 Jan-Lenard Struff (24) #TheFirstServe 📺 Tennis TV ⤵️ pic.twitter.com/4jfNWe5evT — The First Serve (@TheFirstServeAU) March 24, 2024 Aryna Sabalenka exits Miami Open in emotional scenes There were sad and emotional scenes for Aryna Sabalenka on Saturday when the World No.2 exited the tournament at the hands of Ukrainian Anhelina Kalinina. Sabalenka had kept her emotions in check all tournament after the death of her former boyfriend, but the 6-4 1-6 6-1 win for the 36th-ranked Kalinina prompted Sabalenka to smash her racquet violently into the court.  RELATED: Simona Halep fires back after eye-opening claims from Caroline Wozniacki Novak Djokovic in surprise announcement after Indian Wells loss Sabalenka issued a brief statement on March 20 saying her “heart was broken” by the “unthinkable tragedy”, but has otherwise remained out of the spotlight and hasn\\'t been doing any media in Miami. Ninth seed Alex de Minaur and Alexei Popyrin are into the third round, with No.24 seed Jan-Lennard Struff and Fabian Marozsan to come, respectively, for the chance to join O’Connell in the last 16 at #MiamiOpen — Marc McGowan 🗣✍️👨🏻\\\\u200d💻📰 (@ByMarcMcGowan)\"}, {\\'url\\': \\'https://au.sports.yahoo.com/aussies-gadecki-sharma-home-french-234631513.html\\', \\'content\\': \\'While Gadecki and Sharma were the only survivors from nine Australians who entered the women\\\\\\'s qualifying, none of their men\\\\\\'s counterparts got through, with Adelaide\\\\\\'s Li Tu the last to depart in the second round on Wednesday, beaten by Kazakhstan\\\\\\'s Mikhail Kukushkin 6-4 6-2.  May 22, 2024 The biggest international name to get knocked out was Austria\\\\\\'s two-time finalist Dominic Thiem, who announced earlier in the month this Roland Garros quest would be his last because he\\\\\\'ll be retiring at the end of the season following his struggles to get back to his best after a wrist injury.  Aussies Gadecki and Sharma home in on French Open spots Olivia Gadecki and Astra Sharma will be out to double the Australian women\\\\\\'s representation in the French Open main draw after setting up final qualifying matches at Roland Garros.  But in the cut-throat qualifying draw on the Roland Garros clay, rising star Gadecki and former WTA tournament winner Sharma both enjoyed their second wins of the week on Wednesday (Thursday AEST) to set up third-round \"finals\\\\\\'\\\\\\'.  Perth\\\\\\'s Sharma, whose Charleston Open triumph in 2021 came on clay, will face Olga Danilovic, the Serbian 11th qualifying seed, on Thursday (Friday AEST), with the winner earning a place in the 128-player main draw. \\'}, {\\'url\\': \\'https://au.sports.yahoo.com/form-alex-minaur-wins-again-230437828.html\\', \\'content\\': \\'In-form Alex de Minaur wins again at Miami Open Alex de Minaur\\\\\\'s impressive start to 2024 goes on, Australia\\\\\\'s men\\\\\\'s No.1 racking up his 19th singles win of the season to set up a Miami Open round-of-16 showdown with Hungarian hitman Fabian Marozsan.  The ninth-seeded de Minaur got the better of Germany\\\\\\'s Jan-Lennard \\\\xa0Struff 7-6 (7-3) 6-4 in windy conditions on Monday, facing just one break point despite making only 48 per cent of his first serves.  \" Zverev will next face 15th seed Karen Khachanov, who converted his fifth match point for a 6-1 5-7 7-6 (7-5) win over Argentine 20th seed Francisco Cerundolo. - with AP TRENDING \" Demon on the rise in The Magic City 😈@alexdeminaur sets up a fourth round clash against Marozsan, after seeing off Struff 7-6(3) 6-4.@MiamiOpen | #MiamiOpen pic.twitter.com/vKiQAjU8nN — ATP Tour (@atptour) March 25, 2024  He will next face Marozsan, who followed up his shock defeat of world No.7 Holger Rune in the round of 64 by knocking out Australia\\\\\\'s Alexei Popyrin in straight sets on Monday 7-5 6-3. \\'}, {\\'url\\': \\'https://au.sports.yahoo.com/six-australians-win-french-open-003610691.html\\', \\'content\\': \"Taylah Preston beat Croatian Tara Wurth 6-2 6-4, Astra Sharma advanced with a 2-6 7-6 (7-4) 6-2 victory over German Ella Seidel, Olivia Gadecki outclassed American Mccartney Kessler 7-6 (7-4) 6-1 and Priscilla Hon defeated German veteran Mona Barthel 7-6 (7-5) 6-3.  Tu rallied from a set down to beat Brit Oliver Crawford 6-7 (4-7) 6-4 6-2 in his quest to make the main draw of the clay-court grand slam starting on Sunday.  Kim Birrell, who qualified last year, led five Aussie women into round two of the preliminary event with a 2-6 6-0 6-3 comeback win over Russian Polena Kudermetova on Tuesday (Wednesday AEST).  Six Australians win French Open qualifying matches Six more Australian tennis players remain in the hunt for French Open main-draw starts after successfully winning through to the second round of qualifying in Paris.  Li Tu is the only Australian remaining in the men\\'s qualifying event after Omar Jasika, Dane Sweeny, Marc Polmans and third seed James Duckworth were all eliminated in roune one. \"}]'}}}\n",
      "---\n"
     ]
    },
    {
     "name": "stderr",
     "output_type": "stream",
     "text": [
      "INFO:httpx:HTTP Request: POST https://api.openai.com/v1/chat/completions \"HTTP/1.1 200 OK\"\n"
     ]
    },
    {
     "name": "stdout",
     "output_type": "stream",
     "text": [
      "{'solve': {'result': 'The hometown of the 2024 Australian Open winner is Sanibel Island, Florida Gulf Coast.'}}\n",
      "---\n"
     ]
    }
   ],
   "execution_count": 81
  },
  {
   "cell_type": "code",
   "id": "70e5aa0f-4d8b-4f65-817a-1c4ebf07d07a",
   "metadata": {
    "ExecuteTime": {
     "end_time": "2024-05-23T08:14:22.161637Z",
     "start_time": "2024-05-23T08:14:22.154404Z"
    }
   },
   "source": [
    "# Print out the final result\n",
    "print(s[END][\"result\"])"
   ],
   "outputs": [
    {
     "ename": "KeyError",
     "evalue": "'__end__'",
     "output_type": "error",
     "traceback": [
      "\u001B[0;31m---------------------------------------------------------------------------\u001B[0m",
      "\u001B[0;31mKeyError\u001B[0m                                  Traceback (most recent call last)",
      "Cell \u001B[0;32mIn[82], line 2\u001B[0m\n\u001B[1;32m      1\u001B[0m \u001B[38;5;66;03m# Print out the final result\u001B[39;00m\n\u001B[0;32m----> 2\u001B[0m \u001B[38;5;28mprint\u001B[39m(\u001B[43ms\u001B[49m\u001B[43m[\u001B[49m\u001B[43mEND\u001B[49m\u001B[43m]\u001B[49m[\u001B[38;5;124m\"\u001B[39m\u001B[38;5;124mresult\u001B[39m\u001B[38;5;124m\"\u001B[39m])\n",
      "\u001B[0;31mKeyError\u001B[0m: '__end__'"
     ]
    }
   ],
   "execution_count": 82
  },
  {
   "cell_type": "markdown",
   "id": "842954d7-0de0-4876-be63-46b4e14157b0",
   "metadata": {},
   "source": [
    "## Conclusion\n",
    "\n",
    "Congratulations on implementing ReWOO! Before you leave, I'll leave you with a couple limitations of the current implementation from the paper:\n",
    "\n",
    "1. If little context of the environment is available, the planner will be ineffective in its tool use. This can typically be ameliorated through few-shot prompting and/or fine-tuning.\n",
    "2. The tasks are still executed in sequence, meaning the total execution time is impacted by _every_ tool call, not just he longest-running in a given step."
   ]
  }
 ],
 "metadata": {
  "kernelspec": {
   "display_name": "Python 3 (ipykernel)",
   "language": "python",
   "name": "python3"
  },
  "language_info": {
   "codemirror_mode": {
    "name": "ipython",
    "version": 3
   },
   "file_extension": ".py",
   "mimetype": "text/x-python",
   "name": "python",
   "nbconvert_exporter": "python",
   "pygments_lexer": "ipython3",
   "version": "3.11.2"
  }
 },
 "nbformat": 4,
 "nbformat_minor": 5
}
