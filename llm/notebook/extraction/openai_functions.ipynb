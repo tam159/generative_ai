{
 "cells": [
  {
   "cell_type": "code",
   "execution_count": 1,
   "id": "initial_id",
   "metadata": {
    "collapsed": true,
    "ExecuteTime": {
     "end_time": "2024-01-09T08:13:12.670557Z",
     "start_time": "2024-01-09T08:13:11.015761Z"
    }
   },
   "outputs": [],
   "source": [
    "import os\n",
    "import logging\n",
    "from dotenv import load_dotenv\n",
    "import json\n",
    "from pprint import pprint\n",
    "\n",
    "from typing import Optional, Sequence, List\n",
    "\n",
    "# from openai import OpenAI\n",
    "from langsmith import Client\n",
    "\n",
    "from langchain.chains import create_extraction_chain\n",
    "from langchain_openai import ChatOpenAI, OpenAI\n",
    "\n",
    "from langchain.chains import create_extraction_chain_pydantic\n",
    "from langchain_core.pydantic_v1 import BaseModel as BaseModel1, Field as Field1\n",
    "\n",
    "from pydantic import BaseModel as BaseModel2, Field as Field2, validator\n",
    "from langchain.output_parsers import PydanticOutputParser\n",
    "from langchain.prompts import PromptTemplate"
   ]
  },
  {
   "cell_type": "code",
   "outputs": [
    {
     "data": {
      "text/plain": "True"
     },
     "execution_count": 2,
     "metadata": {},
     "output_type": "execute_result"
    }
   ],
   "source": [
    "logging.basicConfig(level=logging.INFO)\n",
    "log = logging.getLogger(__name__)\n",
    "\n",
    "load_dotenv()"
   ],
   "metadata": {
    "collapsed": false,
    "ExecuteTime": {
     "end_time": "2024-01-09T08:13:16.868793Z",
     "start_time": "2024-01-09T08:13:16.813236Z"
    }
   },
   "id": "a94145cbf77f891a",
   "execution_count": 2
  },
  {
   "cell_type": "code",
   "outputs": [],
   "source": [
    "openai_api_key = os.getenv(\"OPENAI_API_KEY\")\n",
    "serpapi_api_key = os.getenv(\"SERPAPI_API_KEY\")\n",
    "langchain_api_url = os.getenv(\"LANGCHAIN_ENDPOINT\")\n",
    "langchain_api_key = os.getenv(\"LANGCHAIN_API_KEY\")"
   ],
   "metadata": {
    "collapsed": false,
    "ExecuteTime": {
     "end_time": "2024-01-09T08:13:16.982798Z",
     "start_time": "2024-01-09T08:13:16.973006Z"
    }
   },
   "id": "75fb6ac769d58ca",
   "execution_count": 3
  },
  {
   "cell_type": "code",
   "outputs": [],
   "source": [
    "openai_client = OpenAI(api_key=openai_api_key)"
   ],
   "metadata": {
    "collapsed": false,
    "ExecuteTime": {
     "end_time": "2024-01-09T08:13:17.211569Z",
     "start_time": "2024-01-09T08:13:17.179608Z"
    }
   },
   "id": "dd363502f78a874d",
   "execution_count": 4
  },
  {
   "cell_type": "code",
   "outputs": [],
   "source": [
    "langsmith_client = Client(api_url=langchain_api_url, api_key=langchain_api_key)"
   ],
   "metadata": {
    "collapsed": false,
    "ExecuteTime": {
     "end_time": "2024-01-09T08:13:18.060516Z",
     "start_time": "2024-01-09T08:13:18.051253Z"
    }
   },
   "id": "b2211b0ca732bab8",
   "execution_count": 5
  },
  {
   "cell_type": "code",
   "outputs": [],
   "source": [
    "llm3_turbo = ChatOpenAI(\n",
    "    openai_api_key=openai_api_key, model_name=\"gpt-3.5-turbo\", temperature=0.0\n",
    ")"
   ],
   "metadata": {
    "collapsed": false,
    "ExecuteTime": {
     "end_time": "2024-01-09T08:13:19.388410Z",
     "start_time": "2024-01-09T08:13:19.343089Z"
    }
   },
   "id": "fb0bf355ea50916f",
   "execution_count": 6
  },
  {
   "cell_type": "code",
   "outputs": [],
   "source": [
    "llm3_1106 = ChatOpenAI(\n",
    "    openai_api_key=openai_api_key, model_name=\"gpt-3.5-turbo-1106\", temperature=0.0\n",
    ")"
   ],
   "metadata": {
    "collapsed": false,
    "ExecuteTime": {
     "end_time": "2024-01-09T08:13:19.873446Z",
     "start_time": "2024-01-09T08:13:19.851381Z"
    }
   },
   "id": "51e72324b6d4adb4",
   "execution_count": 7
  },
  {
   "cell_type": "code",
   "outputs": [],
   "source": [
    "llm4_turbo = ChatOpenAI(\n",
    "    openai_api_key=openai_api_key,\n",
    "    temperature=0.0,\n",
    "    model_name=\"gpt-4-1106-preview\"\n",
    ")"
   ],
   "metadata": {
    "collapsed": false,
    "ExecuteTime": {
     "end_time": "2024-01-09T08:13:20.116739Z",
     "start_time": "2024-01-09T08:13:20.091404Z"
    }
   },
   "id": "d2723a413f853dc2",
   "execution_count": 8
  },
  {
   "cell_type": "code",
   "outputs": [],
   "source": [
    "model_names = [\"gpt-4-1106-preview\", \"gpt-3.5-turbo-1106\", \"gpt-3.5-turbo\"]"
   ],
   "metadata": {
    "collapsed": false,
    "ExecuteTime": {
     "end_time": "2024-01-09T08:13:22.014427Z",
     "start_time": "2024-01-09T08:13:21.989265Z"
    }
   },
   "id": "9ddf9de9638ae0b1",
   "execution_count": 9
  },
  {
   "cell_type": "markdown",
   "source": [
    "# OpenAI Function"
   ],
   "metadata": {
    "collapsed": false
   },
   "id": "d938dfff92ed3f61"
  },
  {
   "cell_type": "markdown",
   "source": [
    "## Schema Dict"
   ],
   "metadata": {
    "collapsed": false
   },
   "id": "d582ebc9a8a18de1"
  },
  {
   "cell_type": "code",
   "outputs": [],
   "source": [
    "schema = {\n",
    "    \"properties\": {\n",
    "        \"name\": {\"type\": \"string\"},\n",
    "        \"height\": {\"type\": \"integer\"},\n",
    "        \"hair_color\": {\"type\": \"string\"},\n",
    "    },\n",
    "    \"required\": [\"name\", \"height\"],\n",
    "}"
   ],
   "metadata": {
    "collapsed": false,
    "ExecuteTime": {
     "end_time": "2024-01-07T15:09:30.762547Z",
     "start_time": "2024-01-07T15:09:30.751817Z"
    }
   },
   "id": "baf16e4c2811d7a",
   "execution_count": 10
  },
  {
   "cell_type": "code",
   "outputs": [],
   "source": [
    "inp = \"\"\"Alex is 5 feet tall. Claudia is 1 feet taller Alex and jumps higher than him. Claudia is a brunette and Alex is blonde.\"\"\""
   ],
   "metadata": {
    "collapsed": false,
    "ExecuteTime": {
     "end_time": "2024-01-06T04:17:36.494821Z",
     "start_time": "2024-01-06T04:17:36.490902Z"
    }
   },
   "id": "d83d06db71c4bd72",
   "execution_count": 27
  },
  {
   "cell_type": "code",
   "outputs": [],
   "source": [
    "chain4 = create_extraction_chain(schema, llm4_turbo)"
   ],
   "metadata": {
    "collapsed": false,
    "ExecuteTime": {
     "end_time": "2024-01-06T04:17:36.661785Z",
     "start_time": "2024-01-06T04:17:36.657373Z"
    }
   },
   "id": "a76ff035906b9618",
   "execution_count": 28
  },
  {
   "cell_type": "code",
   "outputs": [
    {
     "name": "stderr",
     "output_type": "stream",
     "text": [
      "INFO:httpx:HTTP Request: POST https://api.openai.com/v1/chat/completions \"HTTP/1.1 200 OK\"\n"
     ]
    }
   ],
   "source": [
    "result = chain4.invoke(inp)"
   ],
   "metadata": {
    "collapsed": false,
    "ExecuteTime": {
     "end_time": "2024-01-06T04:17:38.767435Z",
     "start_time": "2024-01-06T04:17:37.060584Z"
    }
   },
   "id": "9d75227e29b8d45e",
   "execution_count": 29
  },
  {
   "cell_type": "code",
   "outputs": [
    {
     "name": "stdout",
     "output_type": "stream",
     "text": [
      "input\n",
      "Alex is 5 feet tall. Claudia is 1 feet taller Alex and jumps higher than him. Claudia is a brunette and Alex is blonde.\n",
      "\n",
      "\n",
      "text\n",
      "{'name': 'Alex', 'height': 5, 'hair_color': 'blonde'}\n",
      "{'name': 'Claudia', 'height': 6, 'hair_color': 'brunette'}\n"
     ]
    }
   ],
   "source": [
    "for k, v in result.items():\n",
    "    print(k)\n",
    "    if isinstance(v, list):\n",
    "        for item in v:\n",
    "            print(item)\n",
    "    else:\n",
    "        print(v)\n",
    "    print(\"\\n\")"
   ],
   "metadata": {
    "collapsed": false,
    "ExecuteTime": {
     "end_time": "2024-01-06T04:17:39.478932Z",
     "start_time": "2024-01-06T04:17:39.472011Z"
    }
   },
   "id": "4733748019637dc2",
   "execution_count": 30
  },
  {
   "cell_type": "code",
   "outputs": [],
   "source": [
    "chain31 = create_extraction_chain(schema, llm3_1106)"
   ],
   "metadata": {
    "collapsed": false,
    "ExecuteTime": {
     "end_time": "2024-01-06T04:24:38.765063Z",
     "start_time": "2024-01-06T04:24:38.758215Z"
    }
   },
   "id": "df991f7367bd9b",
   "execution_count": 44
  },
  {
   "cell_type": "code",
   "outputs": [
    {
     "name": "stderr",
     "output_type": "stream",
     "text": [
      "INFO:httpx:HTTP Request: POST https://api.openai.com/v1/chat/completions \"HTTP/1.1 200 OK\"\n"
     ]
    },
    {
     "name": "stdout",
     "output_type": "stream",
     "text": [
      "input\n",
      "Alex is 5 feet tall. Claudia is 1 feet taller Alex and jumps higher than him. Claudia is a brunette and Alex is blonde.\n",
      "\n",
      "\n",
      "text\n",
      "{'name': 'Alex', 'height': 5}\n",
      "{'name': 'Claudia', 'height': 6, 'hair_color': 'brunette'}\n"
     ]
    }
   ],
   "source": [
    "result = chain31.invoke(inp)\n",
    "for k, v in result.items():\n",
    "    print(k)\n",
    "    if isinstance(v, list):\n",
    "        for item in v:\n",
    "            print(item)\n",
    "    else:\n",
    "        print(v)\n",
    "    print(\"\\n\")"
   ],
   "metadata": {
    "collapsed": false,
    "ExecuteTime": {
     "end_time": "2024-01-06T04:24:40.278028Z",
     "start_time": "2024-01-06T04:24:39.039510Z"
    }
   },
   "id": "48df9c41cf6a2271",
   "execution_count": 45
  },
  {
   "cell_type": "code",
   "outputs": [],
   "source": [
    "chain3t = create_extraction_chain(schema, llm3_turbo)"
   ],
   "metadata": {
    "collapsed": false,
    "ExecuteTime": {
     "end_time": "2024-01-06T04:25:05.275010Z",
     "start_time": "2024-01-06T04:25:05.269077Z"
    }
   },
   "id": "9e7eac70f4d50c72",
   "execution_count": 48
  },
  {
   "cell_type": "code",
   "outputs": [
    {
     "name": "stderr",
     "output_type": "stream",
     "text": [
      "INFO:httpx:HTTP Request: POST https://api.openai.com/v1/chat/completions \"HTTP/1.1 200 OK\"\n"
     ]
    },
    {
     "name": "stdout",
     "output_type": "stream",
     "text": [
      "input\n",
      "Alex is 5 feet tall. Claudia is 1 feet taller Alex and jumps higher than him. Claudia is a brunette and Alex is blonde.\n",
      "\n",
      "\n",
      "text\n",
      "{'name': 'Alex', 'height': 5, 'hair_color': 'blonde'}\n",
      "{'name': 'Claudia', 'height': 6, 'hair_color': 'brunette'}\n"
     ]
    }
   ],
   "source": [
    "result = chain3t.invoke(inp)\n",
    "for k, v in result.items():\n",
    "    print(k)\n",
    "    if isinstance(v, list):\n",
    "        for item in v:\n",
    "            print(item)\n",
    "    else:\n",
    "        print(v)\n",
    "    print(\"\\n\")"
   ],
   "metadata": {
    "collapsed": false,
    "ExecuteTime": {
     "end_time": "2024-01-06T04:25:07.126233Z",
     "start_time": "2024-01-06T04:25:05.654940Z"
    }
   },
   "id": "1a71e90074042963",
   "execution_count": 49
  },
  {
   "cell_type": "code",
   "outputs": [],
   "source": [
    "schema = {\n",
    "    \"properties\": {\n",
    "        \"person_name\": {\"type\": \"string\"},\n",
    "        \"person_height\": {\"type\": \"integer\"},\n",
    "        \"person_hair_color\": {\"type\": \"string\"},\n",
    "        \"dog_name\": {\"type\": \"string\"},\n",
    "        \"dog_breed\": {\"type\": \"string\"},\n",
    "    },\n",
    "    \"required\": [\"person_name\", \"person_height\"],\n",
    "}"
   ],
   "metadata": {
    "collapsed": false,
    "ExecuteTime": {
     "end_time": "2024-01-06T04:27:54.300041Z",
     "start_time": "2024-01-06T04:27:54.284273Z"
    }
   },
   "id": "cea2e1f892ee07b0",
   "execution_count": 62
  },
  {
   "cell_type": "code",
   "outputs": [],
   "source": [
    "inp = \"\"\"Alex is 5 feet tall. Claudia is 1 feet taller Alex and jumps higher than him. Claudia is a brunette and Alex is blonde.\n",
    "Alex's dog Frosty is a labrador and likes to play hide and seek.\"\"\""
   ],
   "metadata": {
    "collapsed": false,
    "ExecuteTime": {
     "end_time": "2024-01-06T04:27:55.134330Z",
     "start_time": "2024-01-06T04:27:55.129893Z"
    }
   },
   "id": "b4b7ebb68a935b4e",
   "execution_count": 63
  },
  {
   "cell_type": "code",
   "outputs": [
    {
     "name": "stderr",
     "output_type": "stream",
     "text": [
      "INFO:httpx:HTTP Request: POST https://api.openai.com/v1/chat/completions \"HTTP/1.1 200 OK\"\n"
     ]
    },
    {
     "name": "stdout",
     "output_type": "stream",
     "text": [
      "input\n",
      "Alex is 5 feet tall. Claudia is 1 feet taller Alex and jumps higher than him. Claudia is a brunette and Alex is blonde.\n",
      "Alex's dog Frosty is a labrador and likes to play hide and seek.\n",
      "\n",
      "\n",
      "text\n",
      "{'person_name': 'Alex', 'person_height': 60, 'person_hair_color': 'blonde'}\n",
      "{'person_name': 'Claudia', 'person_height': 72, 'person_hair_color': 'brunette'}\n",
      "{'person_name': 'Alex', 'dog_name': 'Frosty', 'dog_breed': 'labrador'}\n"
     ]
    },
    {
     "name": "stderr",
     "output_type": "stream",
     "text": [
      "INFO:httpx:HTTP Request: POST https://api.openai.com/v1/chat/completions \"HTTP/1.1 200 OK\"\n"
     ]
    },
    {
     "name": "stdout",
     "output_type": "stream",
     "text": [
      "input\n",
      "Alex is 5 feet tall. Claudia is 1 feet taller Alex and jumps higher than him. Claudia is a brunette and Alex is blonde.\n",
      "Alex's dog Frosty is a labrador and likes to play hide and seek.\n",
      "\n",
      "\n",
      "text\n",
      "{'person_name': 'Alex', 'person_height': 5, 'person_hair_color': 'blonde', 'dog_name': 'Frosty', 'dog_breed': 'labrador'}\n",
      "{'person_name': 'Claudia', 'person_height': 6, 'person_hair_color': 'brunette'}\n"
     ]
    },
    {
     "name": "stderr",
     "output_type": "stream",
     "text": [
      "INFO:httpx:HTTP Request: POST https://api.openai.com/v1/chat/completions \"HTTP/1.1 200 OK\"\n"
     ]
    },
    {
     "name": "stdout",
     "output_type": "stream",
     "text": [
      "input\n",
      "Alex is 5 feet tall. Claudia is 1 feet taller Alex and jumps higher than him. Claudia is a brunette and Alex is blonde.\n",
      "Alex's dog Frosty is a labrador and likes to play hide and seek.\n",
      "\n",
      "\n",
      "text\n",
      "{'person_name': 'Alex', 'person_height': 5, 'person_hair_color': 'blonde', 'dog_name': 'Frosty', 'dog_breed': 'labrador'}\n",
      "{'person_name': 'Claudia', 'person_height': 6, 'person_hair_color': 'brunette'}\n"
     ]
    }
   ],
   "source": [
    "for model_name in model_names:\n",
    "    llm = ChatOpenAI(openai_api_key=openai_api_key, model_name=model_name, temperature=0.0)\n",
    "    result = create_extraction_chain(schema, llm).invoke(inp)\n",
    "    for k, v in result.items():\n",
    "        print(k)\n",
    "        if isinstance(v, list):\n",
    "            for item in v:\n",
    "                print(item)\n",
    "        else:\n",
    "            print(v)\n",
    "        print(\"\\n\")\n",
    "    print(\"\\n\\n\")"
   ],
   "metadata": {
    "collapsed": false,
    "ExecuteTime": {
     "end_time": "2024-01-06T04:32:07.710983Z",
     "start_time": "2024-01-06T04:32:00.040929Z"
    }
   },
   "id": "797a3b40bc3fef95",
   "execution_count": 68
  },
  {
   "cell_type": "code",
   "outputs": [],
   "source": [
    "schema = {\n",
    "    \"properties\": {\n",
    "        \"person_name\": {\"type\": \"string\"},\n",
    "        \"person_height\": {\"type\": \"integer\"},\n",
    "        \"person_hair_color\": {\"type\": \"string\"},\n",
    "        \"dog_name\": {\"type\": \"string\"},\n",
    "        \"dog_breed\": {\"type\": \"string\"},\n",
    "    },\n",
    "    \"required\": [],\n",
    "}\n",
    "inp = \"\"\"Alex is 5 feet tall. Claudia is 1 feet taller Alex and jumps higher than him. Claudia is a brunette and Alex is blonde.\n",
    "Willow is a German Shepherd that likes to play with other dogs and can always be found playing with Milo, a border collie that lives close by.\"\"\""
   ],
   "metadata": {
    "collapsed": false,
    "ExecuteTime": {
     "end_time": "2024-01-06T08:34:39.302967Z",
     "start_time": "2024-01-06T08:34:39.294821Z"
    }
   },
   "id": "ed54b562cfc4a282",
   "execution_count": 71
  },
  {
   "cell_type": "code",
   "outputs": [
    {
     "name": "stderr",
     "output_type": "stream",
     "text": [
      "INFO:httpx:HTTP Request: POST https://api.openai.com/v1/chat/completions \"HTTP/1.1 200 OK\"\n"
     ]
    },
    {
     "name": "stdout",
     "output_type": "stream",
     "text": [
      "input\n",
      "Alex is 5 feet tall. Claudia is 1 feet taller Alex and jumps higher than him. Claudia is a brunette and Alex is blonde.\n",
      "Willow is a German Shepherd that likes to play with other dogs and can always be found playing with Milo, a border collie that lives close by.\n",
      "\n",
      "\n",
      "text\n",
      "{'person_name': 'Alex', 'person_height': 60, 'person_hair_color': 'blonde'}\n",
      "{'person_name': 'Claudia', 'person_height': 72, 'person_hair_color': 'brunette'}\n",
      "{'dog_name': 'Willow', 'dog_breed': 'German Shepherd'}\n",
      "{'dog_name': 'Milo', 'dog_breed': 'border collie'}\n"
     ]
    },
    {
     "name": "stderr",
     "output_type": "stream",
     "text": [
      "INFO:httpx:HTTP Request: POST https://api.openai.com/v1/chat/completions \"HTTP/1.1 200 OK\"\n"
     ]
    },
    {
     "name": "stdout",
     "output_type": "stream",
     "text": [
      "input\n",
      "Alex is 5 feet tall. Claudia is 1 feet taller Alex and jumps higher than him. Claudia is a brunette and Alex is blonde.\n",
      "Willow is a German Shepherd that likes to play with other dogs and can always be found playing with Milo, a border collie that lives close by.\n",
      "\n",
      "\n",
      "text\n",
      "{'person_name': 'Alex', 'person_height': 5, 'person_hair_color': 'blonde'}\n",
      "{'person_name': 'Claudia', 'person_height': 6, 'person_hair_color': 'brunette'}\n",
      "{'dog_name': 'Willow', 'dog_breed': 'German Shepherd'}\n",
      "{'dog_name': 'Milo', 'dog_breed': 'border collie'}\n"
     ]
    },
    {
     "name": "stderr",
     "output_type": "stream",
     "text": [
      "INFO:httpx:HTTP Request: POST https://api.openai.com/v1/chat/completions \"HTTP/1.1 200 OK\"\n"
     ]
    },
    {
     "name": "stdout",
     "output_type": "stream",
     "text": [
      "input\n",
      "Alex is 5 feet tall. Claudia is 1 feet taller Alex and jumps higher than him. Claudia is a brunette and Alex is blonde.\n",
      "Willow is a German Shepherd that likes to play with other dogs and can always be found playing with Milo, a border collie that lives close by.\n",
      "\n",
      "\n",
      "text\n",
      "{'person_name': 'Alex', 'person_height': 5, 'person_hair_color': 'blonde'}\n",
      "{'person_name': 'Claudia', 'person_height': 6, 'person_hair_color': 'brunette'}\n",
      "{'dog_name': 'Willow', 'dog_breed': 'German Shepherd'}\n",
      "{'dog_name': 'Milo', 'dog_breed': 'border collie'}\n"
     ]
    }
   ],
   "source": [
    "for model_name in model_names:\n",
    "    llm = ChatOpenAI(openai_api_key=openai_api_key, model_name=model_name, temperature=0.0)\n",
    "    result = create_extraction_chain(schema, llm).invoke(inp)\n",
    "    for k, v in result.items():\n",
    "        print(k)\n",
    "        if isinstance(v, list):\n",
    "            for item in v:\n",
    "                print(item)\n",
    "        else:\n",
    "            print(v)\n",
    "        print(\"\\n\")\n",
    "    print(\"\\n\\n\")"
   ],
   "metadata": {
    "collapsed": false,
    "ExecuteTime": {
     "end_time": "2024-01-06T08:34:52.668614Z",
     "start_time": "2024-01-06T08:34:40.814816Z"
    }
   },
   "id": "8ab67a843c31e647",
   "execution_count": 72
  },
  {
   "cell_type": "code",
   "outputs": [],
   "source": [
    "schema = {\n",
    "    \"properties\": {\n",
    "        \"person_name\": {\"type\": \"string\"},\n",
    "        \"person_height\": {\"type\": \"integer\"},\n",
    "        \"person_hair_color\": {\"type\": \"string\"},\n",
    "        \"dog_name\": {\"type\": \"string\"},\n",
    "        \"dog_breed\": {\"type\": \"string\"},\n",
    "        \"dog_extra_info\": {\"type\": \"string\"},\n",
    "    },\n",
    "}"
   ],
   "metadata": {
    "collapsed": false,
    "ExecuteTime": {
     "end_time": "2024-01-06T08:36:35.995054Z",
     "start_time": "2024-01-06T08:36:35.972554Z"
    }
   },
   "id": "64725a43073ee3b2",
   "execution_count": 73
  },
  {
   "cell_type": "code",
   "outputs": [
    {
     "name": "stderr",
     "output_type": "stream",
     "text": [
      "INFO:httpx:HTTP Request: POST https://api.openai.com/v1/chat/completions \"HTTP/1.1 200 OK\"\n"
     ]
    },
    {
     "name": "stdout",
     "output_type": "stream",
     "text": [
      "input\n",
      "Alex is 5 feet tall. Claudia is 1 feet taller Alex and jumps higher than him. Claudia is a brunette and Alex is blonde.\n",
      "Willow is a German Shepherd that likes to play with other dogs and can always be found playing with Milo, a border collie that lives close by.\n",
      "\n",
      "\n",
      "text\n",
      "{'person_name': 'Alex', 'person_height': 60, 'person_hair_color': 'blonde'}\n",
      "{'person_name': 'Claudia', 'person_height': 72, 'person_hair_color': 'brunette'}\n",
      "{'dog_name': 'Willow', 'dog_breed': 'German Shepherd', 'dog_extra_info': 'likes to play with other dogs'}\n",
      "{'dog_name': 'Milo', 'dog_breed': 'border collie', 'dog_extra_info': 'lives close by'}\n"
     ]
    },
    {
     "name": "stderr",
     "output_type": "stream",
     "text": [
      "INFO:httpx:HTTP Request: POST https://api.openai.com/v1/chat/completions \"HTTP/1.1 200 OK\"\n"
     ]
    },
    {
     "name": "stdout",
     "output_type": "stream",
     "text": [
      "input\n",
      "Alex is 5 feet tall. Claudia is 1 feet taller Alex and jumps higher than him. Claudia is a brunette and Alex is blonde.\n",
      "Willow is a German Shepherd that likes to play with other dogs and can always be found playing with Milo, a border collie that lives close by.\n",
      "\n",
      "\n",
      "text\n",
      "{'person_name': 'Alex', 'person_height': 5, 'person_hair_color': 'blonde'}\n",
      "{'person_name': 'Claudia', 'person_height': 6, 'person_hair_color': 'brunette'}\n",
      "{'dog_name': 'Willow', 'dog_breed': 'German Shepherd', 'dog_extra_info': 'likes to play with other dogs'}\n",
      "{'dog_name': 'Milo', 'dog_breed': 'border collie'}\n"
     ]
    },
    {
     "name": "stderr",
     "output_type": "stream",
     "text": [
      "INFO:httpx:HTTP Request: POST https://api.openai.com/v1/chat/completions \"HTTP/1.1 200 OK\"\n"
     ]
    },
    {
     "name": "stdout",
     "output_type": "stream",
     "text": [
      "input\n",
      "Alex is 5 feet tall. Claudia is 1 feet taller Alex and jumps higher than him. Claudia is a brunette and Alex is blonde.\n",
      "Willow is a German Shepherd that likes to play with other dogs and can always be found playing with Milo, a border collie that lives close by.\n",
      "\n",
      "\n",
      "text\n",
      "{'person_name': 'Alex', 'person_height': 5, 'person_hair_color': 'blonde'}\n",
      "{'person_name': 'Claudia', 'person_height': 6, 'person_hair_color': 'brunette'}\n",
      "{'dog_name': 'Willow', 'dog_breed': 'German Shepherd', 'dog_extra_info': 'likes to play with other dogs'}\n",
      "{'dog_name': 'Milo', 'dog_breed': 'border collie', 'dog_extra_info': 'lives close by'}\n"
     ]
    }
   ],
   "source": [
    "for model_name in model_names:\n",
    "    llm = ChatOpenAI(openai_api_key=openai_api_key, model_name=model_name, temperature=0.0)\n",
    "    result = create_extraction_chain(schema, llm).invoke(inp)\n",
    "    for k, v in result.items():\n",
    "        print(k)\n",
    "        if isinstance(v, list):\n",
    "            for item in v:\n",
    "                print(item)\n",
    "        else:\n",
    "            print(v)\n",
    "        print(\"\\n\")"
   ],
   "metadata": {
    "collapsed": false,
    "ExecuteTime": {
     "end_time": "2024-01-06T08:36:58.386695Z",
     "start_time": "2024-01-06T08:36:46.522176Z"
    }
   },
   "id": "c442921182f24a3d",
   "execution_count": 74
  },
  {
   "cell_type": "markdown",
   "source": [
    "## Schema Pydantic"
   ],
   "metadata": {
    "collapsed": false
   },
   "id": "135ef701c9e64dc4"
  },
  {
   "cell_type": "code",
   "outputs": [],
   "source": [
    "class Properties(BaseModel1):\n",
    "    person_name: str\n",
    "    person_height: int\n",
    "    person_hair_color: str\n",
    "    dog_breed: str | None\n",
    "    dog_name: str | None"
   ],
   "metadata": {
    "collapsed": false,
    "ExecuteTime": {
     "end_time": "2024-01-07T15:09:55.244284Z",
     "start_time": "2024-01-07T15:09:55.229717Z"
    }
   },
   "id": "97c8cd4de8110f8d",
   "execution_count": 14
  },
  {
   "cell_type": "code",
   "outputs": [],
   "source": [
    "inp = \"\"\"Alex is 5 feet tall. Claudia is 1 feet taller Alex and jumps higher than him. Claudia is a brunette and Alex is blonde.\"\"\""
   ],
   "metadata": {
    "collapsed": false,
    "ExecuteTime": {
     "end_time": "2024-01-07T15:09:56.091900Z",
     "start_time": "2024-01-07T15:09:56.081465Z"
    }
   },
   "id": "c8650e59b92fe177",
   "execution_count": 15
  },
  {
   "cell_type": "code",
   "outputs": [
    {
     "name": "stderr",
     "output_type": "stream",
     "text": [
      "INFO:httpx:HTTP Request: POST https://api.openai.com/v1/chat/completions \"HTTP/1.1 200 OK\"\n"
     ]
    },
    {
     "name": "stdout",
     "output_type": "stream",
     "text": [
      "input\n",
      "Alex is 5 feet tall. Claudia is 1 feet taller Alex and jumps higher than him. Claudia is a brunette and Alex is blonde.\n",
      "\n",
      "\n",
      "text\n",
      "person_name='Alex' person_height=60 person_hair_color='blonde' dog_breed=None dog_name=None\n",
      "person_name='Claudia' person_height=72 person_hair_color='brunette' dog_breed=None dog_name=None\n"
     ]
    },
    {
     "name": "stderr",
     "output_type": "stream",
     "text": [
      "INFO:httpx:HTTP Request: POST https://api.openai.com/v1/chat/completions \"HTTP/1.1 200 OK\"\n"
     ]
    },
    {
     "name": "stdout",
     "output_type": "stream",
     "text": [
      "input\n",
      "Alex is 5 feet tall. Claudia is 1 feet taller Alex and jumps higher than him. Claudia is a brunette and Alex is blonde.\n",
      "\n",
      "\n",
      "text\n",
      "person_name='Alex' person_height=5 person_hair_color='blonde' dog_breed=None dog_name=None\n",
      "person_name='Claudia' person_height=6 person_hair_color='brunette' dog_breed=None dog_name=None\n"
     ]
    },
    {
     "name": "stderr",
     "output_type": "stream",
     "text": [
      "INFO:httpx:HTTP Request: POST https://api.openai.com/v1/chat/completions \"HTTP/1.1 200 OK\"\n"
     ]
    },
    {
     "name": "stdout",
     "output_type": "stream",
     "text": [
      "input\n",
      "Alex is 5 feet tall. Claudia is 1 feet taller Alex and jumps higher than him. Claudia is a brunette and Alex is blonde.\n",
      "\n",
      "\n",
      "text\n",
      "person_name='Alex' person_height=5 person_hair_color='blonde' dog_breed=None dog_name=None\n",
      "person_name='Claudia' person_height=6 person_hair_color='brunette' dog_breed=None dog_name=None\n"
     ]
    }
   ],
   "source": [
    "for model_name in model_names:\n",
    "    llm = ChatOpenAI(openai_api_key=openai_api_key, model_name=model_name, temperature=0.0)\n",
    "    chain = create_extraction_chain_pydantic(pydantic_schema=Properties, llm=llm)\n",
    "    result = chain.invoke(inp)\n",
    "    for k, v in result.items():\n",
    "        print(k)\n",
    "        if isinstance(v, list):\n",
    "            for item in v:\n",
    "                print(item)\n",
    "        else:\n",
    "            print(v)\n",
    "        print(\"\\n\")"
   ],
   "metadata": {
    "collapsed": false,
    "ExecuteTime": {
     "end_time": "2024-01-07T15:10:03.927417Z",
     "start_time": "2024-01-07T15:09:56.742134Z"
    }
   },
   "id": "e33d52517c81c1b",
   "execution_count": 16
  },
  {
   "cell_type": "code",
   "outputs": [],
   "source": [
    "chain3t = create_extraction_chain_pydantic(pydantic_schema=Properties, llm=llm3_turbo, verbose=True)"
   ],
   "metadata": {
    "collapsed": false,
    "ExecuteTime": {
     "end_time": "2024-01-07T15:10:20.805722Z",
     "start_time": "2024-01-07T15:10:20.780553Z"
    }
   },
   "id": "446d82c3aed94e33",
   "execution_count": 17
  },
  {
   "cell_type": "code",
   "outputs": [
    {
     "name": "stdout",
     "output_type": "stream",
     "text": [
      "\n",
      "\n",
      "\u001B[1m> Entering new LLMChain chain...\u001B[0m\n",
      "Prompt after formatting:\n",
      "\u001B[32;1m\u001B[1;3mHuman: Extract and save the relevant entities mentioned in the following passage together with their properties.\n",
      "\n",
      "Only extract the properties mentioned in the 'information_extraction' function.\n",
      "\n",
      "If a property is not present and is not required in the function parameters, do not include it in the output.\n",
      "\n",
      "Passage:\n",
      "Alex is 5 feet tall. Claudia is 1 feet taller Alex and jumps higher than him. Claudia is a brunette and Alex is blonde.\n",
      "\u001B[0m\n"
     ]
    },
    {
     "name": "stderr",
     "output_type": "stream",
     "text": [
      "INFO:httpx:HTTP Request: POST https://api.openai.com/v1/chat/completions \"HTTP/1.1 200 OK\"\n"
     ]
    },
    {
     "name": "stdout",
     "output_type": "stream",
     "text": [
      "\n",
      "\u001B[1m> Finished chain.\u001B[0m\n"
     ]
    }
   ],
   "source": [
    "result = chain3t.invoke(inp)"
   ],
   "metadata": {
    "collapsed": false,
    "ExecuteTime": {
     "end_time": "2024-01-07T15:10:25.412285Z",
     "start_time": "2024-01-07T15:10:21.445867Z"
    }
   },
   "id": "3b4efe74536953c8",
   "execution_count": 18
  },
  {
   "cell_type": "code",
   "outputs": [
    {
     "data": {
      "text/plain": "[Properties(person_name='Alex', person_height=5, person_hair_color='blonde', dog_breed=None, dog_name=None),\n Properties(person_name='Claudia', person_height=6, person_hair_color='brunette', dog_breed=None, dog_name=None)]"
     },
     "execution_count": 19,
     "metadata": {},
     "output_type": "execute_result"
    }
   ],
   "source": [
    "result.get(\"text\")"
   ],
   "metadata": {
    "collapsed": false,
    "ExecuteTime": {
     "end_time": "2024-01-07T15:10:25.416775Z",
     "start_time": "2024-01-07T15:10:25.410551Z"
    }
   },
   "id": "a67196f2557aa402",
   "execution_count": 19
  },
  {
   "cell_type": "code",
   "outputs": [
    {
     "name": "stdout",
     "output_type": "stream",
     "text": [
      "{'person_name': 'Alex', 'person_height': 5, 'person_hair_color': 'blonde', 'dog_breed': None, 'dog_name': None}\n",
      "{'person_name': 'Claudia', 'person_height': 6, 'person_hair_color': 'brunette', 'dog_breed': None, 'dog_name': None}\n"
     ]
    }
   ],
   "source": [
    "for p in result[\"text\"]:\n",
    "    print(p.dict())"
   ],
   "metadata": {
    "collapsed": false,
    "ExecuteTime": {
     "end_time": "2024-01-07T15:10:27.303665Z",
     "start_time": "2024-01-07T15:10:27.276844Z"
    }
   },
   "id": "29a39f3e785c272d",
   "execution_count": 20
  },
  {
   "cell_type": "markdown",
   "source": [
    "## Schema Pydantic Nested Objects"
   ],
   "metadata": {
    "collapsed": false
   },
   "id": "1b22ada30b800d9"
  },
  {
   "cell_type": "code",
   "outputs": [],
   "source": [
    "class Address(BaseModel1):\n",
    "    street: str | None = Field1(description=\"Street, e.g. 100 Marlo S\",)\n",
    "    city: str = Field1(description=\"City, e.g. Boston\", enum=[\"boston\", \"new York\", \"la\"])\n",
    "    state: str | None = Field1(description=\"State, e.g. MA\")\n",
    "    zipcode: str | None = Field1(description=\"Zip code e.g. 23232\")\n",
    "    country: str | None = Field1(description=\"A country in the world, e.g. USA\")"
   ],
   "metadata": {
    "collapsed": false,
    "ExecuteTime": {
     "end_time": "2024-01-09T09:18:13.941696Z",
     "start_time": "2024-01-09T09:18:13.916053Z"
    }
   },
   "id": "b7d535a7412a1277",
   "execution_count": 47
  },
  {
   "cell_type": "code",
   "outputs": [],
   "source": [
    "class Person(BaseModel1):\n",
    "    name: str = Field1(description=\"The full name of the person or partial name, e.g. Tom\")\n",
    "    from_address: List[Address] | None = Field1( description=\"Person moved away from this address\")\n",
    "    to_address: List[Address] | None = Field1(description=\"Address to which the person is moving\")"
   ],
   "metadata": {
    "collapsed": false,
    "ExecuteTime": {
     "end_time": "2024-01-09T09:18:14.199088Z",
     "start_time": "2024-01-09T09:18:14.186192Z"
    }
   },
   "id": "b03a97db8ca75ff6",
   "execution_count": 48
  },
  {
   "cell_type": "code",
   "outputs": [],
   "source": [
    "inp = \"\"\"Alice Doe and Bob Smith moved from New York to Boston. Andrew was 12 years old. He also moved to Boston. So did Joana and Paul. Betty did the opposite.\"\"\""
   ],
   "metadata": {
    "collapsed": false,
    "ExecuteTime": {
     "end_time": "2024-01-09T09:18:14.787287Z",
     "start_time": "2024-01-09T09:18:14.742868Z"
    }
   },
   "id": "6e27ca18b75a3efe",
   "execution_count": 49
  },
  {
   "cell_type": "code",
   "outputs": [
    {
     "name": "stdout",
     "output_type": "stream",
     "text": [
      "Model: gpt-4-1106-preview\n"
     ]
    },
    {
     "name": "stderr",
     "output_type": "stream",
     "text": [
      "INFO:httpx:HTTP Request: POST https://api.openai.com/v1/chat/completions \"HTTP/1.1 200 OK\"\n"
     ]
    },
    {
     "name": "stdout",
     "output_type": "stream",
     "text": [
      "name='Alice Doe' from_address=[Address(street=None, city='new York', state=None, zipcode=None, country=None)] to_address=[Address(street=None, city='boston', state=None, zipcode=None, country=None)]\n",
      "name='Bob Smith' from_address=[Address(street=None, city='new York', state=None, zipcode=None, country=None)] to_address=[Address(street=None, city='boston', state=None, zipcode=None, country=None)]\n",
      "name='Andrew' from_address=None to_address=[Address(street=None, city='boston', state=None, zipcode=None, country=None)]\n",
      "name='Joana' from_address=None to_address=[Address(street=None, city='boston', state=None, zipcode=None, country=None)]\n",
      "name='Paul' from_address=None to_address=[Address(street=None, city='boston', state=None, zipcode=None, country=None)]\n",
      "name='Betty' from_address=[Address(street=None, city='boston', state=None, zipcode=None, country=None)] to_address=None\n",
      "\n",
      "\n",
      "Model: gpt-3.5-turbo-1106\n"
     ]
    },
    {
     "name": "stderr",
     "output_type": "stream",
     "text": [
      "INFO:httpx:HTTP Request: POST https://api.openai.com/v1/chat/completions \"HTTP/1.1 200 OK\"\n"
     ]
    },
    {
     "name": "stdout",
     "output_type": "stream",
     "text": [
      "name='Alice Doe' from_address=[Address(street=None, city='new York', state=None, zipcode=None, country=None)] to_address=[Address(street=None, city='boston', state=None, zipcode=None, country=None)]\n",
      "name='Bob Smith' from_address=[Address(street=None, city='new York', state=None, zipcode=None, country=None)] to_address=[Address(street=None, city='boston', state=None, zipcode=None, country=None)]\n",
      "name='Andrew' from_address=None to_address=[Address(street=None, city='boston', state=None, zipcode=None, country=None)]\n",
      "name='Joana' from_address=None to_address=[Address(street=None, city='boston', state=None, zipcode=None, country=None)]\n",
      "name='Paul' from_address=None to_address=[Address(street=None, city='boston', state=None, zipcode=None, country=None)]\n",
      "name='Betty' from_address=None to_address=None\n",
      "\n",
      "\n",
      "Model: gpt-3.5-turbo\n"
     ]
    },
    {
     "name": "stderr",
     "output_type": "stream",
     "text": [
      "INFO:httpx:HTTP Request: POST https://api.openai.com/v1/chat/completions \"HTTP/1.1 200 OK\"\n"
     ]
    },
    {
     "name": "stdout",
     "output_type": "stream",
     "text": [
      "name='Alice Doe' from_address=[Address(street='', city='new York', state='', zipcode='', country='')] to_address=[Address(street='', city='boston', state='', zipcode='', country='')]\n",
      "name='Bob Smith' from_address=[Address(street='', city='new York', state='', zipcode='', country='')] to_address=[Address(street='', city='boston', state='', zipcode='', country='')]\n",
      "name='Andrew' from_address=[] to_address=[Address(street='', city='boston', state='', zipcode='', country='')]\n",
      "name='Joana' from_address=[] to_address=[Address(street='', city='boston', state='', zipcode='', country='')]\n",
      "name='Paul' from_address=[] to_address=[Address(street='', city='boston', state='', zipcode='', country='')]\n",
      "name='Betty' from_address=[] to_address=[Address(street='', city='new York', state='', zipcode='', country='')]\n",
      "\n"
     ]
    }
   ],
   "source": [
    "for model_name in model_names:\n",
    "    print(f\"Model: {model_name}\")\n",
    "    llm = ChatOpenAI(openai_api_key=openai_api_key, model_name=model_name, temperature=0.0)\n",
    "    results = create_extraction_chain_pydantic(pydantic_schema=Person, llm=llm).invoke(inp)\n",
    "    text_results = results.get(\"text\")\n",
    "    if isinstance(text_results, list):\n",
    "        for text_result in text_results:\n",
    "            print(text_result)\n",
    "    else:\n",
    "        print(text_results)\n",
    "    print(\"\\n\")"
   ],
   "metadata": {
    "collapsed": false,
    "ExecuteTime": {
     "end_time": "2024-01-09T09:18:53.736584Z",
     "start_time": "2024-01-09T09:18:15.257111Z"
    }
   },
   "id": "c96ab5d79f246abf",
   "execution_count": 50
  },
  {
   "cell_type": "code",
   "outputs": [],
   "source": [
    "chain4 = create_extraction_chain_pydantic(pydantic_schema=Person, llm=llm4_turbo, verbose=True)"
   ],
   "metadata": {
    "collapsed": false,
    "ExecuteTime": {
     "end_time": "2024-01-09T08:38:44.226423Z",
     "start_time": "2024-01-09T08:38:44.201241Z"
    }
   },
   "id": "ad10d0f5e8e83f93",
   "execution_count": 21
  },
  {
   "cell_type": "code",
   "outputs": [
    {
     "name": "stdout",
     "output_type": "stream",
     "text": [
      "\n",
      "\n",
      "\u001B[1m> Entering new LLMChain chain...\u001B[0m\n",
      "Prompt after formatting:\n",
      "\u001B[32;1m\u001B[1;3mHuman: Extract and save the relevant entities mentioned in the following passage together with their properties.\n",
      "\n",
      "Only extract the properties mentioned in the 'information_extraction' function.\n",
      "\n",
      "If a property is not present and is not required in the function parameters, do not include it in the output.\n",
      "\n",
      "Passage:\n",
      "Alice Doe and Bob Smith moved from New York to Boston. Andrew was 12 years old. He also moved to Boston. So did Joana and Paul. Betty did the opposite.\n",
      "\u001B[0m\n"
     ]
    },
    {
     "name": "stderr",
     "output_type": "stream",
     "text": [
      "INFO:httpx:HTTP Request: POST https://api.openai.com/v1/chat/completions \"HTTP/1.1 200 OK\"\n"
     ]
    },
    {
     "name": "stdout",
     "output_type": "stream",
     "text": [
      "\n",
      "\u001B[1m> Finished chain.\u001B[0m\n"
     ]
    },
    {
     "data": {
      "text/plain": "[Person(name='Alice Doe', from_address=[Address(street=None, city='New York', state=None, zipcode=None, country=None)], to_address=[Address(street=None, city='Boston', state=None, zipcode=None, country=None)]),\n Person(name='Bob Smith', from_address=[Address(street=None, city='New York', state=None, zipcode=None, country=None)], to_address=[Address(street=None, city='Boston', state=None, zipcode=None, country=None)]),\n Person(name='Andrew', from_address=None, to_address=[Address(street=None, city='Boston', state=None, zipcode=None, country=None)]),\n Person(name='Joana', from_address=None, to_address=[Address(street=None, city='Boston', state=None, zipcode=None, country=None)]),\n Person(name='Paul', from_address=None, to_address=[Address(street=None, city='Boston', state=None, zipcode=None, country=None)]),\n Person(name='Betty', from_address=[Address(street=None, city='Boston', state=None, zipcode=None, country=None)], to_address=None)]"
     },
     "execution_count": 22,
     "metadata": {},
     "output_type": "execute_result"
    }
   ],
   "source": [
    "result = chain4.invoke(inp)\n",
    "result.get(\"text\")"
   ],
   "metadata": {
    "collapsed": false,
    "ExecuteTime": {
     "end_time": "2024-01-09T08:38:59.137489Z",
     "start_time": "2024-01-09T08:38:45.400054Z"
    }
   },
   "id": "18de6d859a2d44df",
   "execution_count": 22
  },
  {
   "cell_type": "code",
   "outputs": [],
   "source": [
    "inp = \"Alice Doe and Bob Smith moved from New York to Boston. Bob later moved to LA.\""
   ],
   "metadata": {
    "collapsed": false,
    "ExecuteTime": {
     "end_time": "2024-01-09T09:16:40.081867Z",
     "start_time": "2024-01-09T09:16:40.055192Z"
    }
   },
   "id": "3717774db964ceb4",
   "execution_count": 45
  },
  {
   "cell_type": "code",
   "outputs": [
    {
     "name": "stdout",
     "output_type": "stream",
     "text": [
      "Model: gpt-4-1106-preview\n"
     ]
    },
    {
     "name": "stderr",
     "output_type": "stream",
     "text": [
      "INFO:httpx:HTTP Request: POST https://api.openai.com/v1/chat/completions \"HTTP/1.1 200 OK\"\n"
     ]
    },
    {
     "name": "stdout",
     "output_type": "stream",
     "text": [
      "name='Alice Doe' from_address=[Address(street=None, city='new York', state=None, zipcode=None, country=None)] to_address=[Address(street=None, city='boston', state=None, zipcode=None, country=None)]\n",
      "name='Bob Smith' from_address=[Address(street=None, city='new York', state=None, zipcode=None, country=None), Address(street=None, city='boston', state=None, zipcode=None, country=None)] to_address=[Address(street=None, city='boston', state=None, zipcode=None, country=None), Address(street=None, city='la', state=None, zipcode=None, country=None)]\n",
      "\n",
      "\n",
      "Model: gpt-3.5-turbo-1106\n"
     ]
    },
    {
     "name": "stderr",
     "output_type": "stream",
     "text": [
      "INFO:httpx:HTTP Request: POST https://api.openai.com/v1/chat/completions \"HTTP/1.1 200 OK\"\n"
     ]
    },
    {
     "name": "stdout",
     "output_type": "stream",
     "text": [
      "name='Alice Doe' from_address=[Address(street=None, city='new York', state=None, zipcode=None, country=None)] to_address=[Address(street=None, city='boston', state=None, zipcode=None, country=None)]\n",
      "name='Bob Smith' from_address=[Address(street=None, city='new York', state=None, zipcode=None, country=None)] to_address=[Address(street=None, city='la', state=None, zipcode=None, country=None)]\n",
      "\n",
      "\n",
      "Model: gpt-3.5-turbo\n"
     ]
    },
    {
     "name": "stderr",
     "output_type": "stream",
     "text": [
      "INFO:httpx:HTTP Request: POST https://api.openai.com/v1/chat/completions \"HTTP/1.1 200 OK\"\n"
     ]
    },
    {
     "name": "stdout",
     "output_type": "stream",
     "text": [
      "name='Alice Doe' from_address=[Address(street='', city='new York', state='', zipcode='', country='')] to_address=[Address(street='', city='boston', state='', zipcode='', country='')]\n",
      "name='Bob Smith' from_address=[Address(street='', city='new York', state='', zipcode='', country='')] to_address=[Address(street='', city='boston', state='', zipcode='', country=''), Address(street='', city='la', state='', zipcode='', country='')]\n",
      "\n"
     ]
    }
   ],
   "source": [
    "for model_name in model_names:\n",
    "    print(f\"Model: {model_name}\")\n",
    "    llm = ChatOpenAI(openai_api_key=openai_api_key, model_name=model_name, temperature=0.0)\n",
    "    results = create_extraction_chain_pydantic(pydantic_schema=Person, llm=llm).invoke(inp)\n",
    "    text_results = results.get(\"text\")\n",
    "    if isinstance(text_results, list):\n",
    "        for text_result in text_results:\n",
    "            print(text_result)\n",
    "    else:\n",
    "        print(text_results)\n",
    "    print(\"\\n\")"
   ],
   "metadata": {
    "collapsed": false,
    "ExecuteTime": {
     "end_time": "2024-01-09T09:17:01.752048Z",
     "start_time": "2024-01-09T09:16:40.202245Z"
    }
   },
   "id": "f7c41c5361c34993",
   "execution_count": 46
  },
  {
   "cell_type": "code",
   "outputs": [],
   "source": [],
   "metadata": {
    "collapsed": false
   },
   "id": "a468b9a810e73288"
  },
  {
   "cell_type": "markdown",
   "source": [
    "# Parsing"
   ],
   "metadata": {
    "collapsed": false
   },
   "id": "bfd1956108a27d3a"
  },
  {
   "cell_type": "code",
   "outputs": [],
   "source": [
    "class Person(BaseModel2):\n",
    "    person_name: str\n",
    "    person_height: int\n",
    "    person_hair_color: str\n",
    "    dog_breed: Optional[str]\n",
    "    dog_name: Optional[str]\n",
    "\n",
    "\n",
    "class People(BaseModel2):\n",
    "    \"\"\"Identifying information about all people in a text.\"\"\"\n",
    "\n",
    "    people: Sequence[Person]"
   ],
   "metadata": {
    "collapsed": false,
    "ExecuteTime": {
     "end_time": "2024-01-07T15:19:36.652008Z",
     "start_time": "2024-01-07T15:19:36.637589Z"
    }
   },
   "id": "54c1228737c85ddb",
   "execution_count": 10
  },
  {
   "cell_type": "code",
   "outputs": [
    {
     "name": "stderr",
     "output_type": "stream",
     "text": [
      "/Users/may/.virtualenvs/generative_ai/lib/python3.11/site-packages/langchain_core/_api/deprecation.py:189: LangChainDeprecationWarning: The function `__call__` was deprecated in LangChain 0.1.7 and will be removed in 0.2.0. Use invoke instead.\n",
      "  warn_deprecated(\n",
      "INFO:httpx:HTTP Request: POST https://api.openai.com/v1/completions \"HTTP/1.1 200 OK\"\n"
     ]
    },
    {
     "data": {
      "text/plain": "People(people=[Person(person_name='Alex', person_height=5, person_hair_color='blonde', dog_breed=None, dog_name=None), Person(person_name='Claudia', person_height=6, person_hair_color='brunette', dog_breed=None, dog_name=None)])"
     },
     "execution_count": 11,
     "metadata": {},
     "output_type": "execute_result"
    }
   ],
   "source": [
    "# Run\n",
    "query = \"\"\"Alex is 5 feet tall. Claudia is 1 feet taller Alex and jumps higher than him. Claudia is a brunette and Alex is blonde.\"\"\"\n",
    "\n",
    "# Set up a parser + inject instructions into the prompt template.\n",
    "parser = PydanticOutputParser(pydantic_object=People)\n",
    "\n",
    "# Prompt\n",
    "prompt = PromptTemplate(\n",
    "    template=\"Answer the user query.\\n{format_instructions}\\n{query}\\n\",\n",
    "    input_variables=[\"query\"],\n",
    "    partial_variables={\"format_instructions\": parser.get_format_instructions()},\n",
    ")\n",
    "\n",
    "# Run\n",
    "_input = prompt.format_prompt(query=query)\n",
    "model = OpenAI(openai_api_key=openai_api_key, model_name=\"gpt-3.5-turbo-instruct\", temperature=0.0)\n",
    "output = model(_input.to_string())\n",
    "parser.parse(output)"
   ],
   "metadata": {
    "collapsed": false,
    "ExecuteTime": {
     "end_time": "2024-01-07T15:19:39.132770Z",
     "start_time": "2024-01-07T15:19:37.661926Z"
    }
   },
   "id": "aa5f289ce97c3e1f",
   "execution_count": 11
  },
  {
   "cell_type": "markdown",
   "source": [
    "# Kor"
   ],
   "metadata": {
    "collapsed": false
   },
   "id": "108e2a0d69e116aa"
  },
  {
   "cell_type": "code",
   "outputs": [],
   "source": [
    "import enum\n",
    "# from langchain.chat_models import ChatOpenAI\n",
    "# from langchain.llms import OpenAI\n",
    "from kor import create_extraction_chain, Object, Text, from_pydantic\n",
    "from kor.nodes import Object, Text, Number"
   ],
   "metadata": {
    "collapsed": false,
    "ExecuteTime": {
     "end_time": "2024-01-07T16:21:45.061130Z",
     "start_time": "2024-01-07T16:21:45.018734Z"
    }
   },
   "id": "44c6a1490f21b3ec",
   "execution_count": 39
  },
  {
   "cell_type": "code",
   "outputs": [],
   "source": [
    "llm = ChatOpenAI(\n",
    "    model_name=\"gpt-3.5-turbo\",\n",
    "    temperature=0,\n",
    "    max_tokens=2000,\n",
    "    model_kwargs = {\n",
    "        'frequency_penalty':0,\n",
    "        'presence_penalty':0,\n",
    "        'top_p':1.0\n",
    "    }\n",
    ")"
   ],
   "metadata": {
    "collapsed": false,
    "ExecuteTime": {
     "end_time": "2024-01-07T16:21:45.272464Z",
     "start_time": "2024-01-07T16:21:45.242163Z"
    }
   },
   "id": "a025599f2a634b06",
   "execution_count": 40
  },
  {
   "cell_type": "code",
   "outputs": [
    {
     "name": "stderr",
     "output_type": "stream",
     "text": [
      "INFO:numexpr.utils:NumExpr defaulting to 8 threads.\n",
      "/Users/may/.virtualenvs/generative_ai/lib/python3.11/site-packages/langchain_core/_api/deprecation.py:189: LangChainDeprecationWarning: The function `run` was deprecated in LangChain 0.1.0 and will be removed in 0.2.0. Use invoke instead.\n",
      "  warn_deprecated(\n",
      "/Users/may/.virtualenvs/generative_ai/lib/python3.11/site-packages/langchain_core/_api/deprecation.py:189: LangChainDeprecationWarning: The function `__call__` was deprecated in LangChain 0.1.0 and will be removed in 0.2.0. Use invoke instead.\n",
      "  warn_deprecated(\n",
      "INFO:httpx:HTTP Request: POST https://api.openai.com/v1/chat/completions \"HTTP/1.1 200 OK\"\n"
     ]
    },
    {
     "data": {
      "text/plain": "{'player': {'artist': ['paul simon', 'led zeppelin', 'the doors']}}"
     },
     "execution_count": 113,
     "metadata": {},
     "output_type": "execute_result"
    }
   ],
   "source": [
    "schema = Object(\n",
    "    id=\"player\",\n",
    "    description=(\n",
    "        \"User is controlling a music player to select songs, pause or start them or play\"\n",
    "        \" music by a particular artist.\"\n",
    "    ),\n",
    "    attributes=[\n",
    "        Text(\n",
    "            id=\"song\",\n",
    "            description=\"User wants to play this song\",\n",
    "            examples=[],\n",
    "            many=True,\n",
    "        ),\n",
    "        Text(\n",
    "            id=\"album\",\n",
    "            description=\"User wants to play this album\",\n",
    "            examples=[],\n",
    "            many=True,\n",
    "        ),\n",
    "        Text(\n",
    "            id=\"artist\",\n",
    "            description=\"Music by the given artist\",\n",
    "            examples=[(\"Songs by paul simon\", \"paul simon\")],\n",
    "            many=True,\n",
    "        ),\n",
    "        Text(\n",
    "            id=\"action\",\n",
    "            description=\"Action to take one of: `play`, `stop`, `next`, `previous`.\",\n",
    "            examples=[\n",
    "                (\"Please stop the music\", \"stop\"),\n",
    "                (\"play something\", \"play\"),\n",
    "                (\"play a song\", \"play\"),\n",
    "                (\"next song\", \"next\"),\n",
    "            ],\n",
    "        ),\n",
    "    ],\n",
    "    many=False,\n",
    ")\n",
    "\n",
    "chain = create_extraction_chain(llm, schema, encoder_or_encoder_class='json')\n",
    "chain.run(\"play songs by paul simon and led zeppelin and the doors\")['data']"
   ],
   "metadata": {
    "collapsed": false,
    "ExecuteTime": {
     "end_time": "2024-01-06T14:42:42.074994Z",
     "start_time": "2024-01-06T14:42:40.545182Z"
    }
   },
   "id": "8144d63dd789e077",
   "execution_count": 113
  },
  {
   "cell_type": "markdown",
   "source": [
    "## Nested Objects"
   ],
   "metadata": {
    "collapsed": false
   },
   "id": "bab92e8fd8d74746"
  },
  {
   "cell_type": "code",
   "outputs": [],
   "source": [
    "from_address = Object(\n",
    "    id=\"from_address\",\n",
    "    description=\"Person moved away from this address\",\n",
    "    attributes=[\n",
    "        Text(id=\"street\"),\n",
    "        Text(id=\"city\"),\n",
    "        Text(id=\"state\"),\n",
    "        Text(id=\"zipcode\"),\n",
    "        Text(id=\"country\", description=\"A country in the world; e.g., France.\"),\n",
    "    ],\n",
    "    examples=[\n",
    "        (\n",
    "            \"100 Main St, Boston, MA, 23232, USA\",\n",
    "            {\n",
    "                \"street\": \"100 Marlo St\",\n",
    "                \"city\": \"Boston\",\n",
    "                \"state\": \"MA\",\n",
    "                \"zipcode\": \"23232\",\n",
    "                \"country\": \"USA\",\n",
    "            },\n",
    "        )\n",
    "    ],\n",
    ")\n",
    "\n",
    "to_address = from_address.replace(\n",
    "    id=\"to_address\", description=\"Address to which the person is moving\"\n",
    ")\n",
    "\n",
    "schema = Object(\n",
    "    id=\"information\",\n",
    "    attributes=[\n",
    "        Text(\n",
    "            id=\"person_name\",\n",
    "            description=\"The full name of the person or partial name\",\n",
    "            examples=[(\"John Smith was here\", \"John Smith\")],\n",
    "        ),\n",
    "        from_address,\n",
    "        to_address,\n",
    "    ],\n",
    "    many=True,\n",
    ")"
   ],
   "metadata": {
    "collapsed": false,
    "ExecuteTime": {
     "end_time": "2024-01-07T10:32:58.704115Z",
     "start_time": "2024-01-07T10:32:58.668193Z"
    }
   },
   "id": "b7afdf68a02862e4",
   "execution_count": 26
  },
  {
   "cell_type": "code",
   "outputs": [],
   "source": [
    "chain = create_extraction_chain(\n",
    "    llm, schema, encoder_or_encoder_class=\"json\", input_formatter=None\n",
    ")"
   ],
   "metadata": {
    "collapsed": false,
    "ExecuteTime": {
     "end_time": "2024-01-07T10:32:59.808327Z",
     "start_time": "2024-01-07T10:32:59.801080Z"
    }
   },
   "id": "876dab9644c9e9dc",
   "execution_count": 27
  },
  {
   "cell_type": "code",
   "outputs": [
    {
     "name": "stderr",
     "output_type": "stream",
     "text": [
      "/Users/may/.virtualenvs/generative_ai/lib/python3.11/site-packages/langchain_core/_api/deprecation.py:189: LangChainDeprecationWarning: The function `run` was deprecated in LangChain 0.1.0 and will be removed in 0.2.0. Use invoke instead.\n",
      "  warn_deprecated(\n",
      "/Users/may/.virtualenvs/generative_ai/lib/python3.11/site-packages/langchain_core/_api/deprecation.py:189: LangChainDeprecationWarning: The function `__call__` was deprecated in LangChain 0.1.0 and will be removed in 0.2.0. Use invoke instead.\n",
      "  warn_deprecated(\n",
      "INFO:httpx:HTTP Request: POST https://api.openai.com/v1/chat/completions \"HTTP/1.1 200 OK\"\n"
     ]
    },
    {
     "data": {
      "text/plain": "{'information': [{'person_name': 'Alice Doe',\n   'from_address': {'city': 'New York'},\n   'to_address': {'city': 'Boston', 'state': 'MA'}},\n  {'person_name': 'Bob Smith',\n   'from_address': {'city': 'Boston', 'state': 'MA'},\n   'to_address': {'city': 'New York'}}]}"
     },
     "execution_count": 15,
     "metadata": {},
     "output_type": "execute_result"
    }
   ],
   "source": [
    "result = chain.run(\"Alice Doe moved from New York to Boston, MA while Bob Smith did the opposite.\")[\"data\"]\n",
    "result"
   ],
   "metadata": {
    "collapsed": false,
    "ExecuteTime": {
     "end_time": "2024-01-07T10:25:11.924297Z",
     "start_time": "2024-01-07T10:25:10.059143Z"
    }
   },
   "id": "73e7f85815899492",
   "execution_count": 15
  },
  {
   "cell_type": "code",
   "outputs": [
    {
     "name": "stdout",
     "output_type": "stream",
     "text": [
      "{'from_address': {'city': 'New York'},\n",
      " 'person_name': 'Alice Doe',\n",
      " 'to_address': {'city': 'Boston', 'state': 'MA'}}\n",
      "\n",
      "\n",
      "{'from_address': {'city': 'Boston', 'state': 'MA'},\n",
      " 'person_name': 'Bob Smith',\n",
      " 'to_address': {'city': 'New York'}}\n"
     ]
    }
   ],
   "source": [
    "for info in result[\"information\"]:\n",
    "    pprint(info)\n",
    "    print(\"\\n\")"
   ],
   "metadata": {
    "collapsed": false,
    "ExecuteTime": {
     "end_time": "2024-01-07T10:25:59.872271Z",
     "start_time": "2024-01-07T10:25:59.862552Z"
    }
   },
   "id": "5ef4a63bbfa957ad",
   "execution_count": 21
  },
  {
   "cell_type": "code",
   "outputs": [
    {
     "name": "stderr",
     "output_type": "stream",
     "text": [
      "/Users/may/.virtualenvs/generative_ai/lib/python3.11/site-packages/langchain_core/_api/deprecation.py:189: LangChainDeprecationWarning: The function `run` was deprecated in LangChain 0.1.0 and will be removed in 0.2.0. Use invoke instead.\n",
      "  warn_deprecated(\n",
      "/Users/may/.virtualenvs/generative_ai/lib/python3.11/site-packages/langchain_core/_api/deprecation.py:189: LangChainDeprecationWarning: The function `__call__` was deprecated in LangChain 0.1.0 and will be removed in 0.2.0. Use invoke instead.\n",
      "  warn_deprecated(\n",
      "INFO:httpx:HTTP Request: POST https://api.openai.com/v1/chat/completions \"HTTP/1.1 200 OK\"\n"
     ]
    }
   ],
   "source": [
    "result = chain.run(\n",
    "    \"Alice Doe and Bob Smith moved from New York to Boston. Andrew was 12 years\"\n",
    "    \" old. He also moved to Boston. So did Joana and Paul. Betty did the opposite.\"\n",
    ")[\"data\"]"
   ],
   "metadata": {
    "collapsed": false,
    "ExecuteTime": {
     "end_time": "2024-01-07T10:34:18.220930Z",
     "start_time": "2024-01-07T10:34:14.634339Z"
    }
   },
   "id": "abc0f67ce4441cf5",
   "execution_count": 28
  },
  {
   "cell_type": "code",
   "outputs": [
    {
     "name": "stdout",
     "output_type": "stream",
     "text": [
      "{'from_address': {'city': 'New York'},\n",
      " 'person_name': 'Alice Doe',\n",
      " 'to_address': {'city': 'Boston'}}\n",
      "\n",
      "\n",
      "{'from_address': {'city': 'New York'},\n",
      " 'person_name': 'Bob Smith',\n",
      " 'to_address': {'city': 'Boston'}}\n",
      "\n",
      "\n",
      "{'person_name': 'Andrew', 'to_address': {'city': 'Boston'}}\n",
      "\n",
      "\n",
      "{'person_name': 'Joana', 'to_address': {'city': 'Boston'}}\n",
      "\n",
      "\n",
      "{'person_name': 'Paul', 'to_address': {'city': 'Boston'}}\n",
      "\n",
      "\n",
      "{'from_address': {'city': 'Boston'},\n",
      " 'person_name': 'Betty',\n",
      " 'to_address': {'city': 'New York'}}\n"
     ]
    }
   ],
   "source": [
    "for info in result[\"information\"]:\n",
    "    pprint(info)\n",
    "    print(\"\\n\")"
   ],
   "metadata": {
    "collapsed": false,
    "ExecuteTime": {
     "end_time": "2024-01-07T10:34:23.293253Z",
     "start_time": "2024-01-07T10:34:23.271525Z"
    }
   },
   "id": "2067f56ae2ee810e",
   "execution_count": 29
  },
  {
   "cell_type": "markdown",
   "source": [
    "## Nested Lists"
   ],
   "metadata": {
    "collapsed": false
   },
   "id": "9bfd92d6b72219"
  },
  {
   "cell_type": "code",
   "outputs": [],
   "source": [
    "from_address = Object(\n",
    "    id=\"from_address\",\n",
    "    description=\"Person moved away from this address\",\n",
    "    attributes=[\n",
    "        Text(id=\"street\"),\n",
    "        Text(id=\"city\"),\n",
    "        Text(id=\"state\"),\n",
    "        Text(id=\"zipcode\"),\n",
    "        Text(id=\"country\", description=\"A country in the world; e.g., France.\"),\n",
    "    ],\n",
    "    examples=[\n",
    "        (\n",
    "            \"100 Main St, Boston,MA, 23232, USA\",\n",
    "            {\n",
    "                \"street\": \"100 Marlo St\",\n",
    "                \"city\": \"Boston\",\n",
    "                \"state\": \"MA\",\n",
    "                \"zipcode\": \"23232\",\n",
    "                \"country\": \"USA\",\n",
    "            },\n",
    "        )\n",
    "    ],\n",
    "    many=True,  # <-- PLEASE NOTE THIS CHANGE\n",
    ")\n",
    "\n",
    "to_address = from_address.replace(\n",
    "    id=\"to_address\", description=\"Address to which the person is moving\"\n",
    ")\n",
    "\n",
    "schema = Object(\n",
    "    id=\"information\",\n",
    "    attributes=[\n",
    "        Text(\n",
    "            id=\"person_name\",\n",
    "            description=\"The full name of the person or partial name\",\n",
    "            examples=[(\"John Smith was here\", \"John Smith\")],\n",
    "        ),\n",
    "        from_address,\n",
    "        to_address,\n",
    "    ],\n",
    "    many=True,\n",
    ")"
   ],
   "metadata": {
    "collapsed": false,
    "ExecuteTime": {
     "end_time": "2024-01-07T16:22:15.033320Z",
     "start_time": "2024-01-07T16:22:14.991389Z"
    }
   },
   "id": "f0f49f9d56b2df17",
   "execution_count": 41
  },
  {
   "cell_type": "code",
   "outputs": [],
   "source": [
    "chain = create_extraction_chain(llm, schema, encoder_or_encoder_class=\"json\")"
   ],
   "metadata": {
    "collapsed": false,
    "ExecuteTime": {
     "end_time": "2024-01-07T16:22:16.608124Z",
     "start_time": "2024-01-07T16:22:16.583217Z"
    }
   },
   "id": "1cfc2845cef19336",
   "execution_count": 42
  },
  {
   "cell_type": "code",
   "outputs": [
    {
     "name": "stderr",
     "output_type": "stream",
     "text": [
      "/Users/may/.virtualenvs/generative_ai/lib/python3.11/site-packages/langchain_core/_api/deprecation.py:189: LangChainDeprecationWarning: The function `run` was deprecated in LangChain 0.1.0 and will be removed in 0.2.0. Use invoke instead.\n",
      "  warn_deprecated(\n",
      "/Users/may/.virtualenvs/generative_ai/lib/python3.11/site-packages/langchain_core/_api/deprecation.py:189: LangChainDeprecationWarning: The function `__call__` was deprecated in LangChain 0.1.0 and will be removed in 0.2.0. Use invoke instead.\n",
      "  warn_deprecated(\n",
      "INFO:httpx:HTTP Request: POST https://api.openai.com/v1/chat/completions \"HTTP/1.1 200 OK\"\n"
     ]
    }
   ],
   "source": [
    "results = chain.run(\n",
    "    \"Alice Doe and Bob Smith moved from New York to Boston. Bob later moved to LA.\"\n",
    ")[\"data\"]"
   ],
   "metadata": {
    "collapsed": false,
    "ExecuteTime": {
     "end_time": "2024-01-07T16:22:20.577307Z",
     "start_time": "2024-01-07T16:22:18.417680Z"
    }
   },
   "id": "460f366a6b660414",
   "execution_count": 43
  },
  {
   "cell_type": "code",
   "outputs": [
    {
     "name": "stdout",
     "output_type": "stream",
     "text": [
      "{'from_address': [{'city': 'New York'}],\n",
      " 'person_name': 'Alice Doe',\n",
      " 'to_address': [{'city': 'Boston'}]}\n",
      "\n",
      "\n",
      "{'from_address': [{'city': 'New York'}],\n",
      " 'person_name': 'Bob Smith',\n",
      " 'to_address': [{'city': 'Boston'}, {'city': 'LA'}]}\n"
     ]
    }
   ],
   "source": [
    "for info in results[\"information\"]:\n",
    "    pprint(info)\n",
    "    print(\"\\n\")"
   ],
   "metadata": {
    "collapsed": false,
    "ExecuteTime": {
     "end_time": "2024-01-07T16:22:22.432059Z",
     "start_time": "2024-01-07T16:22:22.409320Z"
    }
   },
   "id": "906c889ba6970268",
   "execution_count": 44
  },
  {
   "cell_type": "code",
   "outputs": [],
   "source": [],
   "metadata": {
    "collapsed": false
   },
   "id": "fcc350898b224640"
  }
 ],
 "metadata": {
  "kernelspec": {
   "display_name": "Python 3",
   "language": "python",
   "name": "python3"
  },
  "language_info": {
   "codemirror_mode": {
    "name": "ipython",
    "version": 2
   },
   "file_extension": ".py",
   "mimetype": "text/x-python",
   "name": "python",
   "nbconvert_exporter": "python",
   "pygments_lexer": "ipython2",
   "version": "2.7.6"
  }
 },
 "nbformat": 4,
 "nbformat_minor": 5
}
