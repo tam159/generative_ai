{
 "cells": [
  {
   "cell_type": "markdown",
   "metadata": {},
   "source": [
    "# Infer a schema to extract data from files"
   ]
  },
  {
   "cell_type": "markdown",
   "metadata": {},
   "source": [
    "In this notebook, we will demonstrate how to infer a schema from a set of files and using it to extract structured data from invoice PDF files.\n",
    "\n",
    "The steps are:\n",
    "1. Infer a schema from the invoices files.\n",
    "2. Extract structured data (i.e. JSONs) from invoice PDF files\n",
    "\n",
    "Additional Resources:\n",
    "- `LlamaExtract`: https://docs.cloud.llamaindex.ai/"
   ]
  },
  {
   "cell_type": "markdown",
   "metadata": {},
   "source": [
    "## Setup\n",
    "Install `llama-extract` client library:"
   ]
  },
  {
   "cell_type": "code",
   "execution_count": null,
   "metadata": {},
   "outputs": [],
   "source": "# %pip install llama-extract"
  },
  {
   "cell_type": "markdown",
   "metadata": {},
   "source": [
    "Bring your own LlamaCloud API key:"
   ]
  },
  {
   "metadata": {
    "ExecuteTime": {
     "end_time": "2024-11-24T02:17:59.403929Z",
     "start_time": "2024-11-24T02:17:59.397337Z"
    }
   },
   "cell_type": "code",
   "source": [
    "import logging\n",
    "from dotenv import load_dotenv"
   ],
   "outputs": [],
   "execution_count": 1
  },
  {
   "metadata": {
    "ExecuteTime": {
     "end_time": "2024-11-24T02:18:01.203954Z",
     "start_time": "2024-11-24T02:18:01.191414Z"
    }
   },
   "cell_type": "code",
   "source": [
    "logging.basicConfig(level=logging.INFO)\n",
    "log = logging.getLogger(__name__)\n",
    "\n",
    "load_dotenv()"
   ],
   "outputs": [
    {
     "data": {
      "text/plain": [
       "True"
      ]
     },
     "execution_count": 2,
     "metadata": {},
     "output_type": "execute_result"
    }
   ],
   "execution_count": 2
  },
  {
   "cell_type": "code",
   "metadata": {
    "ExecuteTime": {
     "end_time": "2024-11-24T02:18:01.927526Z",
     "start_time": "2024-11-24T02:18:01.924960Z"
    }
   },
   "source": [
    "# import os\n",
    "\n",
    "# os.environ[\"LLAMA_CLOUD_API_KEY\"] = \"llx-...\""
   ],
   "outputs": [],
   "execution_count": 3
  },
  {
   "cell_type": "markdown",
   "metadata": {},
   "source": [
    "## Infer the schema\n",
    "First, let's infer the schema using the invoice files with `LlamaExtract`."
   ]
  },
  {
   "cell_type": "code",
   "metadata": {
    "ExecuteTime": {
     "end_time": "2024-11-24T02:18:06.415954Z",
     "start_time": "2024-11-24T02:18:03.742563Z"
    }
   },
   "source": [
    "from llama_extract import LlamaExtract\n",
    "\n",
    "extractor = LlamaExtract()"
   ],
   "outputs": [
    {
     "name": "stderr",
     "output_type": "stream",
     "text": [
      "/Users/may/.virtualenvs/generative_ai/lib/python3.12/site-packages/llama_cloud/types/metadata_filter.py:20: SyntaxWarning: invalid escape sequence '\\*'\n",
      "  \"\"\"\n",
      "INFO:numexpr.utils:NumExpr defaulting to 8 threads.\n"
     ]
    }
   ],
   "execution_count": 4
  },
  {
   "cell_type": "code",
   "metadata": {
    "ExecuteTime": {
     "end_time": "2024-11-24T02:23:26.221254Z",
     "start_time": "2024-11-24T02:23:15.578696Z"
    }
   },
   "source": [
    "extraction_schema = await extractor.ainfer_schema(\n",
    "    \"Test Schema\", [\n",
    "        \"../enhanced_retriever/data/SalesforceFinancial.pdf\",\n",
    "        # \"../enhanced_retriever/data/pdfImages/figure-15-6.jpg\"\n",
    "    ]\n",
    ")"
   ],
   "outputs": [
    {
     "name": "stderr",
     "output_type": "stream",
     "text": [
      "INFO:httpx:HTTP Request: POST https://api.cloud.llamaindex.ai/api/v1/files \"HTTP/1.1 200 OK\"\n",
      "INFO:httpx:HTTP Request: POST https://api.cloud.llamaindex.ai/api/v1/extraction/schemas/infer \"HTTP/1.1 200 OK\"\n"
     ]
    }
   ],
   "execution_count": 12
  },
  {
   "cell_type": "markdown",
   "metadata": {},
   "source": [
    "Preview the inferred schema:"
   ]
  },
  {
   "cell_type": "code",
   "metadata": {
    "ExecuteTime": {
     "end_time": "2024-11-24T02:23:39.960344Z",
     "start_time": "2024-11-24T02:23:39.955787Z"
    }
   },
   "source": [
    "extraction_schema.data_schema"
   ],
   "outputs": [
    {
     "data": {
      "text/plain": [
       "{'type': 'object',\n",
       " '$schema': 'http://json-schema.org/draft-07/schema#',\n",
       " 'properties': {'guidance': {'type': 'object',\n",
       "   'properties': {'revenue': {'type': 'object',\n",
       "     'properties': {'q2': {'type': 'string'}, 'fullYear': {'type': 'string'}}},\n",
       "    'operatingMargin': {'type': 'object',\n",
       "     'properties': {'gaap': {'type': 'string'},\n",
       "      'nonGaap': {'type': 'string'}}},\n",
       "    'earningsPerShare': {'type': 'object',\n",
       "     'properties': {'gaap': {'type': 'string'},\n",
       "      'nonGaap': {'type': 'string'}}},\n",
       "    'operatingCashFlowGrowth': {'type': 'string'},\n",
       "    'currentRemainingPerformanceObligationGrowth': {'type': 'string'}}},\n",
       "  'quarterlyResults': {'type': 'object',\n",
       "   'properties': {'cash': {'type': 'object',\n",
       "     'properties': {'totalCash': {'type': 'number'},\n",
       "      'generatedFromOperations': {'type': 'number'}}},\n",
       "    'operatingMargin': {'type': 'object',\n",
       "     'properties': {'gaap': {'type': 'number'},\n",
       "      'nonGaap': {'type': 'number'}}},\n",
       "    'earningsPerShare': {'type': 'object',\n",
       "     'properties': {'gaap': {'type': 'object',\n",
       "       'properties': {'diluted': {'type': 'number'}}},\n",
       "      'nonGaap': {'type': 'object',\n",
       "       'properties': {'diluted': {'type': 'number'}}}}},\n",
       "    'professionalServicesRevenue': {'type': 'number'},\n",
       "    'remainingPerformanceObligation': {'type': 'object',\n",
       "     'properties': {'total': {'type': 'number'},\n",
       "      'current': {'type': 'number'}}}}}}}"
      ]
     },
     "execution_count": 13,
     "metadata": {},
     "output_type": "execute_result"
    }
   ],
   "execution_count": 13
  },
  {
   "cell_type": "markdown",
   "metadata": {},
   "source": [
    "## Extract structured data\n",
    "Now with the schema, we can extract structured data (i.e. JSON) from the our invoices files."
   ]
  },
  {
   "cell_type": "code",
   "metadata": {
    "ExecuteTime": {
     "end_time": "2024-11-24T02:23:58.905687Z",
     "start_time": "2024-11-24T02:23:46.018457Z"
    }
   },
   "source": [
    "extractions = await extractor.aextract(\n",
    "    extraction_schema.id,\n",
    "    [\n",
    "            \"../enhanced_retriever/data/SalesforceFinancial.pdf\",\n",
    "        # \"../enhanced_retriever/data/pdfImages/figure-15-6.jpg\"\n",
    "    ]\n",
    ")"
   ],
   "outputs": [
    {
     "name": "stderr",
     "output_type": "stream",
     "text": [
      "Extracting files:   0%|          | 0/1 [00:00<?, ?it/s]INFO:httpx:HTTP Request: POST https://api.cloud.llamaindex.ai/api/v1/files \"HTTP/1.1 200 OK\"\n",
      "INFO:httpx:HTTP Request: POST https://api.cloud.llamaindex.ai/api/v1/extraction/jobs \"HTTP/1.1 200 OK\"\n",
      "INFO:httpx:HTTP Request: GET https://api.cloud.llamaindex.ai/api/v1/extraction/jobs/264b6cd9-f829-4653-b301-56acc64946fc \"HTTP/1.1 200 OK\"\n",
      "INFO:httpx:HTTP Request: GET https://api.cloud.llamaindex.ai/api/v1/extraction/jobs/264b6cd9-f829-4653-b301-56acc64946fc \"HTTP/1.1 200 OK\"\n",
      "INFO:httpx:HTTP Request: GET https://api.cloud.llamaindex.ai/api/v1/extraction/jobs/264b6cd9-f829-4653-b301-56acc64946fc \"HTTP/1.1 200 OK\"\n",
      "INFO:httpx:HTTP Request: GET https://api.cloud.llamaindex.ai/api/v1/extraction/jobs/264b6cd9-f829-4653-b301-56acc64946fc \"HTTP/1.1 200 OK\"\n",
      "INFO:httpx:HTTP Request: GET https://api.cloud.llamaindex.ai/api/v1/extraction/jobs/264b6cd9-f829-4653-b301-56acc64946fc \"HTTP/1.1 200 OK\"\n",
      "INFO:httpx:HTTP Request: GET https://api.cloud.llamaindex.ai/api/v1/extraction/jobs/264b6cd9-f829-4653-b301-56acc64946fc/result \"HTTP/1.1 200 OK\"\n",
      "Extracting files: 100%|██████████| 1/1 [00:12<00:00, 12.88s/it]\n"
     ]
    }
   ],
   "execution_count": 14
  },
  {
   "cell_type": "markdown",
   "metadata": {},
   "source": [
    "Preview the extracted data:"
   ]
  },
  {
   "cell_type": "code",
   "metadata": {
    "ExecuteTime": {
     "end_time": "2024-11-24T02:24:06.200537Z",
     "start_time": "2024-11-24T02:24:06.194979Z"
    }
   },
   "source": [
    "extractions[0].data"
   ],
   "outputs": [
    {
     "data": {
      "text/plain": [
       "{'guidance': {'revenue': {'q2': '$7.69 - $7.70 billion',\n",
       "   'fullYear': '$31.7 - $31.8 billion'},\n",
       "  'operatingMargin': {'gaap': 'N/A', 'nonGaap': '~20.4%'},\n",
       "  'earningsPerShare': {'gaap': {'diluted': '($0.03) - ($0.02)'},\n",
       "   'nonGaap': {'diluted': '$1.01 - $1.02'}},\n",
       "  'operatingCashFlowGrowth': 'N/A',\n",
       "  'currentRemainingPerformanceObligationGrowth': '~15%'},\n",
       " 'invalid_schema': True,\n",
       " 'quarterlyResults': {'cash': {'totalCash': 13500,\n",
       "   'generatedFromOperations': 3680},\n",
       "  'operatingMargin': {'gaap': 0.3, 'nonGaap': 17.6},\n",
       "  'earningsPerShare': {'gaap': {'diluted': 0.03},\n",
       "   'nonGaap': {'diluted': 0.98}},\n",
       "  'professionalServicesRevenue': 0.56,\n",
       "  'remainingPerformanceObligation': {'total': 42000, 'current': 21500}}}"
      ]
     },
     "execution_count": 16,
     "metadata": {},
     "output_type": "execute_result"
    }
   ],
   "execution_count": 16
  },
  {
   "metadata": {},
   "cell_type": "code",
   "outputs": [],
   "execution_count": null,
   "source": ""
  }
 ],
 "metadata": {
  "kernelspec": {
   "display_name": "Python 3 (ipykernel)",
   "language": "python",
   "name": "python3"
  },
  "language_info": {
   "codemirror_mode": {
    "name": "ipython",
    "version": 3
   },
   "file_extension": ".py",
   "mimetype": "text/x-python",
   "name": "python",
   "nbconvert_exporter": "python",
   "pygments_lexer": "ipython3"
  }
 },
 "nbformat": 4,
 "nbformat_minor": 4
}
