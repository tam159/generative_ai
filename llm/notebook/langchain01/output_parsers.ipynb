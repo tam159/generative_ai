{
 "cells": [
  {
   "cell_type": "markdown",
   "id": "485f3c32-bc94-4b2a-bbe9-366e381242a4",
   "metadata": {},
   "source": [
    "# Output Parsing\n",
    "\n",
    "This notebook covers functionality related to output parsing. For more information, see:\n",
    "\n",
    "- [List of all Output Parsers](https://python.langchain.com/docs/modules/model_io/output_parsers/)\n",
    "\n",
    "- [OpenAI Function Calling](https://python.langchain.com/docs/modules/model_io/output_parsers/types/openai_functions)"
   ]
  },
  {
   "cell_type": "markdown",
   "id": "baefaf66",
   "metadata": {},
   "source": [
    "## Converting Messages"
   ]
  },
  {
   "cell_type": "code",
   "execution_count": 2,
   "id": "1a53c356",
   "metadata": {
    "ExecuteTime": {
     "end_time": "2024-01-14T15:33:56.454758Z",
     "start_time": "2024-01-14T15:33:56.447249Z"
    }
   },
   "outputs": [],
   "source": [
    "import logging\n",
    "from dotenv import load_dotenv\n",
    "\n",
    "from langchain_openai import ChatOpenAI\n",
    "from langchain_core.prompts import ChatPromptTemplate"
   ]
  },
  {
   "cell_type": "code",
   "outputs": [
    {
     "data": {
      "text/plain": "True"
     },
     "execution_count": 3,
     "metadata": {},
     "output_type": "execute_result"
    }
   ],
   "source": [
    "logging.basicConfig(level=logging.INFO)\n",
    "log = logging.getLogger(__name__)\n",
    "\n",
    "load_dotenv()"
   ],
   "metadata": {
    "collapsed": false,
    "ExecuteTime": {
     "end_time": "2024-01-14T15:34:04.033484Z",
     "start_time": "2024-01-14T15:34:04.021286Z"
    }
   },
   "id": "61ae0423ce9255fb",
   "execution_count": 3
  },
  {
   "cell_type": "code",
   "execution_count": 4,
   "id": "7db51d8e",
   "metadata": {
    "ExecuteTime": {
     "end_time": "2024-01-14T15:34:23.757447Z",
     "start_time": "2024-01-14T15:34:23.709158Z"
    }
   },
   "outputs": [],
   "source": [
    "prompt = ChatPromptTemplate.from_template(\"Tell me a joke about {topic}\")\n",
    "model = ChatOpenAI()"
   ]
  },
  {
   "cell_type": "code",
   "execution_count": 5,
   "id": "7fbd6d14",
   "metadata": {
    "ExecuteTime": {
     "end_time": "2024-01-14T15:34:24.834222Z",
     "start_time": "2024-01-14T15:34:24.828613Z"
    }
   },
   "outputs": [],
   "source": [
    "chain = prompt | model"
   ]
  },
  {
   "cell_type": "code",
   "execution_count": 6,
   "id": "9b028d5e",
   "metadata": {
    "ExecuteTime": {
     "end_time": "2024-01-14T15:34:31.258171Z",
     "start_time": "2024-01-14T15:34:30.472526Z"
    }
   },
   "outputs": [
    {
     "name": "stderr",
     "output_type": "stream",
     "text": [
      "INFO:httpx:HTTP Request: POST https://api.openai.com/v1/chat/completions \"HTTP/1.1 200 OK\"\n"
     ]
    },
    {
     "data": {
      "text/plain": "AIMessage(content=\"Why don't bears wear socks? \\n\\nBecause they have bear feet!\")"
     },
     "execution_count": 6,
     "metadata": {},
     "output_type": "execute_result"
    }
   ],
   "source": [
    "chain.invoke({\"topic\": \"bears\"})"
   ]
  },
  {
   "cell_type": "code",
   "execution_count": 7,
   "id": "f31fd201",
   "metadata": {
    "ExecuteTime": {
     "end_time": "2024-01-14T15:34:38.280845Z",
     "start_time": "2024-01-14T15:34:38.276018Z"
    }
   },
   "outputs": [],
   "source": [
    "from langchain_core.output_parsers import StrOutputParser\n",
    "\n",
    "parser = StrOutputParser()\n",
    "chain = prompt | model | parser"
   ]
  },
  {
   "cell_type": "code",
   "execution_count": 8,
   "id": "86037589",
   "metadata": {
    "ExecuteTime": {
     "end_time": "2024-01-14T15:34:41.410903Z",
     "start_time": "2024-01-14T15:34:40.265389Z"
    }
   },
   "outputs": [
    {
     "name": "stderr",
     "output_type": "stream",
     "text": [
      "INFO:httpx:HTTP Request: POST https://api.openai.com/v1/chat/completions \"HTTP/1.1 200 OK\"\n"
     ]
    },
    {
     "data": {
      "text/plain": "\"Why don't bears wear shoes?\\n\\nBecause they already have bear feet!\""
     },
     "execution_count": 8,
     "metadata": {},
     "output_type": "execute_result"
    }
   ],
   "source": [
    "chain.invoke({\"topic\": \"bears\"})"
   ]
  },
  {
   "cell_type": "markdown",
   "id": "620eb059",
   "metadata": {},
   "source": [
    "## OpenAI Function Calling"
   ]
  },
  {
   "cell_type": "code",
   "execution_count": 9,
   "id": "f9e2cb72",
   "metadata": {
    "ExecuteTime": {
     "end_time": "2024-01-14T15:35:29.099983Z",
     "start_time": "2024-01-14T15:35:29.091851Z"
    }
   },
   "outputs": [],
   "source": [
    "from langchain.utils.openai_functions import (\n",
    "    convert_pydantic_to_openai_function,\n",
    ")\n",
    "from langchain_core.prompts import ChatPromptTemplate\n",
    "from langchain_core.pydantic_v1 import BaseModel, Field, validator"
   ]
  },
  {
   "cell_type": "code",
   "execution_count": 10,
   "id": "052534a4",
   "metadata": {
    "ExecuteTime": {
     "end_time": "2024-01-14T15:36:26.342617Z",
     "start_time": "2024-01-14T15:36:26.336032Z"
    }
   },
   "outputs": [],
   "source": [
    "class Joke(BaseModel):\n",
    "    \"\"\"Joke to tell user.\"\"\"\n",
    "\n",
    "    setup: str = Field(description=\"question to set up a joke\")\n",
    "    punchline: str = Field(description=\"answer to resolve the joke\")\n",
    "\n",
    "\n",
    "openai_functions = [convert_pydantic_to_openai_function(Joke)]"
   ]
  },
  {
   "cell_type": "code",
   "execution_count": 11,
   "id": "27be9acc",
   "metadata": {
    "ExecuteTime": {
     "end_time": "2024-01-14T15:36:35.973905Z",
     "start_time": "2024-01-14T15:36:35.941025Z"
    }
   },
   "outputs": [],
   "source": [
    "from langchain.output_parsers.openai_functions import JsonOutputFunctionsParser"
   ]
  },
  {
   "cell_type": "code",
   "execution_count": 12,
   "id": "8b14e0fb",
   "metadata": {
    "ExecuteTime": {
     "end_time": "2024-01-14T15:36:37.992015Z",
     "start_time": "2024-01-14T15:36:37.982310Z"
    }
   },
   "outputs": [],
   "source": [
    "parser = JsonOutputFunctionsParser()"
   ]
  },
  {
   "cell_type": "code",
   "execution_count": 13,
   "id": "d51ea7df",
   "metadata": {
    "ExecuteTime": {
     "end_time": "2024-01-14T15:36:53.301396Z",
     "start_time": "2024-01-14T15:36:53.295029Z"
    }
   },
   "outputs": [],
   "source": [
    "chain = prompt | model.bind(functions=openai_functions) | parser"
   ]
  },
  {
   "cell_type": "code",
   "execution_count": 15,
   "id": "8acc8289",
   "metadata": {
    "ExecuteTime": {
     "end_time": "2024-01-14T15:38:33.319150Z",
     "start_time": "2024-01-14T15:38:32.353948Z"
    }
   },
   "outputs": [
    {
     "name": "stderr",
     "output_type": "stream",
     "text": [
      "INFO:httpx:HTTP Request: POST https://api.openai.com/v1/chat/completions \"HTTP/1.1 200 OK\"\n"
     ]
    },
    {
     "data": {
      "text/plain": "{'setup': \"Why don't bears wear shoes?\",\n 'punchline': 'Because they have bear feet!'}"
     },
     "execution_count": 15,
     "metadata": {},
     "output_type": "execute_result"
    }
   ],
   "source": [
    "chain.invoke({\"topic\": \"bears\"})"
   ]
  },
  {
   "cell_type": "markdown",
   "id": "660537da",
   "metadata": {},
   "source": [
    "## Streaming"
   ]
  },
  {
   "cell_type": "code",
   "execution_count": 16,
   "id": "346804c2",
   "metadata": {
    "ExecuteTime": {
     "end_time": "2024-01-14T15:46:37.907285Z",
     "start_time": "2024-01-14T15:46:36.942389Z"
    }
   },
   "outputs": [
    {
     "name": "stderr",
     "output_type": "stream",
     "text": [
      "INFO:httpx:HTTP Request: POST https://api.openai.com/v1/chat/completions \"HTTP/1.1 200 OK\"\n"
     ]
    },
    {
     "name": "stdout",
     "output_type": "stream",
     "text": [
      "{}\n",
      "{'setup': ''}\n",
      "{'setup': 'Why'}\n",
      "{'setup': 'Why don'}\n",
      "{'setup': \"Why don't\"}\n",
      "{'setup': \"Why don't scientists\"}\n",
      "{'setup': \"Why don't scientists trust\"}\n",
      "{'setup': \"Why don't scientists trust atoms\"}\n",
      "{'setup': \"Why don't scientists trust atoms?\"}\n",
      "{'setup': \"Why don't scientists trust atoms?\", 'punchline': ''}\n",
      "{'setup': \"Why don't scientists trust atoms?\", 'punchline': 'Because'}\n",
      "{'setup': \"Why don't scientists trust atoms?\", 'punchline': 'Because they'}\n",
      "{'setup': \"Why don't scientists trust atoms?\", 'punchline': 'Because they make'}\n",
      "{'setup': \"Why don't scientists trust atoms?\", 'punchline': 'Because they make up'}\n",
      "{'setup': \"Why don't scientists trust atoms?\", 'punchline': 'Because they make up everything'}\n",
      "{'setup': \"Why don't scientists trust atoms?\", 'punchline': 'Because they make up everything!'}\n"
     ]
    }
   ],
   "source": [
    "for s in chain.stream({\"topic\": \"bars\"}):\n",
    "    print(s)"
   ]
  },
  {
   "cell_type": "code",
   "outputs": [],
   "source": [],
   "metadata": {
    "collapsed": false
   },
   "id": "9b22cc060da37f36"
  }
 ],
 "metadata": {
  "kernelspec": {
   "display_name": "Python 3 (ipykernel)",
   "language": "python",
   "name": "python3"
  },
  "language_info": {
   "codemirror_mode": {
    "name": "ipython",
    "version": 3
   },
   "file_extension": ".py",
   "mimetype": "text/x-python",
   "name": "python",
   "nbconvert_exporter": "python",
   "pygments_lexer": "ipython3",
   "version": "3.11.1"
  }
 },
 "nbformat": 4,
 "nbformat_minor": 5
}
