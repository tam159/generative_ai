{
 "cells": [
  {
   "cell_type": "markdown",
   "id": "78ec6921",
   "metadata": {},
   "source": [
    "# Agents\n",
    "\n",
    "This notebook covers basic functionality related to agents. For more in detail documentation, see:\n",
    "\n",
    "- [Agent Documentation](https://python.langchain.com/docs/modules/agents/)\n",
    "\n",
    "- [Agent Types](https://python.langchain.com/docs/modules/agents/agent_types/)"
   ]
  },
  {
   "cell_type": "code",
   "execution_count": 1,
   "id": "7b2421f4",
   "metadata": {
    "ExecuteTime": {
     "end_time": "2024-01-14T15:56:37.546753Z",
     "start_time": "2024-01-14T15:56:36.266553Z"
    }
   },
   "outputs": [],
   "source": [
    "from langchain_community.tools.tavily_search import TavilySearchResults\n",
    "from langchain_openai import ChatOpenAI\n",
    "from langchain import hub\n",
    "from langchain.agents import create_openai_functions_agent\n",
    "from langchain.agents import AgentExecutor"
   ]
  },
  {
   "cell_type": "code",
   "outputs": [],
   "source": [
    "import logging\n",
    "from dotenv import load_dotenv"
   ],
   "metadata": {
    "collapsed": false,
    "ExecuteTime": {
     "end_time": "2024-01-14T15:56:43.260035Z",
     "start_time": "2024-01-14T15:56:43.252424Z"
    }
   },
   "id": "7034416486c8b80f",
   "execution_count": 2
  },
  {
   "cell_type": "code",
   "outputs": [
    {
     "data": {
      "text/plain": "True"
     },
     "execution_count": 3,
     "metadata": {},
     "output_type": "execute_result"
    }
   ],
   "source": [
    "logging.basicConfig(level=logging.INFO)\n",
    "log = logging.getLogger(__name__)\n",
    "\n",
    "load_dotenv()"
   ],
   "metadata": {
    "collapsed": false,
    "ExecuteTime": {
     "end_time": "2024-01-14T15:56:48.726210Z",
     "start_time": "2024-01-14T15:56:48.719527Z"
    }
   },
   "id": "ccd742a9341f5d15",
   "execution_count": 3
  },
  {
   "cell_type": "markdown",
   "id": "4d5efcf4",
   "metadata": {},
   "source": [
    "## Prompt"
   ]
  },
  {
   "cell_type": "code",
   "execution_count": 4,
   "id": "5992682a",
   "metadata": {
    "ExecuteTime": {
     "end_time": "2024-01-14T15:56:52.368526Z",
     "start_time": "2024-01-14T15:56:51.121525Z"
    }
   },
   "outputs": [],
   "source": [
    "# Get the prompt to use - you can modify this!\n",
    "prompt = hub.pull(\"hwchase17/openai-functions-agent\")"
   ]
  },
  {
   "cell_type": "code",
   "outputs": [
    {
     "data": {
      "text/plain": "ChatPromptTemplate(input_variables=['agent_scratchpad', 'input'], input_types={'chat_history': typing.List[typing.Union[langchain_core.messages.ai.AIMessage, langchain_core.messages.human.HumanMessage, langchain_core.messages.chat.ChatMessage, langchain_core.messages.system.SystemMessage, langchain_core.messages.function.FunctionMessage, langchain_core.messages.tool.ToolMessage]], 'agent_scratchpad': typing.List[typing.Union[langchain_core.messages.ai.AIMessage, langchain_core.messages.human.HumanMessage, langchain_core.messages.chat.ChatMessage, langchain_core.messages.system.SystemMessage, langchain_core.messages.function.FunctionMessage, langchain_core.messages.tool.ToolMessage]]}, messages=[SystemMessagePromptTemplate(prompt=PromptTemplate(input_variables=[], template='You are a helpful assistant')), MessagesPlaceholder(variable_name='chat_history', optional=True), HumanMessagePromptTemplate(prompt=PromptTemplate(input_variables=['input'], template='{input}')), MessagesPlaceholder(variable_name='agent_scratchpad')])"
     },
     "execution_count": 5,
     "metadata": {},
     "output_type": "execute_result"
    }
   ],
   "source": [
    "prompt"
   ],
   "metadata": {
    "collapsed": false,
    "ExecuteTime": {
     "end_time": "2024-01-14T15:56:58.081915Z",
     "start_time": "2024-01-14T15:56:58.075192Z"
    }
   },
   "id": "268331c7903b2f2e",
   "execution_count": 5
  },
  {
   "cell_type": "markdown",
   "id": "3716d768",
   "metadata": {},
   "source": [
    "## LLM"
   ]
  },
  {
   "cell_type": "code",
   "execution_count": 6,
   "id": "30acf78d",
   "metadata": {
    "ExecuteTime": {
     "end_time": "2024-01-14T15:57:01.001964Z",
     "start_time": "2024-01-14T15:57:00.962759Z"
    }
   },
   "outputs": [],
   "source": [
    "llm = ChatOpenAI(model=\"gpt-3.5-turbo\", temperature=0)"
   ]
  },
  {
   "cell_type": "markdown",
   "id": "a3fd4cf9",
   "metadata": {},
   "source": [
    "## Tools"
   ]
  },
  {
   "cell_type": "code",
   "execution_count": 7,
   "id": "32a2c52f",
   "metadata": {
    "ExecuteTime": {
     "end_time": "2024-01-14T15:57:01.797163Z",
     "start_time": "2024-01-14T15:57:01.792685Z"
    }
   },
   "outputs": [],
   "source": [
    "search = TavilySearchResults()\n",
    "tools = [search]"
   ]
  },
  {
   "cell_type": "markdown",
   "id": "7daee658",
   "metadata": {},
   "source": [
    "## Agent"
   ]
  },
  {
   "cell_type": "code",
   "execution_count": 8,
   "id": "b6152ad4",
   "metadata": {
    "ExecuteTime": {
     "end_time": "2024-01-14T15:57:06.580121Z",
     "start_time": "2024-01-14T15:57:06.576049Z"
    }
   },
   "outputs": [],
   "source": [
    "agent = create_openai_functions_agent(llm, tools, prompt)"
   ]
  },
  {
   "cell_type": "code",
   "execution_count": 9,
   "id": "df123904",
   "metadata": {
    "ExecuteTime": {
     "end_time": "2024-01-14T15:57:11.755287Z",
     "start_time": "2024-01-14T15:57:10.787431Z"
    }
   },
   "outputs": [
    {
     "name": "stderr",
     "output_type": "stream",
     "text": [
      "INFO:httpx:HTTP Request: POST https://api.openai.com/v1/chat/completions \"HTTP/1.1 200 OK\"\n"
     ]
    }
   ],
   "source": [
    "result = agent.invoke({\"input\": \"what's the weather in SF?\", \"intermediate_steps\": []})"
   ]
  },
  {
   "cell_type": "code",
   "execution_count": 10,
   "id": "fbf7ceb5",
   "metadata": {
    "ExecuteTime": {
     "end_time": "2024-01-14T15:58:20.144465Z",
     "start_time": "2024-01-14T15:58:20.137571Z"
    }
   },
   "outputs": [
    {
     "data": {
      "text/plain": "'tavily_search_results_json'"
     },
     "execution_count": 10,
     "metadata": {},
     "output_type": "execute_result"
    }
   ],
   "source": [
    "result.tool"
   ]
  },
  {
   "cell_type": "code",
   "execution_count": 11,
   "id": "ee380cf3",
   "metadata": {
    "ExecuteTime": {
     "end_time": "2024-01-14T15:58:24.895178Z",
     "start_time": "2024-01-14T15:58:24.870866Z"
    }
   },
   "outputs": [
    {
     "data": {
      "text/plain": "{'query': 'weather in San Francisco'}"
     },
     "execution_count": 11,
     "metadata": {},
     "output_type": "execute_result"
    }
   ],
   "source": [
    "result.tool_input"
   ]
  },
  {
   "cell_type": "code",
   "execution_count": 12,
   "id": "55f14f30",
   "metadata": {
    "ExecuteTime": {
     "end_time": "2024-01-14T15:58:30.838990Z",
     "start_time": "2024-01-14T15:58:30.825324Z"
    }
   },
   "outputs": [
    {
     "data": {
      "text/plain": "AgentActionMessageLog(tool='tavily_search_results_json', tool_input={'query': 'weather in San Francisco'}, log=\"\\nInvoking: `tavily_search_results_json` with `{'query': 'weather in San Francisco'}`\\n\\n\\n\", message_log=[AIMessage(content='', additional_kwargs={'function_call': {'arguments': '{\\n  \"query\": \"weather in San Francisco\"\\n}', 'name': 'tavily_search_results_json'}})])"
     },
     "execution_count": 12,
     "metadata": {},
     "output_type": "execute_result"
    }
   ],
   "source": [
    "result"
   ]
  },
  {
   "cell_type": "markdown",
   "id": "87a3993e",
   "metadata": {},
   "source": [
    "## Agent Executor"
   ]
  },
  {
   "cell_type": "code",
   "execution_count": 13,
   "id": "2eef3db8",
   "metadata": {
    "ExecuteTime": {
     "end_time": "2024-01-14T15:59:47.111373Z",
     "start_time": "2024-01-14T15:59:47.102432Z"
    }
   },
   "outputs": [],
   "source": [
    "agent_executor = AgentExecutor(agent=agent, tools=tools)"
   ]
  },
  {
   "cell_type": "code",
   "execution_count": 14,
   "id": "a6c08822",
   "metadata": {
    "ExecuteTime": {
     "end_time": "2024-01-14T16:00:03.356283Z",
     "start_time": "2024-01-14T15:59:57.282538Z"
    }
   },
   "outputs": [
    {
     "name": "stderr",
     "output_type": "stream",
     "text": [
      "INFO:httpx:HTTP Request: POST https://api.openai.com/v1/chat/completions \"HTTP/1.1 200 OK\"\n",
      "INFO:httpx:HTTP Request: POST https://api.openai.com/v1/chat/completions \"HTTP/1.1 200 OK\"\n"
     ]
    },
    {
     "data": {
      "text/plain": "{'input': 'what is the weather in sf?',\n 'output': \"I'm sorry, but I couldn't find the current weather in San Francisco. However, you can check websites like Weather.com or AccuWeather for the most up-to-date weather information.\"}"
     },
     "execution_count": 14,
     "metadata": {},
     "output_type": "execute_result"
    }
   ],
   "source": [
    "agent_executor.invoke({\"input\": \"what is the weather in sf?\"})"
   ]
  },
  {
   "cell_type": "markdown",
   "id": "4e8ca119",
   "metadata": {},
   "source": [
    "## Streaming"
   ]
  },
  {
   "cell_type": "code",
   "execution_count": 15,
   "id": "e9b9dd6e",
   "metadata": {
    "ExecuteTime": {
     "end_time": "2024-01-14T16:00:13.352670Z",
     "start_time": "2024-01-14T16:00:06.690859Z"
    }
   },
   "outputs": [
    {
     "name": "stderr",
     "output_type": "stream",
     "text": [
      "INFO:httpx:HTTP Request: POST https://api.openai.com/v1/chat/completions \"HTTP/1.1 200 OK\"\n"
     ]
    },
    {
     "name": "stdout",
     "output_type": "stream",
     "text": [
      "{'actions': [AgentActionMessageLog(tool='tavily_search_results_json', tool_input={'query': 'weather in San Francisco'}, log=\"\\nInvoking: `tavily_search_results_json` with `{'query': 'weather in San Francisco'}`\\n\\n\\n\", message_log=[AIMessage(content='', additional_kwargs={'function_call': {'arguments': '{\\n  \"query\": \"weather in San Francisco\"\\n}', 'name': 'tavily_search_results_json'}})])], 'messages': [AIMessage(content='', additional_kwargs={'function_call': {'arguments': '{\\n  \"query\": \"weather in San Francisco\"\\n}', 'name': 'tavily_search_results_json'}})]}\n",
      "{'steps': [AgentStep(action=AgentActionMessageLog(tool='tavily_search_results_json', tool_input={'query': 'weather in San Francisco'}, log=\"\\nInvoking: `tavily_search_results_json` with `{'query': 'weather in San Francisco'}`\\n\\n\\n\", message_log=[AIMessage(content='', additional_kwargs={'function_call': {'arguments': '{\\n  \"query\": \"weather in San Francisco\"\\n}', 'name': 'tavily_search_results_json'}})]), observation=[{'url': 'https://weatherspark.com/h/m/557/2024/1/Historical-Weather-in-January-2024-in-San-Francisco-California-United-States', 'content': 'January 2024 Weather History in San Francisco California, United States  Daily Precipitation in January 2024 in San Francisco Observed Weather in January 2024 in San Francisco  San Francisco Temperature History January 2024 Hourly Temperature in January 2024 in San Francisco  Hours of Daylight and Twilight in January 2024 in San Francisco80 deg, E Cloud Cover Mostly Cloudy 18,000 ft Mostly Clear 4,000 ft Partly Cloudy 15,000 ft Raw: KSFO 121956Z 08006KT 10SM FEW040 SCT150 BKN180 11/07 A3028 RMK AO2 SLP254 T01110067 This report shows the past weather for San Francisco, providing a weather history for January 2024.'}, {'url': 'https://www.whereandwhen.net/when/north-america/california/san-francisco-ca/january/', 'content': 'Best time to go to San Francisco? Weather in San Francisco in january 2024  How was the weather last january? Here is the day by day recorded weather in San Francisco in january 2023:  Seasonal average climate and temperature of San Francisco in january  8% 46% 29% 12% 8% Evolution of daily average temperature and precipitation in San Francisco in januaryWeather in San Francisco in january 2024. The weather in San Francisco in january comes from statistical datas on the past years. You can view the weather statistics the entire month, but also by using the tabs for the beginning, the middle and the end of the month. ... 14-01-2023 54°F to 58°F. 15-01-2023 50°F to 52°F. 16-01-2023 45°F to ...'}, {'url': 'https://en.climate-data.org/north-america/united-states-of-america/california/san-francisco-385/t/january-1/', 'content': 'San Francisco Weather in January  San Francisco weather in January San Francisco weather by month // weather averages 9.6 (49.2) 6.2 (43.2) 14 (57.3) 113  San Francisco weather in January // weather averages Airport close to San Francisco  you can find all information about the weather in San Francisco in January:Data: 1991 - 2021 Min. Temperature °C (°F), Max. Temperature °C (°F), Precipitation / Rainfall mm (in), Humidity, Rainy days. Data: 1999 - 2019: avg. Sun hours San Francisco weather and climate for further months San Francisco in February San Francisco in March San Francisco in April San Francisco in May San Francisco in June San Francisco in July'}, {'url': 'https://www.sfchronicle.com/weather/article/the-nation-s-weather-18607684.php', 'content': \"The Nation's Weather The Nation's Weather for Sunday, January 14, 2024 _____ NATIONAL SUMMARY Advertisement  afternoon. SPECIAL WEATHER Advertisement Article continues below this ad No new information for this time period.  WEATHER HIGHLIGHTS No new information for this time period. DAILY EXTREMES National High Saturday 86 at Miami, FL  far. Conditions will begin to improve in the Northwest, with any leftover snow, ice and rain coming to an end in theThe Nation's Weather for Sunday, January 14, 2024. The Nation's Weather for Sunday, January 14, 2024 ... San Francisco Chronicle Logo. About. Our Company Careers Our Use of AI Standards and Practices.\"}])], 'messages': [FunctionMessage(content='[{\"url\": \"https://weatherspark.com/h/m/557/2024/1/Historical-Weather-in-January-2024-in-San-Francisco-California-United-States\", \"content\": \"January 2024 Weather History in San Francisco California, United States  Daily Precipitation in January 2024 in San Francisco Observed Weather in January 2024 in San Francisco  San Francisco Temperature History January 2024 Hourly Temperature in January 2024 in San Francisco  Hours of Daylight and Twilight in January 2024 in San Francisco80 deg, E Cloud Cover Mostly Cloudy 18,000 ft Mostly Clear 4,000 ft Partly Cloudy 15,000 ft Raw: KSFO 121956Z 08006KT 10SM FEW040 SCT150 BKN180 11/07 A3028 RMK AO2 SLP254 T01110067 This report shows the past weather for San Francisco, providing a weather history for January 2024.\"}, {\"url\": \"https://www.whereandwhen.net/when/north-america/california/san-francisco-ca/january/\", \"content\": \"Best time to go to San Francisco? Weather in San Francisco in january 2024  How was the weather last january? Here is the day by day recorded weather in San Francisco in january 2023:  Seasonal average climate and temperature of San Francisco in january  8% 46% 29% 12% 8% Evolution of daily average temperature and precipitation in San Francisco in januaryWeather in San Francisco in january 2024. The weather in San Francisco in january comes from statistical datas on the past years. You can view the weather statistics the entire month, but also by using the tabs for the beginning, the middle and the end of the month. ... 14-01-2023 54°F to 58°F. 15-01-2023 50°F to 52°F. 16-01-2023 45°F to ...\"}, {\"url\": \"https://en.climate-data.org/north-america/united-states-of-america/california/san-francisco-385/t/january-1/\", \"content\": \"San Francisco Weather in January  San Francisco weather in January San Francisco weather by month // weather averages 9.6 (49.2) 6.2 (43.2) 14 (57.3) 113  San Francisco weather in January // weather averages Airport close to San Francisco  you can find all information about the weather in San Francisco in January:Data: 1991 - 2021 Min. Temperature °C (°F), Max. Temperature °C (°F), Precipitation / Rainfall mm (in), Humidity, Rainy days. Data: 1999 - 2019: avg. Sun hours San Francisco weather and climate for further months San Francisco in February San Francisco in March San Francisco in April San Francisco in May San Francisco in June San Francisco in July\"}, {\"url\": \"https://www.sfchronicle.com/weather/article/the-nation-s-weather-18607684.php\", \"content\": \"The Nation\\'s Weather The Nation\\'s Weather for Sunday, January 14, 2024 _____ NATIONAL SUMMARY Advertisement  afternoon. SPECIAL WEATHER Advertisement Article continues below this ad No new information for this time period.  WEATHER HIGHLIGHTS No new information for this time period. DAILY EXTREMES National High Saturday 86 at Miami, FL  far. Conditions will begin to improve in the Northwest, with any leftover snow, ice and rain coming to an end in theThe Nation\\'s Weather for Sunday, January 14, 2024. The Nation\\'s Weather for Sunday, January 14, 2024 ... San Francisco Chronicle Logo. About. Our Company Careers Our Use of AI Standards and Practices.\"}]', name='tavily_search_results_json')]}\n"
     ]
    },
    {
     "name": "stderr",
     "output_type": "stream",
     "text": [
      "INFO:httpx:HTTP Request: POST https://api.openai.com/v1/chat/completions \"HTTP/1.1 200 OK\"\n"
     ]
    },
    {
     "name": "stdout",
     "output_type": "stream",
     "text": [
      "{'output': \"I'm sorry, but I couldn't find the current weather in San Francisco. However, you can check websites like Weather.com or AccuWeather for the most up-to-date weather information.\", 'messages': [AIMessage(content=\"I'm sorry, but I couldn't find the current weather in San Francisco. However, you can check websites like Weather.com or AccuWeather for the most up-to-date weather information.\")]}\n"
     ]
    }
   ],
   "source": [
    "for step in agent_executor.stream({\"input\": \"what is the weather in sf?\"}):\n",
    "    print(step)"
   ]
  },
  {
   "cell_type": "code",
   "execution_count": null,
   "id": "ba35f057",
   "metadata": {},
   "outputs": [],
   "source": []
  }
 ],
 "metadata": {
  "kernelspec": {
   "display_name": "Python 3 (ipykernel)",
   "language": "python",
   "name": "python3"
  },
  "language_info": {
   "codemirror_mode": {
    "name": "ipython",
    "version": 3
   },
   "file_extension": ".py",
   "mimetype": "text/x-python",
   "name": "python",
   "nbconvert_exporter": "python",
   "pygments_lexer": "ipython3",
   "version": "3.11.1"
  }
 },
 "nbformat": 4,
 "nbformat_minor": 5
}
