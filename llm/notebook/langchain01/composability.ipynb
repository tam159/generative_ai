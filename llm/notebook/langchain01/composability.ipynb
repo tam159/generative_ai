{
 "cells": [
  {
   "cell_type": "markdown",
   "id": "a81ab12d-6512-4c27-8b82-9e12dec6d4d6",
   "metadata": {},
   "source": [
    "# Composability\n",
    "\n",
    "This notebook shows off some basic functionality around LangChain Expression Language, which makes it really easy to compose arbitrary chains.\n",
    "\n",
    "For a much deeper dive, see:\n",
    "\n",
    "- [Full LangChain Expression Language Documentation](https://python.langchain.com/docs/expression_language/)"
   ]
  },
  {
   "cell_type": "markdown",
   "id": "44b9f0ca",
   "metadata": {},
   "source": [
    "## Basic Composability"
   ]
  },
  {
   "cell_type": "code",
   "execution_count": 7,
   "id": "504f9999",
   "metadata": {
    "ExecuteTime": {
     "end_time": "2024-01-14T03:13:11.961967Z",
     "start_time": "2024-01-14T03:13:11.951677Z"
    }
   },
   "outputs": [],
   "source": [
    "import logging\n",
    "from dotenv import load_dotenv\n",
    "\n",
    "from langchain_openai import ChatOpenAI\n",
    "from langchain_core.prompts import ChatPromptTemplate\n",
    "from langchain_core.output_parsers import StrOutputParser"
   ]
  },
  {
   "cell_type": "code",
   "outputs": [
    {
     "data": {
      "text/plain": "True"
     },
     "execution_count": 8,
     "metadata": {},
     "output_type": "execute_result"
    }
   ],
   "source": [
    "logging.basicConfig(level=logging.INFO)\n",
    "log = logging.getLogger(__name__)\n",
    "\n",
    "load_dotenv()"
   ],
   "metadata": {
    "collapsed": false,
    "ExecuteTime": {
     "end_time": "2024-01-14T03:13:19.226911Z",
     "start_time": "2024-01-14T03:13:19.218834Z"
    }
   },
   "id": "e5887144b908b95f",
   "execution_count": 8
  },
  {
   "cell_type": "code",
   "execution_count": 9,
   "id": "c629ae08",
   "metadata": {
    "ExecuteTime": {
     "end_time": "2024-01-14T03:13:20.144203Z",
     "start_time": "2024-01-14T03:13:20.118167Z"
    }
   },
   "outputs": [],
   "source": [
    "prompt = ChatPromptTemplate.from_template(\"Tell me a joke about {topic}\")\n",
    "model = ChatOpenAI()\n",
    "output_parser = StrOutputParser()"
   ]
  },
  {
   "cell_type": "code",
   "execution_count": 10,
   "id": "47e25734",
   "metadata": {
    "ExecuteTime": {
     "end_time": "2024-01-14T03:13:20.678813Z",
     "start_time": "2024-01-14T03:13:20.674162Z"
    }
   },
   "outputs": [],
   "source": [
    "chain = prompt | model | output_parser"
   ]
  },
  {
   "cell_type": "code",
   "execution_count": 11,
   "id": "b97b0fed",
   "metadata": {
    "ExecuteTime": {
     "end_time": "2024-01-14T03:13:22.583815Z",
     "start_time": "2024-01-14T03:13:21.413406Z"
    }
   },
   "outputs": [
    {
     "name": "stderr",
     "output_type": "stream",
     "text": [
      "INFO:httpx:HTTP Request: POST https://api.openai.com/v1/chat/completions \"HTTP/1.1 200 OK\"\n"
     ]
    },
    {
     "data": {
      "text/plain": "\"Sure, here's a bear joke for you: \\n\\nWhy don't bears wear shoes?\\n\\nBecause they have bear feet!\""
     },
     "execution_count": 11,
     "metadata": {},
     "output_type": "execute_result"
    }
   ],
   "source": [
    "chain.invoke({\"topic\": \"bears\"})"
   ]
  },
  {
   "cell_type": "markdown",
   "id": "1391ac95",
   "metadata": {},
   "source": [
    "### Batching"
   ]
  },
  {
   "cell_type": "code",
   "execution_count": 12,
   "id": "edaab49c",
   "metadata": {
    "ExecuteTime": {
     "end_time": "2024-01-14T03:13:28.085717Z",
     "start_time": "2024-01-14T03:13:27.048839Z"
    }
   },
   "outputs": [
    {
     "name": "stderr",
     "output_type": "stream",
     "text": [
      "INFO:httpx:HTTP Request: POST https://api.openai.com/v1/chat/completions \"HTTP/1.1 200 OK\"\n",
      "INFO:httpx:HTTP Request: POST https://api.openai.com/v1/chat/completions \"HTTP/1.1 200 OK\"\n"
     ]
    },
    {
     "data": {
      "text/plain": "[\"Why don't bears like fast food?\\n\\nBecause they can't catch it!\",\n 'Why don\\'t clowns like talking on the phone? \\n\\nBecause they\\'re afraid of getting a \"call\" from their shoe!']"
     },
     "execution_count": 12,
     "metadata": {},
     "output_type": "execute_result"
    }
   ],
   "source": [
    "chain.batch([{\"topic\": \"bear\"}, {\"topic\": \"clowns\"}])"
   ]
  },
  {
   "cell_type": "markdown",
   "id": "2074e242",
   "metadata": {},
   "source": [
    "### Streaming"
   ]
  },
  {
   "cell_type": "code",
   "execution_count": 13,
   "id": "5c29b910",
   "metadata": {
    "ExecuteTime": {
     "end_time": "2024-01-14T03:15:49.992587Z",
     "start_time": "2024-01-14T03:15:49.238021Z"
    }
   },
   "outputs": [
    {
     "name": "stderr",
     "output_type": "stream",
     "text": [
      "INFO:httpx:HTTP Request: POST https://api.openai.com/v1/chat/completions \"HTTP/1.1 200 OK\"\n"
     ]
    },
    {
     "name": "stdout",
     "output_type": "stream",
     "text": [
      "\n",
      "Sure\n",
      ",\n",
      " here\n",
      "'s\n",
      " a\n",
      " bear\n",
      "-related\n",
      " joke\n",
      " for\n",
      " you\n",
      ":\n",
      "\n",
      "\n",
      "Why\n",
      " don\n",
      "'t\n",
      " bears\n",
      " wear\n",
      " shoes\n",
      "?\n",
      "\n",
      "\n",
      "Because\n",
      " they\n",
      " have\n",
      " bear\n",
      " feet\n",
      "!\n"
     ]
    }
   ],
   "source": [
    "for s in chain.stream({\"topic\": \"bears\"}):\n",
    "    print(s)"
   ]
  },
  {
   "cell_type": "markdown",
   "id": "caa5be86",
   "metadata": {},
   "source": [
    "## RunnablePassthrough"
   ]
  },
  {
   "cell_type": "code",
   "execution_count": 14,
   "id": "e0ed6b75",
   "metadata": {
    "ExecuteTime": {
     "end_time": "2024-01-14T03:17:48.282624Z",
     "start_time": "2024-01-14T03:17:48.183242Z"
    }
   },
   "outputs": [],
   "source": [
    "from langchain_community.retrievers.tavily_search_api import TavilySearchAPIRetriever\n",
    "\n",
    "retriever= TavilySearchAPIRetriever()\n",
    "\n",
    "prompt = ChatPromptTemplate.from_template(\"\"\"Answer the question based only on the context provided:\n",
    "\n",
    "Context: {context}\n",
    "\n",
    "Question: {question}\"\"\")"
   ]
  },
  {
   "cell_type": "code",
   "execution_count": 15,
   "id": "94e75648",
   "metadata": {
    "ExecuteTime": {
     "end_time": "2024-01-14T03:17:49.185277Z",
     "start_time": "2024-01-14T03:17:49.179272Z"
    }
   },
   "outputs": [],
   "source": [
    "chain = prompt | model | output_parser"
   ]
  },
  {
   "cell_type": "code",
   "execution_count": 16,
   "id": "abcbf78f",
   "metadata": {
    "ExecuteTime": {
     "end_time": "2024-01-14T03:17:57.284388Z",
     "start_time": "2024-01-14T03:17:56.361178Z"
    }
   },
   "outputs": [
    {
     "name": "stderr",
     "output_type": "stream",
     "text": [
      "INFO:httpx:HTTP Request: POST https://api.openai.com/v1/chat/completions \"HTTP/1.1 200 OK\"\n"
     ]
    },
    {
     "data": {
      "text/plain": "'Langsmith is a testing and observability platform developed by the Langchain team.'"
     },
     "execution_count": 16,
     "metadata": {},
     "output_type": "execute_result"
    }
   ],
   "source": [
    "question = \"what is langsmith\"\n",
    "context = \"langsmith is a testing and observability platform built by the langchain team\"\n",
    "chain.invoke({\"question\": question, \"context\": context})"
   ]
  },
  {
   "cell_type": "code",
   "execution_count": 17,
   "id": "98b8a905",
   "metadata": {
    "ExecuteTime": {
     "end_time": "2024-01-14T03:42:26.372430Z",
     "start_time": "2024-01-14T03:42:26.368645Z"
    }
   },
   "outputs": [],
   "source": [
    "from langchain_core.runnables import RunnablePassthrough\n",
    "\n",
    "retrieval_chain = RunnablePassthrough.assign(\n",
    "    context=(lambda x: x[\"question\"]) | retriever\n",
    ") | chain"
   ]
  },
  {
   "cell_type": "code",
   "execution_count": 18,
   "id": "4c488db8",
   "metadata": {
    "ExecuteTime": {
     "end_time": "2024-01-14T03:42:30.358665Z",
     "start_time": "2024-01-14T03:42:26.742462Z"
    }
   },
   "outputs": [
    {
     "name": "stderr",
     "output_type": "stream",
     "text": [
      "INFO:httpx:HTTP Request: POST https://api.openai.com/v1/chat/completions \"HTTP/1.1 200 OK\"\n"
     ]
    },
    {
     "data": {
      "text/plain": "'LangSmith is a platform that helps trace, evaluate, and monitor language model applications and intelligent agents. It provides tools for debugging, testing, and evaluating chains and agents built on any Language Model (LLM) framework. LangSmith seamlessly integrates with LangChain, an open-source framework for building with LLMs.'"
     },
     "execution_count": 18,
     "metadata": {},
     "output_type": "execute_result"
    }
   ],
   "source": [
    "retrieval_chain.invoke({\"question\": \"what is langsmith\"})"
   ]
  },
  {
   "cell_type": "markdown",
   "id": "7f5cff2b",
   "metadata": {},
   "source": [
    "## RunnableParallel"
   ]
  },
  {
   "cell_type": "code",
   "execution_count": 19,
   "id": "b36365f0",
   "metadata": {
    "ExecuteTime": {
     "end_time": "2024-01-14T03:46:05.877345Z",
     "start_time": "2024-01-14T03:46:05.864281Z"
    }
   },
   "outputs": [],
   "source": [
    "from langchain_core.runnables import RunnableParallel"
   ]
  },
  {
   "cell_type": "code",
   "execution_count": 20,
   "id": "2d2ca55c",
   "metadata": {
    "ExecuteTime": {
     "end_time": "2024-01-14T03:46:18.823193Z",
     "start_time": "2024-01-14T03:46:18.812586Z"
    }
   },
   "outputs": [],
   "source": [
    "prompt = ChatPromptTemplate.from_template(\"\"\"{question}\"\"\")\n",
    "simple_chain = prompt | model | output_parser"
   ]
  },
  {
   "cell_type": "code",
   "execution_count": 21,
   "id": "b2e2db81",
   "metadata": {
    "ExecuteTime": {
     "end_time": "2024-01-14T03:47:21.838040Z",
     "start_time": "2024-01-14T03:47:21.831407Z"
    }
   },
   "outputs": [],
   "source": [
    "parallel_chain = RunnableParallel({\n",
    "    \"retrieved_answer\": retrieval_chain,\n",
    "    \"simple_answer\": simple_chain\n",
    "})"
   ]
  },
  {
   "cell_type": "code",
   "execution_count": 22,
   "id": "21db1151",
   "metadata": {
    "ExecuteTime": {
     "end_time": "2024-01-14T03:47:28.335350Z",
     "start_time": "2024-01-14T03:47:24.686496Z"
    }
   },
   "outputs": [
    {
     "name": "stderr",
     "output_type": "stream",
     "text": [
      "INFO:httpx:HTTP Request: POST https://api.openai.com/v1/chat/completions \"HTTP/1.1 200 OK\"\n",
      "INFO:httpx:HTTP Request: POST https://api.openai.com/v1/chat/completions \"HTTP/1.1 200 OK\"\n"
     ]
    },
    {
     "data": {
      "text/plain": "{'retrieved_answer': 'LangSmith is a platform that helps trace and evaluate language model applications and intelligent agents, allowing developers to move from prototyping to production. It provides features such as debugging, testing, evaluating, and monitoring chains and intelligent agents built on any Language Model (LLM) framework. LangSmith seamlessly integrates with LangChain, an open-source framework for building with LLMs.',\n 'simple_answer': 'I\\'m sorry, but I couldn\\'t find any specific information about \"Langsmith.\" It is possible that it could be a surname or a company name, but without further context, it is difficult to provide a more accurate answer.'}"
     },
     "execution_count": 22,
     "metadata": {},
     "output_type": "execute_result"
    }
   ],
   "source": [
    "parallel_chain.invoke({\"question\": \"what is langsmith\"})"
   ]
  },
  {
   "cell_type": "code",
   "execution_count": 23,
   "id": "39a00772",
   "metadata": {
    "ExecuteTime": {
     "end_time": "2024-01-14T03:48:31.024219Z",
     "start_time": "2024-01-14T03:48:27.785431Z"
    }
   },
   "outputs": [
    {
     "name": "stderr",
     "output_type": "stream",
     "text": [
      "INFO:httpx:HTTP Request: POST https://api.openai.com/v1/chat/completions \"HTTP/1.1 200 OK\"\n"
     ]
    },
    {
     "name": "stdout",
     "output_type": "stream",
     "text": [
      "{'simple_answer': ''}\n",
      "{'simple_answer': 'I'}\n",
      "{'simple_answer': \"'m\"}\n",
      "{'simple_answer': ' sorry'}\n",
      "{'simple_answer': ','}\n",
      "{'simple_answer': ' but'}\n",
      "{'simple_answer': ' I'}\n",
      "{'simple_answer': ' couldn'}\n",
      "{'simple_answer': \"'t\"}\n",
      "{'simple_answer': ' find'}\n",
      "{'simple_answer': ' any'}\n",
      "{'simple_answer': ' information'}\n",
      "{'simple_answer': ' on'}\n",
      "{'simple_answer': ' \"'}\n",
      "{'simple_answer': 'lang'}\n",
      "{'simple_answer': 'smith'}\n",
      "{'simple_answer': '.\"'}\n",
      "{'simple_answer': ' It'}\n",
      "{'simple_answer': ' could'}\n",
      "{'simple_answer': ' potentially'}\n",
      "{'simple_answer': ' be'}\n",
      "{'simple_answer': ' a'}\n",
      "{'simple_answer': ' term'}\n",
      "{'simple_answer': ' or'}\n",
      "{'simple_answer': ' a'}\n",
      "{'simple_answer': ' name'}\n",
      "{'simple_answer': ' that'}\n",
      "{'simple_answer': ' is'}\n",
      "{'simple_answer': ' not'}\n",
      "{'simple_answer': ' widely'}\n",
      "{'simple_answer': ' recognized'}\n",
      "{'simple_answer': ' or'}\n",
      "{'simple_answer': ' associated'}\n",
      "{'simple_answer': ' with'}\n",
      "{'simple_answer': ' a'}\n",
      "{'simple_answer': ' specific'}\n",
      "{'simple_answer': ' meaning'}\n",
      "{'simple_answer': '.'}\n",
      "{'simple_answer': ' Could'}\n",
      "{'simple_answer': ' you'}\n",
      "{'simple_answer': ' please'}\n",
      "{'simple_answer': ' provide'}\n",
      "{'simple_answer': ' more'}\n",
      "{'simple_answer': ' context'}\n",
      "{'simple_answer': ' or'}\n",
      "{'simple_answer': ' clarify'}\n",
      "{'simple_answer': ' your'}\n",
      "{'simple_answer': ' question'}\n",
      "{'simple_answer': '?'}\n",
      "{'simple_answer': ''}\n"
     ]
    },
    {
     "name": "stderr",
     "output_type": "stream",
     "text": [
      "INFO:httpx:HTTP Request: POST https://api.openai.com/v1/chat/completions \"HTTP/1.1 200 OK\"\n"
     ]
    },
    {
     "name": "stdout",
     "output_type": "stream",
     "text": [
      "{'retrieved_answer': ''}\n",
      "{'retrieved_answer': 'Lang'}\n",
      "{'retrieved_answer': 'Smith'}\n",
      "{'retrieved_answer': ' is'}\n",
      "{'retrieved_answer': ' a'}\n",
      "{'retrieved_answer': ' platform'}\n",
      "{'retrieved_answer': ' that'}\n",
      "{'retrieved_answer': ' helps'}\n",
      "{'retrieved_answer': ' trace'}\n",
      "{'retrieved_answer': ' and'}\n",
      "{'retrieved_answer': ' evaluate'}\n",
      "{'retrieved_answer': ' language'}\n",
      "{'retrieved_answer': ' model'}\n",
      "{'retrieved_answer': ' applications'}\n",
      "{'retrieved_answer': ' and'}\n",
      "{'retrieved_answer': ' intelligent'}\n",
      "{'retrieved_answer': ' agents'}\n",
      "{'retrieved_answer': '.'}\n",
      "{'retrieved_answer': ' It'}\n",
      "{'retrieved_answer': ' allows'}\n",
      "{'retrieved_answer': ' users'}\n",
      "{'retrieved_answer': ' to'}\n",
      "{'retrieved_answer': ' move'}\n",
      "{'retrieved_answer': ' from'}\n",
      "{'retrieved_answer': ' prototype'}\n",
      "{'retrieved_answer': ' to'}\n",
      "{'retrieved_answer': ' production'}\n",
      "{'retrieved_answer': ' and'}\n",
      "{'retrieved_answer': ' provides'}\n",
      "{'retrieved_answer': ' documentation'}\n",
      "{'retrieved_answer': ' for'}\n",
      "{'retrieved_answer': ' reference'}\n",
      "{'retrieved_answer': '.'}\n",
      "{'retrieved_answer': ''}\n"
     ]
    }
   ],
   "source": [
    "for s in parallel_chain.stream({\"question\": \"what is langsmith\"}):\n",
    "    print(s)"
   ]
  },
  {
   "cell_type": "code",
   "execution_count": 24,
   "id": "5a749099",
   "metadata": {
    "ExecuteTime": {
     "end_time": "2024-01-14T03:49:48.522103Z",
     "start_time": "2024-01-14T03:49:43.826472Z"
    }
   },
   "outputs": [
    {
     "name": "stderr",
     "output_type": "stream",
     "text": [
      "INFO:httpx:HTTP Request: POST https://api.openai.com/v1/chat/completions \"HTTP/1.1 200 OK\"\n"
     ]
    },
    {
     "name": "stdout",
     "output_type": "stream",
     "text": [
      "{'simple_answer': ''}\n",
      "{'simple_answer': 'I'}\n",
      "{'simple_answer': 'I couldn'}\n",
      "{'simple_answer': \"I couldn't\"}\n",
      "{'simple_answer': \"I couldn't find\"}\n",
      "{'simple_answer': \"I couldn't find any\"}\n",
      "{'simple_answer': \"I couldn't find any specific\"}\n",
      "{'simple_answer': \"I couldn't find any specific information\"}\n",
      "{'simple_answer': \"I couldn't find any specific information about\"}\n",
      "{'simple_answer': 'I couldn\\'t find any specific information about \"'}\n",
      "{'simple_answer': 'I couldn\\'t find any specific information about \"Lang'}\n",
      "{'simple_answer': 'I couldn\\'t find any specific information about \"Langsmith'}\n",
      "{'simple_answer': 'I couldn\\'t find any specific information about \"Langsmith.\"'}\n",
      "{'simple_answer': 'I couldn\\'t find any specific information about \"Langsmith.\" It'}\n",
      "{'simple_answer': 'I couldn\\'t find any specific information about \"Langsmith.\" It could'}\n",
      "{'simple_answer': 'I couldn\\'t find any specific information about \"Langsmith.\" It could be'}\n",
      "{'simple_answer': 'I couldn\\'t find any specific information about \"Langsmith.\" It could be a'}\n",
      "{'simple_answer': 'I couldn\\'t find any specific information about \"Langsmith.\" It could be a miss'}\n",
      "{'simple_answer': 'I couldn\\'t find any specific information about \"Langsmith.\" It could be a missp'}\n",
      "{'simple_answer': 'I couldn\\'t find any specific information about \"Langsmith.\" It could be a misspelling'}\n",
      "{'simple_answer': 'I couldn\\'t find any specific information about \"Langsmith.\" It could be a misspelling or'}\n",
      "{'simple_answer': 'I couldn\\'t find any specific information about \"Langsmith.\" It could be a misspelling or a'}\n",
      "{'simple_answer': 'I couldn\\'t find any specific information about \"Langsmith.\" It could be a misspelling or a lesser'}\n",
      "{'simple_answer': 'I couldn\\'t find any specific information about \"Langsmith.\" It could be a misspelling or a lesser-known'}\n",
      "{'simple_answer': 'I couldn\\'t find any specific information about \"Langsmith.\" It could be a misspelling or a lesser-known term'}\n",
      "{'simple_answer': 'I couldn\\'t find any specific information about \"Langsmith.\" It could be a misspelling or a lesser-known term or'}\n",
      "{'simple_answer': 'I couldn\\'t find any specific information about \"Langsmith.\" It could be a misspelling or a lesser-known term or name'}\n",
      "{'simple_answer': 'I couldn\\'t find any specific information about \"Langsmith.\" It could be a misspelling or a lesser-known term or name.'}\n",
      "{'simple_answer': 'I couldn\\'t find any specific information about \"Langsmith.\" It could be a misspelling or a lesser-known term or name. If'}\n",
      "{'simple_answer': 'I couldn\\'t find any specific information about \"Langsmith.\" It could be a misspelling or a lesser-known term or name. If you'}\n",
      "{'simple_answer': 'I couldn\\'t find any specific information about \"Langsmith.\" It could be a misspelling or a lesser-known term or name. If you have'}\n",
      "{'simple_answer': 'I couldn\\'t find any specific information about \"Langsmith.\" It could be a misspelling or a lesser-known term or name. If you have any'}\n",
      "{'simple_answer': 'I couldn\\'t find any specific information about \"Langsmith.\" It could be a misspelling or a lesser-known term or name. If you have any additional'}\n",
      "{'simple_answer': 'I couldn\\'t find any specific information about \"Langsmith.\" It could be a misspelling or a lesser-known term or name. If you have any additional context'}\n",
      "{'simple_answer': 'I couldn\\'t find any specific information about \"Langsmith.\" It could be a misspelling or a lesser-known term or name. If you have any additional context or'}\n",
      "{'simple_answer': 'I couldn\\'t find any specific information about \"Langsmith.\" It could be a misspelling or a lesser-known term or name. If you have any additional context or information'}\n",
      "{'simple_answer': 'I couldn\\'t find any specific information about \"Langsmith.\" It could be a misspelling or a lesser-known term or name. If you have any additional context or information,'}\n",
      "{'simple_answer': 'I couldn\\'t find any specific information about \"Langsmith.\" It could be a misspelling or a lesser-known term or name. If you have any additional context or information, I'}\n",
      "{'simple_answer': 'I couldn\\'t find any specific information about \"Langsmith.\" It could be a misspelling or a lesser-known term or name. If you have any additional context or information, I might'}\n",
      "{'simple_answer': 'I couldn\\'t find any specific information about \"Langsmith.\" It could be a misspelling or a lesser-known term or name. If you have any additional context or information, I might be'}\n",
      "{'simple_answer': 'I couldn\\'t find any specific information about \"Langsmith.\" It could be a misspelling or a lesser-known term or name. If you have any additional context or information, I might be able'}\n",
      "{'simple_answer': 'I couldn\\'t find any specific information about \"Langsmith.\" It could be a misspelling or a lesser-known term or name. If you have any additional context or information, I might be able to'}\n",
      "{'simple_answer': 'I couldn\\'t find any specific information about \"Langsmith.\" It could be a misspelling or a lesser-known term or name. If you have any additional context or information, I might be able to assist'}\n",
      "{'simple_answer': 'I couldn\\'t find any specific information about \"Langsmith.\" It could be a misspelling or a lesser-known term or name. If you have any additional context or information, I might be able to assist you'}\n",
      "{'simple_answer': 'I couldn\\'t find any specific information about \"Langsmith.\" It could be a misspelling or a lesser-known term or name. If you have any additional context or information, I might be able to assist you further'}\n",
      "{'simple_answer': 'I couldn\\'t find any specific information about \"Langsmith.\" It could be a misspelling or a lesser-known term or name. If you have any additional context or information, I might be able to assist you further.'}\n",
      "{'simple_answer': 'I couldn\\'t find any specific information about \"Langsmith.\" It could be a misspelling or a lesser-known term or name. If you have any additional context or information, I might be able to assist you further.'}\n"
     ]
    },
    {
     "name": "stderr",
     "output_type": "stream",
     "text": [
      "INFO:httpx:HTTP Request: POST https://api.openai.com/v1/chat/completions \"HTTP/1.1 200 OK\"\n"
     ]
    },
    {
     "name": "stdout",
     "output_type": "stream",
     "text": [
      "{'simple_answer': 'I couldn\\'t find any specific information about \"Langsmith.\" It could be a misspelling or a lesser-known term or name. If you have any additional context or information, I might be able to assist you further.', 'retrieved_answer': ''}\n",
      "{'simple_answer': 'I couldn\\'t find any specific information about \"Langsmith.\" It could be a misspelling or a lesser-known term or name. If you have any additional context or information, I might be able to assist you further.', 'retrieved_answer': 'Lang'}\n",
      "{'simple_answer': 'I couldn\\'t find any specific information about \"Langsmith.\" It could be a misspelling or a lesser-known term or name. If you have any additional context or information, I might be able to assist you further.', 'retrieved_answer': 'LangSmith'}\n",
      "{'simple_answer': 'I couldn\\'t find any specific information about \"Langsmith.\" It could be a misspelling or a lesser-known term or name. If you have any additional context or information, I might be able to assist you further.', 'retrieved_answer': 'LangSmith is'}\n",
      "{'simple_answer': 'I couldn\\'t find any specific information about \"Langsmith.\" It could be a misspelling or a lesser-known term or name. If you have any additional context or information, I might be able to assist you further.', 'retrieved_answer': 'LangSmith is a'}\n",
      "{'simple_answer': 'I couldn\\'t find any specific information about \"Langsmith.\" It could be a misspelling or a lesser-known term or name. If you have any additional context or information, I might be able to assist you further.', 'retrieved_answer': 'LangSmith is a platform'}\n",
      "{'simple_answer': 'I couldn\\'t find any specific information about \"Langsmith.\" It could be a misspelling or a lesser-known term or name. If you have any additional context or information, I might be able to assist you further.', 'retrieved_answer': 'LangSmith is a platform that'}\n",
      "{'simple_answer': 'I couldn\\'t find any specific information about \"Langsmith.\" It could be a misspelling or a lesser-known term or name. If you have any additional context or information, I might be able to assist you further.', 'retrieved_answer': 'LangSmith is a platform that helps'}\n",
      "{'simple_answer': 'I couldn\\'t find any specific information about \"Langsmith.\" It could be a misspelling or a lesser-known term or name. If you have any additional context or information, I might be able to assist you further.', 'retrieved_answer': 'LangSmith is a platform that helps trace'}\n",
      "{'simple_answer': 'I couldn\\'t find any specific information about \"Langsmith.\" It could be a misspelling or a lesser-known term or name. If you have any additional context or information, I might be able to assist you further.', 'retrieved_answer': 'LangSmith is a platform that helps trace,'}\n",
      "{'simple_answer': 'I couldn\\'t find any specific information about \"Langsmith.\" It could be a misspelling or a lesser-known term or name. If you have any additional context or information, I might be able to assist you further.', 'retrieved_answer': 'LangSmith is a platform that helps trace, evaluate'}\n",
      "{'simple_answer': 'I couldn\\'t find any specific information about \"Langsmith.\" It could be a misspelling or a lesser-known term or name. If you have any additional context or information, I might be able to assist you further.', 'retrieved_answer': 'LangSmith is a platform that helps trace, evaluate,'}\n",
      "{'simple_answer': 'I couldn\\'t find any specific information about \"Langsmith.\" It could be a misspelling or a lesser-known term or name. If you have any additional context or information, I might be able to assist you further.', 'retrieved_answer': 'LangSmith is a platform that helps trace, evaluate, and'}\n",
      "{'simple_answer': 'I couldn\\'t find any specific information about \"Langsmith.\" It could be a misspelling or a lesser-known term or name. If you have any additional context or information, I might be able to assist you further.', 'retrieved_answer': 'LangSmith is a platform that helps trace, evaluate, and monitor'}\n",
      "{'simple_answer': 'I couldn\\'t find any specific information about \"Langsmith.\" It could be a misspelling or a lesser-known term or name. If you have any additional context or information, I might be able to assist you further.', 'retrieved_answer': 'LangSmith is a platform that helps trace, evaluate, and monitor language'}\n",
      "{'simple_answer': 'I couldn\\'t find any specific information about \"Langsmith.\" It could be a misspelling or a lesser-known term or name. If you have any additional context or information, I might be able to assist you further.', 'retrieved_answer': 'LangSmith is a platform that helps trace, evaluate, and monitor language model'}\n",
      "{'simple_answer': 'I couldn\\'t find any specific information about \"Langsmith.\" It could be a misspelling or a lesser-known term or name. If you have any additional context or information, I might be able to assist you further.', 'retrieved_answer': 'LangSmith is a platform that helps trace, evaluate, and monitor language model applications'}\n",
      "{'simple_answer': 'I couldn\\'t find any specific information about \"Langsmith.\" It could be a misspelling or a lesser-known term or name. If you have any additional context or information, I might be able to assist you further.', 'retrieved_answer': 'LangSmith is a platform that helps trace, evaluate, and monitor language model applications and'}\n",
      "{'simple_answer': 'I couldn\\'t find any specific information about \"Langsmith.\" It could be a misspelling or a lesser-known term or name. If you have any additional context or information, I might be able to assist you further.', 'retrieved_answer': 'LangSmith is a platform that helps trace, evaluate, and monitor language model applications and intelligent'}\n",
      "{'simple_answer': 'I couldn\\'t find any specific information about \"Langsmith.\" It could be a misspelling or a lesser-known term or name. If you have any additional context or information, I might be able to assist you further.', 'retrieved_answer': 'LangSmith is a platform that helps trace, evaluate, and monitor language model applications and intelligent agents'}\n",
      "{'simple_answer': 'I couldn\\'t find any specific information about \"Langsmith.\" It could be a misspelling or a lesser-known term or name. If you have any additional context or information, I might be able to assist you further.', 'retrieved_answer': 'LangSmith is a platform that helps trace, evaluate, and monitor language model applications and intelligent agents.'}\n",
      "{'simple_answer': 'I couldn\\'t find any specific information about \"Langsmith.\" It could be a misspelling or a lesser-known term or name. If you have any additional context or information, I might be able to assist you further.', 'retrieved_answer': 'LangSmith is a platform that helps trace, evaluate, and monitor language model applications and intelligent agents. It'}\n",
      "{'simple_answer': 'I couldn\\'t find any specific information about \"Langsmith.\" It could be a misspelling or a lesser-known term or name. If you have any additional context or information, I might be able to assist you further.', 'retrieved_answer': 'LangSmith is a platform that helps trace, evaluate, and monitor language model applications and intelligent agents. It provides'}\n",
      "{'simple_answer': 'I couldn\\'t find any specific information about \"Langsmith.\" It could be a misspelling or a lesser-known term or name. If you have any additional context or information, I might be able to assist you further.', 'retrieved_answer': 'LangSmith is a platform that helps trace, evaluate, and monitor language model applications and intelligent agents. It provides tools'}\n",
      "{'simple_answer': 'I couldn\\'t find any specific information about \"Langsmith.\" It could be a misspelling or a lesser-known term or name. If you have any additional context or information, I might be able to assist you further.', 'retrieved_answer': 'LangSmith is a platform that helps trace, evaluate, and monitor language model applications and intelligent agents. It provides tools for'}\n",
      "{'simple_answer': 'I couldn\\'t find any specific information about \"Langsmith.\" It could be a misspelling or a lesser-known term or name. If you have any additional context or information, I might be able to assist you further.', 'retrieved_answer': 'LangSmith is a platform that helps trace, evaluate, and monitor language model applications and intelligent agents. It provides tools for debugging'}\n",
      "{'simple_answer': 'I couldn\\'t find any specific information about \"Langsmith.\" It could be a misspelling or a lesser-known term or name. If you have any additional context or information, I might be able to assist you further.', 'retrieved_answer': 'LangSmith is a platform that helps trace, evaluate, and monitor language model applications and intelligent agents. It provides tools for debugging,'}\n",
      "{'simple_answer': 'I couldn\\'t find any specific information about \"Langsmith.\" It could be a misspelling or a lesser-known term or name. If you have any additional context or information, I might be able to assist you further.', 'retrieved_answer': 'LangSmith is a platform that helps trace, evaluate, and monitor language model applications and intelligent agents. It provides tools for debugging, testing'}\n",
      "{'simple_answer': 'I couldn\\'t find any specific information about \"Langsmith.\" It could be a misspelling or a lesser-known term or name. If you have any additional context or information, I might be able to assist you further.', 'retrieved_answer': 'LangSmith is a platform that helps trace, evaluate, and monitor language model applications and intelligent agents. It provides tools for debugging, testing,'}\n",
      "{'simple_answer': 'I couldn\\'t find any specific information about \"Langsmith.\" It could be a misspelling or a lesser-known term or name. If you have any additional context or information, I might be able to assist you further.', 'retrieved_answer': 'LangSmith is a platform that helps trace, evaluate, and monitor language model applications and intelligent agents. It provides tools for debugging, testing, and'}\n",
      "{'simple_answer': 'I couldn\\'t find any specific information about \"Langsmith.\" It could be a misspelling or a lesser-known term or name. If you have any additional context or information, I might be able to assist you further.', 'retrieved_answer': 'LangSmith is a platform that helps trace, evaluate, and monitor language model applications and intelligent agents. It provides tools for debugging, testing, and benchmark'}\n",
      "{'simple_answer': 'I couldn\\'t find any specific information about \"Langsmith.\" It could be a misspelling or a lesser-known term or name. If you have any additional context or information, I might be able to assist you further.', 'retrieved_answer': 'LangSmith is a platform that helps trace, evaluate, and monitor language model applications and intelligent agents. It provides tools for debugging, testing, and benchmarking'}\n",
      "{'simple_answer': 'I couldn\\'t find any specific information about \"Langsmith.\" It could be a misspelling or a lesser-known term or name. If you have any additional context or information, I might be able to assist you further.', 'retrieved_answer': 'LangSmith is a platform that helps trace, evaluate, and monitor language model applications and intelligent agents. It provides tools for debugging, testing, and benchmarking L'}\n",
      "{'simple_answer': 'I couldn\\'t find any specific information about \"Langsmith.\" It could be a misspelling or a lesser-known term or name. If you have any additional context or information, I might be able to assist you further.', 'retrieved_answer': 'LangSmith is a platform that helps trace, evaluate, and monitor language model applications and intelligent agents. It provides tools for debugging, testing, and benchmarking LLM'}\n",
      "{'simple_answer': 'I couldn\\'t find any specific information about \"Langsmith.\" It could be a misspelling or a lesser-known term or name. If you have any additional context or information, I might be able to assist you further.', 'retrieved_answer': 'LangSmith is a platform that helps trace, evaluate, and monitor language model applications and intelligent agents. It provides tools for debugging, testing, and benchmarking LLMs'}\n",
      "{'simple_answer': 'I couldn\\'t find any specific information about \"Langsmith.\" It could be a misspelling or a lesser-known term or name. If you have any additional context or information, I might be able to assist you further.', 'retrieved_answer': 'LangSmith is a platform that helps trace, evaluate, and monitor language model applications and intelligent agents. It provides tools for debugging, testing, and benchmarking LLMs ('}\n",
      "{'simple_answer': 'I couldn\\'t find any specific information about \"Langsmith.\" It could be a misspelling or a lesser-known term or name. If you have any additional context or information, I might be able to assist you further.', 'retrieved_answer': 'LangSmith is a platform that helps trace, evaluate, and monitor language model applications and intelligent agents. It provides tools for debugging, testing, and benchmarking LLMs (Language'}\n",
      "{'simple_answer': 'I couldn\\'t find any specific information about \"Langsmith.\" It could be a misspelling or a lesser-known term or name. If you have any additional context or information, I might be able to assist you further.', 'retrieved_answer': 'LangSmith is a platform that helps trace, evaluate, and monitor language model applications and intelligent agents. It provides tools for debugging, testing, and benchmarking LLMs (Language Model'}\n",
      "{'simple_answer': 'I couldn\\'t find any specific information about \"Langsmith.\" It could be a misspelling or a lesser-known term or name. If you have any additional context or information, I might be able to assist you further.', 'retrieved_answer': 'LangSmith is a platform that helps trace, evaluate, and monitor language model applications and intelligent agents. It provides tools for debugging, testing, and benchmarking LLMs (Language Model Models'}\n",
      "{'simple_answer': 'I couldn\\'t find any specific information about \"Langsmith.\" It could be a misspelling or a lesser-known term or name. If you have any additional context or information, I might be able to assist you further.', 'retrieved_answer': 'LangSmith is a platform that helps trace, evaluate, and monitor language model applications and intelligent agents. It provides tools for debugging, testing, and benchmarking LLMs (Language Model Models)'}\n",
      "{'simple_answer': 'I couldn\\'t find any specific information about \"Langsmith.\" It could be a misspelling or a lesser-known term or name. If you have any additional context or information, I might be able to assist you further.', 'retrieved_answer': 'LangSmith is a platform that helps trace, evaluate, and monitor language model applications and intelligent agents. It provides tools for debugging, testing, and benchmarking LLMs (Language Model Models) and'}\n",
      "{'simple_answer': 'I couldn\\'t find any specific information about \"Langsmith.\" It could be a misspelling or a lesser-known term or name. If you have any additional context or information, I might be able to assist you further.', 'retrieved_answer': 'LangSmith is a platform that helps trace, evaluate, and monitor language model applications and intelligent agents. It provides tools for debugging, testing, and benchmarking LLMs (Language Model Models) and integrates'}\n",
      "{'simple_answer': 'I couldn\\'t find any specific information about \"Langsmith.\" It could be a misspelling or a lesser-known term or name. If you have any additional context or information, I might be able to assist you further.', 'retrieved_answer': 'LangSmith is a platform that helps trace, evaluate, and monitor language model applications and intelligent agents. It provides tools for debugging, testing, and benchmarking LLMs (Language Model Models) and integrates with'}\n",
      "{'simple_answer': 'I couldn\\'t find any specific information about \"Langsmith.\" It could be a misspelling or a lesser-known term or name. If you have any additional context or information, I might be able to assist you further.', 'retrieved_answer': 'LangSmith is a platform that helps trace, evaluate, and monitor language model applications and intelligent agents. It provides tools for debugging, testing, and benchmarking LLMs (Language Model Models) and integrates with Lang'}\n",
      "{'simple_answer': 'I couldn\\'t find any specific information about \"Langsmith.\" It could be a misspelling or a lesser-known term or name. If you have any additional context or information, I might be able to assist you further.', 'retrieved_answer': 'LangSmith is a platform that helps trace, evaluate, and monitor language model applications and intelligent agents. It provides tools for debugging, testing, and benchmarking LLMs (Language Model Models) and integrates with LangChain'}\n",
      "{'simple_answer': 'I couldn\\'t find any specific information about \"Langsmith.\" It could be a misspelling or a lesser-known term or name. If you have any additional context or information, I might be able to assist you further.', 'retrieved_answer': 'LangSmith is a platform that helps trace, evaluate, and monitor language model applications and intelligent agents. It provides tools for debugging, testing, and benchmarking LLMs (Language Model Models) and integrates with LangChain,'}\n",
      "{'simple_answer': 'I couldn\\'t find any specific information about \"Langsmith.\" It could be a misspelling or a lesser-known term or name. If you have any additional context or information, I might be able to assist you further.', 'retrieved_answer': 'LangSmith is a platform that helps trace, evaluate, and monitor language model applications and intelligent agents. It provides tools for debugging, testing, and benchmarking LLMs (Language Model Models) and integrates with LangChain, an'}\n",
      "{'simple_answer': 'I couldn\\'t find any specific information about \"Langsmith.\" It could be a misspelling or a lesser-known term or name. If you have any additional context or information, I might be able to assist you further.', 'retrieved_answer': 'LangSmith is a platform that helps trace, evaluate, and monitor language model applications and intelligent agents. It provides tools for debugging, testing, and benchmarking LLMs (Language Model Models) and integrates with LangChain, an open'}\n",
      "{'simple_answer': 'I couldn\\'t find any specific information about \"Langsmith.\" It could be a misspelling or a lesser-known term or name. If you have any additional context or information, I might be able to assist you further.', 'retrieved_answer': 'LangSmith is a platform that helps trace, evaluate, and monitor language model applications and intelligent agents. It provides tools for debugging, testing, and benchmarking LLMs (Language Model Models) and integrates with LangChain, an open-source'}\n",
      "{'simple_answer': 'I couldn\\'t find any specific information about \"Langsmith.\" It could be a misspelling or a lesser-known term or name. If you have any additional context or information, I might be able to assist you further.', 'retrieved_answer': 'LangSmith is a platform that helps trace, evaluate, and monitor language model applications and intelligent agents. It provides tools for debugging, testing, and benchmarking LLMs (Language Model Models) and integrates with LangChain, an open-source framework'}\n",
      "{'simple_answer': 'I couldn\\'t find any specific information about \"Langsmith.\" It could be a misspelling or a lesser-known term or name. If you have any additional context or information, I might be able to assist you further.', 'retrieved_answer': 'LangSmith is a platform that helps trace, evaluate, and monitor language model applications and intelligent agents. It provides tools for debugging, testing, and benchmarking LLMs (Language Model Models) and integrates with LangChain, an open-source framework for'}\n",
      "{'simple_answer': 'I couldn\\'t find any specific information about \"Langsmith.\" It could be a misspelling or a lesser-known term or name. If you have any additional context or information, I might be able to assist you further.', 'retrieved_answer': 'LangSmith is a platform that helps trace, evaluate, and monitor language model applications and intelligent agents. It provides tools for debugging, testing, and benchmarking LLMs (Language Model Models) and integrates with LangChain, an open-source framework for building'}\n",
      "{'simple_answer': 'I couldn\\'t find any specific information about \"Langsmith.\" It could be a misspelling or a lesser-known term or name. If you have any additional context or information, I might be able to assist you further.', 'retrieved_answer': 'LangSmith is a platform that helps trace, evaluate, and monitor language model applications and intelligent agents. It provides tools for debugging, testing, and benchmarking LLMs (Language Model Models) and integrates with LangChain, an open-source framework for building with'}\n",
      "{'simple_answer': 'I couldn\\'t find any specific information about \"Langsmith.\" It could be a misspelling or a lesser-known term or name. If you have any additional context or information, I might be able to assist you further.', 'retrieved_answer': 'LangSmith is a platform that helps trace, evaluate, and monitor language model applications and intelligent agents. It provides tools for debugging, testing, and benchmarking LLMs (Language Model Models) and integrates with LangChain, an open-source framework for building with L'}\n",
      "{'simple_answer': 'I couldn\\'t find any specific information about \"Langsmith.\" It could be a misspelling or a lesser-known term or name. If you have any additional context or information, I might be able to assist you further.', 'retrieved_answer': 'LangSmith is a platform that helps trace, evaluate, and monitor language model applications and intelligent agents. It provides tools for debugging, testing, and benchmarking LLMs (Language Model Models) and integrates with LangChain, an open-source framework for building with LLM'}\n",
      "{'simple_answer': 'I couldn\\'t find any specific information about \"Langsmith.\" It could be a misspelling or a lesser-known term or name. If you have any additional context or information, I might be able to assist you further.', 'retrieved_answer': 'LangSmith is a platform that helps trace, evaluate, and monitor language model applications and intelligent agents. It provides tools for debugging, testing, and benchmarking LLMs (Language Model Models) and integrates with LangChain, an open-source framework for building with LLMs'}\n",
      "{'simple_answer': 'I couldn\\'t find any specific information about \"Langsmith.\" It could be a misspelling or a lesser-known term or name. If you have any additional context or information, I might be able to assist you further.', 'retrieved_answer': 'LangSmith is a platform that helps trace, evaluate, and monitor language model applications and intelligent agents. It provides tools for debugging, testing, and benchmarking LLMs (Language Model Models) and integrates with LangChain, an open-source framework for building with LLMs.'}\n",
      "{'simple_answer': 'I couldn\\'t find any specific information about \"Langsmith.\" It could be a misspelling or a lesser-known term or name. If you have any additional context or information, I might be able to assist you further.', 'retrieved_answer': 'LangSmith is a platform that helps trace, evaluate, and monitor language model applications and intelligent agents. It provides tools for debugging, testing, and benchmarking LLMs (Language Model Models) and integrates with LangChain, an open-source framework for building with LLMs. Lang'}\n",
      "{'simple_answer': 'I couldn\\'t find any specific information about \"Langsmith.\" It could be a misspelling or a lesser-known term or name. If you have any additional context or information, I might be able to assist you further.', 'retrieved_answer': 'LangSmith is a platform that helps trace, evaluate, and monitor language model applications and intelligent agents. It provides tools for debugging, testing, and benchmarking LLMs (Language Model Models) and integrates with LangChain, an open-source framework for building with LLMs. LangSmith'}\n",
      "{'simple_answer': 'I couldn\\'t find any specific information about \"Langsmith.\" It could be a misspelling or a lesser-known term or name. If you have any additional context or information, I might be able to assist you further.', 'retrieved_answer': 'LangSmith is a platform that helps trace, evaluate, and monitor language model applications and intelligent agents. It provides tools for debugging, testing, and benchmarking LLMs (Language Model Models) and integrates with LangChain, an open-source framework for building with LLMs. LangSmith also'}\n",
      "{'simple_answer': 'I couldn\\'t find any specific information about \"Langsmith.\" It could be a misspelling or a lesser-known term or name. If you have any additional context or information, I might be able to assist you further.', 'retrieved_answer': 'LangSmith is a platform that helps trace, evaluate, and monitor language model applications and intelligent agents. It provides tools for debugging, testing, and benchmarking LLMs (Language Model Models) and integrates with LangChain, an open-source framework for building with LLMs. LangSmith also offers'}\n",
      "{'simple_answer': 'I couldn\\'t find any specific information about \"Langsmith.\" It could be a misspelling or a lesser-known term or name. If you have any additional context or information, I might be able to assist you further.', 'retrieved_answer': 'LangSmith is a platform that helps trace, evaluate, and monitor language model applications and intelligent agents. It provides tools for debugging, testing, and benchmarking LLMs (Language Model Models) and integrates with LangChain, an open-source framework for building with LLMs. LangSmith also offers a'}\n",
      "{'simple_answer': 'I couldn\\'t find any specific information about \"Langsmith.\" It could be a misspelling or a lesser-known term or name. If you have any additional context or information, I might be able to assist you further.', 'retrieved_answer': 'LangSmith is a platform that helps trace, evaluate, and monitor language model applications and intelligent agents. It provides tools for debugging, testing, and benchmarking LLMs (Language Model Models) and integrates with LangChain, an open-source framework for building with LLMs. LangSmith also offers a simple'}\n",
      "{'simple_answer': 'I couldn\\'t find any specific information about \"Langsmith.\" It could be a misspelling or a lesser-known term or name. If you have any additional context or information, I might be able to assist you further.', 'retrieved_answer': 'LangSmith is a platform that helps trace, evaluate, and monitor language model applications and intelligent agents. It provides tools for debugging, testing, and benchmarking LLMs (Language Model Models) and integrates with LangChain, an open-source framework for building with LLMs. LangSmith also offers a simple and'}\n",
      "{'simple_answer': 'I couldn\\'t find any specific information about \"Langsmith.\" It could be a misspelling or a lesser-known term or name. If you have any additional context or information, I might be able to assist you further.', 'retrieved_answer': 'LangSmith is a platform that helps trace, evaluate, and monitor language model applications and intelligent agents. It provides tools for debugging, testing, and benchmarking LLMs (Language Model Models) and integrates with LangChain, an open-source framework for building with LLMs. LangSmith also offers a simple and intuitive'}\n",
      "{'simple_answer': 'I couldn\\'t find any specific information about \"Langsmith.\" It could be a misspelling or a lesser-known term or name. If you have any additional context or information, I might be able to assist you further.', 'retrieved_answer': 'LangSmith is a platform that helps trace, evaluate, and monitor language model applications and intelligent agents. It provides tools for debugging, testing, and benchmarking LLMs (Language Model Models) and integrates with LangChain, an open-source framework for building with LLMs. LangSmith also offers a simple and intuitive user'}\n",
      "{'simple_answer': 'I couldn\\'t find any specific information about \"Langsmith.\" It could be a misspelling or a lesser-known term or name. If you have any additional context or information, I might be able to assist you further.', 'retrieved_answer': 'LangSmith is a platform that helps trace, evaluate, and monitor language model applications and intelligent agents. It provides tools for debugging, testing, and benchmarking LLMs (Language Model Models) and integrates with LangChain, an open-source framework for building with LLMs. LangSmith also offers a simple and intuitive user interface'}\n",
      "{'simple_answer': 'I couldn\\'t find any specific information about \"Langsmith.\" It could be a misspelling or a lesser-known term or name. If you have any additional context or information, I might be able to assist you further.', 'retrieved_answer': 'LangSmith is a platform that helps trace, evaluate, and monitor language model applications and intelligent agents. It provides tools for debugging, testing, and benchmarking LLMs (Language Model Models) and integrates with LangChain, an open-source framework for building with LLMs. LangSmith also offers a simple and intuitive user interface that'}\n",
      "{'simple_answer': 'I couldn\\'t find any specific information about \"Langsmith.\" It could be a misspelling or a lesser-known term or name. If you have any additional context or information, I might be able to assist you further.', 'retrieved_answer': 'LangSmith is a platform that helps trace, evaluate, and monitor language model applications and intelligent agents. It provides tools for debugging, testing, and benchmarking LLMs (Language Model Models) and integrates with LangChain, an open-source framework for building with LLMs. LangSmith also offers a simple and intuitive user interface that reduces'}\n",
      "{'simple_answer': 'I couldn\\'t find any specific information about \"Langsmith.\" It could be a misspelling or a lesser-known term or name. If you have any additional context or information, I might be able to assist you further.', 'retrieved_answer': 'LangSmith is a platform that helps trace, evaluate, and monitor language model applications and intelligent agents. It provides tools for debugging, testing, and benchmarking LLMs (Language Model Models) and integrates with LangChain, an open-source framework for building with LLMs. LangSmith also offers a simple and intuitive user interface that reduces the'}\n",
      "{'simple_answer': 'I couldn\\'t find any specific information about \"Langsmith.\" It could be a misspelling or a lesser-known term or name. If you have any additional context or information, I might be able to assist you further.', 'retrieved_answer': 'LangSmith is a platform that helps trace, evaluate, and monitor language model applications and intelligent agents. It provides tools for debugging, testing, and benchmarking LLMs (Language Model Models) and integrates with LangChain, an open-source framework for building with LLMs. LangSmith also offers a simple and intuitive user interface that reduces the barrier'}\n",
      "{'simple_answer': 'I couldn\\'t find any specific information about \"Langsmith.\" It could be a misspelling or a lesser-known term or name. If you have any additional context or information, I might be able to assist you further.', 'retrieved_answer': 'LangSmith is a platform that helps trace, evaluate, and monitor language model applications and intelligent agents. It provides tools for debugging, testing, and benchmarking LLMs (Language Model Models) and integrates with LangChain, an open-source framework for building with LLMs. LangSmith also offers a simple and intuitive user interface that reduces the barrier to'}\n",
      "{'simple_answer': 'I couldn\\'t find any specific information about \"Langsmith.\" It could be a misspelling or a lesser-known term or name. If you have any additional context or information, I might be able to assist you further.', 'retrieved_answer': 'LangSmith is a platform that helps trace, evaluate, and monitor language model applications and intelligent agents. It provides tools for debugging, testing, and benchmarking LLMs (Language Model Models) and integrates with LangChain, an open-source framework for building with LLMs. LangSmith also offers a simple and intuitive user interface that reduces the barrier to entry'}\n",
      "{'simple_answer': 'I couldn\\'t find any specific information about \"Langsmith.\" It could be a misspelling or a lesser-known term or name. If you have any additional context or information, I might be able to assist you further.', 'retrieved_answer': 'LangSmith is a platform that helps trace, evaluate, and monitor language model applications and intelligent agents. It provides tools for debugging, testing, and benchmarking LLMs (Language Model Models) and integrates with LangChain, an open-source framework for building with LLMs. LangSmith also offers a simple and intuitive user interface that reduces the barrier to entry for'}\n",
      "{'simple_answer': 'I couldn\\'t find any specific information about \"Langsmith.\" It could be a misspelling or a lesser-known term or name. If you have any additional context or information, I might be able to assist you further.', 'retrieved_answer': 'LangSmith is a platform that helps trace, evaluate, and monitor language model applications and intelligent agents. It provides tools for debugging, testing, and benchmarking LLMs (Language Model Models) and integrates with LangChain, an open-source framework for building with LLMs. LangSmith also offers a simple and intuitive user interface that reduces the barrier to entry for those'}\n",
      "{'simple_answer': 'I couldn\\'t find any specific information about \"Langsmith.\" It could be a misspelling or a lesser-known term or name. If you have any additional context or information, I might be able to assist you further.', 'retrieved_answer': 'LangSmith is a platform that helps trace, evaluate, and monitor language model applications and intelligent agents. It provides tools for debugging, testing, and benchmarking LLMs (Language Model Models) and integrates with LangChain, an open-source framework for building with LLMs. LangSmith also offers a simple and intuitive user interface that reduces the barrier to entry for those without'}\n",
      "{'simple_answer': 'I couldn\\'t find any specific information about \"Langsmith.\" It could be a misspelling or a lesser-known term or name. If you have any additional context or information, I might be able to assist you further.', 'retrieved_answer': 'LangSmith is a platform that helps trace, evaluate, and monitor language model applications and intelligent agents. It provides tools for debugging, testing, and benchmarking LLMs (Language Model Models) and integrates with LangChain, an open-source framework for building with LLMs. LangSmith also offers a simple and intuitive user interface that reduces the barrier to entry for those without a'}\n",
      "{'simple_answer': 'I couldn\\'t find any specific information about \"Langsmith.\" It could be a misspelling or a lesser-known term or name. If you have any additional context or information, I might be able to assist you further.', 'retrieved_answer': 'LangSmith is a platform that helps trace, evaluate, and monitor language model applications and intelligent agents. It provides tools for debugging, testing, and benchmarking LLMs (Language Model Models) and integrates with LangChain, an open-source framework for building with LLMs. LangSmith also offers a simple and intuitive user interface that reduces the barrier to entry for those without a software'}\n",
      "{'simple_answer': 'I couldn\\'t find any specific information about \"Langsmith.\" It could be a misspelling or a lesser-known term or name. If you have any additional context or information, I might be able to assist you further.', 'retrieved_answer': 'LangSmith is a platform that helps trace, evaluate, and monitor language model applications and intelligent agents. It provides tools for debugging, testing, and benchmarking LLMs (Language Model Models) and integrates with LangChain, an open-source framework for building with LLMs. LangSmith also offers a simple and intuitive user interface that reduces the barrier to entry for those without a software background'}\n",
      "{'simple_answer': 'I couldn\\'t find any specific information about \"Langsmith.\" It could be a misspelling or a lesser-known term or name. If you have any additional context or information, I might be able to assist you further.', 'retrieved_answer': 'LangSmith is a platform that helps trace, evaluate, and monitor language model applications and intelligent agents. It provides tools for debugging, testing, and benchmarking LLMs (Language Model Models) and integrates with LangChain, an open-source framework for building with LLMs. LangSmith also offers a simple and intuitive user interface that reduces the barrier to entry for those without a software background.'}\n",
      "{'simple_answer': 'I couldn\\'t find any specific information about \"Langsmith.\" It could be a misspelling or a lesser-known term or name. If you have any additional context or information, I might be able to assist you further.', 'retrieved_answer': 'LangSmith is a platform that helps trace, evaluate, and monitor language model applications and intelligent agents. It provides tools for debugging, testing, and benchmarking LLMs (Language Model Models) and integrates with LangChain, an open-source framework for building with LLMs. LangSmith also offers a simple and intuitive user interface that reduces the barrier to entry for those without a software background.'}\n"
     ]
    }
   ],
   "source": [
    "result = {}\n",
    "for s in parallel_chain.stream({\"question\": \"what is langsmith\"}):\n",
    "    for k,v in s.items():\n",
    "        if k not in result:\n",
    "            result[k] = \"\"\n",
    "        result[k] += v\n",
    "    print(result)"
   ]
  },
  {
   "cell_type": "code",
   "execution_count": null,
   "id": "5d6b5174",
   "metadata": {},
   "outputs": [],
   "source": []
  }
 ],
 "metadata": {
  "kernelspec": {
   "display_name": "Python 3 (ipykernel)",
   "language": "python",
   "name": "python3"
  },
  "language_info": {
   "codemirror_mode": {
    "name": "ipython",
    "version": 3
   },
   "file_extension": ".py",
   "mimetype": "text/x-python",
   "name": "python",
   "nbconvert_exporter": "python",
   "pygments_lexer": "ipython3",
   "version": "3.11.1"
  }
 },
 "nbformat": 4,
 "nbformat_minor": 5
}
