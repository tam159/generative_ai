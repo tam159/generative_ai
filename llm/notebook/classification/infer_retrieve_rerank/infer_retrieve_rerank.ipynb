{
 "cells": [
  {
   "cell_type": "markdown",
   "id": "b8dbce5d-f3e3-4c82-92ee-0f64b83e51bb",
   "metadata": {},
   "source": [
    "# Infer-Retrieve-Rerank Llama Pack\n",
    "\n",
    "<a href=\"https://colab.research.google.com/github/run-llama/llama-hub/blob/main/llama_hub/llama_packs/research/infer_retrieve_rerank/infer_retrieve_rerank.ipynb\" target=\"_parent\"><img src=\"https://colab.research.google.com/assets/colab-badge.svg\" alt=\"Open In Colab\"/></a>\n",
    "\n",
    "This is our implementation of the paper [\"In-Context Learning for Extreme Multi-Label Classification](https://arxiv.org/pdf/2401.12178.pdf) by Oosterlinck et al.\n",
    "\n",
    "The paper proposes \"infer-retrieve-rerank\", a simple paradigm using frozen LLM/retriever models that can do \"extreme\"-label classification (the label space is huge).\n",
    "1. Given a user query, use an LLM to predict an initial set of labels.\n",
    "2. For each prediction, retrieve the actual label from the corpus.\n",
    "3. Given the final set of labels, rerank them using an LLM.\n",
    "\n",
    "All of these can be implemented as LlamaIndex abstractions. In this notebook we show you how to build \"infer-retrieve-rerank\" from scratch but also how to build it as a LlamaPack."
   ]
  },
  {
   "cell_type": "markdown",
   "id": "97d245ce-1f4a-45f8-a608-4941c8cb94b8",
   "metadata": {},
   "source": [
    "## Try out a Dataset\n",
    "\n",
    "We use the BioDEX dataset as mentioned in the paper.\n",
    "\n",
    "Here is the [link to the paper](https://arxiv.org/pdf/2305.13395.pdf). Here is the [link to the Github repo](https://github.com/KarelDO/BioDEX)."
   ]
  },
  {
   "cell_type": "code",
   "outputs": [],
   "source": [
    "import os\n",
    "import logging\n",
    "from dotenv import load_dotenv\n",
    "import datasets\n",
    "from llama_index import get_tokenizer\n",
    "import re\n",
    "from typing import Set, List"
   ],
   "metadata": {
    "collapsed": false,
    "ExecuteTime": {
     "end_time": "2024-02-05T11:17:25.538067Z",
     "start_time": "2024-02-05T11:17:25.516245Z"
    }
   },
   "id": "84fcaacdceb22184",
   "execution_count": 11
  },
  {
   "cell_type": "code",
   "outputs": [
    {
     "data": {
      "text/plain": "True"
     },
     "execution_count": 12,
     "metadata": {},
     "output_type": "execute_result"
    }
   ],
   "source": [
    "logging.basicConfig(level=logging.INFO)\n",
    "log = logging.getLogger(__name__)\n",
    "\n",
    "load_dotenv()"
   ],
   "metadata": {
    "collapsed": false,
    "ExecuteTime": {
     "end_time": "2024-02-05T11:17:27.152714Z",
     "start_time": "2024-02-05T11:17:27.147379Z"
    }
   },
   "id": "48ed00a311fbc3b7",
   "execution_count": 12
  },
  {
   "cell_type": "code",
   "outputs": [],
   "source": [
    "openai_api_key = os.getenv(\"OPENAI_API_KEY\")\n",
    "langchain_api_url = os.getenv(\"LANGCHAIN_ENDPOINT\")\n",
    "langchain_api_key = os.getenv(\"LANGCHAIN_API_KEY\")"
   ],
   "metadata": {
    "collapsed": false,
    "ExecuteTime": {
     "end_time": "2024-02-05T11:17:27.940607Z",
     "start_time": "2024-02-05T11:17:27.933823Z"
    }
   },
   "id": "c8276d64cffd6a54",
   "execution_count": 13
  },
  {
   "cell_type": "code",
   "execution_count": 3,
   "id": "4e62fa4b-7322-4381-9703-c3c090b6eaf6",
   "metadata": {
    "ExecuteTime": {
     "end_time": "2024-02-05T09:43:43.926333Z",
     "start_time": "2024-02-05T09:43:32.534933Z"
    }
   },
   "outputs": [],
   "source": [
    "# load the report-extraction dataset\n",
    "dataset = datasets.load_dataset(\"BioDEX/BioDEX-ICSR\")"
   ]
  },
  {
   "cell_type": "code",
   "execution_count": 4,
   "id": "5f0ea579-f534-42de-b7d9-79f7260dda2b",
   "metadata": {
    "ExecuteTime": {
     "end_time": "2024-02-05T09:43:52.653368Z",
     "start_time": "2024-02-05T09:43:52.649067Z"
    }
   },
   "outputs": [
    {
     "data": {
      "text/plain": "DatasetDict({\n    train: Dataset({\n        features: ['title', 'abstract', 'fulltext', 'target', 'pmid', 'fulltext_license', 'title_normalized', 'issue', 'pages', 'journal', 'authors', 'pubdate', 'doi', 'affiliations', 'medline_ta', 'nlm_unique_id', 'issn_linking', 'country', 'mesh_terms', 'publication_types', 'chemical_list', 'keywords', 'references', 'delete', 'pmc', 'other_id', 'safetyreportid', 'fulltext_processed'],\n        num_rows: 9624\n    })\n    validation: Dataset({\n        features: ['title', 'abstract', 'fulltext', 'target', 'pmid', 'fulltext_license', 'title_normalized', 'issue', 'pages', 'journal', 'authors', 'pubdate', 'doi', 'affiliations', 'medline_ta', 'nlm_unique_id', 'issn_linking', 'country', 'mesh_terms', 'publication_types', 'chemical_list', 'keywords', 'references', 'delete', 'pmc', 'other_id', 'safetyreportid', 'fulltext_processed'],\n        num_rows: 2407\n    })\n    test: Dataset({\n        features: ['title', 'abstract', 'fulltext', 'target', 'pmid', 'fulltext_license', 'title_normalized', 'issue', 'pages', 'journal', 'authors', 'pubdate', 'doi', 'affiliations', 'medline_ta', 'nlm_unique_id', 'issn_linking', 'country', 'mesh_terms', 'publication_types', 'chemical_list', 'keywords', 'references', 'delete', 'pmc', 'other_id', 'safetyreportid', 'fulltext_processed'],\n        num_rows: 3628\n    })\n})"
     },
     "execution_count": 4,
     "metadata": {},
     "output_type": "execute_result"
    }
   ],
   "source": [
    "dataset"
   ]
  },
  {
   "cell_type": "markdown",
   "id": "07f108bc-d06e-4a93-9b69-1bc5eb09c1e2",
   "metadata": {},
   "source": [
    "### Define Dataset Processing Functions\n",
    "\n",
    "Here we define some basic functions to get the set of reactions (labels) and samples from the BioDEX dataset."
   ]
  },
  {
   "cell_type": "code",
   "execution_count": 5,
   "id": "cecfa23d-f263-44e3-bd07-7aa0ccbc2c04",
   "metadata": {
    "ExecuteTime": {
     "end_time": "2024-02-05T09:43:54.422564Z",
     "start_time": "2024-02-05T09:43:54.226865Z"
    }
   },
   "outputs": [],
   "source": [
    "tokenizer = get_tokenizer()\n",
    "\n",
    "\n",
    "sample_size = 5\n",
    "\n",
    "\n",
    "def get_reactions_row(raw_target: str) -> List[str]:\n",
    "    \"\"\"Get reactions from a single row.\"\"\"\n",
    "    reaction_pattern = re.compile(r\"reactions:\\s*(.*)\")\n",
    "    reaction_match = reaction_pattern.search(raw_target)\n",
    "    if reaction_match:\n",
    "        reactions = reaction_match.group(1).split(\",\")\n",
    "        reactions = [r.strip().lower() for r in reactions]\n",
    "    else:\n",
    "        reactions = []\n",
    "    return reactions\n",
    "\n",
    "\n",
    "def get_reactions_set(dataset) -> Set[str]:\n",
    "    \"\"\"Get set of all reactions.\"\"\"\n",
    "    reactions = set()\n",
    "    for data in dataset[\"train\"]:\n",
    "        reactions.update(set(get_reactions_row(data[\"target\"])))\n",
    "    return reactions\n",
    "\n",
    "\n",
    "def get_samples(dataset, sample_size: int = 5):\n",
    "    \"\"\"Get processed sample.\n",
    "\n",
    "    Contains source text and also the reaction label.\n",
    "\n",
    "    Parse reaction text to specifically extract reactions.\n",
    "\n",
    "    \"\"\"\n",
    "    samples = []\n",
    "    for idx, data in enumerate(dataset[\"train\"]):\n",
    "        if idx >= sample_size:\n",
    "            break\n",
    "        text = data[\"fulltext_processed\"]\n",
    "        raw_target = data[\"target\"]\n",
    "\n",
    "        reactions = get_reactions_row(raw_target)\n",
    "\n",
    "        samples.append({\"text\": text, \"reactions\": reactions})\n",
    "    return samples"
   ]
  },
  {
   "cell_type": "markdown",
   "id": "e157ac22-74e6-4701-8dd5-45bc88468061",
   "metadata": {},
   "source": [
    "## Use LlamaPack\n",
    "\n",
    "In this first section we use our infer-retrieve-rerank LlamaPack to output predicted labels."
   ]
  },
  {
   "cell_type": "code",
   "execution_count": 6,
   "id": "b72c15e3-6888-405d-bcfe-7e73a1e1577c",
   "metadata": {
    "ExecuteTime": {
     "end_time": "2024-02-05T09:44:00.799974Z",
     "start_time": "2024-02-05T09:43:59.495977Z"
    }
   },
   "outputs": [],
   "source": [
    "# Option: if developing with the llama_hub package\n",
    "# from llama_hub.llama_packs.research.infer_retrieve_rerank.base import InferRetrieveRerankPack\n",
    "\n",
    "# # Option: download_llama_pack\n",
    "from llama_index.llama_pack import download_llama_pack\n",
    "\n",
    "InferRetrieveRerankPack = download_llama_pack(\n",
    "    \"InferRetrieveRerankPack\",\n",
    "    \"./irr_pack\",\n",
    "    # leave the below line commented out if using the notebook on main\n",
    "    # llama_hub_url=\"https://raw.githubusercontent.com/run-llama/llama-hub/jerry/add_infer_retrieve_rerank/llama_hub\"\n",
    ")"
   ]
  },
  {
   "cell_type": "code",
   "execution_count": 7,
   "id": "7bc88294-fe3f-4f69-a06f-3415e901dd36",
   "metadata": {
    "ExecuteTime": {
     "end_time": "2024-02-05T09:46:14.641710Z",
     "start_time": "2024-02-05T09:44:04.500076Z"
    }
   },
   "outputs": [
    {
     "name": "stderr",
     "output_type": "stream",
     "text": [
      "INFO:httpx:HTTP Request: POST https://api.openai.com/v1/embeddings \"HTTP/1.1 200 OK\"\n",
      "INFO:httpx:HTTP Request: POST https://api.openai.com/v1/embeddings \"HTTP/1.1 200 OK\"\n",
      "INFO:httpx:HTTP Request: POST https://api.openai.com/v1/embeddings \"HTTP/1.1 200 OK\"\n",
      "INFO:httpx:HTTP Request: POST https://api.openai.com/v1/embeddings \"HTTP/1.1 200 OK\"\n",
      "INFO:httpx:HTTP Request: POST https://api.openai.com/v1/embeddings \"HTTP/1.1 200 OK\"\n",
      "INFO:httpx:HTTP Request: POST https://api.openai.com/v1/embeddings \"HTTP/1.1 200 OK\"\n",
      "INFO:httpx:HTTP Request: POST https://api.openai.com/v1/embeddings \"HTTP/1.1 200 OK\"\n",
      "INFO:httpx:HTTP Request: POST https://api.openai.com/v1/embeddings \"HTTP/1.1 200 OK\"\n",
      "INFO:httpx:HTTP Request: POST https://api.openai.com/v1/embeddings \"HTTP/1.1 200 OK\"\n",
      "INFO:httpx:HTTP Request: POST https://api.openai.com/v1/embeddings \"HTTP/1.1 200 OK\"\n",
      "INFO:httpx:HTTP Request: POST https://api.openai.com/v1/embeddings \"HTTP/1.1 200 OK\"\n",
      "INFO:httpx:HTTP Request: POST https://api.openai.com/v1/embeddings \"HTTP/1.1 503 Service Temporarily Unavailable\"\n",
      "INFO:openai._base_client:Retrying request to /embeddings in 0.980820 seconds\n",
      "INFO:httpx:HTTP Request: POST https://api.openai.com/v1/embeddings \"HTTP/1.1 200 OK\"\n",
      "INFO:httpx:HTTP Request: POST https://api.openai.com/v1/embeddings \"HTTP/1.1 200 OK\"\n",
      "INFO:httpx:HTTP Request: POST https://api.openai.com/v1/embeddings \"HTTP/1.1 200 OK\"\n",
      "INFO:httpx:HTTP Request: POST https://api.openai.com/v1/embeddings \"HTTP/1.1 200 OK\"\n",
      "INFO:httpx:HTTP Request: POST https://api.openai.com/v1/embeddings \"HTTP/1.1 200 OK\"\n",
      "INFO:httpx:HTTP Request: POST https://api.openai.com/v1/embeddings \"HTTP/1.1 200 OK\"\n",
      "INFO:httpx:HTTP Request: POST https://api.openai.com/v1/embeddings \"HTTP/1.1 200 OK\"\n",
      "INFO:httpx:HTTP Request: POST https://api.openai.com/v1/embeddings \"HTTP/1.1 200 OK\"\n",
      "INFO:httpx:HTTP Request: POST https://api.openai.com/v1/embeddings \"HTTP/1.1 200 OK\"\n",
      "INFO:httpx:HTTP Request: POST https://api.openai.com/v1/embeddings \"HTTP/1.1 200 OK\"\n",
      "INFO:httpx:HTTP Request: POST https://api.openai.com/v1/embeddings \"HTTP/1.1 200 OK\"\n",
      "INFO:httpx:HTTP Request: POST https://api.openai.com/v1/embeddings \"HTTP/1.1 200 OK\"\n",
      "INFO:httpx:HTTP Request: POST https://api.openai.com/v1/embeddings \"HTTP/1.1 200 OK\"\n",
      "INFO:httpx:HTTP Request: POST https://api.openai.com/v1/embeddings \"HTTP/1.1 200 OK\"\n",
      "INFO:httpx:HTTP Request: POST https://api.openai.com/v1/embeddings \"HTTP/1.1 200 OK\"\n",
      "INFO:httpx:HTTP Request: POST https://api.openai.com/v1/embeddings \"HTTP/1.1 200 OK\"\n",
      "INFO:httpx:HTTP Request: POST https://api.openai.com/v1/embeddings \"HTTP/1.1 200 OK\"\n",
      "INFO:httpx:HTTP Request: POST https://api.openai.com/v1/embeddings \"HTTP/1.1 200 OK\"\n",
      "INFO:httpx:HTTP Request: POST https://api.openai.com/v1/embeddings \"HTTP/1.1 200 OK\"\n",
      "INFO:httpx:HTTP Request: POST https://api.openai.com/v1/embeddings \"HTTP/1.1 200 OK\"\n",
      "INFO:httpx:HTTP Request: POST https://api.openai.com/v1/embeddings \"HTTP/1.1 503 Service Temporarily Unavailable\"\n",
      "INFO:openai._base_client:Retrying request to /embeddings in 0.797199 seconds\n",
      "INFO:httpx:HTTP Request: POST https://api.openai.com/v1/embeddings \"HTTP/1.1 200 OK\"\n",
      "INFO:httpx:HTTP Request: POST https://api.openai.com/v1/embeddings \"HTTP/1.1 200 OK\"\n",
      "INFO:httpx:HTTP Request: POST https://api.openai.com/v1/embeddings \"HTTP/1.1 200 OK\"\n",
      "INFO:httpx:HTTP Request: POST https://api.openai.com/v1/embeddings \"HTTP/1.1 200 OK\"\n",
      "INFO:httpx:HTTP Request: POST https://api.openai.com/v1/embeddings \"HTTP/1.1 200 OK\"\n",
      "INFO:httpx:HTTP Request: POST https://api.openai.com/v1/embeddings \"HTTP/1.1 200 OK\"\n",
      "INFO:httpx:HTTP Request: POST https://api.openai.com/v1/embeddings \"HTTP/1.1 200 OK\"\n",
      "INFO:httpx:HTTP Request: POST https://api.openai.com/v1/embeddings \"HTTP/1.1 200 OK\"\n",
      "INFO:httpx:HTTP Request: POST https://api.openai.com/v1/embeddings \"HTTP/1.1 200 OK\"\n",
      "INFO:httpx:HTTP Request: POST https://api.openai.com/v1/embeddings \"HTTP/1.1 200 OK\"\n",
      "INFO:httpx:HTTP Request: POST https://api.openai.com/v1/embeddings \"HTTP/1.1 200 OK\"\n",
      "INFO:httpx:HTTP Request: POST https://api.openai.com/v1/embeddings \"HTTP/1.1 200 OK\"\n",
      "INFO:httpx:HTTP Request: POST https://api.openai.com/v1/embeddings \"HTTP/1.1 200 OK\"\n",
      "INFO:httpx:HTTP Request: POST https://api.openai.com/v1/embeddings \"HTTP/1.1 200 OK\"\n",
      "INFO:httpx:HTTP Request: POST https://api.openai.com/v1/embeddings \"HTTP/1.1 200 OK\"\n",
      "INFO:httpx:HTTP Request: POST https://api.openai.com/v1/embeddings \"HTTP/1.1 200 OK\"\n",
      "Generating embeddings: 0it [00:00, ?it/s]\n",
      "Generating embeddings: 0it [00:00, ?it/s]\n",
      "Generating embeddings: 0it [00:00, ?it/s]\n"
     ]
    }
   ],
   "source": [
    "from llama_index.llms import OpenAI\n",
    "\n",
    "llm = OpenAI(model=\"gpt-3.5-turbo-0125\")\n",
    "pred_context = \"\"\"\\\n",
    "The output predictions should be a list of comma-separated adverse \\\n",
    "drug reactions. \\\n",
    "\"\"\"\n",
    "reranker_top_n = 10\n",
    "\n",
    "pack = InferRetrieveRerankPack(\n",
    "    get_reactions_set(dataset),\n",
    "    llm=llm,\n",
    "    pred_context=pred_context,\n",
    "    reranker_top_n=reranker_top_n,\n",
    "    verbose=True,\n",
    ")"
   ]
  },
  {
   "cell_type": "code",
   "execution_count": 8,
   "id": "31ba3a80-019d-4f1c-8d87-8635ebbc6af3",
   "metadata": {
    "ExecuteTime": {
     "end_time": "2024-02-05T11:13:03.811854Z",
     "start_time": "2024-02-05T11:09:47.802508Z"
    }
   },
   "outputs": [
    {
     "name": "stdout",
     "output_type": "stream",
     "text": [
      "\n",
      "\n",
      "> Generating predictions for input 0: TITLE:\n",
      "SARS-CoV-2-related ARDS in a maintenance hemodialysis patient: case report on tailored approach by daily hemodialysis, noninvasive ventilation, tocilizumab, anxiolytics, and point-of-care ultrasound.\n",
      "\n",
      "ABSTRACT:\n",
      "Without rescue drugs approved, holistic approach by daily hemodialysis, noninvasiv\n"
     ]
    },
    {
     "name": "stderr",
     "output_type": "stream",
     "text": [
      "INFO:httpx:HTTP Request: POST https://api.openai.com/v1/chat/completions \"HTTP/1.1 200 OK\"\n",
      "INFO:httpx:HTTP Request: POST https://api.openai.com/v1/embeddings \"HTTP/1.1 200 OK\"\n",
      "INFO:httpx:HTTP Request: POST https://api.openai.com/v1/embeddings \"HTTP/1.1 200 OK\"\n",
      "INFO:httpx:HTTP Request: POST https://api.openai.com/v1/embeddings \"HTTP/1.1 200 OK\"\n",
      "INFO:httpx:HTTP Request: POST https://api.openai.com/v1/embeddings \"HTTP/1.1 200 OK\"\n",
      "INFO:httpx:HTTP Request: POST https://api.openai.com/v1/embeddings \"HTTP/1.1 200 OK\"\n",
      "INFO:httpx:HTTP Request: POST https://api.openai.com/v1/embeddings \"HTTP/1.1 200 OK\"\n",
      "INFO:httpx:HTTP Request: POST https://api.openai.com/v1/embeddings \"HTTP/1.1 200 OK\"\n",
      "INFO:httpx:HTTP Request: POST https://api.openai.com/v1/embeddings \"HTTP/1.1 200 OK\"\n",
      "INFO:httpx:HTTP Request: POST https://api.openai.com/v1/embeddings \"HTTP/1.1 200 OK\"\n",
      "INFO:httpx:HTTP Request: POST https://api.openai.com/v1/embeddings \"HTTP/1.1 200 OK\"\n",
      "INFO:httpx:HTTP Request: POST https://api.openai.com/v1/chat/completions \"HTTP/1.1 200 OK\"\n"
     ]
    },
    {
     "name": "stdout",
     "output_type": "stream",
     "text": [
      "> Generated predictions: ['acute respiratory distress syndrome', 'fluid overload', 'hypertensive crisis', 'anxiety', 'respiratory distress', 'delirium', 'hypereosinophilic syndrome', 'eosinophilia', 'cardiovascular insufficiency', 'hypovolaemia']\n",
      "\n",
      "\n",
      "> Generating predictions for input 1: TITLE:\n",
      "Corynebacterium propinquum: A Rare Cause of Prosthetic Valve Endocarditis.\n",
      "\n",
      "ABSTRACT:\n",
      "Nondiphtheria Corynebacterium species are often dismissed as culture contaminants, but they have recently become increasingly recognized as pathologic organisms. We present the case of a 48-year-old male pat\n"
     ]
    },
    {
     "name": "stderr",
     "output_type": "stream",
     "text": [
      "INFO:httpx:HTTP Request: POST https://api.openai.com/v1/chat/completions \"HTTP/1.1 200 OK\"\n",
      "INFO:httpx:HTTP Request: POST https://api.openai.com/v1/embeddings \"HTTP/1.1 200 OK\"\n",
      "INFO:httpx:HTTP Request: POST https://api.openai.com/v1/chat/completions \"HTTP/1.1 200 OK\"\n"
     ]
    },
    {
     "name": "stdout",
     "output_type": "stream",
     "text": [
      "> Generated predictions: ['tuberculosis', 'anger']\n",
      "\n",
      "\n",
      "> Generating predictions for input 2: TITLE:\n",
      "A Case of Pancytopenia with Many Possible Causes: How Do You Tell Which is the Right One?\n",
      "\n",
      "ABSTRACT:\n",
      "Systemic lupus erythematosus (SLE) often presents with cytopenia(s); however, pancytopenia is found less commonly, requiring the consideration of possible aetiologies other than the primary di\n"
     ]
    },
    {
     "name": "stderr",
     "output_type": "stream",
     "text": [
      "INFO:httpx:HTTP Request: POST https://api.openai.com/v1/chat/completions \"HTTP/1.1 200 OK\"\n",
      "INFO:httpx:HTTP Request: POST https://api.openai.com/v1/embeddings \"HTTP/1.1 200 OK\"\n",
      "INFO:httpx:HTTP Request: POST https://api.openai.com/v1/embeddings \"HTTP/1.1 200 OK\"\n",
      "INFO:httpx:HTTP Request: POST https://api.openai.com/v1/embeddings \"HTTP/1.1 200 OK\"\n",
      "INFO:httpx:HTTP Request: POST https://api.openai.com/v1/embeddings \"HTTP/1.1 200 OK\"\n",
      "INFO:httpx:HTTP Request: POST https://api.openai.com/v1/embeddings \"HTTP/1.1 200 OK\"\n",
      "INFO:httpx:HTTP Request: POST https://api.openai.com/v1/chat/completions \"HTTP/1.1 200 OK\"\n"
     ]
    },
    {
     "name": "stdout",
     "output_type": "stream",
     "text": [
      "> Generated predictions: ['neutropenia', 'leukopenia', 'thrombocytopenia', 'agranulocytosis', 'granulocytopenia', 'lymphopenia', 'neutropenic infection', 'myelosuppression', 'thrombocytosis', 'myelopathy']\n",
      "\n",
      "\n",
      "> Generating predictions for input 3: TITLE:\n",
      "Hepatic Lesions with Secondary Syphilis in an HIV-Infected Patient.\n",
      "\n",
      "ABSTRACT:\n",
      "Syphilis among HIV-infected patients continues to be a public health concern, especially in men who have sex with men. The clinical manifestations of syphilis are protean; syphilitic hepatitis is an unusual complic\n"
     ]
    },
    {
     "name": "stderr",
     "output_type": "stream",
     "text": [
      "INFO:httpx:HTTP Request: POST https://api.openai.com/v1/chat/completions \"HTTP/1.1 200 OK\"\n",
      "INFO:httpx:HTTP Request: POST https://api.openai.com/v1/embeddings \"HTTP/1.1 200 OK\"\n",
      "INFO:httpx:HTTP Request: POST https://api.openai.com/v1/embeddings \"HTTP/1.1 200 OK\"\n",
      "INFO:httpx:HTTP Request: POST https://api.openai.com/v1/embeddings \"HTTP/1.1 200 OK\"\n",
      "INFO:httpx:HTTP Request: POST https://api.openai.com/v1/embeddings \"HTTP/1.1 200 OK\"\n",
      "INFO:httpx:HTTP Request: POST https://api.openai.com/v1/embeddings \"HTTP/1.1 200 OK\"\n",
      "INFO:httpx:HTTP Request: POST https://api.openai.com/v1/embeddings \"HTTP/1.1 200 OK\"\n",
      "INFO:httpx:HTTP Request: POST https://api.openai.com/v1/embeddings \"HTTP/1.1 200 OK\"\n",
      "INFO:httpx:HTTP Request: POST https://api.openai.com/v1/embeddings \"HTTP/1.1 200 OK\"\n",
      "INFO:httpx:HTTP Request: POST https://api.openai.com/v1/embeddings \"HTTP/1.1 200 OK\"\n",
      "INFO:httpx:HTTP Request: POST https://api.openai.com/v1/embeddings \"HTTP/1.1 200 OK\"\n",
      "INFO:httpx:HTTP Request: POST https://api.openai.com/v1/embeddings \"HTTP/1.1 200 OK\"\n",
      "INFO:httpx:HTTP Request: POST https://api.openai.com/v1/embeddings \"HTTP/1.1 200 OK\"\n",
      "INFO:httpx:HTTP Request: POST https://api.openai.com/v1/embeddings \"HTTP/1.1 200 OK\"\n",
      "INFO:httpx:HTTP Request: POST https://api.openai.com/v1/embeddings \"HTTP/1.1 200 OK\"\n",
      "INFO:httpx:HTTP Request: POST https://api.openai.com/v1/embeddings \"HTTP/1.1 200 OK\"\n",
      "INFO:httpx:HTTP Request: POST https://api.openai.com/v1/embeddings \"HTTP/1.1 200 OK\"\n",
      "INFO:httpx:HTTP Request: POST https://api.openai.com/v1/embeddings \"HTTP/1.1 200 OK\"\n",
      "INFO:httpx:HTTP Request: POST https://api.openai.com/v1/embeddings \"HTTP/1.1 200 OK\"\n",
      "INFO:httpx:HTTP Request: POST https://api.openai.com/v1/embeddings \"HTTP/1.1 200 OK\"\n",
      "INFO:httpx:HTTP Request: POST https://api.openai.com/v1/embeddings \"HTTP/1.1 200 OK\"\n",
      "INFO:httpx:HTTP Request: POST https://api.openai.com/v1/embeddings \"HTTP/1.1 200 OK\"\n",
      "INFO:httpx:HTTP Request: POST https://api.openai.com/v1/embeddings \"HTTP/1.1 200 OK\"\n",
      "INFO:httpx:HTTP Request: POST https://api.openai.com/v1/embeddings \"HTTP/1.1 200 OK\"\n",
      "INFO:httpx:HTTP Request: POST https://api.openai.com/v1/embeddings \"HTTP/1.1 200 OK\"\n",
      "INFO:httpx:HTTP Request: POST https://api.openai.com/v1/embeddings \"HTTP/1.1 200 OK\"\n",
      "INFO:httpx:HTTP Request: POST https://api.openai.com/v1/embeddings \"HTTP/1.1 200 OK\"\n",
      "INFO:httpx:HTTP Request: POST https://api.openai.com/v1/embeddings \"HTTP/1.1 200 OK\"\n",
      "INFO:httpx:HTTP Request: POST https://api.openai.com/v1/embeddings \"HTTP/1.1 200 OK\"\n",
      "INFO:httpx:HTTP Request: POST https://api.openai.com/v1/embeddings \"HTTP/1.1 200 OK\"\n",
      "INFO:httpx:HTTP Request: POST https://api.openai.com/v1/embeddings \"HTTP/1.1 200 OK\"\n",
      "INFO:httpx:HTTP Request: POST https://api.openai.com/v1/embeddings \"HTTP/1.1 200 OK\"\n",
      "INFO:httpx:HTTP Request: POST https://api.openai.com/v1/embeddings \"HTTP/1.1 200 OK\"\n",
      "INFO:httpx:HTTP Request: POST https://api.openai.com/v1/embeddings \"HTTP/1.1 200 OK\"\n",
      "INFO:httpx:HTTP Request: POST https://api.openai.com/v1/embeddings \"HTTP/1.1 200 OK\"\n",
      "INFO:httpx:HTTP Request: POST https://api.openai.com/v1/embeddings \"HTTP/1.1 200 OK\"\n",
      "INFO:httpx:HTTP Request: POST https://api.openai.com/v1/embeddings \"HTTP/1.1 200 OK\"\n",
      "INFO:httpx:HTTP Request: POST https://api.openai.com/v1/embeddings \"HTTP/1.1 200 OK\"\n",
      "INFO:httpx:HTTP Request: POST https://api.openai.com/v1/embeddings \"HTTP/1.1 200 OK\"\n",
      "INFO:httpx:HTTP Request: POST https://api.openai.com/v1/embeddings \"HTTP/1.1 200 OK\"\n",
      "INFO:httpx:HTTP Request: POST https://api.openai.com/v1/embeddings \"HTTP/1.1 200 OK\"\n",
      "INFO:httpx:HTTP Request: POST https://api.openai.com/v1/embeddings \"HTTP/1.1 200 OK\"\n",
      "INFO:httpx:HTTP Request: POST https://api.openai.com/v1/embeddings \"HTTP/1.1 200 OK\"\n",
      "INFO:httpx:HTTP Request: POST https://api.openai.com/v1/embeddings \"HTTP/1.1 200 OK\"\n",
      "INFO:httpx:HTTP Request: POST https://api.openai.com/v1/embeddings \"HTTP/1.1 200 OK\"\n",
      "INFO:httpx:HTTP Request: POST https://api.openai.com/v1/embeddings \"HTTP/1.1 200 OK\"\n",
      "INFO:httpx:HTTP Request: POST https://api.openai.com/v1/embeddings \"HTTP/1.1 200 OK\"\n",
      "INFO:httpx:HTTP Request: POST https://api.openai.com/v1/embeddings \"HTTP/1.1 200 OK\"\n",
      "INFO:httpx:HTTP Request: POST https://api.openai.com/v1/embeddings \"HTTP/1.1 200 OK\"\n",
      "INFO:httpx:HTTP Request: POST https://api.openai.com/v1/embeddings \"HTTP/1.1 200 OK\"\n",
      "INFO:httpx:HTTP Request: POST https://api.openai.com/v1/embeddings \"HTTP/1.1 200 OK\"\n",
      "INFO:httpx:HTTP Request: POST https://api.openai.com/v1/embeddings \"HTTP/1.1 200 OK\"\n",
      "INFO:httpx:HTTP Request: POST https://api.openai.com/v1/embeddings \"HTTP/1.1 200 OK\"\n",
      "INFO:httpx:HTTP Request: POST https://api.openai.com/v1/embeddings \"HTTP/1.1 200 OK\"\n",
      "INFO:httpx:HTTP Request: POST https://api.openai.com/v1/embeddings \"HTTP/1.1 200 OK\"\n",
      "INFO:httpx:HTTP Request: POST https://api.openai.com/v1/embeddings \"HTTP/1.1 200 OK\"\n",
      "INFO:httpx:HTTP Request: POST https://api.openai.com/v1/embeddings \"HTTP/1.1 200 OK\"\n",
      "INFO:httpx:HTTP Request: POST https://api.openai.com/v1/embeddings \"HTTP/1.1 200 OK\"\n",
      "INFO:httpx:HTTP Request: POST https://api.openai.com/v1/embeddings \"HTTP/1.1 200 OK\"\n",
      "INFO:httpx:HTTP Request: POST https://api.openai.com/v1/embeddings \"HTTP/1.1 200 OK\"\n",
      "INFO:httpx:HTTP Request: POST https://api.openai.com/v1/embeddings \"HTTP/1.1 200 OK\"\n",
      "INFO:httpx:HTTP Request: POST https://api.openai.com/v1/embeddings \"HTTP/1.1 200 OK\"\n",
      "INFO:httpx:HTTP Request: POST https://api.openai.com/v1/embeddings \"HTTP/1.1 200 OK\"\n",
      "INFO:httpx:HTTP Request: POST https://api.openai.com/v1/embeddings \"HTTP/1.1 200 OK\"\n",
      "INFO:httpx:HTTP Request: POST https://api.openai.com/v1/embeddings \"HTTP/1.1 200 OK\"\n",
      "INFO:httpx:HTTP Request: POST https://api.openai.com/v1/embeddings \"HTTP/1.1 200 OK\"\n",
      "INFO:httpx:HTTP Request: POST https://api.openai.com/v1/embeddings \"HTTP/1.1 200 OK\"\n",
      "INFO:httpx:HTTP Request: POST https://api.openai.com/v1/embeddings \"HTTP/1.1 200 OK\"\n",
      "INFO:httpx:HTTP Request: POST https://api.openai.com/v1/embeddings \"HTTP/1.1 200 OK\"\n",
      "INFO:httpx:HTTP Request: POST https://api.openai.com/v1/embeddings \"HTTP/1.1 200 OK\"\n",
      "INFO:httpx:HTTP Request: POST https://api.openai.com/v1/embeddings \"HTTP/1.1 200 OK\"\n",
      "INFO:httpx:HTTP Request: POST https://api.openai.com/v1/embeddings \"HTTP/1.1 200 OK\"\n",
      "INFO:httpx:HTTP Request: POST https://api.openai.com/v1/embeddings \"HTTP/1.1 200 OK\"\n",
      "INFO:httpx:HTTP Request: POST https://api.openai.com/v1/embeddings \"HTTP/1.1 200 OK\"\n",
      "INFO:httpx:HTTP Request: POST https://api.openai.com/v1/embeddings \"HTTP/1.1 200 OK\"\n",
      "INFO:httpx:HTTP Request: POST https://api.openai.com/v1/embeddings \"HTTP/1.1 200 OK\"\n",
      "INFO:httpx:HTTP Request: POST https://api.openai.com/v1/embeddings \"HTTP/1.1 200 OK\"\n",
      "INFO:httpx:HTTP Request: POST https://api.openai.com/v1/embeddings \"HTTP/1.1 200 OK\"\n",
      "INFO:httpx:HTTP Request: POST https://api.openai.com/v1/embeddings \"HTTP/1.1 200 OK\"\n",
      "INFO:httpx:HTTP Request: POST https://api.openai.com/v1/embeddings \"HTTP/1.1 200 OK\"\n",
      "INFO:httpx:HTTP Request: POST https://api.openai.com/v1/embeddings \"HTTP/1.1 200 OK\"\n",
      "INFO:httpx:HTTP Request: POST https://api.openai.com/v1/embeddings \"HTTP/1.1 200 OK\"\n",
      "INFO:httpx:HTTP Request: POST https://api.openai.com/v1/embeddings \"HTTP/1.1 200 OK\"\n",
      "INFO:httpx:HTTP Request: POST https://api.openai.com/v1/embeddings \"HTTP/1.1 200 OK\"\n",
      "INFO:httpx:HTTP Request: POST https://api.openai.com/v1/embeddings \"HTTP/1.1 200 OK\"\n",
      "INFO:httpx:HTTP Request: POST https://api.openai.com/v1/embeddings \"HTTP/1.1 200 OK\"\n",
      "INFO:httpx:HTTP Request: POST https://api.openai.com/v1/embeddings \"HTTP/1.1 200 OK\"\n",
      "INFO:httpx:HTTP Request: POST https://api.openai.com/v1/embeddings \"HTTP/1.1 200 OK\"\n",
      "INFO:httpx:HTTP Request: POST https://api.openai.com/v1/embeddings \"HTTP/1.1 200 OK\"\n",
      "INFO:httpx:HTTP Request: POST https://api.openai.com/v1/embeddings \"HTTP/1.1 200 OK\"\n",
      "INFO:httpx:HTTP Request: POST https://api.openai.com/v1/embeddings \"HTTP/1.1 200 OK\"\n",
      "INFO:httpx:HTTP Request: POST https://api.openai.com/v1/embeddings \"HTTP/1.1 200 OK\"\n",
      "INFO:httpx:HTTP Request: POST https://api.openai.com/v1/embeddings \"HTTP/1.1 200 OK\"\n",
      "INFO:httpx:HTTP Request: POST https://api.openai.com/v1/embeddings \"HTTP/1.1 200 OK\"\n",
      "INFO:httpx:HTTP Request: POST https://api.openai.com/v1/embeddings \"HTTP/1.1 200 OK\"\n",
      "INFO:httpx:HTTP Request: POST https://api.openai.com/v1/embeddings \"HTTP/1.1 200 OK\"\n",
      "INFO:httpx:HTTP Request: POST https://api.openai.com/v1/embeddings \"HTTP/1.1 200 OK\"\n",
      "INFO:httpx:HTTP Request: POST https://api.openai.com/v1/embeddings \"HTTP/1.1 200 OK\"\n",
      "INFO:httpx:HTTP Request: POST https://api.openai.com/v1/embeddings \"HTTP/1.1 200 OK\"\n",
      "INFO:httpx:HTTP Request: POST https://api.openai.com/v1/embeddings \"HTTP/1.1 200 OK\"\n",
      "INFO:httpx:HTTP Request: POST https://api.openai.com/v1/embeddings \"HTTP/1.1 200 OK\"\n",
      "INFO:httpx:HTTP Request: POST https://api.openai.com/v1/embeddings \"HTTP/1.1 200 OK\"\n",
      "INFO:httpx:HTTP Request: POST https://api.openai.com/v1/embeddings \"HTTP/1.1 200 OK\"\n",
      "INFO:httpx:HTTP Request: POST https://api.openai.com/v1/embeddings \"HTTP/1.1 200 OK\"\n",
      "INFO:httpx:HTTP Request: POST https://api.openai.com/v1/embeddings \"HTTP/1.1 200 OK\"\n",
      "INFO:httpx:HTTP Request: POST https://api.openai.com/v1/embeddings \"HTTP/1.1 200 OK\"\n",
      "INFO:httpx:HTTP Request: POST https://api.openai.com/v1/embeddings \"HTTP/1.1 200 OK\"\n",
      "INFO:httpx:HTTP Request: POST https://api.openai.com/v1/embeddings \"HTTP/1.1 200 OK\"\n",
      "INFO:httpx:HTTP Request: POST https://api.openai.com/v1/embeddings \"HTTP/1.1 200 OK\"\n",
      "INFO:httpx:HTTP Request: POST https://api.openai.com/v1/embeddings \"HTTP/1.1 200 OK\"\n",
      "INFO:httpx:HTTP Request: POST https://api.openai.com/v1/embeddings \"HTTP/1.1 200 OK\"\n",
      "INFO:httpx:HTTP Request: POST https://api.openai.com/v1/embeddings \"HTTP/1.1 200 OK\"\n",
      "INFO:httpx:HTTP Request: POST https://api.openai.com/v1/embeddings \"HTTP/1.1 200 OK\"\n",
      "INFO:httpx:HTTP Request: POST https://api.openai.com/v1/embeddings \"HTTP/1.1 200 OK\"\n",
      "INFO:httpx:HTTP Request: POST https://api.openai.com/v1/embeddings \"HTTP/1.1 200 OK\"\n",
      "INFO:httpx:HTTP Request: POST https://api.openai.com/v1/embeddings \"HTTP/1.1 200 OK\"\n",
      "INFO:httpx:HTTP Request: POST https://api.openai.com/v1/embeddings \"HTTP/1.1 200 OK\"\n",
      "INFO:httpx:HTTP Request: POST https://api.openai.com/v1/embeddings \"HTTP/1.1 200 OK\"\n",
      "INFO:httpx:HTTP Request: POST https://api.openai.com/v1/embeddings \"HTTP/1.1 200 OK\"\n",
      "INFO:httpx:HTTP Request: POST https://api.openai.com/v1/embeddings \"HTTP/1.1 200 OK\"\n",
      "INFO:httpx:HTTP Request: POST https://api.openai.com/v1/embeddings \"HTTP/1.1 200 OK\"\n",
      "INFO:httpx:HTTP Request: POST https://api.openai.com/v1/embeddings \"HTTP/1.1 200 OK\"\n",
      "INFO:httpx:HTTP Request: POST https://api.openai.com/v1/embeddings \"HTTP/1.1 200 OK\"\n",
      "INFO:httpx:HTTP Request: POST https://api.openai.com/v1/embeddings \"HTTP/1.1 200 OK\"\n",
      "INFO:httpx:HTTP Request: POST https://api.openai.com/v1/embeddings \"HTTP/1.1 200 OK\"\n",
      "INFO:httpx:HTTP Request: POST https://api.openai.com/v1/embeddings \"HTTP/1.1 200 OK\"\n",
      "INFO:httpx:HTTP Request: POST https://api.openai.com/v1/embeddings \"HTTP/1.1 200 OK\"\n",
      "INFO:httpx:HTTP Request: POST https://api.openai.com/v1/embeddings \"HTTP/1.1 200 OK\"\n",
      "INFO:httpx:HTTP Request: POST https://api.openai.com/v1/embeddings \"HTTP/1.1 200 OK\"\n",
      "INFO:httpx:HTTP Request: POST https://api.openai.com/v1/embeddings \"HTTP/1.1 200 OK\"\n",
      "INFO:httpx:HTTP Request: POST https://api.openai.com/v1/embeddings \"HTTP/1.1 200 OK\"\n",
      "INFO:httpx:HTTP Request: POST https://api.openai.com/v1/embeddings \"HTTP/1.1 200 OK\"\n",
      "INFO:httpx:HTTP Request: POST https://api.openai.com/v1/embeddings \"HTTP/1.1 200 OK\"\n",
      "INFO:httpx:HTTP Request: POST https://api.openai.com/v1/embeddings \"HTTP/1.1 200 OK\"\n",
      "INFO:httpx:HTTP Request: POST https://api.openai.com/v1/embeddings \"HTTP/1.1 200 OK\"\n",
      "INFO:httpx:HTTP Request: POST https://api.openai.com/v1/embeddings \"HTTP/1.1 200 OK\"\n",
      "INFO:httpx:HTTP Request: POST https://api.openai.com/v1/embeddings \"HTTP/1.1 200 OK\"\n",
      "INFO:httpx:HTTP Request: POST https://api.openai.com/v1/embeddings \"HTTP/1.1 200 OK\"\n",
      "INFO:httpx:HTTP Request: POST https://api.openai.com/v1/embeddings \"HTTP/1.1 200 OK\"\n",
      "INFO:httpx:HTTP Request: POST https://api.openai.com/v1/embeddings \"HTTP/1.1 200 OK\"\n",
      "INFO:httpx:HTTP Request: POST https://api.openai.com/v1/embeddings \"HTTP/1.1 200 OK\"\n",
      "INFO:httpx:HTTP Request: POST https://api.openai.com/v1/embeddings \"HTTP/1.1 200 OK\"\n",
      "INFO:httpx:HTTP Request: POST https://api.openai.com/v1/embeddings \"HTTP/1.1 200 OK\"\n",
      "INFO:httpx:HTTP Request: POST https://api.openai.com/v1/embeddings \"HTTP/1.1 200 OK\"\n",
      "INFO:httpx:HTTP Request: POST https://api.openai.com/v1/embeddings \"HTTP/1.1 200 OK\"\n",
      "INFO:httpx:HTTP Request: POST https://api.openai.com/v1/embeddings \"HTTP/1.1 200 OK\"\n",
      "INFO:httpx:HTTP Request: POST https://api.openai.com/v1/embeddings \"HTTP/1.1 200 OK\"\n",
      "INFO:httpx:HTTP Request: POST https://api.openai.com/v1/embeddings \"HTTP/1.1 200 OK\"\n",
      "INFO:httpx:HTTP Request: POST https://api.openai.com/v1/embeddings \"HTTP/1.1 200 OK\"\n",
      "INFO:httpx:HTTP Request: POST https://api.openai.com/v1/embeddings \"HTTP/1.1 200 OK\"\n",
      "INFO:httpx:HTTP Request: POST https://api.openai.com/v1/embeddings \"HTTP/1.1 200 OK\"\n",
      "INFO:httpx:HTTP Request: POST https://api.openai.com/v1/embeddings \"HTTP/1.1 200 OK\"\n",
      "INFO:httpx:HTTP Request: POST https://api.openai.com/v1/embeddings \"HTTP/1.1 200 OK\"\n",
      "INFO:httpx:HTTP Request: POST https://api.openai.com/v1/embeddings \"HTTP/1.1 200 OK\"\n",
      "INFO:httpx:HTTP Request: POST https://api.openai.com/v1/embeddings \"HTTP/1.1 200 OK\"\n",
      "INFO:httpx:HTTP Request: POST https://api.openai.com/v1/embeddings \"HTTP/1.1 200 OK\"\n",
      "INFO:httpx:HTTP Request: POST https://api.openai.com/v1/embeddings \"HTTP/1.1 200 OK\"\n",
      "INFO:httpx:HTTP Request: POST https://api.openai.com/v1/embeddings \"HTTP/1.1 200 OK\"\n",
      "INFO:httpx:HTTP Request: POST https://api.openai.com/v1/embeddings \"HTTP/1.1 200 OK\"\n",
      "INFO:httpx:HTTP Request: POST https://api.openai.com/v1/embeddings \"HTTP/1.1 200 OK\"\n",
      "INFO:httpx:HTTP Request: POST https://api.openai.com/v1/embeddings \"HTTP/1.1 200 OK\"\n",
      "INFO:httpx:HTTP Request: POST https://api.openai.com/v1/embeddings \"HTTP/1.1 200 OK\"\n",
      "INFO:httpx:HTTP Request: POST https://api.openai.com/v1/embeddings \"HTTP/1.1 200 OK\"\n",
      "INFO:httpx:HTTP Request: POST https://api.openai.com/v1/embeddings \"HTTP/1.1 200 OK\"\n",
      "INFO:httpx:HTTP Request: POST https://api.openai.com/v1/embeddings \"HTTP/1.1 200 OK\"\n",
      "INFO:httpx:HTTP Request: POST https://api.openai.com/v1/embeddings \"HTTP/1.1 200 OK\"\n",
      "INFO:httpx:HTTP Request: POST https://api.openai.com/v1/embeddings \"HTTP/1.1 200 OK\"\n",
      "INFO:httpx:HTTP Request: POST https://api.openai.com/v1/embeddings \"HTTP/1.1 200 OK\"\n",
      "INFO:httpx:HTTP Request: POST https://api.openai.com/v1/embeddings \"HTTP/1.1 200 OK\"\n",
      "INFO:httpx:HTTP Request: POST https://api.openai.com/v1/embeddings \"HTTP/1.1 200 OK\"\n",
      "INFO:httpx:HTTP Request: POST https://api.openai.com/v1/embeddings \"HTTP/1.1 200 OK\"\n",
      "INFO:httpx:HTTP Request: POST https://api.openai.com/v1/embeddings \"HTTP/1.1 200 OK\"\n",
      "INFO:httpx:HTTP Request: POST https://api.openai.com/v1/embeddings \"HTTP/1.1 200 OK\"\n",
      "INFO:httpx:HTTP Request: POST https://api.openai.com/v1/embeddings \"HTTP/1.1 200 OK\"\n",
      "INFO:httpx:HTTP Request: POST https://api.openai.com/v1/embeddings \"HTTP/1.1 200 OK\"\n",
      "INFO:httpx:HTTP Request: POST https://api.openai.com/v1/embeddings \"HTTP/1.1 200 OK\"\n",
      "INFO:httpx:HTTP Request: POST https://api.openai.com/v1/embeddings \"HTTP/1.1 200 OK\"\n",
      "INFO:httpx:HTTP Request: POST https://api.openai.com/v1/embeddings \"HTTP/1.1 200 OK\"\n",
      "INFO:httpx:HTTP Request: POST https://api.openai.com/v1/embeddings \"HTTP/1.1 200 OK\"\n",
      "INFO:httpx:HTTP Request: POST https://api.openai.com/v1/embeddings \"HTTP/1.1 200 OK\"\n",
      "INFO:httpx:HTTP Request: POST https://api.openai.com/v1/embeddings \"HTTP/1.1 200 OK\"\n",
      "INFO:httpx:HTTP Request: POST https://api.openai.com/v1/embeddings \"HTTP/1.1 200 OK\"\n",
      "INFO:httpx:HTTP Request: POST https://api.openai.com/v1/embeddings \"HTTP/1.1 200 OK\"\n",
      "INFO:httpx:HTTP Request: POST https://api.openai.com/v1/embeddings \"HTTP/1.1 200 OK\"\n",
      "INFO:httpx:HTTP Request: POST https://api.openai.com/v1/embeddings \"HTTP/1.1 200 OK\"\n",
      "INFO:httpx:HTTP Request: POST https://api.openai.com/v1/embeddings \"HTTP/1.1 200 OK\"\n",
      "INFO:httpx:HTTP Request: POST https://api.openai.com/v1/embeddings \"HTTP/1.1 200 OK\"\n",
      "INFO:httpx:HTTP Request: POST https://api.openai.com/v1/embeddings \"HTTP/1.1 200 OK\"\n",
      "INFO:httpx:HTTP Request: POST https://api.openai.com/v1/embeddings \"HTTP/1.1 200 OK\"\n",
      "INFO:httpx:HTTP Request: POST https://api.openai.com/v1/embeddings \"HTTP/1.1 200 OK\"\n",
      "INFO:httpx:HTTP Request: POST https://api.openai.com/v1/embeddings \"HTTP/1.1 200 OK\"\n",
      "INFO:httpx:HTTP Request: POST https://api.openai.com/v1/embeddings \"HTTP/1.1 200 OK\"\n",
      "INFO:httpx:HTTP Request: POST https://api.openai.com/v1/embeddings \"HTTP/1.1 200 OK\"\n",
      "INFO:httpx:HTTP Request: POST https://api.openai.com/v1/embeddings \"HTTP/1.1 200 OK\"\n",
      "INFO:httpx:HTTP Request: POST https://api.openai.com/v1/embeddings \"HTTP/1.1 200 OK\"\n",
      "INFO:httpx:HTTP Request: POST https://api.openai.com/v1/embeddings \"HTTP/1.1 200 OK\"\n",
      "INFO:httpx:HTTP Request: POST https://api.openai.com/v1/embeddings \"HTTP/1.1 200 OK\"\n",
      "INFO:httpx:HTTP Request: POST https://api.openai.com/v1/embeddings \"HTTP/1.1 200 OK\"\n",
      "INFO:httpx:HTTP Request: POST https://api.openai.com/v1/embeddings \"HTTP/1.1 200 OK\"\n",
      "INFO:httpx:HTTP Request: POST https://api.openai.com/v1/embeddings \"HTTP/1.1 200 OK\"\n",
      "INFO:httpx:HTTP Request: POST https://api.openai.com/v1/embeddings \"HTTP/1.1 200 OK\"\n",
      "INFO:httpx:HTTP Request: POST https://api.openai.com/v1/embeddings \"HTTP/1.1 200 OK\"\n",
      "INFO:httpx:HTTP Request: POST https://api.openai.com/v1/embeddings \"HTTP/1.1 200 OK\"\n",
      "INFO:httpx:HTTP Request: POST https://api.openai.com/v1/embeddings \"HTTP/1.1 200 OK\"\n",
      "INFO:httpx:HTTP Request: POST https://api.openai.com/v1/embeddings \"HTTP/1.1 200 OK\"\n",
      "INFO:httpx:HTTP Request: POST https://api.openai.com/v1/embeddings \"HTTP/1.1 200 OK\"\n",
      "INFO:httpx:HTTP Request: POST https://api.openai.com/v1/embeddings \"HTTP/1.1 200 OK\"\n",
      "INFO:httpx:HTTP Request: POST https://api.openai.com/v1/embeddings \"HTTP/1.1 200 OK\"\n",
      "INFO:httpx:HTTP Request: POST https://api.openai.com/v1/embeddings \"HTTP/1.1 200 OK\"\n",
      "INFO:httpx:HTTP Request: POST https://api.openai.com/v1/embeddings \"HTTP/1.1 200 OK\"\n",
      "INFO:httpx:HTTP Request: POST https://api.openai.com/v1/embeddings \"HTTP/1.1 200 OK\"\n",
      "INFO:httpx:HTTP Request: POST https://api.openai.com/v1/embeddings \"HTTP/1.1 200 OK\"\n",
      "INFO:httpx:HTTP Request: POST https://api.openai.com/v1/embeddings \"HTTP/1.1 200 OK\"\n",
      "INFO:httpx:HTTP Request: POST https://api.openai.com/v1/embeddings \"HTTP/1.1 200 OK\"\n",
      "INFO:httpx:HTTP Request: POST https://api.openai.com/v1/embeddings \"HTTP/1.1 200 OK\"\n",
      "INFO:httpx:HTTP Request: POST https://api.openai.com/v1/embeddings \"HTTP/1.1 200 OK\"\n",
      "INFO:httpx:HTTP Request: POST https://api.openai.com/v1/embeddings \"HTTP/1.1 200 OK\"\n",
      "INFO:httpx:HTTP Request: POST https://api.openai.com/v1/embeddings \"HTTP/1.1 200 OK\"\n",
      "INFO:httpx:HTTP Request: POST https://api.openai.com/v1/embeddings \"HTTP/1.1 200 OK\"\n",
      "INFO:httpx:HTTP Request: POST https://api.openai.com/v1/embeddings \"HTTP/1.1 200 OK\"\n",
      "INFO:httpx:HTTP Request: POST https://api.openai.com/v1/embeddings \"HTTP/1.1 200 OK\"\n",
      "INFO:httpx:HTTP Request: POST https://api.openai.com/v1/embeddings \"HTTP/1.1 200 OK\"\n",
      "INFO:httpx:HTTP Request: POST https://api.openai.com/v1/embeddings \"HTTP/1.1 200 OK\"\n",
      "INFO:httpx:HTTP Request: POST https://api.openai.com/v1/embeddings \"HTTP/1.1 200 OK\"\n",
      "INFO:httpx:HTTP Request: POST https://api.openai.com/v1/embeddings \"HTTP/1.1 200 OK\"\n",
      "INFO:httpx:HTTP Request: POST https://api.openai.com/v1/embeddings \"HTTP/1.1 200 OK\"\n",
      "INFO:httpx:HTTP Request: POST https://api.openai.com/v1/embeddings \"HTTP/1.1 200 OK\"\n",
      "INFO:httpx:HTTP Request: POST https://api.openai.com/v1/embeddings \"HTTP/1.1 200 OK\"\n",
      "INFO:httpx:HTTP Request: POST https://api.openai.com/v1/embeddings \"HTTP/1.1 200 OK\"\n",
      "INFO:httpx:HTTP Request: POST https://api.openai.com/v1/embeddings \"HTTP/1.1 200 OK\"\n",
      "INFO:httpx:HTTP Request: POST https://api.openai.com/v1/embeddings \"HTTP/1.1 200 OK\"\n",
      "INFO:httpx:HTTP Request: POST https://api.openai.com/v1/embeddings \"HTTP/1.1 200 OK\"\n",
      "INFO:httpx:HTTP Request: POST https://api.openai.com/v1/embeddings \"HTTP/1.1 200 OK\"\n",
      "INFO:httpx:HTTP Request: POST https://api.openai.com/v1/embeddings \"HTTP/1.1 200 OK\"\n",
      "INFO:httpx:HTTP Request: POST https://api.openai.com/v1/embeddings \"HTTP/1.1 200 OK\"\n",
      "INFO:httpx:HTTP Request: POST https://api.openai.com/v1/embeddings \"HTTP/1.1 200 OK\"\n",
      "INFO:httpx:HTTP Request: POST https://api.openai.com/v1/embeddings \"HTTP/1.1 200 OK\"\n",
      "INFO:httpx:HTTP Request: POST https://api.openai.com/v1/embeddings \"HTTP/1.1 200 OK\"\n",
      "INFO:httpx:HTTP Request: POST https://api.openai.com/v1/embeddings \"HTTP/1.1 200 OK\"\n",
      "INFO:httpx:HTTP Request: POST https://api.openai.com/v1/embeddings \"HTTP/1.1 200 OK\"\n",
      "INFO:httpx:HTTP Request: POST https://api.openai.com/v1/embeddings \"HTTP/1.1 200 OK\"\n",
      "INFO:httpx:HTTP Request: POST https://api.openai.com/v1/embeddings \"HTTP/1.1 200 OK\"\n",
      "INFO:httpx:HTTP Request: POST https://api.openai.com/v1/embeddings \"HTTP/1.1 200 OK\"\n",
      "INFO:httpx:HTTP Request: POST https://api.openai.com/v1/embeddings \"HTTP/1.1 200 OK\"\n",
      "INFO:httpx:HTTP Request: POST https://api.openai.com/v1/embeddings \"HTTP/1.1 200 OK\"\n",
      "INFO:httpx:HTTP Request: POST https://api.openai.com/v1/embeddings \"HTTP/1.1 200 OK\"\n",
      "INFO:httpx:HTTP Request: POST https://api.openai.com/v1/embeddings \"HTTP/1.1 200 OK\"\n",
      "INFO:httpx:HTTP Request: POST https://api.openai.com/v1/embeddings \"HTTP/1.1 200 OK\"\n",
      "INFO:httpx:HTTP Request: POST https://api.openai.com/v1/embeddings \"HTTP/1.1 200 OK\"\n",
      "INFO:httpx:HTTP Request: POST https://api.openai.com/v1/embeddings \"HTTP/1.1 200 OK\"\n",
      "INFO:httpx:HTTP Request: POST https://api.openai.com/v1/embeddings \"HTTP/1.1 200 OK\"\n",
      "INFO:httpx:HTTP Request: POST https://api.openai.com/v1/chat/completions \"HTTP/1.1 200 OK\"\n"
     ]
    },
    {
     "name": "stdout",
     "output_type": "stream",
     "text": [
      "> Generated predictions: ['anger', 'pain', 'chills', 'cold sweat', 'tachycardia', 'atrial tachycardia', 'jarisch-herxheimer reaction', 'meningoencephalitis herpetic', 'vision blurred', 'optic discs blurred']\n",
      "\n",
      "\n",
      "> Generating predictions for input 4: TITLE:\n",
      "Managing Toe Walking, a Treatment Side Effect, in a Child With T-Cell Non-Hodgkin's Lymphoma: A Case Report.\n",
      "\n",
      "ABSTRACT:\n",
      "Background and Purpose: Children who have survived cancer are at risk of experiencing adverse effects of the cancer or its treatments. One of the adverse effects may be the \n"
     ]
    },
    {
     "name": "stderr",
     "output_type": "stream",
     "text": [
      "INFO:httpx:HTTP Request: POST https://api.openai.com/v1/chat/completions \"HTTP/1.1 200 OK\"\n",
      "INFO:httpx:HTTP Request: POST https://api.openai.com/v1/embeddings \"HTTP/1.1 200 OK\"\n",
      "INFO:httpx:HTTP Request: POST https://api.openai.com/v1/embeddings \"HTTP/1.1 200 OK\"\n",
      "INFO:httpx:HTTP Request: POST https://api.openai.com/v1/embeddings \"HTTP/1.1 200 OK\"\n",
      "INFO:httpx:HTTP Request: POST https://api.openai.com/v1/embeddings \"HTTP/1.1 200 OK\"\n",
      "INFO:httpx:HTTP Request: POST https://api.openai.com/v1/embeddings \"HTTP/1.1 200 OK\"\n",
      "INFO:httpx:HTTP Request: POST https://api.openai.com/v1/embeddings \"HTTP/1.1 200 OK\"\n",
      "INFO:httpx:HTTP Request: POST https://api.openai.com/v1/embeddings \"HTTP/1.1 200 OK\"\n",
      "INFO:httpx:HTTP Request: POST https://api.openai.com/v1/embeddings \"HTTP/1.1 200 OK\"\n",
      "INFO:httpx:HTTP Request: POST https://api.openai.com/v1/embeddings \"HTTP/1.1 200 OK\"\n",
      "INFO:httpx:HTTP Request: POST https://api.openai.com/v1/embeddings \"HTTP/1.1 200 OK\"\n",
      "INFO:httpx:HTTP Request: POST https://api.openai.com/v1/embeddings \"HTTP/1.1 200 OK\"\n",
      "INFO:httpx:HTTP Request: POST https://api.openai.com/v1/embeddings \"HTTP/1.1 200 OK\"\n",
      "INFO:httpx:HTTP Request: POST https://api.openai.com/v1/embeddings \"HTTP/1.1 200 OK\"\n",
      "INFO:httpx:HTTP Request: POST https://api.openai.com/v1/embeddings \"HTTP/1.1 200 OK\"\n",
      "INFO:httpx:HTTP Request: POST https://api.openai.com/v1/embeddings \"HTTP/1.1 200 OK\"\n",
      "INFO:httpx:HTTP Request: POST https://api.openai.com/v1/embeddings \"HTTP/1.1 200 OK\"\n",
      "INFO:httpx:HTTP Request: POST https://api.openai.com/v1/embeddings \"HTTP/1.1 200 OK\"\n",
      "INFO:httpx:HTTP Request: POST https://api.openai.com/v1/embeddings \"HTTP/1.1 200 OK\"\n",
      "INFO:httpx:HTTP Request: POST https://api.openai.com/v1/embeddings \"HTTP/1.1 200 OK\"\n",
      "INFO:httpx:HTTP Request: POST https://api.openai.com/v1/embeddings \"HTTP/1.1 200 OK\"\n",
      "INFO:httpx:HTTP Request: POST https://api.openai.com/v1/embeddings \"HTTP/1.1 200 OK\"\n",
      "INFO:httpx:HTTP Request: POST https://api.openai.com/v1/embeddings \"HTTP/1.1 200 OK\"\n",
      "INFO:httpx:HTTP Request: POST https://api.openai.com/v1/embeddings \"HTTP/1.1 200 OK\"\n",
      "INFO:httpx:HTTP Request: POST https://api.openai.com/v1/embeddings \"HTTP/1.1 200 OK\"\n",
      "INFO:httpx:HTTP Request: POST https://api.openai.com/v1/embeddings \"HTTP/1.1 200 OK\"\n",
      "INFO:httpx:HTTP Request: POST https://api.openai.com/v1/embeddings \"HTTP/1.1 200 OK\"\n",
      "INFO:httpx:HTTP Request: POST https://api.openai.com/v1/embeddings \"HTTP/1.1 200 OK\"\n",
      "INFO:httpx:HTTP Request: POST https://api.openai.com/v1/chat/completions \"HTTP/1.1 200 OK\"\n"
     ]
    },
    {
     "name": "stdout",
     "output_type": "stream",
     "text": [
      "> Generated predictions: ['hepatosplenomegaly', 'spleen disorder', 'lymph node pain', 'night sweats', 'weight decreased', 'lymphadenopathy', 'skin disorder', 'lymphadenopathy', 'bone marrow disorder', 'blood disorder']\n"
     ]
    }
   ],
   "source": [
    "samples = get_samples(dataset, sample_size=5)\n",
    "pred_reactions = pack.run(inputs=[s[\"text\"] for s in samples])\n",
    "gt_reactions = [s[\"reactions\"] for s in samples]"
   ]
  },
  {
   "cell_type": "code",
   "execution_count": 9,
   "id": "bf548ddf-b877-4b32-be9e-7fe7a8b3d809",
   "metadata": {
    "ExecuteTime": {
     "end_time": "2024-02-05T11:16:02.846839Z",
     "start_time": "2024-02-05T11:16:02.843787Z"
    }
   },
   "outputs": [
    {
     "data": {
      "text/plain": "['neutropenia',\n 'leukopenia',\n 'thrombocytopenia',\n 'agranulocytosis',\n 'granulocytopenia',\n 'lymphopenia',\n 'neutropenic infection',\n 'myelosuppression',\n 'thrombocytosis',\n 'myelopathy']"
     },
     "execution_count": 9,
     "metadata": {},
     "output_type": "execute_result"
    }
   ],
   "source": [
    "pred_reactions[2]"
   ]
  },
  {
   "cell_type": "code",
   "execution_count": 10,
   "id": "f796c4d9-9a34-4a5c-9ccf-79e78faae1b0",
   "metadata": {
    "ExecuteTime": {
     "end_time": "2024-02-05T11:16:03.845907Z",
     "start_time": "2024-02-05T11:16:03.827075Z"
    }
   },
   "outputs": [
    {
     "data": {
      "text/plain": "['bone marrow toxicity',\n 'cytomegalovirus infection',\n 'cytomegalovirus mucocutaneous ulcer',\n 'febrile neutropenia',\n 'leukoplakia',\n 'odynophagia',\n 'oropharyngeal candidiasis',\n 'pancytopenia',\n 'product use issue',\n 'red blood cell poikilocytes present',\n 'vitamin d deficiency']"
     },
     "execution_count": 10,
     "metadata": {},
     "output_type": "execute_result"
    }
   ],
   "source": [
    "gt_reactions[2]"
   ]
  },
  {
   "cell_type": "markdown",
   "id": "78a6a677-8306-4b8f-b009-3a1992e9ad22",
   "metadata": {},
   "source": [
    "## Define Infer-Retrieve-Rerank Pipeline\n",
    "\n",
    "Here we define the core components needed for the full infer-retrieve-rerank pipeline. \n",
    "\n",
    "Refer to the [paper](https://arxiv.org/pdf/2401.12178.pdf) for more details. The paper implements it in DSPy, here we adapt an implementation with LlamaIndex abstractions. As a result the specific implementations (e.g. prompts, output parsing modules, reranking module) are different even though the conceptually we follow similar steps.\n",
    "\n",
    "Our implementation uses fixed models, and does not do automatic distillation between teacher and student."
   ]
  },
  {
   "cell_type": "code",
   "execution_count": 14,
   "id": "2790e307-7e48-4f6b-ac30-ca261c98a11a",
   "metadata": {
    "ExecuteTime": {
     "end_time": "2024-02-05T11:20:39.615727Z",
     "start_time": "2024-02-05T11:20:39.609893Z"
    }
   },
   "outputs": [],
   "source": [
    "from llama_index.retrievers import BaseRetriever\n",
    "from llama_index.llms.llm import LLM\n",
    "from llama_index.llms import OpenAI\n",
    "from llama_index.prompts import PromptTemplate\n",
    "from llama_index.query_pipeline import QueryPipeline\n",
    "from llama_index.postprocessor.types import BaseNodePostprocessor\n",
    "from llama_index.postprocessor.rankGPT_rerank import RankGPTRerank\n",
    "from llama_index.output_parsers import ChainableOutputParser\n",
    "from typing import List"
   ]
  },
  {
   "cell_type": "markdown",
   "id": "5aca770f-8a51-4206-a11c-dc59b1b90a1c",
   "metadata": {},
   "source": [
    "#### Index each Reaction with a Vector Index\n",
    "\n",
    "Since the set of reactions is quite large, we can define a vector index over all reactions. That way we can retrieve the top k most semantically similar reactions to any prediction."
   ]
  },
  {
   "cell_type": "code",
   "execution_count": 16,
   "id": "c6f7ffea-d698-4fee-8609-92326a0bb7ff",
   "metadata": {
    "ExecuteTime": {
     "end_time": "2024-02-05T11:22:25.453416Z",
     "start_time": "2024-02-05T11:22:24.576136Z"
    }
   },
   "outputs": [],
   "source": [
    "import random\n",
    "\n",
    "all_reactions = get_reactions_set(dataset)\n",
    "# random.sample(all_reactions, 5)"
   ]
  },
  {
   "cell_type": "code",
   "execution_count": 17,
   "id": "4c15f5ce-eb3c-4776-b7ad-47f0e08f06de",
   "metadata": {
    "ExecuteTime": {
     "end_time": "2024-02-05T11:23:15.709529Z",
     "start_time": "2024-02-05T11:22:59.118941Z"
    }
   },
   "outputs": [
    {
     "name": "stderr",
     "output_type": "stream",
     "text": [
      "INFO:httpx:HTTP Request: POST https://api.openai.com/v1/embeddings \"HTTP/1.1 200 OK\"\n",
      "INFO:httpx:HTTP Request: POST https://api.openai.com/v1/embeddings \"HTTP/1.1 200 OK\"\n",
      "INFO:httpx:HTTP Request: POST https://api.openai.com/v1/embeddings \"HTTP/1.1 200 OK\"\n",
      "INFO:httpx:HTTP Request: POST https://api.openai.com/v1/embeddings \"HTTP/1.1 200 OK\"\n",
      "INFO:httpx:HTTP Request: POST https://api.openai.com/v1/embeddings \"HTTP/1.1 200 OK\"\n",
      "INFO:httpx:HTTP Request: POST https://api.openai.com/v1/embeddings \"HTTP/1.1 200 OK\"\n",
      "INFO:httpx:HTTP Request: POST https://api.openai.com/v1/embeddings \"HTTP/1.1 200 OK\"\n",
      "INFO:httpx:HTTP Request: POST https://api.openai.com/v1/embeddings \"HTTP/1.1 200 OK\"\n",
      "INFO:httpx:HTTP Request: POST https://api.openai.com/v1/embeddings \"HTTP/1.1 200 OK\"\n",
      "INFO:httpx:HTTP Request: POST https://api.openai.com/v1/embeddings \"HTTP/1.1 200 OK\"\n",
      "INFO:httpx:HTTP Request: POST https://api.openai.com/v1/embeddings \"HTTP/1.1 200 OK\"\n",
      "INFO:httpx:HTTP Request: POST https://api.openai.com/v1/embeddings \"HTTP/1.1 200 OK\"\n",
      "INFO:httpx:HTTP Request: POST https://api.openai.com/v1/embeddings \"HTTP/1.1 200 OK\"\n",
      "INFO:httpx:HTTP Request: POST https://api.openai.com/v1/embeddings \"HTTP/1.1 200 OK\"\n",
      "INFO:httpx:HTTP Request: POST https://api.openai.com/v1/embeddings \"HTTP/1.1 200 OK\"\n",
      "INFO:httpx:HTTP Request: POST https://api.openai.com/v1/embeddings \"HTTP/1.1 200 OK\"\n",
      "INFO:httpx:HTTP Request: POST https://api.openai.com/v1/embeddings \"HTTP/1.1 200 OK\"\n",
      "INFO:httpx:HTTP Request: POST https://api.openai.com/v1/embeddings \"HTTP/1.1 200 OK\"\n",
      "INFO:httpx:HTTP Request: POST https://api.openai.com/v1/embeddings \"HTTP/1.1 200 OK\"\n",
      "INFO:httpx:HTTP Request: POST https://api.openai.com/v1/embeddings \"HTTP/1.1 200 OK\"\n",
      "INFO:httpx:HTTP Request: POST https://api.openai.com/v1/embeddings \"HTTP/1.1 200 OK\"\n",
      "INFO:httpx:HTTP Request: POST https://api.openai.com/v1/embeddings \"HTTP/1.1 200 OK\"\n",
      "INFO:httpx:HTTP Request: POST https://api.openai.com/v1/embeddings \"HTTP/1.1 200 OK\"\n",
      "INFO:httpx:HTTP Request: POST https://api.openai.com/v1/embeddings \"HTTP/1.1 200 OK\"\n",
      "INFO:httpx:HTTP Request: POST https://api.openai.com/v1/embeddings \"HTTP/1.1 200 OK\"\n",
      "INFO:httpx:HTTP Request: POST https://api.openai.com/v1/embeddings \"HTTP/1.1 200 OK\"\n",
      "INFO:httpx:HTTP Request: POST https://api.openai.com/v1/embeddings \"HTTP/1.1 200 OK\"\n",
      "INFO:httpx:HTTP Request: POST https://api.openai.com/v1/embeddings \"HTTP/1.1 200 OK\"\n",
      "INFO:httpx:HTTP Request: POST https://api.openai.com/v1/embeddings \"HTTP/1.1 200 OK\"\n",
      "INFO:httpx:HTTP Request: POST https://api.openai.com/v1/embeddings \"HTTP/1.1 200 OK\"\n",
      "INFO:httpx:HTTP Request: POST https://api.openai.com/v1/embeddings \"HTTP/1.1 200 OK\"\n",
      "INFO:httpx:HTTP Request: POST https://api.openai.com/v1/embeddings \"HTTP/1.1 200 OK\"\n",
      "INFO:httpx:HTTP Request: POST https://api.openai.com/v1/embeddings \"HTTP/1.1 200 OK\"\n",
      "INFO:httpx:HTTP Request: POST https://api.openai.com/v1/embeddings \"HTTP/1.1 200 OK\"\n",
      "INFO:httpx:HTTP Request: POST https://api.openai.com/v1/embeddings \"HTTP/1.1 200 OK\"\n",
      "INFO:httpx:HTTP Request: POST https://api.openai.com/v1/embeddings \"HTTP/1.1 200 OK\"\n",
      "INFO:httpx:HTTP Request: POST https://api.openai.com/v1/embeddings \"HTTP/1.1 200 OK\"\n",
      "INFO:httpx:HTTP Request: POST https://api.openai.com/v1/embeddings \"HTTP/1.1 200 OK\"\n",
      "INFO:httpx:HTTP Request: POST https://api.openai.com/v1/embeddings \"HTTP/1.1 200 OK\"\n",
      "INFO:httpx:HTTP Request: POST https://api.openai.com/v1/embeddings \"HTTP/1.1 200 OK\"\n",
      "INFO:httpx:HTTP Request: POST https://api.openai.com/v1/embeddings \"HTTP/1.1 200 OK\"\n",
      "INFO:httpx:HTTP Request: POST https://api.openai.com/v1/embeddings \"HTTP/1.1 200 OK\"\n",
      "INFO:httpx:HTTP Request: POST https://api.openai.com/v1/embeddings \"HTTP/1.1 200 OK\"\n",
      "INFO:httpx:HTTP Request: POST https://api.openai.com/v1/embeddings \"HTTP/1.1 200 OK\"\n",
      "INFO:httpx:HTTP Request: POST https://api.openai.com/v1/embeddings \"HTTP/1.1 200 OK\"\n",
      "INFO:httpx:HTTP Request: POST https://api.openai.com/v1/embeddings \"HTTP/1.1 200 OK\"\n",
      "INFO:httpx:HTTP Request: POST https://api.openai.com/v1/embeddings \"HTTP/1.1 200 OK\"\n"
     ]
    }
   ],
   "source": [
    "from llama_index.schema import TextNode\n",
    "from llama_index.embeddings import OpenAIEmbedding\n",
    "from llama_index.ingestion import IngestionPipeline\n",
    "from llama_index import VectorStoreIndex\n",
    "\n",
    "reaction_nodes = [TextNode(text=r) for r in all_reactions]\n",
    "pipeline = IngestionPipeline(transformations=[OpenAIEmbedding()])\n",
    "reaction_nodes = await pipeline.arun(documents=reaction_nodes)\n",
    "\n",
    "index = VectorStoreIndex(reaction_nodes)"
   ]
  },
  {
   "cell_type": "code",
   "execution_count": 18,
   "id": "03d3314e-06e7-46aa-aa70-cd726238cffc",
   "metadata": {
    "ExecuteTime": {
     "end_time": "2024-02-05T11:23:21.177621Z",
     "start_time": "2024-02-05T11:23:21.173809Z"
    }
   },
   "outputs": [
    {
     "data": {
      "text/plain": "[-0.01811717078089714,\n -0.03355604037642479,\n 0.021529430523514748,\n -0.04465554282069206,\n -0.013970952481031418,\n 0.0057557751424610615,\n -0.029538584873080254,\n -0.02438800409436226,\n -0.014550392515957355,\n -0.020808350294828415,\n 0.012792756780982018,\n -6.126375228632241e-05,\n -0.01785964146256447,\n 0.004323269240558147,\n -0.003962728660553694,\n -0.007597107905894518,\n 0.03950496017932892,\n -0.0051924302242696285,\n 0.012644677422940731,\n -0.011949349194765091,\n -0.01608269102871418,\n 0.01854209415614605,\n -0.004059302154928446,\n -0.00012222571240272373,\n -0.0077065578661859035,\n 0.003914441913366318,\n -0.02172257751226425,\n -0.04161670058965683,\n -0.004210600629448891,\n -0.01035910751670599,\n 0.01979110948741436,\n -0.01793690025806427,\n -0.02507045492529869,\n 0.0036440363619476557,\n 0.006702194456011057,\n -0.0015966802602633834,\n 0.0014952782075852156,\n 0.008884753100574017,\n 0.010262534022331238,\n -0.01050074864178896,\n 0.00669575622305274,\n 0.00518921110779047,\n 0.011324841529130936,\n 0.014756415970623493,\n -0.020267538726329803,\n 0.0030662056524306536,\n 0.016855278983712196,\n -0.0038436215836554766,\n -0.013327130116522312,\n 0.020988620817661285,\n 0.012026607990264893,\n 0.007822445593774319,\n -0.0012449921341612935,\n -0.01464052777737379,\n -0.006972599774599075,\n 0.015503250993788242,\n 0.00018519962031859905,\n 0.0004406161606311798,\n -0.0022018735762685537,\n -0.018851129338145256,\n 0.01225194614380598,\n 0.0007009619730524719,\n -0.022469412535429,\n 0.015374486334621906,\n 0.001965268747881055,\n -0.004271763376891613,\n -0.002578509971499443,\n 0.007416837383061647,\n 0.0019218107918277383,\n -0.015554755926132202,\n 0.010307601653039455,\n 0.0302081611007452,\n -0.016571996733546257,\n -0.003130587749183178,\n -0.005263250321149826,\n -0.012702621519565582,\n 0.00010110028233611956,\n -0.017524853348731995,\n -0.0003283495898358524,\n 0.011595246382057667,\n 0.031186770647764206,\n -0.015039698220789433,\n -0.003560339566320181,\n 0.030053643509745598,\n -0.00494777737185359,\n -0.009045708924531937,\n -0.026345225051045418,\n 0.001965268747881055,\n -0.004825450945645571,\n -0.013056724332273006,\n 0.01306960079818964,\n -0.0005339704221114516,\n 0.02513483725488186,\n 0.029512831941246986,\n -0.00936118233948946,\n 0.00047924552927725017,\n 0.007494096178561449,\n 0.04939407855272293,\n 0.012689745053648949,\n -0.010841974057257175,\n -0.006463979836553335,\n 0.016662131994962692,\n -0.01672651432454586,\n -0.03095499612390995,\n -0.019314680248498917,\n -0.0003687896823976189,\n -0.025649895891547203,\n -0.006727947387844324,\n 0.01658487319946289,\n -0.004719220567494631,\n -0.0020248224027454853,\n 0.0462007150053978,\n -0.002926174085587263,\n -0.022688312456011772,\n -0.005163458175957203,\n -0.0018992769764736295,\n 0.008723797276616096,\n 0.0028666206635534763,\n -0.013327130116522312,\n -0.028225187212228775,\n 0.024735668674111366,\n 0.002127834130078554,\n 0.019134409725666046,\n -0.004748192615807056,\n -0.007300949189811945,\n 0.016378849744796753,\n -0.0027249795384705067,\n -0.020975744351744652,\n -0.026860283687710762,\n -0.009432002902030945,\n 0.03512696549296379,\n 0.015438868664205074,\n 0.044449519366025925,\n -0.029461326077580452,\n -0.00480613624677062,\n 0.008530650287866592,\n -0.03569352999329567,\n -0.0025092989671975374,\n -0.005807280540466309,\n -0.028405457735061646,\n -0.01968809776008129,\n 0.048260949552059174,\n -0.018529217690229416,\n 0.02093711495399475,\n -0.017318829894065857,\n 0.03389082849025726,\n 0.03134128823876381,\n 0.02057657390832901,\n -0.015297227539122105,\n -0.004706344101577997,\n 0.0029052498284727335,\n -0.01707417704164982,\n 0.010133769363164902,\n -0.021619565784931183,\n 0.014254234731197357,\n 0.0034862998872995377,\n -0.00466127647086978,\n 0.010288286954164505,\n -0.024619780480861664,\n -0.00857571791857481,\n -0.0009536623838357627,\n -0.011208953335881233,\n 0.018567847087979317,\n 0.00015099653683137149,\n -0.00859503261744976,\n 0.018245935440063477,\n -0.006888902746140957,\n 0.0022485507652163506,\n 0.009676654823124409,\n -0.006174259819090366,\n -0.01272837445139885,\n 0.01954645663499832,\n -0.007294510956853628,\n 0.025096207857131958,\n -0.009786104783415794,\n 0.019134409725666046,\n 0.015258598141372204,\n -0.0011685382341966033,\n -0.026911789551377296,\n -0.024915939196944237,\n -0.037676505744457245,\n 0.02342226915061474,\n 0.00034504872746765614,\n 0.007751625496894121,\n -0.008105727843940258,\n 0.011492235586047173,\n 0.018838252872228622,\n -0.02228914201259613,\n 0.020125897601246834,\n -0.01854209415614605,\n 0.017872517928481102,\n 0.01576077938079834,\n -0.0030903490260243416,\n -0.03747048228979111,\n -0.665455162525177,\n -0.02734958752989769,\n 0.010281848721206188,\n 0.008710920810699463,\n -0.014936686493456364,\n 0.032216887921094894,\n 0.029976384714245796,\n -0.0011178371496498585,\n -0.006657126825302839,\n -0.0057074883952736855,\n -0.007403960917145014,\n 0.01615994982421398,\n -0.0116081228479743,\n 0.0020167746115475893,\n 0.0013238603714853525,\n -0.0003144671500194818,\n -0.007217252627015114,\n -0.018065664917230606,\n -0.004522854462265968,\n 0.002213140483945608,\n -0.0006546872318722308,\n 0.016700761392712593,\n -0.016018308699131012,\n 0.001534712384454906,\n 0.01825881190598011,\n -0.006888902746140957,\n 0.011305526830255985,\n -0.012779880315065384,\n -0.026113448664546013,\n 0.03002789057791233,\n -0.022688312456011772,\n 0.017383212223649025,\n -0.0007154479972086847,\n -0.01658487319946289,\n 0.04730809107422829,\n -0.0111960768699646,\n -0.01668788492679596,\n 0.0035732160322368145,\n -0.0021986544597893953,\n 0.052226897329092026,\n -0.01594104990363121,\n 0.0016023137141019106,\n 0.00873667374253273,\n 0.0015516127459704876,\n -0.006090562790632248,\n 0.02410472184419632,\n 0.012689745053648949,\n -0.017099929973483086,\n 0.020460685715079308,\n 0.006914655677974224,\n 0.02791615203022957,\n 0.0008635271806269884,\n -0.010951424017548561,\n -0.006583087146282196,\n -9.048726496985182e-05,\n 0.0010800125310197473,\n 0.006785891018807888,\n -0.011917158029973507,\n 0.010693894699215889,\n 0.009444879367947578,\n 0.0051602390594780445,\n 0.025121960788965225,\n -0.018593600019812584,\n -0.010082263499498367,\n -0.01272837445139885,\n 0.0026831310242414474,\n -0.017911147326231003,\n 0.0005363847594708204,\n 0.02085985615849495,\n 0.02071821503341198,\n 0.04159094765782356,\n 0.003489519003778696,\n -0.003962728660553694,\n 0.046947550028562546,\n 0.050861991941928864,\n 0.019881244748830795,\n 0.02771012857556343,\n -0.0044359383173286915,\n 0.0041043697856366634,\n 0.004336145706474781,\n 0.011492235586047173,\n 0.019134409725666046,\n -0.02122039534151554,\n 0.010101578198373318,\n 0.023705551400780678,\n 0.0065702106803655624,\n -0.01672651432454586,\n 0.01922454498708248,\n 0.0012691355077549815,\n -0.009110091254115105,\n 0.023151863366365433,\n 0.0009246903355233371,\n -0.009142282418906689,\n -0.01640460267663002,\n -0.003014699788764119,\n 0.01825881190598011,\n -0.010578006505966187,\n 0.016108443960547447,\n 0.036569129675626755,\n 0.007127117365598679,\n -0.009998566471040249,\n -0.01961083896458149,\n -0.0031418546568602324,\n -0.004838327411562204,\n 0.010545815341174603,\n 0.013076039031147957,\n -0.015400239266455173,\n 0.009451317600905895,\n 0.022842830047011375,\n -0.022263389080762863,\n 0.012058799155056477,\n -0.008723797276616096,\n -0.0027088839560747147,\n -0.010095139965415001,\n 0.02995063178241253,\n -0.027092058211565018,\n -0.005768651142716408,\n -0.015876667574048042,\n -0.006708632688969374,\n -0.014279987663030624,\n -0.006463979836553335,\n 0.010185275226831436,\n 0.01615994982421398,\n 1.6623704141238704e-05,\n -0.009702407754957676,\n -0.005717145744711161,\n -0.007629299070686102,\n -0.03077472560107708,\n 0.007268758025020361,\n -0.00686314981430769,\n 0.004545388277620077,\n 0.014421628788113594,\n 0.03577078878879547,\n -0.008562841452658176,\n 0.02033192105591297,\n -0.03041418455541134,\n 0.012979465536773205,\n 0.0015540270833298564,\n 0.011685381643474102,\n -0.021915724501013756,\n -0.010887041687965393,\n 0.002823162591084838,\n -0.0017479786183685064,\n 0.0063738445751369,\n 0.017666494473814964,\n 0.00385649804957211,\n -0.016675008460879326,\n -0.005289003252983093,\n 0.011028682813048363,\n -0.00172061612829566,\n 0.0011339327320456505,\n -0.01632734388113022,\n -0.0030823012348264456,\n 0.013571782037615776,\n -0.006325557827949524,\n -0.026164954528212547,\n 0.0127476891502738,\n -0.010726085864007473,\n 0.00921954121440649,\n 0.006818082183599472,\n 0.022121747955679893,\n 0.011846337467432022,\n -0.010120892897248268,\n -0.0063062431290745735,\n -0.024954568594694138,\n -0.029976384714245796,\n 0.0033897263929247856,\n -0.008421201258897781,\n -0.03195935860276222,\n -0.025186343118548393,\n -0.014537516050040722,\n -0.02892051637172699,\n 0.01850346475839615,\n 0.027941904962062836,\n 0.0008313360740430653,\n 0.029229549691081047,\n -0.017537729814648628,\n -0.008356818929314613,\n 0.007397522684186697,\n 0.002847305964678526,\n -6.926123751327395e-05,\n 0.01896701753139496,\n -0.029796114191412926,\n 0.014254234731197357,\n 0.028946269303560257,\n -0.017447594553232193,\n 0.00991486944258213,\n 0.017885394394397736,\n -0.005852348171174526,\n 0.011620999313890934,\n -0.05439013987779617,\n 0.03754774108529091,\n -0.03059445507824421,\n 0.0075777932070195675,\n -0.00991486944258213,\n -0.038037046790122986,\n -0.00788038969039917,\n -0.005594819318503141,\n -0.022623930126428604,\n 0.02835395187139511,\n 0.04764287918806076,\n -0.016932537779211998,\n 0.013520277105271816,\n 0.0007339578587561846,\n 0.023448022082448006,\n -0.017383212223649025,\n 0.001185438595712185,\n -0.011975102126598358,\n 0.02346089854836464,\n 0.0007854636642150581,\n -0.008749550208449364,\n 0.007403960917145014,\n 0.020666709169745445,\n -0.006708632688969374,\n 0.008704482577741146,\n 0.021580936387181282,\n -0.0050089405849576,\n -0.005334070883691311,\n -0.009992128238081932,\n -0.010957862250506878,\n -0.01225194614380598,\n -0.010417051613330841,\n 0.01715143583714962,\n -0.014344369992613792,\n -0.010964300483465195,\n 0.015026821754872799,\n 0.015825161710381508,\n -0.0010405784705653787,\n -0.008627223782241344,\n -0.02067958563566208,\n -0.015271474607288837,\n 0.011563055217266083,\n 0.01765361800789833,\n 0.013494524173438549,\n -0.0006800377159379423,\n 0.007603546138852835,\n 0.01077115349471569,\n -0.016816649585962296,\n 0.004207381512969732,\n 0.029976384714245796,\n -0.001896057859994471,\n 0.005781527608633041,\n 0.044990330934524536,\n 0.0008148381020873785,\n -0.0031531215645372868,\n 0.01077115349471569,\n 0.014382999390363693,\n 0.01922454498708248,\n -0.011563055217266083,\n 0.01594104990363121,\n 0.015953926369547844,\n -0.007294510956853628,\n 0.008704482577741146,\n 0.023435145616531372,\n 0.00016920464986469597,\n 0.005430644378066063,\n 0.014704910106956959,\n 0.010365545749664307,\n 0.008672291412949562,\n 0.033787816762924194,\n 0.0026428920682519674,\n -0.0019781452137976885,\n 0.00800271611660719,\n 0.00620645098388195,\n 0.010681018233299255,\n -0.023241998627781868,\n 0.01600543223321438,\n 0.010423489846289158,\n 0.002610701136291027,\n 0.008562841452658176,\n -0.03412260115146637,\n 0.00789970438927412,\n 0.014859427697956562,\n -0.00720437616109848,\n 0.003315686946734786,\n 0.006161383353173733,\n 0.007056296803057194,\n -0.00861434731632471,\n 0.014344369992613792,\n 0.016932537779211998,\n 0.014305740594863892,\n -0.025263601914048195,\n 0.022366400808095932,\n 0.002386972540989518,\n -0.0018027035985141993,\n -0.018001282587647438,\n -0.002473888685926795,\n -0.021619565784931183,\n 0.022057365626096725,\n 0.027298081666231155,\n 0.008459830656647682,\n 0.023576786741614342,\n -0.0016264570876955986,\n -0.02168394811451435,\n -0.00041767998482100666,\n -0.018670858815312386,\n 0.028508469462394714,\n -0.002910078503191471,\n -2.867022885766346e-05,\n -0.0030243571382015944,\n 3.3259980227740016e-06,\n 0.024722792208194733,\n 0.01761498861014843,\n -0.010919232852756977,\n 0.02977036125957966,\n 0.008685167878866196,\n -0.0085048982873559,\n -0.009451317600905895,\n -0.002039308426901698,\n 0.00987624004483223,\n -0.0127863185480237,\n -0.002696007490158081,\n -0.016700761392712593,\n -0.0026750832330435514,\n 0.01729307696223259,\n 0.01612132042646408,\n -0.010951424017548561,\n -0.005543313454836607,\n 0.023551033809781075,\n -0.012425778433680534,\n -0.010172398760914803,\n -0.019816862419247627,\n 0.002393410773947835,\n -0.007745187263935804,\n 0.010108016431331635,\n 0.04339364916086197,\n -0.009766790084540844,\n 0.0015572461998090148,\n 0.003879031864926219,\n 0.027787387371063232,\n -0.01886400580406189,\n -0.01276700384914875,\n 0.020422056317329407,\n -0.0075777932070195675,\n 0.00789970438927412,\n -0.010887041687965393,\n 0.019031399860978127,\n -0.005923168733716011,\n 0.00478682154789567,\n 0.006187136285007,\n -0.01932755671441555,\n -0.02207024209201336,\n 0.02378281019628048,\n 0.009496385231614113,\n 0.0018300659721717238,\n -0.009457755833864212,\n 0.008331065997481346,\n 0.02107875421643257,\n 0.03255167603492737,\n -0.013842187821865082,\n 0.00040741905104368925,\n -0.003392945509403944,\n -0.0017318830359727144,\n 0.008170110173523426,\n -0.02517346665263176,\n 0.020924238488078117,\n -0.005993989296257496,\n 0.02196723036468029,\n 0.0034991763532161713,\n -0.01604406163096428,\n 0.011363470926880836,\n 0.0018445519963279366,\n 0.03826881945133209,\n -0.022520918399095535,\n 0.023087481036782265,\n 0.012554542161524296,\n 0.01961083896458149,\n 0.008459830656647682,\n -0.0016916440799832344,\n -0.01986836828291416,\n -0.029538584873080254,\n 0.046226467937231064,\n -0.006637812126427889,\n 0.009998566471040249,\n 0.05044994503259659,\n -0.0031225401908159256,\n -0.007011229172348976,\n -0.015593385323882103,\n 0.005131267011165619,\n 0.009258170612156391,\n 0.014872304163873196,\n -0.037573494017124176,\n -0.023023100569844246,\n 0.016958290711045265,\n -0.01725444756448269,\n -0.008801056072115898,\n -0.015850914642214775,\n -0.01193003449589014,\n -0.01739608868956566,\n 0.009741037152707577,\n 0.00425244914367795,\n -0.03644036501646042,\n -0.005214964039623737,\n 0.0028811064548790455,\n -0.0008852562168613076,\n -0.017821012064814568,\n -0.013146859593689442,\n 0.010442804545164108,\n 0.0038049921859055758,\n -0.01105443574488163,\n -0.019404815509915352,\n -0.014331493526697159,\n 0.021477924659848213,\n 0.01324987132102251,\n -0.028894763439893723,\n 0.020087268203496933,\n -0.018451958894729614,\n -0.026448236778378487,\n 0.0014429675647988915,\n -0.02188997156918049,\n 0.018915511667728424,\n -0.014653404243290424,\n -0.009251732379198074,\n 0.002639672951772809,\n -0.02156805992126465,\n -0.014717786572873592,\n 0.010417051613330841,\n 8.626218186691403e-05,\n -0.012058799155056477,\n -0.04238928481936455,\n -0.0012490160297602415,\n 0.007255882024765015,\n -0.007378207985311747,\n -0.005237497854977846,\n 0.0007238981197588146,\n -0.03584804758429527,\n -0.02160668931901455,\n 0.0012715498451143503,\n 0.008234492503106594,\n 0.0031659980304539204,\n 0.006142068654298782,\n -0.004893052391707897,\n -0.006058371625840664,\n -0.004052863921970129,\n 0.020640956237912178,\n 0.012020169757306576,\n -0.0046129897236824036,\n 0.017743753269314766,\n 0.030748972669243813,\n 0.02442663349211216,\n -0.016275838017463684,\n 0.01719006523489952,\n 0.0026670354418456554,\n -0.015297227539122105,\n 0.015670644119381905,\n -0.02057657390832901,\n 0.019160162657499313,\n -0.00977322831749916,\n -0.0036891039926558733,\n 0.02585591934621334,\n 0.029358314350247383,\n -0.02535373717546463,\n -0.007803130894899368,\n -0.004017453640699387,\n -0.0014051430625841022,\n 0.019945627078413963,\n -0.014447381719946861,\n 0.006914655677974224,\n -0.017318829894065857,\n -0.008446954190731049,\n -0.01879962347447872,\n -0.0012956932187080383,\n -0.004587236791849136,\n -0.014627651311457157,\n -0.04135917127132416,\n 0.002061842242255807,\n 0.013037409633398056,\n -0.018889758735895157,\n 0.01654624380171299,\n -0.025907425209879875,\n -0.010288286954164505,\n -0.005746117793023586,\n -0.013842187821865082,\n 0.013674793764948845,\n 0.0050636655651032925,\n 0.007680804934352636,\n -0.02649974264204502,\n -0.008266683667898178,\n -0.02279132418334484,\n -0.015335856936872005,\n -0.008762426674365997,\n 0.005604476667940617,\n 0.02228914201259613,\n 0.038037046790122986,\n 0.02910078503191471,\n -0.008492021821439266,\n 0.029178043827414513,\n 0.020061515271663666,\n -0.0033671928104013205,\n 0.02899777516722679,\n -0.003473423421382904,\n 0.006830958649516106,\n -0.02668001316487789,\n 0.025418119505047798,\n -0.004522854462265968,\n 0.001991021679714322,\n 0.01801415905356407,\n -0.013011656701564789,\n 0.033787816762924194,\n 0.008273121900856495,\n 0.001244187355041504,\n -0.015696397051215172,\n -0.017087053507566452,\n -0.03569352999329567,\n -0.016211455687880516,\n 0.003798553952947259,\n -0.004204162396490574,\n 0.006908217445015907,\n -0.03170182928442955,\n -0.04772013798356056,\n 0.01847771182656288,\n 0.017499100416898727,\n 0.0025092989671975374,\n -0.010294725187122822,\n 0.012638239189982414,\n -0.036749400198459625,\n 0.018413329496979713,\n 0.002726589096710086,\n 0.011382785625755787,\n -0.001047821482643485,\n -0.026654260233044624,\n 0.0417197123169899,\n -0.021980106830596924,\n 0.024684162810444832,\n 0.018876882269978523,\n -0.002958365250378847,\n -0.03105800598859787,\n 0.010635950602591038,\n -0.022302018478512764,\n 0.023190492764115334,\n -0.008704482577741146,\n -0.006000427529215813,\n 0.0024996416177600622,\n -0.019391939043998718,\n 0.002956755692139268,\n -0.0016103615052998066,\n -0.03345302864909172,\n -0.035925306379795074,\n -0.02360253967344761,\n 0.016662131994962692,\n -0.028662987053394318,\n 0.014795045368373394,\n -0.025057578459382057,\n -0.0025752908550202847,\n -0.021632442250847816,\n 0.01729307696223259,\n 7.972335879458115e-05,\n -0.015747902914881706,\n 0.023203369230031967,\n 0.026010436937212944,\n -0.01308891549706459,\n 0.0027330273296684027,\n 0.001335127279162407,\n 0.0075777932070195675,\n -0.020666709169745445,\n 0.007770939730107784,\n -0.004114027135074139,\n 0.0009037661366164684,\n -0.013919446617364883,\n -0.00045872366172261536,\n 0.01171113457530737,\n 0.004526073578745127,\n -0.017524853348731995,\n 0.02899777516722679,\n 0.0225080419331789,\n -0.014859427697956562,\n -0.013983828946948051,\n -0.021156013011932373,\n -0.015232845209538937,\n 0.025971807539463043,\n 0.007197937928140163,\n -0.017769506201148033,\n -0.0019395159324631095,\n -0.005092637613415718,\n -0.02100149728357792,\n 0.033401522785425186,\n -0.022842830047011375,\n 0.02531510777771473,\n -0.018735241144895554,\n -0.02289433591067791,\n -0.013494524173438549,\n -0.017872517928481102,\n -0.025624142959713936,\n 0.011846337467432022,\n -0.011801269836723804,\n 0.03273194655776024,\n -0.00739108445122838,\n -0.001991021679714322,\n 0.011814146302640438,\n -0.01294727437198162,\n 0.008704482577741146,\n 0.018786747008562088,\n -0.015374486334621906,\n 0.024864433333277702,\n -0.009489946998655796,\n -0.0010220685508102179,\n 0.034817930310964584,\n -0.0041204653680324554,\n 0.002411115914583206,\n 0.015348733402788639,\n -0.011151009239256382,\n -0.004210600629448891,\n -0.005546532571315765,\n 0.000727117236237973,\n 0.01861935295164585,\n 0.025327984243631363,\n -0.007339578587561846,\n 0.012348519638180733,\n -0.021477924659848213,\n 0.0005971455248072743,\n -0.028611481189727783,\n -0.011646752245724201,\n 0.009792543016374111,\n -0.026370977982878685,\n -0.00802203081548214,\n -0.02218613028526306,\n -0.002832819940522313,\n 0.018709488213062286,\n 0.0036987613420933485,\n -0.005523998755961657,\n 0.0003058157744817436,\n 0.027375340461730957,\n -0.028946269303560257,\n 0.03113526478409767,\n 0.006824520416557789,\n 0.011440729722380638,\n -0.0001339955924777314,\n 0.0021600250620394945,\n -0.020589450374245644,\n -0.01460189837962389,\n 0.029512831941246986,\n 0.016031185165047646,\n -0.03298947587609291,\n -0.005752556025981903,\n 0.0009134234278462827,\n 0.0200743917375803,\n 0.01612132042646408,\n -0.00869804434478283,\n 0.0301309023052454,\n 0.010957862250506878,\n 0.007243005558848381,\n -0.026332348585128784,\n -0.014061087742447853,\n 0.021735453978180885,\n -0.035281483083963394,\n 0.025727154687047005,\n 0.003592530731111765,\n -0.00771299609914422,\n -0.008730235509574413,\n 0.008266683667898178,\n 0.005086199380457401,\n -0.0038114304188638926,\n -0.004281420726329088,\n -0.019700974225997925,\n -0.02156805992126465,\n 0.04550538957118988,\n -0.0007717824773862958,\n 0.009271047078073025,\n -0.0177566297352314,\n -0.0011001320090144873,\n -0.010648827068507671,\n 0.03131553530693054,\n 0.005523998755961657,\n -0.0089169442653656,\n -0.03095499612390995,\n 0.020370550453662872,\n -0.004883395042270422,\n 0.016288714483380318,\n -0.014807921834290028,\n 0.0054435208439826965,\n -0.016958290711045265,\n 0.0017640742007642984,\n -0.027272328734397888,\n -0.002546318806707859,\n -0.003608626313507557,\n 0.03085198439657688,\n 0.015052574686706066,\n -0.027092058211565018,\n -0.004645180888473988,\n -0.00818298663944006,\n -0.030748972669243813,\n 0.003306029597297311,\n -0.011794831603765488,\n 0.02039630338549614,\n 0.01492381002753973,\n -0.010043634101748466,\n -0.006518704816699028,\n 0.0200357623398304,\n 0.0035474631004035473,\n 0.013661917299032211,\n -0.030542949214577675,\n 0.006985476240515709,\n -0.0021777302026748657,\n 0.006538019515573978,\n 0.022726941853761673,\n -0.021336283534765244,\n -0.02452964521944523,\n -0.0032545237336307764,\n 0.013597534969449043,\n 0.006760138552635908,\n 0.026255089789628983,\n 4.2326311813667417e-05,\n 0.015567632392048836,\n 0.02196723036468029,\n -0.01640460267663002,\n 0.0019958503544330597,\n -0.003975605126470327,\n 0.0048157935962080956,\n 0.008479145355522633,\n -0.022881459444761276,\n 0.005797623191028833,\n 0.006113096605986357,\n -0.012000855058431625,\n -0.025688525289297104,\n -0.02716931700706482,\n 0.013365759514272213,\n -0.020949991419911385,\n 0.005388795863837004,\n 0.012142496183514595,\n -0.01372629962861538,\n -0.012470846064388752,\n -0.009206664748489857,\n -0.00409149331972003,\n 0.009457755833864212,\n -0.001966878306120634,\n 0.0010470167035236955,\n 0.006959723308682442,\n 0.020563697442412376,\n 0.008910506032407284,\n 0.005214964039623737,\n -0.018954141065478325,\n 0.0007150456076487899,\n 0.008125042542815208,\n -0.015966802835464478,\n -0.0370069295167923,\n -0.016250085085630417,\n 0.0355905182659626,\n -0.018735241144895554,\n 0.017357459291815758,\n -0.003586092498153448,\n -0.016893908381462097,\n -0.036388859152793884,\n -0.0016626721480861306,\n -0.0019684878643602133,\n -0.03224264085292816,\n -0.0063706254586577415,\n 0.022623930126428604,\n -0.0003740207466762513,\n -0.004812574479728937,\n 0.013867940753698349,\n 0.018065664917230606,\n -0.0008933040080592036,\n -0.004361898638308048,\n 0.0023918012157082558,\n 0.0016264570876955986,\n -0.005140924360603094,\n -0.021774083375930786,\n 0.01464052777737379,\n -0.024915939196944237,\n -0.001696472754701972,\n 0.17790108919143677,\n -0.015593385323882103,\n 0.0028585728723555803,\n 0.027143564075231552,\n -0.010288286954164505,\n 0.0026332347188144922,\n 0.006122753955423832,\n -0.0034766425378620625,\n 0.00631268136203289,\n -0.004429500084370375,\n 0.031367041170597076,\n -0.004410185385495424,\n -0.020769720897078514,\n -0.0038210877683013678,\n -0.0008788179839029908,\n 0.011936472728848457,\n -0.041745465248823166,\n -0.008421201258897781,\n -0.004310392774641514,\n -0.042415037751197815,\n -0.009650901891291142,\n -0.004246010910719633,\n -0.0033768501598387957,\n 0.0011556617682799697,\n 0.0370069295167923,\n -0.004487444180995226,\n -0.0009343476849608123,\n 0.020782597362995148,\n 0.05799555033445358,\n 0.019919874146580696,\n -0.013404388912022114,\n 0.009605834260582924,\n 0.003814649535343051,\n 0.036466117948293686,\n -0.007944772019982338,\n 0.0014180195285007358,\n 0.008659414947032928,\n -0.0033253442961722612,\n 0.00602618046104908,\n 0.019018523395061493,\n -0.023164739832282066,\n 0.020666709169745445,\n -0.03095499612390995,\n -0.022726941853761673,\n -0.0018300659721717238,\n -0.004690248519182205,\n ...]"
     },
     "execution_count": 18,
     "metadata": {},
     "output_type": "execute_result"
    }
   ],
   "source": [
    "reaction_nodes[0].embedding"
   ]
  },
  {
   "cell_type": "code",
   "execution_count": 19,
   "id": "2a9a312d-8197-429e-a766-55edcbcb56fc",
   "metadata": {
    "ExecuteTime": {
     "end_time": "2024-02-05T11:23:24.595332Z",
     "start_time": "2024-02-05T11:23:24.591204Z"
    }
   },
   "outputs": [],
   "source": [
    "reaction_retriever = index.as_retriever(similarity_top_k=2)"
   ]
  },
  {
   "cell_type": "code",
   "execution_count": 20,
   "id": "62d5f304-4e42-491d-a81e-c3a8c47e008f",
   "metadata": {
    "ExecuteTime": {
     "end_time": "2024-02-05T11:23:29.928577Z",
     "start_time": "2024-02-05T11:23:29.351202Z"
    }
   },
   "outputs": [
    {
     "name": "stderr",
     "output_type": "stream",
     "text": [
      "INFO:httpx:HTTP Request: POST https://api.openai.com/v1/embeddings \"HTTP/1.1 200 OK\"\n"
     ]
    },
    {
     "name": "stdout",
     "output_type": "stream",
     "text": [
      "['abdominal pain', 'abdominal symptom']\n"
     ]
    }
   ],
   "source": [
    "nodes = reaction_retriever.retrieve(\"abdominal\")\n",
    "print([n.get_content() for n in nodes])"
   ]
  },
  {
   "cell_type": "markdown",
   "id": "93cf6707-64f7-4e45-8998-fd5b5a767656",
   "metadata": {},
   "source": [
    "#### Define Infer Prompt\n",
    "\n",
    "We define an infer prompt that given a document and relevant task context, can generate a list of comma-separated predictions.\n",
    "\n",
    "**NOTE**: This is our own prompt and not taken from the paper."
   ]
  },
  {
   "cell_type": "code",
   "execution_count": 21,
   "id": "b94016bc-8af6-4714-b713-1662ec127c0d",
   "metadata": {
    "ExecuteTime": {
     "end_time": "2024-02-05T11:25:28.986791Z",
     "start_time": "2024-02-05T11:25:28.980952Z"
    }
   },
   "outputs": [],
   "source": [
    "infer_prompt_str = \"\"\"\\\n",
    "\n",
    "Your job is to output a list of predictions given context from a given piece of text. The text context,\n",
    "and information regarding the set of valid predictions is given below. \n",
    "\n",
    "Return the predictions as a comma-separated list of strings.\n",
    "\n",
    "Text Context:\n",
    "{doc_context}\n",
    "\n",
    "Prediction Info:\n",
    "{pred_context}\n",
    "\n",
    "Predictions: \"\"\"\n",
    "\n",
    "infer_prompt = PromptTemplate(infer_prompt_str)"
   ]
  },
  {
   "cell_type": "markdown",
   "id": "1650e3d2-1cc7-4c05-bb6c-d0accf28b4f5",
   "metadata": {},
   "source": [
    "#### Define Output Parser\n",
    "\n",
    "We define a very simple output parser that can parse an output into a list of strings."
   ]
  },
  {
   "cell_type": "code",
   "execution_count": 22,
   "id": "3589b9e6-cfb5-4c60-800d-923ea042bf98",
   "metadata": {
    "ExecuteTime": {
     "end_time": "2024-02-05T11:25:37.338087Z",
     "start_time": "2024-02-05T11:25:37.321370Z"
    }
   },
   "outputs": [],
   "source": [
    "class PredsOutputParser(ChainableOutputParser):\n",
    "    \"\"\"Predictions output parser.\"\"\"\n",
    "\n",
    "    def parse(self, output: str) -> List[str]:\n",
    "        \"\"\"Parse predictions.\"\"\"\n",
    "        tokens = output.split(\",\")\n",
    "        return [t.strip() for t in tokens]\n",
    "\n",
    "\n",
    "preds_output_parser = PredsOutputParser()"
   ]
  },
  {
   "cell_type": "markdown",
   "id": "b634b8dc-8780-45c6-bf21-0b1febdb5e0f",
   "metadata": {},
   "source": [
    "#### Define Rerank Prompt\n",
    "\n",
    "Here we define a rerank prompt that will reorder a batch of labels based on their relevance to the query."
   ]
  },
  {
   "cell_type": "code",
   "execution_count": 23,
   "id": "3b29811f-356e-433d-a159-ebc711d5f5bc",
   "metadata": {
    "ExecuteTime": {
     "end_time": "2024-02-05T11:26:39.646687Z",
     "start_time": "2024-02-05T11:26:39.641103Z"
    }
   },
   "outputs": [],
   "source": [
    "rerank_str = \"\"\"\\\n",
    "Given a piece of text, rank the {num} labels above based on their relevance \\\n",
    "to this piece of text. The labels \\\n",
    "should be listed in descending order using identifiers. \\\n",
    "The most relevant labels should be listed first. \\\n",
    "The output format should be [] > [], e.g., [1] > [2]. \\\n",
    "Only response the ranking results, \\\n",
    "do not say any word or explain. \\\n",
    "\n",
    "Here is a given piece of text: {query}. \n",
    "\n",
    "\"\"\"\n",
    "rerank_prompt = PromptTemplate(rerank_str)"
   ]
  },
  {
   "cell_type": "markdown",
   "id": "4bd6f9ee-91cd-4b38-89b0-df2a72f007af",
   "metadata": {},
   "source": [
    "#### Define Infer-Retrieve-Rerank Function\n",
    "\n",
    "We define the infer-retrieve-rerank steps as a function."
   ]
  },
  {
   "cell_type": "code",
   "execution_count": 24,
   "id": "b4c9a4ce-28d8-4bc1-a4f6-335328c7c596",
   "metadata": {
    "ExecuteTime": {
     "end_time": "2024-02-05T11:28:36.639057Z",
     "start_time": "2024-02-05T11:28:36.635132Z"
    }
   },
   "outputs": [],
   "source": [
    "def infer_retrieve_rerank(\n",
    "    query: str,\n",
    "    retriever: BaseRetriever,\n",
    "    llm: LLM,\n",
    "    pred_context: str,\n",
    "    reranker_top_n: int = 3,\n",
    "):\n",
    "    \"\"\"Infer retrieve rerank.\"\"\"\n",
    "    infer_prompt_c = infer_prompt.as_query_component(\n",
    "        partial={\"pred_context\": pred_context}\n",
    "    )\n",
    "    infer_pipeline = QueryPipeline(chain=[infer_prompt_c, llm, preds_output_parser])\n",
    "    preds = infer_pipeline.run(query)\n",
    "\n",
    "    print(f\"PREDS: {preds}\")\n",
    "    all_nodes = []\n",
    "    for pred in preds:\n",
    "        nodes = retriever.retrieve(str(pred))\n",
    "        all_nodes.extend(nodes)\n",
    "\n",
    "    reranker = RankGPTRerank(\n",
    "        llm=llm,\n",
    "        top_n=reranker_top_n,\n",
    "        rankgpt_rerank_prompt=rerank_prompt,\n",
    "        # verbose=True,\n",
    "    )\n",
    "    reranked_nodes = reranker.postprocess_nodes(all_nodes, query_str=query)\n",
    "    return [n.get_content() for n in reranked_nodes]"
   ]
  },
  {
   "cell_type": "markdown",
   "id": "09ea0639-b929-4754-a836-6199e36b970d",
   "metadata": {},
   "source": [
    "## Run Over Sample Data\n",
    "\n",
    "Now we're ready to run over some sample data! "
   ]
  },
  {
   "cell_type": "code",
   "execution_count": 25,
   "id": "35269968-d98a-4e77-a320-536f146e58ee",
   "metadata": {
    "ExecuteTime": {
     "end_time": "2024-02-05T11:28:47.099499Z",
     "start_time": "2024-02-05T11:28:47.094181Z"
    }
   },
   "outputs": [],
   "source": [
    "samples = get_samples(dataset, sample_size=5)"
   ]
  },
  {
   "cell_type": "code",
   "execution_count": 34,
   "id": "1e7498f3-6adc-4200-8b12-76cd7939cc58",
   "metadata": {},
   "outputs": [
    {
     "name": "stdout",
     "output_type": "stream",
     "text": [
      "0\n",
      "PREDS: ['fluid overload', 'acute respiratory distress syndrome', 'anxiety', 'myocardial insufficiency', 'hypervolemia', 'hypovolemia', 'respiratory distress', 'allergic reaction', 'diarrhea', 'rash']\n",
      "1\n",
      "PREDS: ['fever', 'dizziness', 'dyspnea on exertion', 'intermittent chest pain', 'palpitations']\n",
      "2\n",
      "PREDS: ['azathioprine-induced myelotoxicity', 'drug-induced agranulocytosis']\n",
      "3\n",
      "PREDS: ['There is no information provided about adverse drug reactions in the given text context. Therefore', 'it is not possible to make any predictions about adverse drug reactions.']\n",
      "4\n",
      "PREDS: ['painful swelling in lymph nodes', 'weight loss', 'night sweats', 'hepatosplenomegaly', 'generalized lymphadenopathy', 'skin disorders', 'bone marrow disorders', 'blood disorders', 'misorientation of body segments', 'excessive backward pelvic tilt', 'excessive kyphosis', 's-shaped scoliosis', 'excessive pelvic obliquity', 'flat right foot contact', 'limited ankle dorsiflexion', 'toe walking', 'muscle weakness', 'limited mobility', 'misalignment of body segments', 'gait disturbances', 'peripheral neuropathy', 'myopathy', 'atrophy in gastrocnemius muscle', 'compensatory strategy', 'contractures', 'body posture correction', 'gait pattern improvement.']\n"
     ]
    }
   ],
   "source": [
    "reaction_retriever = index.as_retriever(similarity_top_k=2)\n",
    "llm = OpenAI(model=\"gpt-3.5-turbo-0125\")\n",
    "pred_context = \"\"\"\\\n",
    "The output predictions should be a list of comma-separated adverse \\\n",
    "drug reactions. \\\n",
    "\"\"\"\n",
    "\n",
    "reranker_top_n = 10\n",
    "\n",
    "pred_reactions = []\n",
    "gt_reactions = []\n",
    "for idx, sample in enumerate(samples):\n",
    "    print(idx)\n",
    "    cur_pred_reactions = infer_retrieve_rerank(\n",
    "        sample[\"text\"],\n",
    "        reaction_retriever,\n",
    "        llm,\n",
    "        pred_context,\n",
    "        reranker_top_n=reranker_top_n,\n",
    "    )\n",
    "    cur_gt_reactions = sample[\"reactions\"]\n",
    "\n",
    "    pred_reactions.append(cur_pred_reactions)\n",
    "    gt_reactions.append(cur_gt_reactions)"
   ]
  },
  {
   "cell_type": "code",
   "execution_count": 37,
   "id": "4717069f-19d0-43aa-afeb-e0cb17cb1d79",
   "metadata": {},
   "outputs": [
    {
     "data": {
      "text/plain": [
       "['agranulocytosis',\n",
       " 'haematotoxicity',\n",
       " 'bone marrow toxicity',\n",
       " 'infantile genetic agranulocytosis']"
      ]
     },
     "execution_count": 37,
     "metadata": {},
     "output_type": "execute_result"
    }
   ],
   "source": [
    "pred_reactions[2]"
   ]
  },
  {
   "cell_type": "code",
   "execution_count": 38,
   "id": "5223f8e2-c08b-459d-9ded-b25b90899616",
   "metadata": {},
   "outputs": [
    {
     "data": {
      "text/plain": [
       "['bone marrow toxicity',\n",
       " 'cytomegalovirus infection',\n",
       " 'cytomegalovirus mucocutaneous ulcer',\n",
       " 'febrile neutropenia',\n",
       " 'leukoplakia',\n",
       " 'odynophagia',\n",
       " 'oropharyngeal candidiasis',\n",
       " 'pancytopenia',\n",
       " 'product use issue',\n",
       " 'red blood cell poikilocytes present',\n",
       " 'vitamin d deficiency']"
      ]
     },
     "execution_count": 38,
     "metadata": {},
     "output_type": "execute_result"
    }
   ],
   "source": [
    "gt_reactions[2]"
   ]
  },
  {
   "cell_type": "code",
   "execution_count": null,
   "id": "349f9219-628e-4a1d-acc3-92adfc19aee8",
   "metadata": {},
   "outputs": [],
   "source": []
  }
 ],
 "metadata": {
  "kernelspec": {
   "name": "python3",
   "language": "python",
   "display_name": "Python 3 (ipykernel)"
  },
  "language_info": {
   "codemirror_mode": {
    "name": "ipython",
    "version": 3
   },
   "file_extension": ".py",
   "mimetype": "text/x-python",
   "name": "python",
   "nbconvert_exporter": "python",
   "pygments_lexer": "ipython3",
   "version": "3.10.8"
  }
 },
 "nbformat": 4,
 "nbformat_minor": 5
}
