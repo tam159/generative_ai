{
 "cells": [
  {
   "cell_type": "code",
   "id": "initial_id",
   "metadata": {
    "collapsed": true,
    "ExecuteTime": {
     "end_time": "2024-10-23T06:46:57.445945Z",
     "start_time": "2024-10-23T06:46:57.443606Z"
    }
   },
   "source": [
    "import logging\n",
    "from dotenv import load_dotenv\n",
    "\n",
    "from langchain_core.output_parsers import StrOutputParser\n",
    "from langchain_aws import ChatBedrock\n",
    "from langchain_aws import ChatBedrockConverse"
   ],
   "outputs": [],
   "execution_count": 10
  },
  {
   "metadata": {
    "ExecuteTime": {
     "end_time": "2024-10-23T06:46:30.767478Z",
     "start_time": "2024-10-23T06:46:30.755697Z"
    }
   },
   "cell_type": "code",
   "source": [
    "logging.basicConfig(level=logging.INFO)\n",
    "log = logging.getLogger(__name__)\n",
    "\n",
    "load_dotenv()"
   ],
   "id": "ae5b14ac29e4271e",
   "outputs": [
    {
     "data": {
      "text/plain": [
       "True"
      ]
     },
     "execution_count": 2,
     "metadata": {},
     "output_type": "execute_result"
    }
   ],
   "execution_count": 2
  },
  {
   "metadata": {
    "ExecuteTime": {
     "end_time": "2024-10-23T06:46:35.616230Z",
     "start_time": "2024-10-23T06:46:35.389341Z"
    }
   },
   "cell_type": "code",
   "source": [
    "llm = ChatBedrock(\n",
    "    model_id=\"anthropic.claude-3-5-sonnet-20240620-v1:0\",\n",
    "    model_kwargs=dict(temperature=0),\n",
    "    # region_name=\"ap-northeast-1\",\n",
    ")"
   ],
   "id": "c3b37b082ee793",
   "outputs": [],
   "execution_count": 3
  },
  {
   "metadata": {
    "ExecuteTime": {
     "end_time": "2024-10-23T06:46:36.528466Z",
     "start_time": "2024-10-23T06:46:36.524633Z"
    }
   },
   "cell_type": "code",
   "source": [
    "messages = [\n",
    "    (\n",
    "        \"system\",\n",
    "        \"You are a helpful assistant that translates English to Vietnamese. Translate the user sentence.\",\n",
    "    ),\n",
    "    (\"human\", \"I love programming.\"),\n",
    "]"
   ],
   "id": "56c78512356e53b3",
   "outputs": [],
   "execution_count": 4
  },
  {
   "metadata": {
    "ExecuteTime": {
     "end_time": "2024-10-23T06:46:38.497875Z",
     "start_time": "2024-10-23T06:46:37.327076Z"
    }
   },
   "cell_type": "code",
   "source": [
    "ai_msg = llm.invoke(messages)\n",
    "ai_msg"
   ],
   "id": "8db9e35b5d580761",
   "outputs": [
    {
     "data": {
      "text/plain": [
       "AIMessage(content='Tôi yêu lập trình.', additional_kwargs={'usage': {'prompt_tokens': 29, 'completion_tokens': 14, 'total_tokens': 43}, 'stop_reason': 'end_turn', 'model_id': 'anthropic.claude-3-5-sonnet-20240620-v1:0'}, response_metadata={'usage': {'prompt_tokens': 29, 'completion_tokens': 14, 'total_tokens': 43}, 'stop_reason': 'end_turn', 'model_id': 'anthropic.claude-3-5-sonnet-20240620-v1:0'}, id='run-b1acd179-ed08-4f95-8de3-a8f923e117b4-0', usage_metadata={'input_tokens': 29, 'output_tokens': 14, 'total_tokens': 43})"
      ]
     },
     "execution_count": 5,
     "metadata": {},
     "output_type": "execute_result"
    }
   ],
   "execution_count": 5
  },
  {
   "metadata": {
    "ExecuteTime": {
     "end_time": "2024-10-23T06:46:42.970865Z",
     "start_time": "2024-10-23T06:46:42.922403Z"
    }
   },
   "cell_type": "code",
   "source": [
    "llm = ChatBedrockConverse(\n",
    "    model=\"anthropic.claude-3-5-sonnet-20240620-v1:0\",\n",
    "    temperature=0,\n",
    "    max_tokens=None,\n",
    "    # region_name=\"ap-northeast-1\",\n",
    ")"
   ],
   "id": "213f2af248033453",
   "outputs": [],
   "execution_count": 6
  },
  {
   "metadata": {
    "ExecuteTime": {
     "end_time": "2024-10-23T06:46:46.013071Z",
     "start_time": "2024-10-23T06:46:44.957640Z"
    }
   },
   "cell_type": "code",
   "source": "llm.invoke(messages)",
   "id": "e368f7c4955a2225",
   "outputs": [
    {
     "data": {
      "text/plain": [
       "AIMessage(content='Tôi yêu lập trình.', additional_kwargs={}, response_metadata={'ResponseMetadata': {'RequestId': 'bb8dd0ff-df0b-4de8-b048-bfbcdef808e4', 'HTTPStatusCode': 200, 'HTTPHeaders': {'date': 'Wed, 23 Oct 2024 06:46:46 GMT', 'content-type': 'application/json', 'content-length': '204', 'connection': 'keep-alive', 'x-amzn-requestid': 'bb8dd0ff-df0b-4de8-b048-bfbcdef808e4'}, 'RetryAttempts': 0}, 'stopReason': 'end_turn', 'metrics': {'latencyMs': 719}}, id='run-71a9b899-24fe-444d-83d9-7e88c32d3a47-0', usage_metadata={'input_tokens': 29, 'output_tokens': 14, 'total_tokens': 43})"
      ]
     },
     "execution_count": 7,
     "metadata": {},
     "output_type": "execute_result"
    }
   ],
   "execution_count": 7
  },
  {
   "metadata": {
    "ExecuteTime": {
     "end_time": "2024-10-23T06:46:47.908663Z",
     "start_time": "2024-10-23T06:46:47.111340Z"
    }
   },
   "cell_type": "code",
   "source": [
    "for chunk in llm.stream(messages):\n",
    "    print(chunk)"
   ],
   "id": "78c420a63a17bb89",
   "outputs": [
    {
     "name": "stdout",
     "output_type": "stream",
     "text": [
      "content=[] additional_kwargs={} response_metadata={} id='run-060a0c0f-8430-4354-bf13-83357c8bccb7'\n",
      "content=[{'type': 'text', 'text': 'T', 'index': 0}] additional_kwargs={} response_metadata={} id='run-060a0c0f-8430-4354-bf13-83357c8bccb7'\n",
      "content=[{'type': 'text', 'text': 'ôi y', 'index': 0}] additional_kwargs={} response_metadata={} id='run-060a0c0f-8430-4354-bf13-83357c8bccb7'\n",
      "content=[{'type': 'text', 'text': 'êu l', 'index': 0}] additional_kwargs={} response_metadata={} id='run-060a0c0f-8430-4354-bf13-83357c8bccb7'\n",
      "content=[{'type': 'text', 'text': 'ập trình.', 'index': 0}] additional_kwargs={} response_metadata={} id='run-060a0c0f-8430-4354-bf13-83357c8bccb7'\n",
      "content=[{'index': 0}] additional_kwargs={} response_metadata={} id='run-060a0c0f-8430-4354-bf13-83357c8bccb7'\n",
      "content=[] additional_kwargs={} response_metadata={'stopReason': 'end_turn'} id='run-060a0c0f-8430-4354-bf13-83357c8bccb7'\n",
      "content=[] additional_kwargs={} response_metadata={'metrics': {'latencyMs': 687}} id='run-060a0c0f-8430-4354-bf13-83357c8bccb7' usage_metadata={'input_tokens': 29, 'output_tokens': 14, 'total_tokens': 43}\n"
     ]
    }
   ],
   "execution_count": 8
  },
  {
   "metadata": {
    "ExecuteTime": {
     "end_time": "2024-10-23T06:46:51.145216Z",
     "start_time": "2024-10-23T06:46:50.371349Z"
    }
   },
   "cell_type": "code",
   "source": [
    "chain = llm | StrOutputParser()\n",
    "\n",
    "for chunk in chain.stream(messages):\n",
    "    print(chunk, end=\"|\")"
   ],
   "id": "7eb90705e1b3f9c3",
   "outputs": [
    {
     "name": "stdout",
     "output_type": "stream",
     "text": [
      "|T|ôi y|êu l|ập trình.||||"
     ]
    }
   ],
   "execution_count": 9
  },
  {
   "metadata": {},
   "cell_type": "code",
   "outputs": [],
   "execution_count": null,
   "source": "",
   "id": "88aa3924094384f0"
  }
 ],
 "metadata": {
  "kernelspec": {
   "display_name": "Python 3",
   "language": "python",
   "name": "python3"
  },
  "language_info": {
   "codemirror_mode": {
    "name": "ipython",
    "version": 2
   },
   "file_extension": ".py",
   "mimetype": "text/x-python",
   "name": "python",
   "nbconvert_exporter": "python",
   "pygments_lexer": "ipython2",
   "version": "2.7.6"
  }
 },
 "nbformat": 4,
 "nbformat_minor": 5
}
