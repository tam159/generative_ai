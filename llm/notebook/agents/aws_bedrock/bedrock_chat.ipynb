{
 "cells": [
  {
   "cell_type": "code",
   "id": "initial_id",
   "metadata": {
    "collapsed": true,
    "ExecuteTime": {
     "end_time": "2025-01-09T03:03:00.475808Z",
     "start_time": "2025-01-09T03:02:59.511851Z"
    }
   },
   "source": [
    "import logging\n",
    "from dotenv import load_dotenv\n",
    "\n",
    "from langchain_core.output_parsers import StrOutputParser\n",
    "from langchain_aws import ChatBedrock\n",
    "from langchain_aws import ChatBedrockConverse"
   ],
   "outputs": [],
   "execution_count": 1
  },
  {
   "metadata": {
    "ExecuteTime": {
     "end_time": "2025-01-09T03:03:03.260920Z",
     "start_time": "2025-01-09T03:03:03.249380Z"
    }
   },
   "cell_type": "code",
   "source": [
    "logging.basicConfig(level=logging.INFO)\n",
    "log = logging.getLogger(__name__)\n",
    "\n",
    "load_dotenv()"
   ],
   "id": "ae5b14ac29e4271e",
   "outputs": [
    {
     "data": {
      "text/plain": [
       "True"
      ]
     },
     "execution_count": 2,
     "metadata": {},
     "output_type": "execute_result"
    }
   ],
   "execution_count": 2
  },
  {
   "metadata": {
    "ExecuteTime": {
     "end_time": "2025-01-09T03:03:05.198481Z",
     "start_time": "2025-01-09T03:03:05.124Z"
    }
   },
   "cell_type": "code",
   "source": [
    "llm = ChatBedrock(\n",
    "    model_id=\"anthropic.claude-3-5-sonnet-20240620-v1:0\",\n",
    "    model_kwargs=dict(temperature=0),\n",
    "    # region_name=\"ap-northeast-1\",\n",
    ")"
   ],
   "id": "c3b37b082ee793",
   "outputs": [],
   "execution_count": 3
  },
  {
   "metadata": {
    "ExecuteTime": {
     "end_time": "2025-01-09T03:03:10.525737Z",
     "start_time": "2025-01-09T03:03:10.522387Z"
    }
   },
   "cell_type": "code",
   "source": [
    "messages = [\n",
    "    (\n",
    "        \"system\",\n",
    "        \"You are a helpful assistant that translates English to Vietnamese. Translate the user sentence.\",\n",
    "    ),\n",
    "    (\"human\", \"I love programming.\"),\n",
    "]"
   ],
   "id": "56c78512356e53b3",
   "outputs": [],
   "execution_count": 4
  },
  {
   "metadata": {
    "ExecuteTime": {
     "end_time": "2025-01-09T03:03:16.894705Z",
     "start_time": "2025-01-09T03:03:15.687415Z"
    }
   },
   "cell_type": "code",
   "source": [
    "ai_msg = llm.invoke(messages)\n",
    "ai_msg"
   ],
   "id": "8db9e35b5d580761",
   "outputs": [
    {
     "data": {
      "text/plain": [
       "AIMessage(content='Tôi yêu lập trình.', additional_kwargs={'usage': {'prompt_tokens': 29, 'completion_tokens': 15, 'total_tokens': 44}, 'stop_reason': 'end_turn', 'model_id': 'anthropic.claude-3-5-sonnet-20240620-v1:0'}, response_metadata={'usage': {'prompt_tokens': 29, 'completion_tokens': 15, 'total_tokens': 44}, 'stop_reason': 'end_turn', 'model_id': 'anthropic.claude-3-5-sonnet-20240620-v1:0'}, id='run-7188a6e5-5cd6-4958-b488-a1afd794f869-0', usage_metadata={'input_tokens': 29, 'output_tokens': 15, 'total_tokens': 44})"
      ]
     },
     "execution_count": 5,
     "metadata": {},
     "output_type": "execute_result"
    }
   ],
   "execution_count": 5
  },
  {
   "metadata": {
    "ExecuteTime": {
     "end_time": "2025-01-09T03:03:20.643412Z",
     "start_time": "2025-01-09T03:03:20.584782Z"
    }
   },
   "cell_type": "code",
   "source": [
    "llm = ChatBedrockConverse(\n",
    "    model=\"anthropic.claude-3-5-sonnet-20240620-v1:0\",\n",
    "    temperature=0,\n",
    "    max_tokens=None,\n",
    "    # region_name=\"ap-northeast-1\",\n",
    ")"
   ],
   "id": "213f2af248033453",
   "outputs": [],
   "execution_count": 6
  },
  {
   "metadata": {
    "ExecuteTime": {
     "end_time": "2025-01-09T03:03:27.901848Z",
     "start_time": "2025-01-09T03:03:26.962930Z"
    }
   },
   "cell_type": "code",
   "source": "llm.invoke(messages)",
   "id": "e368f7c4955a2225",
   "outputs": [
    {
     "data": {
      "text/plain": [
       "AIMessage(content='Tôi yêu lập trình.', additional_kwargs={}, response_metadata={'ResponseMetadata': {'RequestId': 'c468dd5a-21a4-4ce7-a575-19811ed359fa', 'HTTPStatusCode': 200, 'HTTPHeaders': {'date': 'Thu, 09 Jan 2025 03:03:27 GMT', 'content-type': 'application/json', 'content-length': '204', 'connection': 'keep-alive', 'x-amzn-requestid': 'c468dd5a-21a4-4ce7-a575-19811ed359fa'}, 'RetryAttempts': 0}, 'stopReason': 'end_turn', 'metrics': {'latencyMs': [612]}}, id='run-afa32e4e-8668-4d91-a0ac-cb4f6d80034b-0', usage_metadata={'input_tokens': 29, 'output_tokens': 15, 'total_tokens': 44})"
      ]
     },
     "execution_count": 7,
     "metadata": {},
     "output_type": "execute_result"
    }
   ],
   "execution_count": 7
  },
  {
   "metadata": {
    "ExecuteTime": {
     "end_time": "2025-01-09T03:03:29.331933Z",
     "start_time": "2025-01-09T03:03:28.571465Z"
    }
   },
   "cell_type": "code",
   "source": [
    "for chunk in llm.stream(messages):\n",
    "    print(chunk)"
   ],
   "id": "78c420a63a17bb89",
   "outputs": [
    {
     "name": "stdout",
     "output_type": "stream",
     "text": [
      "content=[] additional_kwargs={} response_metadata={} id='run-b96fb86c-d7b6-4fd2-942d-ee6d8d5af231'\n",
      "content=[{'type': 'text', 'text': 'Tôi yêu l', 'index': 0}] additional_kwargs={} response_metadata={} id='run-b96fb86c-d7b6-4fd2-942d-ee6d8d5af231'\n",
      "content=[{'type': 'text', 'text': 'ập trình.', 'index': 0}] additional_kwargs={} response_metadata={} id='run-b96fb86c-d7b6-4fd2-942d-ee6d8d5af231'\n",
      "content=[{'index': 0}] additional_kwargs={} response_metadata={} id='run-b96fb86c-d7b6-4fd2-942d-ee6d8d5af231'\n",
      "content=[] additional_kwargs={} response_metadata={'stopReason': 'end_turn'} id='run-b96fb86c-d7b6-4fd2-942d-ee6d8d5af231'\n",
      "content=[] additional_kwargs={} response_metadata={'metrics': {'latencyMs': 649}} id='run-b96fb86c-d7b6-4fd2-942d-ee6d8d5af231' usage_metadata={'input_tokens': 29, 'output_tokens': 15, 'total_tokens': 44}\n"
     ]
    }
   ],
   "execution_count": 8
  },
  {
   "metadata": {
    "ExecuteTime": {
     "end_time": "2025-01-09T03:03:37.837309Z",
     "start_time": "2025-01-09T03:03:37.082298Z"
    }
   },
   "cell_type": "code",
   "source": [
    "chain = llm | StrOutputParser()\n",
    "\n",
    "for chunk in chain.stream(messages):\n",
    "    print(chunk, end=\"|\")"
   ],
   "id": "7eb90705e1b3f9c3",
   "outputs": [
    {
     "name": "stdout",
     "output_type": "stream",
     "text": [
      "|Tôi y|êu lập trình.||||"
     ]
    }
   ],
   "execution_count": 9
  },
  {
   "metadata": {},
   "cell_type": "code",
   "outputs": [],
   "execution_count": null,
   "source": "",
   "id": "88aa3924094384f0"
  }
 ],
 "metadata": {
  "kernelspec": {
   "display_name": "Python 3",
   "language": "python",
   "name": "python3"
  },
  "language_info": {
   "codemirror_mode": {
    "name": "ipython",
    "version": 2
   },
   "file_extension": ".py",
   "mimetype": "text/x-python",
   "name": "python",
   "nbconvert_exporter": "python",
   "pygments_lexer": "ipython2",
   "version": "2.7.6"
  }
 },
 "nbformat": 4,
 "nbformat_minor": 5
}
