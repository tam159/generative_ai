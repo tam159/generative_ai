{
 "cells": [
  {
   "metadata": {
    "ExecuteTime": {
     "end_time": "2024-04-13T04:51:49.358027Z",
     "start_time": "2024-04-13T04:51:48.974244Z"
    }
   },
   "cell_type": "code",
   "source": [
    "import logging\n",
    "from pprint import pprint\n",
    "\n",
    "from dotenv import load_dotenv\n",
    "from langchain.agents import AgentExecutor, create_tool_calling_agent\n",
    "from langchain_community.tools.tavily_search import TavilySearchResults\n",
    "from langchain_core.prompts import ChatPromptTemplate\n",
    "from langchain_google_vertexai import ChatVertexAI\n",
    "from langchain_openai import ChatOpenAI\n",
    "from vertexai.generative_models import GenerativeModel"
   ],
   "id": "e95f083e6950e187",
   "outputs": [],
   "execution_count": 102
  },
  {
   "metadata": {
    "ExecuteTime": {
     "end_time": "2024-04-13T04:38:44.309909Z",
     "start_time": "2024-04-13T04:38:44.306054Z"
    }
   },
   "cell_type": "code",
   "source": [
    "logging.basicConfig(level=logging.INFO)\n",
    "log = logging.getLogger(__name__)\n",
    "\n",
    "load_dotenv()"
   ],
   "id": "21b5bc5e56b34584",
   "outputs": [
    {
     "data": {
      "text/plain": [
       "True"
      ]
     },
     "execution_count": 2,
     "metadata": {},
     "output_type": "execute_result"
    }
   ],
   "execution_count": 2
  },
  {
   "metadata": {},
   "cell_type": "markdown",
   "source": "# Vetex AI",
   "id": "84757c0eef8adbd1"
  },
  {
   "metadata": {
    "ExecuteTime": {
     "end_time": "2024-04-13T04:38:46.031794Z",
     "start_time": "2024-04-13T04:38:45.644930Z"
    }
   },
   "cell_type": "code",
   "source": [
    "# model = GenerativeModel(\"gemini-1.0-pro\")\n",
    "model = GenerativeModel(\"gemini-1.5-pro-preview-0409\")"
   ],
   "id": "345476d83b7d3266",
   "outputs": [],
   "execution_count": 3
  },
  {
   "metadata": {
    "ExecuteTime": {
     "end_time": "2024-04-13T04:38:51.565084Z",
     "start_time": "2024-04-13T04:38:46.096585Z"
    }
   },
   "cell_type": "code",
   "source": [
    "responses = model.generate_content(\"Why is the sky blue?\", stream=True)\n",
    "\n",
    "for response in responses:\n",
    "    print(response.text, end=\"\")"
   ],
   "id": "7bef25f7aeca66b3",
   "outputs": [
    {
     "name": "stdout",
     "output_type": "stream",
     "text": [
      "The sky appears blue due to a phenomenon called Rayleigh scattering. Sunlight reaches Earth's atmosphere and is scattered in all directions by the gases and particles in the air. Blue light is scattered more than other colors because it travels as shorter, smaller waves. This is why we see a blue sky most of the time. \n"
     ]
    }
   ],
   "execution_count": 4
  },
  {
   "metadata": {},
   "cell_type": "markdown",
   "source": "# Langchain",
   "id": "4f5294d54d1171e4"
  },
  {
   "metadata": {},
   "cell_type": "markdown",
   "source": "## OpenAI",
   "id": "ceab7a69d4bbf5b1"
  },
  {
   "metadata": {
    "ExecuteTime": {
     "end_time": "2024-04-13T04:52:20.096635Z",
     "start_time": "2024-04-13T04:52:20.064906Z"
    }
   },
   "cell_type": "code",
   "source": [
    "openai_llm = ChatOpenAI(model=\"gpt-4-turbo-preview\")"
   ],
   "id": "8c78f3a9ccfba23",
   "outputs": [],
   "execution_count": 103
  },
  {
   "metadata": {
    "ExecuteTime": {
     "end_time": "2024-04-13T04:52:38.640516Z",
     "start_time": "2024-04-13T04:52:31.338009Z"
    }
   },
   "cell_type": "code",
   "source": [
    "openai_llm.invoke(input=\"Why is the sky blue?\")"
   ],
   "id": "8a4720f7a35fc95",
   "outputs": [
    {
     "name": "stderr",
     "output_type": "stream",
     "text": [
      "INFO:httpx:HTTP Request: POST https://api.openai.com/v1/chat/completions \"HTTP/1.1 200 OK\"\n"
     ]
    },
    {
     "data": {
      "text/plain": [
       "AIMessage(content=\"The sky appears blue to the human eye because of a phenomenon called Rayleigh scattering. This scattering occurs when sunlight enters the Earth's atmosphere and interacts with air molecules, water droplets, and tiny particles. Sunlight, or white light, is made up of a spectrum of colors that can be seen in a rainbow. Each color has a different wavelength, with blue light having shorter, smaller waves.\\n\\nWhen sunlight encounters the molecules and particles in the Earth's atmosphere, the shorter wavelengths of light (blue and violet) are scattered in all directions by these molecules and particles more than the other colors in the spectrum. While violet light is also scattered, our eyes are more sensitive to blue light, and the upper atmosphere absorbs violet light, making the sky appear predominantly blue to us.\\n\\nThe scattering of shorter wavelengths of light more than the longer wavelengths (like red and orange) is due to the sizes of the atmospheric particles being closer to the wavelength of blue light. This selective scattering of light by particle size is why the sky is blue during the day when the sun is high in the sky.\\n\\nAt sunrise and sunset, the sky can appear red or orange because the sun's light is passing through a thicker layer of the atmosphere, scattering out even more of the shorter wavelengths and allowing the longer wavelengths (reds and oranges) to reach our eyes.\", response_metadata={'token_usage': {'completion_tokens': 267, 'prompt_tokens': 13, 'total_tokens': 280}, 'model_name': 'gpt-4-turbo-preview', 'system_fingerprint': 'fp_122114e45f', 'finish_reason': 'stop', 'logprobs': None}, id='run-d0a72321-477e-41e4-bf81-c21b01ebc0b7-0')"
      ]
     },
     "execution_count": 104,
     "metadata": {},
     "output_type": "execute_result"
    }
   ],
   "execution_count": 104
  },
  {
   "metadata": {},
   "cell_type": "markdown",
   "source": "## Gemini",
   "id": "81a7ffe663cfa6de"
  },
  {
   "metadata": {
    "ExecuteTime": {
     "end_time": "2024-04-13T04:53:17.426834Z",
     "start_time": "2024-04-13T04:53:17.423035Z"
    }
   },
   "cell_type": "code",
   "source": [
    "# llm = ChatVertexAI(model=\"gemini-1.0-pro\")\n",
    "# llm = ChatVertexAI(model=\"gemini-1.0-pro-001\")\n",
    "# llm = ChatVertexAI(model=\"gemini-1.0-pro-002\")\n",
    "llm = ChatVertexAI(model=\"gemini-1.5-pro-preview-0409\")"
   ],
   "id": "f86f8655422c310f",
   "outputs": [],
   "execution_count": 105
  },
  {
   "metadata": {
    "ExecuteTime": {
     "end_time": "2024-04-13T04:45:31.222370Z",
     "start_time": "2024-04-13T04:45:27.773779Z"
    }
   },
   "cell_type": "code",
   "source": [
    "response = llm.invoke(input=\"Why is the sky blue?\")\n",
    "response"
   ],
   "id": "26ddfb6160a23d2d",
   "outputs": [
    {
     "data": {
      "text/plain": [
       "AIMessage(content=\"The sky appears blue due to a phenomenon called Rayleigh scattering. Sunlight reaches Earth's atmosphere and is scattered in all directions by the gases and particles in the air. Blue light is scattered more than other colors because it travels as shorter, smaller waves. This is why we see a blue sky most of the time. \\n\", response_metadata={'is_blocked': False, 'safety_ratings': [{'category': 'HARM_CATEGORY_HATE_SPEECH', 'probability_label': 'NEGLIGIBLE', 'blocked': False}, {'category': 'HARM_CATEGORY_DANGEROUS_CONTENT', 'probability_label': 'NEGLIGIBLE', 'blocked': False}, {'category': 'HARM_CATEGORY_HARASSMENT', 'probability_label': 'NEGLIGIBLE', 'blocked': False}, {'category': 'HARM_CATEGORY_SEXUALLY_EXPLICIT', 'probability_label': 'NEGLIGIBLE', 'blocked': False}], 'citation_metadata': {'citations': [{'start_index': 69, 'end_index': 213, 'uri': 'https://wordpress.digital4design.com/category/human-eye/', 'title': '', 'license_': ''}, {'start_index': 190, 'end_index': 315, 'uri': 'https://www.contentcustoms.com/2014/02/04/google-improving-onebox-answers/', 'title': '', 'license_': ''}]}, 'usage_metadata': {'prompt_token_count': 6, 'candidates_token_count': 65, 'total_token_count': 71}}, id='run-7df1b05e-0ac7-4262-a124-b3cf2dab25f6-0')"
      ]
     },
     "execution_count": 86,
     "metadata": {},
     "output_type": "execute_result"
    }
   ],
   "execution_count": 86
  },
  {
   "metadata": {
    "ExecuteTime": {
     "end_time": "2024-04-13T04:45:31.228562Z",
     "start_time": "2024-04-13T04:45:31.223848Z"
    }
   },
   "cell_type": "code",
   "source": [
    "pprint(response.dict())\n",
    "print(len(response.content))"
   ],
   "id": "ec1fe002ed2c6e26",
   "outputs": [
    {
     "name": "stdout",
     "output_type": "stream",
     "text": [
      "{'additional_kwargs': {},\n",
      " 'content': 'The sky appears blue due to a phenomenon called Rayleigh '\n",
      "            \"scattering. Sunlight reaches Earth's atmosphere and is scattered \"\n",
      "            'in all directions by the gases and particles in the air. Blue '\n",
      "            'light is scattered more than other colors because it travels as '\n",
      "            'shorter, smaller waves. This is why we see a blue sky most of the '\n",
      "            'time. \\n',\n",
      " 'example': False,\n",
      " 'id': 'run-7df1b05e-0ac7-4262-a124-b3cf2dab25f6-0',\n",
      " 'invalid_tool_calls': [],\n",
      " 'name': None,\n",
      " 'response_metadata': {'citation_metadata': {'citations': [{'end_index': 213,\n",
      "                                                            'license_': '',\n",
      "                                                            'start_index': 69,\n",
      "                                                            'title': '',\n",
      "                                                            'uri': 'https://wordpress.digital4design.com/category/human-eye/'},\n",
      "                                                           {'end_index': 315,\n",
      "                                                            'license_': '',\n",
      "                                                            'start_index': 190,\n",
      "                                                            'title': '',\n",
      "                                                            'uri': 'https://www.contentcustoms.com/2014/02/04/google-improving-onebox-answers/'}]},\n",
      "                       'is_blocked': False,\n",
      "                       'safety_ratings': [{'blocked': False,\n",
      "                                           'category': 'HARM_CATEGORY_HATE_SPEECH',\n",
      "                                           'probability_label': 'NEGLIGIBLE'},\n",
      "                                          {'blocked': False,\n",
      "                                           'category': 'HARM_CATEGORY_DANGEROUS_CONTENT',\n",
      "                                           'probability_label': 'NEGLIGIBLE'},\n",
      "                                          {'blocked': False,\n",
      "                                           'category': 'HARM_CATEGORY_HARASSMENT',\n",
      "                                           'probability_label': 'NEGLIGIBLE'},\n",
      "                                          {'blocked': False,\n",
      "                                           'category': 'HARM_CATEGORY_SEXUALLY_EXPLICIT',\n",
      "                                           'probability_label': 'NEGLIGIBLE'}],\n",
      "                       'usage_metadata': {'candidates_token_count': 65,\n",
      "                                          'prompt_token_count': 6,\n",
      "                                          'total_token_count': 71}},\n",
      " 'tool_calls': [],\n",
      " 'type': 'ai'}\n",
      "321\n"
     ]
    }
   ],
   "execution_count": 87
  },
  {
   "metadata": {},
   "cell_type": "markdown",
   "source": "# Agent",
   "id": "7afddd073dc8f2d6"
  },
  {
   "metadata": {
    "ExecuteTime": {
     "end_time": "2024-04-13T04:53:33.689500Z",
     "start_time": "2024-04-13T04:53:33.686653Z"
    }
   },
   "cell_type": "code",
   "source": [
    "tools = [TavilySearchResults(max_results=1)]"
   ],
   "id": "8b26eda904cd316e",
   "outputs": [],
   "execution_count": 106
  },
  {
   "metadata": {
    "ExecuteTime": {
     "end_time": "2024-04-13T04:53:35.505510Z",
     "start_time": "2024-04-13T04:53:35.502138Z"
    }
   },
   "cell_type": "code",
   "source": [
    "llm_with_tools = llm.bind_tools(tools)"
   ],
   "id": "1f59c3ece4568786",
   "outputs": [],
   "execution_count": 107
  },
  {
   "metadata": {
    "ExecuteTime": {
     "end_time": "2024-04-13T04:45:32.922262Z",
     "start_time": "2024-04-13T04:45:32.920085Z"
    }
   },
   "cell_type": "code",
   "source": [
    "# query = \"What is LangChain?\"\n",
    "query = \"Why is the sky blue?\""
   ],
   "id": "373fe42e0aa5af0c",
   "outputs": [],
   "execution_count": 90
  },
  {
   "metadata": {
    "ExecuteTime": {
     "end_time": "2024-04-13T04:45:34.742803Z",
     "start_time": "2024-04-13T04:45:33.095910Z"
    }
   },
   "cell_type": "code",
   "source": [
    "llm_with_tools.invoke(query).tool_calls"
   ],
   "id": "b21dc0becd6495aa",
   "outputs": [
    {
     "data": {
      "text/plain": [
       "[{'name': 'tavily_search_results_json',\n",
       "  'args': {'query': 'Why is the sky blue?'},\n",
       "  'id': 'cf581cb6-fa51-4ec9-ad8d-a38648d7d867'}]"
      ]
     },
     "execution_count": 91,
     "metadata": {},
     "output_type": "execute_result"
    }
   ],
   "execution_count": 91
  },
  {
   "metadata": {
    "ExecuteTime": {
     "end_time": "2024-04-13T04:53:41.283339Z",
     "start_time": "2024-04-13T04:53:41.280015Z"
    }
   },
   "cell_type": "code",
   "source": [
    "prompt = ChatPromptTemplate.from_messages(\n",
    "    [\n",
    "        (\n",
    "            \"system\",\n",
    "            # \"You are a helpful assistant. Make sure to use the tavily_search_results_json tool for information.\",\n",
    "            \"You are a helpful assistant. You only use the tavily_search_results tool for recent information that you don't know.\",\n",
    "        ),\n",
    "        (\"placeholder\", \"{chat_history}\"),\n",
    "        (\"human\", \"{input}\"),\n",
    "        (\"placeholder\", \"{agent_scratchpad}\"),\n",
    "    ]\n",
    ")"
   ],
   "id": "435273cdd4605654",
   "outputs": [],
   "execution_count": 108
  },
  {
   "metadata": {},
   "cell_type": "markdown",
   "source": "## OpenAI",
   "id": "3bbca20d0597cfb9"
  },
  {
   "metadata": {
    "ExecuteTime": {
     "end_time": "2024-04-13T04:57:04.042384Z",
     "start_time": "2024-04-13T04:57:04.038422Z"
    }
   },
   "cell_type": "code",
   "source": [
    "openai_agent = create_tool_calling_agent(openai_llm, tools, prompt)"
   ],
   "id": "49d33a8801f885e6",
   "outputs": [],
   "execution_count": 118
  },
  {
   "metadata": {
    "ExecuteTime": {
     "end_time": "2024-04-13T04:57:04.196172Z",
     "start_time": "2024-04-13T04:57:04.193893Z"
    }
   },
   "cell_type": "code",
   "source": [
    "openai_agent_executor = AgentExecutor(agent=openai_agent, tools=tools, verbose=True)"
   ],
   "id": "b3771f38b93d12fc",
   "outputs": [],
   "execution_count": 119
  },
  {
   "metadata": {
    "ExecuteTime": {
     "end_time": "2024-04-13T05:01:48.943594Z",
     "start_time": "2024-04-13T05:01:32.877439Z"
    }
   },
   "cell_type": "code",
   "source": [
    "# openai_agent_executor.invoke({\"input\": \"what is LangChain?\"})\n",
    "# openai_agent_executor.invoke({\"input\": \"Why is the sky blue?\"})\n",
    "openai_agent_executor.invoke({\"input\": \"How to wake up early?\"})\n",
    "# openai_agent_executor.invoke({\"input\": \"What is the weather today in HCMC?\"})"
   ],
   "id": "c04e2ae425873d83",
   "outputs": [
    {
     "name": "stdout",
     "output_type": "stream",
     "text": [
      "\n",
      "\n",
      "\u001B[1m> Entering new AgentExecutor chain...\u001B[0m\n"
     ]
    },
    {
     "name": "stderr",
     "output_type": "stream",
     "text": [
      "INFO:httpx:HTTP Request: POST https://api.openai.com/v1/chat/completions \"HTTP/1.1 200 OK\"\n"
     ]
    },
    {
     "name": "stdout",
     "output_type": "stream",
     "text": [
      "\u001B[32;1m\u001B[1;3mWaking up early can be a challenging habit to develop, but it's definitely achievable with the right strategies. Here are some tips to help you wake up early and make the most of your morning:\n",
      "\n",
      "1. **Gradually Adjust Your Schedule**: Start by setting your alarm just 15 minutes earlier than usual and gradually adjust it earlier in small increments until you reach your desired wake-up time.\n",
      "\n",
      "2. **Create a Sleep Schedule**: Go to bed and wake up at the same time every day, even on weekends. Consistency is key to adjusting your body's internal clock.\n",
      "\n",
      "3. **Improve Your Sleep Environment**: Make sure your bedroom is conducive to sleep. It should be quiet, dark, and at a comfortable temperature. Consider using blackout curtains, earplugs, or white noise machines if necessary.\n",
      "\n",
      "4. **Limit Exposure to Screens**: The blue light emitted by phones, tablets, and computers can interfere with your ability to fall asleep. Try to avoid screens for at least an hour before bed.\n",
      "\n",
      "5. **Develop a Bedtime Routine**: Establish a relaxing routine before bed to signal to your body that it's time to wind down. This could include activities like reading, taking a warm bath, or meditating.\n",
      "\n",
      "6. **Avoid Stimulants**: Limit caffeine and nicotine, especially in the hours leading up to bedtime, as they can make it harder to fall asleep.\n",
      "\n",
      "7. **Use Natural Light**: Exposure to natural light during the day can help regulate your body's sleep-wake cycle. Try to spend some time outside every day and open curtains or blinds as soon as you wake up.\n",
      "\n",
      "8. **Exercise Regularly**: Regular physical activity can help you fall asleep faster and enjoy deeper sleep. However, try not to exercise too close to bedtime, as it can energize you and make it harder to fall asleep.\n",
      "\n",
      "9. **Be Mindful of Eating and Drinking**: Avoid large meals, caffeine, and alcohol before bedtime, as they can disrupt sleep.\n",
      "\n",
      "10. **Motivate Yourself**: Give yourself a good reason to get up early, whether it's a personal project, exercise, or simply having some quiet time to yourself.\n",
      "\n",
      "11. **Use an Alarm Clock Wisely**: Place your alarm clock across the room to force yourself to get up to turn it off. Consider using an alarm that simulates sunrise or plays pleasant but energizing music.\n",
      "\n",
      "12. **Be Patient and Persistent**: It may take some time for your body to adjust to a new schedule. Be patient with yourself and stick with your routine, even if you don't always succeed in waking up early.\n",
      "\n",
      "Remember, the goal is to create a sustainable habit, not to shock your system or make you feel deprived of sleep. Gradual changes and consistency are key to successfully waking up early.\u001B[0m\n",
      "\n",
      "\u001B[1m> Finished chain.\u001B[0m\n"
     ]
    },
    {
     "data": {
      "text/plain": [
       "{'input': 'How to wake up early?',\n",
       " 'output': \"Waking up early can be a challenging habit to develop, but it's definitely achievable with the right strategies. Here are some tips to help you wake up early and make the most of your morning:\\n\\n1. **Gradually Adjust Your Schedule**: Start by setting your alarm just 15 minutes earlier than usual and gradually adjust it earlier in small increments until you reach your desired wake-up time.\\n\\n2. **Create a Sleep Schedule**: Go to bed and wake up at the same time every day, even on weekends. Consistency is key to adjusting your body's internal clock.\\n\\n3. **Improve Your Sleep Environment**: Make sure your bedroom is conducive to sleep. It should be quiet, dark, and at a comfortable temperature. Consider using blackout curtains, earplugs, or white noise machines if necessary.\\n\\n4. **Limit Exposure to Screens**: The blue light emitted by phones, tablets, and computers can interfere with your ability to fall asleep. Try to avoid screens for at least an hour before bed.\\n\\n5. **Develop a Bedtime Routine**: Establish a relaxing routine before bed to signal to your body that it's time to wind down. This could include activities like reading, taking a warm bath, or meditating.\\n\\n6. **Avoid Stimulants**: Limit caffeine and nicotine, especially in the hours leading up to bedtime, as they can make it harder to fall asleep.\\n\\n7. **Use Natural Light**: Exposure to natural light during the day can help regulate your body's sleep-wake cycle. Try to spend some time outside every day and open curtains or blinds as soon as you wake up.\\n\\n8. **Exercise Regularly**: Regular physical activity can help you fall asleep faster and enjoy deeper sleep. However, try not to exercise too close to bedtime, as it can energize you and make it harder to fall asleep.\\n\\n9. **Be Mindful of Eating and Drinking**: Avoid large meals, caffeine, and alcohol before bedtime, as they can disrupt sleep.\\n\\n10. **Motivate Yourself**: Give yourself a good reason to get up early, whether it's a personal project, exercise, or simply having some quiet time to yourself.\\n\\n11. **Use an Alarm Clock Wisely**: Place your alarm clock across the room to force yourself to get up to turn it off. Consider using an alarm that simulates sunrise or plays pleasant but energizing music.\\n\\n12. **Be Patient and Persistent**: It may take some time for your body to adjust to a new schedule. Be patient with yourself and stick with your routine, even if you don't always succeed in waking up early.\\n\\nRemember, the goal is to create a sustainable habit, not to shock your system or make you feel deprived of sleep. Gradual changes and consistency are key to successfully waking up early.\"}"
      ]
     },
     "execution_count": 128,
     "metadata": {},
     "output_type": "execute_result"
    }
   ],
   "execution_count": 128
  },
  {
   "metadata": {
    "ExecuteTime": {
     "end_time": "2024-04-13T05:01:48.946826Z",
     "start_time": "2024-04-13T05:01:48.944985Z"
    }
   },
   "cell_type": "code",
   "source": "",
   "id": "b8b0b7f24fdd9a79",
   "outputs": [],
   "execution_count": 128
  },
  {
   "metadata": {},
   "cell_type": "markdown",
   "source": "## Gemini",
   "id": "51e86624d3bbd8d0"
  },
  {
   "metadata": {
    "ExecuteTime": {
     "end_time": "2024-04-13T04:57:25.112462Z",
     "start_time": "2024-04-13T04:57:25.110063Z"
    }
   },
   "cell_type": "code",
   "source": [
    "agent = create_tool_calling_agent(llm, tools, prompt)"
   ],
   "id": "74b7b57f16448052",
   "outputs": [],
   "execution_count": 121
  },
  {
   "metadata": {
    "ExecuteTime": {
     "end_time": "2024-04-13T04:57:25.345568Z",
     "start_time": "2024-04-13T04:57:25.342492Z"
    }
   },
   "cell_type": "code",
   "source": [
    "agent_executor = AgentExecutor(agent=agent, tools=tools, verbose=True)"
   ],
   "id": "c382a4d324840196",
   "outputs": [],
   "execution_count": 122
  },
  {
   "metadata": {
    "ExecuteTime": {
     "end_time": "2024-04-13T05:01:29.524952Z",
     "start_time": "2024-04-13T05:01:15.224352Z"
    }
   },
   "cell_type": "code",
   "source": [
    "# agent_executor.invoke({\"input\": \"what is LangChain?\"})\n",
    "# agent_executor.invoke({\"input\": \"Why is the sky blue?\"})\n",
    "agent_executor.invoke({\"input\": \"How to wake up early?\"})\n",
    "# agent_executor.invoke({\"input\": \"What is the weather today in HCMC?\"})"
   ],
   "id": "7d0d9fff6e24529c",
   "outputs": [
    {
     "name": "stdout",
     "output_type": "stream",
     "text": [
      "\n",
      "\n",
      "\u001B[1m> Entering new AgentExecutor chain...\u001B[0m\n",
      "\u001B[32;1m\u001B[1;3m## Tips to Wake Up Early\n",
      "\n",
      "Waking up early can be challenging, but it's definitely achievable with the right approach. Here are some tips to help you become an early riser:\n",
      "\n",
      "**1. Gradual Adjustment:**\n",
      "\n",
      "* **Start slow:** Don't jump from waking up at 9 am to 5 am overnight. Gradually shift your wake-up time by 15-30 minutes earlier every few days. This allows your body to adjust gently. \n",
      "* **Adjust bedtime accordingly:** Ensure you're getting enough sleep (7-8 hours for most adults). Calculate your ideal bedtime based on your desired wake-up time and stick to it.\n",
      "\n",
      "**2. Optimize Your Sleep Environment:**\n",
      "\n",
      "* **Make it dark:** Use blackout curtains or a sleep mask to block out light, which can interfere with melatonin production. \n",
      "* **Keep it quiet:** Minimize noise disruptions with earplugs or a white noise machine.\n",
      "* **Cool it down:** A slightly cool room temperature (around 65°F or 18°C) promotes better sleep.\n",
      "* **Invest in a comfortable bed and pillows:** Your bed should be supportive and conducive to relaxation.\n",
      "\n",
      "**3. Establish a Consistent Sleep Schedule:**\n",
      "\n",
      "* **Go to bed and wake up around the same time each day, even on weekends:** This helps regulate your body's natural sleep-wake cycle (circadian rhythm).\n",
      "* **Create a relaxing bedtime routine:** This could include taking a warm bath, reading a book, or light stretching. Avoid screens for at least an hour before bed, as the blue light emitted can disrupt sleep.\n",
      "\n",
      "**4. Morning Motivation:**\n",
      "\n",
      "* **Place your alarm clock across the room:** This forces you to get out of bed to turn it off.\n",
      "* **Let the light in:** Open your curtains or step outside as soon as you wake up. Sunlight helps suppress melatonin and signals to your body that it's time to be awake.\n",
      "* **Have something to look forward to:** Plan a delicious breakfast, a morning workout, or a relaxing activity you enjoy to motivate yourself to get out of bed. \n",
      "\n",
      "**5. Additional Tips:**\n",
      "\n",
      "* **Limit caffeine and alcohol intake, especially in the afternoon and evening.**\n",
      "* **Get regular exercise, but avoid strenuous activity close to bedtime.**\n",
      "* **Expose yourself to natural sunlight during the day.**\n",
      "* **Consider using a sleep tracker to monitor your sleep patterns and identify areas for improvement.**\n",
      "\n",
      "**Remember, consistency is key. Stick to your routine, and you'll find yourself waking up earlier and feeling more energized throughout the day.** \n",
      "\u001B[0m\n",
      "\n",
      "\u001B[1m> Finished chain.\u001B[0m\n"
     ]
    },
    {
     "data": {
      "text/plain": [
       "{'input': 'How to wake up early?',\n",
       " 'output': \"## Tips to Wake Up Early\\n\\nWaking up early can be challenging, but it's definitely achievable with the right approach. Here are some tips to help you become an early riser:\\n\\n**1. Gradual Adjustment:**\\n\\n* **Start slow:** Don't jump from waking up at 9 am to 5 am overnight. Gradually shift your wake-up time by 15-30 minutes earlier every few days. This allows your body to adjust gently. \\n* **Adjust bedtime accordingly:** Ensure you're getting enough sleep (7-8 hours for most adults). Calculate your ideal bedtime based on your desired wake-up time and stick to it.\\n\\n**2. Optimize Your Sleep Environment:**\\n\\n* **Make it dark:** Use blackout curtains or a sleep mask to block out light, which can interfere with melatonin production. \\n* **Keep it quiet:** Minimize noise disruptions with earplugs or a white noise machine.\\n* **Cool it down:** A slightly cool room temperature (around 65°F or 18°C) promotes better sleep.\\n* **Invest in a comfortable bed and pillows:** Your bed should be supportive and conducive to relaxation.\\n\\n**3. Establish a Consistent Sleep Schedule:**\\n\\n* **Go to bed and wake up around the same time each day, even on weekends:** This helps regulate your body's natural sleep-wake cycle (circadian rhythm).\\n* **Create a relaxing bedtime routine:** This could include taking a warm bath, reading a book, or light stretching. Avoid screens for at least an hour before bed, as the blue light emitted can disrupt sleep.\\n\\n**4. Morning Motivation:**\\n\\n* **Place your alarm clock across the room:** This forces you to get out of bed to turn it off.\\n* **Let the light in:** Open your curtains or step outside as soon as you wake up. Sunlight helps suppress melatonin and signals to your body that it's time to be awake.\\n* **Have something to look forward to:** Plan a delicious breakfast, a morning workout, or a relaxing activity you enjoy to motivate yourself to get out of bed. \\n\\n**5. Additional Tips:**\\n\\n* **Limit caffeine and alcohol intake, especially in the afternoon and evening.**\\n* **Get regular exercise, but avoid strenuous activity close to bedtime.**\\n* **Expose yourself to natural sunlight during the day.**\\n* **Consider using a sleep tracker to monitor your sleep patterns and identify areas for improvement.**\\n\\n**Remember, consistency is key. Stick to your routine, and you'll find yourself waking up earlier and feeling more energized throughout the day.** \\n\"}"
      ]
     },
     "execution_count": 127,
     "metadata": {},
     "output_type": "execute_result"
    }
   ],
   "execution_count": 127
  },
  {
   "metadata": {
    "ExecuteTime": {
     "end_time": "2024-04-13T05:07:20.914412Z",
     "start_time": "2024-04-13T05:07:20.910564Z"
    }
   },
   "cell_type": "code",
   "source": "",
   "id": "e122a1f4b946b654",
   "outputs": [],
   "execution_count": 128
  },
  {
   "metadata": {
    "ExecuteTime": {
     "end_time": "2024-04-13T05:07:21.076221Z",
     "start_time": "2024-04-13T05:07:21.073115Z"
    }
   },
   "cell_type": "code",
   "source": "",
   "id": "9cf4e30aa3e0848",
   "outputs": [],
   "execution_count": 128
  },
  {
   "metadata": {},
   "cell_type": "code",
   "outputs": [],
   "execution_count": null,
   "source": "",
   "id": "106ddef05de120aa"
  }
 ],
 "metadata": {
  "kernelspec": {
   "display_name": "Python 3",
   "language": "python",
   "name": "python3"
  },
  "language_info": {
   "codemirror_mode": {
    "name": "ipython",
    "version": 2
   },
   "file_extension": ".py",
   "mimetype": "text/x-python",
   "name": "python",
   "nbconvert_exporter": "python",
   "pygments_lexer": "ipython2",
   "version": "2.7.6"
  }
 },
 "nbformat": 4,
 "nbformat_minor": 5
}
