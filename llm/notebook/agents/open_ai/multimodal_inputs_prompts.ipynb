{
 "cells": [
  {
   "cell_type": "markdown",
   "id": "4facdf7f-680e-4d28-908b-2b8408e2a741",
   "metadata": {},
   "source": [
    "# How to pass multimodal data directly to models\n",
    "\n",
    "Here we demonstrate how to pass [multimodal](/docs/concepts/multimodality/) input directly to models. \n",
    "We currently expect all input to be passed in the same format as [OpenAI expects](https://platform.openai.com/docs/guides/vision).\n",
    "For other model providers that support multimodal input, we have added logic inside the class to convert to the expected format.\n",
    "\n",
    "In this example we will ask a [model](/docs/concepts/chat_models/#multimodality) to describe an image."
   ]
  },
  {
   "metadata": {
    "ExecuteTime": {
     "end_time": "2025-04-02T07:26:02.035840Z",
     "start_time": "2025-04-02T07:26:02.027140Z"
    }
   },
   "cell_type": "code",
   "source": "from dotenv import load_dotenv",
   "id": "59ef81c825102177",
   "outputs": [],
   "execution_count": 1
  },
  {
   "metadata": {
    "ExecuteTime": {
     "end_time": "2025-04-02T07:26:04.773030Z",
     "start_time": "2025-04-02T07:26:04.764724Z"
    }
   },
   "cell_type": "code",
   "source": "load_dotenv()",
   "id": "4ee3c1839b8bdcb5",
   "outputs": [
    {
     "data": {
      "text/plain": [
       "True"
      ]
     },
     "execution_count": 2,
     "metadata": {},
     "output_type": "execute_result"
    }
   ],
   "execution_count": 2
  },
  {
   "cell_type": "code",
   "id": "0d9fd81a-b7f0-445a-8e3d-cfc2d31fdd59",
   "metadata": {
    "ExecuteTime": {
     "end_time": "2025-04-02T07:26:16.901281Z",
     "start_time": "2025-04-02T07:26:16.894530Z"
    }
   },
   "source": [
    "image_url = \"https://upload.wikimedia.org/wikipedia/commons/thumb/d/dd/Gfp-wisconsin-madison-the-nature-boardwalk.jpg/2560px-Gfp-wisconsin-madison-the-nature-boardwalk.jpg\""
   ],
   "outputs": [],
   "execution_count": 4
  },
  {
   "cell_type": "code",
   "id": "fb896ce9",
   "metadata": {
    "ExecuteTime": {
     "end_time": "2025-04-02T07:26:24.279130Z",
     "start_time": "2025-04-02T07:26:23.490294Z"
    }
   },
   "source": [
    "from langchain_core.messages import HumanMessage\n",
    "from langchain_openai import ChatOpenAI\n",
    "\n",
    "model = ChatOpenAI(model=\"gpt-4o\")"
   ],
   "outputs": [],
   "execution_count": 5
  },
  {
   "cell_type": "markdown",
   "id": "4fca4da7",
   "metadata": {},
   "source": [
    "The most commonly supported way to pass in images is to pass it in as a byte string.\n",
    "This should work for most model integrations."
   ]
  },
  {
   "cell_type": "code",
   "id": "9ca1040c",
   "metadata": {
    "ExecuteTime": {
     "end_time": "2025-04-02T07:27:25.745114Z",
     "start_time": "2025-04-02T07:27:25.333934Z"
    }
   },
   "source": [
    "import base64\n",
    "\n",
    "import httpx\n",
    "\n",
    "image_data = base64.b64encode(httpx.get(image_url).content).decode(\"utf-8\")"
   ],
   "outputs": [],
   "execution_count": 6
  },
  {
   "cell_type": "code",
   "id": "ec680b6b",
   "metadata": {
    "ExecuteTime": {
     "end_time": "2025-04-02T07:28:42.630020Z",
     "start_time": "2025-04-02T07:28:35.623909Z"
    }
   },
   "source": [
    "message = HumanMessage(\n",
    "    content=[\n",
    "        {\"type\": \"text\", \"text\": \"describe the weather in this image\"},\n",
    "        {\n",
    "            \"type\": \"image_url\",\n",
    "            \"image_url\": {\"url\": f\"data:image/jpeg;base64,{image_data}\"},\n",
    "        },\n",
    "    ],\n",
    ")\n",
    "response = model.invoke([message])\n",
    "print(response.content)"
   ],
   "outputs": [
    {
     "name": "stdout",
     "output_type": "stream",
     "text": [
      "The weather in the image appears to be clear and sunny. The sky is mostly blue with some scattered white clouds. The sunlight suggests it's a bright day with good visibility. Ideal conditions for a pleasant outdoor stroll.\n"
     ]
    }
   ],
   "execution_count": 7
  },
  {
   "cell_type": "markdown",
   "id": "8656018e-c56d-47d2-b2be-71e87827f90a",
   "metadata": {},
   "source": [
    "We can feed the image URL directly in a content block of type \"image_url\". Note that only some model providers support this."
   ]
  },
  {
   "cell_type": "code",
   "id": "a8819cf3-5ddc-44f0-889a-19ca7b7fe77e",
   "metadata": {
    "ExecuteTime": {
     "end_time": "2025-04-02T07:29:19.588230Z",
     "start_time": "2025-04-02T07:29:15.476626Z"
    }
   },
   "source": [
    "message = HumanMessage(\n",
    "    content=[\n",
    "        {\"type\": \"text\", \"text\": \"describe the weather in this image\"},\n",
    "        {\"type\": \"image_url\", \"image_url\": {\"url\": image_url}},\n",
    "    ],\n",
    ")\n",
    "response = model.invoke([message])\n",
    "print(response.content)"
   ],
   "outputs": [
    {
     "name": "stdout",
     "output_type": "stream",
     "text": [
      "The weather in the image appears clear and sunny with a bright blue sky and a few scattered clouds. The lighting suggests it might be late afternoon, with the sun casting warm, golden tones on the landscape. The overall scene looks calm and pleasant, indicative of a mild and fair weather day.\n"
     ]
    }
   ],
   "execution_count": 8
  },
  {
   "cell_type": "markdown",
   "id": "1c470309",
   "metadata": {},
   "source": [
    "We can also pass in multiple images."
   ]
  },
  {
   "cell_type": "code",
   "id": "325fb4ca",
   "metadata": {
    "ExecuteTime": {
     "end_time": "2025-04-02T07:29:35.275276Z",
     "start_time": "2025-04-02T07:29:30.468459Z"
    }
   },
   "source": [
    "message = HumanMessage(\n",
    "    content=[\n",
    "        {\"type\": \"text\", \"text\": \"are these two images the same?\"},\n",
    "        {\"type\": \"image_url\", \"image_url\": {\"url\": image_url}},\n",
    "        {\"type\": \"image_url\", \"image_url\": {\"url\": image_url}},\n",
    "    ],\n",
    ")\n",
    "response = model.invoke([message])\n",
    "print(response.content)"
   ],
   "outputs": [
    {
     "name": "stdout",
     "output_type": "stream",
     "text": [
      "The two images are the same.\n"
     ]
    }
   ],
   "execution_count": 9
  },
  {
   "cell_type": "markdown",
   "id": "71bd28cf-d76c-44e2-a55e-c5f265db986e",
   "metadata": {},
   "source": [
    "## Tool calls\n",
    "\n",
    "Some multimodal models support [tool calling](/docs/concepts/tool_calling) features as well. To call tools using such models, simply bind tools to them in the [usual way](/docs/how_to/tool_calling), and invoke the model using content blocks of the desired type (e.g., containing image data)."
   ]
  },
  {
   "cell_type": "code",
   "id": "cd22ea82-2f93-46f9-9f7a-6aaf479fcaa9",
   "metadata": {
    "ExecuteTime": {
     "end_time": "2025-04-02T07:30:14.984179Z",
     "start_time": "2025-04-02T07:30:10.902057Z"
    }
   },
   "source": [
    "from typing import Literal\n",
    "\n",
    "from langchain_core.tools import tool\n",
    "\n",
    "\n",
    "@tool\n",
    "def weather_tool(weather: Literal[\"sunny\", \"cloudy\", \"rainy\"]) -> None:\n",
    "    \"\"\"Describe the weather\"\"\"\n",
    "    pass\n",
    "\n",
    "\n",
    "model_with_tools = model.bind_tools([weather_tool])\n",
    "\n",
    "message = HumanMessage(\n",
    "    content=[\n",
    "        {\"type\": \"text\", \"text\": \"describe the weather in this image\"},\n",
    "        {\"type\": \"image_url\", \"image_url\": {\"url\": image_url}},\n",
    "    ],\n",
    ")\n",
    "response = model_with_tools.invoke([message])\n",
    "print(response.tool_calls)"
   ],
   "outputs": [
    {
     "name": "stdout",
     "output_type": "stream",
     "text": [
      "[]\n"
     ]
    }
   ],
   "execution_count": 10
  },
  {
   "metadata": {
    "ExecuteTime": {
     "end_time": "2025-04-02T07:30:40.974194Z",
     "start_time": "2025-04-02T07:30:40.968723Z"
    }
   },
   "cell_type": "code",
   "source": "print(response.content)",
   "id": "f62ab535739206d4",
   "outputs": [
    {
     "name": "stdout",
     "output_type": "stream",
     "text": [
      "The weather in the image appears sunny with a clear blue sky and a few scattered clouds.\n"
     ]
    }
   ],
   "execution_count": 11
  },
  {
   "metadata": {},
   "cell_type": "markdown",
   "source": "# Prompt Template",
   "id": "aeba7b537f582bf2"
  },
  {
   "metadata": {
    "ExecuteTime": {
     "end_time": "2025-04-02T07:32:03.775689Z",
     "start_time": "2025-04-02T07:32:03.291879Z"
    }
   },
   "cell_type": "code",
   "source": [
    "image_url = \"https://upload.wikimedia.org/wikipedia/commons/thumb/d/dd/Gfp-wisconsin-madison-the-nature-boardwalk.jpg/2560px-Gfp-wisconsin-madison-the-nature-boardwalk.jpg\"\n",
    "image_data = base64.b64encode(httpx.get(image_url).content).decode(\"utf-8\")"
   ],
   "id": "4f3aa0e23b9551a",
   "outputs": [],
   "execution_count": 12
  },
  {
   "metadata": {
    "ExecuteTime": {
     "end_time": "2025-04-02T07:32:09.746113Z",
     "start_time": "2025-04-02T07:32:09.742778Z"
    }
   },
   "cell_type": "code",
   "source": "from langchain_core.prompts import ChatPromptTemplate",
   "id": "d7f2a37b5be38e65",
   "outputs": [],
   "execution_count": 13
  },
  {
   "metadata": {
    "ExecuteTime": {
     "end_time": "2025-04-02T07:32:13.798671Z",
     "start_time": "2025-04-02T07:32:13.793621Z"
    }
   },
   "cell_type": "code",
   "source": [
    "prompt = ChatPromptTemplate.from_messages(\n",
    "    [\n",
    "        (\"system\", \"Describe the image provided\"),\n",
    "        (\n",
    "            \"user\",\n",
    "            [\n",
    "                {\n",
    "                    \"type\": \"image_url\",\n",
    "                    \"image_url\": {\"url\": \"data:image/jpeg;base64,{image_data}\"},\n",
    "                }\n",
    "            ],\n",
    "        ),\n",
    "    ]\n",
    ")"
   ],
   "id": "391fb7d1c5dac34",
   "outputs": [],
   "execution_count": 14
  },
  {
   "metadata": {
    "ExecuteTime": {
     "end_time": "2025-04-02T07:32:20.869420Z",
     "start_time": "2025-04-02T07:32:20.863987Z"
    }
   },
   "cell_type": "code",
   "source": "chain = prompt | model",
   "id": "2893f001ef85c9e1",
   "outputs": [],
   "execution_count": 15
  },
  {
   "metadata": {
    "ExecuteTime": {
     "end_time": "2025-04-02T07:32:41.943144Z",
     "start_time": "2025-04-02T07:32:35.387738Z"
    }
   },
   "cell_type": "code",
   "source": [
    "response = chain.invoke({\"image_data\": image_data})\n",
    "print(response.content)"
   ],
   "id": "9bd48f846e64082f",
   "outputs": [
    {
     "name": "stdout",
     "output_type": "stream",
     "text": [
      "The image shows a serene landscape with a wooden boardwalk path cutting through a lush green field. The grass is vibrant, and the scene extends to the horizon with small bushes and trees scattered in the background. The sky is a bright blue with scattered white clouds, creating a peaceful and open atmosphere.\n"
     ]
    }
   ],
   "execution_count": 16
  },
  {
   "metadata": {
    "ExecuteTime": {
     "end_time": "2025-04-02T07:34:17.712030Z",
     "start_time": "2025-04-02T07:34:17.706725Z"
    }
   },
   "cell_type": "code",
   "source": [
    "prompt2 = ChatPromptTemplate.from_messages(\n",
    "    [\n",
    "        (\"system\", \"compare the two pictures provided\"),\n",
    "        (\n",
    "            \"user\",\n",
    "            [\n",
    "                {\n",
    "                    \"type\": \"image_url\",\n",
    "                    \"image_url\": {\"url\": \"data:image/jpeg;base64,{image_data1}\"},\n",
    "                },\n",
    "                {\n",
    "                    \"type\": \"image_url\",\n",
    "                    \"image_url\": {\"url\": \"data:image/jpeg;base64,{image_data2}\"},\n",
    "                },\n",
    "            ],\n",
    "        ),\n",
    "    ]\n",
    ")"
   ],
   "id": "fb8921016b44fc8c",
   "outputs": [],
   "execution_count": 19
  },
  {
   "metadata": {
    "ExecuteTime": {
     "end_time": "2025-04-02T07:34:18.269079Z",
     "start_time": "2025-04-02T07:34:18.266104Z"
    }
   },
   "cell_type": "code",
   "source": "chain2 = prompt2 | model",
   "id": "a1dd154487da242",
   "outputs": [],
   "execution_count": 20
  },
  {
   "metadata": {
    "ExecuteTime": {
     "end_time": "2025-04-02T07:34:59.128987Z",
     "start_time": "2025-04-02T07:34:30.353296Z"
    }
   },
   "cell_type": "code",
   "source": [
    "response = chain2.invoke({\"image_data1\": image_data, \"image_data2\": image_data})\n",
    "print(response.content)"
   ],
   "id": "7f20b89ef94221e",
   "outputs": [
    {
     "name": "stdout",
     "output_type": "stream",
     "text": [
      "The two images are identical. They both show a wooden path through a grassy field with a blue sky overhead, featuring wispy clouds. The images have the same composition, colors, and elements.\n"
     ]
    }
   ],
   "execution_count": 22
  },
  {
   "metadata": {},
   "cell_type": "code",
   "outputs": [],
   "execution_count": null,
   "source": "",
   "id": "9ab1ca08281607cc"
  }
 ],
 "metadata": {
  "kernelspec": {
   "display_name": "Python 3 (ipykernel)",
   "language": "python",
   "name": "python3"
  },
  "language_info": {
   "codemirror_mode": {
    "name": "ipython",
    "version": 3
   },
   "file_extension": ".py",
   "mimetype": "text/x-python",
   "name": "python",
   "nbconvert_exporter": "python",
   "pygments_lexer": "ipython3",
   "version": "3.9.1"
  }
 },
 "nbformat": 4,
 "nbformat_minor": 5
}
