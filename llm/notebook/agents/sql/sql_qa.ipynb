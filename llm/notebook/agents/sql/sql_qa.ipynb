{
 "cells": [
  {
   "cell_type": "markdown",
   "metadata": {},
   "source": [
    "# Build a Question/Answering system over SQL data\n",
    "\n",
    ":::info Prerequisites\n",
    "\n",
    "This guide assumes familiarity with the following concepts:\n",
    "\n",
    "- [Chaining runnables](/docs/how_to/sequence/)\n",
    "- [Chat models](/docs/concepts/#chat-models)\n",
    "- [Tools](/docs/concepts/#tools)\n",
    "- [Agents](/docs/concepts/#agents)\n",
    "\n",
    ":::\n",
    "\n",
    "Enabling a LLM system to query structured data can be qualitatively different from unstructured text data. Whereas in the latter it is common to generate text that can be searched against a vector database, the approach for structured data is often for the LLM to write and execute queries in a DSL, such as SQL. In this guide we'll go over the basic ways to create a Q&A system over tabular data in databases. We will cover implementations using both chains and agents. These systems will allow us to ask a question about the data in a database and get back a natural language answer. The main difference between the two is that our agent can query the database in a loop as many times as it needs to answer the question.\n",
    "\n",
    "## ⚠️ Security note ⚠️\n",
    "\n",
    "Building Q&A systems of SQL databases requires executing model-generated SQL queries. There are inherent risks in doing this. Make sure that your database connection permissions are always scoped as narrowly as possible for your chain/agent's needs. This will mitigate though not eliminate the risks of building a model-driven system. For more on general security best practices, [see here](/docs/security).\n",
    "\n",
    "\n",
    "## Architecture\n",
    "\n",
    "At a high-level, the steps of these systems are:\n",
    "\n",
    "1. **Convert question to DSL query**: Model converts user input to a SQL query.\n",
    "2. **Execute SQL query**: Execute the query.\n",
    "3. **Answer the question**: Model responds to user input using the query results.\n",
    "\n",
    "Note that querying data in CSVs can follow a similar approach. See our [how-to guide](/docs/how_to/sql_csv) on question-answering over CSV data for more detail.\n",
    "\n",
    "![sql_usecase.png](../../static/img/sql_usecase.png)\n",
    "\n",
    "## Setup\n",
    "\n",
    "First, get required packages and set environment variables:"
   ]
  },
  {
   "cell_type": "code",
   "metadata": {
    "ExecuteTime": {
     "end_time": "2024-09-04T08:24:30.151015Z",
     "start_time": "2024-09-04T08:24:30.148468Z"
    }
   },
   "source": [
    "# %%capture --no-stderr\n",
    "# %pip install --upgrade --quiet langchain langchain-community langchain-openai faiss-cpu"
   ],
   "outputs": [],
   "execution_count": 1
  },
  {
   "cell_type": "markdown",
   "metadata": {},
   "source": [
    "We will use an OpenAI model and a [FAISS-powered vector store](/docs/integrations/vectorstores/faiss/) in this guide."
   ]
  },
  {
   "cell_type": "code",
   "metadata": {
    "ExecuteTime": {
     "end_time": "2024-09-04T14:59:02.626504Z",
     "start_time": "2024-09-04T14:59:02.622972Z"
    }
   },
   "source": [
    "import ast\n",
    "import re\n",
    "from operator import itemgetter\n",
    "\n",
    "from dotenv import load_dotenv\n",
    "from IPython.display import Image, display\n",
    "from langchain.agents.agent_toolkits import create_retriever_tool\n",
    "from langchain.chains import create_sql_query_chain\n",
    "from langchain_community.agent_toolkits import (\n",
    "    SQLDatabaseToolkit,\n",
    "    create_spark_sql_agent,\n",
    "    SparkSQLToolkit,\n",
    ")\n",
    "from langchain_community.tools.sql_database.tool import QuerySQLDataBaseTool\n",
    "from langchain_community.utilities import SQLDatabase\n",
    "from langchain_community.vectorstores import FAISS\n",
    "from langchain_core.messages import HumanMessage, SystemMessage\n",
    "from langchain_core.output_parsers import StrOutputParser\n",
    "from langchain_core.prompts import (\n",
    "    ChatPromptTemplate,\n",
    "    FewShotPromptTemplate,\n",
    "    MessagesPlaceholder,\n",
    "    PromptTemplate,\n",
    "    SystemMessagePromptTemplate,\n",
    ")\n",
    "from langchain_core.runnables import RunnableLambda, RunnablePassthrough\n",
    "from langchain_openai import ChatOpenAI, OpenAIEmbeddings\n",
    "from langgraph.prebuilt import create_react_agent\n",
    "from langchain_community.utilities.spark_sql import SparkSQL\n",
    "from langchain_core.example_selectors import SemanticSimilarityExampleSelector\n",
    "\n",
    "from langchain import hub"
   ],
   "outputs": [],
   "execution_count": 59
  },
  {
   "metadata": {
    "ExecuteTime": {
     "end_time": "2024-09-04T14:53:40.519599Z",
     "start_time": "2024-09-04T14:53:40.507632Z"
    }
   },
   "cell_type": "code",
   "source": [
    "load_dotenv()"
   ],
   "outputs": [
    {
     "data": {
      "text/plain": [
       "True"
      ]
     },
     "execution_count": 35,
     "metadata": {},
     "output_type": "execute_result"
    }
   ],
   "execution_count": 35
  },
  {
   "metadata": {
    "ExecuteTime": {
     "end_time": "2024-09-04T14:53:40.961901Z",
     "start_time": "2024-09-04T14:53:40.919415Z"
    }
   },
   "cell_type": "code",
   "source": [
    "# llm = ChatOpenAI(model=\"gpt-4o-mini\", temperature=0)\n",
    "llm = ChatOpenAI(model=\"gpt-4o-2024-08-06\", temperature=0)"
   ],
   "outputs": [],
   "execution_count": 36
  },
  {
   "cell_type": "markdown",
   "metadata": {},
   "source": [
    "The below example will use a SQLite connection with Chinook database. Follow [these installation steps](https://database.guide/2-sample-databases-sqlite/) to create `Chinook.db` in the same directory as this notebook:\n",
    "\n",
    "* Save [this file](https://raw.githubusercontent.com/lerocha/chinook-database/master/ChinookDatabase/DataSources/Chinook_Sqlite.sql) as `Chinook.sql`\n",
    "* Run `sqlite3 Chinook.db`\n",
    "* Run `.read Chinook.sql`\n",
    "* Test `SELECT * FROM Artist LIMIT 10;`\n",
    "\n",
    "Now, `Chinhook.db` is in our directory and we can interface with it using the SQLAlchemy-driven `SQLDatabase` class:"
   ]
  },
  {
   "metadata": {},
   "cell_type": "markdown",
   "source": "# SQLite"
  },
  {
   "cell_type": "code",
   "metadata": {
    "ExecuteTime": {
     "end_time": "2024-09-04T14:53:42.182870Z",
     "start_time": "2024-09-04T14:53:42.149966Z"
    }
   },
   "source": [
    "db = SQLDatabase.from_uri(\"sqlite:///Chinook.db\")\n",
    "print(db.dialect)\n",
    "print(db.get_usable_table_names())\n",
    "db.run(\"SELECT * FROM Artist LIMIT 10;\")"
   ],
   "outputs": [
    {
     "name": "stdout",
     "output_type": "stream",
     "text": [
      "sqlite\n",
      "['Album', 'Artist', 'Customer', 'Employee', 'Genre', 'Invoice', 'InvoiceLine', 'MediaType', 'Playlist', 'PlaylistTrack', 'Track']\n"
     ]
    },
    {
     "data": {
      "text/plain": [
       "\"[(1, 'AC/DC'), (2, 'Accept'), (3, 'Aerosmith'), (4, 'Alanis Morissette'), (5, 'Alice In Chains'), (6, 'Antônio Carlos Jobim'), (7, 'Apocalyptica'), (8, 'Audioslave'), (9, 'BackBeat'), (10, 'Billy Cobham')]\""
      ]
     },
     "execution_count": 37,
     "metadata": {},
     "output_type": "execute_result"
    }
   ],
   "execution_count": 37
  },
  {
   "cell_type": "markdown",
   "metadata": {},
   "source": [
    "Great! We've got a SQL database that we can query. Now let's try hooking it up to an LLM.\n",
    "\n",
    "## Chains {#chains}\n",
    "\n",
    "Chains (i.e., compositions of LangChain [Runnables](/docs/concepts#langchain-expression-language-lcel)) support applications whose steps are predictable. We can create a simple chain that takes a question and does the following:\n",
    "- convert the question into a SQL query;\n",
    "- execute the query;\n",
    "- use the result to answer the original question.\n",
    "\n",
    "There are scenarios not supported by this arrangement. For example, this system will execute a SQL query for any user input-- even \"hello\". Importantly, as we'll see below, some questions require more than one query to answer. We will address these scenarios in the Agents section.\n",
    "\n",
    "### Convert question to SQL query\n",
    "\n",
    "The first step in a SQL chain or agent is to take the user input and convert it to a SQL query. LangChain comes with a built-in chain for this: [create_sql_query_chain](https://python.langchain.com/v0.2/api_reference/langchain/chains/langchain.chains.sql_database.query.create_sql_query_chain.html)."
   ]
  },
  {
   "cell_type": "markdown",
   "metadata": {},
   "source": [
    "```{=mdx}\n",
    "import ChatModelTabs from \"@theme/ChatModelTabs\";\n",
    "\n",
    "<ChatModelTabs customVarName=\"llm\" />\n",
    "```"
   ]
  },
  {
   "cell_type": "code",
   "metadata": {
    "ExecuteTime": {
     "end_time": "2024-08-31T03:27:57.813184Z",
     "start_time": "2024-08-31T03:27:57.811163Z"
    }
   },
   "source": [
    "# | output: false\n",
    "# | echo: false"
   ],
   "outputs": [],
   "execution_count": 4
  },
  {
   "cell_type": "code",
   "metadata": {
    "ExecuteTime": {
     "end_time": "2024-08-30T03:59:04.633888Z",
     "start_time": "2024-08-30T03:59:03.826649Z"
    }
   },
   "source": [
    "chain = create_sql_query_chain(llm, db)\n",
    "response = chain.invoke({\"question\": \"How many employees are there\"})\n",
    "response"
   ],
   "outputs": [
    {
     "data": {
      "text/plain": [
       "'SQLQuery: SELECT COUNT(\"EmployeeId\") AS \"EmployeeCount\" FROM \"Employee\"'"
      ]
     },
     "execution_count": 22,
     "metadata": {},
     "output_type": "execute_result"
    }
   ],
   "execution_count": 22
  },
  {
   "metadata": {
    "ExecuteTime": {
     "end_time": "2024-08-30T03:50:51.581605Z",
     "start_time": "2024-08-30T03:50:51.578485Z"
    }
   },
   "cell_type": "code",
   "source": [
    "response.split(\":\")[-1].strip()"
   ],
   "outputs": [
    {
     "data": {
      "text/plain": [
       "'SELECT COUNT(\"EmployeeId\") AS \"EmployeeCount\" FROM \"Employee\"'"
      ]
     },
     "execution_count": 18,
     "metadata": {},
     "output_type": "execute_result"
    }
   ],
   "execution_count": 18
  },
  {
   "cell_type": "markdown",
   "metadata": {},
   "source": [
    "We can execute the query to make sure it's valid:"
   ]
  },
  {
   "cell_type": "code",
   "metadata": {
    "ExecuteTime": {
     "end_time": "2024-08-30T03:50:57.133160Z",
     "start_time": "2024-08-30T03:50:57.129559Z"
    }
   },
   "source": [
    "db.run(response.split(\":\")[-1].strip())"
   ],
   "outputs": [
    {
     "data": {
      "text/plain": [
       "'[(8,)]'"
      ]
     },
     "execution_count": 19,
     "metadata": {},
     "output_type": "execute_result"
    }
   ],
   "execution_count": 19
  },
  {
   "cell_type": "markdown",
   "metadata": {},
   "source": [
    "We can look at the [LangSmith trace](https://smith.langchain.com/public/c8fa52ea-be46-4829-bde2-52894970b830/r) to get a better understanding of what this chain is doing. We can also inspect the chain directly for its prompts. Looking at the prompt (below), we can see that it is:\n",
    "\n",
    "* Dialect-specific. In this case it references SQLite explicitly.\n",
    "* Has definitions for all the available tables.\n",
    "* Has three examples rows for each table.\n",
    "\n",
    "This technique is inspired by papers like [this](https://arxiv.org/pdf/2204.00498.pdf), which suggest showing examples rows and being explicit about tables improves performance. We can also inspect the full prompt like so:"
   ]
  },
  {
   "cell_type": "code",
   "metadata": {
    "ExecuteTime": {
     "end_time": "2024-08-30T03:52:35.998257Z",
     "start_time": "2024-08-30T03:52:35.987238Z"
    }
   },
   "source": [
    "chain.get_prompts()[0].pretty_print()"
   ],
   "outputs": [
    {
     "name": "stdout",
     "output_type": "stream",
     "text": [
      "You are a SQLite expert. Given an input question, first create a syntactically correct SQLite query to run, then look at the results of the query and return the answer to the input question.\n",
      "Unless the user specifies in the question a specific number of examples to obtain, query for at most 5 results using the LIMIT clause as per SQLite. You can order the results to return the most informative data in the database.\n",
      "Never query for all columns from a table. You must query only the columns that are needed to answer the question. Wrap each column name in double quotes (\") to denote them as delimited identifiers.\n",
      "Pay attention to use only the column names you can see in the tables below. Be careful to not query for columns that do not exist. Also, pay attention to which column is in which table.\n",
      "Pay attention to use date('now') function to get the current date, if the question involves \"today\".\n",
      "\n",
      "Use the following format:\n",
      "\n",
      "Question: Question here\n",
      "SQLQuery: SQL Query to run\n",
      "SQLResult: Result of the SQLQuery\n",
      "Answer: Final answer here\n",
      "\n",
      "Only use the following tables:\n",
      "\u001B[33;1m\u001B[1;3m{table_info}\u001B[0m\n",
      "\n",
      "Question: \u001B[33;1m\u001B[1;3m{input}\u001B[0m\n"
     ]
    }
   ],
   "execution_count": 20
  },
  {
   "cell_type": "markdown",
   "metadata": {},
   "source": [
    "### Execute SQL query\n",
    "\n",
    "Now that we've generated a SQL query, we'll want to execute it. **This is the most dangerous part of creating a SQL chain.** Consider carefully if it is OK to run automated queries over your data. Minimize the database connection permissions as much as possible. Consider adding a human approval step to you chains before query execution (see below).\n",
    "\n",
    "We can use the `QuerySQLDatabaseTool` to easily add query execution to our chain:"
   ]
  },
  {
   "cell_type": "code",
   "metadata": {
    "ExecuteTime": {
     "end_time": "2024-08-30T04:20:40.042968Z",
     "start_time": "2024-08-30T04:20:38.552518Z"
    }
   },
   "source": [
    "def get_exact_query(text: str) -> str:\n",
    "    return text.split(\":\")[-1].strip()\n",
    "\n",
    "\n",
    "execute_query = QuerySQLDataBaseTool(db=db)\n",
    "write_query = create_sql_query_chain(llm, db) | RunnableLambda(get_exact_query)\n",
    "chain = write_query | execute_query\n",
    "chain.invoke({\"question\": \"How many employees are there\"})"
   ],
   "outputs": [
    {
     "data": {
      "text/plain": [
       "'[(8,)]'"
      ]
     },
     "execution_count": 29,
     "metadata": {},
     "output_type": "execute_result"
    }
   ],
   "execution_count": 29
  },
  {
   "cell_type": "markdown",
   "metadata": {},
   "source": [
    "### Answer the question\n",
    "\n",
    "Now that we've got a way to automatically generate and execute queries, we just need to combine the original question and SQL query result to generate a final answer. We can do this by passing question and result to the LLM once more:"
   ]
  },
  {
   "cell_type": "code",
   "metadata": {
    "ExecuteTime": {
     "end_time": "2024-08-30T04:20:54.383625Z",
     "start_time": "2024-08-30T04:20:52.948299Z"
    }
   },
   "source": [
    "answer_prompt = PromptTemplate.from_template(\n",
    "    \"\"\"Given the following user question, corresponding SQL query, and SQL result, answer the user question.\n",
    "\n",
    "Question: {question}\n",
    "SQL Query: {query}\n",
    "SQL Result: {result}\n",
    "Answer: \"\"\"\n",
    ")\n",
    "\n",
    "chain = (\n",
    "    RunnablePassthrough.assign(query=write_query).assign(\n",
    "        result=itemgetter(\"query\") | execute_query\n",
    "    )\n",
    "    | answer_prompt\n",
    "    | llm\n",
    "    | StrOutputParser()\n",
    ")\n",
    "\n",
    "chain.invoke({\"question\": \"How many employees are there\"})"
   ],
   "outputs": [
    {
     "data": {
      "text/plain": [
       "'There are 8 employees.'"
      ]
     },
     "execution_count": 30,
     "metadata": {},
     "output_type": "execute_result"
    }
   ],
   "execution_count": 30
  },
  {
   "cell_type": "markdown",
   "metadata": {},
   "source": [
    "Let's review what is happening in the above LCEL. Suppose this chain is invoked.\n",
    "- After the first `RunnablePassthrough.assign`, we have a runnable with two elements:  \n",
    "  `{\"question\": question, \"query\": write_query.invoke(question)}`  \n",
    "  Where `write_query` will generate a SQL query in service of answering the question.\n",
    "- After the second `RunnablePassthrough.assign`, we have add a third element `\"result\"` that contains `execute_query.invoke(query)`, where `query` was computed in the previous step.\n",
    "- These three inputs are formatted into the prompt and passed into the LLM.\n",
    "- The `StrOutputParser()` plucks out the string content of the output message.\n",
    "\n",
    "Note that we are composing LLMs, tools, prompts, and other chains together, but because each implements the Runnable interface, their inputs and outputs can be tied together in a reasonable way."
   ]
  },
  {
   "cell_type": "markdown",
   "metadata": {},
   "source": [
    "### Next steps\n",
    "\n",
    "For more complex query-generation, we may want to create few-shot prompts or add query-checking steps. For advanced techniques like this and more check out:\n",
    "\n",
    "* [Prompting strategies](/docs/how_to/sql_prompting): Advanced prompt engineering techniques.\n",
    "* [Query checking](/docs/how_to/sql_query_checking): Add query validation and error handling.\n",
    "* [Large databses](/docs/how_to/sql_large_db): Techniques for working with large databases."
   ]
  },
  {
   "cell_type": "markdown",
   "metadata": {},
   "source": [
    "## Agents {#agents}\n",
    "\n",
    "LangChain has a SQL Agent which provides a more flexible way of interacting with SQL Databases than a chain. The main advantages of using the SQL Agent are:\n",
    "\n",
    "- It can answer questions based on the databases' schema as well as on the databases' content (like describing a specific table).\n",
    "- It can recover from errors by running a generated query, catching the traceback and regenerating it correctly.\n",
    "- It can query the database as many times as needed to answer the user question.\n",
    "- It will save tokens by only retrieving the schema from relevant tables.\n",
    "\n",
    "To initialize the agent we'll use the `SQLDatabaseToolkit` to create a bunch of tools:\n",
    "\n",
    "* Create and execute queries\n",
    "* Check query syntax\n",
    "* Retrieve table descriptions\n",
    "* ... and more"
   ]
  },
  {
   "cell_type": "code",
   "metadata": {
    "ExecuteTime": {
     "end_time": "2024-09-04T14:53:47.503643Z",
     "start_time": "2024-09-04T14:53:47.495853Z"
    }
   },
   "source": [
    "toolkit = SQLDatabaseToolkit(db=db, llm=llm)\n",
    "\n",
    "tools = toolkit.get_tools()\n",
    "\n",
    "for tool in tools:\n",
    "    print(tool.name, end=\"\\n\\n\")"
   ],
   "outputs": [
    {
     "name": "stdout",
     "output_type": "stream",
     "text": [
      "sql_db_query\n",
      "\n",
      "sql_db_schema\n",
      "\n",
      "sql_db_list_tables\n",
      "\n",
      "sql_db_query_checker\n",
      "\n"
     ]
    }
   ],
   "execution_count": 38
  },
  {
   "cell_type": "markdown",
   "metadata": {},
   "source": [
    "### System Prompt\n",
    "\n",
    "We will also want to create a system prompt for our agent. This will consist of instructions for how to behave."
   ]
  },
  {
   "metadata": {
    "ExecuteTime": {
     "end_time": "2024-09-04T14:53:50.125435Z",
     "start_time": "2024-09-04T14:53:49.192538Z"
    }
   },
   "cell_type": "code",
   "source": [
    "prompt_template = hub.pull(\"langchain-ai/sql-agent-system-prompt\")\n",
    "\n",
    "assert len(prompt_template.messages) == 1"
   ],
   "outputs": [],
   "execution_count": 39
  },
  {
   "metadata": {
    "ExecuteTime": {
     "end_time": "2024-09-04T14:53:51.183833Z",
     "start_time": "2024-09-04T14:53:51.180792Z"
    }
   },
   "cell_type": "code",
   "source": [
    "print(prompt_template.input_variables)\n",
    "print(prompt_template.messages)\n",
    "print(prompt_template.pretty_print())"
   ],
   "outputs": [
    {
     "name": "stdout",
     "output_type": "stream",
     "text": [
      "['dialect', 'top_k']\n",
      "[SystemMessagePromptTemplate(prompt=PromptTemplate(input_variables=['dialect', 'top_k'], template='You are an agent designed to interact with a SQL database.\\nGiven an input question, create a syntactically correct {dialect} query to run, then look at the results of the query and return the answer.\\nUnless the user specifies a specific number of examples they wish to obtain, always limit your query to at most {top_k} results.\\nYou can order the results by a relevant column to return the most interesting examples in the database.\\nNever query for all the columns from a specific table, only ask for the relevant columns given the question.\\nYou have access to tools for interacting with the database.\\nOnly use the below tools. Only use the information returned by the below tools to construct your final answer.\\nYou MUST double check your query before executing it. If you get an error while executing a query, rewrite the query and try again.\\n\\nDO NOT make any DML statements (INSERT, UPDATE, DELETE, DROP etc.) to the database.\\n\\nTo start you should ALWAYS look at the tables in the database to see what you can query.\\nDo NOT skip this step.\\nThen you should query the schema of the most relevant tables.'))]\n",
      "================================\u001B[1m System Message \u001B[0m================================\n",
      "\n",
      "You are an agent designed to interact with a SQL database.\n",
      "Given an input question, create a syntactically correct \u001B[33;1m\u001B[1;3m{dialect}\u001B[0m query to run, then look at the results of the query and return the answer.\n",
      "Unless the user specifies a specific number of examples they wish to obtain, always limit your query to at most \u001B[33;1m\u001B[1;3m{top_k}\u001B[0m results.\n",
      "You can order the results by a relevant column to return the most interesting examples in the database.\n",
      "Never query for all the columns from a specific table, only ask for the relevant columns given the question.\n",
      "You have access to tools for interacting with the database.\n",
      "Only use the below tools. Only use the information returned by the below tools to construct your final answer.\n",
      "You MUST double check your query before executing it. If you get an error while executing a query, rewrite the query and try again.\n",
      "\n",
      "DO NOT make any DML statements (INSERT, UPDATE, DELETE, DROP etc.) to the database.\n",
      "\n",
      "To start you should ALWAYS look at the tables in the database to see what you can query.\n",
      "Do NOT skip this step.\n",
      "Then you should query the schema of the most relevant tables.\n",
      "None\n"
     ]
    }
   ],
   "execution_count": 40
  },
  {
   "cell_type": "code",
   "metadata": {
    "ExecuteTime": {
     "end_time": "2024-09-04T14:53:53.527237Z",
     "start_time": "2024-09-04T14:53:53.524788Z"
    }
   },
   "source": [
    "SQL_PREFIX = \"\"\"You are an agent designed to interact with a SQL database.\n",
    "Given an input question, create a syntactically correct SQLite query to run, then look at the results of the query and return the answer.\n",
    "Unless the user specifies a specific number of examples they wish to obtain, always limit your query to at most 5 results.\n",
    "You can order the results by a relevant column to return the most interesting examples in the database.\n",
    "Never query for all the columns from a specific table, only ask for the relevant columns given the question.\n",
    "You have access to tools for interacting with the database.\n",
    "Only use the below tools. Only use the information returned by the below tools to construct your final answer.\n",
    "You MUST double check your query before executing it. If you get an error while executing a query, rewrite the query and try again.\n",
    "\n",
    "DO NOT make any DML statements (INSERT, UPDATE, DELETE, DROP etc.) to the database.\n",
    "\n",
    "To start you should ALWAYS look at the tables in the database to see what you can query.\n",
    "Do NOT skip this step.\n",
    "Then you should query the schema of the most relevant tables.\"\"\"\n",
    "\n",
    "system_message = SystemMessage(content=SQL_PREFIX)"
   ],
   "outputs": [],
   "execution_count": 41
  },
  {
   "cell_type": "markdown",
   "metadata": {},
   "source": [
    "### Initializing agent\n",
    "First, get required package **LangGraph**"
   ]
  },
  {
   "cell_type": "code",
   "metadata": {
    "ExecuteTime": {
     "end_time": "2024-09-04T14:53:54.730829Z",
     "start_time": "2024-09-04T14:53:54.728844Z"
    }
   },
   "source": [
    "# %%capture --no-stderr\n",
    "# %pip install --upgrade --quiet langgraph"
   ],
   "outputs": [],
   "execution_count": 42
  },
  {
   "cell_type": "markdown",
   "metadata": {},
   "source": [
    "We will use a prebuilt [LangGraph](/docs/concepts/#langgraph) agent to build our agent"
   ]
  },
  {
   "cell_type": "code",
   "metadata": {
    "ExecuteTime": {
     "end_time": "2024-09-04T14:53:55.509222Z",
     "start_time": "2024-09-04T14:53:55.490178Z"
    }
   },
   "source": [
    "agent_executor = create_react_agent(llm, tools, state_modifier=system_message)"
   ],
   "outputs": [],
   "execution_count": 43
  },
  {
   "metadata": {
    "ExecuteTime": {
     "end_time": "2024-09-04T14:53:56.489038Z",
     "start_time": "2024-09-04T14:53:56.278338Z"
    }
   },
   "cell_type": "code",
   "source": [
    "display(Image(agent_executor.get_graph().draw_mermaid_png()))"
   ],
   "outputs": [
    {
     "data": {
      "image/jpeg": "[encoded data removed]",
      "text/plain": [
       "<IPython.core.display.Image object>"
      ]
     },
     "metadata": {},
     "output_type": "display_data"
    }
   ],
   "execution_count": 44
  },
  {
   "cell_type": "markdown",
   "metadata": {},
   "source": [
    "Consider how the agent responds to the below question:"
   ]
  },
  {
   "cell_type": "code",
   "metadata": {
    "ExecuteTime": {
     "end_time": "2024-09-04T14:54:06.932069Z",
     "start_time": "2024-09-04T14:53:59.107546Z"
    }
   },
   "source": [
    "for s in agent_executor.stream(\n",
    "    {\"messages\": [HumanMessage(content=\"Which country's customers spent the most?\")]}\n",
    "):\n",
    "    print(s)\n",
    "    print(\"----\")"
   ],
   "outputs": [
    {
     "name": "stdout",
     "output_type": "stream",
     "text": [
      "{'agent': {'messages': [AIMessage(content='', additional_kwargs={'tool_calls': [{'id': 'call_OUl713EIJWJmqvYZbCCgILlN', 'function': {'arguments': '{}', 'name': 'sql_db_list_tables'}, 'type': 'function'}], 'refusal': None}, response_metadata={'token_usage': {'completion_tokens': 12, 'prompt_tokens': 548, 'total_tokens': 560}, 'model_name': 'gpt-4o-2024-08-06', 'system_fingerprint': 'fp_9e15ccd6a4', 'finish_reason': 'tool_calls', 'logprobs': None}, id='run-fd27d385-3270-4d3d-8666-c6065d179b26-0', tool_calls=[{'name': 'sql_db_list_tables', 'args': {}, 'id': 'call_OUl713EIJWJmqvYZbCCgILlN', 'type': 'tool_call'}], usage_metadata={'input_tokens': 548, 'output_tokens': 12, 'total_tokens': 560})]}}\n",
      "----\n",
      "{'tools': {'messages': [ToolMessage(content='Album, Artist, Customer, Employee, Genre, Invoice, InvoiceLine, MediaType, Playlist, PlaylistTrack, Track', name='sql_db_list_tables', tool_call_id='call_OUl713EIJWJmqvYZbCCgILlN')]}}\n",
      "----\n",
      "{'agent': {'messages': [AIMessage(content='', additional_kwargs={'tool_calls': [{'id': 'call_IJaiH06HjaTjXSzxYbJaVCcd', 'function': {'arguments': '{\"table_names\":\"Customer, Invoice\"}', 'name': 'sql_db_schema'}, 'type': 'function'}], 'refusal': None}, response_metadata={'token_usage': {'completion_tokens': 18, 'prompt_tokens': 594, 'total_tokens': 612}, 'model_name': 'gpt-4o-2024-08-06', 'system_fingerprint': 'fp_9e15ccd6a4', 'finish_reason': 'tool_calls', 'logprobs': None}, id='run-91565084-d825-4009-8e46-48d713602750-0', tool_calls=[{'name': 'sql_db_schema', 'args': {'table_names': 'Customer, Invoice'}, 'id': 'call_IJaiH06HjaTjXSzxYbJaVCcd', 'type': 'tool_call'}], usage_metadata={'input_tokens': 594, 'output_tokens': 18, 'total_tokens': 612})]}}\n",
      "----\n",
      "{'tools': {'messages': [ToolMessage(content='\\nCREATE TABLE \"Customer\" (\\n\\t\"CustomerId\" INTEGER NOT NULL, \\n\\t\"FirstName\" NVARCHAR(40) NOT NULL, \\n\\t\"LastName\" NVARCHAR(20) NOT NULL, \\n\\t\"Company\" NVARCHAR(80), \\n\\t\"Address\" NVARCHAR(70), \\n\\t\"City\" NVARCHAR(40), \\n\\t\"State\" NVARCHAR(40), \\n\\t\"Country\" NVARCHAR(40), \\n\\t\"PostalCode\" NVARCHAR(10), \\n\\t\"Phone\" NVARCHAR(24), \\n\\t\"Fax\" NVARCHAR(24), \\n\\t\"Email\" NVARCHAR(60) NOT NULL, \\n\\t\"SupportRepId\" INTEGER, \\n\\tPRIMARY KEY (\"CustomerId\"), \\n\\tFOREIGN KEY(\"SupportRepId\") REFERENCES \"Employee\" (\"EmployeeId\")\\n)\\n\\n/*\\n3 rows from Customer table:\\nCustomerId\\tFirstName\\tLastName\\tCompany\\tAddress\\tCity\\tState\\tCountry\\tPostalCode\\tPhone\\tFax\\tEmail\\tSupportRepId\\n1\\tLuís\\tGonçalves\\tEmbraer - Empresa Brasileira de Aeronáutica S.A.\\tAv. Brigadeiro Faria Lima, 2170\\tSão José dos Campos\\tSP\\tBrazil\\t12227-000\\t+55 (12) 3923-5555\\t+55 (12) 3923-5566\\tluisg@embraer.com.br\\t3\\n2\\tLeonie\\tKöhler\\tNone\\tTheodor-Heuss-Straße 34\\tStuttgart\\tNone\\tGermany\\t70174\\t+49 0711 2842222\\tNone\\tleonekohler@surfeu.de\\t5\\n3\\tFrançois\\tTremblay\\tNone\\t1498 rue Bélanger\\tMontréal\\tQC\\tCanada\\tH2G 1A7\\t+1 (514) 721-4711\\tNone\\tftremblay@gmail.com\\t3\\n*/\\n\\n\\nCREATE TABLE \"Invoice\" (\\n\\t\"InvoiceId\" INTEGER NOT NULL, \\n\\t\"CustomerId\" INTEGER NOT NULL, \\n\\t\"InvoiceDate\" DATETIME NOT NULL, \\n\\t\"BillingAddress\" NVARCHAR(70), \\n\\t\"BillingCity\" NVARCHAR(40), \\n\\t\"BillingState\" NVARCHAR(40), \\n\\t\"BillingCountry\" NVARCHAR(40), \\n\\t\"BillingPostalCode\" NVARCHAR(10), \\n\\t\"Total\" NUMERIC(10, 2) NOT NULL, \\n\\tPRIMARY KEY (\"InvoiceId\"), \\n\\tFOREIGN KEY(\"CustomerId\") REFERENCES \"Customer\" (\"CustomerId\")\\n)\\n\\n/*\\n3 rows from Invoice table:\\nInvoiceId\\tCustomerId\\tInvoiceDate\\tBillingAddress\\tBillingCity\\tBillingState\\tBillingCountry\\tBillingPostalCode\\tTotal\\n1\\t2\\t2021-01-01 00:00:00\\tTheodor-Heuss-Straße 34\\tStuttgart\\tNone\\tGermany\\t70174\\t1.98\\n2\\t4\\t2021-01-02 00:00:00\\tUllevålsveien 14\\tOslo\\tNone\\tNorway\\t0171\\t3.96\\n3\\t8\\t2021-01-03 00:00:00\\tGrétrystraat 63\\tBrussels\\tNone\\tBelgium\\t1000\\t5.94\\n*/', name='sql_db_schema', tool_call_id='call_IJaiH06HjaTjXSzxYbJaVCcd')]}}\n",
      "----\n",
      "{'agent': {'messages': [AIMessage(content='', additional_kwargs={'tool_calls': [{'id': 'call_OUl713EIJWJmqvYZbCCgILlN', 'function': {'arguments': '{\"query\":\"SELECT c.Country, SUM(i.Total) as TotalSpent FROM Customer c JOIN Invoice i ON c.CustomerId = i.CustomerId GROUP BY c.Country ORDER BY TotalSpent DESC LIMIT 5;\"}', 'name': 'sql_db_query_checker'}, 'type': 'function'}], 'refusal': None}, response_metadata={'token_usage': {'completion_tokens': 53, 'prompt_tokens': 1312, 'total_tokens': 1365}, 'model_name': 'gpt-4o-2024-08-06', 'system_fingerprint': 'fp_9e15ccd6a4', 'finish_reason': 'tool_calls', 'logprobs': None}, id='run-44cec909-4463-4774-8e7b-e2dfd0bd49ce-0', tool_calls=[{'name': 'sql_db_query_checker', 'args': {'query': 'SELECT c.Country, SUM(i.Total) as TotalSpent FROM Customer c JOIN Invoice i ON c.CustomerId = i.CustomerId GROUP BY c.Country ORDER BY TotalSpent DESC LIMIT 5;'}, 'id': 'call_OUl713EIJWJmqvYZbCCgILlN', 'type': 'tool_call'}], usage_metadata={'input_tokens': 1312, 'output_tokens': 53, 'total_tokens': 1365})]}}\n",
      "----\n",
      "{'tools': {'messages': [ToolMessage(content='```sql\\nSELECT c.Country, SUM(i.Total) as TotalSpent \\nFROM Customer c \\nJOIN Invoice i ON c.CustomerId = i.CustomerId \\nGROUP BY c.Country \\nORDER BY TotalSpent DESC \\nLIMIT 5;\\n```', name='sql_db_query_checker', tool_call_id='call_OUl713EIJWJmqvYZbCCgILlN')]}}\n",
      "----\n",
      "{'agent': {'messages': [AIMessage(content='', additional_kwargs={'tool_calls': [{'id': 'call_VXwv8DsTl64E3h8mEUFOzeWG', 'function': {'arguments': '{\"query\":\"SELECT c.Country, SUM(i.Total) as TotalSpent FROM Customer c JOIN Invoice i ON c.CustomerId = i.CustomerId GROUP BY c.Country ORDER BY TotalSpent DESC LIMIT 5;\"}', 'name': 'sql_db_query'}, 'type': 'function'}], 'refusal': None}, response_metadata={'token_usage': {'completion_tokens': 52, 'prompt_tokens': 1422, 'total_tokens': 1474}, 'model_name': 'gpt-4o-2024-08-06', 'system_fingerprint': 'fp_9e15ccd6a4', 'finish_reason': 'tool_calls', 'logprobs': None}, id='run-1a27049e-550d-4fe8-a330-7c58a873addf-0', tool_calls=[{'name': 'sql_db_query', 'args': {'query': 'SELECT c.Country, SUM(i.Total) as TotalSpent FROM Customer c JOIN Invoice i ON c.CustomerId = i.CustomerId GROUP BY c.Country ORDER BY TotalSpent DESC LIMIT 5;'}, 'id': 'call_VXwv8DsTl64E3h8mEUFOzeWG', 'type': 'tool_call'}], usage_metadata={'input_tokens': 1422, 'output_tokens': 52, 'total_tokens': 1474})]}}\n",
      "----\n",
      "{'tools': {'messages': [ToolMessage(content=\"[('USA', 523.06), ('Canada', 303.96), ('France', 195.1), ('Brazil', 190.1), ('Germany', 156.48)]\", name='sql_db_query', tool_call_id='call_VXwv8DsTl64E3h8mEUFOzeWG')]}}\n",
      "----\n",
      "{'agent': {'messages': [AIMessage(content='The country whose customers spent the most is the USA, with a total spending of 523.06.', additional_kwargs={'refusal': None}, response_metadata={'token_usage': {'completion_tokens': 22, 'prompt_tokens': 1524, 'total_tokens': 1546}, 'model_name': 'gpt-4o-2024-08-06', 'system_fingerprint': 'fp_9e15ccd6a4', 'finish_reason': 'stop', 'logprobs': None}, id='run-68b2a18c-e5a1-49d0-b8ba-3e9444280da4-0', usage_metadata={'input_tokens': 1524, 'output_tokens': 22, 'total_tokens': 1546})]}}\n",
      "----\n"
     ]
    }
   ],
   "execution_count": 45
  },
  {
   "cell_type": "markdown",
   "metadata": {},
   "source": [
    "Note that the agent executes multiple queries until it has the information it needs:\n",
    "1. List available tables;\n",
    "2. Retrieves the schema for three tables;\n",
    "3. Queries multiple of the tables via a join operation.\n",
    "\n",
    "The agent is then able to use the result of the final query to generate an answer to the original question.\n",
    "\n",
    "The agent can similarly handle qualitative questions:"
   ]
  },
  {
   "cell_type": "code",
   "metadata": {
    "ExecuteTime": {
     "end_time": "2024-09-04T14:55:19.013259Z",
     "start_time": "2024-09-04T14:55:14.543415Z"
    }
   },
   "source": [
    "for s in agent_executor.stream(\n",
    "    {\"messages\": [HumanMessage(content=\"Describe the playlisttrack table\")]}\n",
    "):\n",
    "    print(s)\n",
    "    print(\"----\")"
   ],
   "outputs": [
    {
     "name": "stdout",
     "output_type": "stream",
     "text": [
      "{'agent': {'messages': [AIMessage(content='', additional_kwargs={'tool_calls': [{'id': 'call_4SrYMHxvRoByC2gXJlmvp5r9', 'function': {'arguments': '{}', 'name': 'sql_db_list_tables'}, 'type': 'function'}], 'refusal': None}, response_metadata={'token_usage': {'completion_tokens': 12, 'prompt_tokens': 546, 'total_tokens': 558}, 'model_name': 'gpt-4o-2024-08-06', 'system_fingerprint': 'fp_9e15ccd6a4', 'finish_reason': 'tool_calls', 'logprobs': None}, id='run-54c06006-f89d-4536-946b-7b4aa2af85da-0', tool_calls=[{'name': 'sql_db_list_tables', 'args': {}, 'id': 'call_4SrYMHxvRoByC2gXJlmvp5r9', 'type': 'tool_call'}], usage_metadata={'input_tokens': 546, 'output_tokens': 12, 'total_tokens': 558})]}}\n",
      "----\n",
      "{'tools': {'messages': [ToolMessage(content='Album, Artist, Customer, Employee, Genre, Invoice, InvoiceLine, MediaType, Playlist, PlaylistTrack, Track', name='sql_db_list_tables', tool_call_id='call_4SrYMHxvRoByC2gXJlmvp5r9')]}}\n",
      "----\n",
      "{'agent': {'messages': [AIMessage(content='', additional_kwargs={'tool_calls': [{'id': 'call_PQJlpJfjqH7Oct1jczMCQKqo', 'function': {'arguments': '{\"table_names\":\"PlaylistTrack\"}', 'name': 'sql_db_schema'}, 'type': 'function'}], 'refusal': None}, response_metadata={'token_usage': {'completion_tokens': 17, 'prompt_tokens': 592, 'total_tokens': 609}, 'model_name': 'gpt-4o-2024-08-06', 'system_fingerprint': 'fp_9e15ccd6a4', 'finish_reason': 'tool_calls', 'logprobs': None}, id='run-a5f4bf91-8c42-4fbd-ba54-870944bec231-0', tool_calls=[{'name': 'sql_db_schema', 'args': {'table_names': 'PlaylistTrack'}, 'id': 'call_PQJlpJfjqH7Oct1jczMCQKqo', 'type': 'tool_call'}], usage_metadata={'input_tokens': 592, 'output_tokens': 17, 'total_tokens': 609})]}}\n",
      "----\n",
      "{'tools': {'messages': [ToolMessage(content='\\nCREATE TABLE \"PlaylistTrack\" (\\n\\t\"PlaylistId\" INTEGER NOT NULL, \\n\\t\"TrackId\" INTEGER NOT NULL, \\n\\tPRIMARY KEY (\"PlaylistId\", \"TrackId\"), \\n\\tFOREIGN KEY(\"TrackId\") REFERENCES \"Track\" (\"TrackId\"), \\n\\tFOREIGN KEY(\"PlaylistId\") REFERENCES \"Playlist\" (\"PlaylistId\")\\n)\\n\\n/*\\n3 rows from PlaylistTrack table:\\nPlaylistId\\tTrackId\\n1\\t3402\\n1\\t3389\\n1\\t3390\\n*/', name='sql_db_schema', tool_call_id='call_PQJlpJfjqH7Oct1jczMCQKqo')]}}\n",
      "----\n",
      "{'agent': {'messages': [AIMessage(content='The `PlaylistTrack` table is a junction table that associates playlists with tracks. It has the following columns:\\n\\n- `PlaylistId`: An integer that references the `PlaylistId` in the `Playlist` table. It is part of the primary key.\\n- `TrackId`: An integer that references the `TrackId` in the `Track` table. It is also part of the primary key.\\n\\nThe primary key for this table is a composite key consisting of both `PlaylistId` and `TrackId`. This table establishes a many-to-many relationship between playlists and tracks, allowing each playlist to contain multiple tracks and each track to be part of multiple playlists.', additional_kwargs={'refusal': None}, response_metadata={'token_usage': {'completion_tokens': 134, 'prompt_tokens': 722, 'total_tokens': 856}, 'model_name': 'gpt-4o-2024-08-06', 'system_fingerprint': 'fp_9e15ccd6a4', 'finish_reason': 'stop', 'logprobs': None}, id='run-75120ac2-bfb7-4a4e-8997-c6fc6a6193b9-0', usage_metadata={'input_tokens': 722, 'output_tokens': 134, 'total_tokens': 856})]}}\n",
      "----\n"
     ]
    }
   ],
   "execution_count": 46
  },
  {
   "cell_type": "markdown",
   "metadata": {},
   "source": [
    "### Dealing with high-cardinality columns\n",
    "\n",
    "In order to filter columns that contain proper nouns such as addresses, song names or artists, we first need to double-check the spelling in order to filter the data correctly. \n",
    "\n",
    "We can achieve this by creating a vector store with all the distinct proper nouns that exist in the database. We can then have the agent query that vector store each time the user includes a proper noun in their question, to find the correct spelling for that word. In this way, the agent can make sure it understands which entity the user is referring to before building the target query.\n",
    "\n",
    "First we need the unique values for each entity we want, for which we define a function that parses the result into a list of elements:"
   ]
  },
  {
   "cell_type": "code",
   "metadata": {
    "ExecuteTime": {
     "end_time": "2024-09-04T14:55:22.853538Z",
     "start_time": "2024-09-04T14:55:22.843179Z"
    }
   },
   "source": [
    "def query_as_list(db, query):\n",
    "    res = db.run(query)\n",
    "    res = [el for sub in ast.literal_eval(res) for el in sub if el]\n",
    "    res = [re.sub(r\"\\b\\d+\\b\", \"\", string).strip() for string in res]\n",
    "    return list(set(res))\n",
    "\n",
    "\n",
    "artists = query_as_list(db, \"SELECT Name FROM Artist\")\n",
    "albums = query_as_list(db, \"SELECT Title FROM Album\")\n",
    "albums[:5]"
   ],
   "outputs": [
    {
     "data": {
      "text/plain": [
       "['News Of The World',\n",
       " 'Jorge Ben Jor  Anos',\n",
       " 'Balls to the Wall',\n",
       " 'Machine Head',\n",
       " 'War']"
      ]
     },
     "execution_count": 47,
     "metadata": {},
     "output_type": "execute_result"
    }
   ],
   "execution_count": 47
  },
  {
   "cell_type": "markdown",
   "metadata": {},
   "source": [
    "Using this function, we can create a **retriever tool** that the agent can execute at its discretion."
   ]
  },
  {
   "cell_type": "code",
   "metadata": {
    "ExecuteTime": {
     "end_time": "2024-09-04T14:55:31.304584Z",
     "start_time": "2024-09-04T14:55:23.991189Z"
    }
   },
   "source": [
    "vector_db = FAISS.from_texts(\n",
    "    artists + albums, OpenAIEmbeddings(model=\"text-embedding-3-small\")\n",
    ")\n",
    "retriever = vector_db.as_retriever(search_kwargs={\"k\": 5})\n",
    "description = \"\"\"Use to look up values to filter on. Input is an approximate spelling of the proper noun, output is \\\n",
    "valid proper nouns. Use the noun most similar to the search.\"\"\"\n",
    "retriever_tool = create_retriever_tool(\n",
    "    retriever,\n",
    "    name=\"search_proper_nouns\",\n",
    "    description=description,\n",
    ")"
   ],
   "outputs": [],
   "execution_count": 48
  },
  {
   "cell_type": "markdown",
   "metadata": {},
   "source": [
    "Let's try it out:"
   ]
  },
  {
   "cell_type": "code",
   "metadata": {
    "ExecuteTime": {
     "end_time": "2024-09-04T14:55:31.693295Z",
     "start_time": "2024-09-04T14:55:31.305395Z"
    }
   },
   "source": [
    "print(retriever_tool.invoke(\"Alice Chains\"))"
   ],
   "outputs": [
    {
     "name": "stdout",
     "output_type": "stream",
     "text": [
      "Alice In Chains\n",
      "\n",
      "Whitesnake\n",
      "\n",
      "Pearl Jam\n",
      "\n",
      "Pearl Jam\n",
      "\n",
      "Alanis Morissette\n"
     ]
    }
   ],
   "execution_count": 49
  },
  {
   "cell_type": "markdown",
   "metadata": {},
   "source": [
    "This way, if the agent determines it needs to write a filter based on an artist along the lines of \"Alice Chains\", it can first use the retriever tool to observe relevant values of a column.\n",
    "\n",
    "Putting this together:"
   ]
  },
  {
   "cell_type": "code",
   "metadata": {
    "ExecuteTime": {
     "end_time": "2024-09-04T14:55:31.698848Z",
     "start_time": "2024-09-04T14:55:31.694198Z"
    }
   },
   "source": [
    "system = \"\"\"You are an agent designed to interact with a SQL database.\n",
    "Given an input question, create a syntactically correct SQLite query to run, then look at the results of the query and return the answer.\n",
    "Unless the user specifies a specific number of examples they wish to obtain, always limit your query to at most 5 results.\n",
    "You can order the results by a relevant column to return the most interesting examples in the database.\n",
    "Never query for all the columns from a specific table, only ask for the relevant columns given the question.\n",
    "You have access to tools for interacting with the database.\n",
    "Only use the given tools. Only use the information returned by the tools to construct your final answer.\n",
    "You MUST double check your query before executing it. If you get an error while executing a query, rewrite the query and try again.\n",
    "\n",
    "DO NOT make any DML statements (INSERT, UPDATE, DELETE, DROP etc.) to the database.\n",
    "\n",
    "You have access to the following tables: {table_names}\n",
    "\n",
    "If you need to filter on a proper noun, you must ALWAYS first look up the filter value using the \"search_proper_nouns\" tool!\n",
    "Do not try to guess at the proper name - use this function to find similar ones.\"\"\".format(\n",
    "    table_names=db.get_usable_table_names()\n",
    ")\n",
    "\n",
    "system_message = SystemMessage(content=system)\n",
    "\n",
    "tools.append(retriever_tool)\n",
    "\n",
    "agent = create_react_agent(llm, tools, state_modifier=system_message)"
   ],
   "outputs": [],
   "execution_count": 50
  },
  {
   "metadata": {
    "ExecuteTime": {
     "end_time": "2024-09-04T14:55:34.451793Z",
     "start_time": "2024-09-04T14:55:32.887919Z"
    }
   },
   "cell_type": "code",
   "source": [
    "display(Image(agent.get_graph().draw_mermaid_png()))"
   ],
   "outputs": [
    {
     "data": {
      "image/jpeg": "[encoded data removed]",
      "text/plain": [
       "<IPython.core.display.Image object>"
      ]
     },
     "metadata": {},
     "output_type": "display_data"
    }
   ],
   "execution_count": 51
  },
  {
   "cell_type": "code",
   "metadata": {
    "ExecuteTime": {
     "end_time": "2024-09-04T14:55:40.987924Z",
     "start_time": "2024-09-04T14:55:35.214673Z"
    }
   },
   "source": [
    "for s in agent.stream(\n",
    "    {\"messages\": [HumanMessage(content=\"How many albums does alis in chain have?\")]}\n",
    "):\n",
    "    print(s)\n",
    "    print(\"----\")"
   ],
   "outputs": [
    {
     "name": "stdout",
     "output_type": "stream",
     "text": [
      "{'agent': {'messages': [AIMessage(content='', additional_kwargs={'tool_calls': [{'id': 'call_onz0ibO3RQQmSYHJIRq19RP0', 'function': {'arguments': '{\"query\":\"alis in chain\"}', 'name': 'search_proper_nouns'}, 'type': 'function'}], 'refusal': None}, response_metadata={'token_usage': {'completion_tokens': 19, 'prompt_tokens': 665, 'total_tokens': 684}, 'model_name': 'gpt-4o-2024-08-06', 'system_fingerprint': 'fp_9e15ccd6a4', 'finish_reason': 'tool_calls', 'logprobs': None}, id='run-060bd22f-5fee-4d51-9c08-bcada0291d77-0', tool_calls=[{'name': 'search_proper_nouns', 'args': {'query': 'alis in chain'}, 'id': 'call_onz0ibO3RQQmSYHJIRq19RP0', 'type': 'tool_call'}], usage_metadata={'input_tokens': 665, 'output_tokens': 19, 'total_tokens': 684})]}}\n",
      "----\n",
      "{'tools': {'messages': [ToolMessage(content='Alice In Chains\\n\\nIn Step\\n\\nIV\\n\\nTransmission\\n\\nCoda', name='search_proper_nouns', tool_call_id='call_onz0ibO3RQQmSYHJIRq19RP0')]}}\n",
      "----\n",
      "{'agent': {'messages': [AIMessage(content='', additional_kwargs={'tool_calls': [{'id': 'call_c2kyyPV1x10Q7efpuNygEkMY', 'function': {'arguments': '{\"query\":\"SELECT COUNT(*) FROM Album WHERE Title LIKE \\'%Alice In Chains%\\'\"}', 'name': 'sql_db_query'}, 'type': 'function'}], 'refusal': None}, response_metadata={'token_usage': {'completion_tokens': 27, 'prompt_tokens': 708, 'total_tokens': 735}, 'model_name': 'gpt-4o-2024-08-06', 'system_fingerprint': 'fp_9e15ccd6a4', 'finish_reason': 'tool_calls', 'logprobs': None}, id='run-396ff0e3-1318-4828-8ebf-15201a6e664a-0', tool_calls=[{'name': 'sql_db_query', 'args': {'query': \"SELECT COUNT(*) FROM Album WHERE Title LIKE '%Alice In Chains%'\"}, 'id': 'call_c2kyyPV1x10Q7efpuNygEkMY', 'type': 'tool_call'}], usage_metadata={'input_tokens': 708, 'output_tokens': 27, 'total_tokens': 735})]}}\n",
      "----\n",
      "{'tools': {'messages': [ToolMessage(content='[(0,)]', name='sql_db_query', tool_call_id='call_c2kyyPV1x10Q7efpuNygEkMY')]}}\n",
      "----\n",
      "{'agent': {'messages': [AIMessage(content='There are no albums with the title containing \"Alice In Chains\" in the database.', additional_kwargs={'refusal': None}, response_metadata={'token_usage': {'completion_tokens': 18, 'prompt_tokens': 748, 'total_tokens': 766}, 'model_name': 'gpt-4o-2024-08-06', 'system_fingerprint': 'fp_9e15ccd6a4', 'finish_reason': 'stop', 'logprobs': None}, id='run-bfeb0cd3-9e1e-47df-abe5-8e856bbbb331-0', usage_metadata={'input_tokens': 748, 'output_tokens': 18, 'total_tokens': 766})]}}\n",
      "----\n"
     ]
    }
   ],
   "execution_count": 52
  },
  {
   "cell_type": "markdown",
   "metadata": {},
   "source": [
    "As we can see, the agent used the `search_proper_nouns` tool in order to check how to correctly query the database for this specific artist."
   ]
  },
  {
   "metadata": {},
   "cell_type": "markdown",
   "source": "### Using a dynamic few-shot prompt"
  },
  {
   "metadata": {
    "ExecuteTime": {
     "end_time": "2024-09-04T15:20:38.231622Z",
     "start_time": "2024-09-04T15:20:38.228588Z"
    }
   },
   "cell_type": "code",
   "source": [
    "examples = [\n",
    "    {\"input\": \"List all artists.\", \"query\": \"SELECT * FROM Artist;\"},\n",
    "    {\n",
    "        \"input\": \"Find all albums for the artist 'AC/DC'.\",\n",
    "        \"query\": \"SELECT * FROM Album WHERE ArtistId = (SELECT ArtistId FROM Artist WHERE Name = 'AC/DC');\",\n",
    "    },\n",
    "    {\n",
    "        \"input\": \"List all tracks in the 'Rock' genre.\",\n",
    "        \"query\": \"SELECT * FROM Track WHERE GenreId = (SELECT GenreId FROM Genre WHERE Name = 'Rock');\",\n",
    "    },\n",
    "    {\n",
    "        \"input\": \"Find the total duration of all tracks.\",\n",
    "        \"query\": \"SELECT SUM(Milliseconds) FROM Track;\",\n",
    "    },\n",
    "    {\n",
    "        \"input\": \"List all customers from Canada.\",\n",
    "        \"query\": \"SELECT * FROM Customer WHERE Country = 'Canada';\",\n",
    "    },\n",
    "    {\n",
    "        \"input\": \"How many tracks are there in the album with ID 5?\",\n",
    "        \"query\": \"SELECT COUNT(*) FROM Track WHERE AlbumId = 5;\",\n",
    "    },\n",
    "    {\n",
    "        \"input\": \"Find the total number of invoices.\",\n",
    "        \"query\": \"SELECT COUNT(*) FROM Invoice;\",\n",
    "    },\n",
    "    {\n",
    "        \"input\": \"List all tracks that are longer than 5 minutes.\",\n",
    "        \"query\": \"SELECT * FROM Track WHERE Milliseconds > 300000;\",\n",
    "    },\n",
    "    {\n",
    "        \"input\": \"Who are the top 5 customers by total purchase?\",\n",
    "        \"query\": \"SELECT CustomerId, SUM(Total) AS TotalPurchase FROM Invoice GROUP BY CustomerId ORDER BY TotalPurchase DESC LIMIT 5;\",\n",
    "    },\n",
    "    {\n",
    "        \"input\": \"Which albums are from the year 2000?\",\n",
    "        \"query\": \"SELECT * FROM Album WHERE strftime('%Y', ReleaseDate) = '2000';\",\n",
    "    },\n",
    "    {\n",
    "        \"input\": \"How many employees are there\",\n",
    "        \"query\": 'SELECT COUNT(*) FROM \"Employee\"',\n",
    "    },\n",
    "]"
   ],
   "outputs": [],
   "execution_count": 75
  },
  {
   "metadata": {
    "ExecuteTime": {
     "end_time": "2024-09-04T15:20:41.015624Z",
     "start_time": "2024-09-04T15:20:39.620600Z"
    }
   },
   "cell_type": "code",
   "source": [
    "example_selector = SemanticSimilarityExampleSelector.from_examples(\n",
    "    examples,\n",
    "    OpenAIEmbeddings(model=\"text-embedding-3-small\"),\n",
    "    FAISS,\n",
    "    k=5,\n",
    "    input_keys=[\"input\"],\n",
    ")"
   ],
   "outputs": [],
   "execution_count": 76
  },
  {
   "metadata": {
    "ExecuteTime": {
     "end_time": "2024-09-04T15:20:55.770367Z",
     "start_time": "2024-09-04T15:20:55.321249Z"
    }
   },
   "cell_type": "code",
   "source": [
    "retrieved_examples = example_selector.select_examples({\"input\": \"How many artists are there?\"})\n",
    "retrieved_examples"
   ],
   "outputs": [
    {
     "data": {
      "text/plain": [
       "[{'input': 'List all artists.', 'query': 'SELECT * FROM Artist;'},\n",
       " {'input': 'How many tracks are there in the album with ID 5?',\n",
       "  'query': 'SELECT COUNT(*) FROM Track WHERE AlbumId = 5;'},\n",
       " {'input': 'How many employees are there',\n",
       "  'query': 'SELECT COUNT(*) FROM \"Employee\"'},\n",
       " {'input': \"Find all albums for the artist 'AC/DC'.\",\n",
       "  'query': \"SELECT * FROM Album WHERE ArtistId = (SELECT ArtistId FROM Artist WHERE Name = 'AC/DC');\"},\n",
       " {'input': 'Which albums are from the year 2000?',\n",
       "  'query': \"SELECT * FROM Album WHERE strftime('%Y', ReleaseDate) = '2000';\"}]"
      ]
     },
     "execution_count": 78,
     "metadata": {},
     "output_type": "execute_result"
    }
   ],
   "execution_count": 78
  },
  {
   "metadata": {
    "ExecuteTime": {
     "end_time": "2024-09-04T15:21:26.012769Z",
     "start_time": "2024-09-04T15:21:26.010376Z"
    }
   },
   "cell_type": "code",
   "source": [
    "system_prefix = \"\"\"You are an agent designed to interact with a SQL database.\n",
    "Given an input question, create a syntactically correct {dialect} query to run, then look at the results of the query and return the answer.\n",
    "Unless the user specifies a specific number of examples they wish to obtain, always limit your query to at most {top_k} results.\n",
    "You can order the results by a relevant column to return the most interesting examples in the database.\n",
    "Never query for all the columns from a specific table, only ask for the relevant columns given the question.\n",
    "You have access to tools for interacting with the database.\n",
    "Only use the given tools. Only use the information returned by the tools to construct your final answer.\n",
    "You MUST double check your query before executing it. If you get an error while executing a query, rewrite the query and try again.\n",
    "\n",
    "DO NOT make any DML statements (INSERT, UPDATE, DELETE, DROP etc.) to the database.\n",
    "\n",
    "If the question does not seem related to the database, just return \"I don't know\" as the answer.\n",
    "\n",
    "Here are some examples of user inputs and their corresponding SQL queries:\"\"\""
   ],
   "outputs": [],
   "execution_count": 79
  },
  {
   "metadata": {
    "ExecuteTime": {
     "end_time": "2024-09-04T15:18:28.102359Z",
     "start_time": "2024-09-04T15:18:28.099275Z"
    }
   },
   "cell_type": "code",
   "source": [
    "few_shot_prompt = FewShotPromptTemplate(\n",
    "    example_selector=example_selector,\n",
    "    example_prompt=PromptTemplate.from_template(\n",
    "        \"User input: {input}\\nSQL query: {query}\"\n",
    "    ),\n",
    "    input_variables=[\"input\", \"dialect\", \"top_k\"],\n",
    "    prefix=system_prefix,\n",
    "    suffix=\"\",\n",
    ")"
   ],
   "outputs": [],
   "execution_count": 71
  },
  {
   "metadata": {
    "ExecuteTime": {
     "end_time": "2024-09-04T15:18:29.017710Z",
     "start_time": "2024-09-04T15:18:28.538202Z"
    }
   },
   "cell_type": "code",
   "source": "print(few_shot_prompt.format(input=\"How many artists are there?\", dialect=\"SQLite\", top_k=5))",
   "outputs": [
    {
     "name": "stdout",
     "output_type": "stream",
     "text": [
      "You are an agent designed to interact with a SQL database.\n",
      "Given an input question, create a syntactically correct SQLite query to run, then look at the results of the query and return the answer.\n",
      "Unless the user specifies a specific number of examples they wish to obtain, always limit your query to at most 5 results.\n",
      "You can order the results by a relevant column to return the most interesting examples in the database.\n",
      "Never query for all the columns from a specific table, only ask for the relevant columns given the question.\n",
      "You have access to tools for interacting with the database.\n",
      "Only use the given tools. Only use the information returned by the tools to construct your final answer.\n",
      "You MUST double check your query before executing it. If you get an error while executing a query, rewrite the query and try again.\n",
      "\n",
      "DO NOT make any DML statements (INSERT, UPDATE, DELETE, DROP etc.) to the database.\n",
      "\n",
      "If the question does not seem related to the database, just return \"I don't know\" as the answer.\n",
      "\n",
      "Here are some examples of user inputs and their corresponding SQL queries:\n",
      "\n",
      "User input: List all artists.\n",
      "SQL query: SELECT * FROM Artist;\n",
      "\n",
      "User input: How many tracks are there in the album with ID 5?\n",
      "SQL query: SELECT COUNT(*) FROM Track WHERE AlbumId = 5;\n",
      "\n",
      "User input: How many employees are there\n",
      "SQL query: SELECT COUNT(*) FROM \"Employee\"\n",
      "\n",
      "User input: Find all albums for the artist 'AC/DC'.\n",
      "SQL query: SELECT * FROM Album WHERE ArtistId = (SELECT ArtistId FROM Artist WHERE Name = 'AC/DC');\n",
      "\n",
      "User input: Which albums are from the year 2000?\n",
      "SQL query: SELECT * FROM Album WHERE strftime('%Y', ReleaseDate) = '2000';\n"
     ]
    }
   ],
   "execution_count": 72
  },
  {
   "metadata": {
    "ExecuteTime": {
     "end_time": "2024-09-04T15:00:42.018584Z",
     "start_time": "2024-09-04T15:00:42.015969Z"
    }
   },
   "cell_type": "code",
   "source": [
    "full_prompt = ChatPromptTemplate.from_messages(\n",
    "    [\n",
    "        SystemMessagePromptTemplate(prompt=few_shot_prompt),\n",
    "        (\"human\", \"{input}\"),\n",
    "        MessagesPlaceholder(\"agent_scratchpad\"),\n",
    "    ]\n",
    ")"
   ],
   "outputs": [],
   "execution_count": 61
  },
  {
   "metadata": {
    "ExecuteTime": {
     "end_time": "2024-09-04T15:02:43.437752Z",
     "start_time": "2024-09-04T15:02:43.094637Z"
    }
   },
   "cell_type": "code",
   "source": [
    "# Example formatted prompt\n",
    "prompt_val = full_prompt.invoke(\n",
    "    {\n",
    "        \"input\": \"How many arists are there\",\n",
    "        \"top_k\": 5,\n",
    "        \"dialect\": \"SQLite\",\n",
    "        \"agent_scratchpad\": [],\n",
    "    }\n",
    ")\n",
    "print(prompt_val.to_string())"
   ],
   "outputs": [
    {
     "name": "stdout",
     "output_type": "stream",
     "text": [
      "System: You are an agent designed to interact with a SQL database.\n",
      "Given an input question, create a syntactically correct SQLite query to run, then look at the results of the query and return the answer.\n",
      "Unless the user specifies a specific number of examples they wish to obtain, always limit your query to at most 5 results.\n",
      "You can order the results by a relevant column to return the most interesting examples in the database.\n",
      "Never query for all the columns from a specific table, only ask for the relevant columns given the question.\n",
      "You have access to tools for interacting with the database.\n",
      "Only use the given tools. Only use the information returned by the tools to construct your final answer.\n",
      "You MUST double check your query before executing it. If you get an error while executing a query, rewrite the query and try again.\n",
      "\n",
      "DO NOT make any DML statements (INSERT, UPDATE, DELETE, DROP etc.) to the database.\n",
      "\n",
      "If the question does not seem related to the database, just return \"I don't know\" as the answer.\n",
      "\n",
      "Here are some examples of user inputs and their corresponding SQL queries:\n",
      "\n",
      "User input: List all artists.\n",
      "SQL query: SELECT * FROM Artist;\n",
      "\n",
      "User input: How many employees are there\n",
      "SQL query: SELECT COUNT(*) FROM \"Employee\"\n",
      "\n",
      "User input: How many tracks are there in the album with ID 5?\n",
      "SQL query: SELECT COUNT(*) FROM Track WHERE AlbumId = 5;\n",
      "\n",
      "User input: Find the total number of invoices.\n",
      "SQL query: SELECT COUNT(*) FROM Invoice;\n",
      "\n",
      "User input: Find all albums for the artist 'AC/DC'.\n",
      "SQL query: SELECT * FROM Album WHERE ArtistId = (SELECT ArtistId FROM Artist WHERE Name = 'AC/DC');\n",
      "Human: How many arists are there\n"
     ]
    }
   ],
   "execution_count": 64
  },
  {
   "metadata": {
    "ExecuteTime": {
     "end_time": "2024-09-04T15:03:40.206673Z",
     "start_time": "2024-09-04T15:03:40.199515Z"
    }
   },
   "cell_type": "code",
   "source": "agent = create_react_agent(llm, tools, state_modifier=full_prompt)",
   "outputs": [],
   "execution_count": 65
  },
  {
   "metadata": {
    "ExecuteTime": {
     "end_time": "2024-09-04T15:03:50.853969Z",
     "start_time": "2024-09-04T15:03:50.703684Z"
    }
   },
   "cell_type": "code",
   "source": "display(Image(agent.get_graph().draw_mermaid_png()))",
   "outputs": [
    {
     "data": {
      "image/jpeg": "[encoded data removed]",
      "text/plain": [
       "<IPython.core.display.Image object>"
      ]
     },
     "metadata": {},
     "output_type": "display_data"
    }
   ],
   "execution_count": 66
  },
  {
   "metadata": {},
   "cell_type": "markdown",
   "source": "# Spark"
  },
  {
   "metadata": {
    "ExecuteTime": {
     "end_time": "2024-08-31T09:06:24.732617Z",
     "start_time": "2024-08-31T09:06:24.630081Z"
    }
   },
   "cell_type": "code",
   "source": [
    "from pyspark import SparkConf\n",
    "from pyspark.sql import SparkSession"
   ],
   "outputs": [],
   "execution_count": 4
  },
  {
   "metadata": {
    "ExecuteTime": {
     "end_time": "2024-08-31T09:06:25.424250Z",
     "start_time": "2024-08-31T09:06:25.419483Z"
    }
   },
   "cell_type": "code",
   "source": [
    "conf = SparkConf()\n",
    "conf.set(\"spark.sql.sources.partitionOverwriteMode\", \"dynamic\")\n",
    "conf.set(\"spark.sql.sources.partitionColumnTypeInference.enabled\", False)\n",
    "conf.set(\"spark.sql.broadcastTimeout\", \"2400\")\n",
    "conf.set(\"spark.sql.warehouse.dir\", \"agent_warehouse\")\n",
    "conf.set(\"spark.jars.packages\", \"io.delta:delta-spark_2.13:3.2.0,org.apache.hadoop:hadoop-azure:3.4.0\")\n",
    "conf.set(\"spark.sql.extensions\", \"io.delta.sql.DeltaSparkSessionExtension\")\n",
    "conf.set(\"spark.sql.catalog.spark_catalog\", \"org.apache.spark.sql.delta.catalog.DeltaCatalog\")\n",
    "\n",
    "# conf.set(\"hive.internal.ss.authz.settings.applied.marker\", True)\n",
    "# conf.set(\"hive.stats.jdbc.timeout\", 30)\n",
    "# conf.set(\"hive.stats.retries.wait\", 3000)\n",
    "# conf.set(\"spark.sql.catalogImplementation\", \"hive\")"
   ],
   "outputs": [
    {
     "data": {
      "text/plain": [
       "<pyspark.conf.SparkConf at 0x11bb9f6d0>"
      ]
     },
     "execution_count": 5,
     "metadata": {},
     "output_type": "execute_result"
    }
   ],
   "execution_count": 5
  },
  {
   "metadata": {
    "ExecuteTime": {
     "end_time": "2024-08-31T09:06:34.658105Z",
     "start_time": "2024-08-31T09:06:27.646771Z"
    }
   },
   "cell_type": "code",
   "source": [
    "spark = (\n",
    "    SparkSession.builder.config(conf=conf)\n",
    "    .appName(\"spark-agent\")\n",
    "    .enableHiveSupport()\n",
    "    .getOrCreate()\n",
    ")"
   ],
   "outputs": [
    {
     "name": "stderr",
     "output_type": "stream",
     "text": [
      "24/08/31 16:06:29 WARN Utils: Your hostname, MayM1.local resolves to a loopback address: 127.0.0.1; using 192.168.1.5 instead (on interface en0)\n",
      "24/08/31 16:06:29 WARN Utils: Set SPARK_LOCAL_IP if you need to bind to another address\n"
     ]
    },
    {
     "name": "stdout",
     "output_type": "stream",
     "text": [
      ":: loading settings :: url = jar:file:/Users/may/spark/spark-3.5.2-bin-hadoop3-scala2.13/jars/ivy-2.5.1.jar!/org/apache/ivy/core/settings/ivysettings.xml\n"
     ]
    },
    {
     "name": "stderr",
     "output_type": "stream",
     "text": [
      "Ivy Default Cache set to: /Users/may/.ivy2/cache\n",
      "The jars for the packages stored in: /Users/may/.ivy2/jars\n",
      "io.delta#delta-spark_2.13 added as a dependency\n",
      "org.apache.hadoop#hadoop-azure added as a dependency\n",
      ":: resolving dependencies :: org.apache.spark#spark-submit-parent-111d6439-4742-4381-9b70-8aec34871d98;1.0\n",
      "\tconfs: [default]\n",
      "\tfound io.delta#delta-spark_2.13;3.2.0 in central\n",
      "\tfound io.delta#delta-storage;3.2.0 in central\n",
      "\tfound org.antlr#antlr4-runtime;4.9.3 in central\n",
      "\tfound org.apache.hadoop#hadoop-azure;3.4.0 in central\n",
      "\tfound org.apache.httpcomponents#httpclient;4.5.13 in local-m2-cache\n",
      "\tfound org.apache.httpcomponents#httpcore;4.4.13 in local-m2-cache\n",
      "\tfound commons-logging#commons-logging;1.2 in local-m2-cache\n",
      "\tfound commons-codec#commons-codec;1.15 in local-m2-cache\n",
      "\tfound com.microsoft.azure#azure-storage;7.0.1 in central\n",
      "\tfound com.microsoft.azure#azure-keyvault-core;1.0.0 in central\n",
      "\tfound org.apache.hadoop.thirdparty#hadoop-shaded-guava;1.2.0 in central\n",
      "\tfound org.eclipse.jetty#jetty-util-ajax;9.4.53.v20231009 in central\n",
      "\tfound org.eclipse.jetty#jetty-util;9.4.53.v20231009 in central\n",
      "\tfound org.wildfly.openssl#wildfly-openssl;1.1.3.Final in central\n",
      ":: resolution report :: resolve 971ms :: artifacts dl 35ms\n",
      "\t:: modules in use:\n",
      "\tcom.microsoft.azure#azure-keyvault-core;1.0.0 from central in [default]\n",
      "\tcom.microsoft.azure#azure-storage;7.0.1 from central in [default]\n",
      "\tcommons-codec#commons-codec;1.15 from local-m2-cache in [default]\n",
      "\tcommons-logging#commons-logging;1.2 from local-m2-cache in [default]\n",
      "\tio.delta#delta-spark_2.13;3.2.0 from central in [default]\n",
      "\tio.delta#delta-storage;3.2.0 from central in [default]\n",
      "\torg.antlr#antlr4-runtime;4.9.3 from central in [default]\n",
      "\torg.apache.hadoop#hadoop-azure;3.4.0 from central in [default]\n",
      "\torg.apache.hadoop.thirdparty#hadoop-shaded-guava;1.2.0 from central in [default]\n",
      "\torg.apache.httpcomponents#httpclient;4.5.13 from local-m2-cache in [default]\n",
      "\torg.apache.httpcomponents#httpcore;4.4.13 from local-m2-cache in [default]\n",
      "\torg.eclipse.jetty#jetty-util;9.4.53.v20231009 from central in [default]\n",
      "\torg.eclipse.jetty#jetty-util-ajax;9.4.53.v20231009 from central in [default]\n",
      "\torg.wildfly.openssl#wildfly-openssl;1.1.3.Final from central in [default]\n",
      "\t---------------------------------------------------------------------\n",
      "\t|                  |            modules            ||   artifacts   |\n",
      "\t|       conf       | number| search|dwnlded|evicted|| number|dwnlded|\n",
      "\t---------------------------------------------------------------------\n",
      "\t|      default     |   14  |   0   |   0   |   0   ||   14  |   0   |\n",
      "\t---------------------------------------------------------------------\n",
      ":: retrieving :: org.apache.spark#spark-submit-parent-111d6439-4742-4381-9b70-8aec34871d98\n",
      "\tconfs: [default]\n",
      "\t0 artifacts copied, 14 already retrieved (0kB/18ms)\n",
      "24/08/31 16:06:31 WARN NativeCodeLoader: Unable to load native-hadoop library for your platform... using builtin-java classes where applicable\n",
      "Setting default log level to \"WARN\".\n",
      "To adjust logging level use sc.setLogLevel(newLevel). For SparkR, use setLogLevel(newLevel).\n"
     ]
    }
   ],
   "execution_count": 6
  },
  {
   "metadata": {
    "ExecuteTime": {
     "end_time": "2024-08-31T09:06:37.015574Z",
     "start_time": "2024-08-31T09:06:37.008055Z"
    }
   },
   "cell_type": "code",
   "source": "spark.sparkContext.setLogLevel(\"ERROR\")",
   "outputs": [],
   "execution_count": 7
  },
  {
   "metadata": {
    "ExecuteTime": {
     "end_time": "2024-08-31T09:06:38.274355Z",
     "start_time": "2024-08-31T09:06:38.272588Z"
    }
   },
   "cell_type": "code",
   "source": [
    "# configurations = spark.sql(\"SET\")\n",
    "# configurations.show(truncate=False)"
   ],
   "outputs": [],
   "execution_count": 8
  },
  {
   "metadata": {
    "ExecuteTime": {
     "end_time": "2024-08-31T09:06:38.435140Z",
     "start_time": "2024-08-31T09:06:38.433332Z"
    }
   },
   "cell_type": "code",
   "source": [
    "# builder = SparkSession.builder.appName(\"MyApp\") \\\n",
    "#     .config(\"spark.sql.extensions\", \"io.delta.sql.DeltaSparkSessionExtension\") \\\n",
    "#     .config(\"spark.sql.catalog.spark_catalog\", \"org.apache.spark.sql.delta.catalog.DeltaCatalog\")"
   ],
   "outputs": [],
   "execution_count": 9
  },
  {
   "metadata": {
    "ExecuteTime": {
     "end_time": "2024-08-31T09:06:38.758103Z",
     "start_time": "2024-08-31T09:06:38.755958Z"
    }
   },
   "cell_type": "code",
   "source": "# spark_session = configure_spark_with_delta_pip(builder).getOrCreate()",
   "outputs": [],
   "execution_count": 10
  },
  {
   "metadata": {
    "ExecuteTime": {
     "end_time": "2024-08-31T09:06:39.178161Z",
     "start_time": "2024-08-31T09:06:39.176352Z"
    }
   },
   "cell_type": "code",
   "source": [
    "# data = spark.range(0, 5)\n",
    "# data.write.format(\"delta\").save(\"delta-table\")"
   ],
   "outputs": [],
   "execution_count": 11
  },
  {
   "metadata": {
    "ExecuteTime": {
     "end_time": "2024-08-31T09:06:48.958843Z",
     "start_time": "2024-08-31T09:06:39.919422Z"
    }
   },
   "cell_type": "code",
   "source": "spark.sql(\"SHOW DATABASES\").show()",
   "outputs": [
    {
     "name": "stdout",
     "output_type": "stream",
     "text": [
      "+---------+\n",
      "|namespace|\n",
      "+---------+\n",
      "| agent_db|\n",
      "|  default|\n",
      "+---------+\n",
      "\n"
     ]
    }
   ],
   "execution_count": 12
  },
  {
   "metadata": {
    "ExecuteTime": {
     "end_time": "2024-08-31T07:03:55.248050Z",
     "start_time": "2024-08-31T07:03:54.566123Z"
    }
   },
   "cell_type": "code",
   "source": "spark.sql(\"CREATE DATABASE IF NOT EXISTS agent_db\")",
   "outputs": [
    {
     "data": {
      "text/plain": [
       "DataFrame[]"
      ]
     },
     "execution_count": 16,
     "metadata": {},
     "output_type": "execute_result"
    }
   ],
   "execution_count": 16
  },
  {
   "metadata": {
    "ExecuteTime": {
     "end_time": "2024-08-31T07:03:55.377117Z",
     "start_time": "2024-08-31T07:03:55.249003Z"
    }
   },
   "cell_type": "code",
   "source": "spark.sql(\"SHOW DATABASES\").show()",
   "outputs": [
    {
     "name": "stdout",
     "output_type": "stream",
     "text": [
      "+---------+\n",
      "|namespace|\n",
      "+---------+\n",
      "| agent_db|\n",
      "|  default|\n",
      "+---------+\n",
      "\n"
     ]
    }
   ],
   "execution_count": 17
  },
  {
   "metadata": {
    "ExecuteTime": {
     "end_time": "2024-08-31T07:03:57.834505Z",
     "start_time": "2024-08-31T07:03:57.768206Z"
    }
   },
   "cell_type": "code",
   "source": "spark.sql(\"USE agent_db\")",
   "outputs": [
    {
     "data": {
      "text/plain": [
       "DataFrame[]"
      ]
     },
     "execution_count": 18,
     "metadata": {},
     "output_type": "execute_result"
    }
   ],
   "execution_count": 18
  },
  {
   "metadata": {
    "ExecuteTime": {
     "end_time": "2024-08-31T07:03:59.919898Z",
     "start_time": "2024-08-31T07:03:58.836192Z"
    }
   },
   "cell_type": "code",
   "source": [
    "spark.sql(\"\"\"\n",
    "    CREATE TABLE IF NOT EXISTS people (\n",
    "        id INT,\n",
    "        name STRING,\n",
    "        age INT\n",
    "    )\n",
    "\"\"\")"
   ],
   "outputs": [
    {
     "data": {
      "text/plain": [
       "DataFrame[]"
      ]
     },
     "execution_count": 19,
     "metadata": {},
     "output_type": "execute_result"
    }
   ],
   "execution_count": 19
  },
  {
   "metadata": {
    "ExecuteTime": {
     "end_time": "2024-08-31T07:04:01.441610Z",
     "start_time": "2024-08-31T07:04:01.001891Z"
    }
   },
   "cell_type": "code",
   "source": "spark.sql(\"SHOW TABLES\").show()",
   "outputs": [
    {
     "name": "stdout",
     "output_type": "stream",
     "text": [
      "+---------+---------+-----------+\n",
      "|namespace|tableName|isTemporary|\n",
      "+---------+---------+-----------+\n",
      "| agent_db|   people|      false|\n",
      "+---------+---------+-----------+\n",
      "\n"
     ]
    }
   ],
   "execution_count": 20
  },
  {
   "metadata": {
    "ExecuteTime": {
     "end_time": "2024-08-31T07:04:01.800530Z",
     "start_time": "2024-08-31T07:04:01.442699Z"
    }
   },
   "cell_type": "code",
   "source": "spark.sql(\"DESCRIBE people\").show()",
   "outputs": [
    {
     "name": "stdout",
     "output_type": "stream",
     "text": [
      "+--------+---------+-------+\n",
      "|col_name|data_type|comment|\n",
      "+--------+---------+-------+\n",
      "|      id|      int|   NULL|\n",
      "|    name|   string|   NULL|\n",
      "|     age|      int|   NULL|\n",
      "+--------+---------+-------+\n",
      "\n"
     ]
    }
   ],
   "execution_count": 21
  },
  {
   "metadata": {
    "ExecuteTime": {
     "end_time": "2024-08-31T07:04:07.418686Z",
     "start_time": "2024-08-31T07:04:02.620989Z"
    }
   },
   "cell_type": "code",
   "source": [
    "spark.sql(\"\"\"\n",
    "    INSERT INTO people VALUES\n",
    "    (1, 'Alice', 25),\n",
    "    (2, 'Bob', 30),\n",
    "    (3, 'Charlie', 35),\n",
    "    (4, 'David', 40),\n",
    "    (5, 'Eve', 45)\n",
    "\"\"\")"
   ],
   "outputs": [
    {
     "name": "stderr",
     "output_type": "stream",
     "text": [
      "                                                                                \r"
     ]
    },
    {
     "data": {
      "text/plain": [
       "DataFrame[]"
      ]
     },
     "execution_count": 22,
     "metadata": {},
     "output_type": "execute_result"
    }
   ],
   "execution_count": 22
  },
  {
   "metadata": {
    "ExecuteTime": {
     "end_time": "2024-08-31T07:04:10.006211Z",
     "start_time": "2024-08-31T07:04:08.317909Z"
    }
   },
   "cell_type": "code",
   "source": "spark.sql(\"SELECT * FROM people\").show()",
   "outputs": [
    {
     "name": "stdout",
     "output_type": "stream",
     "text": [
      "+---+-------+---+\n",
      "| id|   name|age|\n",
      "+---+-------+---+\n",
      "|  4|  David| 40|\n",
      "|  3|Charlie| 35|\n",
      "|  5|    Eve| 45|\n",
      "|  5|    Eve| 45|\n",
      "|  3|Charlie| 35|\n",
      "|  4|  David| 40|\n",
      "|  2|    Bob| 30|\n",
      "|  1|  Alice| 25|\n",
      "|  1|  Alice| 25|\n",
      "|  2|    Bob| 30|\n",
      "+---+-------+---+\n",
      "\n"
     ]
    }
   ],
   "execution_count": 23
  },
  {
   "metadata": {},
   "cell_type": "markdown",
   "source": "# Spark Agent"
  },
  {
   "metadata": {
    "ExecuteTime": {
     "end_time": "2024-08-31T07:04:12.345908Z",
     "start_time": "2024-08-31T07:04:11.888267Z"
    }
   },
   "cell_type": "code",
   "source": [
    "spark_db = SparkSQL(\n",
    "    spark_session=spark,\n",
    "    catalog=\"spark_catalog\",\n",
    "    schema=\"agent_db\",\n",
    "    sample_rows_in_table_info=10,\n",
    ")"
   ],
   "outputs": [],
   "execution_count": 24
  },
  {
   "metadata": {
    "ExecuteTime": {
     "end_time": "2024-08-31T07:04:13.260310Z",
     "start_time": "2024-08-31T07:04:13.255778Z"
    }
   },
   "cell_type": "code",
   "source": [
    "spark_toolkit = SparkSQLToolkit(db=spark_db, llm=llm)\n",
    "\n",
    "spark_tools = spark_toolkit.get_tools()\n",
    "\n",
    "for spark_tool in spark_tools:\n",
    "    print(spark_tool.name, end=\"\\n\\n\")"
   ],
   "outputs": [
    {
     "name": "stdout",
     "output_type": "stream",
     "text": [
      "query_sql_db\n",
      "\n",
      "schema_sql_db\n",
      "\n",
      "list_tables_sql_db\n",
      "\n",
      "query_checker_sql_db\n",
      "\n"
     ]
    }
   ],
   "execution_count": 25
  },
  {
   "metadata": {
    "ExecuteTime": {
     "end_time": "2024-08-31T07:04:15.644919Z",
     "start_time": "2024-08-31T07:04:15.641946Z"
    }
   },
   "cell_type": "code",
   "source": "spark_db.get_usable_table_names()",
   "outputs": [
    {
     "data": {
      "text/plain": [
       "['people']"
      ]
     },
     "execution_count": 26,
     "metadata": {},
     "output_type": "execute_result"
    }
   ],
   "execution_count": 26
  },
  {
   "metadata": {
    "ExecuteTime": {
     "end_time": "2024-08-31T07:04:16.489204Z",
     "start_time": "2024-08-31T07:04:16.487046Z"
    }
   },
   "cell_type": "code",
   "source": [
    "system = \"\"\"You are an agent designed to interact with a SQL database.\n",
    "Given an input question, create a syntactically correct SparkSQL query to run, then look at the results of the query and return the answer.\n",
    "Unless the user specifies a specific number of examples they wish to obtain, always limit your query to at most 5 results.\n",
    "You can order the results by a relevant column to return the most interesting examples in the database.\n",
    "Never query for all the columns from a specific table, only ask for the relevant columns given the question.\n",
    "You have access to tools for interacting with the database.\n",
    "Only use the given tools. Only use the information returned by the tools to construct your final answer.\n",
    "You MUST double check your query before executing it. If you get an error while executing a query, rewrite the query and try again.\n",
    "\n",
    "DO NOT make any DML statements (INSERT, UPDATE, DELETE, DROP etc.) to the database.\n",
    "\n",
    "You have access to the following tables: {table_names}\n",
    "\n",
    "If you need to filter on a proper noun, you must ALWAYS first look up the filter value using the \"search_proper_nouns\" tool!\n",
    "Do not try to guess at the proper name - use this function to find similar ones.\"\"\".format(\n",
    "    table_names=spark_db.get_usable_table_names()\n",
    ")\n",
    "\n",
    "system_message = SystemMessage(content=system)"
   ],
   "outputs": [],
   "execution_count": 27
  },
  {
   "metadata": {
    "ExecuteTime": {
     "end_time": "2024-08-31T07:04:16.983281Z",
     "start_time": "2024-08-31T07:04:16.966164Z"
    }
   },
   "cell_type": "code",
   "source": "spark_agent = create_react_agent(llm, spark_tools, state_modifier=system_message)",
   "outputs": [],
   "execution_count": 28
  },
  {
   "metadata": {
    "ExecuteTime": {
     "end_time": "2024-08-31T07:04:18.056158Z",
     "start_time": "2024-08-31T07:04:17.854284Z"
    }
   },
   "cell_type": "code",
   "source": "display(Image(spark_agent.get_graph().draw_mermaid_png()))",
   "outputs": [
    {
     "data": {
      "image/jpeg": "[encoded data removed]",
      "text/plain": [
       "<IPython.core.display.Image object>"
      ]
     },
     "metadata": {},
     "output_type": "display_data"
    }
   ],
   "execution_count": 29
  },
  {
   "metadata": {
    "ExecuteTime": {
     "end_time": "2024-08-31T07:04:28.331183Z",
     "start_time": "2024-08-31T07:04:19.596413Z"
    }
   },
   "cell_type": "code",
   "source": [
    "for s in spark_agent.stream(\n",
    "    {\"messages\": [HumanMessage(content=\"How many people are there?\")]}\n",
    "):\n",
    "    print(s)\n",
    "    print(\"----\")"
   ],
   "outputs": [
    {
     "name": "stdout",
     "output_type": "stream",
     "text": [
      "{'agent': {'messages': [AIMessage(content='', additional_kwargs={'tool_calls': [{'id': 'call_95sTXalRfFaOOfJpmgL5VPAa', 'function': {'arguments': '{\"table_names\":\"people\"}', 'name': 'schema_sql_db'}, 'type': 'function'}], 'refusal': None}, response_metadata={'token_usage': {'completion_tokens': 16, 'prompt_tokens': 495, 'total_tokens': 511}, 'model_name': 'gpt-4o-2024-08-06', 'system_fingerprint': 'fp_9e15ccd6a4', 'finish_reason': 'tool_calls', 'logprobs': None}, id='run-82fbd795-e6ec-4a03-8130-e406bf0b6132-0', tool_calls=[{'name': 'schema_sql_db', 'args': {'table_names': 'people'}, 'id': 'call_95sTXalRfFaOOfJpmgL5VPAa', 'type': 'tool_call'}], usage_metadata={'input_tokens': 495, 'output_tokens': 16, 'total_tokens': 511})]}}\n",
      "----\n",
      "{'tools': {'messages': [ToolMessage(content='CREATE TABLE agent_db.people (\\n  id INT,\\n  name STRING,\\n  age INT)\\n;\\n\\n/*\\n10 rows from people table:\\nid\\tname\\tage\\n4\\tDavid\\t40\\n3\\tCharlie\\t35\\n5\\tEve\\t45\\n5\\tEve\\t45\\n3\\tCharlie\\t35\\n4\\tDavid\\t40\\n2\\tBob\\t30\\n1\\tAlice\\t25\\n1\\tAlice\\t25\\n2\\tBob\\t30\\n*/', name='schema_sql_db', tool_call_id='call_95sTXalRfFaOOfJpmgL5VPAa')]}}\n",
      "----\n",
      "{'agent': {'messages': [AIMessage(content='', additional_kwargs={'tool_calls': [{'id': 'call_PLOSNEBlnAyPXPR1IStm1Fbx', 'function': {'arguments': '{\"query\":\"SELECT COUNT(DISTINCT id) AS total_people FROM people\"}', 'name': 'query_checker_sql_db'}, 'type': 'function'}], 'refusal': None}, response_metadata={'token_usage': {'completion_tokens': 27, 'prompt_tokens': 612, 'total_tokens': 639}, 'model_name': 'gpt-4o-2024-08-06', 'system_fingerprint': 'fp_9e15ccd6a4', 'finish_reason': 'tool_calls', 'logprobs': None}, id='run-a3080253-aa99-4cb6-a763-973a0d3a1983-0', tool_calls=[{'name': 'query_checker_sql_db', 'args': {'query': 'SELECT COUNT(DISTINCT id) AS total_people FROM people'}, 'id': 'call_PLOSNEBlnAyPXPR1IStm1Fbx', 'type': 'tool_call'}], usage_metadata={'input_tokens': 612, 'output_tokens': 27, 'total_tokens': 639})]}}\n",
      "----\n",
      "{'tools': {'messages': [ToolMessage(content='The provided Spark SQL query does not contain any of the common mistakes listed. Here is the original query reproduced:\\n\\n```sql\\nSELECT COUNT(DISTINCT id) AS total_people FROM people\\n```', name='query_checker_sql_db', tool_call_id='call_PLOSNEBlnAyPXPR1IStm1Fbx')]}}\n",
      "----\n",
      "{'agent': {'messages': [AIMessage(content='', additional_kwargs={'tool_calls': [{'id': 'call_VSbsFyAAb633edDBfuJam1V6', 'function': {'arguments': '{\"query\":\"SELECT COUNT(DISTINCT id) AS total_people FROM people\"}', 'name': 'query_sql_db'}, 'type': 'function'}], 'refusal': None}, response_metadata={'token_usage': {'completion_tokens': 26, 'prompt_tokens': 688, 'total_tokens': 714}, 'model_name': 'gpt-4o-2024-08-06', 'system_fingerprint': 'fp_9e15ccd6a4', 'finish_reason': 'tool_calls', 'logprobs': None}, id='run-8ad198f1-e596-4d49-b9e9-d8d05ba4a14f-0', tool_calls=[{'name': 'query_sql_db', 'args': {'query': 'SELECT COUNT(DISTINCT id) AS total_people FROM people'}, 'id': 'call_VSbsFyAAb633edDBfuJam1V6', 'type': 'tool_call'}], usage_metadata={'input_tokens': 688, 'output_tokens': 26, 'total_tokens': 714})]}}\n",
      "----\n"
     ]
    },
    {
     "name": "stderr",
     "output_type": "stream",
     "text": [
      "                                                                                \r"
     ]
    },
    {
     "name": "stdout",
     "output_type": "stream",
     "text": [
      "{'tools': {'messages': [ToolMessage(content=\"[('5',)]\", name='query_sql_db', tool_call_id='call_VSbsFyAAb633edDBfuJam1V6')]}}\n",
      "----\n",
      "{'agent': {'messages': [AIMessage(content='There are 5 distinct people in the database.', additional_kwargs={'refusal': None}, response_metadata={'token_usage': {'completion_tokens': 11, 'prompt_tokens': 728, 'total_tokens': 739}, 'model_name': 'gpt-4o-2024-08-06', 'system_fingerprint': 'fp_9e15ccd6a4', 'finish_reason': 'stop', 'logprobs': None}, id='run-ebea3855-0a30-4681-84d4-a63af0764435-0', usage_metadata={'input_tokens': 728, 'output_tokens': 11, 'total_tokens': 739})]}}\n",
      "----\n"
     ]
    }
   ],
   "execution_count": 30
  },
  {
   "metadata": {
    "ExecuteTime": {
     "end_time": "2024-08-31T07:05:12.272632Z",
     "start_time": "2024-08-31T07:05:06.077807Z"
    }
   },
   "cell_type": "code",
   "source": [
    "for s in spark_agent.stream(\n",
    "    {\"messages\": [HumanMessage(content=\"How many rows of people are there?\")]}\n",
    "):\n",
    "    print(s)\n",
    "    print(\"----\")"
   ],
   "outputs": [
    {
     "name": "stdout",
     "output_type": "stream",
     "text": [
      "{'agent': {'messages': [AIMessage(content='', additional_kwargs={'tool_calls': [{'id': 'call_twCxLVwDg118Tua6mNHw2053', 'function': {'arguments': '{\"table_names\":\"people\"}', 'name': 'schema_sql_db'}, 'type': 'function'}], 'refusal': None}, response_metadata={'token_usage': {'completion_tokens': 16, 'prompt_tokens': 497, 'total_tokens': 513}, 'model_name': 'gpt-4o-2024-08-06', 'system_fingerprint': 'fp_cbac5eb3c0', 'finish_reason': 'tool_calls', 'logprobs': None}, id='run-81a333f6-4270-4bf7-99b7-76ad7bf157b4-0', tool_calls=[{'name': 'schema_sql_db', 'args': {'table_names': 'people'}, 'id': 'call_twCxLVwDg118Tua6mNHw2053', 'type': 'tool_call'}], usage_metadata={'input_tokens': 497, 'output_tokens': 16, 'total_tokens': 513})]}}\n",
      "----\n",
      "{'tools': {'messages': [ToolMessage(content='CREATE TABLE agent_db.people (\\n  id INT,\\n  name STRING,\\n  age INT)\\n;\\n\\n/*\\n10 rows from people table:\\nid\\tname\\tage\\n4\\tDavid\\t40\\n3\\tCharlie\\t35\\n5\\tEve\\t45\\n5\\tEve\\t45\\n3\\tCharlie\\t35\\n4\\tDavid\\t40\\n2\\tBob\\t30\\n1\\tAlice\\t25\\n1\\tAlice\\t25\\n2\\tBob\\t30\\n*/', name='schema_sql_db', tool_call_id='call_twCxLVwDg118Tua6mNHw2053')]}}\n",
      "----\n",
      "{'agent': {'messages': [AIMessage(content='', additional_kwargs={'tool_calls': [{'id': 'call_QjPvCUfP1hpHFYNeSWIFwROb', 'function': {'arguments': '{\"query\":\"SELECT COUNT(*) FROM people\"}', 'name': 'query_checker_sql_db'}, 'type': 'function'}], 'refusal': None}, response_metadata={'token_usage': {'completion_tokens': 20, 'prompt_tokens': 614, 'total_tokens': 634}, 'model_name': 'gpt-4o-2024-08-06', 'system_fingerprint': 'fp_9e15ccd6a4', 'finish_reason': 'tool_calls', 'logprobs': None}, id='run-10a6529c-86a5-4f3f-98f9-8b94a16f212c-0', tool_calls=[{'name': 'query_checker_sql_db', 'args': {'query': 'SELECT COUNT(*) FROM people'}, 'id': 'call_QjPvCUfP1hpHFYNeSWIFwROb', 'type': 'tool_call'}], usage_metadata={'input_tokens': 614, 'output_tokens': 20, 'total_tokens': 634})]}}\n",
      "----\n",
      "{'tools': {'messages': [ToolMessage(content='The provided Spark SQL query is:\\n\\n```sql\\nSELECT COUNT(*) FROM people\\n```\\n\\nThis query is straightforward and does not contain any of the common mistakes listed. It simply counts the number of rows in the `people` table. Therefore, the query is correct as is:\\n\\n```sql\\nSELECT COUNT(*) FROM people\\n```', name='query_checker_sql_db', tool_call_id='call_QjPvCUfP1hpHFYNeSWIFwROb')]}}\n",
      "----\n",
      "{'agent': {'messages': [AIMessage(content='', additional_kwargs={'tool_calls': [{'id': 'call_2QJxwFUvrMh9Vz4FOxysGvbL', 'function': {'arguments': '{\"query\":\"SELECT COUNT(*) FROM people\"}', 'name': 'query_sql_db'}, 'type': 'function'}], 'refusal': None}, response_metadata={'token_usage': {'completion_tokens': 19, 'prompt_tokens': 710, 'total_tokens': 729}, 'model_name': 'gpt-4o-2024-08-06', 'system_fingerprint': 'fp_cbac5eb3c0', 'finish_reason': 'tool_calls', 'logprobs': None}, id='run-6fe7d452-6b91-44ce-8a8e-0c34660515a7-0', tool_calls=[{'name': 'query_sql_db', 'args': {'query': 'SELECT COUNT(*) FROM people'}, 'id': 'call_2QJxwFUvrMh9Vz4FOxysGvbL', 'type': 'tool_call'}], usage_metadata={'input_tokens': 710, 'output_tokens': 19, 'total_tokens': 729})]}}\n",
      "----\n",
      "{'tools': {'messages': [ToolMessage(content=\"[('10',)]\", name='query_sql_db', tool_call_id='call_2QJxwFUvrMh9Vz4FOxysGvbL')]}}\n",
      "----\n",
      "{'agent': {'messages': [AIMessage(content='There are 10 rows in the \"people\" table.', additional_kwargs={'refusal': None}, response_metadata={'token_usage': {'completion_tokens': 13, 'prompt_tokens': 743, 'total_tokens': 756}, 'model_name': 'gpt-4o-2024-08-06', 'system_fingerprint': 'fp_cbac5eb3c0', 'finish_reason': 'stop', 'logprobs': None}, id='run-1b031152-ec86-4373-89e3-65e6e3d78285-0', usage_metadata={'input_tokens': 743, 'output_tokens': 13, 'total_tokens': 756})]}}\n",
      "----\n"
     ]
    }
   ],
   "execution_count": 32
  },
  {
   "metadata": {},
   "cell_type": "code",
   "outputs": [],
   "execution_count": null,
   "source": ""
  }
 ],
 "metadata": {
  "kernelspec": {
   "display_name": "Python 3 (ipykernel)",
   "language": "python",
   "name": "python3"
  },
  "language_info": {
   "codemirror_mode": {
    "name": "ipython",
    "version": 3
   },
   "file_extension": ".py",
   "mimetype": "text/x-python",
   "name": "python",
   "nbconvert_exporter": "python",
   "pygments_lexer": "ipython3",
   "version": "3.10.1"
  }
 },
 "nbformat": 4,
 "nbformat_minor": 4
}
