{
 "cells": [
  {
   "metadata": {
    "ExecuteTime": {
     "end_time": "2025-01-13T15:42:39.207403Z",
     "start_time": "2025-01-13T15:42:38.650130Z"
    }
   },
   "cell_type": "code",
   "source": [
    "import os\n",
    "\n",
    "from langchain_nvidia_ai_endpoints import ChatNVIDIA\n",
    "\n",
    "from dotenv import load_dotenv"
   ],
   "id": "8ad15ff92cdd33",
   "outputs": [],
   "execution_count": 2
  },
  {
   "metadata": {
    "ExecuteTime": {
     "end_time": "2025-01-13T15:42:40.478305Z",
     "start_time": "2025-01-13T15:42:40.466594Z"
    }
   },
   "cell_type": "code",
   "source": "load_dotenv()",
   "id": "18ad11d6c7abef90",
   "outputs": [
    {
     "data": {
      "text/plain": [
       "True"
      ]
     },
     "execution_count": 3,
     "metadata": {},
     "output_type": "execute_result"
    }
   ],
   "execution_count": 3
  },
  {
   "metadata": {
    "ExecuteTime": {
     "end_time": "2025-01-13T15:42:40.938960Z",
     "start_time": "2025-01-13T15:42:40.934605Z"
    }
   },
   "cell_type": "code",
   "source": [
    "api_key = os.getenv(\"NVIDIA_API_KEY\")\n",
    "api_key2 = os.getenv(\"NGC_PERSONAL_KEY\")\n",
    "api_key3 = os.getenv(\"NGC_API_KEY\")"
   ],
   "id": "12a459a70d9657d8",
   "outputs": [],
   "execution_count": 4
  },
  {
   "cell_type": "code",
   "id": "initial_id",
   "metadata": {
    "collapsed": true,
    "ExecuteTime": {
     "end_time": "2025-01-13T16:15:18.258762Z",
     "start_time": "2025-01-13T16:15:18.245221Z"
    }
   },
   "source": [
    "client = ChatNVIDIA(\n",
    "  model=\"meta/llama-3.1-405b-instruct\",\n",
    "  api_key=api_key2,\n",
    "  temperature=0.2,\n",
    "  top_p=0.7,\n",
    "  max_tokens=1024,\n",
    ")"
   ],
   "outputs": [],
   "execution_count": 12
  },
  {
   "metadata": {
    "ExecuteTime": {
     "end_time": "2025-01-13T16:15:20.783448Z",
     "start_time": "2025-01-13T16:15:18.934344Z"
    }
   },
   "cell_type": "code",
   "source": [
    "for chunk in client.stream([{\"role\":\"user\",\"content\":\"Write a limerick about the wonders of GPU computing.\"}]):\n",
    "  print(chunk.content, end=\"\")"
   ],
   "id": "91212fd2ab1b2ab0",
   "outputs": [
    {
     "name": "stdout",
     "output_type": "stream",
     "text": [
      "Here is a limerick about GPU computing:\n",
      "\n",
      "There once was a GPU so fine,\n",
      "Whose parallel processing was divine.\n",
      "It crunched with great zest,\n",
      "Through data it loved best,\n",
      "And made complex tasks truly shine."
     ]
    }
   ],
   "execution_count": 13
  },
  {
   "metadata": {
    "ExecuteTime": {
     "end_time": "2025-01-13T16:15:21.787353Z",
     "start_time": "2025-01-13T16:15:21.783493Z"
    }
   },
   "cell_type": "code",
   "source": [
    "client = ChatNVIDIA(\n",
    "  model=\"nvidia/nemotron-4-340b-instruct\",\n",
    "  api_key=api_key2,\n",
    "  temperature=0.2,\n",
    "  top_p=0.7,\n",
    "  max_tokens=1024,\n",
    ")"
   ],
   "id": "d9ced09fa6aa4cc7",
   "outputs": [],
   "execution_count": 14
  },
  {
   "metadata": {
    "ExecuteTime": {
     "end_time": "2025-01-13T16:15:33.193099Z",
     "start_time": "2025-01-13T16:15:22.337034Z"
    }
   },
   "cell_type": "code",
   "source": [
    "for chunk in client.stream([{\"role\":\"user\",\"content\":\"Write a limerick about the wonders of GPU computing.\"}]):\n",
    "  print(chunk.content, end=\"\")"
   ],
   "id": "51d081a295be9e1b",
   "outputs": [
    {
     "name": "stdout",
     "output_type": "stream",
     "text": [
      "In the realm of computing, where data's the king,\n",
      "GPU power makes everything sing.\n",
      "Parallel processing, so neat,\n",
      "Makes complex tasks a treat,\n",
      "A wonder of tech, it's truly a thing!\n",
      "\n",
      "With thousands of cores, in silicon etched,\n",
      "Through machine learning, they're well-matched.\n",
      "Nvidia, AMD, in the race,\n",
      "To accelerate every place,\n",
      "GPU computing, a marvel, is hatched.\n",
      "\n",
      "From gaming to AI, and scientific research,\n",
      "GPUs help us leap, not just lurch.\n",
      "So here's to the engineers, so bright,\n",
      "Who brought us this marvel, pure delight,\n",
      "GPU computing, a true gem, we search!\n"
     ]
    }
   ],
   "execution_count": 15
  },
  {
   "metadata": {
    "ExecuteTime": {
     "end_time": "2025-01-13T16:24:47.143673Z",
     "start_time": "2025-01-13T16:24:47.138622Z"
    }
   },
   "cell_type": "code",
   "source": [
    "client = ChatNVIDIA(\n",
    "  model=\"ai21labs/jamba-1.5-large-instruct\",\n",
    "  api_key=api_key2,\n",
    "  temperature=0.2,\n",
    "  top_p=0.7,\n",
    "  max_tokens=1024,\n",
    ")"
   ],
   "id": "e5eb3cc8d6b9cca5",
   "outputs": [],
   "execution_count": 22
  },
  {
   "metadata": {
    "ExecuteTime": {
     "end_time": "2025-01-13T16:24:48.751448Z",
     "start_time": "2025-01-13T16:24:47.637705Z"
    }
   },
   "cell_type": "code",
   "source": [
    "for chunk in client.stream([{\"role\":\"user\",\"content\":\"Write a limerick about the wonders of GPU computing.\"}]):\n",
    "  print(chunk.content, end=\"\")"
   ],
   "id": "125131157ecc0646",
   "outputs": [
    {
     "name": "stdout",
     "output_type": "stream",
     "text": [
      " In the realm of the digital scene,\n",
      "Where data flows like a vast, endless stream,\n",
      "GPUs blaze with might,\n",
      "Processing with light,\n",
      "Unleashing the power, a computing dream."
     ]
    }
   ],
   "execution_count": 23
  },
  {
   "metadata": {
    "ExecuteTime": {
     "end_time": "2025-01-13T16:18:39.593033Z",
     "start_time": "2025-01-13T16:18:39.586765Z"
    }
   },
   "cell_type": "code",
   "source": [
    "client = ChatNVIDIA(\n",
    "  model=\"mistralai/mixtral-8x22b-instruct-v0.1\",\n",
    "  api_key=api_key2,\n",
    "  temperature=0.2,\n",
    "  top_p=0.7,\n",
    "  max_tokens=1024,\n",
    ")"
   ],
   "id": "cf1415bea51585cf",
   "outputs": [],
   "execution_count": 18
  },
  {
   "metadata": {
    "ExecuteTime": {
     "end_time": "2025-01-13T16:18:42.246575Z",
     "start_time": "2025-01-13T16:18:40.180377Z"
    }
   },
   "cell_type": "code",
   "source": [
    "for chunk in client.stream([{\"role\":\"user\",\"content\":\"Write a limerick about the wonders of GPU computing.\"}]):\n",
    "  print(chunk.content, end=\"\")"
   ],
   "id": "a6f5172aa05bddd4",
   "outputs": [
    {
     "name": "stdout",
     "output_type": "stream",
     "text": [
      "There once was a GPU so fine,\n",
      "In the world of compute, it did shine.\n",
      "With its parallel might,\n",
      "It processed with light,\n",
      "In the realm of data, it'd dine."
     ]
    }
   ],
   "execution_count": 19
  },
  {
   "metadata": {
    "ExecuteTime": {
     "end_time": "2025-01-13T16:25:33.327522Z",
     "start_time": "2025-01-13T16:25:33.305688Z"
    }
   },
   "cell_type": "code",
   "source": [
    "client = ChatNVIDIA(\n",
    "  model=\"01-ai/yi-large\",\n",
    "  api_key=api_key2,\n",
    "  temperature=0.2,\n",
    "  top_p=0.7,\n",
    "  max_tokens=1024,\n",
    ")"
   ],
   "id": "741858087e057b62",
   "outputs": [],
   "execution_count": 24
  },
  {
   "metadata": {
    "ExecuteTime": {
     "end_time": "2025-01-13T16:25:39.195511Z",
     "start_time": "2025-01-13T16:25:37.890893Z"
    }
   },
   "cell_type": "code",
   "source": [
    "for chunk in client.stream([{\"role\":\"user\",\"content\":\"Write a limerick about the wonders of GPU computing.\"}]):\n",
    "  print(chunk.content, end=\"\")"
   ],
   "id": "e8679ae36784197",
   "outputs": [
    {
     "name": "stdout",
     "output_type": "stream",
     "text": [
      "In a lab with a GPU so grand,\n",
      "A scientist's work was no longer bland.\n",
      "With parallel might,\n",
      "Through the night, it did fight,\n",
      "Solving problems, making the future more bland."
     ]
    }
   ],
   "execution_count": 25
  },
  {
   "metadata": {},
   "cell_type": "code",
   "outputs": [],
   "execution_count": null,
   "source": "",
   "id": "ad24b951489f354b"
  }
 ],
 "metadata": {
  "kernelspec": {
   "display_name": "Python 3",
   "language": "python",
   "name": "python3"
  },
  "language_info": {
   "codemirror_mode": {
    "name": "ipython",
    "version": 2
   },
   "file_extension": ".py",
   "mimetype": "text/x-python",
   "name": "python",
   "nbconvert_exporter": "python",
   "pygments_lexer": "ipython2",
   "version": "2.7.6"
  }
 },
 "nbformat": 4,
 "nbformat_minor": 5
}
