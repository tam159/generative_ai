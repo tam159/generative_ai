{
 "cells": [
  {
   "cell_type": "code",
   "id": "initial_id",
   "metadata": {
    "collapsed": true,
    "ExecuteTime": {
     "end_time": "2025-07-14T01:57:12.485014Z",
     "start_time": "2025-07-14T01:57:12.086646Z"
    }
   },
   "source": [
    "from langchain_openai import ChatOpenAI\n",
    "\n",
    "from dotenv import load_dotenv"
   ],
   "outputs": [],
   "execution_count": 1
  },
  {
   "metadata": {
    "ExecuteTime": {
     "end_time": "2025-07-14T01:57:13.451460Z",
     "start_time": "2025-07-14T01:57:13.445002Z"
    }
   },
   "cell_type": "code",
   "source": "load_dotenv()",
   "id": "c3723e89eb792f6d",
   "outputs": [
    {
     "data": {
      "text/plain": [
       "True"
      ]
     },
     "execution_count": 2,
     "metadata": {},
     "output_type": "execute_result"
    }
   ],
   "execution_count": 2
  },
  {
   "metadata": {
    "ExecuteTime": {
     "end_time": "2025-07-13T02:55:54.835212Z",
     "start_time": "2025-07-13T02:55:54.658302Z"
    }
   },
   "cell_type": "code",
   "source": [
    "model = ChatOpenAI(\n",
    "    base_url=\"http://127.0.0.1:1234/v1\",\n",
    "    model=\"google/gemma-3-27b\")"
   ],
   "id": "98643c67fd20d71f",
   "outputs": [],
   "execution_count": 3
  },
  {
   "metadata": {
    "ExecuteTime": {
     "end_time": "2025-07-13T02:56:53.177784Z",
     "start_time": "2025-07-13T02:55:58.987487Z"
    }
   },
   "cell_type": "code",
   "source": "model.invoke(\"What is the meaning of life?\")",
   "id": "b8b7bb1de63b53b0",
   "outputs": [
    {
     "data": {
      "text/plain": [
       "AIMessage(content='Ah, the big question! There\\'s no single, universally accepted answer to \"the meaning of life.\" It\\'s a question that has plagued philosophers, theologians, and individuals for centuries. Here\\'s a breakdown of different perspectives, categorized to give you a comprehensive overview:\\n\\n**1. Philosophical Perspectives:**\\n\\n* **Nihilism:**  This view argues that life is inherently without meaning, purpose, or intrinsic value. It doesn\\'t necessarily lead to despair; some nihilists find freedom in the lack of pre-defined meaning, allowing them to create their own.\\n* **Existentialism:**  (Sartre, Camus, Kierkegaard) This emphasizes individual freedom and responsibility. Meaning isn\\'t *found*, it\\'s *created* through choices, actions, and experiences.  We are \"condemned to be free\" and must define our own essence through living authentically.  Key concepts: responsibility, freedom, subjectivity.\\n* **Absurdism:** (Camus)  Recognizes the inherent conflict between humanity\\'s search for meaning and the meaningless universe. Instead of despairing, absurdists suggest embracing the absurdity and rebelling against it through passionate living.\\n* **Hedonism:**  The pursuit of pleasure and avoidance of pain is the ultimate goal. Meaning comes from maximizing enjoyable experiences.\\n* **Stoicism:**  Finding meaning through virtue, reason, and acceptance of what we cannot control. Focus on inner peace and living in accordance with nature.  Key concepts: self-control, duty, acceptance.\\n* **Utilitarianism:**  The greatest good for the greatest number of people. Meaning comes from contributing to collective happiness and well-being.\\n* **Objectivism:** (Ayn Rand)  Rational self-interest and achieving one\\'s own values are paramount. Meaning comes from pursuing personal goals and living a productive life.\\n\\n**2. Religious/Spiritual Perspectives:**\\n\\n* **Theism (Christianity, Islam, Judaism, Hinduism etc.):**  Life\\'s meaning is often tied to a divine being or purpose. This can involve serving God, following religious teachings, achieving enlightenment, or preparing for an afterlife.\\n* **Buddhism:**  Overcoming suffering and achieving enlightenment (Nirvana) through practices like meditation, mindfulness, and compassion.  Meaning is found in breaking the cycle of rebirth and achieving liberation.\\n* **Taoism:** Living in harmony with the Tao (the natural order of the universe). Meaning is found through simplicity, balance, and acceptance.\\n* **Spiritual but not Religious:**  Finding meaning through connection to something larger than oneself – nature, the universe, humanity. Often involves personal growth, mindfulness, and compassion.\\n\\n**3. Scientific/Biological Perspectives:**\\n\\n* **Evolutionary Biology:**  From a purely biological standpoint, the \"purpose\" of life is survival and reproduction – passing on genes.  However, this doesn\\'t necessarily address the subjective experience of meaning.\\n* **Neuroscience:**  Meaning can be seen as a construct of the brain, driven by reward systems and social connections.\\n* **Positive Psychology:**  Focuses on well-being, happiness, and flourishing. Meaning can be found through positive emotions, engagement, relationships, meaning, and accomplishment (PERMA model).\\n\\n**4. Personal/Subjective Perspectives:**\\n\\n* **Relationships & Connection:**  Finding meaning through love, friendship, family, and community.\\n* **Contribution & Service:** Making a positive impact on the world through work, volunteering, or activism.\\n* **Creativity & Expression:**  Finding meaning through art, music, writing, or other forms of self-expression.\\n* **Learning & Growth:**  Continuously expanding knowledge, skills, and understanding of the world.\\n* **Experiencing Life:**  Embracing new adventures, challenges, and moments of joy.\\n* **Finding Your Values:**  Living in accordance with what you believe is important – honesty, kindness, justice, etc.\\n\\n\\n\\n**So, what\\'s *the* answer?**\\n\\nThere isn’t one!  The meaning of life is often what *you* make it. It\\'s a deeply personal question, and the answer can evolve over time. \\n\\n**Here are some things to consider as you explore your own meaning:**\\n\\n* **What brings you joy and fulfillment?**\\n* **What are your values?**\\n* **How do you want to make a difference in the world?**\\n* **What kind of legacy do you want to leave behind?**\\n\\nUltimately, the search for meaning is often more important than finding a definitive answer.  It\\'s about living intentionally and creating a life that feels meaningful to *you*.\\n\\n\\n\\nDo you want me to delve deeper into any of these perspectives, or perhaps explore a specific aspect of the meaning of life?  For example, we could talk about:\\n\\n* The role of suffering in finding meaning.\\n* How to create your own personal values.\\n*  The importance of purpose vs. meaning.\\n* The impact of mortality on our search for meaning.', additional_kwargs={'refusal': None}, response_metadata={'token_usage': {'completion_tokens': 1054, 'prompt_tokens': 16, 'total_tokens': 1070, 'completion_tokens_details': None, 'prompt_tokens_details': None}, 'model_name': 'google/gemma-3-27b', 'system_fingerprint': 'google/gemma-3-27b', 'id': 'chatcmpl-xjjzxovnjkbt5gf6zo0cm', 'service_tier': None, 'finish_reason': 'stop', 'logprobs': None}, id='run--e34d4f7e-3131-409f-92bb-904e664d707c-0', usage_metadata={'input_tokens': 16, 'output_tokens': 1054, 'total_tokens': 1070, 'input_token_details': {}, 'output_token_details': {}})"
      ]
     },
     "execution_count": 4,
     "metadata": {},
     "output_type": "execute_result"
    }
   ],
   "execution_count": 4
  },
  {
   "metadata": {
    "ExecuteTime": {
     "end_time": "2025-07-13T03:01:25.452499Z",
     "start_time": "2025-07-13T03:01:21.702627Z"
    }
   },
   "cell_type": "code",
   "source": [
    "for chunk in model.stream(\"Write me a 1 verse song about goldfish on the moon\"):\n",
    "    print(chunk.content, end=\"|\", flush=True)"
   ],
   "id": "ee27e549999cb759",
   "outputs": [
    {
     "name": "stdout",
     "output_type": "stream",
     "text": [
      "(|Gent|le|,| whimsical| tune|)|\n",
      "\n",
      "|In| craters| of| silver| and| dust| so| bright|,|\n",
      "|Swim| goldfish| in| moon|beams|,| a| magical| sight|.| |\n",
      "|No| water| they| need|,| just| st|ardust| to| gle|am|,|\n",
      "|Floating| and| flipping| in| a| lunar| dream|.| |\n",
      "|Little| gold| bubbles| where| silence| has| flown|,|\n",
      "|Gold|fish| on| the| moon|,| happily| alone|!|\n",
      "\n",
      "\n",
      "\n",
      "|||"
     ]
    }
   ],
   "execution_count": 5
  },
  {
   "metadata": {
    "ExecuteTime": {
     "end_time": "2025-07-13T03:03:42.268939Z",
     "start_time": "2025-07-13T03:03:07.850914Z"
    }
   },
   "cell_type": "code",
   "source": [
    "async for chunk in model.astream(\"Write me a long verse song about goldfish on the moon\"):\n",
    "    print(chunk.content, end=\"|\", flush=True)"
   ],
   "id": "ee7c8a75cce98bea",
   "outputs": [
    {
     "name": "stdout",
     "output_type": "stream",
     "text": [
      "##| Lunar| Scales|\n",
      "\n",
      "|(|Finger|picked| acoustic| guitar| intro|,| gentle| and| wist|ful|)|\n",
      "\n",
      "|(|Verse| |1|)|\n",
      "|Old| Man| Tiber|,| a| dreamer| they| said|,|\n",
      "|Built| a| rocket| of| te|ac|ups| and| bread|.|\n",
      "|Said| he|’|d| take| his| companions|,| a| shimmering| crew|,|\n",
      "|To| the| silvery| surface|,| a| brand| new| view|.|\n",
      "|Not| astronauts| bold| with| helmets| and| gear|,|\n",
      "|But| goldfish| in| bowls|,| conquering| doubt| and| fear|.|\n",
      "|Fin|ny| explorers|,| a| splash| in| the| night|,|\n",
      "|To| plant| golden| scales| in| the| pale| moonlight|.| |\n",
      "\n",
      "|(|Verse| |2|)|\n",
      "|He| launched| from| his| garden|,| a| puff| and| a| roar|,|\n",
      "|Past| fire|flies| blinking| and| stars| by| the| score|.|\n",
      "|Bub|bles| ascended| like| wishes| released|,|\n",
      "|Car|rying| Bertram| and| Bess|ie| to| a| lunar| feast|.|\n",
      "|They| floated| in| silence|,| the| Earth| shrinking| down|,|\n",
      "|A| marble| of| blue| with| a| shimmering| crown|.|\n",
      "|Bert|ram| blew| bubbles|,| Bess|ie| just| stared|,|\n",
      "|At| the| crater|ed| landscape| beyond| compare|.|\n",
      "\n",
      "|(|Verse| |3|)|\n",
      "|They| landed| in| Tranqu|ility|,| soft| as| a| sigh|,|\n",
      "|A| gentle| pl|op| echoing| under| the| sky|.|\n",
      "|Old| Man| Tiber| rigged| up| a| life|-|support| dome|,|\n",
      "|A| miniature| ocean|,| a| goldfish|y| home|.|\n",
      "|He| filled| it| with| seaweed| and| pebbles| so| bright|,|\n",
      "|And| oxygen| bubbles| to| keep| them| alight|.|\n",
      "|They| swam| in| their| haven|,| a| curious| pair|,|\n",
      "|The| first| goldfish| citizens| breathing| moon| air|.|\n",
      "\n",
      "|(|Verse| |4|)|\n",
      "|Bert|ram| explored| with| a| flick| of| his| tail|,|\n",
      "|Past| mountains| of| dust| and| a| desolate| trail|.|\n",
      "|He| chased| lunar| shadows|,| a| shimmering| gle|am|,|\n",
      "|And| dreamt| of| the| ocean|,| a| watery| dream|.| |\n",
      "|B|essie| preferred| to| observe| from| afar|,|\n",
      "|Watching| Earth|rise| like| a| luminous| star|.|\n",
      "|She|’|d| wiggle| her| fins| with| a| thoughtful| grace|,|\n",
      "|A| queen| in| her| kingdom| of| time| and| space|.|\n",
      "\n",
      "|(|Verse| |5|)|\n",
      "|They| met| lunar| dust| bunnies|,| fluffy| and| gray|,|\n",
      "|Who| offered| them| moon| rocks| to| brighten| their| day|.| |\n",
      "|They| befri|ended| a| robot| with| gears| and| a| whine|,|\n",
      "|Who| taught| them| to| navigate| by| the| celestial| line|.| |\n",
      "|He| showed| them| the| dark| side|,| a| mystery| untold|,|\n",
      "|And| craters| that| shimmer|ed| like| stories| of| old|.| |\n",
      "|They| learned| about| silence| and| the| vast|ness| above|,|\n",
      "|And| the| quiet| contentment| of| inter|galactic| love|.|\n",
      "\n",
      "|(|Verse| |6|)|\n",
      "|But| Bertram| grew| homes|ick| for| currents| and| flow|,|\n",
      "|For| sunken| ship|w|re|cks| and| coral| ag|low|.| |\n",
      "|B|essie| missed| pebbles| from| Tiber|’|s| own| stream|,|\n",
      "|And| the| warmth| of| the| sunlight|,| a| watery| beam|.| |\n",
      "|So| Tiber| prepared| for| their| journey| back| down|,|\n",
      "|A| rocket| re|-|fueled| in| the| lunar| town|.| |\n",
      "|He| promised| to| tell| of| their| bravery| and| grace|,|\n",
      "|The| goldfish| explorers| who| conquered| space|.|\n",
      "\n",
      "|(|Verse| |7|)|\n",
      "|They| landed| back| softly| in| Tiber|’|s| own| yard|,|\n",
      "|A| splash| and| a| shimmer|,| no| longer| so| hard|.| |\n",
      "|Back| in| their| fish|bowl|,| they| circled| around|,|\n",
      "|With| tales| of| the| moon| and| the| wonders| they|’|d| found|.| |\n",
      "|Old| Man| Tiber| smiled|,| his| dream| had| come| true|,|\n",
      "|Gold|fish| on| the| moon|,| a| shimmering| view|.| |\n",
      "|And| sometimes| at| night|,| when| the| moonlight| is| bright|,|\n",
      "|You| can| see| golden| scales| in| its| silvery| light|.|\n",
      "\n",
      "|(|Out|ro|)|\n",
      "|(|Guitar| slows| and| fades|,| with| a| final| gentle| pluck| of| the| strings|)|\n",
      "|Golden| scales|…| on| the| moon|…| |\n",
      "|A| dream| come| true|…| for| me| and| you|.|\n",
      "\n",
      "\n",
      "\n",
      "|||"
     ]
    }
   ],
   "execution_count": 8
  },
  {
   "metadata": {
    "ExecuteTime": {
     "end_time": "2025-07-14T01:57:28.953272Z",
     "start_time": "2025-07-14T01:57:28.780028Z"
    }
   },
   "cell_type": "code",
   "source": [
    "model = ChatOpenAI(\n",
    "    base_url=\"http://127.0.0.1:1234/v1\",\n",
    "    model=\"qwen/qwen3-32b\")"
   ],
   "id": "cb223c280b094e58",
   "outputs": [],
   "execution_count": 3
  },
  {
   "metadata": {
    "ExecuteTime": {
     "end_time": "2025-07-14T01:58:35.694024Z",
     "start_time": "2025-07-14T01:57:35.854512Z"
    }
   },
   "cell_type": "code",
   "source": [
    "async for chunk in model.astream(\"Write me a long verse song about goldfish on the moon\"):\n",
    "    print(chunk.content, end=\"|\", flush=True)"
   ],
   "id": "46be28f826d3fe4a",
   "outputs": [
    {
     "name": "stdout",
     "output_type": "stream",
     "text": [
      "<think>|\n",
      "|Okay|,| I| need| to| write| a| long| verse| song| about| gold|fish| on| the| moon|.| Let| me| start| brainstorm|ing| ideas|.\n",
      "\n",
      "|First|,| imagine| a| scenario| where| gold|fish| are| living| on| the| moon|.| How| would| that| happen|?| Maybe| they|'re| in| an| aquarium| or| some| kind| of| space| habitat|.| The| contrast| between| the| moon|'s| environment| and| the| delicate| nature| of| gold|fish| could| create| an| interesting| theme|—|maybe| about| adaptation|,| survival|,| or| even| a| metaphor| for| feeling| out| of| place|.\n",
      "\n",
      "|I| should| think| about| structure|:| verses|,| chorus|,| bridge|,| outro|.| Maybe| start| with| setting| the| scene| in| verse| one|—|gold|fish| on| the| moon|.| The| chorus| should| emphasize| their| existence| there| and| maybe| some| emotional| aspect| like| longing| or| beauty|.\n",
      "\n",
      "|Verse| two| could| delve| deeper| into| their| environment|—|maybe| they|'re| powered| by| star|light|,| or| something| about| lunar| phases| affecting| them|.| Maybe| talk| about| challenges| like| no| gravity|,| how| they| swim| through| moon| dust| instead| of| water|.\n",
      "\n",
      "|Ch|orus| repetition| is| important|.| Make| sure| each| chorus| ties| back| the| main| theme|—|gold|fish| on| the| moon| glowing| in| silver| light|.\n",
      "\n",
      "|Bridge| could| introduce| a| narrative| twist| or| deeper| metaphor|ical| meaning|—|perhaps| humans| watching| them|,| scientists| studying| them|,| or| the| gold|fish| longing| for| Earth|.| Maybe| touch| on| themes| like| frag|ility| of| life| versus| harsh| environments|.\n",
      "\n",
      "|Use| imagery| related| to| space|—|cr|aters|,| t|ides| controlled| by| Earth|'s| gravity|,| maybe| moon| phases| mir|roring| their| life| cycles|.\n",
      "\n",
      "|Rh|yme| scheme|—|maybe| AABB| or| AB|AB| for| verses|.| Keep| lines| flowing| smoothly| with| rhyth|mic| structure| suitable| for| song|writing|.\n",
      "\n",
      "|Potential| challenges|:| making| sure| the| moon| environment| matches| gold|fish| biology| creatively| without| being| too| far|-f|etched|.| Use| poetic| license|—|maybe| their| tanks| are| filled| with| moon|water| converted| from| ice| deposits| or| something| mystical|.\n",
      "\n",
      "|Possible| lines|:| \"|Or|bit|ing| in| bubbles| made| of| st|ard|ust|,\"| \"|dance| through| vacuum|'s| h|ush|,\"| etc|.\n",
      "\n",
      "|Also| think| about| emotional| tone|—is| it| melanch|olic|,| magical|,| hopeful|?| Maybe| blend| feelings|—|be|auty| of| adaptation| but| loneliness| of| being| displaced|.\n",
      "\n",
      "|Need| enough| verses| to| make| it| a| long| song| verse| structure|—|maybe| four| verses|?| Plus| chor|uses|,| bridge|,| outro|.\n",
      "\n",
      "|Check| for| consistency| throughout| the| song|—|each| verse| builds| on| the| concept|.| Use| descriptive| language| related| to| both| fish| and| lunar| themes|.\n",
      "\n",
      "|Now| start| drafting| lines| with| these| elements| in| mind|,| ensuring| rhyme| and| rhythm| consistency|.\n",
      "|</think>|\n",
      "\n",
      "|**|Title|:| *|Moon|lit| G|ills|***|  \n",
      "\n",
      "|*(|Verse| 1|)*|  \n",
      "|B|ene|ath| the| stars|’| cold|,| diamond| gle|am|,| they| drift| in| endless| night|,|  \n",
      "|In| glass|y| t|ides| of| captured| air| where| phantom| currents| float|.|  \n",
      "|No| sun| for| them|,| no| l|ily| pads|—|just| moon|lit| silver| seas|,|  \n",
      "|Their| tails| trace| comet| trails| through| tanks| where| galaxies| meet|.|  \n",
      "\n",
      "|*(|Ch|orus|)*|  \n",
      "|Oh| golden| fish| of| lunar| streams|,| you| swirl| in| borrowed| light|—|  \n",
      "|S|cales| shimmer| like| asteroids| caught| singing| through| the| dark|.|  \n",
      "|You|’re| Earth|bound| hearts| in| alien| streams|,| yet| dance| where| t|ides| are| stark|—|  \n",
      "|Gold|fish| on| the| moon|,| glowing| ghosts| in| orbit|’s| fragile| ark|.|  \n",
      "\n",
      "|*(|Verse| 2|)*|  \n",
      "|They| sip| on| plasma|-s|weet|ened| brew|s| from| vents| of| frozen| fire|,|  \n",
      "|Their| g|ills| adapt| to| silent| skies| where| oxygen|’s| scarce| perfume|.|  \n",
      "|No| k|oi| pond|’s| mur|mur| guides| their| glide|—they| read| celestial| charts|,|  \n",
      "|Each| flick|er| maps| the| Earth| below|,| a| pale| blue| after|thought|.|  \n",
      "\n",
      "|*(|Ch|orus|)*|  \n",
      "|Oh| golden| fish| of| lunar| streams|,| you| spiral| past| the| clocks|—|  \n",
      "|In| every| arc|,| a| thousand| years| drift| slow| through| gravity|’s| lack|.|  \n",
      "|You|’re| poets| of| adaptation|—|odd| life| forms| born| out|st|retched|—|  \n",
      "|Gold|fish| on| the| moon|,| swimming| circles| in| time|’s| vast| lack|.|  \n",
      "\n",
      "|*(|Verse| 3|)*|  \n",
      "|Their| eggs| bloom| like| com|ets| burst|,| translucent| spheres| take| flight|—|  \n",
      "|H|atched| in| labs| where| scientists| peer| through| glass| at| nature|’s| twist|.|  \n",
      "|The| fry| spin| tales| of| weight|less| grace| ‘|mid| cr|aters| old| and| deep|,|  \n",
      "|Their| fins| brush| dust| where| astronauts| left| boots|prints| buried| cold| asleep|.|  \n",
      "\n",
      "|*(|Bridge|)*|  \n",
      "|Do| they| miss| the| l|ily|’s| scent|?| The| rain|’s| soft| drum|ming| song|?|  \n",
      "|Or| do| they| dream| of| black|est| skies| where| const|ell|ations| thr|ong|?|  \n",
      "|We|’ve| planted| Earth|’s| most| fragile| life| where| cold| stars| all| ignore|—|  \n",
      "|A| paradox| swims| there|,| bold|—a| gold|fish| in| the| lore|.|  \n",
      "\n",
      "|*(|Verse| 4|)*|  \n",
      "|The| moon|’s| slow| tilt| reveals| their| glow|—a| phase|-shift|ed| l|ull|aby|—|  \n",
      "|They|’re| tether|ed| to| Earth|’s| pull|,| yet| none| ask| why| or| how|.|  \n",
      "|In| silent| tanks| they| write| their| hym|ns| to| vacuum|-b|irth|ed| air|,|  \n",
      "|Each| breath| a| defiance| sung| where| empt|iness| once| cared|.|  \n",
      "\n",
      "|*(|Ch|orus|)*|  \n",
      "|Oh| golden| fish| of| lunar| streams|,| your| fins| et|ch| cosmic| rhyme|—|  \n",
      "|You|’re| both| the| song| and| silent| void| trapped| endlessly| confined|.|  \n",
      "|Odd| life| in| borrowed| oceans|,| stripped| of| earth|bound| signs|—|  \n",
      "|Gold|fish| on| the| moon| blink| once|…| forever| out| of| mind|.|  \n",
      "\n",
      "|*(|Out|ro|)*|  \n",
      "|So| if| you| pass| by| lunar| shores| where| shadow|ed| t|ides| unfold|,|  \n",
      "|Remember| tales| of| g|ilded| souls| in| glass| prisons| bold|—|  \n",
      "|They|’re| more| than| fish| who| stole| the| skies|…| they|’re| Earth|’s| soft| heart| made| odd|,|  \n",
      "|Gold|fish| on| the| moon| whisper| secrets| only| stars| can| hold|.|||"
     ]
    }
   ],
   "execution_count": 4
  },
  {
   "metadata": {},
   "cell_type": "code",
   "outputs": [],
   "execution_count": null,
   "source": "",
   "id": "2c51b6eb9c8393d7"
  }
 ],
 "metadata": {
  "kernelspec": {
   "display_name": "Python 3",
   "language": "python",
   "name": "python3"
  },
  "language_info": {
   "codemirror_mode": {
    "name": "ipython",
    "version": 2
   },
   "file_extension": ".py",
   "mimetype": "text/x-python",
   "name": "python",
   "nbconvert_exporter": "python",
   "pygments_lexer": "ipython2",
   "version": "2.7.6"
  }
 },
 "nbformat": 4,
 "nbformat_minor": 5
}
