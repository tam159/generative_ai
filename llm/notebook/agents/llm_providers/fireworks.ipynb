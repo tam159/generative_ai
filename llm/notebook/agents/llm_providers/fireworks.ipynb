{
 "cells": [
  {
   "cell_type": "code",
   "id": "initial_id",
   "metadata": {
    "collapsed": true,
    "ExecuteTime": {
     "end_time": "2025-02-02T15:34:43.139312Z",
     "start_time": "2025-02-02T15:34:41.405197Z"
    }
   },
   "source": [
    "from dotenv import load_dotenv\n",
    "from langchain_fireworks import ChatFireworks"
   ],
   "outputs": [],
   "execution_count": 1
  },
  {
   "metadata": {
    "ExecuteTime": {
     "end_time": "2025-02-02T15:34:45.363003Z",
     "start_time": "2025-02-02T15:34:45.355239Z"
    }
   },
   "cell_type": "code",
   "source": "load_dotenv()",
   "id": "deb7183a6ef53b65",
   "outputs": [
    {
     "data": {
      "text/plain": [
       "True"
      ]
     },
     "execution_count": 2,
     "metadata": {},
     "output_type": "execute_result"
    }
   ],
   "execution_count": 2
  },
  {
   "metadata": {
    "ExecuteTime": {
     "end_time": "2025-02-02T15:34:47.325762Z",
     "start_time": "2025-02-02T15:34:47.262321Z"
    }
   },
   "cell_type": "code",
   "source": "llm = ChatFireworks(model=\"accounts/fireworks/models/deepseek-r1\")",
   "id": "cff8ff57fbdaa844",
   "outputs": [],
   "execution_count": 3
  },
  {
   "metadata": {
    "ExecuteTime": {
     "end_time": "2025-02-02T15:34:51.466977Z",
     "start_time": "2025-02-02T15:34:48.236267Z"
    }
   },
   "cell_type": "code",
   "source": "llm.invoke(\"hello\")",
   "id": "ea433666c48ada1b",
   "outputs": [
    {
     "data": {
      "text/plain": [
       "AIMessage(content='<think>\\n\\n</think>\\n\\nHello! How can I assist you today? 😊', additional_kwargs={}, response_metadata={'token_usage': {'prompt_tokens': 4, 'total_tokens': 20, 'completion_tokens': 16}, 'model_name': 'accounts/fireworks/models/deepseek-r1', 'system_fingerprint': '', 'finish_reason': 'stop', 'logprobs': None}, id='run-a4382e31-aadd-454d-bb78-e7aca0157800-0', usage_metadata={'input_tokens': 4, 'output_tokens': 16, 'total_tokens': 20})"
      ]
     },
     "execution_count": 4,
     "metadata": {},
     "output_type": "execute_result"
    }
   ],
   "execution_count": 4
  },
  {
   "metadata": {
    "ExecuteTime": {
     "end_time": "2025-02-02T15:39:35.533170Z",
     "start_time": "2025-02-02T15:39:35.479096Z"
    }
   },
   "cell_type": "code",
   "source": "llm = ChatFireworks(model=\"accounts/fireworks/models/deepseek-v3\")",
   "id": "11ce7406922d9d0f",
   "outputs": [],
   "execution_count": 5
  },
  {
   "metadata": {
    "ExecuteTime": {
     "end_time": "2025-02-02T15:39:45.062194Z",
     "start_time": "2025-02-02T15:39:43.007296Z"
    }
   },
   "cell_type": "code",
   "source": "llm.invoke(\"hi\")",
   "id": "59659f78c5850062",
   "outputs": [
    {
     "data": {
      "text/plain": [
       "AIMessage(content='Hello! How can I assist you today? 😊', additional_kwargs={}, response_metadata={'token_usage': {'prompt_tokens': 4, 'total_tokens': 16, 'completion_tokens': 12}, 'model_name': 'accounts/fireworks/models/deepseek-v3', 'system_fingerprint': '', 'finish_reason': 'stop', 'logprobs': None}, id='run-90a25573-7ddc-41cb-adc2-20b6255c8d39-0', usage_metadata={'input_tokens': 4, 'output_tokens': 12, 'total_tokens': 16})"
      ]
     },
     "execution_count": 6,
     "metadata": {},
     "output_type": "execute_result"
    }
   ],
   "execution_count": 6
  },
  {
   "metadata": {},
   "cell_type": "code",
   "outputs": [],
   "execution_count": null,
   "source": "",
   "id": "86119c36ae1d30ef"
  }
 ],
 "metadata": {
  "kernelspec": {
   "display_name": "Python 3",
   "language": "python",
   "name": "python3"
  },
  "language_info": {
   "codemirror_mode": {
    "name": "ipython",
    "version": 2
   },
   "file_extension": ".py",
   "mimetype": "text/x-python",
   "name": "python",
   "nbconvert_exporter": "python",
   "pygments_lexer": "ipython2",
   "version": "2.7.6"
  }
 },
 "nbformat": 4,
 "nbformat_minor": 5
}
