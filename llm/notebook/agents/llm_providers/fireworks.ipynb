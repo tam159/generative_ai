{
 "cells": [
  {
   "cell_type": "code",
   "id": "initial_id",
   "metadata": {
    "collapsed": true,
    "ExecuteTime": {
     "end_time": "2025-01-26T04:52:52.888223Z",
     "start_time": "2025-01-26T04:52:51.228171Z"
    }
   },
   "source": [
    "from dotenv import load_dotenv\n",
    "from langchain_fireworks import ChatFireworks"
   ],
   "outputs": [],
   "execution_count": 1
  },
  {
   "metadata": {
    "ExecuteTime": {
     "end_time": "2025-01-26T04:52:52.901096Z",
     "start_time": "2025-01-26T04:52:52.894494Z"
    }
   },
   "cell_type": "code",
   "source": "load_dotenv()",
   "id": "deb7183a6ef53b65",
   "outputs": [
    {
     "data": {
      "text/plain": [
       "True"
      ]
     },
     "execution_count": 2,
     "metadata": {},
     "output_type": "execute_result"
    }
   ],
   "execution_count": 2
  },
  {
   "metadata": {
    "ExecuteTime": {
     "end_time": "2025-01-26T04:53:59.358885Z",
     "start_time": "2025-01-26T04:53:59.277572Z"
    }
   },
   "cell_type": "code",
   "source": "llm = ChatFireworks(model=\"accounts/fireworks/models/deepseek-r1\")",
   "id": "cff8ff57fbdaa844",
   "outputs": [],
   "execution_count": 3
  },
  {
   "metadata": {
    "ExecuteTime": {
     "end_time": "2025-01-26T04:54:09.416123Z",
     "start_time": "2025-01-26T04:54:05.906163Z"
    }
   },
   "cell_type": "code",
   "source": "llm.invoke(\"hello\")",
   "id": "ea433666c48ada1b",
   "outputs": [
    {
     "data": {
      "text/plain": [
       "AIMessage(content='<think>\\n\\n</think>\\n\\nHello! How can I assist you today? 😊', additional_kwargs={}, response_metadata={'token_usage': {'prompt_tokens': 4, 'total_tokens': 20, 'completion_tokens': 16}, 'model_name': 'accounts/fireworks/models/deepseek-r1', 'system_fingerprint': '', 'finish_reason': 'stop', 'logprobs': None}, id='run-9ab6c005-90dd-4f56-94df-fec38e4a99dc-0', usage_metadata={'input_tokens': 4, 'output_tokens': 16, 'total_tokens': 20})"
      ]
     },
     "execution_count": 4,
     "metadata": {},
     "output_type": "execute_result"
    }
   ],
   "execution_count": 4
  },
  {
   "metadata": {},
   "cell_type": "code",
   "outputs": [],
   "execution_count": null,
   "source": "",
   "id": "11ce7406922d9d0f"
  }
 ],
 "metadata": {
  "kernelspec": {
   "display_name": "Python 3",
   "language": "python",
   "name": "python3"
  },
  "language_info": {
   "codemirror_mode": {
    "name": "ipython",
    "version": 2
   },
   "file_extension": ".py",
   "mimetype": "text/x-python",
   "name": "python",
   "nbconvert_exporter": "python",
   "pygments_lexer": "ipython2",
   "version": "2.7.6"
  }
 },
 "nbformat": 4,
 "nbformat_minor": 5
}
