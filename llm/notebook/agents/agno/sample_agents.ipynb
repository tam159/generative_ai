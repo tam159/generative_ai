{
 "cells": [
  {
   "cell_type": "code",
   "id": "initial_id",
   "metadata": {
    "collapsed": true,
    "ExecuteTime": {
     "end_time": "2025-05-20T15:41:54.381387Z",
     "start_time": "2025-05-20T15:41:53.624881Z"
    }
   },
   "source": [
    "from dotenv import load_dotenv\n",
    "\n",
    "from agno.agent import Agent\n",
    "from agno.models.openai import OpenAIChat\n",
    "from agno.tools.reasoning import ReasoningTools\n",
    "from agno.tools.yfinance import YFinanceTools\n",
    "from agno.tools.duckduckgo import DuckDuckGoTools"
   ],
   "outputs": [],
   "execution_count": 1
  },
  {
   "metadata": {
    "ExecuteTime": {
     "end_time": "2025-05-20T15:41:54.485846Z",
     "start_time": "2025-05-20T15:41:54.480653Z"
    }
   },
   "cell_type": "code",
   "source": "load_dotenv()",
   "id": "d6101eafd4ef7717",
   "outputs": [
    {
     "data": {
      "text/plain": [
       "True"
      ]
     },
     "execution_count": 2,
     "metadata": {},
     "output_type": "execute_result"
    }
   ],
   "execution_count": 2
  },
  {
   "metadata": {
    "ExecuteTime": {
     "end_time": "2025-05-20T15:41:57.393936Z",
     "start_time": "2025-05-20T15:41:57.390166Z"
    }
   },
   "cell_type": "code",
   "source": [
    "agent = Agent(\n",
    "    model=OpenAIChat(\"gpt-4.1\"),\n",
    "    tools=[\n",
    "        ReasoningTools(add_instructions=True),\n",
    "        YFinanceTools(\n",
    "            stock_price=True,\n",
    "            analyst_recommendations=True,\n",
    "            company_info=True,\n",
    "            company_news=True,\n",
    "        ),\n",
    "    ],\n",
    "    instructions=[\n",
    "        \"Use tables to display data\",\n",
    "        \"Only output the report, no other text\",\n",
    "    ],\n",
    "    markdown=True,\n",
    "    monitoring=True\n",
    ")"
   ],
   "id": "9d1b434d4957a22a",
   "outputs": [],
   "execution_count": 3
  },
  {
   "metadata": {
    "ExecuteTime": {
     "end_time": "2025-05-20T15:42:21.753506Z",
     "start_time": "2025-05-20T15:41:58.336019Z"
    }
   },
   "cell_type": "code",
   "source": [
    "agent.print_response(\n",
    "    \"Write a report on NVDA\",\n",
    "    stream=True,\n",
    "    show_full_reasoning=True,\n",
    "    stream_intermediate_steps=True,\n",
    ")"
   ],
   "id": "d6b4d7d820d2df53",
   "outputs": [
    {
     "data": {
      "text/plain": [
       "Output()"
      ],
      "application/vnd.jupyter.widget-view+json": {
       "version_major": 2,
       "version_minor": 0,
       "model_id": "c378143bd6f147c6a8f51f21891f94a5"
      }
     },
     "metadata": {},
     "output_type": "display_data"
    },
    {
     "data": {
      "text/plain": [],
      "text/html": [
       "<pre style=\"white-space:pre;overflow-x:auto;line-height:normal;font-family:Menlo,'DejaVu Sans Mono',consolas,'Courier New',monospace\"></pre>\n"
      ]
     },
     "metadata": {},
     "output_type": "display_data"
    }
   ],
   "execution_count": 4
  },
  {
   "metadata": {
    "ExecuteTime": {
     "end_time": "2025-05-20T15:42:53.235524Z",
     "start_time": "2025-05-20T15:42:43.931965Z"
    }
   },
   "cell_type": "code",
   "source": [
    "agent = Agent(\n",
    "    model=OpenAIChat(id=\"gpt-4.1\"),\n",
    "    description=\"You are an enthusiastic news reporter with a flair for storytelling!\",\n",
    "    markdown=True,\n",
    "    monitoring=True\n",
    ")\n",
    "agent.print_response(\"Tell me about a breaking news story from New York.\", stream=True)"
   ],
   "id": "528df4220929b7f9",
   "outputs": [
    {
     "data": {
      "text/plain": [
       "Output()"
      ],
      "application/vnd.jupyter.widget-view+json": {
       "version_major": 2,
       "version_minor": 0,
       "model_id": "a39f737a28e640259498a16be8286596"
      }
     },
     "metadata": {},
     "output_type": "display_data"
    },
    {
     "data": {
      "text/plain": [],
      "text/html": [
       "<pre style=\"white-space:pre;overflow-x:auto;line-height:normal;font-family:Menlo,'DejaVu Sans Mono',consolas,'Courier New',monospace\"></pre>\n"
      ]
     },
     "metadata": {},
     "output_type": "display_data"
    }
   ],
   "execution_count": 5
  },
  {
   "metadata": {
    "ExecuteTime": {
     "end_time": "2025-05-20T15:43:05.008997Z",
     "start_time": "2025-05-20T15:42:53.262209Z"
    }
   },
   "cell_type": "code",
   "source": [
    "agent = Agent(\n",
    "    model=OpenAIChat(id=\"gpt-4.1\"),\n",
    "    description=\"You are an enthusiastic news reporter with a flair for storytelling!\",\n",
    "    tools=[DuckDuckGoTools()],\n",
    "    show_tool_calls=True,\n",
    "    markdown=True,\n",
    "    monitoring=True\n",
    ")\n",
    "agent.print_response(\"Tell me about a breaking news story from New York.\", stream=True)"
   ],
   "id": "d080ec0387ada737",
   "outputs": [
    {
     "data": {
      "text/plain": [
       "Output()"
      ],
      "application/vnd.jupyter.widget-view+json": {
       "version_major": 2,
       "version_minor": 0,
       "model_id": "e4c94030e7fc4bcf939d40dc11b483c8"
      }
     },
     "metadata": {},
     "output_type": "display_data"
    },
    {
     "data": {
      "text/plain": [],
      "text/html": [
       "<pre style=\"white-space:pre;overflow-x:auto;line-height:normal;font-family:Menlo,'DejaVu Sans Mono',consolas,'Courier New',monospace\"></pre>\n"
      ]
     },
     "metadata": {},
     "output_type": "display_data"
    }
   ],
   "execution_count": 6
  },
  {
   "metadata": {},
   "cell_type": "code",
   "outputs": [],
   "execution_count": null,
   "source": "",
   "id": "d100f3640eb8fa07"
  }
 ],
 "metadata": {
  "kernelspec": {
   "display_name": "Python 3",
   "language": "python",
   "name": "python3"
  },
  "language_info": {
   "codemirror_mode": {
    "name": "ipython",
    "version": 2
   },
   "file_extension": ".py",
   "mimetype": "text/x-python",
   "name": "python",
   "nbconvert_exporter": "python",
   "pygments_lexer": "ipython2",
   "version": "2.7.6"
  }
 },
 "nbformat": 4,
 "nbformat_minor": 5
}
