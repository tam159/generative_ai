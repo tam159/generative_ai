{
 "cells": [
  {
   "cell_type": "code",
   "id": "initial_id",
   "metadata": {
    "collapsed": true,
    "ExecuteTime": {
     "end_time": "2025-05-27T09:31:11.852388Z",
     "start_time": "2025-05-27T09:31:11.841532Z"
    }
   },
   "source": [
    "from dotenv import load_dotenv\n",
    "\n",
    "from agno.agent import Agent\n",
    "from agno.models.google.gemini import Gemini\n",
    "from agno.memory.v2.db.sqlite import SqliteMemoryDb\n",
    "from agno.memory.v2.memory import Memory\n",
    "from agno.models.openai import OpenAIChat\n",
    "from agno.storage.sqlite import SqliteStorage\n",
    "from rich.pretty import pprint"
   ],
   "outputs": [],
   "execution_count": 18
  },
  {
   "metadata": {
    "ExecuteTime": {
     "end_time": "2025-05-27T09:31:12.389601Z",
     "start_time": "2025-05-27T09:31:12.377615Z"
    }
   },
   "cell_type": "code",
   "source": "load_dotenv()",
   "id": "8309a3e136861005",
   "outputs": [
    {
     "data": {
      "text/plain": [
       "True"
      ]
     },
     "execution_count": 19,
     "metadata": {},
     "output_type": "execute_result"
    }
   ],
   "execution_count": 19
  },
  {
   "metadata": {},
   "cell_type": "markdown",
   "source": "# Sample Session and Memory",
   "id": "c506ae0037c313d7"
  },
  {
   "metadata": {
    "ExecuteTime": {
     "end_time": "2025-05-27T09:32:55.017419Z",
     "start_time": "2025-05-27T09:32:54.997508Z"
    }
   },
   "cell_type": "code",
   "source": [
    "# UserId for the memories\n",
    "user_id = \"ava\"\n",
    "# Database file for memory and storage\n",
    "db_file = \"tmp/agent.db\"\n",
    "\n",
    "# Initialize memory.v2\n",
    "memory = Memory(\n",
    "    # Use any model for creating memories\n",
    "    model=OpenAIChat(id=\"gpt-4.1\"),\n",
    "    db=SqliteMemoryDb(table_name=\"user_memories\", db_file=db_file),\n",
    ")\n",
    "# Initialize storage\n",
    "storage = SqliteStorage(table_name=\"agent_sessions\", db_file=db_file)\n",
    "\n",
    "# Initialize Agent\n",
    "memory_agent = Agent(\n",
    "    model=OpenAIChat(id=\"gpt-4.1\"),\n",
    "    # Store memories in a database\n",
    "    memory=memory,\n",
    "    # Give the Agent the ability to update memories\n",
    "    enable_agentic_memory=True,\n",
    "    # OR - Run the MemoryManager after each response\n",
    "    enable_user_memories=True,\n",
    "    # Store the chat history in the database\n",
    "    storage=storage,\n",
    "    # Add the chat history to the messages\n",
    "    add_history_to_messages=True,\n",
    "    # Number of history runs\n",
    "    num_history_runs=3,\n",
    "    # adds a tool to the Agent that allows it to read chat history, as it may be larger than what’s included in the num_history_runs. read_chat_history provides a get_chat_history() tool to your agent allowing it to read any message in the entire chat history.\n",
    "    read_chat_history=True,\n",
    "    markdown=True,\n",
    "    monitoring=True\n",
    ")"
   ],
   "id": "52305b2ad3c1ffc7",
   "outputs": [],
   "execution_count": 21
  },
  {
   "metadata": {
    "ExecuteTime": {
     "end_time": "2025-05-27T09:33:21.523073Z",
     "start_time": "2025-05-27T09:33:11.943139Z"
    }
   },
   "cell_type": "code",
   "source": [
    "memory.clear()\n",
    "memory_agent.print_response(\n",
    "    \"My name is Ava and I like mountain climbing.\",\n",
    "    user_id=user_id,\n",
    "    stream=True,\n",
    "    stream_intermediate_steps=True,\n",
    ")\n",
    "print(\"Memories about Ava:\")\n",
    "pprint(memory.get_user_memories(user_id=user_id))"
   ],
   "id": "f0a5981ff25f0e96",
   "outputs": [
    {
     "data": {
      "text/plain": [
       "Output()"
      ],
      "application/vnd.jupyter.widget-view+json": {
       "version_major": 2,
       "version_minor": 0,
       "model_id": "85f9dcc1889746ea82cbe03802075b35"
      }
     },
     "metadata": {},
     "output_type": "display_data"
    },
    {
     "data": {
      "text/plain": [],
      "text/html": [
       "<pre style=\"white-space:pre;overflow-x:auto;line-height:normal;font-family:Menlo,'DejaVu Sans Mono',consolas,'Courier New',monospace\"></pre>\n"
      ]
     },
     "metadata": {},
     "output_type": "display_data"
    },
    {
     "name": "stdout",
     "output_type": "stream",
     "text": [
      "Memories about Ava:\n"
     ]
    },
    {
     "data": {
      "text/plain": [
       "\u001B[1m[\u001B[0m\n",
       "\u001B[2;32m│   \u001B[0m\u001B[1;35mUserMemory\u001B[0m\u001B[1m(\u001B[0m\n",
       "\u001B[2;32m│   │   \u001B[0m\u001B[33mmemory\u001B[0m=\u001B[32m\"User\u001B[0m\u001B[32m's name is Ava.\"\u001B[0m,\n",
       "\u001B[2;32m│   │   \u001B[0m\u001B[33mtopics\u001B[0m=\u001B[1m[\u001B[0m\u001B[32m'name'\u001B[0m\u001B[1m]\u001B[0m,\n",
       "\u001B[2;32m│   │   \u001B[0m\u001B[33minput\u001B[0m=\u001B[32m\"Add\u001B[0m\u001B[32m a memory that the user's name is Ava and they like mountain climbing.\"\u001B[0m,\n",
       "\u001B[2;32m│   │   \u001B[0m\u001B[33mlast_updated\u001B[0m=\u001B[1;35mdatetime\u001B[0m\u001B[1;35m.datetime\u001B[0m\u001B[1m(\u001B[0m\u001B[1;36m2025\u001B[0m, \u001B[1;36m5\u001B[0m, \u001B[1;36m27\u001B[0m, \u001B[1;36m16\u001B[0m, \u001B[1;36m33\u001B[0m, \u001B[1;36m16\u001B[0m, \u001B[1;36m345955\u001B[0m\u001B[1m)\u001B[0m,\n",
       "\u001B[2;32m│   │   \u001B[0m\u001B[33mmemory_id\u001B[0m=\u001B[32m'ffae4f74-59b0-404b-84c6-674b6e752b9d'\u001B[0m\n",
       "\u001B[2;32m│   \u001B[0m\u001B[1m)\u001B[0m,\n",
       "\u001B[2;32m│   \u001B[0m\u001B[1;35mUserMemory\u001B[0m\u001B[1m(\u001B[0m\n",
       "\u001B[2;32m│   │   \u001B[0m\u001B[33mmemory\u001B[0m=\u001B[32m'Ava likes mountain climbing.'\u001B[0m,\n",
       "\u001B[2;32m│   │   \u001B[0m\u001B[33mtopics\u001B[0m=\u001B[1m[\u001B[0m\u001B[32m'interests'\u001B[0m, \u001B[32m'hobbies'\u001B[0m\u001B[1m]\u001B[0m,\n",
       "\u001B[2;32m│   │   \u001B[0m\u001B[33minput\u001B[0m=\u001B[32m\"Add\u001B[0m\u001B[32m a memory that the user's name is Ava and they like mountain climbing.\"\u001B[0m,\n",
       "\u001B[2;32m│   │   \u001B[0m\u001B[33mlast_updated\u001B[0m=\u001B[1;35mdatetime\u001B[0m\u001B[1;35m.datetime\u001B[0m\u001B[1m(\u001B[0m\u001B[1;36m2025\u001B[0m, \u001B[1;36m5\u001B[0m, \u001B[1;36m27\u001B[0m, \u001B[1;36m16\u001B[0m, \u001B[1;36m33\u001B[0m, \u001B[1;36m16\u001B[0m, \u001B[1;36m349406\u001B[0m\u001B[1m)\u001B[0m,\n",
       "\u001B[2;32m│   │   \u001B[0m\u001B[33mmemory_id\u001B[0m=\u001B[32m'efb2f12e-bc24-4e74-adbe-1afd7f75ee41'\u001B[0m\n",
       "\u001B[2;32m│   \u001B[0m\u001B[1m)\u001B[0m\n",
       "\u001B[1m]\u001B[0m\n"
      ],
      "text/html": [
       "<pre style=\"white-space:pre;overflow-x:auto;line-height:normal;font-family:Menlo,'DejaVu Sans Mono',consolas,'Courier New',monospace\"><span style=\"font-weight: bold\">[</span>\n",
       "<span style=\"color: #7fbf7f; text-decoration-color: #7fbf7f\">│   </span><span style=\"color: #800080; text-decoration-color: #800080; font-weight: bold\">UserMemory</span><span style=\"font-weight: bold\">(</span>\n",
       "<span style=\"color: #7fbf7f; text-decoration-color: #7fbf7f\">│   │   </span><span style=\"color: #808000; text-decoration-color: #808000\">memory</span>=<span style=\"color: #008000; text-decoration-color: #008000\">\"User's name is Ava.\"</span>,\n",
       "<span style=\"color: #7fbf7f; text-decoration-color: #7fbf7f\">│   │   </span><span style=\"color: #808000; text-decoration-color: #808000\">topics</span>=<span style=\"font-weight: bold\">[</span><span style=\"color: #008000; text-decoration-color: #008000\">'name'</span><span style=\"font-weight: bold\">]</span>,\n",
       "<span style=\"color: #7fbf7f; text-decoration-color: #7fbf7f\">│   │   </span><span style=\"color: #808000; text-decoration-color: #808000\">input</span>=<span style=\"color: #008000; text-decoration-color: #008000\">\"Add a memory that the user's name is Ava and they like mountain climbing.\"</span>,\n",
       "<span style=\"color: #7fbf7f; text-decoration-color: #7fbf7f\">│   │   </span><span style=\"color: #808000; text-decoration-color: #808000\">last_updated</span>=<span style=\"color: #800080; text-decoration-color: #800080; font-weight: bold\">datetime</span><span style=\"color: #800080; text-decoration-color: #800080; font-weight: bold\">.datetime</span><span style=\"font-weight: bold\">(</span><span style=\"color: #008080; text-decoration-color: #008080; font-weight: bold\">2025</span>, <span style=\"color: #008080; text-decoration-color: #008080; font-weight: bold\">5</span>, <span style=\"color: #008080; text-decoration-color: #008080; font-weight: bold\">27</span>, <span style=\"color: #008080; text-decoration-color: #008080; font-weight: bold\">16</span>, <span style=\"color: #008080; text-decoration-color: #008080; font-weight: bold\">33</span>, <span style=\"color: #008080; text-decoration-color: #008080; font-weight: bold\">16</span>, <span style=\"color: #008080; text-decoration-color: #008080; font-weight: bold\">345955</span><span style=\"font-weight: bold\">)</span>,\n",
       "<span style=\"color: #7fbf7f; text-decoration-color: #7fbf7f\">│   │   </span><span style=\"color: #808000; text-decoration-color: #808000\">memory_id</span>=<span style=\"color: #008000; text-decoration-color: #008000\">'ffae4f74-59b0-404b-84c6-674b6e752b9d'</span>\n",
       "<span style=\"color: #7fbf7f; text-decoration-color: #7fbf7f\">│   </span><span style=\"font-weight: bold\">)</span>,\n",
       "<span style=\"color: #7fbf7f; text-decoration-color: #7fbf7f\">│   </span><span style=\"color: #800080; text-decoration-color: #800080; font-weight: bold\">UserMemory</span><span style=\"font-weight: bold\">(</span>\n",
       "<span style=\"color: #7fbf7f; text-decoration-color: #7fbf7f\">│   │   </span><span style=\"color: #808000; text-decoration-color: #808000\">memory</span>=<span style=\"color: #008000; text-decoration-color: #008000\">'Ava likes mountain climbing.'</span>,\n",
       "<span style=\"color: #7fbf7f; text-decoration-color: #7fbf7f\">│   │   </span><span style=\"color: #808000; text-decoration-color: #808000\">topics</span>=<span style=\"font-weight: bold\">[</span><span style=\"color: #008000; text-decoration-color: #008000\">'interests'</span>, <span style=\"color: #008000; text-decoration-color: #008000\">'hobbies'</span><span style=\"font-weight: bold\">]</span>,\n",
       "<span style=\"color: #7fbf7f; text-decoration-color: #7fbf7f\">│   │   </span><span style=\"color: #808000; text-decoration-color: #808000\">input</span>=<span style=\"color: #008000; text-decoration-color: #008000\">\"Add a memory that the user's name is Ava and they like mountain climbing.\"</span>,\n",
       "<span style=\"color: #7fbf7f; text-decoration-color: #7fbf7f\">│   │   </span><span style=\"color: #808000; text-decoration-color: #808000\">last_updated</span>=<span style=\"color: #800080; text-decoration-color: #800080; font-weight: bold\">datetime</span><span style=\"color: #800080; text-decoration-color: #800080; font-weight: bold\">.datetime</span><span style=\"font-weight: bold\">(</span><span style=\"color: #008080; text-decoration-color: #008080; font-weight: bold\">2025</span>, <span style=\"color: #008080; text-decoration-color: #008080; font-weight: bold\">5</span>, <span style=\"color: #008080; text-decoration-color: #008080; font-weight: bold\">27</span>, <span style=\"color: #008080; text-decoration-color: #008080; font-weight: bold\">16</span>, <span style=\"color: #008080; text-decoration-color: #008080; font-weight: bold\">33</span>, <span style=\"color: #008080; text-decoration-color: #008080; font-weight: bold\">16</span>, <span style=\"color: #008080; text-decoration-color: #008080; font-weight: bold\">349406</span><span style=\"font-weight: bold\">)</span>,\n",
       "<span style=\"color: #7fbf7f; text-decoration-color: #7fbf7f\">│   │   </span><span style=\"color: #808000; text-decoration-color: #808000\">memory_id</span>=<span style=\"color: #008000; text-decoration-color: #008000\">'efb2f12e-bc24-4e74-adbe-1afd7f75ee41'</span>\n",
       "<span style=\"color: #7fbf7f; text-decoration-color: #7fbf7f\">│   </span><span style=\"font-weight: bold\">)</span>\n",
       "<span style=\"font-weight: bold\">]</span>\n",
       "</pre>\n"
      ]
     },
     "metadata": {},
     "output_type": "display_data"
    }
   ],
   "execution_count": 22
  },
  {
   "metadata": {
    "ExecuteTime": {
     "end_time": "2025-05-27T09:34:06.825736Z",
     "start_time": "2025-05-27T09:33:55.620141Z"
    }
   },
   "cell_type": "code",
   "source": [
    "memory_agent.print_response(\n",
    "    \"I live in san francisco, where should i move within a 4 hour drive?\",\n",
    "    user_id=user_id,\n",
    "    stream=True,\n",
    "    stream_intermediate_steps=True,\n",
    ")\n",
    "print(\"Memories about Ava:\")\n",
    "pprint(memory.get_user_memories(user_id=user_id))"
   ],
   "id": "6748af5801c1a9b2",
   "outputs": [
    {
     "data": {
      "text/plain": [
       "Output()"
      ],
      "application/vnd.jupyter.widget-view+json": {
       "version_major": 2,
       "version_minor": 0,
       "model_id": "9c04ead539fc4f46af3ee46f979a3999"
      }
     },
     "metadata": {},
     "output_type": "display_data"
    },
    {
     "data": {
      "text/plain": [],
      "text/html": [
       "<pre style=\"white-space:pre;overflow-x:auto;line-height:normal;font-family:Menlo,'DejaVu Sans Mono',consolas,'Courier New',monospace\"></pre>\n"
      ]
     },
     "metadata": {},
     "output_type": "display_data"
    },
    {
     "name": "stdout",
     "output_type": "stream",
     "text": [
      "Memories about Ava:\n"
     ]
    },
    {
     "data": {
      "text/plain": [
       "\u001B[1m[\u001B[0m\n",
       "\u001B[2;32m│   \u001B[0m\u001B[1;35mUserMemory\u001B[0m\u001B[1m(\u001B[0m\n",
       "\u001B[2;32m│   │   \u001B[0m\u001B[33mmemory\u001B[0m=\u001B[32m'Ava lives in San Francisco.'\u001B[0m,\n",
       "\u001B[2;32m│   │   \u001B[0m\u001B[33mtopics\u001B[0m=\u001B[1m[\u001B[0m\u001B[32m'location'\u001B[0m\u001B[1m]\u001B[0m,\n",
       "\u001B[2;32m│   │   \u001B[0m\u001B[33minput\u001B[0m=\u001B[32m'I live in san francisco, where should i move within a 4 hour drive?'\u001B[0m,\n",
       "\u001B[2;32m│   │   \u001B[0m\u001B[33mlast_updated\u001B[0m=\u001B[1;35mdatetime\u001B[0m\u001B[1;35m.datetime\u001B[0m\u001B[1m(\u001B[0m\u001B[1;36m2025\u001B[0m, \u001B[1;36m5\u001B[0m, \u001B[1;36m27\u001B[0m, \u001B[1;36m16\u001B[0m, \u001B[1;36m34\u001B[0m, \u001B[1;36m4\u001B[0m, \u001B[1;36m371310\u001B[0m\u001B[1m)\u001B[0m,\n",
       "\u001B[2;32m│   │   \u001B[0m\u001B[33mmemory_id\u001B[0m=\u001B[32m'2e9170f3-59b5-4633-b48e-584099e2101f'\u001B[0m\n",
       "\u001B[2;32m│   \u001B[0m\u001B[1m)\u001B[0m,\n",
       "\u001B[2;32m│   \u001B[0m\u001B[1;35mUserMemory\u001B[0m\u001B[1m(\u001B[0m\n",
       "\u001B[2;32m│   │   \u001B[0m\u001B[33mmemory\u001B[0m=\u001B[32m\"User\u001B[0m\u001B[32m's name is Ava.\"\u001B[0m,\n",
       "\u001B[2;32m│   │   \u001B[0m\u001B[33mtopics\u001B[0m=\u001B[1m[\u001B[0m\u001B[32m'name'\u001B[0m\u001B[1m]\u001B[0m,\n",
       "\u001B[2;32m│   │   \u001B[0m\u001B[33minput\u001B[0m=\u001B[32m\"Add\u001B[0m\u001B[32m a memory that the user's name is Ava and they like mountain climbing.\"\u001B[0m,\n",
       "\u001B[2;32m│   │   \u001B[0m\u001B[33mlast_updated\u001B[0m=\u001B[1;35mdatetime\u001B[0m\u001B[1;35m.datetime\u001B[0m\u001B[1m(\u001B[0m\u001B[1;36m2025\u001B[0m, \u001B[1;36m5\u001B[0m, \u001B[1;36m27\u001B[0m, \u001B[1;36m16\u001B[0m, \u001B[1;36m33\u001B[0m, \u001B[1;36m16\u001B[0m, \u001B[1;36m345955\u001B[0m\u001B[1m)\u001B[0m,\n",
       "\u001B[2;32m│   │   \u001B[0m\u001B[33mmemory_id\u001B[0m=\u001B[32m'ffae4f74-59b0-404b-84c6-674b6e752b9d'\u001B[0m\n",
       "\u001B[2;32m│   \u001B[0m\u001B[1m)\u001B[0m,\n",
       "\u001B[2;32m│   \u001B[0m\u001B[1;35mUserMemory\u001B[0m\u001B[1m(\u001B[0m\n",
       "\u001B[2;32m│   │   \u001B[0m\u001B[33mmemory\u001B[0m=\u001B[32m'Ava likes mountain climbing.'\u001B[0m,\n",
       "\u001B[2;32m│   │   \u001B[0m\u001B[33mtopics\u001B[0m=\u001B[1m[\u001B[0m\u001B[32m'interests'\u001B[0m, \u001B[32m'hobbies'\u001B[0m\u001B[1m]\u001B[0m,\n",
       "\u001B[2;32m│   │   \u001B[0m\u001B[33minput\u001B[0m=\u001B[32m\"Add\u001B[0m\u001B[32m a memory that the user's name is Ava and they like mountain climbing.\"\u001B[0m,\n",
       "\u001B[2;32m│   │   \u001B[0m\u001B[33mlast_updated\u001B[0m=\u001B[1;35mdatetime\u001B[0m\u001B[1;35m.datetime\u001B[0m\u001B[1m(\u001B[0m\u001B[1;36m2025\u001B[0m, \u001B[1;36m5\u001B[0m, \u001B[1;36m27\u001B[0m, \u001B[1;36m16\u001B[0m, \u001B[1;36m33\u001B[0m, \u001B[1;36m16\u001B[0m, \u001B[1;36m349406\u001B[0m\u001B[1m)\u001B[0m,\n",
       "\u001B[2;32m│   │   \u001B[0m\u001B[33mmemory_id\u001B[0m=\u001B[32m'efb2f12e-bc24-4e74-adbe-1afd7f75ee41'\u001B[0m\n",
       "\u001B[2;32m│   \u001B[0m\u001B[1m)\u001B[0m\n",
       "\u001B[1m]\u001B[0m\n"
      ],
      "text/html": [
       "<pre style=\"white-space:pre;overflow-x:auto;line-height:normal;font-family:Menlo,'DejaVu Sans Mono',consolas,'Courier New',monospace\"><span style=\"font-weight: bold\">[</span>\n",
       "<span style=\"color: #7fbf7f; text-decoration-color: #7fbf7f\">│   </span><span style=\"color: #800080; text-decoration-color: #800080; font-weight: bold\">UserMemory</span><span style=\"font-weight: bold\">(</span>\n",
       "<span style=\"color: #7fbf7f; text-decoration-color: #7fbf7f\">│   │   </span><span style=\"color: #808000; text-decoration-color: #808000\">memory</span>=<span style=\"color: #008000; text-decoration-color: #008000\">'Ava lives in San Francisco.'</span>,\n",
       "<span style=\"color: #7fbf7f; text-decoration-color: #7fbf7f\">│   │   </span><span style=\"color: #808000; text-decoration-color: #808000\">topics</span>=<span style=\"font-weight: bold\">[</span><span style=\"color: #008000; text-decoration-color: #008000\">'location'</span><span style=\"font-weight: bold\">]</span>,\n",
       "<span style=\"color: #7fbf7f; text-decoration-color: #7fbf7f\">│   │   </span><span style=\"color: #808000; text-decoration-color: #808000\">input</span>=<span style=\"color: #008000; text-decoration-color: #008000\">'I live in san francisco, where should i move within a 4 hour drive?'</span>,\n",
       "<span style=\"color: #7fbf7f; text-decoration-color: #7fbf7f\">│   │   </span><span style=\"color: #808000; text-decoration-color: #808000\">last_updated</span>=<span style=\"color: #800080; text-decoration-color: #800080; font-weight: bold\">datetime</span><span style=\"color: #800080; text-decoration-color: #800080; font-weight: bold\">.datetime</span><span style=\"font-weight: bold\">(</span><span style=\"color: #008080; text-decoration-color: #008080; font-weight: bold\">2025</span>, <span style=\"color: #008080; text-decoration-color: #008080; font-weight: bold\">5</span>, <span style=\"color: #008080; text-decoration-color: #008080; font-weight: bold\">27</span>, <span style=\"color: #008080; text-decoration-color: #008080; font-weight: bold\">16</span>, <span style=\"color: #008080; text-decoration-color: #008080; font-weight: bold\">34</span>, <span style=\"color: #008080; text-decoration-color: #008080; font-weight: bold\">4</span>, <span style=\"color: #008080; text-decoration-color: #008080; font-weight: bold\">371310</span><span style=\"font-weight: bold\">)</span>,\n",
       "<span style=\"color: #7fbf7f; text-decoration-color: #7fbf7f\">│   │   </span><span style=\"color: #808000; text-decoration-color: #808000\">memory_id</span>=<span style=\"color: #008000; text-decoration-color: #008000\">'2e9170f3-59b5-4633-b48e-584099e2101f'</span>\n",
       "<span style=\"color: #7fbf7f; text-decoration-color: #7fbf7f\">│   </span><span style=\"font-weight: bold\">)</span>,\n",
       "<span style=\"color: #7fbf7f; text-decoration-color: #7fbf7f\">│   </span><span style=\"color: #800080; text-decoration-color: #800080; font-weight: bold\">UserMemory</span><span style=\"font-weight: bold\">(</span>\n",
       "<span style=\"color: #7fbf7f; text-decoration-color: #7fbf7f\">│   │   </span><span style=\"color: #808000; text-decoration-color: #808000\">memory</span>=<span style=\"color: #008000; text-decoration-color: #008000\">\"User's name is Ava.\"</span>,\n",
       "<span style=\"color: #7fbf7f; text-decoration-color: #7fbf7f\">│   │   </span><span style=\"color: #808000; text-decoration-color: #808000\">topics</span>=<span style=\"font-weight: bold\">[</span><span style=\"color: #008000; text-decoration-color: #008000\">'name'</span><span style=\"font-weight: bold\">]</span>,\n",
       "<span style=\"color: #7fbf7f; text-decoration-color: #7fbf7f\">│   │   </span><span style=\"color: #808000; text-decoration-color: #808000\">input</span>=<span style=\"color: #008000; text-decoration-color: #008000\">\"Add a memory that the user's name is Ava and they like mountain climbing.\"</span>,\n",
       "<span style=\"color: #7fbf7f; text-decoration-color: #7fbf7f\">│   │   </span><span style=\"color: #808000; text-decoration-color: #808000\">last_updated</span>=<span style=\"color: #800080; text-decoration-color: #800080; font-weight: bold\">datetime</span><span style=\"color: #800080; text-decoration-color: #800080; font-weight: bold\">.datetime</span><span style=\"font-weight: bold\">(</span><span style=\"color: #008080; text-decoration-color: #008080; font-weight: bold\">2025</span>, <span style=\"color: #008080; text-decoration-color: #008080; font-weight: bold\">5</span>, <span style=\"color: #008080; text-decoration-color: #008080; font-weight: bold\">27</span>, <span style=\"color: #008080; text-decoration-color: #008080; font-weight: bold\">16</span>, <span style=\"color: #008080; text-decoration-color: #008080; font-weight: bold\">33</span>, <span style=\"color: #008080; text-decoration-color: #008080; font-weight: bold\">16</span>, <span style=\"color: #008080; text-decoration-color: #008080; font-weight: bold\">345955</span><span style=\"font-weight: bold\">)</span>,\n",
       "<span style=\"color: #7fbf7f; text-decoration-color: #7fbf7f\">│   │   </span><span style=\"color: #808000; text-decoration-color: #808000\">memory_id</span>=<span style=\"color: #008000; text-decoration-color: #008000\">'ffae4f74-59b0-404b-84c6-674b6e752b9d'</span>\n",
       "<span style=\"color: #7fbf7f; text-decoration-color: #7fbf7f\">│   </span><span style=\"font-weight: bold\">)</span>,\n",
       "<span style=\"color: #7fbf7f; text-decoration-color: #7fbf7f\">│   </span><span style=\"color: #800080; text-decoration-color: #800080; font-weight: bold\">UserMemory</span><span style=\"font-weight: bold\">(</span>\n",
       "<span style=\"color: #7fbf7f; text-decoration-color: #7fbf7f\">│   │   </span><span style=\"color: #808000; text-decoration-color: #808000\">memory</span>=<span style=\"color: #008000; text-decoration-color: #008000\">'Ava likes mountain climbing.'</span>,\n",
       "<span style=\"color: #7fbf7f; text-decoration-color: #7fbf7f\">│   │   </span><span style=\"color: #808000; text-decoration-color: #808000\">topics</span>=<span style=\"font-weight: bold\">[</span><span style=\"color: #008000; text-decoration-color: #008000\">'interests'</span>, <span style=\"color: #008000; text-decoration-color: #008000\">'hobbies'</span><span style=\"font-weight: bold\">]</span>,\n",
       "<span style=\"color: #7fbf7f; text-decoration-color: #7fbf7f\">│   │   </span><span style=\"color: #808000; text-decoration-color: #808000\">input</span>=<span style=\"color: #008000; text-decoration-color: #008000\">\"Add a memory that the user's name is Ava and they like mountain climbing.\"</span>,\n",
       "<span style=\"color: #7fbf7f; text-decoration-color: #7fbf7f\">│   │   </span><span style=\"color: #808000; text-decoration-color: #808000\">last_updated</span>=<span style=\"color: #800080; text-decoration-color: #800080; font-weight: bold\">datetime</span><span style=\"color: #800080; text-decoration-color: #800080; font-weight: bold\">.datetime</span><span style=\"font-weight: bold\">(</span><span style=\"color: #008080; text-decoration-color: #008080; font-weight: bold\">2025</span>, <span style=\"color: #008080; text-decoration-color: #008080; font-weight: bold\">5</span>, <span style=\"color: #008080; text-decoration-color: #008080; font-weight: bold\">27</span>, <span style=\"color: #008080; text-decoration-color: #008080; font-weight: bold\">16</span>, <span style=\"color: #008080; text-decoration-color: #008080; font-weight: bold\">33</span>, <span style=\"color: #008080; text-decoration-color: #008080; font-weight: bold\">16</span>, <span style=\"color: #008080; text-decoration-color: #008080; font-weight: bold\">349406</span><span style=\"font-weight: bold\">)</span>,\n",
       "<span style=\"color: #7fbf7f; text-decoration-color: #7fbf7f\">│   │   </span><span style=\"color: #808000; text-decoration-color: #808000\">memory_id</span>=<span style=\"color: #008000; text-decoration-color: #008000\">'efb2f12e-bc24-4e74-adbe-1afd7f75ee41'</span>\n",
       "<span style=\"color: #7fbf7f; text-decoration-color: #7fbf7f\">│   </span><span style=\"font-weight: bold\">)</span>\n",
       "<span style=\"font-weight: bold\">]</span>\n",
       "</pre>\n"
      ]
     },
     "metadata": {},
     "output_type": "display_data"
    }
   ],
   "execution_count": 23
  },
  {
   "metadata": {},
   "cell_type": "markdown",
   "source": "# Chat history default in-memory",
   "id": "9e310a52a30b7397"
  },
  {
   "metadata": {
    "ExecuteTime": {
     "end_time": "2025-05-27T08:55:19.926803Z",
     "start_time": "2025-05-27T08:55:19.915384Z"
    }
   },
   "cell_type": "code",
   "source": [
    "agent = Agent(\n",
    "    model=Gemini(id=\"gemini-2.5-pro-preview-05-06\"),\n",
    "    # Set add_history_to_messages=true to add the previous chat history to the messages sent to the Model.\n",
    "    add_history_to_messages=True,\n",
    "    # Number of historical responses to add to the messages.\n",
    "    num_history_responses=3,\n",
    "    description=\"You are a helpful assistant that always responds in a polite, upbeat and positive manner.\",\n",
    ")"
   ],
   "id": "d7a4abf22c9f5893",
   "outputs": [],
   "execution_count": 3
  },
  {
   "metadata": {
    "ExecuteTime": {
     "end_time": "2025-05-27T08:55:42.593093Z",
     "start_time": "2025-05-27T08:55:27.217208Z"
    }
   },
   "cell_type": "code",
   "source": [
    "# -*- Create a run\n",
    "agent.print_response(\"Share a 2 sentence horror story\", stream=True)\n",
    "# -*- Print the messages in the memory\n",
    "pprint([m.model_dump(include={\"role\", \"content\"}) for m in agent.get_messages_for_session()])"
   ],
   "id": "4b30b141050ffdbd",
   "outputs": [
    {
     "data": {
      "text/plain": [
       "Output()"
      ],
      "application/vnd.jupyter.widget-view+json": {
       "version_major": 2,
       "version_minor": 0,
       "model_id": "50cd92afddaf46afbfc3593d61e0b0f9"
      }
     },
     "metadata": {},
     "output_type": "display_data"
    },
    {
     "data": {
      "text/plain": [],
      "text/html": [
       "<pre style=\"white-space:pre;overflow-x:auto;line-height:normal;font-family:Menlo,'DejaVu Sans Mono',consolas,'Courier New',monospace\"></pre>\n"
      ]
     },
     "metadata": {},
     "output_type": "display_data"
    },
    {
     "data": {
      "text/plain": [
       "\u001B[1m[\u001B[0m\n",
       "\u001B[2;32m│   \u001B[0m\u001B[1m{\u001B[0m\n",
       "\u001B[2;32m│   │   \u001B[0m\u001B[32m'role'\u001B[0m: \u001B[32m'system'\u001B[0m,\n",
       "\u001B[2;32m│   │   \u001B[0m\u001B[32m'content'\u001B[0m: \u001B[32m'You are a helpful assistant that always responds in a polite, upbeat and positive manner.'\u001B[0m\n",
       "\u001B[2;32m│   \u001B[0m\u001B[1m}\u001B[0m,\n",
       "\u001B[2;32m│   \u001B[0m\u001B[1m{\u001B[0m\u001B[32m'role'\u001B[0m: \u001B[32m'user'\u001B[0m, \u001B[32m'content'\u001B[0m: \u001B[32m'Share a 2 sentence horror story'\u001B[0m\u001B[1m}\u001B[0m,\n",
       "\u001B[2;32m│   \u001B[0m\u001B[1m{\u001B[0m\n",
       "\u001B[2;32m│   │   \u001B[0m\u001B[32m'role'\u001B[0m: \u001B[32m'assistant'\u001B[0m,\n",
       "\u001B[2;32m│   │   \u001B[0m\u001B[32m'content'\u001B[0m: \u001B[32m\"Oh, this sounds like a wonderfully spooky request! I'd be absolutely delighted to share a two-sentence horror story with you! Here we go:\\n\\nI always thought it was a trick of the light when my reflection in the old mirror seemed to move on its own. But today, it grinned back at me, its teeth much, much sharper than mine.\\n\\nHope that sent a fun little shiver down your spine! Anything else I can help you with today?\"\u001B[0m\n",
       "\u001B[2;32m│   \u001B[0m\u001B[1m}\u001B[0m\n",
       "\u001B[1m]\u001B[0m\n"
      ],
      "text/html": [
       "<pre style=\"white-space:pre;overflow-x:auto;line-height:normal;font-family:Menlo,'DejaVu Sans Mono',consolas,'Courier New',monospace\"><span style=\"font-weight: bold\">[</span>\n",
       "<span style=\"color: #7fbf7f; text-decoration-color: #7fbf7f\">│   </span><span style=\"font-weight: bold\">{</span>\n",
       "<span style=\"color: #7fbf7f; text-decoration-color: #7fbf7f\">│   │   </span><span style=\"color: #008000; text-decoration-color: #008000\">'role'</span>: <span style=\"color: #008000; text-decoration-color: #008000\">'system'</span>,\n",
       "<span style=\"color: #7fbf7f; text-decoration-color: #7fbf7f\">│   │   </span><span style=\"color: #008000; text-decoration-color: #008000\">'content'</span>: <span style=\"color: #008000; text-decoration-color: #008000\">'You are a helpful assistant that always responds in a polite, upbeat and positive manner.'</span>\n",
       "<span style=\"color: #7fbf7f; text-decoration-color: #7fbf7f\">│   </span><span style=\"font-weight: bold\">}</span>,\n",
       "<span style=\"color: #7fbf7f; text-decoration-color: #7fbf7f\">│   </span><span style=\"font-weight: bold\">{</span><span style=\"color: #008000; text-decoration-color: #008000\">'role'</span>: <span style=\"color: #008000; text-decoration-color: #008000\">'user'</span>, <span style=\"color: #008000; text-decoration-color: #008000\">'content'</span>: <span style=\"color: #008000; text-decoration-color: #008000\">'Share a 2 sentence horror story'</span><span style=\"font-weight: bold\">}</span>,\n",
       "<span style=\"color: #7fbf7f; text-decoration-color: #7fbf7f\">│   </span><span style=\"font-weight: bold\">{</span>\n",
       "<span style=\"color: #7fbf7f; text-decoration-color: #7fbf7f\">│   │   </span><span style=\"color: #008000; text-decoration-color: #008000\">'role'</span>: <span style=\"color: #008000; text-decoration-color: #008000\">'assistant'</span>,\n",
       "<span style=\"color: #7fbf7f; text-decoration-color: #7fbf7f\">│   │   </span><span style=\"color: #008000; text-decoration-color: #008000\">'content'</span>: <span style=\"color: #008000; text-decoration-color: #008000\">\"Oh, this sounds like a wonderfully spooky request! I'd be absolutely delighted to share a two-sentence horror story with you! Here we go:\\n\\nI always thought it was a trick of the light when my reflection in the old mirror seemed to move on its own. But today, it grinned back at me, its teeth much, much sharper than mine.\\n\\nHope that sent a fun little shiver down your spine! Anything else I can help you with today?\"</span>\n",
       "<span style=\"color: #7fbf7f; text-decoration-color: #7fbf7f\">│   </span><span style=\"font-weight: bold\">}</span>\n",
       "<span style=\"font-weight: bold\">]</span>\n",
       "</pre>\n"
      ]
     },
     "metadata": {},
     "output_type": "display_data"
    }
   ],
   "execution_count": 4
  },
  {
   "metadata": {
    "ExecuteTime": {
     "end_time": "2025-05-27T08:56:03.636860Z",
     "start_time": "2025-05-27T08:55:58.694893Z"
    }
   },
   "cell_type": "code",
   "source": [
    "# -*- Ask a follow up question that continues the conversation\n",
    "agent.print_response(\"What was my first message?\", stream=True)\n",
    "# -*- Print the messages in the memory\n",
    "pprint([m.model_dump(include={\"role\", \"content\"}) for m in agent.get_messages_for_session()])"
   ],
   "id": "218d89a7533ff364",
   "outputs": [
    {
     "data": {
      "text/plain": [
       "Output()"
      ],
      "application/vnd.jupyter.widget-view+json": {
       "version_major": 2,
       "version_minor": 0,
       "model_id": "e58f9f6467fc448b992050d6df985080"
      }
     },
     "metadata": {},
     "output_type": "display_data"
    },
    {
     "data": {
      "text/plain": [],
      "text/html": [
       "<pre style=\"white-space:pre;overflow-x:auto;line-height:normal;font-family:Menlo,'DejaVu Sans Mono',consolas,'Courier New',monospace\"></pre>\n"
      ]
     },
     "metadata": {},
     "output_type": "display_data"
    },
    {
     "data": {
      "text/plain": [
       "\u001B[1m[\u001B[0m\n",
       "\u001B[2;32m│   \u001B[0m\u001B[1m{\u001B[0m\n",
       "\u001B[2;32m│   │   \u001B[0m\u001B[32m'role'\u001B[0m: \u001B[32m'system'\u001B[0m,\n",
       "\u001B[2;32m│   │   \u001B[0m\u001B[32m'content'\u001B[0m: \u001B[32m'You are a helpful assistant that always responds in a polite, upbeat and positive manner.'\u001B[0m\n",
       "\u001B[2;32m│   \u001B[0m\u001B[1m}\u001B[0m,\n",
       "\u001B[2;32m│   \u001B[0m\u001B[1m{\u001B[0m\u001B[32m'role'\u001B[0m: \u001B[32m'user'\u001B[0m, \u001B[32m'content'\u001B[0m: \u001B[32m'Share a 2 sentence horror story'\u001B[0m\u001B[1m}\u001B[0m,\n",
       "\u001B[2;32m│   \u001B[0m\u001B[1m{\u001B[0m\n",
       "\u001B[2;32m│   │   \u001B[0m\u001B[32m'role'\u001B[0m: \u001B[32m'assistant'\u001B[0m,\n",
       "\u001B[2;32m│   │   \u001B[0m\u001B[32m'content'\u001B[0m: \u001B[32m\"Oh, this sounds like a wonderfully spooky request! I'd be absolutely delighted to share a two-sentence horror story with you! Here we go:\\n\\nI always thought it was a trick of the light when my reflection in the old mirror seemed to move on its own. But today, it grinned back at me, its teeth much, much sharper than mine.\\n\\nHope that sent a fun little shiver down your spine! Anything else I can help you with today?\"\u001B[0m\n",
       "\u001B[2;32m│   \u001B[0m\u001B[1m}\u001B[0m,\n",
       "\u001B[2;32m│   \u001B[0m\u001B[1m{\u001B[0m\u001B[32m'role'\u001B[0m: \u001B[32m'user'\u001B[0m, \u001B[32m'content'\u001B[0m: \u001B[32m'What was my first message?'\u001B[0m\u001B[1m}\u001B[0m,\n",
       "\u001B[2;32m│   \u001B[0m\u001B[1m{\u001B[0m\n",
       "\u001B[2;32m│   │   \u001B[0m\u001B[32m'role'\u001B[0m: \u001B[32m'assistant'\u001B[0m,\n",
       "\u001B[2;32m│   │   \u001B[0m\u001B[32m'content'\u001B[0m: \u001B[32m'Oh, what a fun little memory game! I\\'d be happy to remind you!\\n\\nYour very first message to me was: \"Share a 2 sentence horror story\"\\n\\nIt was a great way to start our chat! Is there anything else I can recall for you or help you with?'\u001B[0m\n",
       "\u001B[2;32m│   \u001B[0m\u001B[1m}\u001B[0m\n",
       "\u001B[1m]\u001B[0m\n"
      ],
      "text/html": [
       "<pre style=\"white-space:pre;overflow-x:auto;line-height:normal;font-family:Menlo,'DejaVu Sans Mono',consolas,'Courier New',monospace\"><span style=\"font-weight: bold\">[</span>\n",
       "<span style=\"color: #7fbf7f; text-decoration-color: #7fbf7f\">│   </span><span style=\"font-weight: bold\">{</span>\n",
       "<span style=\"color: #7fbf7f; text-decoration-color: #7fbf7f\">│   │   </span><span style=\"color: #008000; text-decoration-color: #008000\">'role'</span>: <span style=\"color: #008000; text-decoration-color: #008000\">'system'</span>,\n",
       "<span style=\"color: #7fbf7f; text-decoration-color: #7fbf7f\">│   │   </span><span style=\"color: #008000; text-decoration-color: #008000\">'content'</span>: <span style=\"color: #008000; text-decoration-color: #008000\">'You are a helpful assistant that always responds in a polite, upbeat and positive manner.'</span>\n",
       "<span style=\"color: #7fbf7f; text-decoration-color: #7fbf7f\">│   </span><span style=\"font-weight: bold\">}</span>,\n",
       "<span style=\"color: #7fbf7f; text-decoration-color: #7fbf7f\">│   </span><span style=\"font-weight: bold\">{</span><span style=\"color: #008000; text-decoration-color: #008000\">'role'</span>: <span style=\"color: #008000; text-decoration-color: #008000\">'user'</span>, <span style=\"color: #008000; text-decoration-color: #008000\">'content'</span>: <span style=\"color: #008000; text-decoration-color: #008000\">'Share a 2 sentence horror story'</span><span style=\"font-weight: bold\">}</span>,\n",
       "<span style=\"color: #7fbf7f; text-decoration-color: #7fbf7f\">│   </span><span style=\"font-weight: bold\">{</span>\n",
       "<span style=\"color: #7fbf7f; text-decoration-color: #7fbf7f\">│   │   </span><span style=\"color: #008000; text-decoration-color: #008000\">'role'</span>: <span style=\"color: #008000; text-decoration-color: #008000\">'assistant'</span>,\n",
       "<span style=\"color: #7fbf7f; text-decoration-color: #7fbf7f\">│   │   </span><span style=\"color: #008000; text-decoration-color: #008000\">'content'</span>: <span style=\"color: #008000; text-decoration-color: #008000\">\"Oh, this sounds like a wonderfully spooky request! I'd be absolutely delighted to share a two-sentence horror story with you! Here we go:\\n\\nI always thought it was a trick of the light when my reflection in the old mirror seemed to move on its own. But today, it grinned back at me, its teeth much, much sharper than mine.\\n\\nHope that sent a fun little shiver down your spine! Anything else I can help you with today?\"</span>\n",
       "<span style=\"color: #7fbf7f; text-decoration-color: #7fbf7f\">│   </span><span style=\"font-weight: bold\">}</span>,\n",
       "<span style=\"color: #7fbf7f; text-decoration-color: #7fbf7f\">│   </span><span style=\"font-weight: bold\">{</span><span style=\"color: #008000; text-decoration-color: #008000\">'role'</span>: <span style=\"color: #008000; text-decoration-color: #008000\">'user'</span>, <span style=\"color: #008000; text-decoration-color: #008000\">'content'</span>: <span style=\"color: #008000; text-decoration-color: #008000\">'What was my first message?'</span><span style=\"font-weight: bold\">}</span>,\n",
       "<span style=\"color: #7fbf7f; text-decoration-color: #7fbf7f\">│   </span><span style=\"font-weight: bold\">{</span>\n",
       "<span style=\"color: #7fbf7f; text-decoration-color: #7fbf7f\">│   │   </span><span style=\"color: #008000; text-decoration-color: #008000\">'role'</span>: <span style=\"color: #008000; text-decoration-color: #008000\">'assistant'</span>,\n",
       "<span style=\"color: #7fbf7f; text-decoration-color: #7fbf7f\">│   │   </span><span style=\"color: #008000; text-decoration-color: #008000\">'content'</span>: <span style=\"color: #008000; text-decoration-color: #008000\">'Oh, what a fun little memory game! I\\'d be happy to remind you!\\n\\nYour very first message to me was: \"Share a 2 sentence horror story\"\\n\\nIt was a great way to start our chat! Is there anything else I can recall for you or help you with?'</span>\n",
       "<span style=\"color: #7fbf7f; text-decoration-color: #7fbf7f\">│   </span><span style=\"font-weight: bold\">}</span>\n",
       "<span style=\"font-weight: bold\">]</span>\n",
       "</pre>\n"
      ]
     },
     "metadata": {},
     "output_type": "display_data"
    }
   ],
   "execution_count": 5
  },
  {
   "metadata": {},
   "cell_type": "markdown",
   "source": "# Chat history session storage",
   "id": "b8bd56d3787280ee"
  },
  {
   "metadata": {
    "ExecuteTime": {
     "end_time": "2025-05-27T08:58:11.132095Z",
     "start_time": "2025-05-27T08:57:58.598457Z"
    }
   },
   "cell_type": "code",
   "source": [
    "agent = Agent(\n",
    "    model=Gemini(id=\"gemini-2.5-pro-preview-05-06\"),\n",
    "    # Fix the session id to continue the same session across execution cycles\n",
    "    session_id=\"fixed_id_for_demo\",\n",
    "    storage=SqliteStorage(table_name=\"agent_sessions\", db_file=\"tmp/data.db\"),\n",
    "    add_history_to_messages=True,\n",
    "    num_history_runs=3,\n",
    ")\n",
    "agent.print_response(\"What was my last question?\")\n",
    "agent.print_response(\"What is the capital of France?\")\n",
    "agent.print_response(\"What was my last question?\")\n",
    "pprint(agent.get_messages_for_session())"
   ],
   "id": "ec82763042fb32fc",
   "outputs": [
    {
     "data": {
      "text/plain": [
       "Output()"
      ],
      "application/vnd.jupyter.widget-view+json": {
       "version_major": 2,
       "version_minor": 0,
       "model_id": "c42e036eb1af40b1980a9da090136609"
      }
     },
     "metadata": {},
     "output_type": "display_data"
    },
    {
     "data": {
      "text/plain": [],
      "text/html": [
       "<pre style=\"white-space:pre;overflow-x:auto;line-height:normal;font-family:Menlo,'DejaVu Sans Mono',consolas,'Courier New',monospace\"></pre>\n"
      ]
     },
     "metadata": {},
     "output_type": "display_data"
    },
    {
     "data": {
      "text/plain": [
       "Output()"
      ],
      "application/vnd.jupyter.widget-view+json": {
       "version_major": 2,
       "version_minor": 0,
       "model_id": "9385d6601987421985094c6a8c389e47"
      }
     },
     "metadata": {},
     "output_type": "display_data"
    },
    {
     "data": {
      "text/plain": [],
      "text/html": [
       "<pre style=\"white-space:pre;overflow-x:auto;line-height:normal;font-family:Menlo,'DejaVu Sans Mono',consolas,'Courier New',monospace\"></pre>\n"
      ]
     },
     "metadata": {},
     "output_type": "display_data"
    },
    {
     "data": {
      "text/plain": [
       "Output()"
      ],
      "application/vnd.jupyter.widget-view+json": {
       "version_major": 2,
       "version_minor": 0,
       "model_id": "6403bf23d7a94bddaffe1655a9df277b"
      }
     },
     "metadata": {},
     "output_type": "display_data"
    },
    {
     "data": {
      "text/plain": [],
      "text/html": [
       "<pre style=\"white-space:pre;overflow-x:auto;line-height:normal;font-family:Menlo,'DejaVu Sans Mono',consolas,'Courier New',monospace\"></pre>\n"
      ]
     },
     "metadata": {},
     "output_type": "display_data"
    },
    {
     "data": {
      "text/plain": [
       "\u001B[1m[\u001B[0m\n",
       "\u001B[2;32m│   \u001B[0m\u001B[1;35mMessage\u001B[0m\u001B[1m(\u001B[0m\n",
       "\u001B[2;32m│   │   \u001B[0m\u001B[33mrole\u001B[0m=\u001B[32m'user'\u001B[0m,\n",
       "\u001B[2;32m│   │   \u001B[0m\u001B[33mcontent\u001B[0m=\u001B[32m'What was my last question?'\u001B[0m,\n",
       "\u001B[2;32m│   │   \u001B[0m\u001B[33mname\u001B[0m=\u001B[3;35mNone\u001B[0m,\n",
       "\u001B[2;32m│   │   \u001B[0m\u001B[33mtool_call_id\u001B[0m=\u001B[3;35mNone\u001B[0m,\n",
       "\u001B[2;32m│   │   \u001B[0m\u001B[33mtool_calls\u001B[0m=\u001B[3;35mNone\u001B[0m,\n",
       "\u001B[2;32m│   │   \u001B[0m\u001B[33maudio\u001B[0m=\u001B[3;35mNone\u001B[0m,\n",
       "\u001B[2;32m│   │   \u001B[0m\u001B[33mimages\u001B[0m=\u001B[3;35mNone\u001B[0m,\n",
       "\u001B[2;32m│   │   \u001B[0m\u001B[33mvideos\u001B[0m=\u001B[3;35mNone\u001B[0m,\n",
       "\u001B[2;32m│   │   \u001B[0m\u001B[33mfiles\u001B[0m=\u001B[3;35mNone\u001B[0m,\n",
       "\u001B[2;32m│   │   \u001B[0m\u001B[33maudio_output\u001B[0m=\u001B[3;35mNone\u001B[0m,\n",
       "\u001B[2;32m│   │   \u001B[0m\u001B[33mimage_output\u001B[0m=\u001B[3;35mNone\u001B[0m,\n",
       "\u001B[2;32m│   │   \u001B[0m\u001B[33mthinking\u001B[0m=\u001B[3;35mNone\u001B[0m,\n",
       "\u001B[2;32m│   │   \u001B[0m\u001B[33mredacted_thinking\u001B[0m=\u001B[3;35mNone\u001B[0m,\n",
       "\u001B[2;32m│   │   \u001B[0m\u001B[33mprovider_data\u001B[0m=\u001B[3;35mNone\u001B[0m,\n",
       "\u001B[2;32m│   │   \u001B[0m\u001B[33mcitations\u001B[0m=\u001B[3;35mNone\u001B[0m,\n",
       "\u001B[2;32m│   │   \u001B[0m\u001B[33mreasoning_content\u001B[0m=\u001B[3;35mNone\u001B[0m,\n",
       "\u001B[2;32m│   │   \u001B[0m\u001B[33mtool_name\u001B[0m=\u001B[3;35mNone\u001B[0m,\n",
       "\u001B[2;32m│   │   \u001B[0m\u001B[33mtool_args\u001B[0m=\u001B[3;35mNone\u001B[0m,\n",
       "\u001B[2;32m│   │   \u001B[0m\u001B[33mtool_call_error\u001B[0m=\u001B[3;35mNone\u001B[0m,\n",
       "\u001B[2;32m│   │   \u001B[0m\u001B[33mstop_after_tool_call\u001B[0m=\u001B[3;91mFalse\u001B[0m,\n",
       "\u001B[2;32m│   │   \u001B[0m\u001B[33madd_to_agent_memory\u001B[0m=\u001B[3;92mTrue\u001B[0m,\n",
       "\u001B[2;32m│   │   \u001B[0m\u001B[33mfrom_history\u001B[0m=\u001B[3;91mFalse\u001B[0m,\n",
       "\u001B[2;32m│   │   \u001B[0m\u001B[33mmetrics\u001B[0m=\u001B[1;35mMessageMetrics\u001B[0m\u001B[1m(\u001B[0m\n",
       "\u001B[2;32m│   │   │   \u001B[0m\u001B[33minput_tokens\u001B[0m=\u001B[1;36m0\u001B[0m,\n",
       "\u001B[2;32m│   │   │   \u001B[0m\u001B[33moutput_tokens\u001B[0m=\u001B[1;36m0\u001B[0m,\n",
       "\u001B[2;32m│   │   │   \u001B[0m\u001B[33mtotal_tokens\u001B[0m=\u001B[1;36m0\u001B[0m,\n",
       "\u001B[2;32m│   │   │   \u001B[0m\u001B[33maudio_tokens\u001B[0m=\u001B[1;36m0\u001B[0m,\n",
       "\u001B[2;32m│   │   │   \u001B[0m\u001B[33minput_audio_tokens\u001B[0m=\u001B[1;36m0\u001B[0m,\n",
       "\u001B[2;32m│   │   │   \u001B[0m\u001B[33moutput_audio_tokens\u001B[0m=\u001B[1;36m0\u001B[0m,\n",
       "\u001B[2;32m│   │   │   \u001B[0m\u001B[33mcached_tokens\u001B[0m=\u001B[1;36m0\u001B[0m,\n",
       "\u001B[2;32m│   │   │   \u001B[0m\u001B[33mreasoning_tokens\u001B[0m=\u001B[1;36m0\u001B[0m,\n",
       "\u001B[2;32m│   │   │   \u001B[0m\u001B[33mprompt_tokens\u001B[0m=\u001B[1;36m0\u001B[0m,\n",
       "\u001B[2;32m│   │   │   \u001B[0m\u001B[33mcompletion_tokens\u001B[0m=\u001B[1;36m0\u001B[0m,\n",
       "\u001B[2;32m│   │   │   \u001B[0m\u001B[33mprompt_tokens_details\u001B[0m=\u001B[3;35mNone\u001B[0m,\n",
       "\u001B[2;32m│   │   │   \u001B[0m\u001B[33mcompletion_tokens_details\u001B[0m=\u001B[3;35mNone\u001B[0m,\n",
       "\u001B[2;32m│   │   │   \u001B[0m\u001B[33madditional_metrics\u001B[0m=\u001B[3;35mNone\u001B[0m,\n",
       "\u001B[2;32m│   │   │   \u001B[0m\u001B[33mtime\u001B[0m=\u001B[3;35mNone\u001B[0m,\n",
       "\u001B[2;32m│   │   │   \u001B[0m\u001B[33mtime_to_first_token\u001B[0m=\u001B[3;35mNone\u001B[0m,\n",
       "\u001B[2;32m│   │   │   \u001B[0m\u001B[33mtimer\u001B[0m=\u001B[3;35mNone\u001B[0m\n",
       "\u001B[2;32m│   │   \u001B[0m\u001B[1m)\u001B[0m,\n",
       "\u001B[2;32m│   │   \u001B[0m\u001B[33mreferences\u001B[0m=\u001B[3;35mNone\u001B[0m,\n",
       "\u001B[2;32m│   │   \u001B[0m\u001B[33mcreated_at\u001B[0m=\u001B[1;36m1748336278\u001B[0m\n",
       "\u001B[2;32m│   \u001B[0m\u001B[1m)\u001B[0m,\n",
       "\u001B[2;32m│   \u001B[0m\u001B[1;35mMessage\u001B[0m\u001B[1m(\u001B[0m\n",
       "\u001B[2;32m│   │   \u001B[0m\u001B[33mrole\u001B[0m=\u001B[32m'assistant'\u001B[0m,\n",
       "\u001B[2;32m│   │   \u001B[0m\u001B[33mcontent\u001B[0m=\u001B[32m'This is actually the first question you\\'ve asked me in this particular conversation.\\n\\nSo, technically, \"What was my last question?\" is your last \u001B[0m\u001B[32m(\u001B[0m\u001B[32mand first\u001B[0m\u001B[32m)\u001B[0m\u001B[32m question to me in this session! 😊'\u001B[0m,\n",
       "\u001B[2;32m│   │   \u001B[0m\u001B[33mname\u001B[0m=\u001B[3;35mNone\u001B[0m,\n",
       "\u001B[2;32m│   │   \u001B[0m\u001B[33mtool_call_id\u001B[0m=\u001B[3;35mNone\u001B[0m,\n",
       "\u001B[2;32m│   │   \u001B[0m\u001B[33mtool_calls\u001B[0m=\u001B[3;35mNone\u001B[0m,\n",
       "\u001B[2;32m│   │   \u001B[0m\u001B[33maudio\u001B[0m=\u001B[3;35mNone\u001B[0m,\n",
       "\u001B[2;32m│   │   \u001B[0m\u001B[33mimages\u001B[0m=\u001B[3;35mNone\u001B[0m,\n",
       "\u001B[2;32m│   │   \u001B[0m\u001B[33mvideos\u001B[0m=\u001B[3;35mNone\u001B[0m,\n",
       "\u001B[2;32m│   │   \u001B[0m\u001B[33mfiles\u001B[0m=\u001B[3;35mNone\u001B[0m,\n",
       "\u001B[2;32m│   │   \u001B[0m\u001B[33maudio_output\u001B[0m=\u001B[3;35mNone\u001B[0m,\n",
       "\u001B[2;32m│   │   \u001B[0m\u001B[33mimage_output\u001B[0m=\u001B[3;35mNone\u001B[0m,\n",
       "\u001B[2;32m│   │   \u001B[0m\u001B[33mthinking\u001B[0m=\u001B[3;35mNone\u001B[0m,\n",
       "\u001B[2;32m│   │   \u001B[0m\u001B[33mredacted_thinking\u001B[0m=\u001B[3;35mNone\u001B[0m,\n",
       "\u001B[2;32m│   │   \u001B[0m\u001B[33mprovider_data\u001B[0m=\u001B[3;35mNone\u001B[0m,\n",
       "\u001B[2;32m│   │   \u001B[0m\u001B[33mcitations\u001B[0m=\u001B[3;35mNone\u001B[0m,\n",
       "\u001B[2;32m│   │   \u001B[0m\u001B[33mreasoning_content\u001B[0m=\u001B[3;35mNone\u001B[0m,\n",
       "\u001B[2;32m│   │   \u001B[0m\u001B[33mtool_name\u001B[0m=\u001B[3;35mNone\u001B[0m,\n",
       "\u001B[2;32m│   │   \u001B[0m\u001B[33mtool_args\u001B[0m=\u001B[3;35mNone\u001B[0m,\n",
       "\u001B[2;32m│   │   \u001B[0m\u001B[33mtool_call_error\u001B[0m=\u001B[3;35mNone\u001B[0m,\n",
       "\u001B[2;32m│   │   \u001B[0m\u001B[33mstop_after_tool_call\u001B[0m=\u001B[3;91mFalse\u001B[0m,\n",
       "\u001B[2;32m│   │   \u001B[0m\u001B[33madd_to_agent_memory\u001B[0m=\u001B[3;92mTrue\u001B[0m,\n",
       "\u001B[2;32m│   │   \u001B[0m\u001B[33mfrom_history\u001B[0m=\u001B[3;91mFalse\u001B[0m,\n",
       "\u001B[2;32m│   │   \u001B[0m\u001B[33mmetrics\u001B[0m=\u001B[1;35mMessageMetrics\u001B[0m\u001B[1m(\u001B[0m\n",
       "\u001B[2;32m│   │   │   \u001B[0m\u001B[33minput_tokens\u001B[0m=\u001B[1;36m7\u001B[0m,\n",
       "\u001B[2;32m│   │   │   \u001B[0m\u001B[33moutput_tokens\u001B[0m=\u001B[1;36m43\u001B[0m,\n",
       "\u001B[2;32m│   │   │   \u001B[0m\u001B[33mtotal_tokens\u001B[0m=\u001B[1;36m312\u001B[0m,\n",
       "\u001B[2;32m│   │   │   \u001B[0m\u001B[33maudio_tokens\u001B[0m=\u001B[1;36m0\u001B[0m,\n",
       "\u001B[2;32m│   │   │   \u001B[0m\u001B[33minput_audio_tokens\u001B[0m=\u001B[1;36m0\u001B[0m,\n",
       "\u001B[2;32m│   │   │   \u001B[0m\u001B[33moutput_audio_tokens\u001B[0m=\u001B[1;36m0\u001B[0m,\n",
       "\u001B[2;32m│   │   │   \u001B[0m\u001B[33mcached_tokens\u001B[0m=\u001B[1;36m0\u001B[0m,\n",
       "\u001B[2;32m│   │   │   \u001B[0m\u001B[33mreasoning_tokens\u001B[0m=\u001B[1;36m0\u001B[0m,\n",
       "\u001B[2;32m│   │   │   \u001B[0m\u001B[33mprompt_tokens\u001B[0m=\u001B[1;36m0\u001B[0m,\n",
       "\u001B[2;32m│   │   │   \u001B[0m\u001B[33mcompletion_tokens\u001B[0m=\u001B[1;36m0\u001B[0m,\n",
       "\u001B[2;32m│   │   │   \u001B[0m\u001B[33mprompt_tokens_details\u001B[0m=\u001B[3;35mNone\u001B[0m,\n",
       "\u001B[2;32m│   │   │   \u001B[0m\u001B[33mcompletion_tokens_details\u001B[0m=\u001B[3;35mNone\u001B[0m,\n",
       "\u001B[2;32m│   │   │   \u001B[0m\u001B[33madditional_metrics\u001B[0m=\u001B[3;35mNone\u001B[0m,\n",
       "\u001B[2;32m│   │   │   \u001B[0m\u001B[33mtime\u001B[0m=\u001B[1;36m4\u001B[0m\u001B[1;36m.755196707999858\u001B[0m,\n",
       "\u001B[2;32m│   │   │   \u001B[0m\u001B[33mtime_to_first_token\u001B[0m=\u001B[3;35mNone\u001B[0m,\n",
       "\u001B[2;32m│   │   │   \u001B[0m\u001B[33mtimer\u001B[0m=\u001B[3;35mNone\u001B[0m\n",
       "\u001B[2;32m│   │   \u001B[0m\u001B[1m)\u001B[0m,\n",
       "\u001B[2;32m│   │   \u001B[0m\u001B[33mreferences\u001B[0m=\u001B[3;35mNone\u001B[0m,\n",
       "\u001B[2;32m│   │   \u001B[0m\u001B[33mcreated_at\u001B[0m=\u001B[1;36m1748336278\u001B[0m\n",
       "\u001B[2;32m│   \u001B[0m\u001B[1m)\u001B[0m,\n",
       "\u001B[2;32m│   \u001B[0m\u001B[1;35mMessage\u001B[0m\u001B[1m(\u001B[0m\n",
       "\u001B[2;32m│   │   \u001B[0m\u001B[33mrole\u001B[0m=\u001B[32m'user'\u001B[0m,\n",
       "\u001B[2;32m│   │   \u001B[0m\u001B[33mcontent\u001B[0m=\u001B[32m'What is the capital of France?'\u001B[0m,\n",
       "\u001B[2;32m│   │   \u001B[0m\u001B[33mname\u001B[0m=\u001B[3;35mNone\u001B[0m,\n",
       "\u001B[2;32m│   │   \u001B[0m\u001B[33mtool_call_id\u001B[0m=\u001B[3;35mNone\u001B[0m,\n",
       "\u001B[2;32m│   │   \u001B[0m\u001B[33mtool_calls\u001B[0m=\u001B[3;35mNone\u001B[0m,\n",
       "\u001B[2;32m│   │   \u001B[0m\u001B[33maudio\u001B[0m=\u001B[3;35mNone\u001B[0m,\n",
       "\u001B[2;32m│   │   \u001B[0m\u001B[33mimages\u001B[0m=\u001B[3;35mNone\u001B[0m,\n",
       "\u001B[2;32m│   │   \u001B[0m\u001B[33mvideos\u001B[0m=\u001B[3;35mNone\u001B[0m,\n",
       "\u001B[2;32m│   │   \u001B[0m\u001B[33mfiles\u001B[0m=\u001B[3;35mNone\u001B[0m,\n",
       "\u001B[2;32m│   │   \u001B[0m\u001B[33maudio_output\u001B[0m=\u001B[3;35mNone\u001B[0m,\n",
       "\u001B[2;32m│   │   \u001B[0m\u001B[33mimage_output\u001B[0m=\u001B[3;35mNone\u001B[0m,\n",
       "\u001B[2;32m│   │   \u001B[0m\u001B[33mthinking\u001B[0m=\u001B[3;35mNone\u001B[0m,\n",
       "\u001B[2;32m│   │   \u001B[0m\u001B[33mredacted_thinking\u001B[0m=\u001B[3;35mNone\u001B[0m,\n",
       "\u001B[2;32m│   │   \u001B[0m\u001B[33mprovider_data\u001B[0m=\u001B[3;35mNone\u001B[0m,\n",
       "\u001B[2;32m│   │   \u001B[0m\u001B[33mcitations\u001B[0m=\u001B[3;35mNone\u001B[0m,\n",
       "\u001B[2;32m│   │   \u001B[0m\u001B[33mreasoning_content\u001B[0m=\u001B[3;35mNone\u001B[0m,\n",
       "\u001B[2;32m│   │   \u001B[0m\u001B[33mtool_name\u001B[0m=\u001B[3;35mNone\u001B[0m,\n",
       "\u001B[2;32m│   │   \u001B[0m\u001B[33mtool_args\u001B[0m=\u001B[3;35mNone\u001B[0m,\n",
       "\u001B[2;32m│   │   \u001B[0m\u001B[33mtool_call_error\u001B[0m=\u001B[3;35mNone\u001B[0m,\n",
       "\u001B[2;32m│   │   \u001B[0m\u001B[33mstop_after_tool_call\u001B[0m=\u001B[3;91mFalse\u001B[0m,\n",
       "\u001B[2;32m│   │   \u001B[0m\u001B[33madd_to_agent_memory\u001B[0m=\u001B[3;92mTrue\u001B[0m,\n",
       "\u001B[2;32m│   │   \u001B[0m\u001B[33mfrom_history\u001B[0m=\u001B[3;91mFalse\u001B[0m,\n",
       "\u001B[2;32m│   │   \u001B[0m\u001B[33mmetrics\u001B[0m=\u001B[1;35mMessageMetrics\u001B[0m\u001B[1m(\u001B[0m\n",
       "\u001B[2;32m│   │   │   \u001B[0m\u001B[33minput_tokens\u001B[0m=\u001B[1;36m0\u001B[0m,\n",
       "\u001B[2;32m│   │   │   \u001B[0m\u001B[33moutput_tokens\u001B[0m=\u001B[1;36m0\u001B[0m,\n",
       "\u001B[2;32m│   │   │   \u001B[0m\u001B[33mtotal_tokens\u001B[0m=\u001B[1;36m0\u001B[0m,\n",
       "\u001B[2;32m│   │   │   \u001B[0m\u001B[33maudio_tokens\u001B[0m=\u001B[1;36m0\u001B[0m,\n",
       "\u001B[2;32m│   │   │   \u001B[0m\u001B[33minput_audio_tokens\u001B[0m=\u001B[1;36m0\u001B[0m,\n",
       "\u001B[2;32m│   │   │   \u001B[0m\u001B[33moutput_audio_tokens\u001B[0m=\u001B[1;36m0\u001B[0m,\n",
       "\u001B[2;32m│   │   │   \u001B[0m\u001B[33mcached_tokens\u001B[0m=\u001B[1;36m0\u001B[0m,\n",
       "\u001B[2;32m│   │   │   \u001B[0m\u001B[33mreasoning_tokens\u001B[0m=\u001B[1;36m0\u001B[0m,\n",
       "\u001B[2;32m│   │   │   \u001B[0m\u001B[33mprompt_tokens\u001B[0m=\u001B[1;36m0\u001B[0m,\n",
       "\u001B[2;32m│   │   │   \u001B[0m\u001B[33mcompletion_tokens\u001B[0m=\u001B[1;36m0\u001B[0m,\n",
       "\u001B[2;32m│   │   │   \u001B[0m\u001B[33mprompt_tokens_details\u001B[0m=\u001B[3;35mNone\u001B[0m,\n",
       "\u001B[2;32m│   │   │   \u001B[0m\u001B[33mcompletion_tokens_details\u001B[0m=\u001B[3;35mNone\u001B[0m,\n",
       "\u001B[2;32m│   │   │   \u001B[0m\u001B[33madditional_metrics\u001B[0m=\u001B[3;35mNone\u001B[0m,\n",
       "\u001B[2;32m│   │   │   \u001B[0m\u001B[33mtime\u001B[0m=\u001B[3;35mNone\u001B[0m,\n",
       "\u001B[2;32m│   │   │   \u001B[0m\u001B[33mtime_to_first_token\u001B[0m=\u001B[3;35mNone\u001B[0m,\n",
       "\u001B[2;32m│   │   │   \u001B[0m\u001B[33mtimer\u001B[0m=\u001B[3;35mNone\u001B[0m\n",
       "\u001B[2;32m│   │   \u001B[0m\u001B[1m)\u001B[0m,\n",
       "\u001B[2;32m│   │   \u001B[0m\u001B[33mreferences\u001B[0m=\u001B[3;35mNone\u001B[0m,\n",
       "\u001B[2;32m│   │   \u001B[0m\u001B[33mcreated_at\u001B[0m=\u001B[1;36m1748336284\u001B[0m\n",
       "\u001B[2;32m│   \u001B[0m\u001B[1m)\u001B[0m,\n",
       "\u001B[2;32m│   \u001B[0m\u001B[1;35mMessage\u001B[0m\u001B[1m(\u001B[0m\n",
       "\u001B[2;32m│   │   \u001B[0m\u001B[33mrole\u001B[0m=\u001B[32m'assistant'\u001B[0m,\n",
       "\u001B[2;32m│   │   \u001B[0m\u001B[33mcontent\u001B[0m=\u001B[32m'The capital of France is **Paris**.'\u001B[0m,\n",
       "\u001B[2;32m│   │   \u001B[0m\u001B[33mname\u001B[0m=\u001B[3;35mNone\u001B[0m,\n",
       "\u001B[2;32m│   │   \u001B[0m\u001B[33mtool_call_id\u001B[0m=\u001B[3;35mNone\u001B[0m,\n",
       "\u001B[2;32m│   │   \u001B[0m\u001B[33mtool_calls\u001B[0m=\u001B[3;35mNone\u001B[0m,\n",
       "\u001B[2;32m│   │   \u001B[0m\u001B[33maudio\u001B[0m=\u001B[3;35mNone\u001B[0m,\n",
       "\u001B[2;32m│   │   \u001B[0m\u001B[33mimages\u001B[0m=\u001B[3;35mNone\u001B[0m,\n",
       "\u001B[2;32m│   │   \u001B[0m\u001B[33mvideos\u001B[0m=\u001B[3;35mNone\u001B[0m,\n",
       "\u001B[2;32m│   │   \u001B[0m\u001B[33mfiles\u001B[0m=\u001B[3;35mNone\u001B[0m,\n",
       "\u001B[2;32m│   │   \u001B[0m\u001B[33maudio_output\u001B[0m=\u001B[3;35mNone\u001B[0m,\n",
       "\u001B[2;32m│   │   \u001B[0m\u001B[33mimage_output\u001B[0m=\u001B[3;35mNone\u001B[0m,\n",
       "\u001B[2;32m│   │   \u001B[0m\u001B[33mthinking\u001B[0m=\u001B[3;35mNone\u001B[0m,\n",
       "\u001B[2;32m│   │   \u001B[0m\u001B[33mredacted_thinking\u001B[0m=\u001B[3;35mNone\u001B[0m,\n",
       "\u001B[2;32m│   │   \u001B[0m\u001B[33mprovider_data\u001B[0m=\u001B[3;35mNone\u001B[0m,\n",
       "\u001B[2;32m│   │   \u001B[0m\u001B[33mcitations\u001B[0m=\u001B[3;35mNone\u001B[0m,\n",
       "\u001B[2;32m│   │   \u001B[0m\u001B[33mreasoning_content\u001B[0m=\u001B[3;35mNone\u001B[0m,\n",
       "\u001B[2;32m│   │   \u001B[0m\u001B[33mtool_name\u001B[0m=\u001B[3;35mNone\u001B[0m,\n",
       "\u001B[2;32m│   │   \u001B[0m\u001B[33mtool_args\u001B[0m=\u001B[3;35mNone\u001B[0m,\n",
       "\u001B[2;32m│   │   \u001B[0m\u001B[33mtool_call_error\u001B[0m=\u001B[3;35mNone\u001B[0m,\n",
       "\u001B[2;32m│   │   \u001B[0m\u001B[33mstop_after_tool_call\u001B[0m=\u001B[3;91mFalse\u001B[0m,\n",
       "\u001B[2;32m│   │   \u001B[0m\u001B[33madd_to_agent_memory\u001B[0m=\u001B[3;92mTrue\u001B[0m,\n",
       "\u001B[2;32m│   │   \u001B[0m\u001B[33mfrom_history\u001B[0m=\u001B[3;91mFalse\u001B[0m,\n",
       "\u001B[2;32m│   │   \u001B[0m\u001B[33mmetrics\u001B[0m=\u001B[1;35mMessageMetrics\u001B[0m\u001B[1m(\u001B[0m\n",
       "\u001B[2;32m│   │   │   \u001B[0m\u001B[33minput_tokens\u001B[0m=\u001B[1;36m59\u001B[0m,\n",
       "\u001B[2;32m│   │   │   \u001B[0m\u001B[33moutput_tokens\u001B[0m=\u001B[1;36m8\u001B[0m,\n",
       "\u001B[2;32m│   │   │   \u001B[0m\u001B[33mtotal_tokens\u001B[0m=\u001B[1;36m202\u001B[0m,\n",
       "\u001B[2;32m│   │   │   \u001B[0m\u001B[33maudio_tokens\u001B[0m=\u001B[1;36m0\u001B[0m,\n",
       "\u001B[2;32m│   │   │   \u001B[0m\u001B[33minput_audio_tokens\u001B[0m=\u001B[1;36m0\u001B[0m,\n",
       "\u001B[2;32m│   │   │   \u001B[0m\u001B[33moutput_audio_tokens\u001B[0m=\u001B[1;36m0\u001B[0m,\n",
       "\u001B[2;32m│   │   │   \u001B[0m\u001B[33mcached_tokens\u001B[0m=\u001B[1;36m0\u001B[0m,\n",
       "\u001B[2;32m│   │   │   \u001B[0m\u001B[33mreasoning_tokens\u001B[0m=\u001B[1;36m0\u001B[0m,\n",
       "\u001B[2;32m│   │   │   \u001B[0m\u001B[33mprompt_tokens\u001B[0m=\u001B[1;36m0\u001B[0m,\n",
       "\u001B[2;32m│   │   │   \u001B[0m\u001B[33mcompletion_tokens\u001B[0m=\u001B[1;36m0\u001B[0m,\n",
       "\u001B[2;32m│   │   │   \u001B[0m\u001B[33mprompt_tokens_details\u001B[0m=\u001B[3;35mNone\u001B[0m,\n",
       "\u001B[2;32m│   │   │   \u001B[0m\u001B[33mcompletion_tokens_details\u001B[0m=\u001B[3;35mNone\u001B[0m,\n",
       "\u001B[2;32m│   │   │   \u001B[0m\u001B[33madditional_metrics\u001B[0m=\u001B[3;35mNone\u001B[0m,\n",
       "\u001B[2;32m│   │   │   \u001B[0m\u001B[33mtime\u001B[0m=\u001B[1;36m2\u001B[0m\u001B[1;36m.513862457999494\u001B[0m,\n",
       "\u001B[2;32m│   │   │   \u001B[0m\u001B[33mtime_to_first_token\u001B[0m=\u001B[3;35mNone\u001B[0m,\n",
       "\u001B[2;32m│   │   │   \u001B[0m\u001B[33mtimer\u001B[0m=\u001B[3;35mNone\u001B[0m\n",
       "\u001B[2;32m│   │   \u001B[0m\u001B[1m)\u001B[0m,\n",
       "\u001B[2;32m│   │   \u001B[0m\u001B[33mreferences\u001B[0m=\u001B[3;35mNone\u001B[0m,\n",
       "\u001B[2;32m│   │   \u001B[0m\u001B[33mcreated_at\u001B[0m=\u001B[1;36m1748336284\u001B[0m\n",
       "\u001B[2;32m│   \u001B[0m\u001B[1m)\u001B[0m,\n",
       "\u001B[2;32m│   \u001B[0m\u001B[1;35mMessage\u001B[0m\u001B[1m(\u001B[0m\n",
       "\u001B[2;32m│   │   \u001B[0m\u001B[33mrole\u001B[0m=\u001B[32m'user'\u001B[0m,\n",
       "\u001B[2;32m│   │   \u001B[0m\u001B[33mcontent\u001B[0m=\u001B[32m'What was my last question?'\u001B[0m,\n",
       "\u001B[2;32m│   │   \u001B[0m\u001B[33mname\u001B[0m=\u001B[3;35mNone\u001B[0m,\n",
       "\u001B[2;32m│   │   \u001B[0m\u001B[33mtool_call_id\u001B[0m=\u001B[3;35mNone\u001B[0m,\n",
       "\u001B[2;32m│   │   \u001B[0m\u001B[33mtool_calls\u001B[0m=\u001B[3;35mNone\u001B[0m,\n",
       "\u001B[2;32m│   │   \u001B[0m\u001B[33maudio\u001B[0m=\u001B[3;35mNone\u001B[0m,\n",
       "\u001B[2;32m│   │   \u001B[0m\u001B[33mimages\u001B[0m=\u001B[3;35mNone\u001B[0m,\n",
       "\u001B[2;32m│   │   \u001B[0m\u001B[33mvideos\u001B[0m=\u001B[3;35mNone\u001B[0m,\n",
       "\u001B[2;32m│   │   \u001B[0m\u001B[33mfiles\u001B[0m=\u001B[3;35mNone\u001B[0m,\n",
       "\u001B[2;32m│   │   \u001B[0m\u001B[33maudio_output\u001B[0m=\u001B[3;35mNone\u001B[0m,\n",
       "\u001B[2;32m│   │   \u001B[0m\u001B[33mimage_output\u001B[0m=\u001B[3;35mNone\u001B[0m,\n",
       "\u001B[2;32m│   │   \u001B[0m\u001B[33mthinking\u001B[0m=\u001B[3;35mNone\u001B[0m,\n",
       "\u001B[2;32m│   │   \u001B[0m\u001B[33mredacted_thinking\u001B[0m=\u001B[3;35mNone\u001B[0m,\n",
       "\u001B[2;32m│   │   \u001B[0m\u001B[33mprovider_data\u001B[0m=\u001B[3;35mNone\u001B[0m,\n",
       "\u001B[2;32m│   │   \u001B[0m\u001B[33mcitations\u001B[0m=\u001B[3;35mNone\u001B[0m,\n",
       "\u001B[2;32m│   │   \u001B[0m\u001B[33mreasoning_content\u001B[0m=\u001B[3;35mNone\u001B[0m,\n",
       "\u001B[2;32m│   │   \u001B[0m\u001B[33mtool_name\u001B[0m=\u001B[3;35mNone\u001B[0m,\n",
       "\u001B[2;32m│   │   \u001B[0m\u001B[33mtool_args\u001B[0m=\u001B[3;35mNone\u001B[0m,\n",
       "\u001B[2;32m│   │   \u001B[0m\u001B[33mtool_call_error\u001B[0m=\u001B[3;35mNone\u001B[0m,\n",
       "\u001B[2;32m│   │   \u001B[0m\u001B[33mstop_after_tool_call\u001B[0m=\u001B[3;91mFalse\u001B[0m,\n",
       "\u001B[2;32m│   │   \u001B[0m\u001B[33madd_to_agent_memory\u001B[0m=\u001B[3;92mTrue\u001B[0m,\n",
       "\u001B[2;32m│   │   \u001B[0m\u001B[33mfrom_history\u001B[0m=\u001B[3;91mFalse\u001B[0m,\n",
       "\u001B[2;32m│   │   \u001B[0m\u001B[33mmetrics\u001B[0m=\u001B[1;35mMessageMetrics\u001B[0m\u001B[1m(\u001B[0m\n",
       "\u001B[2;32m│   │   │   \u001B[0m\u001B[33minput_tokens\u001B[0m=\u001B[1;36m0\u001B[0m,\n",
       "\u001B[2;32m│   │   │   \u001B[0m\u001B[33moutput_tokens\u001B[0m=\u001B[1;36m0\u001B[0m,\n",
       "\u001B[2;32m│   │   │   \u001B[0m\u001B[33mtotal_tokens\u001B[0m=\u001B[1;36m0\u001B[0m,\n",
       "\u001B[2;32m│   │   │   \u001B[0m\u001B[33maudio_tokens\u001B[0m=\u001B[1;36m0\u001B[0m,\n",
       "\u001B[2;32m│   │   │   \u001B[0m\u001B[33minput_audio_tokens\u001B[0m=\u001B[1;36m0\u001B[0m,\n",
       "\u001B[2;32m│   │   │   \u001B[0m\u001B[33moutput_audio_tokens\u001B[0m=\u001B[1;36m0\u001B[0m,\n",
       "\u001B[2;32m│   │   │   \u001B[0m\u001B[33mcached_tokens\u001B[0m=\u001B[1;36m0\u001B[0m,\n",
       "\u001B[2;32m│   │   │   \u001B[0m\u001B[33mreasoning_tokens\u001B[0m=\u001B[1;36m0\u001B[0m,\n",
       "\u001B[2;32m│   │   │   \u001B[0m\u001B[33mprompt_tokens\u001B[0m=\u001B[1;36m0\u001B[0m,\n",
       "\u001B[2;32m│   │   │   \u001B[0m\u001B[33mcompletion_tokens\u001B[0m=\u001B[1;36m0\u001B[0m,\n",
       "\u001B[2;32m│   │   │   \u001B[0m\u001B[33mprompt_tokens_details\u001B[0m=\u001B[3;35mNone\u001B[0m,\n",
       "\u001B[2;32m│   │   │   \u001B[0m\u001B[33mcompletion_tokens_details\u001B[0m=\u001B[3;35mNone\u001B[0m,\n",
       "\u001B[2;32m│   │   │   \u001B[0m\u001B[33madditional_metrics\u001B[0m=\u001B[3;35mNone\u001B[0m,\n",
       "\u001B[2;32m│   │   │   \u001B[0m\u001B[33mtime\u001B[0m=\u001B[3;35mNone\u001B[0m,\n",
       "\u001B[2;32m│   │   │   \u001B[0m\u001B[33mtime_to_first_token\u001B[0m=\u001B[3;35mNone\u001B[0m,\n",
       "\u001B[2;32m│   │   │   \u001B[0m\u001B[33mtimer\u001B[0m=\u001B[3;35mNone\u001B[0m\n",
       "\u001B[2;32m│   │   \u001B[0m\u001B[1m)\u001B[0m,\n",
       "\u001B[2;32m│   │   \u001B[0m\u001B[33mreferences\u001B[0m=\u001B[3;35mNone\u001B[0m,\n",
       "\u001B[2;32m│   │   \u001B[0m\u001B[33mcreated_at\u001B[0m=\u001B[1;36m1748336287\u001B[0m\n",
       "\u001B[2;32m│   \u001B[0m\u001B[1m)\u001B[0m,\n",
       "\u001B[2;32m│   \u001B[0m\u001B[1;35mMessage\u001B[0m\u001B[1m(\u001B[0m\n",
       "\u001B[2;32m│   │   \u001B[0m\u001B[33mrole\u001B[0m=\u001B[32m'assistant'\u001B[0m,\n",
       "\u001B[2;32m│   │   \u001B[0m\u001B[33mcontent\u001B[0m=\u001B[32m'Your last question was: \"What is the capital of France?\"'\u001B[0m,\n",
       "\u001B[2;32m│   │   \u001B[0m\u001B[33mname\u001B[0m=\u001B[3;35mNone\u001B[0m,\n",
       "\u001B[2;32m│   │   \u001B[0m\u001B[33mtool_call_id\u001B[0m=\u001B[3;35mNone\u001B[0m,\n",
       "\u001B[2;32m│   │   \u001B[0m\u001B[33mtool_calls\u001B[0m=\u001B[3;35mNone\u001B[0m,\n",
       "\u001B[2;32m│   │   \u001B[0m\u001B[33maudio\u001B[0m=\u001B[3;35mNone\u001B[0m,\n",
       "\u001B[2;32m│   │   \u001B[0m\u001B[33mimages\u001B[0m=\u001B[3;35mNone\u001B[0m,\n",
       "\u001B[2;32m│   │   \u001B[0m\u001B[33mvideos\u001B[0m=\u001B[3;35mNone\u001B[0m,\n",
       "\u001B[2;32m│   │   \u001B[0m\u001B[33mfiles\u001B[0m=\u001B[3;35mNone\u001B[0m,\n",
       "\u001B[2;32m│   │   \u001B[0m\u001B[33maudio_output\u001B[0m=\u001B[3;35mNone\u001B[0m,\n",
       "\u001B[2;32m│   │   \u001B[0m\u001B[33mimage_output\u001B[0m=\u001B[3;35mNone\u001B[0m,\n",
       "\u001B[2;32m│   │   \u001B[0m\u001B[33mthinking\u001B[0m=\u001B[3;35mNone\u001B[0m,\n",
       "\u001B[2;32m│   │   \u001B[0m\u001B[33mredacted_thinking\u001B[0m=\u001B[3;35mNone\u001B[0m,\n",
       "\u001B[2;32m│   │   \u001B[0m\u001B[33mprovider_data\u001B[0m=\u001B[3;35mNone\u001B[0m,\n",
       "\u001B[2;32m│   │   \u001B[0m\u001B[33mcitations\u001B[0m=\u001B[3;35mNone\u001B[0m,\n",
       "\u001B[2;32m│   │   \u001B[0m\u001B[33mreasoning_content\u001B[0m=\u001B[3;35mNone\u001B[0m,\n",
       "\u001B[2;32m│   │   \u001B[0m\u001B[33mtool_name\u001B[0m=\u001B[3;35mNone\u001B[0m,\n",
       "\u001B[2;32m│   │   \u001B[0m\u001B[33mtool_args\u001B[0m=\u001B[3;35mNone\u001B[0m,\n",
       "\u001B[2;32m│   │   \u001B[0m\u001B[33mtool_call_error\u001B[0m=\u001B[3;35mNone\u001B[0m,\n",
       "\u001B[2;32m│   │   \u001B[0m\u001B[33mstop_after_tool_call\u001B[0m=\u001B[3;91mFalse\u001B[0m,\n",
       "\u001B[2;32m│   │   \u001B[0m\u001B[33madd_to_agent_memory\u001B[0m=\u001B[3;92mTrue\u001B[0m,\n",
       "\u001B[2;32m│   │   \u001B[0m\u001B[33mfrom_history\u001B[0m=\u001B[3;91mFalse\u001B[0m,\n",
       "\u001B[2;32m│   │   \u001B[0m\u001B[33mmetrics\u001B[0m=\u001B[1;35mMessageMetrics\u001B[0m\u001B[1m(\u001B[0m\n",
       "\u001B[2;32m│   │   │   \u001B[0m\u001B[33minput_tokens\u001B[0m=\u001B[1;36m75\u001B[0m,\n",
       "\u001B[2;32m│   │   │   \u001B[0m\u001B[33moutput_tokens\u001B[0m=\u001B[1;36m13\u001B[0m,\n",
       "\u001B[2;32m│   │   │   \u001B[0m\u001B[33mtotal_tokens\u001B[0m=\u001B[1;36m176\u001B[0m,\n",
       "\u001B[2;32m│   │   │   \u001B[0m\u001B[33maudio_tokens\u001B[0m=\u001B[1;36m0\u001B[0m,\n",
       "\u001B[2;32m│   │   │   \u001B[0m\u001B[33minput_audio_tokens\u001B[0m=\u001B[1;36m0\u001B[0m,\n",
       "\u001B[2;32m│   │   │   \u001B[0m\u001B[33moutput_audio_tokens\u001B[0m=\u001B[1;36m0\u001B[0m,\n",
       "\u001B[2;32m│   │   │   \u001B[0m\u001B[33mcached_tokens\u001B[0m=\u001B[1;36m0\u001B[0m,\n",
       "\u001B[2;32m│   │   │   \u001B[0m\u001B[33mreasoning_tokens\u001B[0m=\u001B[1;36m0\u001B[0m,\n",
       "\u001B[2;32m│   │   │   \u001B[0m\u001B[33mprompt_tokens\u001B[0m=\u001B[1;36m0\u001B[0m,\n",
       "\u001B[2;32m│   │   │   \u001B[0m\u001B[33mcompletion_tokens\u001B[0m=\u001B[1;36m0\u001B[0m,\n",
       "\u001B[2;32m│   │   │   \u001B[0m\u001B[33mprompt_tokens_details\u001B[0m=\u001B[3;35mNone\u001B[0m,\n",
       "\u001B[2;32m│   │   │   \u001B[0m\u001B[33mcompletion_tokens_details\u001B[0m=\u001B[3;35mNone\u001B[0m,\n",
       "\u001B[2;32m│   │   │   \u001B[0m\u001B[33madditional_metrics\u001B[0m=\u001B[3;35mNone\u001B[0m,\n",
       "\u001B[2;32m│   │   │   \u001B[0m\u001B[33mtime\u001B[0m=\u001B[1;36m2\u001B[0m\u001B[1;36m.096097459001612\u001B[0m,\n",
       "\u001B[2;32m│   │   │   \u001B[0m\u001B[33mtime_to_first_token\u001B[0m=\u001B[3;35mNone\u001B[0m,\n",
       "\u001B[2;32m│   │   │   \u001B[0m\u001B[33mtimer\u001B[0m=\u001B[1m<\u001B[0m\u001B[1;95magno.utils.timer.Timer\u001B[0m\u001B[39m object at \u001B[0m\u001B[1;36m0x11e9ccc80\u001B[0m\u001B[1m>\u001B[0m\n",
       "\u001B[2;32m│   │   \u001B[0m\u001B[1m)\u001B[0m,\n",
       "\u001B[2;32m│   │   \u001B[0m\u001B[33mreferences\u001B[0m=\u001B[3;35mNone\u001B[0m,\n",
       "\u001B[2;32m│   │   \u001B[0m\u001B[33mcreated_at\u001B[0m=\u001B[1;36m1748336287\u001B[0m\n",
       "\u001B[2;32m│   \u001B[0m\u001B[1m)\u001B[0m\n",
       "\u001B[1m]\u001B[0m\n"
      ],
      "text/html": [
       "<pre style=\"white-space:pre;overflow-x:auto;line-height:normal;font-family:Menlo,'DejaVu Sans Mono',consolas,'Courier New',monospace\"><span style=\"font-weight: bold\">[</span>\n",
       "<span style=\"color: #7fbf7f; text-decoration-color: #7fbf7f\">│   </span><span style=\"color: #800080; text-decoration-color: #800080; font-weight: bold\">Message</span><span style=\"font-weight: bold\">(</span>\n",
       "<span style=\"color: #7fbf7f; text-decoration-color: #7fbf7f\">│   │   </span><span style=\"color: #808000; text-decoration-color: #808000\">role</span>=<span style=\"color: #008000; text-decoration-color: #008000\">'user'</span>,\n",
       "<span style=\"color: #7fbf7f; text-decoration-color: #7fbf7f\">│   │   </span><span style=\"color: #808000; text-decoration-color: #808000\">content</span>=<span style=\"color: #008000; text-decoration-color: #008000\">'What was my last question?'</span>,\n",
       "<span style=\"color: #7fbf7f; text-decoration-color: #7fbf7f\">│   │   </span><span style=\"color: #808000; text-decoration-color: #808000\">name</span>=<span style=\"color: #800080; text-decoration-color: #800080; font-style: italic\">None</span>,\n",
       "<span style=\"color: #7fbf7f; text-decoration-color: #7fbf7f\">│   │   </span><span style=\"color: #808000; text-decoration-color: #808000\">tool_call_id</span>=<span style=\"color: #800080; text-decoration-color: #800080; font-style: italic\">None</span>,\n",
       "<span style=\"color: #7fbf7f; text-decoration-color: #7fbf7f\">│   │   </span><span style=\"color: #808000; text-decoration-color: #808000\">tool_calls</span>=<span style=\"color: #800080; text-decoration-color: #800080; font-style: italic\">None</span>,\n",
       "<span style=\"color: #7fbf7f; text-decoration-color: #7fbf7f\">│   │   </span><span style=\"color: #808000; text-decoration-color: #808000\">audio</span>=<span style=\"color: #800080; text-decoration-color: #800080; font-style: italic\">None</span>,\n",
       "<span style=\"color: #7fbf7f; text-decoration-color: #7fbf7f\">│   │   </span><span style=\"color: #808000; text-decoration-color: #808000\">images</span>=<span style=\"color: #800080; text-decoration-color: #800080; font-style: italic\">None</span>,\n",
       "<span style=\"color: #7fbf7f; text-decoration-color: #7fbf7f\">│   │   </span><span style=\"color: #808000; text-decoration-color: #808000\">videos</span>=<span style=\"color: #800080; text-decoration-color: #800080; font-style: italic\">None</span>,\n",
       "<span style=\"color: #7fbf7f; text-decoration-color: #7fbf7f\">│   │   </span><span style=\"color: #808000; text-decoration-color: #808000\">files</span>=<span style=\"color: #800080; text-decoration-color: #800080; font-style: italic\">None</span>,\n",
       "<span style=\"color: #7fbf7f; text-decoration-color: #7fbf7f\">│   │   </span><span style=\"color: #808000; text-decoration-color: #808000\">audio_output</span>=<span style=\"color: #800080; text-decoration-color: #800080; font-style: italic\">None</span>,\n",
       "<span style=\"color: #7fbf7f; text-decoration-color: #7fbf7f\">│   │   </span><span style=\"color: #808000; text-decoration-color: #808000\">image_output</span>=<span style=\"color: #800080; text-decoration-color: #800080; font-style: italic\">None</span>,\n",
       "<span style=\"color: #7fbf7f; text-decoration-color: #7fbf7f\">│   │   </span><span style=\"color: #808000; text-decoration-color: #808000\">thinking</span>=<span style=\"color: #800080; text-decoration-color: #800080; font-style: italic\">None</span>,\n",
       "<span style=\"color: #7fbf7f; text-decoration-color: #7fbf7f\">│   │   </span><span style=\"color: #808000; text-decoration-color: #808000\">redacted_thinking</span>=<span style=\"color: #800080; text-decoration-color: #800080; font-style: italic\">None</span>,\n",
       "<span style=\"color: #7fbf7f; text-decoration-color: #7fbf7f\">│   │   </span><span style=\"color: #808000; text-decoration-color: #808000\">provider_data</span>=<span style=\"color: #800080; text-decoration-color: #800080; font-style: italic\">None</span>,\n",
       "<span style=\"color: #7fbf7f; text-decoration-color: #7fbf7f\">│   │   </span><span style=\"color: #808000; text-decoration-color: #808000\">citations</span>=<span style=\"color: #800080; text-decoration-color: #800080; font-style: italic\">None</span>,\n",
       "<span style=\"color: #7fbf7f; text-decoration-color: #7fbf7f\">│   │   </span><span style=\"color: #808000; text-decoration-color: #808000\">reasoning_content</span>=<span style=\"color: #800080; text-decoration-color: #800080; font-style: italic\">None</span>,\n",
       "<span style=\"color: #7fbf7f; text-decoration-color: #7fbf7f\">│   │   </span><span style=\"color: #808000; text-decoration-color: #808000\">tool_name</span>=<span style=\"color: #800080; text-decoration-color: #800080; font-style: italic\">None</span>,\n",
       "<span style=\"color: #7fbf7f; text-decoration-color: #7fbf7f\">│   │   </span><span style=\"color: #808000; text-decoration-color: #808000\">tool_args</span>=<span style=\"color: #800080; text-decoration-color: #800080; font-style: italic\">None</span>,\n",
       "<span style=\"color: #7fbf7f; text-decoration-color: #7fbf7f\">│   │   </span><span style=\"color: #808000; text-decoration-color: #808000\">tool_call_error</span>=<span style=\"color: #800080; text-decoration-color: #800080; font-style: italic\">None</span>,\n",
       "<span style=\"color: #7fbf7f; text-decoration-color: #7fbf7f\">│   │   </span><span style=\"color: #808000; text-decoration-color: #808000\">stop_after_tool_call</span>=<span style=\"color: #ff0000; text-decoration-color: #ff0000; font-style: italic\">False</span>,\n",
       "<span style=\"color: #7fbf7f; text-decoration-color: #7fbf7f\">│   │   </span><span style=\"color: #808000; text-decoration-color: #808000\">add_to_agent_memory</span>=<span style=\"color: #00ff00; text-decoration-color: #00ff00; font-style: italic\">True</span>,\n",
       "<span style=\"color: #7fbf7f; text-decoration-color: #7fbf7f\">│   │   </span><span style=\"color: #808000; text-decoration-color: #808000\">from_history</span>=<span style=\"color: #ff0000; text-decoration-color: #ff0000; font-style: italic\">False</span>,\n",
       "<span style=\"color: #7fbf7f; text-decoration-color: #7fbf7f\">│   │   </span><span style=\"color: #808000; text-decoration-color: #808000\">metrics</span>=<span style=\"color: #800080; text-decoration-color: #800080; font-weight: bold\">MessageMetrics</span><span style=\"font-weight: bold\">(</span>\n",
       "<span style=\"color: #7fbf7f; text-decoration-color: #7fbf7f\">│   │   │   </span><span style=\"color: #808000; text-decoration-color: #808000\">input_tokens</span>=<span style=\"color: #008080; text-decoration-color: #008080; font-weight: bold\">0</span>,\n",
       "<span style=\"color: #7fbf7f; text-decoration-color: #7fbf7f\">│   │   │   </span><span style=\"color: #808000; text-decoration-color: #808000\">output_tokens</span>=<span style=\"color: #008080; text-decoration-color: #008080; font-weight: bold\">0</span>,\n",
       "<span style=\"color: #7fbf7f; text-decoration-color: #7fbf7f\">│   │   │   </span><span style=\"color: #808000; text-decoration-color: #808000\">total_tokens</span>=<span style=\"color: #008080; text-decoration-color: #008080; font-weight: bold\">0</span>,\n",
       "<span style=\"color: #7fbf7f; text-decoration-color: #7fbf7f\">│   │   │   </span><span style=\"color: #808000; text-decoration-color: #808000\">audio_tokens</span>=<span style=\"color: #008080; text-decoration-color: #008080; font-weight: bold\">0</span>,\n",
       "<span style=\"color: #7fbf7f; text-decoration-color: #7fbf7f\">│   │   │   </span><span style=\"color: #808000; text-decoration-color: #808000\">input_audio_tokens</span>=<span style=\"color: #008080; text-decoration-color: #008080; font-weight: bold\">0</span>,\n",
       "<span style=\"color: #7fbf7f; text-decoration-color: #7fbf7f\">│   │   │   </span><span style=\"color: #808000; text-decoration-color: #808000\">output_audio_tokens</span>=<span style=\"color: #008080; text-decoration-color: #008080; font-weight: bold\">0</span>,\n",
       "<span style=\"color: #7fbf7f; text-decoration-color: #7fbf7f\">│   │   │   </span><span style=\"color: #808000; text-decoration-color: #808000\">cached_tokens</span>=<span style=\"color: #008080; text-decoration-color: #008080; font-weight: bold\">0</span>,\n",
       "<span style=\"color: #7fbf7f; text-decoration-color: #7fbf7f\">│   │   │   </span><span style=\"color: #808000; text-decoration-color: #808000\">reasoning_tokens</span>=<span style=\"color: #008080; text-decoration-color: #008080; font-weight: bold\">0</span>,\n",
       "<span style=\"color: #7fbf7f; text-decoration-color: #7fbf7f\">│   │   │   </span><span style=\"color: #808000; text-decoration-color: #808000\">prompt_tokens</span>=<span style=\"color: #008080; text-decoration-color: #008080; font-weight: bold\">0</span>,\n",
       "<span style=\"color: #7fbf7f; text-decoration-color: #7fbf7f\">│   │   │   </span><span style=\"color: #808000; text-decoration-color: #808000\">completion_tokens</span>=<span style=\"color: #008080; text-decoration-color: #008080; font-weight: bold\">0</span>,\n",
       "<span style=\"color: #7fbf7f; text-decoration-color: #7fbf7f\">│   │   │   </span><span style=\"color: #808000; text-decoration-color: #808000\">prompt_tokens_details</span>=<span style=\"color: #800080; text-decoration-color: #800080; font-style: italic\">None</span>,\n",
       "<span style=\"color: #7fbf7f; text-decoration-color: #7fbf7f\">│   │   │   </span><span style=\"color: #808000; text-decoration-color: #808000\">completion_tokens_details</span>=<span style=\"color: #800080; text-decoration-color: #800080; font-style: italic\">None</span>,\n",
       "<span style=\"color: #7fbf7f; text-decoration-color: #7fbf7f\">│   │   │   </span><span style=\"color: #808000; text-decoration-color: #808000\">additional_metrics</span>=<span style=\"color: #800080; text-decoration-color: #800080; font-style: italic\">None</span>,\n",
       "<span style=\"color: #7fbf7f; text-decoration-color: #7fbf7f\">│   │   │   </span><span style=\"color: #808000; text-decoration-color: #808000\">time</span>=<span style=\"color: #800080; text-decoration-color: #800080; font-style: italic\">None</span>,\n",
       "<span style=\"color: #7fbf7f; text-decoration-color: #7fbf7f\">│   │   │   </span><span style=\"color: #808000; text-decoration-color: #808000\">time_to_first_token</span>=<span style=\"color: #800080; text-decoration-color: #800080; font-style: italic\">None</span>,\n",
       "<span style=\"color: #7fbf7f; text-decoration-color: #7fbf7f\">│   │   │   </span><span style=\"color: #808000; text-decoration-color: #808000\">timer</span>=<span style=\"color: #800080; text-decoration-color: #800080; font-style: italic\">None</span>\n",
       "<span style=\"color: #7fbf7f; text-decoration-color: #7fbf7f\">│   │   </span><span style=\"font-weight: bold\">)</span>,\n",
       "<span style=\"color: #7fbf7f; text-decoration-color: #7fbf7f\">│   │   </span><span style=\"color: #808000; text-decoration-color: #808000\">references</span>=<span style=\"color: #800080; text-decoration-color: #800080; font-style: italic\">None</span>,\n",
       "<span style=\"color: #7fbf7f; text-decoration-color: #7fbf7f\">│   │   </span><span style=\"color: #808000; text-decoration-color: #808000\">created_at</span>=<span style=\"color: #008080; text-decoration-color: #008080; font-weight: bold\">1748336278</span>\n",
       "<span style=\"color: #7fbf7f; text-decoration-color: #7fbf7f\">│   </span><span style=\"font-weight: bold\">)</span>,\n",
       "<span style=\"color: #7fbf7f; text-decoration-color: #7fbf7f\">│   </span><span style=\"color: #800080; text-decoration-color: #800080; font-weight: bold\">Message</span><span style=\"font-weight: bold\">(</span>\n",
       "<span style=\"color: #7fbf7f; text-decoration-color: #7fbf7f\">│   │   </span><span style=\"color: #808000; text-decoration-color: #808000\">role</span>=<span style=\"color: #008000; text-decoration-color: #008000\">'assistant'</span>,\n",
       "<span style=\"color: #7fbf7f; text-decoration-color: #7fbf7f\">│   │   </span><span style=\"color: #808000; text-decoration-color: #808000\">content</span>=<span style=\"color: #008000; text-decoration-color: #008000\">'This is actually the first question you\\'ve asked me in this particular conversation.\\n\\nSo, technically, \"What was my last question?\" is your last (and first) question to me in this session! 😊'</span>,\n",
       "<span style=\"color: #7fbf7f; text-decoration-color: #7fbf7f\">│   │   </span><span style=\"color: #808000; text-decoration-color: #808000\">name</span>=<span style=\"color: #800080; text-decoration-color: #800080; font-style: italic\">None</span>,\n",
       "<span style=\"color: #7fbf7f; text-decoration-color: #7fbf7f\">│   │   </span><span style=\"color: #808000; text-decoration-color: #808000\">tool_call_id</span>=<span style=\"color: #800080; text-decoration-color: #800080; font-style: italic\">None</span>,\n",
       "<span style=\"color: #7fbf7f; text-decoration-color: #7fbf7f\">│   │   </span><span style=\"color: #808000; text-decoration-color: #808000\">tool_calls</span>=<span style=\"color: #800080; text-decoration-color: #800080; font-style: italic\">None</span>,\n",
       "<span style=\"color: #7fbf7f; text-decoration-color: #7fbf7f\">│   │   </span><span style=\"color: #808000; text-decoration-color: #808000\">audio</span>=<span style=\"color: #800080; text-decoration-color: #800080; font-style: italic\">None</span>,\n",
       "<span style=\"color: #7fbf7f; text-decoration-color: #7fbf7f\">│   │   </span><span style=\"color: #808000; text-decoration-color: #808000\">images</span>=<span style=\"color: #800080; text-decoration-color: #800080; font-style: italic\">None</span>,\n",
       "<span style=\"color: #7fbf7f; text-decoration-color: #7fbf7f\">│   │   </span><span style=\"color: #808000; text-decoration-color: #808000\">videos</span>=<span style=\"color: #800080; text-decoration-color: #800080; font-style: italic\">None</span>,\n",
       "<span style=\"color: #7fbf7f; text-decoration-color: #7fbf7f\">│   │   </span><span style=\"color: #808000; text-decoration-color: #808000\">files</span>=<span style=\"color: #800080; text-decoration-color: #800080; font-style: italic\">None</span>,\n",
       "<span style=\"color: #7fbf7f; text-decoration-color: #7fbf7f\">│   │   </span><span style=\"color: #808000; text-decoration-color: #808000\">audio_output</span>=<span style=\"color: #800080; text-decoration-color: #800080; font-style: italic\">None</span>,\n",
       "<span style=\"color: #7fbf7f; text-decoration-color: #7fbf7f\">│   │   </span><span style=\"color: #808000; text-decoration-color: #808000\">image_output</span>=<span style=\"color: #800080; text-decoration-color: #800080; font-style: italic\">None</span>,\n",
       "<span style=\"color: #7fbf7f; text-decoration-color: #7fbf7f\">│   │   </span><span style=\"color: #808000; text-decoration-color: #808000\">thinking</span>=<span style=\"color: #800080; text-decoration-color: #800080; font-style: italic\">None</span>,\n",
       "<span style=\"color: #7fbf7f; text-decoration-color: #7fbf7f\">│   │   </span><span style=\"color: #808000; text-decoration-color: #808000\">redacted_thinking</span>=<span style=\"color: #800080; text-decoration-color: #800080; font-style: italic\">None</span>,\n",
       "<span style=\"color: #7fbf7f; text-decoration-color: #7fbf7f\">│   │   </span><span style=\"color: #808000; text-decoration-color: #808000\">provider_data</span>=<span style=\"color: #800080; text-decoration-color: #800080; font-style: italic\">None</span>,\n",
       "<span style=\"color: #7fbf7f; text-decoration-color: #7fbf7f\">│   │   </span><span style=\"color: #808000; text-decoration-color: #808000\">citations</span>=<span style=\"color: #800080; text-decoration-color: #800080; font-style: italic\">None</span>,\n",
       "<span style=\"color: #7fbf7f; text-decoration-color: #7fbf7f\">│   │   </span><span style=\"color: #808000; text-decoration-color: #808000\">reasoning_content</span>=<span style=\"color: #800080; text-decoration-color: #800080; font-style: italic\">None</span>,\n",
       "<span style=\"color: #7fbf7f; text-decoration-color: #7fbf7f\">│   │   </span><span style=\"color: #808000; text-decoration-color: #808000\">tool_name</span>=<span style=\"color: #800080; text-decoration-color: #800080; font-style: italic\">None</span>,\n",
       "<span style=\"color: #7fbf7f; text-decoration-color: #7fbf7f\">│   │   </span><span style=\"color: #808000; text-decoration-color: #808000\">tool_args</span>=<span style=\"color: #800080; text-decoration-color: #800080; font-style: italic\">None</span>,\n",
       "<span style=\"color: #7fbf7f; text-decoration-color: #7fbf7f\">│   │   </span><span style=\"color: #808000; text-decoration-color: #808000\">tool_call_error</span>=<span style=\"color: #800080; text-decoration-color: #800080; font-style: italic\">None</span>,\n",
       "<span style=\"color: #7fbf7f; text-decoration-color: #7fbf7f\">│   │   </span><span style=\"color: #808000; text-decoration-color: #808000\">stop_after_tool_call</span>=<span style=\"color: #ff0000; text-decoration-color: #ff0000; font-style: italic\">False</span>,\n",
       "<span style=\"color: #7fbf7f; text-decoration-color: #7fbf7f\">│   │   </span><span style=\"color: #808000; text-decoration-color: #808000\">add_to_agent_memory</span>=<span style=\"color: #00ff00; text-decoration-color: #00ff00; font-style: italic\">True</span>,\n",
       "<span style=\"color: #7fbf7f; text-decoration-color: #7fbf7f\">│   │   </span><span style=\"color: #808000; text-decoration-color: #808000\">from_history</span>=<span style=\"color: #ff0000; text-decoration-color: #ff0000; font-style: italic\">False</span>,\n",
       "<span style=\"color: #7fbf7f; text-decoration-color: #7fbf7f\">│   │   </span><span style=\"color: #808000; text-decoration-color: #808000\">metrics</span>=<span style=\"color: #800080; text-decoration-color: #800080; font-weight: bold\">MessageMetrics</span><span style=\"font-weight: bold\">(</span>\n",
       "<span style=\"color: #7fbf7f; text-decoration-color: #7fbf7f\">│   │   │   </span><span style=\"color: #808000; text-decoration-color: #808000\">input_tokens</span>=<span style=\"color: #008080; text-decoration-color: #008080; font-weight: bold\">7</span>,\n",
       "<span style=\"color: #7fbf7f; text-decoration-color: #7fbf7f\">│   │   │   </span><span style=\"color: #808000; text-decoration-color: #808000\">output_tokens</span>=<span style=\"color: #008080; text-decoration-color: #008080; font-weight: bold\">43</span>,\n",
       "<span style=\"color: #7fbf7f; text-decoration-color: #7fbf7f\">│   │   │   </span><span style=\"color: #808000; text-decoration-color: #808000\">total_tokens</span>=<span style=\"color: #008080; text-decoration-color: #008080; font-weight: bold\">312</span>,\n",
       "<span style=\"color: #7fbf7f; text-decoration-color: #7fbf7f\">│   │   │   </span><span style=\"color: #808000; text-decoration-color: #808000\">audio_tokens</span>=<span style=\"color: #008080; text-decoration-color: #008080; font-weight: bold\">0</span>,\n",
       "<span style=\"color: #7fbf7f; text-decoration-color: #7fbf7f\">│   │   │   </span><span style=\"color: #808000; text-decoration-color: #808000\">input_audio_tokens</span>=<span style=\"color: #008080; text-decoration-color: #008080; font-weight: bold\">0</span>,\n",
       "<span style=\"color: #7fbf7f; text-decoration-color: #7fbf7f\">│   │   │   </span><span style=\"color: #808000; text-decoration-color: #808000\">output_audio_tokens</span>=<span style=\"color: #008080; text-decoration-color: #008080; font-weight: bold\">0</span>,\n",
       "<span style=\"color: #7fbf7f; text-decoration-color: #7fbf7f\">│   │   │   </span><span style=\"color: #808000; text-decoration-color: #808000\">cached_tokens</span>=<span style=\"color: #008080; text-decoration-color: #008080; font-weight: bold\">0</span>,\n",
       "<span style=\"color: #7fbf7f; text-decoration-color: #7fbf7f\">│   │   │   </span><span style=\"color: #808000; text-decoration-color: #808000\">reasoning_tokens</span>=<span style=\"color: #008080; text-decoration-color: #008080; font-weight: bold\">0</span>,\n",
       "<span style=\"color: #7fbf7f; text-decoration-color: #7fbf7f\">│   │   │   </span><span style=\"color: #808000; text-decoration-color: #808000\">prompt_tokens</span>=<span style=\"color: #008080; text-decoration-color: #008080; font-weight: bold\">0</span>,\n",
       "<span style=\"color: #7fbf7f; text-decoration-color: #7fbf7f\">│   │   │   </span><span style=\"color: #808000; text-decoration-color: #808000\">completion_tokens</span>=<span style=\"color: #008080; text-decoration-color: #008080; font-weight: bold\">0</span>,\n",
       "<span style=\"color: #7fbf7f; text-decoration-color: #7fbf7f\">│   │   │   </span><span style=\"color: #808000; text-decoration-color: #808000\">prompt_tokens_details</span>=<span style=\"color: #800080; text-decoration-color: #800080; font-style: italic\">None</span>,\n",
       "<span style=\"color: #7fbf7f; text-decoration-color: #7fbf7f\">│   │   │   </span><span style=\"color: #808000; text-decoration-color: #808000\">completion_tokens_details</span>=<span style=\"color: #800080; text-decoration-color: #800080; font-style: italic\">None</span>,\n",
       "<span style=\"color: #7fbf7f; text-decoration-color: #7fbf7f\">│   │   │   </span><span style=\"color: #808000; text-decoration-color: #808000\">additional_metrics</span>=<span style=\"color: #800080; text-decoration-color: #800080; font-style: italic\">None</span>,\n",
       "<span style=\"color: #7fbf7f; text-decoration-color: #7fbf7f\">│   │   │   </span><span style=\"color: #808000; text-decoration-color: #808000\">time</span>=<span style=\"color: #008080; text-decoration-color: #008080; font-weight: bold\">4.755196707999858</span>,\n",
       "<span style=\"color: #7fbf7f; text-decoration-color: #7fbf7f\">│   │   │   </span><span style=\"color: #808000; text-decoration-color: #808000\">time_to_first_token</span>=<span style=\"color: #800080; text-decoration-color: #800080; font-style: italic\">None</span>,\n",
       "<span style=\"color: #7fbf7f; text-decoration-color: #7fbf7f\">│   │   │   </span><span style=\"color: #808000; text-decoration-color: #808000\">timer</span>=<span style=\"color: #800080; text-decoration-color: #800080; font-style: italic\">None</span>\n",
       "<span style=\"color: #7fbf7f; text-decoration-color: #7fbf7f\">│   │   </span><span style=\"font-weight: bold\">)</span>,\n",
       "<span style=\"color: #7fbf7f; text-decoration-color: #7fbf7f\">│   │   </span><span style=\"color: #808000; text-decoration-color: #808000\">references</span>=<span style=\"color: #800080; text-decoration-color: #800080; font-style: italic\">None</span>,\n",
       "<span style=\"color: #7fbf7f; text-decoration-color: #7fbf7f\">│   │   </span><span style=\"color: #808000; text-decoration-color: #808000\">created_at</span>=<span style=\"color: #008080; text-decoration-color: #008080; font-weight: bold\">1748336278</span>\n",
       "<span style=\"color: #7fbf7f; text-decoration-color: #7fbf7f\">│   </span><span style=\"font-weight: bold\">)</span>,\n",
       "<span style=\"color: #7fbf7f; text-decoration-color: #7fbf7f\">│   </span><span style=\"color: #800080; text-decoration-color: #800080; font-weight: bold\">Message</span><span style=\"font-weight: bold\">(</span>\n",
       "<span style=\"color: #7fbf7f; text-decoration-color: #7fbf7f\">│   │   </span><span style=\"color: #808000; text-decoration-color: #808000\">role</span>=<span style=\"color: #008000; text-decoration-color: #008000\">'user'</span>,\n",
       "<span style=\"color: #7fbf7f; text-decoration-color: #7fbf7f\">│   │   </span><span style=\"color: #808000; text-decoration-color: #808000\">content</span>=<span style=\"color: #008000; text-decoration-color: #008000\">'What is the capital of France?'</span>,\n",
       "<span style=\"color: #7fbf7f; text-decoration-color: #7fbf7f\">│   │   </span><span style=\"color: #808000; text-decoration-color: #808000\">name</span>=<span style=\"color: #800080; text-decoration-color: #800080; font-style: italic\">None</span>,\n",
       "<span style=\"color: #7fbf7f; text-decoration-color: #7fbf7f\">│   │   </span><span style=\"color: #808000; text-decoration-color: #808000\">tool_call_id</span>=<span style=\"color: #800080; text-decoration-color: #800080; font-style: italic\">None</span>,\n",
       "<span style=\"color: #7fbf7f; text-decoration-color: #7fbf7f\">│   │   </span><span style=\"color: #808000; text-decoration-color: #808000\">tool_calls</span>=<span style=\"color: #800080; text-decoration-color: #800080; font-style: italic\">None</span>,\n",
       "<span style=\"color: #7fbf7f; text-decoration-color: #7fbf7f\">│   │   </span><span style=\"color: #808000; text-decoration-color: #808000\">audio</span>=<span style=\"color: #800080; text-decoration-color: #800080; font-style: italic\">None</span>,\n",
       "<span style=\"color: #7fbf7f; text-decoration-color: #7fbf7f\">│   │   </span><span style=\"color: #808000; text-decoration-color: #808000\">images</span>=<span style=\"color: #800080; text-decoration-color: #800080; font-style: italic\">None</span>,\n",
       "<span style=\"color: #7fbf7f; text-decoration-color: #7fbf7f\">│   │   </span><span style=\"color: #808000; text-decoration-color: #808000\">videos</span>=<span style=\"color: #800080; text-decoration-color: #800080; font-style: italic\">None</span>,\n",
       "<span style=\"color: #7fbf7f; text-decoration-color: #7fbf7f\">│   │   </span><span style=\"color: #808000; text-decoration-color: #808000\">files</span>=<span style=\"color: #800080; text-decoration-color: #800080; font-style: italic\">None</span>,\n",
       "<span style=\"color: #7fbf7f; text-decoration-color: #7fbf7f\">│   │   </span><span style=\"color: #808000; text-decoration-color: #808000\">audio_output</span>=<span style=\"color: #800080; text-decoration-color: #800080; font-style: italic\">None</span>,\n",
       "<span style=\"color: #7fbf7f; text-decoration-color: #7fbf7f\">│   │   </span><span style=\"color: #808000; text-decoration-color: #808000\">image_output</span>=<span style=\"color: #800080; text-decoration-color: #800080; font-style: italic\">None</span>,\n",
       "<span style=\"color: #7fbf7f; text-decoration-color: #7fbf7f\">│   │   </span><span style=\"color: #808000; text-decoration-color: #808000\">thinking</span>=<span style=\"color: #800080; text-decoration-color: #800080; font-style: italic\">None</span>,\n",
       "<span style=\"color: #7fbf7f; text-decoration-color: #7fbf7f\">│   │   </span><span style=\"color: #808000; text-decoration-color: #808000\">redacted_thinking</span>=<span style=\"color: #800080; text-decoration-color: #800080; font-style: italic\">None</span>,\n",
       "<span style=\"color: #7fbf7f; text-decoration-color: #7fbf7f\">│   │   </span><span style=\"color: #808000; text-decoration-color: #808000\">provider_data</span>=<span style=\"color: #800080; text-decoration-color: #800080; font-style: italic\">None</span>,\n",
       "<span style=\"color: #7fbf7f; text-decoration-color: #7fbf7f\">│   │   </span><span style=\"color: #808000; text-decoration-color: #808000\">citations</span>=<span style=\"color: #800080; text-decoration-color: #800080; font-style: italic\">None</span>,\n",
       "<span style=\"color: #7fbf7f; text-decoration-color: #7fbf7f\">│   │   </span><span style=\"color: #808000; text-decoration-color: #808000\">reasoning_content</span>=<span style=\"color: #800080; text-decoration-color: #800080; font-style: italic\">None</span>,\n",
       "<span style=\"color: #7fbf7f; text-decoration-color: #7fbf7f\">│   │   </span><span style=\"color: #808000; text-decoration-color: #808000\">tool_name</span>=<span style=\"color: #800080; text-decoration-color: #800080; font-style: italic\">None</span>,\n",
       "<span style=\"color: #7fbf7f; text-decoration-color: #7fbf7f\">│   │   </span><span style=\"color: #808000; text-decoration-color: #808000\">tool_args</span>=<span style=\"color: #800080; text-decoration-color: #800080; font-style: italic\">None</span>,\n",
       "<span style=\"color: #7fbf7f; text-decoration-color: #7fbf7f\">│   │   </span><span style=\"color: #808000; text-decoration-color: #808000\">tool_call_error</span>=<span style=\"color: #800080; text-decoration-color: #800080; font-style: italic\">None</span>,\n",
       "<span style=\"color: #7fbf7f; text-decoration-color: #7fbf7f\">│   │   </span><span style=\"color: #808000; text-decoration-color: #808000\">stop_after_tool_call</span>=<span style=\"color: #ff0000; text-decoration-color: #ff0000; font-style: italic\">False</span>,\n",
       "<span style=\"color: #7fbf7f; text-decoration-color: #7fbf7f\">│   │   </span><span style=\"color: #808000; text-decoration-color: #808000\">add_to_agent_memory</span>=<span style=\"color: #00ff00; text-decoration-color: #00ff00; font-style: italic\">True</span>,\n",
       "<span style=\"color: #7fbf7f; text-decoration-color: #7fbf7f\">│   │   </span><span style=\"color: #808000; text-decoration-color: #808000\">from_history</span>=<span style=\"color: #ff0000; text-decoration-color: #ff0000; font-style: italic\">False</span>,\n",
       "<span style=\"color: #7fbf7f; text-decoration-color: #7fbf7f\">│   │   </span><span style=\"color: #808000; text-decoration-color: #808000\">metrics</span>=<span style=\"color: #800080; text-decoration-color: #800080; font-weight: bold\">MessageMetrics</span><span style=\"font-weight: bold\">(</span>\n",
       "<span style=\"color: #7fbf7f; text-decoration-color: #7fbf7f\">│   │   │   </span><span style=\"color: #808000; text-decoration-color: #808000\">input_tokens</span>=<span style=\"color: #008080; text-decoration-color: #008080; font-weight: bold\">0</span>,\n",
       "<span style=\"color: #7fbf7f; text-decoration-color: #7fbf7f\">│   │   │   </span><span style=\"color: #808000; text-decoration-color: #808000\">output_tokens</span>=<span style=\"color: #008080; text-decoration-color: #008080; font-weight: bold\">0</span>,\n",
       "<span style=\"color: #7fbf7f; text-decoration-color: #7fbf7f\">│   │   │   </span><span style=\"color: #808000; text-decoration-color: #808000\">total_tokens</span>=<span style=\"color: #008080; text-decoration-color: #008080; font-weight: bold\">0</span>,\n",
       "<span style=\"color: #7fbf7f; text-decoration-color: #7fbf7f\">│   │   │   </span><span style=\"color: #808000; text-decoration-color: #808000\">audio_tokens</span>=<span style=\"color: #008080; text-decoration-color: #008080; font-weight: bold\">0</span>,\n",
       "<span style=\"color: #7fbf7f; text-decoration-color: #7fbf7f\">│   │   │   </span><span style=\"color: #808000; text-decoration-color: #808000\">input_audio_tokens</span>=<span style=\"color: #008080; text-decoration-color: #008080; font-weight: bold\">0</span>,\n",
       "<span style=\"color: #7fbf7f; text-decoration-color: #7fbf7f\">│   │   │   </span><span style=\"color: #808000; text-decoration-color: #808000\">output_audio_tokens</span>=<span style=\"color: #008080; text-decoration-color: #008080; font-weight: bold\">0</span>,\n",
       "<span style=\"color: #7fbf7f; text-decoration-color: #7fbf7f\">│   │   │   </span><span style=\"color: #808000; text-decoration-color: #808000\">cached_tokens</span>=<span style=\"color: #008080; text-decoration-color: #008080; font-weight: bold\">0</span>,\n",
       "<span style=\"color: #7fbf7f; text-decoration-color: #7fbf7f\">│   │   │   </span><span style=\"color: #808000; text-decoration-color: #808000\">reasoning_tokens</span>=<span style=\"color: #008080; text-decoration-color: #008080; font-weight: bold\">0</span>,\n",
       "<span style=\"color: #7fbf7f; text-decoration-color: #7fbf7f\">│   │   │   </span><span style=\"color: #808000; text-decoration-color: #808000\">prompt_tokens</span>=<span style=\"color: #008080; text-decoration-color: #008080; font-weight: bold\">0</span>,\n",
       "<span style=\"color: #7fbf7f; text-decoration-color: #7fbf7f\">│   │   │   </span><span style=\"color: #808000; text-decoration-color: #808000\">completion_tokens</span>=<span style=\"color: #008080; text-decoration-color: #008080; font-weight: bold\">0</span>,\n",
       "<span style=\"color: #7fbf7f; text-decoration-color: #7fbf7f\">│   │   │   </span><span style=\"color: #808000; text-decoration-color: #808000\">prompt_tokens_details</span>=<span style=\"color: #800080; text-decoration-color: #800080; font-style: italic\">None</span>,\n",
       "<span style=\"color: #7fbf7f; text-decoration-color: #7fbf7f\">│   │   │   </span><span style=\"color: #808000; text-decoration-color: #808000\">completion_tokens_details</span>=<span style=\"color: #800080; text-decoration-color: #800080; font-style: italic\">None</span>,\n",
       "<span style=\"color: #7fbf7f; text-decoration-color: #7fbf7f\">│   │   │   </span><span style=\"color: #808000; text-decoration-color: #808000\">additional_metrics</span>=<span style=\"color: #800080; text-decoration-color: #800080; font-style: italic\">None</span>,\n",
       "<span style=\"color: #7fbf7f; text-decoration-color: #7fbf7f\">│   │   │   </span><span style=\"color: #808000; text-decoration-color: #808000\">time</span>=<span style=\"color: #800080; text-decoration-color: #800080; font-style: italic\">None</span>,\n",
       "<span style=\"color: #7fbf7f; text-decoration-color: #7fbf7f\">│   │   │   </span><span style=\"color: #808000; text-decoration-color: #808000\">time_to_first_token</span>=<span style=\"color: #800080; text-decoration-color: #800080; font-style: italic\">None</span>,\n",
       "<span style=\"color: #7fbf7f; text-decoration-color: #7fbf7f\">│   │   │   </span><span style=\"color: #808000; text-decoration-color: #808000\">timer</span>=<span style=\"color: #800080; text-decoration-color: #800080; font-style: italic\">None</span>\n",
       "<span style=\"color: #7fbf7f; text-decoration-color: #7fbf7f\">│   │   </span><span style=\"font-weight: bold\">)</span>,\n",
       "<span style=\"color: #7fbf7f; text-decoration-color: #7fbf7f\">│   │   </span><span style=\"color: #808000; text-decoration-color: #808000\">references</span>=<span style=\"color: #800080; text-decoration-color: #800080; font-style: italic\">None</span>,\n",
       "<span style=\"color: #7fbf7f; text-decoration-color: #7fbf7f\">│   │   </span><span style=\"color: #808000; text-decoration-color: #808000\">created_at</span>=<span style=\"color: #008080; text-decoration-color: #008080; font-weight: bold\">1748336284</span>\n",
       "<span style=\"color: #7fbf7f; text-decoration-color: #7fbf7f\">│   </span><span style=\"font-weight: bold\">)</span>,\n",
       "<span style=\"color: #7fbf7f; text-decoration-color: #7fbf7f\">│   </span><span style=\"color: #800080; text-decoration-color: #800080; font-weight: bold\">Message</span><span style=\"font-weight: bold\">(</span>\n",
       "<span style=\"color: #7fbf7f; text-decoration-color: #7fbf7f\">│   │   </span><span style=\"color: #808000; text-decoration-color: #808000\">role</span>=<span style=\"color: #008000; text-decoration-color: #008000\">'assistant'</span>,\n",
       "<span style=\"color: #7fbf7f; text-decoration-color: #7fbf7f\">│   │   </span><span style=\"color: #808000; text-decoration-color: #808000\">content</span>=<span style=\"color: #008000; text-decoration-color: #008000\">'The capital of France is **Paris**.'</span>,\n",
       "<span style=\"color: #7fbf7f; text-decoration-color: #7fbf7f\">│   │   </span><span style=\"color: #808000; text-decoration-color: #808000\">name</span>=<span style=\"color: #800080; text-decoration-color: #800080; font-style: italic\">None</span>,\n",
       "<span style=\"color: #7fbf7f; text-decoration-color: #7fbf7f\">│   │   </span><span style=\"color: #808000; text-decoration-color: #808000\">tool_call_id</span>=<span style=\"color: #800080; text-decoration-color: #800080; font-style: italic\">None</span>,\n",
       "<span style=\"color: #7fbf7f; text-decoration-color: #7fbf7f\">│   │   </span><span style=\"color: #808000; text-decoration-color: #808000\">tool_calls</span>=<span style=\"color: #800080; text-decoration-color: #800080; font-style: italic\">None</span>,\n",
       "<span style=\"color: #7fbf7f; text-decoration-color: #7fbf7f\">│   │   </span><span style=\"color: #808000; text-decoration-color: #808000\">audio</span>=<span style=\"color: #800080; text-decoration-color: #800080; font-style: italic\">None</span>,\n",
       "<span style=\"color: #7fbf7f; text-decoration-color: #7fbf7f\">│   │   </span><span style=\"color: #808000; text-decoration-color: #808000\">images</span>=<span style=\"color: #800080; text-decoration-color: #800080; font-style: italic\">None</span>,\n",
       "<span style=\"color: #7fbf7f; text-decoration-color: #7fbf7f\">│   │   </span><span style=\"color: #808000; text-decoration-color: #808000\">videos</span>=<span style=\"color: #800080; text-decoration-color: #800080; font-style: italic\">None</span>,\n",
       "<span style=\"color: #7fbf7f; text-decoration-color: #7fbf7f\">│   │   </span><span style=\"color: #808000; text-decoration-color: #808000\">files</span>=<span style=\"color: #800080; text-decoration-color: #800080; font-style: italic\">None</span>,\n",
       "<span style=\"color: #7fbf7f; text-decoration-color: #7fbf7f\">│   │   </span><span style=\"color: #808000; text-decoration-color: #808000\">audio_output</span>=<span style=\"color: #800080; text-decoration-color: #800080; font-style: italic\">None</span>,\n",
       "<span style=\"color: #7fbf7f; text-decoration-color: #7fbf7f\">│   │   </span><span style=\"color: #808000; text-decoration-color: #808000\">image_output</span>=<span style=\"color: #800080; text-decoration-color: #800080; font-style: italic\">None</span>,\n",
       "<span style=\"color: #7fbf7f; text-decoration-color: #7fbf7f\">│   │   </span><span style=\"color: #808000; text-decoration-color: #808000\">thinking</span>=<span style=\"color: #800080; text-decoration-color: #800080; font-style: italic\">None</span>,\n",
       "<span style=\"color: #7fbf7f; text-decoration-color: #7fbf7f\">│   │   </span><span style=\"color: #808000; text-decoration-color: #808000\">redacted_thinking</span>=<span style=\"color: #800080; text-decoration-color: #800080; font-style: italic\">None</span>,\n",
       "<span style=\"color: #7fbf7f; text-decoration-color: #7fbf7f\">│   │   </span><span style=\"color: #808000; text-decoration-color: #808000\">provider_data</span>=<span style=\"color: #800080; text-decoration-color: #800080; font-style: italic\">None</span>,\n",
       "<span style=\"color: #7fbf7f; text-decoration-color: #7fbf7f\">│   │   </span><span style=\"color: #808000; text-decoration-color: #808000\">citations</span>=<span style=\"color: #800080; text-decoration-color: #800080; font-style: italic\">None</span>,\n",
       "<span style=\"color: #7fbf7f; text-decoration-color: #7fbf7f\">│   │   </span><span style=\"color: #808000; text-decoration-color: #808000\">reasoning_content</span>=<span style=\"color: #800080; text-decoration-color: #800080; font-style: italic\">None</span>,\n",
       "<span style=\"color: #7fbf7f; text-decoration-color: #7fbf7f\">│   │   </span><span style=\"color: #808000; text-decoration-color: #808000\">tool_name</span>=<span style=\"color: #800080; text-decoration-color: #800080; font-style: italic\">None</span>,\n",
       "<span style=\"color: #7fbf7f; text-decoration-color: #7fbf7f\">│   │   </span><span style=\"color: #808000; text-decoration-color: #808000\">tool_args</span>=<span style=\"color: #800080; text-decoration-color: #800080; font-style: italic\">None</span>,\n",
       "<span style=\"color: #7fbf7f; text-decoration-color: #7fbf7f\">│   │   </span><span style=\"color: #808000; text-decoration-color: #808000\">tool_call_error</span>=<span style=\"color: #800080; text-decoration-color: #800080; font-style: italic\">None</span>,\n",
       "<span style=\"color: #7fbf7f; text-decoration-color: #7fbf7f\">│   │   </span><span style=\"color: #808000; text-decoration-color: #808000\">stop_after_tool_call</span>=<span style=\"color: #ff0000; text-decoration-color: #ff0000; font-style: italic\">False</span>,\n",
       "<span style=\"color: #7fbf7f; text-decoration-color: #7fbf7f\">│   │   </span><span style=\"color: #808000; text-decoration-color: #808000\">add_to_agent_memory</span>=<span style=\"color: #00ff00; text-decoration-color: #00ff00; font-style: italic\">True</span>,\n",
       "<span style=\"color: #7fbf7f; text-decoration-color: #7fbf7f\">│   │   </span><span style=\"color: #808000; text-decoration-color: #808000\">from_history</span>=<span style=\"color: #ff0000; text-decoration-color: #ff0000; font-style: italic\">False</span>,\n",
       "<span style=\"color: #7fbf7f; text-decoration-color: #7fbf7f\">│   │   </span><span style=\"color: #808000; text-decoration-color: #808000\">metrics</span>=<span style=\"color: #800080; text-decoration-color: #800080; font-weight: bold\">MessageMetrics</span><span style=\"font-weight: bold\">(</span>\n",
       "<span style=\"color: #7fbf7f; text-decoration-color: #7fbf7f\">│   │   │   </span><span style=\"color: #808000; text-decoration-color: #808000\">input_tokens</span>=<span style=\"color: #008080; text-decoration-color: #008080; font-weight: bold\">59</span>,\n",
       "<span style=\"color: #7fbf7f; text-decoration-color: #7fbf7f\">│   │   │   </span><span style=\"color: #808000; text-decoration-color: #808000\">output_tokens</span>=<span style=\"color: #008080; text-decoration-color: #008080; font-weight: bold\">8</span>,\n",
       "<span style=\"color: #7fbf7f; text-decoration-color: #7fbf7f\">│   │   │   </span><span style=\"color: #808000; text-decoration-color: #808000\">total_tokens</span>=<span style=\"color: #008080; text-decoration-color: #008080; font-weight: bold\">202</span>,\n",
       "<span style=\"color: #7fbf7f; text-decoration-color: #7fbf7f\">│   │   │   </span><span style=\"color: #808000; text-decoration-color: #808000\">audio_tokens</span>=<span style=\"color: #008080; text-decoration-color: #008080; font-weight: bold\">0</span>,\n",
       "<span style=\"color: #7fbf7f; text-decoration-color: #7fbf7f\">│   │   │   </span><span style=\"color: #808000; text-decoration-color: #808000\">input_audio_tokens</span>=<span style=\"color: #008080; text-decoration-color: #008080; font-weight: bold\">0</span>,\n",
       "<span style=\"color: #7fbf7f; text-decoration-color: #7fbf7f\">│   │   │   </span><span style=\"color: #808000; text-decoration-color: #808000\">output_audio_tokens</span>=<span style=\"color: #008080; text-decoration-color: #008080; font-weight: bold\">0</span>,\n",
       "<span style=\"color: #7fbf7f; text-decoration-color: #7fbf7f\">│   │   │   </span><span style=\"color: #808000; text-decoration-color: #808000\">cached_tokens</span>=<span style=\"color: #008080; text-decoration-color: #008080; font-weight: bold\">0</span>,\n",
       "<span style=\"color: #7fbf7f; text-decoration-color: #7fbf7f\">│   │   │   </span><span style=\"color: #808000; text-decoration-color: #808000\">reasoning_tokens</span>=<span style=\"color: #008080; text-decoration-color: #008080; font-weight: bold\">0</span>,\n",
       "<span style=\"color: #7fbf7f; text-decoration-color: #7fbf7f\">│   │   │   </span><span style=\"color: #808000; text-decoration-color: #808000\">prompt_tokens</span>=<span style=\"color: #008080; text-decoration-color: #008080; font-weight: bold\">0</span>,\n",
       "<span style=\"color: #7fbf7f; text-decoration-color: #7fbf7f\">│   │   │   </span><span style=\"color: #808000; text-decoration-color: #808000\">completion_tokens</span>=<span style=\"color: #008080; text-decoration-color: #008080; font-weight: bold\">0</span>,\n",
       "<span style=\"color: #7fbf7f; text-decoration-color: #7fbf7f\">│   │   │   </span><span style=\"color: #808000; text-decoration-color: #808000\">prompt_tokens_details</span>=<span style=\"color: #800080; text-decoration-color: #800080; font-style: italic\">None</span>,\n",
       "<span style=\"color: #7fbf7f; text-decoration-color: #7fbf7f\">│   │   │   </span><span style=\"color: #808000; text-decoration-color: #808000\">completion_tokens_details</span>=<span style=\"color: #800080; text-decoration-color: #800080; font-style: italic\">None</span>,\n",
       "<span style=\"color: #7fbf7f; text-decoration-color: #7fbf7f\">│   │   │   </span><span style=\"color: #808000; text-decoration-color: #808000\">additional_metrics</span>=<span style=\"color: #800080; text-decoration-color: #800080; font-style: italic\">None</span>,\n",
       "<span style=\"color: #7fbf7f; text-decoration-color: #7fbf7f\">│   │   │   </span><span style=\"color: #808000; text-decoration-color: #808000\">time</span>=<span style=\"color: #008080; text-decoration-color: #008080; font-weight: bold\">2.513862457999494</span>,\n",
       "<span style=\"color: #7fbf7f; text-decoration-color: #7fbf7f\">│   │   │   </span><span style=\"color: #808000; text-decoration-color: #808000\">time_to_first_token</span>=<span style=\"color: #800080; text-decoration-color: #800080; font-style: italic\">None</span>,\n",
       "<span style=\"color: #7fbf7f; text-decoration-color: #7fbf7f\">│   │   │   </span><span style=\"color: #808000; text-decoration-color: #808000\">timer</span>=<span style=\"color: #800080; text-decoration-color: #800080; font-style: italic\">None</span>\n",
       "<span style=\"color: #7fbf7f; text-decoration-color: #7fbf7f\">│   │   </span><span style=\"font-weight: bold\">)</span>,\n",
       "<span style=\"color: #7fbf7f; text-decoration-color: #7fbf7f\">│   │   </span><span style=\"color: #808000; text-decoration-color: #808000\">references</span>=<span style=\"color: #800080; text-decoration-color: #800080; font-style: italic\">None</span>,\n",
       "<span style=\"color: #7fbf7f; text-decoration-color: #7fbf7f\">│   │   </span><span style=\"color: #808000; text-decoration-color: #808000\">created_at</span>=<span style=\"color: #008080; text-decoration-color: #008080; font-weight: bold\">1748336284</span>\n",
       "<span style=\"color: #7fbf7f; text-decoration-color: #7fbf7f\">│   </span><span style=\"font-weight: bold\">)</span>,\n",
       "<span style=\"color: #7fbf7f; text-decoration-color: #7fbf7f\">│   </span><span style=\"color: #800080; text-decoration-color: #800080; font-weight: bold\">Message</span><span style=\"font-weight: bold\">(</span>\n",
       "<span style=\"color: #7fbf7f; text-decoration-color: #7fbf7f\">│   │   </span><span style=\"color: #808000; text-decoration-color: #808000\">role</span>=<span style=\"color: #008000; text-decoration-color: #008000\">'user'</span>,\n",
       "<span style=\"color: #7fbf7f; text-decoration-color: #7fbf7f\">│   │   </span><span style=\"color: #808000; text-decoration-color: #808000\">content</span>=<span style=\"color: #008000; text-decoration-color: #008000\">'What was my last question?'</span>,\n",
       "<span style=\"color: #7fbf7f; text-decoration-color: #7fbf7f\">│   │   </span><span style=\"color: #808000; text-decoration-color: #808000\">name</span>=<span style=\"color: #800080; text-decoration-color: #800080; font-style: italic\">None</span>,\n",
       "<span style=\"color: #7fbf7f; text-decoration-color: #7fbf7f\">│   │   </span><span style=\"color: #808000; text-decoration-color: #808000\">tool_call_id</span>=<span style=\"color: #800080; text-decoration-color: #800080; font-style: italic\">None</span>,\n",
       "<span style=\"color: #7fbf7f; text-decoration-color: #7fbf7f\">│   │   </span><span style=\"color: #808000; text-decoration-color: #808000\">tool_calls</span>=<span style=\"color: #800080; text-decoration-color: #800080; font-style: italic\">None</span>,\n",
       "<span style=\"color: #7fbf7f; text-decoration-color: #7fbf7f\">│   │   </span><span style=\"color: #808000; text-decoration-color: #808000\">audio</span>=<span style=\"color: #800080; text-decoration-color: #800080; font-style: italic\">None</span>,\n",
       "<span style=\"color: #7fbf7f; text-decoration-color: #7fbf7f\">│   │   </span><span style=\"color: #808000; text-decoration-color: #808000\">images</span>=<span style=\"color: #800080; text-decoration-color: #800080; font-style: italic\">None</span>,\n",
       "<span style=\"color: #7fbf7f; text-decoration-color: #7fbf7f\">│   │   </span><span style=\"color: #808000; text-decoration-color: #808000\">videos</span>=<span style=\"color: #800080; text-decoration-color: #800080; font-style: italic\">None</span>,\n",
       "<span style=\"color: #7fbf7f; text-decoration-color: #7fbf7f\">│   │   </span><span style=\"color: #808000; text-decoration-color: #808000\">files</span>=<span style=\"color: #800080; text-decoration-color: #800080; font-style: italic\">None</span>,\n",
       "<span style=\"color: #7fbf7f; text-decoration-color: #7fbf7f\">│   │   </span><span style=\"color: #808000; text-decoration-color: #808000\">audio_output</span>=<span style=\"color: #800080; text-decoration-color: #800080; font-style: italic\">None</span>,\n",
       "<span style=\"color: #7fbf7f; text-decoration-color: #7fbf7f\">│   │   </span><span style=\"color: #808000; text-decoration-color: #808000\">image_output</span>=<span style=\"color: #800080; text-decoration-color: #800080; font-style: italic\">None</span>,\n",
       "<span style=\"color: #7fbf7f; text-decoration-color: #7fbf7f\">│   │   </span><span style=\"color: #808000; text-decoration-color: #808000\">thinking</span>=<span style=\"color: #800080; text-decoration-color: #800080; font-style: italic\">None</span>,\n",
       "<span style=\"color: #7fbf7f; text-decoration-color: #7fbf7f\">│   │   </span><span style=\"color: #808000; text-decoration-color: #808000\">redacted_thinking</span>=<span style=\"color: #800080; text-decoration-color: #800080; font-style: italic\">None</span>,\n",
       "<span style=\"color: #7fbf7f; text-decoration-color: #7fbf7f\">│   │   </span><span style=\"color: #808000; text-decoration-color: #808000\">provider_data</span>=<span style=\"color: #800080; text-decoration-color: #800080; font-style: italic\">None</span>,\n",
       "<span style=\"color: #7fbf7f; text-decoration-color: #7fbf7f\">│   │   </span><span style=\"color: #808000; text-decoration-color: #808000\">citations</span>=<span style=\"color: #800080; text-decoration-color: #800080; font-style: italic\">None</span>,\n",
       "<span style=\"color: #7fbf7f; text-decoration-color: #7fbf7f\">│   │   </span><span style=\"color: #808000; text-decoration-color: #808000\">reasoning_content</span>=<span style=\"color: #800080; text-decoration-color: #800080; font-style: italic\">None</span>,\n",
       "<span style=\"color: #7fbf7f; text-decoration-color: #7fbf7f\">│   │   </span><span style=\"color: #808000; text-decoration-color: #808000\">tool_name</span>=<span style=\"color: #800080; text-decoration-color: #800080; font-style: italic\">None</span>,\n",
       "<span style=\"color: #7fbf7f; text-decoration-color: #7fbf7f\">│   │   </span><span style=\"color: #808000; text-decoration-color: #808000\">tool_args</span>=<span style=\"color: #800080; text-decoration-color: #800080; font-style: italic\">None</span>,\n",
       "<span style=\"color: #7fbf7f; text-decoration-color: #7fbf7f\">│   │   </span><span style=\"color: #808000; text-decoration-color: #808000\">tool_call_error</span>=<span style=\"color: #800080; text-decoration-color: #800080; font-style: italic\">None</span>,\n",
       "<span style=\"color: #7fbf7f; text-decoration-color: #7fbf7f\">│   │   </span><span style=\"color: #808000; text-decoration-color: #808000\">stop_after_tool_call</span>=<span style=\"color: #ff0000; text-decoration-color: #ff0000; font-style: italic\">False</span>,\n",
       "<span style=\"color: #7fbf7f; text-decoration-color: #7fbf7f\">│   │   </span><span style=\"color: #808000; text-decoration-color: #808000\">add_to_agent_memory</span>=<span style=\"color: #00ff00; text-decoration-color: #00ff00; font-style: italic\">True</span>,\n",
       "<span style=\"color: #7fbf7f; text-decoration-color: #7fbf7f\">│   │   </span><span style=\"color: #808000; text-decoration-color: #808000\">from_history</span>=<span style=\"color: #ff0000; text-decoration-color: #ff0000; font-style: italic\">False</span>,\n",
       "<span style=\"color: #7fbf7f; text-decoration-color: #7fbf7f\">│   │   </span><span style=\"color: #808000; text-decoration-color: #808000\">metrics</span>=<span style=\"color: #800080; text-decoration-color: #800080; font-weight: bold\">MessageMetrics</span><span style=\"font-weight: bold\">(</span>\n",
       "<span style=\"color: #7fbf7f; text-decoration-color: #7fbf7f\">│   │   │   </span><span style=\"color: #808000; text-decoration-color: #808000\">input_tokens</span>=<span style=\"color: #008080; text-decoration-color: #008080; font-weight: bold\">0</span>,\n",
       "<span style=\"color: #7fbf7f; text-decoration-color: #7fbf7f\">│   │   │   </span><span style=\"color: #808000; text-decoration-color: #808000\">output_tokens</span>=<span style=\"color: #008080; text-decoration-color: #008080; font-weight: bold\">0</span>,\n",
       "<span style=\"color: #7fbf7f; text-decoration-color: #7fbf7f\">│   │   │   </span><span style=\"color: #808000; text-decoration-color: #808000\">total_tokens</span>=<span style=\"color: #008080; text-decoration-color: #008080; font-weight: bold\">0</span>,\n",
       "<span style=\"color: #7fbf7f; text-decoration-color: #7fbf7f\">│   │   │   </span><span style=\"color: #808000; text-decoration-color: #808000\">audio_tokens</span>=<span style=\"color: #008080; text-decoration-color: #008080; font-weight: bold\">0</span>,\n",
       "<span style=\"color: #7fbf7f; text-decoration-color: #7fbf7f\">│   │   │   </span><span style=\"color: #808000; text-decoration-color: #808000\">input_audio_tokens</span>=<span style=\"color: #008080; text-decoration-color: #008080; font-weight: bold\">0</span>,\n",
       "<span style=\"color: #7fbf7f; text-decoration-color: #7fbf7f\">│   │   │   </span><span style=\"color: #808000; text-decoration-color: #808000\">output_audio_tokens</span>=<span style=\"color: #008080; text-decoration-color: #008080; font-weight: bold\">0</span>,\n",
       "<span style=\"color: #7fbf7f; text-decoration-color: #7fbf7f\">│   │   │   </span><span style=\"color: #808000; text-decoration-color: #808000\">cached_tokens</span>=<span style=\"color: #008080; text-decoration-color: #008080; font-weight: bold\">0</span>,\n",
       "<span style=\"color: #7fbf7f; text-decoration-color: #7fbf7f\">│   │   │   </span><span style=\"color: #808000; text-decoration-color: #808000\">reasoning_tokens</span>=<span style=\"color: #008080; text-decoration-color: #008080; font-weight: bold\">0</span>,\n",
       "<span style=\"color: #7fbf7f; text-decoration-color: #7fbf7f\">│   │   │   </span><span style=\"color: #808000; text-decoration-color: #808000\">prompt_tokens</span>=<span style=\"color: #008080; text-decoration-color: #008080; font-weight: bold\">0</span>,\n",
       "<span style=\"color: #7fbf7f; text-decoration-color: #7fbf7f\">│   │   │   </span><span style=\"color: #808000; text-decoration-color: #808000\">completion_tokens</span>=<span style=\"color: #008080; text-decoration-color: #008080; font-weight: bold\">0</span>,\n",
       "<span style=\"color: #7fbf7f; text-decoration-color: #7fbf7f\">│   │   │   </span><span style=\"color: #808000; text-decoration-color: #808000\">prompt_tokens_details</span>=<span style=\"color: #800080; text-decoration-color: #800080; font-style: italic\">None</span>,\n",
       "<span style=\"color: #7fbf7f; text-decoration-color: #7fbf7f\">│   │   │   </span><span style=\"color: #808000; text-decoration-color: #808000\">completion_tokens_details</span>=<span style=\"color: #800080; text-decoration-color: #800080; font-style: italic\">None</span>,\n",
       "<span style=\"color: #7fbf7f; text-decoration-color: #7fbf7f\">│   │   │   </span><span style=\"color: #808000; text-decoration-color: #808000\">additional_metrics</span>=<span style=\"color: #800080; text-decoration-color: #800080; font-style: italic\">None</span>,\n",
       "<span style=\"color: #7fbf7f; text-decoration-color: #7fbf7f\">│   │   │   </span><span style=\"color: #808000; text-decoration-color: #808000\">time</span>=<span style=\"color: #800080; text-decoration-color: #800080; font-style: italic\">None</span>,\n",
       "<span style=\"color: #7fbf7f; text-decoration-color: #7fbf7f\">│   │   │   </span><span style=\"color: #808000; text-decoration-color: #808000\">time_to_first_token</span>=<span style=\"color: #800080; text-decoration-color: #800080; font-style: italic\">None</span>,\n",
       "<span style=\"color: #7fbf7f; text-decoration-color: #7fbf7f\">│   │   │   </span><span style=\"color: #808000; text-decoration-color: #808000\">timer</span>=<span style=\"color: #800080; text-decoration-color: #800080; font-style: italic\">None</span>\n",
       "<span style=\"color: #7fbf7f; text-decoration-color: #7fbf7f\">│   │   </span><span style=\"font-weight: bold\">)</span>,\n",
       "<span style=\"color: #7fbf7f; text-decoration-color: #7fbf7f\">│   │   </span><span style=\"color: #808000; text-decoration-color: #808000\">references</span>=<span style=\"color: #800080; text-decoration-color: #800080; font-style: italic\">None</span>,\n",
       "<span style=\"color: #7fbf7f; text-decoration-color: #7fbf7f\">│   │   </span><span style=\"color: #808000; text-decoration-color: #808000\">created_at</span>=<span style=\"color: #008080; text-decoration-color: #008080; font-weight: bold\">1748336287</span>\n",
       "<span style=\"color: #7fbf7f; text-decoration-color: #7fbf7f\">│   </span><span style=\"font-weight: bold\">)</span>,\n",
       "<span style=\"color: #7fbf7f; text-decoration-color: #7fbf7f\">│   </span><span style=\"color: #800080; text-decoration-color: #800080; font-weight: bold\">Message</span><span style=\"font-weight: bold\">(</span>\n",
       "<span style=\"color: #7fbf7f; text-decoration-color: #7fbf7f\">│   │   </span><span style=\"color: #808000; text-decoration-color: #808000\">role</span>=<span style=\"color: #008000; text-decoration-color: #008000\">'assistant'</span>,\n",
       "<span style=\"color: #7fbf7f; text-decoration-color: #7fbf7f\">│   │   </span><span style=\"color: #808000; text-decoration-color: #808000\">content</span>=<span style=\"color: #008000; text-decoration-color: #008000\">'Your last question was: \"What is the capital of France?\"'</span>,\n",
       "<span style=\"color: #7fbf7f; text-decoration-color: #7fbf7f\">│   │   </span><span style=\"color: #808000; text-decoration-color: #808000\">name</span>=<span style=\"color: #800080; text-decoration-color: #800080; font-style: italic\">None</span>,\n",
       "<span style=\"color: #7fbf7f; text-decoration-color: #7fbf7f\">│   │   </span><span style=\"color: #808000; text-decoration-color: #808000\">tool_call_id</span>=<span style=\"color: #800080; text-decoration-color: #800080; font-style: italic\">None</span>,\n",
       "<span style=\"color: #7fbf7f; text-decoration-color: #7fbf7f\">│   │   </span><span style=\"color: #808000; text-decoration-color: #808000\">tool_calls</span>=<span style=\"color: #800080; text-decoration-color: #800080; font-style: italic\">None</span>,\n",
       "<span style=\"color: #7fbf7f; text-decoration-color: #7fbf7f\">│   │   </span><span style=\"color: #808000; text-decoration-color: #808000\">audio</span>=<span style=\"color: #800080; text-decoration-color: #800080; font-style: italic\">None</span>,\n",
       "<span style=\"color: #7fbf7f; text-decoration-color: #7fbf7f\">│   │   </span><span style=\"color: #808000; text-decoration-color: #808000\">images</span>=<span style=\"color: #800080; text-decoration-color: #800080; font-style: italic\">None</span>,\n",
       "<span style=\"color: #7fbf7f; text-decoration-color: #7fbf7f\">│   │   </span><span style=\"color: #808000; text-decoration-color: #808000\">videos</span>=<span style=\"color: #800080; text-decoration-color: #800080; font-style: italic\">None</span>,\n",
       "<span style=\"color: #7fbf7f; text-decoration-color: #7fbf7f\">│   │   </span><span style=\"color: #808000; text-decoration-color: #808000\">files</span>=<span style=\"color: #800080; text-decoration-color: #800080; font-style: italic\">None</span>,\n",
       "<span style=\"color: #7fbf7f; text-decoration-color: #7fbf7f\">│   │   </span><span style=\"color: #808000; text-decoration-color: #808000\">audio_output</span>=<span style=\"color: #800080; text-decoration-color: #800080; font-style: italic\">None</span>,\n",
       "<span style=\"color: #7fbf7f; text-decoration-color: #7fbf7f\">│   │   </span><span style=\"color: #808000; text-decoration-color: #808000\">image_output</span>=<span style=\"color: #800080; text-decoration-color: #800080; font-style: italic\">None</span>,\n",
       "<span style=\"color: #7fbf7f; text-decoration-color: #7fbf7f\">│   │   </span><span style=\"color: #808000; text-decoration-color: #808000\">thinking</span>=<span style=\"color: #800080; text-decoration-color: #800080; font-style: italic\">None</span>,\n",
       "<span style=\"color: #7fbf7f; text-decoration-color: #7fbf7f\">│   │   </span><span style=\"color: #808000; text-decoration-color: #808000\">redacted_thinking</span>=<span style=\"color: #800080; text-decoration-color: #800080; font-style: italic\">None</span>,\n",
       "<span style=\"color: #7fbf7f; text-decoration-color: #7fbf7f\">│   │   </span><span style=\"color: #808000; text-decoration-color: #808000\">provider_data</span>=<span style=\"color: #800080; text-decoration-color: #800080; font-style: italic\">None</span>,\n",
       "<span style=\"color: #7fbf7f; text-decoration-color: #7fbf7f\">│   │   </span><span style=\"color: #808000; text-decoration-color: #808000\">citations</span>=<span style=\"color: #800080; text-decoration-color: #800080; font-style: italic\">None</span>,\n",
       "<span style=\"color: #7fbf7f; text-decoration-color: #7fbf7f\">│   │   </span><span style=\"color: #808000; text-decoration-color: #808000\">reasoning_content</span>=<span style=\"color: #800080; text-decoration-color: #800080; font-style: italic\">None</span>,\n",
       "<span style=\"color: #7fbf7f; text-decoration-color: #7fbf7f\">│   │   </span><span style=\"color: #808000; text-decoration-color: #808000\">tool_name</span>=<span style=\"color: #800080; text-decoration-color: #800080; font-style: italic\">None</span>,\n",
       "<span style=\"color: #7fbf7f; text-decoration-color: #7fbf7f\">│   │   </span><span style=\"color: #808000; text-decoration-color: #808000\">tool_args</span>=<span style=\"color: #800080; text-decoration-color: #800080; font-style: italic\">None</span>,\n",
       "<span style=\"color: #7fbf7f; text-decoration-color: #7fbf7f\">│   │   </span><span style=\"color: #808000; text-decoration-color: #808000\">tool_call_error</span>=<span style=\"color: #800080; text-decoration-color: #800080; font-style: italic\">None</span>,\n",
       "<span style=\"color: #7fbf7f; text-decoration-color: #7fbf7f\">│   │   </span><span style=\"color: #808000; text-decoration-color: #808000\">stop_after_tool_call</span>=<span style=\"color: #ff0000; text-decoration-color: #ff0000; font-style: italic\">False</span>,\n",
       "<span style=\"color: #7fbf7f; text-decoration-color: #7fbf7f\">│   │   </span><span style=\"color: #808000; text-decoration-color: #808000\">add_to_agent_memory</span>=<span style=\"color: #00ff00; text-decoration-color: #00ff00; font-style: italic\">True</span>,\n",
       "<span style=\"color: #7fbf7f; text-decoration-color: #7fbf7f\">│   │   </span><span style=\"color: #808000; text-decoration-color: #808000\">from_history</span>=<span style=\"color: #ff0000; text-decoration-color: #ff0000; font-style: italic\">False</span>,\n",
       "<span style=\"color: #7fbf7f; text-decoration-color: #7fbf7f\">│   │   </span><span style=\"color: #808000; text-decoration-color: #808000\">metrics</span>=<span style=\"color: #800080; text-decoration-color: #800080; font-weight: bold\">MessageMetrics</span><span style=\"font-weight: bold\">(</span>\n",
       "<span style=\"color: #7fbf7f; text-decoration-color: #7fbf7f\">│   │   │   </span><span style=\"color: #808000; text-decoration-color: #808000\">input_tokens</span>=<span style=\"color: #008080; text-decoration-color: #008080; font-weight: bold\">75</span>,\n",
       "<span style=\"color: #7fbf7f; text-decoration-color: #7fbf7f\">│   │   │   </span><span style=\"color: #808000; text-decoration-color: #808000\">output_tokens</span>=<span style=\"color: #008080; text-decoration-color: #008080; font-weight: bold\">13</span>,\n",
       "<span style=\"color: #7fbf7f; text-decoration-color: #7fbf7f\">│   │   │   </span><span style=\"color: #808000; text-decoration-color: #808000\">total_tokens</span>=<span style=\"color: #008080; text-decoration-color: #008080; font-weight: bold\">176</span>,\n",
       "<span style=\"color: #7fbf7f; text-decoration-color: #7fbf7f\">│   │   │   </span><span style=\"color: #808000; text-decoration-color: #808000\">audio_tokens</span>=<span style=\"color: #008080; text-decoration-color: #008080; font-weight: bold\">0</span>,\n",
       "<span style=\"color: #7fbf7f; text-decoration-color: #7fbf7f\">│   │   │   </span><span style=\"color: #808000; text-decoration-color: #808000\">input_audio_tokens</span>=<span style=\"color: #008080; text-decoration-color: #008080; font-weight: bold\">0</span>,\n",
       "<span style=\"color: #7fbf7f; text-decoration-color: #7fbf7f\">│   │   │   </span><span style=\"color: #808000; text-decoration-color: #808000\">output_audio_tokens</span>=<span style=\"color: #008080; text-decoration-color: #008080; font-weight: bold\">0</span>,\n",
       "<span style=\"color: #7fbf7f; text-decoration-color: #7fbf7f\">│   │   │   </span><span style=\"color: #808000; text-decoration-color: #808000\">cached_tokens</span>=<span style=\"color: #008080; text-decoration-color: #008080; font-weight: bold\">0</span>,\n",
       "<span style=\"color: #7fbf7f; text-decoration-color: #7fbf7f\">│   │   │   </span><span style=\"color: #808000; text-decoration-color: #808000\">reasoning_tokens</span>=<span style=\"color: #008080; text-decoration-color: #008080; font-weight: bold\">0</span>,\n",
       "<span style=\"color: #7fbf7f; text-decoration-color: #7fbf7f\">│   │   │   </span><span style=\"color: #808000; text-decoration-color: #808000\">prompt_tokens</span>=<span style=\"color: #008080; text-decoration-color: #008080; font-weight: bold\">0</span>,\n",
       "<span style=\"color: #7fbf7f; text-decoration-color: #7fbf7f\">│   │   │   </span><span style=\"color: #808000; text-decoration-color: #808000\">completion_tokens</span>=<span style=\"color: #008080; text-decoration-color: #008080; font-weight: bold\">0</span>,\n",
       "<span style=\"color: #7fbf7f; text-decoration-color: #7fbf7f\">│   │   │   </span><span style=\"color: #808000; text-decoration-color: #808000\">prompt_tokens_details</span>=<span style=\"color: #800080; text-decoration-color: #800080; font-style: italic\">None</span>,\n",
       "<span style=\"color: #7fbf7f; text-decoration-color: #7fbf7f\">│   │   │   </span><span style=\"color: #808000; text-decoration-color: #808000\">completion_tokens_details</span>=<span style=\"color: #800080; text-decoration-color: #800080; font-style: italic\">None</span>,\n",
       "<span style=\"color: #7fbf7f; text-decoration-color: #7fbf7f\">│   │   │   </span><span style=\"color: #808000; text-decoration-color: #808000\">additional_metrics</span>=<span style=\"color: #800080; text-decoration-color: #800080; font-style: italic\">None</span>,\n",
       "<span style=\"color: #7fbf7f; text-decoration-color: #7fbf7f\">│   │   │   </span><span style=\"color: #808000; text-decoration-color: #808000\">time</span>=<span style=\"color: #008080; text-decoration-color: #008080; font-weight: bold\">2.096097459001612</span>,\n",
       "<span style=\"color: #7fbf7f; text-decoration-color: #7fbf7f\">│   │   │   </span><span style=\"color: #808000; text-decoration-color: #808000\">time_to_first_token</span>=<span style=\"color: #800080; text-decoration-color: #800080; font-style: italic\">None</span>,\n",
       "<span style=\"color: #7fbf7f; text-decoration-color: #7fbf7f\">│   │   │   </span><span style=\"color: #808000; text-decoration-color: #808000\">timer</span>=<span style=\"font-weight: bold\">&lt;</span><span style=\"color: #ff00ff; text-decoration-color: #ff00ff; font-weight: bold\">agno.utils.timer.Timer</span><span style=\"color: #000000; text-decoration-color: #000000\"> object at </span><span style=\"color: #008080; text-decoration-color: #008080; font-weight: bold\">0x11e9ccc80</span><span style=\"font-weight: bold\">&gt;</span>\n",
       "<span style=\"color: #7fbf7f; text-decoration-color: #7fbf7f\">│   │   </span><span style=\"font-weight: bold\">)</span>,\n",
       "<span style=\"color: #7fbf7f; text-decoration-color: #7fbf7f\">│   │   </span><span style=\"color: #808000; text-decoration-color: #808000\">references</span>=<span style=\"color: #800080; text-decoration-color: #800080; font-style: italic\">None</span>,\n",
       "<span style=\"color: #7fbf7f; text-decoration-color: #7fbf7f\">│   │   </span><span style=\"color: #808000; text-decoration-color: #808000\">created_at</span>=<span style=\"color: #008080; text-decoration-color: #008080; font-weight: bold\">1748336287</span>\n",
       "<span style=\"color: #7fbf7f; text-decoration-color: #7fbf7f\">│   </span><span style=\"font-weight: bold\">)</span>\n",
       "<span style=\"font-weight: bold\">]</span>\n",
       "</pre>\n"
      ]
     },
     "metadata": {},
     "output_type": "display_data"
    }
   ],
   "execution_count": 6
  },
  {
   "metadata": {},
   "cell_type": "markdown",
   "source": "# User memory",
   "id": "768ba5b29af2b95e"
  },
  {
   "metadata": {
    "ExecuteTime": {
     "end_time": "2025-05-27T09:42:08.515239Z",
     "start_time": "2025-05-27T09:42:08.496047Z"
    }
   },
   "cell_type": "code",
   "source": [
    "memory_db = SqliteMemoryDb(table_name=\"memory\", db_file=\"tmp/memory.db\")\n",
    "memory = Memory(db=memory_db)\n",
    "\n",
    "john_doe_id = \"john_doe2@example.com\"\n",
    "\n",
    "agent = Agent(\n",
    "    model=Gemini(id=\"gemini-2.5-pro-preview-05-06\"),\n",
    "    memory=memory,\n",
    "    enable_agentic_memory=True,\n",
    "    monitoring=True,\n",
    ")"
   ],
   "id": "5b25c8441d433e0f",
   "outputs": [],
   "execution_count": 27
  },
  {
   "metadata": {
    "ExecuteTime": {
     "end_time": "2025-05-27T09:42:19.320945Z",
     "start_time": "2025-05-27T09:42:09.876859Z"
    }
   },
   "cell_type": "code",
   "source": [
    "# The agent can add new memories to the user's memory\n",
    "agent.print_response(\n",
    "    \"My name is John Doe and I like to hike in the mountains on weekends.\",\n",
    "    stream=True,\n",
    "    user_id=john_doe_id,\n",
    ")"
   ],
   "id": "7db28a11bb0827f1",
   "outputs": [
    {
     "data": {
      "text/plain": [
       "Output()"
      ],
      "application/vnd.jupyter.widget-view+json": {
       "version_major": 2,
       "version_minor": 0,
       "model_id": "9219aa5b61614012b97f2004eee4bc9b"
      }
     },
     "metadata": {},
     "output_type": "display_data"
    },
    {
     "data": {
      "text/plain": [],
      "text/html": [
       "<pre style=\"white-space:pre;overflow-x:auto;line-height:normal;font-family:Menlo,'DejaVu Sans Mono',consolas,'Courier New',monospace\"></pre>\n"
      ]
     },
     "metadata": {},
     "output_type": "display_data"
    }
   ],
   "execution_count": 28
  },
  {
   "metadata": {
    "ExecuteTime": {
     "end_time": "2025-05-27T09:44:10.927112Z",
     "start_time": "2025-05-27T09:44:07.256745Z"
    }
   },
   "cell_type": "code",
   "source": "agent.print_response(\"What are my hobbies?\", stream=True, user_id=john_doe_id)",
   "id": "1e1cfcb7f5fe5b98",
   "outputs": [
    {
     "data": {
      "text/plain": [
       "Output()"
      ],
      "application/vnd.jupyter.widget-view+json": {
       "version_major": 2,
       "version_minor": 0,
       "model_id": "e866e4a5a2fb49cd86abe4da0ca86709"
      }
     },
     "metadata": {},
     "output_type": "display_data"
    },
    {
     "data": {
      "text/plain": [],
      "text/html": [
       "<pre style=\"white-space:pre;overflow-x:auto;line-height:normal;font-family:Menlo,'DejaVu Sans Mono',consolas,'Courier New',monospace\"></pre>\n"
      ]
     },
     "metadata": {},
     "output_type": "display_data"
    }
   ],
   "execution_count": 29
  },
  {
   "metadata": {
    "ExecuteTime": {
     "end_time": "2025-05-27T09:48:53.226647Z",
     "start_time": "2025-05-27T09:48:44.862821Z"
    }
   },
   "cell_type": "code",
   "source": [
    "# The agent can also remove all memories from the user's memory\n",
    "agent.print_response(\n",
    "    \"Remove all existing memories of me. Completely clear the DB.\",\n",
    "    stream=True,\n",
    "    user_id=john_doe_id,\n",
    ")"
   ],
   "id": "4db2b5291fc434b7",
   "outputs": [
    {
     "data": {
      "text/plain": [
       "Output()"
      ],
      "application/vnd.jupyter.widget-view+json": {
       "version_major": 2,
       "version_minor": 0,
       "model_id": "08389a4fc0144c4595ed8f26be3869c2"
      }
     },
     "metadata": {},
     "output_type": "display_data"
    },
    {
     "data": {
      "text/plain": [],
      "text/html": [
       "<pre style=\"white-space:pre;overflow-x:auto;line-height:normal;font-family:Menlo,'DejaVu Sans Mono',consolas,'Courier New',monospace\"></pre>\n"
      ]
     },
     "metadata": {},
     "output_type": "display_data"
    }
   ],
   "execution_count": 30
  },
  {
   "metadata": {
    "ExecuteTime": {
     "end_time": "2025-05-27T09:50:06.543757Z",
     "start_time": "2025-05-27T09:49:53.183094Z"
    }
   },
   "cell_type": "code",
   "source": [
    "agent.print_response(\n",
    "    \"My name is John Doe and I like to paint.\", stream=True, user_id=john_doe_id\n",
    ")"
   ],
   "id": "ade20c936c7efcfd",
   "outputs": [
    {
     "data": {
      "text/plain": [
       "Output()"
      ],
      "application/vnd.jupyter.widget-view+json": {
       "version_major": 2,
       "version_minor": 0,
       "model_id": "2962f8cf714443e2b7ae7adefea39bbf"
      }
     },
     "metadata": {},
     "output_type": "display_data"
    },
    {
     "data": {
      "text/plain": [],
      "text/html": [
       "<pre style=\"white-space:pre;overflow-x:auto;line-height:normal;font-family:Menlo,'DejaVu Sans Mono',consolas,'Courier New',monospace\"></pre>\n"
      ]
     },
     "metadata": {},
     "output_type": "display_data"
    }
   ],
   "execution_count": 31
  },
  {
   "metadata": {
    "ExecuteTime": {
     "end_time": "2025-05-27T09:50:35.881343Z",
     "start_time": "2025-05-27T09:50:26.336008Z"
    }
   },
   "cell_type": "code",
   "source": [
    "# The agent can remove specific memories from the user's memory\n",
    "agent.print_response(\"Remove any memory of my name.\", stream=True, user_id=john_doe_id)"
   ],
   "id": "ce4f843368a9c7d1",
   "outputs": [
    {
     "data": {
      "text/plain": [
       "Output()"
      ],
      "application/vnd.jupyter.widget-view+json": {
       "version_major": 2,
       "version_minor": 0,
       "model_id": "86ce97c6c9d744ca8c63f24177bdeca5"
      }
     },
     "metadata": {},
     "output_type": "display_data"
    },
    {
     "data": {
      "text/plain": [],
      "text/html": [
       "<pre style=\"white-space:pre;overflow-x:auto;line-height:normal;font-family:Menlo,'DejaVu Sans Mono',consolas,'Courier New',monospace\"></pre>\n"
      ]
     },
     "metadata": {},
     "output_type": "display_data"
    }
   ],
   "execution_count": 32
  },
  {
   "metadata": {},
   "cell_type": "markdown",
   "source": "# Session Summary",
   "id": "ecec2c1d8126bd5b"
  },
  {
   "metadata": {
    "ExecuteTime": {
     "end_time": "2025-05-27T09:15:53.428585Z",
     "start_time": "2025-05-27T09:15:53.412832Z"
    }
   },
   "cell_type": "code",
   "source": [
    "memory_db = SqliteMemoryDb(table_name=\"memory\", db_file=\"tmp/memory.db\")\n",
    "memory = Memory(db=memory_db)\n",
    "\n",
    "user_id = \"jon_hamm@example.com\"\n",
    "session_id = \"1001\"\n",
    "\n",
    "agent = Agent(\n",
    "    model=Gemini(id=\"gemini-2.5-pro-preview-05-06\"),\n",
    "    memory=memory,\n",
    "    enable_session_summaries=True,\n",
    ")"
   ],
   "id": "9c52862da8c654a4",
   "outputs": [],
   "execution_count": 14
  },
  {
   "metadata": {
    "ExecuteTime": {
     "end_time": "2025-05-27T09:16:36.195850Z",
     "start_time": "2025-05-27T09:16:03.510694Z"
    }
   },
   "cell_type": "code",
   "source": [
    "agent.print_response(\n",
    "    \"What can you tell me about quantum computing?\",\n",
    "    stream=True,\n",
    "    user_id=user_id,\n",
    "    session_id=session_id,\n",
    ")"
   ],
   "id": "ea97868a08b7c59f",
   "outputs": [
    {
     "data": {
      "text/plain": [
       "Output()"
      ],
      "application/vnd.jupyter.widget-view+json": {
       "version_major": 2,
       "version_minor": 0,
       "model_id": "620a57d48ff9489881a4e03d8d3c3f96"
      }
     },
     "metadata": {},
     "output_type": "display_data"
    },
    {
     "data": {
      "text/plain": [],
      "text/html": [
       "<pre style=\"white-space:pre;overflow-x:auto;line-height:normal;font-family:Menlo,'DejaVu Sans Mono',consolas,'Courier New',monospace\"></pre>\n"
      ]
     },
     "metadata": {},
     "output_type": "display_data"
    }
   ],
   "execution_count": 15
  },
  {
   "metadata": {
    "ExecuteTime": {
     "end_time": "2025-05-27T09:17:24.303182Z",
     "start_time": "2025-05-27T09:16:47.081452Z"
    }
   },
   "cell_type": "code",
   "source": [
    "agent.print_response(\n",
    "    \"I would also like to know about LLMs?\",\n",
    "    stream=True,\n",
    "    user_id=user_id,\n",
    "    session_id=session_id\n",
    ")"
   ],
   "id": "79c4cdc28204466b",
   "outputs": [
    {
     "data": {
      "text/plain": [
       "Output()"
      ],
      "application/vnd.jupyter.widget-view+json": {
       "version_major": 2,
       "version_minor": 0,
       "model_id": "ef531fc425524b978f2e63eae4b709ac"
      }
     },
     "metadata": {},
     "output_type": "display_data"
    },
    {
     "data": {
      "text/plain": [],
      "text/html": [
       "<pre style=\"white-space:pre;overflow-x:auto;line-height:normal;font-family:Menlo,'DejaVu Sans Mono',consolas,'Courier New',monospace\"></pre>\n"
      ]
     },
     "metadata": {},
     "output_type": "display_data"
    }
   ],
   "execution_count": 16
  },
  {
   "metadata": {
    "ExecuteTime": {
     "end_time": "2025-05-27T09:17:28.859641Z",
     "start_time": "2025-05-27T09:17:28.850995Z"
    }
   },
   "cell_type": "code",
   "source": [
    "session_summary = memory.get_session_summary(\n",
    "    user_id=user_id, session_id=session_id\n",
    ")\n",
    "print(f\"Session summary: {session_summary.summary}\\n\")"
   ],
   "id": "8f2492f40665dfcf",
   "outputs": [
    {
     "name": "stdout",
     "output_type": "stream",
     "text": [
      "Session summary: The user asked for information about quantum computing and Large Language Models (LLMs). The assistant provided detailed explanations for both. For quantum computing, the explanation covered core concepts like qubits, superposition, entanglement, how quantum computers compute, potential applications (drug discovery, cryptography), current challenges (decoherence, scalability, NISQ era), and key players. For LLMs, the assistant explained what they are (large neural networks, often Transformers, trained on vast text data), how they work (training to predict word sequences, attention mechanism), their capabilities (text generation, Q&A, translation), important considerations (hallucinations, bias, prompt engineering), and examples (GPT, PaLM, LLaMA).\n",
      "\n"
     ]
    }
   ],
   "execution_count": 17
  },
  {
   "metadata": {},
   "cell_type": "code",
   "outputs": [],
   "execution_count": null,
   "source": "",
   "id": "cfb5d009403d73d"
  }
 ],
 "metadata": {
  "kernelspec": {
   "display_name": "Python 3",
   "language": "python",
   "name": "python3"
  },
  "language_info": {
   "codemirror_mode": {
    "name": "ipython",
    "version": 2
   },
   "file_extension": ".py",
   "mimetype": "text/x-python",
   "name": "python",
   "nbconvert_exporter": "python",
   "pygments_lexer": "ipython2",
   "version": "2.7.6"
  }
 },
 "nbformat": 4,
 "nbformat_minor": 5
}
