{
 "cells": [
  {
   "cell_type": "markdown",
   "id": "4d8329ce-c442-4226-bc0f-183097bed6f6",
   "metadata": {},
   "source": [
    "## Procedural memory"
   ]
  },
  {
   "metadata": {
    "ExecuteTime": {
     "end_time": "2025-02-20T09:28:03.580248Z",
     "start_time": "2025-02-20T09:28:03.548887Z"
    }
   },
   "cell_type": "code",
   "source": [
    "from dotenv import load_dotenv\n",
    "load_dotenv()"
   ],
   "id": "adcb809522276ffa",
   "outputs": [
    {
     "data": {
      "text/plain": [
       "True"
      ]
     },
     "execution_count": 3,
     "metadata": {},
     "output_type": "execute_result"
    }
   ],
   "execution_count": 3
  },
  {
   "cell_type": "code",
   "execution_count": 1,
   "id": "40bcb974-0d02-49ec-9eb7-cf2a820c3ac8",
   "metadata": {},
   "outputs": [],
   "source": [
    "# %%capture cap --no-stderr\n",
    "# %pip install -U langmem langgraph"
   ]
  },
  {
   "cell_type": "code",
   "id": "131c57c5-570e-4bb0-a9d4-0aa00ea89ccd",
   "metadata": {
    "ExecuteTime": {
     "end_time": "2025-02-20T09:25:49.018040Z",
     "start_time": "2025-02-20T09:25:48.375778Z"
    }
   },
   "source": [
    "from langgraph.store.memory import InMemoryStore\n",
    "\n",
    "store = InMemoryStore()\n",
    "store.put((\"instructions\",), key=\"agent_instructions\", value={\"prompt\": \"Write good emails.\"})"
   ],
   "outputs": [],
   "execution_count": 1
  },
  {
   "cell_type": "code",
   "id": "c2e7817c-f876-4f70-80ce-1131f74c8b2b",
   "metadata": {
    "ExecuteTime": {
     "end_time": "2025-02-20T09:28:05.074631Z",
     "start_time": "2025-02-20T09:28:04.999749Z"
    }
   },
   "source": [
    "from langgraph.prebuilt import create_react_agent\n",
    "from langgraph.config import get_store\n",
    "\n",
    "def draft_email(to: str, subject: str, body: str):\n",
    "    \"\"\"Submit an email draft.\"\"\"\n",
    "    return \"Draft saved successfully.\"\n",
    "\n",
    "def prompt(state):\n",
    "    item = store.get((\"instructions\",), key=\"agent_instructions\")\n",
    "    instructions = item.value[\"prompt\"]\n",
    "    sys_prompt = {\"role\": \"system\", \"content\": f\"## Instructions\\n\\n{instructions}\"}\n",
    "    return [sys_prompt] + state['messages']\n",
    "\n",
    "agent = create_react_agent(\"openai:gpt-4o\", prompt=prompt, tools=[draft_email], store=store)"
   ],
   "outputs": [],
   "execution_count": 4
  },
  {
   "metadata": {
    "ExecuteTime": {
     "end_time": "2025-02-20T09:30:04.453599Z",
     "start_time": "2025-02-20T09:30:04.202671Z"
    }
   },
   "cell_type": "code",
   "source": [
    "from IPython.display import Image, display\n",
    "\n",
    "display(Image(agent.get_graph().draw_mermaid_png()))"
   ],
   "id": "76121d325048b047",
   "outputs": [
    {
     "data": {
      "image/png": "[encoded data removed]",
      "text/plain": [
       "<IPython.core.display.Image object>"
      ]
     },
     "metadata": {},
     "output_type": "display_data"
    }
   ],
   "execution_count": 6
  },
  {
   "cell_type": "code",
   "id": "e9b3a50b-93c0-4ac8-9de0-4f4058d872fe",
   "metadata": {
    "ExecuteTime": {
     "end_time": "2025-02-20T09:29:00.212517Z",
     "start_time": "2025-02-20T09:28:55.373559Z"
    }
   },
   "source": [
    "result = agent.invoke(\n",
    "    {\"messages\": [\n",
    "        {\"role\": \"user\", \"content\" :\"Draft an email to joe@langchain.dev saying that we want to schedule a followup meeting for thursday at noon.\"}]}\n",
    ")\n",
    "result['messages'][1].pretty_print()"
   ],
   "outputs": [
    {
     "name": "stdout",
     "output_type": "stream",
     "text": [
      "==================================\u001B[1m Ai Message \u001B[0m==================================\n",
      "Tool Calls:\n",
      "  draft_email (call_nsHUdragensMGzlVuU99ulaa)\n",
      " Call ID: call_nsHUdragensMGzlVuU99ulaa\n",
      "  Args:\n",
      "    to: joe@langchain.dev\n",
      "    subject: Schedule Follow-up Meeting\n",
      "    body: Hi Joe,\n",
      "\n",
      "I hope this message finds you well. I’m writing to propose scheduling our follow-up meeting for this Thursday at noon. Please let me know if this time works for you, or if there are any other times that would be better.\n",
      "\n",
      "Looking forward to our discussion.\n",
      "\n",
      "Best regards,\n",
      "\n",
      "[Your Name]\n",
      "[Your Position]\n",
      "[Your Company]\n",
      "[Your Contact Information]\n"
     ]
    }
   ],
   "execution_count": 5
  },
  {
   "cell_type": "markdown",
   "id": "5159932a-23a1-421f-9119-07b9f4dc5e69",
   "metadata": {},
   "source": [
    "# Update the prompt"
   ]
  },
  {
   "cell_type": "code",
   "id": "2aa4675d-afff-45f7-8836-da0c132b8caa",
   "metadata": {
    "ExecuteTime": {
     "end_time": "2025-02-20T09:31:34.973269Z",
     "start_time": "2025-02-20T09:31:34.835953Z"
    }
   },
   "source": [
    "from langmem import create_prompt_optimizer\n",
    "\n",
    "optimizer = create_prompt_optimizer(\"openai:gpt-4o\")"
   ],
   "outputs": [],
   "execution_count": 8
  },
  {
   "metadata": {
    "ExecuteTime": {
     "end_time": "2025-02-20T09:37:43.486098Z",
     "start_time": "2025-02-20T09:37:42.500075Z"
    }
   },
   "cell_type": "code",
   "source": "display(Image(optimizer.get_graph().draw_mermaid_png()))",
   "id": "56a6fd2f317d8639",
   "outputs": [
    {
     "data": {
      "image/png": "[encoded data removed]",
      "text/plain": [
       "<IPython.core.display.Image object>"
      ]
     },
     "metadata": {},
     "output_type": "display_data"
    }
   ],
   "execution_count": 11
  },
  {
   "cell_type": "code",
   "id": "b80f55a9-f8f1-4b01-adeb-f24152b5c465",
   "metadata": {
    "ExecuteTime": {
     "end_time": "2025-02-20T09:32:32.701470Z",
     "start_time": "2025-02-20T09:32:20.688427Z"
    }
   },
   "source": [
    "current_prompt = store.get((\"instructions\",), key=\"agent_instructions\").value[\"prompt\"]\n",
    "feedback = {\"request\": \"Always sign off from 'William'; for meeting requests, offer to schedule on Zoom or Google Meet\"}\n",
    "\n",
    "optimizer_result = optimizer.invoke({\"prompt\": current_prompt, \"trajectories\": [(result[\"messages\"], feedback)]})"
   ],
   "outputs": [],
   "execution_count": 9
  },
  {
   "cell_type": "code",
   "id": "357c3086-bad6-46cc-81cf-9b2442940c92",
   "metadata": {
    "scrolled": true,
    "ExecuteTime": {
     "end_time": "2025-02-20T09:37:19.389900Z",
     "start_time": "2025-02-20T09:37:19.376643Z"
    }
   },
   "source": [
    "print(optimizer_result)"
   ],
   "outputs": [
    {
     "name": "stdout",
     "output_type": "stream",
     "text": [
      "Write good emails that address the recipient personally and include your signature as 'William'. When drafting emails about meetings, suggest scheduling options via Zoom or Google Meet to better align with user preferences for digital meetings.\n"
     ]
    }
   ],
   "execution_count": 10
  },
  {
   "cell_type": "code",
   "id": "07c09ab8-4649-4603-a760-55a6e77559f5",
   "metadata": {
    "ExecuteTime": {
     "end_time": "2025-02-20T09:40:12.388867Z",
     "start_time": "2025-02-20T09:40:12.381638Z"
    }
   },
   "source": [
    "store.put((\"instructions\",), key=\"agent_instructions\", value={\"prompt\": optimizer_result})"
   ],
   "outputs": [],
   "execution_count": 12
  },
  {
   "cell_type": "code",
   "id": "38b190a0-a72a-4894-a2ad-eeee9657edc5",
   "metadata": {
    "ExecuteTime": {
     "end_time": "2025-02-20T09:40:24.417554Z",
     "start_time": "2025-02-20T09:40:20.279334Z"
    }
   },
   "source": [
    "result = agent.invoke(\n",
    "    {\"messages\": [\n",
    "        {\"role\": \"user\", \"content\" :\"Draft an email to joe@langchain.dev saying that we want to schedule a followup meeting for thursday at noon.\"}]}\n",
    ")\n",
    "result['messages'][1].pretty_print()"
   ],
   "outputs": [
    {
     "name": "stdout",
     "output_type": "stream",
     "text": [
      "==================================\u001B[1m Ai Message \u001B[0m==================================\n",
      "Tool Calls:\n",
      "  draft_email (call_rl3qPzFpiQeHVog7rir4zZtz)\n",
      " Call ID: call_rl3qPzFpiQeHVog7rir4zZtz\n",
      "  Args:\n",
      "    to: joe@langchain.dev\n",
      "    subject: Follow-up Meeting Schedule\n",
      "    body: Hi Joe,\n",
      "\n",
      "I hope this message finds you well. I wanted to propose scheduling our follow-up meeting for this Thursday at noon. Please let me know if this time works for you or if there are alternative times that you prefer. We can set up the meeting via Zoom or Google Meet, depending on your preference.\n",
      "\n",
      "Looking forward to our discussion.\n",
      "\n",
      "Best regards,\n",
      "\n",
      "William\n"
     ]
    }
   ],
   "execution_count": 13
  },
  {
   "cell_type": "code",
   "id": "d3cbfc93-5d1f-407d-b0a9-4f86d875ceb4",
   "metadata": {
    "ExecuteTime": {
     "end_time": "2025-02-20T09:40:44.959061Z",
     "start_time": "2025-02-20T09:40:39.705471Z"
    }
   },
   "source": [
    "result = agent.invoke(\n",
    "    {\"messages\": [\n",
    "        {\"role\": \"user\", \"content\" : \"Let roger@langchain.dev know that the release should be later by 4:00 PM.\"}]}\n",
    ")\n",
    "result['messages'][1].pretty_print()"
   ],
   "outputs": [
    {
     "name": "stdout",
     "output_type": "stream",
     "text": [
      "==================================\u001B[1m Ai Message \u001B[0m==================================\n",
      "Tool Calls:\n",
      "  draft_email (call_OjZA9KFlEU4Uav2h8mQRFXIn)\n",
      " Call ID: call_OjZA9KFlEU4Uav2h8mQRFXIn\n",
      "  Args:\n",
      "    to: roger@langchain.dev\n",
      "    subject: Update on Release Timing\n",
      "    body: Hi Roger,\n",
      "\n",
      "I hope this message finds you well. I wanted to let you know that the scheduled release should be pushed later to 4:00 PM.\n",
      "\n",
      "If you have any questions or need further adjustments, please feel free to reach out.\n",
      "\n",
      "Best regards,\n",
      "\n",
      "William\n"
     ]
    }
   ],
   "execution_count": 14
  },
  {
   "cell_type": "markdown",
   "id": "5630d1f7-9772-4471-bca0-22558d4978e9",
   "metadata": {},
   "source": [
    "## Multi-agent"
   ]
  },
  {
   "cell_type": "code",
   "id": "52a85066-00eb-4986-a894-389b07d78da3",
   "metadata": {
    "ExecuteTime": {
     "end_time": "2025-02-20T09:41:55.953461Z",
     "start_time": "2025-02-20T09:41:55.950200Z"
    }
   },
   "source": [
    "# %%capture cap --no-stderr\n",
    "# %pip install -U langgraph-supervisor"
   ],
   "outputs": [],
   "execution_count": 15
  },
  {
   "cell_type": "code",
   "id": "7d7a8b09-fe7d-4053-9a73-6a7d0e227404",
   "metadata": {
    "ExecuteTime": {
     "end_time": "2025-02-20T09:45:52.080893Z",
     "start_time": "2025-02-20T09:45:52.011690Z"
    }
   },
   "source": [
    "from langgraph.store.memory import InMemoryStore\n",
    "from langgraph.prebuilt import create_react_agent\n",
    "from langgraph.config import get_store\n",
    "\n",
    "store = InMemoryStore()\n",
    "\n",
    "store.put((\"instructions\",), key=\"email_agent\", value={\"prompt\": \"Write good emails. Repeat your draft content to the user after submitting.\"})\n",
    "store.put((\"instructions\",), key=\"twitter_agent\", value={\"prompt\": \"Write fire tweets. Repeat the tweet content to the user upon submission.\"})\n",
    "\n",
    "## Email agent\n",
    "def draft_email(to: str, subject: str, body: str):\n",
    "    \"\"\"Submit an email draft.\"\"\"\n",
    "    return \"Draft saved succesfully.\"\n",
    "\n",
    "def prompt_email(state):\n",
    "    item = store.get((\"instructions\",), key=\"email_agent\")\n",
    "    instructions = item.value[\"prompt\"]\n",
    "    sys_prompt = {\"role\": \"system\", \"content\": f\"## Instructions\\n\\n{instructions}\"}\n",
    "    return [sys_prompt] + state['messages']\n",
    "\n",
    "email_agent = create_react_agent(\n",
    "    \"openai:gpt-4o\",\n",
    "    prompt=prompt_email, \n",
    "    tools=[draft_email], \n",
    "    store=store,\n",
    "    name=\"email_assistant\",\n",
    ")\n",
    "\n",
    "## Tweet\n",
    "\n",
    "def tweet(to: str, subject: str, body: str):\n",
    "    \"\"\"Poast a tweet.\"\"\"\n",
    "    return \"Legendary.\"\n",
    "\n",
    "def prompt_social_media(state):\n",
    "    item = store.get((\"instructions\",), key=\"twitter_agent\")\n",
    "    instructions = item.value[\"prompt\"]\n",
    "    sys_prompt = {\"role\": \"system\", \"content\": f\"## Instructions\\n\\n{instructions}\"}\n",
    "    return [sys_prompt] + state['messages']\n",
    "\n",
    "social_media_agent = create_react_agent(\n",
    "    \"openai:gpt-4o\",\n",
    "    prompt=prompt_social_media, \n",
    "    tools=[tweet], \n",
    "    store=store,\n",
    "    name=\"social_media_agent\",\n",
    ")"
   ],
   "outputs": [],
   "execution_count": 16
  },
  {
   "cell_type": "code",
   "id": "76f062c4-2f5f-4a9a-b4dc-a23ec4651b36",
   "metadata": {
    "ExecuteTime": {
     "end_time": "2025-02-20T09:47:47.015111Z",
     "start_time": "2025-02-20T09:47:46.951453Z"
    }
   },
   "source": [
    "from langgraph_supervisor import create_supervisor\n",
    "\n",
    "# Create supervisor workflow\n",
    "workflow = create_supervisor(\n",
    "    [email_agent, social_media_agent],\n",
    "    model=\"openai:gpt-4o\",\n",
    "    prompt=(\n",
    "        \"You are a team supervisor managing email and tweet assistants to help with correspondence.\"\n",
    "    )\n",
    ")\n",
    "\n",
    "# Compile and run\n",
    "app = workflow.compile(store=store)"
   ],
   "outputs": [],
   "execution_count": 17
  },
  {
   "metadata": {
    "ExecuteTime": {
     "end_time": "2025-02-20T09:48:05.023295Z",
     "start_time": "2025-02-20T09:48:03.960832Z"
    }
   },
   "cell_type": "code",
   "source": "display(Image(app.get_graph().draw_mermaid_png()))",
   "id": "4c42720a5f5f4ae",
   "outputs": [
    {
     "data": {
      "image/png": "[encoded data removed]",
      "text/plain": [
       "<IPython.core.display.Image object>"
      ]
     },
     "metadata": {},
     "output_type": "display_data"
    }
   ],
   "execution_count": 18
  },
  {
   "cell_type": "code",
   "id": "ff861c5a-d9ff-4905-b902-6b5550801539",
   "metadata": {
    "ExecuteTime": {
     "end_time": "2025-02-20T09:53:12.659094Z",
     "start_time": "2025-02-20T09:53:05.592538Z"
    }
   },
   "source": [
    "result = app.invoke(\n",
    "    {\"messages\": [\n",
    "        {\"role\": \"user\", \"content\" :\"Draft an email to joe@langchain.dev saying that we want to schedule a followup meeting for thursday at noon.\"}]},\n",
    ")"
   ],
   "outputs": [],
   "execution_count": 19
  },
  {
   "cell_type": "code",
   "id": "16857af2-23bf-4a1c-a55b-7ae205decdc5",
   "metadata": {
    "ExecuteTime": {
     "end_time": "2025-02-20T09:53:16.433936Z",
     "start_time": "2025-02-20T09:53:16.430825Z"
    }
   },
   "source": [
    "result[\"messages\"][3].pretty_print()"
   ],
   "outputs": [
    {
     "name": "stdout",
     "output_type": "stream",
     "text": [
      "==================================\u001B[1m Ai Message \u001B[0m==================================\n",
      "Name: email_assistant\n",
      "\n",
      "The email draft to Joe has been successfully created. Here's what it says:\n",
      "\n",
      "Subject: Schedule a Follow-up Meeting\n",
      "\n",
      "Body:\n",
      "Hi Joe,\n",
      "\n",
      "I hope this message finds you well. I am writing to propose scheduling a follow-up meeting for this Thursday at noon. Please let me know if this time works for you or if there is another time that you would prefer.\n",
      "\n",
      "Looking forward to our discussion.\n",
      "\n",
      "Best regards,\n",
      "\n",
      "[Your Name]\n"
     ]
    }
   ],
   "execution_count": 20
  },
  {
   "cell_type": "code",
   "id": "d29809be-0c4e-47b8-befe-1c5ef71594bb",
   "metadata": {
    "ExecuteTime": {
     "end_time": "2025-02-20T09:53:49.850309Z",
     "start_time": "2025-02-20T09:53:49.763263Z"
    }
   },
   "source": [
    "from langmem import create_multi_prompt_optimizer\n",
    "\n",
    "feedback = {\"request\": \"Always sign off emails from 'William'; for meeting requests, offer to schedule on Zoom or Google Meet\"}\n",
    "\n",
    "optimizer = create_multi_prompt_optimizer(\"openai:gpt-4o\")"
   ],
   "outputs": [],
   "execution_count": 21
  },
  {
   "metadata": {
    "ExecuteTime": {
     "end_time": "2025-02-20T09:54:01.961797Z",
     "start_time": "2025-02-20T09:54:00.714712Z"
    }
   },
   "cell_type": "code",
   "source": "display(Image(optimizer.get_graph().draw_mermaid_png()))",
   "id": "f19f202485e4a229",
   "outputs": [
    {
     "data": {
      "image/png": "[encoded data removed]",
      "text/plain": [
       "<IPython.core.display.Image object>"
      ]
     },
     "metadata": {},
     "output_type": "display_data"
    }
   ],
   "execution_count": 22
  },
  {
   "cell_type": "code",
   "id": "6734520b-f0be-428f-b538-c17824d2ec25",
   "metadata": {
    "ExecuteTime": {
     "end_time": "2025-02-20T09:54:06.077196Z",
     "start_time": "2025-02-20T09:54:06.073085Z"
    }
   },
   "source": [
    "from langmem import Prompt\n",
    "?Prompt"
   ],
   "outputs": [],
   "execution_count": 23
  },
  {
   "cell_type": "code",
   "id": "1813fa94-501b-43a0-8d20-c44ee2c037ce",
   "metadata": {
    "ExecuteTime": {
     "end_time": "2025-02-20T10:10:24.526343Z",
     "start_time": "2025-02-20T10:10:01.468716Z"
    }
   },
   "source": [
    "email_prompt = store.get((\"instructions\",), key=\"email_agent\").value['prompt']\n",
    "tweet_prompt = store.get((\"instructions\",), key=\"twitter_agent\").value['prompt']\n",
    "\n",
    "email_prompt = {\n",
    "    \"name\": \"email_prompt\",\n",
    "    \"prompt\": email_prompt,\n",
    "    \"when_to_update\": \"Only if feedback is provided indicating email writing performance needs improved.\"\n",
    "}\n",
    "tweet_prompt = {\n",
    "    \"name\": \"tweet_prompt\",\n",
    "    \"prompt\": tweet_prompt,\n",
    "    \"when_to_update\": \"Only if tweet writing generation needs improvement.\"\n",
    "}\n",
    "\n",
    "\n",
    "optimizer_result = optimizer.invoke({\"prompts\": [tweet_prompt, email_prompt], \"trajectories\": [(result[\"messages\"], feedback)]})"
   ],
   "outputs": [],
   "execution_count": 24
  },
  {
   "cell_type": "code",
   "id": "bbc9d37a-23de-4d46-a7c4-219ba84b7625",
   "metadata": {
    "ExecuteTime": {
     "end_time": "2025-02-20T10:10:47.363584Z",
     "start_time": "2025-02-20T10:10:47.354140Z"
    }
   },
   "source": [
    "optimizer_result"
   ],
   "outputs": [
    {
     "data": {
      "text/plain": [
       "[{'name': 'tweet_prompt',\n",
       "  'prompt': 'Write fire tweets. Repeat the tweet content to the user upon submission.',\n",
       "  'when_to_update': 'Only if tweet writing generation needs improvement.'},\n",
       " {'name': 'email_prompt',\n",
       "  'prompt': \"Write good emails that align with user preferences. Incorporate the user's specified sign-off (e.g., 'William') and suggest meeting times using preferred platforms (like Zoom or Google Meet). Repeat the draft content to the user after submitting.\",\n",
       "  'when_to_update': 'Only if feedback is provided indicating email writing performance needs improved.'}]"
      ]
     },
     "execution_count": 25,
     "metadata": {},
     "output_type": "execute_result"
    }
   ],
   "execution_count": 25
  },
  {
   "cell_type": "code",
   "id": "9ef3d1fd-00b4-42a6-b56b-cd9b2d135b8f",
   "metadata": {
    "ExecuteTime": {
     "end_time": "2025-02-20T10:11:44.043433Z",
     "start_time": "2025-02-20T10:11:44.040765Z"
    }
   },
   "source": [
    "store.put((\"instructions\",), key=\"email_agent\", value={\"prompt\": optimizer_result[1]['prompt']})"
   ],
   "outputs": [],
   "execution_count": 26
  },
  {
   "cell_type": "code",
   "id": "d8d66705-a569-43cc-8c45-668cdec62f9e",
   "metadata": {
    "ExecuteTime": {
     "end_time": "2025-02-20T10:12:00.074293Z",
     "start_time": "2025-02-20T10:11:51.202261Z"
    }
   },
   "source": [
    "result = app.invoke(\n",
    "    {\"messages\": [\n",
    "        {\"role\": \"user\", \"content\" :\"Draft an email to joe@langchain.dev saying that we want to schedule a followup meeting for thursday at noon.\"}]},\n",
    ")"
   ],
   "outputs": [],
   "execution_count": 27
  },
  {
   "cell_type": "code",
   "id": "11ae5952-01ce-4374-bd38-c9a22ec44d8f",
   "metadata": {
    "ExecuteTime": {
     "end_time": "2025-02-20T10:12:05.996963Z",
     "start_time": "2025-02-20T10:12:05.994235Z"
    }
   },
   "source": [
    "result[\"messages\"][3].pretty_print()"
   ],
   "outputs": [
    {
     "name": "stdout",
     "output_type": "stream",
     "text": [
      "==================================\u001B[1m Ai Message \u001B[0m==================================\n",
      "Name: email_assistant\n",
      "\n",
      "I've drafted the following email for you:\n",
      "\n",
      "Subject: Follow-up Meeting Schedule\n",
      "\n",
      "Hi Joe,\n",
      "\n",
      "I hope this message finds you well. I wanted to propose scheduling a follow-up meeting for this Thursday at noon. We can use your preferred platform, whether it's Zoom or Google Meet. Please let me know if this time works for you or if there's another that you prefer.\n",
      "\n",
      "Looking forward to our conversation.\n",
      "\n",
      "Best,\n",
      "William\n"
     ]
    }
   ],
   "execution_count": 28
  },
  {
   "metadata": {
    "ExecuteTime": {
     "end_time": "2025-02-20T10:42:31.114988Z",
     "start_time": "2025-02-20T10:42:22.846840Z"
    }
   },
   "cell_type": "code",
   "source": [
    "result = app.invoke(\n",
    "    {\"messages\": [\n",
    "        {\"role\": \"user\", \"content\" :\"Write a tweet about the beautiful of the world.\"}]},\n",
    ")"
   ],
   "id": "d230480dabde569d",
   "outputs": [],
   "execution_count": 33
  },
  {
   "metadata": {
    "ExecuteTime": {
     "end_time": "2025-02-20T10:42:35.473431Z",
     "start_time": "2025-02-20T10:42:35.470741Z"
    }
   },
   "cell_type": "code",
   "source": "result[\"messages\"][3].pretty_print()",
   "id": "2240ff4bb10cc46",
   "outputs": [
    {
     "name": "stdout",
     "output_type": "stream",
     "text": [
      "==================================\u001B[1m Ai Message \u001B[0m==================================\n",
      "Name: social_media_agent\n",
      "\n",
      "Here's your tweet about the beauty of the world:\n",
      "\n",
      "\"The world is a stunning masterpiece painted with sunsets, starlit skies, and oceans vast. Its beauty lies in the melody of the chirping birds and in the serene silence of the mountains. Let's cherish and protect this breathtaking planet we call home! 🌍✨\"\n"
     ]
    }
   ],
   "execution_count": 34
  },
  {
   "metadata": {
    "ExecuteTime": {
     "end_time": "2025-02-20T10:48:04.432680Z",
     "start_time": "2025-02-20T10:47:56.778926Z"
    }
   },
   "cell_type": "code",
   "source": [
    "result = app.invoke(\n",
    "    {\"messages\": result[\"messages\"] + [\n",
    "        {\"role\": \"user\", \"content\" :\"Write a tweet about the bad of the war.\"}]},\n",
    ")"
   ],
   "id": "52d76f0c941dc6",
   "outputs": [],
   "execution_count": 45
  },
  {
   "metadata": {
    "ExecuteTime": {
     "end_time": "2025-02-20T10:48:08.011342Z",
     "start_time": "2025-02-20T10:48:08.008575Z"
    }
   },
   "cell_type": "code",
   "source": "result[\"messages\"][-1].pretty_print()",
   "id": "9d7892b3a8807112",
   "outputs": [
    {
     "name": "stdout",
     "output_type": "stream",
     "text": [
      "==================================\u001B[1m Ai Message \u001B[0m==================================\n",
      "Name: supervisor\n",
      "\n",
      "The social media assistant crafted this insightful tweet for you:\n",
      "\n",
      "\"War leaves behind scars deeper than any weapon can carve. It steals futures, shatters families, and paints lands with sorrow and loss. The human spirit bears unimaginable burdens under its weight. It's a stark reminder of the urgent need for peace. #NoToWar #Peace\"\n"
     ]
    }
   ],
   "execution_count": 46
  },
  {
   "metadata": {},
   "cell_type": "code",
   "outputs": [],
   "execution_count": null,
   "source": "",
   "id": "db667a08e7bb904c"
  }
 ],
 "metadata": {
  "kernelspec": {
   "display_name": "Python 3 (ipykernel)",
   "language": "python",
   "name": "python3"
  },
  "language_info": {
   "codemirror_mode": {
    "name": "ipython",
    "version": 3
   },
   "file_extension": ".py",
   "mimetype": "text/x-python",
   "name": "python",
   "nbconvert_exporter": "python",
   "pygments_lexer": "ipython3",
   "version": "3.11.2"
  }
 },
 "nbformat": 4,
 "nbformat_minor": 5
}
