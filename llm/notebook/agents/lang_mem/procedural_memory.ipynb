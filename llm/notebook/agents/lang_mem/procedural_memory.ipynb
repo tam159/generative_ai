{
 "cells": [
  {
   "cell_type": "markdown",
   "id": "4d8329ce-c442-4226-bc0f-183097bed6f6",
   "metadata": {},
   "source": [
    "## Procedural memory"
   ]
  },
  {
   "metadata": {
    "ExecuteTime": {
     "end_time": "2025-05-27T11:13:36.429532Z",
     "start_time": "2025-05-27T11:13:36.417425Z"
    }
   },
   "cell_type": "code",
   "source": [
    "from dotenv import load_dotenv\n",
    "load_dotenv()"
   ],
   "id": "adcb809522276ffa",
   "outputs": [
    {
     "data": {
      "text/plain": [
       "True"
      ]
     },
     "execution_count": 1,
     "metadata": {},
     "output_type": "execute_result"
    }
   ],
   "execution_count": 1
  },
  {
   "cell_type": "code",
   "id": "40bcb974-0d02-49ec-9eb7-cf2a820c3ac8",
   "metadata": {
    "ExecuteTime": {
     "end_time": "2025-05-27T11:13:38.946452Z",
     "start_time": "2025-05-27T11:13:38.942216Z"
    }
   },
   "source": [
    "# %%capture cap --no-stderr\n",
    "# %pip install -U langmem langgraph"
   ],
   "outputs": [],
   "execution_count": 2
  },
  {
   "cell_type": "code",
   "id": "131c57c5-570e-4bb0-a9d4-0aa00ea89ccd",
   "metadata": {
    "ExecuteTime": {
     "end_time": "2025-05-27T11:15:40.225930Z",
     "start_time": "2025-05-27T11:15:40.210902Z"
    }
   },
   "source": [
    "from langgraph.store.memory import InMemoryStore\n",
    "\n",
    "store = InMemoryStore()\n",
    "store.put((\"instructions\",), key=\"agent_instructions\", value={\"prompt\": \"Write good emails.\"})"
   ],
   "outputs": [],
   "execution_count": 4
  },
  {
   "cell_type": "code",
   "id": "c2e7817c-f876-4f70-80ce-1131f74c8b2b",
   "metadata": {
    "ExecuteTime": {
     "end_time": "2025-05-27T11:18:07.288Z",
     "start_time": "2025-05-27T11:18:07.243620Z"
    }
   },
   "source": [
    "from langgraph.prebuilt import create_react_agent\n",
    "from langgraph.config import get_store\n",
    "\n",
    "def draft_email(to: str, subject: str, body: str):\n",
    "    \"\"\"Submit an email draft.\"\"\"\n",
    "    return \"Draft saved successfully.\"\n",
    "\n",
    "def prompt(state):\n",
    "    item = store.get((\"instructions\",), key=\"agent_instructions\")\n",
    "    instructions = item.value[\"prompt\"]\n",
    "    sys_prompt = {\"role\": \"system\", \"content\": f\"## Instructions\\n\\n{instructions}\"}\n",
    "    return [sys_prompt] + state['messages']\n",
    "\n",
    "agent = create_react_agent(\"openai:gpt-4.1\", prompt=prompt, tools=[draft_email], store=store)"
   ],
   "outputs": [],
   "execution_count": 6
  },
  {
   "metadata": {
    "ExecuteTime": {
     "end_time": "2025-05-27T11:18:08.485661Z",
     "start_time": "2025-05-27T11:18:08.220156Z"
    }
   },
   "cell_type": "code",
   "source": [
    "from IPython.display import Image, display\n",
    "\n",
    "display(Image(agent.get_graph().draw_mermaid_png()))"
   ],
   "id": "76121d325048b047",
   "outputs": [
    {
     "data": {
      "image/png": "[encoded data removed]",
      "text/plain": [
       "<IPython.core.display.Image object>"
      ]
     },
     "metadata": {},
     "output_type": "display_data"
    }
   ],
   "execution_count": 7
  },
  {
   "cell_type": "code",
   "id": "e9b3a50b-93c0-4ac8-9de0-4f4058d872fe",
   "metadata": {
    "ExecuteTime": {
     "end_time": "2025-05-27T11:18:19.167925Z",
     "start_time": "2025-05-27T11:18:15.683713Z"
    }
   },
   "source": [
    "result = agent.invoke(\n",
    "    {\"messages\": [\n",
    "        {\"role\": \"user\", \"content\" :\"Draft an email to joe@langchain.dev saying that we want to schedule a followup meeting for thursday at noon.\"}]}\n",
    ")\n",
    "result['messages'][1].pretty_print()"
   ],
   "outputs": [
    {
     "name": "stdout",
     "output_type": "stream",
     "text": [
      "==================================\u001B[1m Ai Message \u001B[0m==================================\n",
      "Tool Calls:\n",
      "  draft_email (call_xLih9g5lD0PeV6ar76Yyifa5)\n",
      " Call ID: call_xLih9g5lD0PeV6ar76Yyifa5\n",
      "  Args:\n",
      "    to: joe@langchain.dev\n",
      "    subject: Scheduling a Follow-up Meeting\n",
      "    body: Hi Joe,\n",
      "\n",
      "I hope this message finds you well. I wanted to see if we could schedule a follow-up meeting for Thursday at noon. Please let me know if this works for you or if there’s another time that would be more convenient.\n",
      "\n",
      "Looking forward to your reply.\n",
      "\n",
      "Best regards,\n",
      "\n",
      "[Your Name]\n"
     ]
    }
   ],
   "execution_count": 8
  },
  {
   "cell_type": "markdown",
   "id": "5159932a-23a1-421f-9119-07b9f4dc5e69",
   "metadata": {},
   "source": [
    "# Update the prompt"
   ]
  },
  {
   "cell_type": "code",
   "id": "2aa4675d-afff-45f7-8836-da0c132b8caa",
   "metadata": {
    "ExecuteTime": {
     "end_time": "2025-05-27T11:19:35.640457Z",
     "start_time": "2025-05-27T11:19:35.457716Z"
    }
   },
   "source": [
    "from langmem import create_prompt_optimizer\n",
    "\n",
    "optimizer = create_prompt_optimizer(\"openai:gpt-4.1\")"
   ],
   "outputs": [],
   "execution_count": 9
  },
  {
   "metadata": {
    "ExecuteTime": {
     "end_time": "2025-05-27T11:19:40.141496Z",
     "start_time": "2025-05-27T11:19:39.379255Z"
    }
   },
   "cell_type": "code",
   "source": "display(Image(optimizer.get_graph().draw_mermaid_png()))",
   "id": "56a6fd2f317d8639",
   "outputs": [
    {
     "data": {
      "image/png": "[encoded data removed]",
      "text/plain": [
       "<IPython.core.display.Image object>"
      ]
     },
     "metadata": {},
     "output_type": "display_data"
    }
   ],
   "execution_count": 10
  },
  {
   "cell_type": "code",
   "id": "b80f55a9-f8f1-4b01-adeb-f24152b5c465",
   "metadata": {
    "ExecuteTime": {
     "end_time": "2025-05-27T11:20:32.283835Z",
     "start_time": "2025-05-27T11:20:16.361751Z"
    }
   },
   "source": [
    "current_prompt = store.get((\"instructions\",), key=\"agent_instructions\").value[\"prompt\"]\n",
    "feedback = {\"request\": \"Always sign off from 'William'; for meeting requests, offer to schedule on Zoom or Google Meet\"}\n",
    "\n",
    "optimizer_result = optimizer.invoke({\"prompt\": current_prompt, \"trajectories\": [(result[\"messages\"], feedback)]})"
   ],
   "outputs": [],
   "execution_count": 11
  },
  {
   "cell_type": "code",
   "id": "357c3086-bad6-46cc-81cf-9b2442940c92",
   "metadata": {
    "scrolled": true,
    "ExecuteTime": {
     "end_time": "2025-05-27T11:22:25.740808Z",
     "start_time": "2025-05-27T11:22:25.731865Z"
    }
   },
   "source": [
    "print(optimizer_result)"
   ],
   "outputs": [
    {
     "name": "stdout",
     "output_type": "stream",
     "text": [
      "Write good emails.\n",
      "\n",
      "Additional guidelines:\n",
      "- Always sign off as 'William' at the end of emails.\n",
      "- When requesting to schedule a meeting, propose holding it on Zoom or Google Meet, and invite the recipient to choose their preference.\n",
      "\n",
      "Example (for scheduling a meeting):\n",
      "\n",
      "Subject: Meeting Request\n",
      "\n",
      "Hi [Recipient],\n",
      "\n",
      "I hope this message finds you well. I'd like to schedule a meeting to discuss our upcoming project. Would you prefer to meet on Zoom or Google Meet? Please let me know what works best for you, and your availability.\n",
      "\n",
      "Best regards,\n",
      "William\n"
     ]
    }
   ],
   "execution_count": 12
  },
  {
   "cell_type": "code",
   "id": "07c09ab8-4649-4603-a760-55a6e77559f5",
   "metadata": {
    "ExecuteTime": {
     "end_time": "2025-05-27T11:23:05.432609Z",
     "start_time": "2025-05-27T11:23:05.424839Z"
    }
   },
   "source": [
    "store.put((\"instructions\",), key=\"agent_instructions\", value={\"prompt\": optimizer_result})"
   ],
   "outputs": [],
   "execution_count": 13
  },
  {
   "cell_type": "code",
   "id": "38b190a0-a72a-4894-a2ad-eeee9657edc5",
   "metadata": {
    "ExecuteTime": {
     "end_time": "2025-05-27T11:23:19.267922Z",
     "start_time": "2025-05-27T11:23:09.613031Z"
    }
   },
   "source": [
    "result = agent.invoke(\n",
    "    {\"messages\": [\n",
    "        {\"role\": \"user\", \"content\" :\"Draft an email to joe@langchain.dev saying that we want to schedule a followup meeting for thursday at noon.\"}]}\n",
    ")\n",
    "result['messages'][1].pretty_print()"
   ],
   "outputs": [
    {
     "name": "stdout",
     "output_type": "stream",
     "text": [
      "==================================\u001B[1m Ai Message \u001B[0m==================================\n",
      "Tool Calls:\n",
      "  draft_email (call_yQkRd5OSHFbim18Zmkj5jLxG)\n",
      " Call ID: call_yQkRd5OSHFbim18Zmkj5jLxG\n",
      "  Args:\n",
      "    to: joe@langchain.dev\n",
      "    subject: Follow-Up Meeting Scheduling\n",
      "    body: Hi Joe,\n",
      "\n",
      "I hope you're doing well. I'd like to schedule a follow-up meeting for this Thursday at noon. Would you prefer to meet on Zoom or Google Meet? Please let me know your preference, and if this time works for you.\n",
      "\n",
      "Best regards,\n",
      "William\n"
     ]
    }
   ],
   "execution_count": 14
  },
  {
   "cell_type": "code",
   "id": "d3cbfc93-5d1f-407d-b0a9-4f86d875ceb4",
   "metadata": {
    "ExecuteTime": {
     "end_time": "2025-05-27T11:23:40.382210Z",
     "start_time": "2025-05-27T11:23:37.307011Z"
    }
   },
   "source": [
    "result = agent.invoke(\n",
    "    {\"messages\": [\n",
    "        {\"role\": \"user\", \"content\" : \"Let roger@langchain.dev know that the release should be later by 4:00 PM.\"}]}\n",
    ")\n",
    "result['messages'][1].pretty_print()"
   ],
   "outputs": [
    {
     "name": "stdout",
     "output_type": "stream",
     "text": [
      "==================================\u001B[1m Ai Message \u001B[0m==================================\n",
      "Tool Calls:\n",
      "  draft_email (call_aOHRCbgOKoJRpXck8bGu2WbH)\n",
      " Call ID: call_aOHRCbgOKoJRpXck8bGu2WbH\n",
      "  Args:\n",
      "    to: roger@langchain.dev\n",
      "    subject: Updated Release Timing\n",
      "    body: Hi Roger,\n",
      "\n",
      "I wanted to inform you that the release should be moved to later by 4:00 PM. Please adjust the schedule accordingly.\n",
      "\n",
      "Let me know if you have any questions or concerns.\n",
      "\n",
      "Best regards,\n",
      "William\n"
     ]
    }
   ],
   "execution_count": 15
  },
  {
   "cell_type": "markdown",
   "id": "5630d1f7-9772-4471-bca0-22558d4978e9",
   "metadata": {},
   "source": [
    "## Multi-agent"
   ]
  },
  {
   "cell_type": "code",
   "id": "52a85066-00eb-4986-a894-389b07d78da3",
   "metadata": {
    "ExecuteTime": {
     "end_time": "2025-05-27T11:46:13.617567Z",
     "start_time": "2025-05-27T11:46:13.608554Z"
    }
   },
   "source": [
    "# %%capture cap --no-stderr\n",
    "# %pip install -U langgraph-supervisor"
   ],
   "outputs": [],
   "execution_count": 114
  },
  {
   "cell_type": "code",
   "id": "7d7a8b09-fe7d-4053-9a73-6a7d0e227404",
   "metadata": {
    "ExecuteTime": {
     "end_time": "2025-05-27T11:46:13.846241Z",
     "start_time": "2025-05-27T11:46:13.759059Z"
    }
   },
   "source": [
    "from langgraph.store.memory import InMemoryStore\n",
    "from langgraph.prebuilt import create_react_agent\n",
    "from langgraph.config import get_store\n",
    "\n",
    "store = InMemoryStore()\n",
    "\n",
    "store.put((\"instructions\",), key=\"email_agent\", value={\"prompt\": \"Write good emails. Repeat your draft content to the user after submitting.\"})\n",
    "store.put((\"instructions\",), key=\"twitter_agent\", value={\"prompt\": \"Write fire tweets. Repeat the tweet content to the user upon submission.\"})\n",
    "\n",
    "## Email agent\n",
    "def draft_email(to: str, subject: str, body: str):\n",
    "    \"\"\"Submit an email draft.\"\"\"\n",
    "    return \"Draft saved succesfully.\"\n",
    "\n",
    "def prompt_email(state):\n",
    "    item = store.get((\"instructions\",), key=\"email_agent\")\n",
    "    instructions = item.value[\"prompt\"]\n",
    "    sys_prompt = {\"role\": \"system\", \"content\": f\"## Instructions\\n\\n{instructions}\"}\n",
    "    return [sys_prompt] + state['messages']\n",
    "\n",
    "email_agent = create_react_agent(\n",
    "    \"openai:gpt-4.1\",\n",
    "    prompt=prompt_email, \n",
    "    tools=[draft_email], \n",
    "    store=store,\n",
    "    name=\"email_assistant\",\n",
    ")\n",
    "\n",
    "## Tweet\n",
    "\n",
    "def tweet(to: str, subject: str, body: str):\n",
    "    \"\"\"Poast a tweet.\"\"\"\n",
    "    return \"Legendary.\"\n",
    "\n",
    "def prompt_social_media(state):\n",
    "    item = store.get((\"instructions\",), key=\"twitter_agent\")\n",
    "    instructions = item.value[\"prompt\"]\n",
    "    sys_prompt = {\"role\": \"system\", \"content\": f\"## Instructions\\n\\n{instructions}\"}\n",
    "    return [sys_prompt] + state['messages']\n",
    "\n",
    "social_media_agent = create_react_agent(\n",
    "    \"openai:gpt-4.1\",\n",
    "    prompt=prompt_social_media, \n",
    "    tools=[tweet], \n",
    "    store=store,\n",
    "    name=\"social_media_agent\",\n",
    ")"
   ],
   "outputs": [],
   "execution_count": 115
  },
  {
   "metadata": {
    "ExecuteTime": {
     "end_time": "2025-05-27T11:46:14.356657Z",
     "start_time": "2025-05-27T11:46:14.350363Z"
    }
   },
   "cell_type": "code",
   "source": "store.get((\"instructions\",), key=\"email_agent\")",
   "id": "5f0b696c93550d81",
   "outputs": [
    {
     "data": {
      "text/plain": [
       "Item(namespace=['instructions'], key='email_agent', value={'prompt': 'Write good emails. Repeat your draft content to the user after submitting.'}, created_at='2025-05-27T11:46:13.763559+00:00', updated_at='2025-05-27T11:46:13.763609+00:00')"
      ]
     },
     "execution_count": 116,
     "metadata": {},
     "output_type": "execute_result"
    }
   ],
   "execution_count": 116
  },
  {
   "cell_type": "code",
   "id": "76f062c4-2f5f-4a9a-b4dc-a23ec4651b36",
   "metadata": {
    "ExecuteTime": {
     "end_time": "2025-05-27T11:46:14.827534Z",
     "start_time": "2025-05-27T11:46:14.788464Z"
    }
   },
   "source": [
    "from langgraph_supervisor import create_supervisor\n",
    "from langchain_openai import ChatOpenAI\n",
    "\n",
    "# Create supervisor workflow\n",
    "workflow = create_supervisor(\n",
    "    [email_agent, social_media_agent],\n",
    "    model=ChatOpenAI(model=\"gpt-4.1\"),\n",
    "    prompt=(\n",
    "        \"You are a team supervisor managing email and tweet assistants to help with correspondence. Route to email agent if request is about email, route to social media agent if request is about social post.\"\n",
    "    )\n",
    ")\n",
    "\n",
    "# Compile and run\n",
    "app = workflow.compile(store=store)"
   ],
   "outputs": [],
   "execution_count": 117
  },
  {
   "metadata": {
    "ExecuteTime": {
     "end_time": "2025-05-27T11:46:15.413312Z",
     "start_time": "2025-05-27T11:46:15.246954Z"
    }
   },
   "cell_type": "code",
   "source": "display(Image(app.get_graph().draw_mermaid_png()))",
   "id": "4c42720a5f5f4ae",
   "outputs": [
    {
     "data": {
      "image/png": "[encoded data removed]",
      "text/plain": [
       "<IPython.core.display.Image object>"
      ]
     },
     "metadata": {},
     "output_type": "display_data"
    }
   ],
   "execution_count": 118
  },
  {
   "cell_type": "code",
   "id": "ff861c5a-d9ff-4905-b902-6b5550801539",
   "metadata": {
    "ExecuteTime": {
     "end_time": "2025-05-27T11:46:22.373573Z",
     "start_time": "2025-05-27T11:46:16.297435Z"
    }
   },
   "source": [
    "result = app.invoke(\n",
    "    {\"messages\": [\n",
    "        {\"role\": \"user\", \"content\" :\"Draft an email to joe@langchain.dev saying that we want to schedule a followup meeting for thursday at noon.\"}]},\n",
    ")"
   ],
   "outputs": [],
   "execution_count": 119
  },
  {
   "cell_type": "code",
   "id": "16857af2-23bf-4a1c-a55b-7ae205decdc5",
   "metadata": {
    "ExecuteTime": {
     "end_time": "2025-05-27T11:46:52.967183Z",
     "start_time": "2025-05-27T11:46:52.962971Z"
    }
   },
   "source": "result[\"messages\"][3].pretty_print()",
   "outputs": [
    {
     "name": "stdout",
     "output_type": "stream",
     "text": [
      "==================================\u001B[1m Ai Message \u001B[0m==================================\n",
      "Name: email_assistant\n",
      "\n",
      "Here's the draft of your email to Joe:\n",
      "\n",
      "Subject: Scheduling Follow-up Meeting\n",
      "\n",
      "Hi Joe,\n",
      "\n",
      "I hope you're doing well. We would like to schedule a follow-up meeting for this Thursday at noon. Please let us know if that works for you or if you have another preferred time.\n",
      "\n",
      "Looking forward to your response.\n",
      "\n",
      "Best regards,\n",
      "\n",
      "[Your Name]\n"
     ]
    }
   ],
   "execution_count": 126
  },
  {
   "cell_type": "code",
   "id": "d29809be-0c4e-47b8-befe-1c5ef71594bb",
   "metadata": {
    "ExecuteTime": {
     "end_time": "2025-05-27T11:46:54.184191Z",
     "start_time": "2025-05-27T11:46:54.054630Z"
    }
   },
   "source": [
    "from langmem import create_multi_prompt_optimizer\n",
    "\n",
    "feedback = {\"request\": \"Always sign off emails from 'William'; for meeting requests, offer to schedule on Zoom or Google Meet\"}\n",
    "\n",
    "optimizer = create_multi_prompt_optimizer(\"openai:gpt-4.1\")"
   ],
   "outputs": [],
   "execution_count": 127
  },
  {
   "metadata": {
    "ExecuteTime": {
     "end_time": "2025-05-27T11:46:57.171098Z",
     "start_time": "2025-05-27T11:46:56.980769Z"
    }
   },
   "cell_type": "code",
   "source": "display(Image(optimizer.get_graph().draw_mermaid_png()))",
   "id": "f19f202485e4a229",
   "outputs": [
    {
     "data": {
      "image/png": "[encoded data removed]",
      "text/plain": [
       "<IPython.core.display.Image object>"
      ]
     },
     "metadata": {},
     "output_type": "display_data"
    }
   ],
   "execution_count": 128
  },
  {
   "cell_type": "code",
   "id": "6734520b-f0be-428f-b538-c17824d2ec25",
   "metadata": {
    "ExecuteTime": {
     "end_time": "2025-05-27T11:46:57.988780Z",
     "start_time": "2025-05-27T11:46:57.983850Z"
    }
   },
   "source": [
    "from langmem import Prompt\n",
    "?Prompt"
   ],
   "outputs": [],
   "execution_count": 129
  },
  {
   "cell_type": "code",
   "id": "1813fa94-501b-43a0-8d20-c44ee2c037ce",
   "metadata": {
    "ExecuteTime": {
     "end_time": "2025-05-27T11:47:13.542486Z",
     "start_time": "2025-05-27T11:46:59.031101Z"
    }
   },
   "source": [
    "email_prompt = store.get((\"instructions\",), key=\"email_agent\").value['prompt']\n",
    "tweet_prompt = store.get((\"instructions\",), key=\"twitter_agent\").value['prompt']\n",
    "\n",
    "email_prompt = {\n",
    "    \"name\": \"email_prompt\",\n",
    "    \"prompt\": email_prompt,\n",
    "    \"when_to_update\": \"Only if feedback is provided indicating email writing performance needs improved.\"\n",
    "}\n",
    "tweet_prompt = {\n",
    "    \"name\": \"tweet_prompt\",\n",
    "    \"prompt\": tweet_prompt,\n",
    "    \"when_to_update\": \"Only if tweet writing generation needs improvement.\"\n",
    "}\n",
    "\n",
    "\n",
    "optimizer_result = optimizer.invoke({\"prompts\": [tweet_prompt, email_prompt], \"trajectories\": [(result[\"messages\"], feedback)]})"
   ],
   "outputs": [],
   "execution_count": 130
  },
  {
   "cell_type": "code",
   "id": "bbc9d37a-23de-4d46-a7c4-219ba84b7625",
   "metadata": {
    "ExecuteTime": {
     "end_time": "2025-05-27T11:47:14.732612Z",
     "start_time": "2025-05-27T11:47:14.726864Z"
    }
   },
   "source": [
    "optimizer_result"
   ],
   "outputs": [
    {
     "data": {
      "text/plain": [
       "[{'name': 'tweet_prompt',\n",
       "  'prompt': 'Write fire tweets. Repeat the tweet content to the user upon submission.',\n",
       "  'when_to_update': 'Only if tweet writing generation needs improvement.'},\n",
       " {'name': 'email_prompt',\n",
       "  'prompt': 'Write good emails. When drafting emails, always incorporate any user-specific instructions or preferences previously provided (such as preferred sign-off or platform suggestions for meetings). If such context is known, ensure it is respected in every draft. Repeat your draft content to the user after submitting.',\n",
       "  'when_to_update': 'Only if feedback is provided indicating email writing performance needs improved.'}]"
      ]
     },
     "execution_count": 131,
     "metadata": {},
     "output_type": "execute_result"
    }
   ],
   "execution_count": 131
  },
  {
   "cell_type": "code",
   "id": "9ef3d1fd-00b4-42a6-b56b-cd9b2d135b8f",
   "metadata": {
    "ExecuteTime": {
     "end_time": "2025-05-27T11:47:37.439801Z",
     "start_time": "2025-05-27T11:47:37.432523Z"
    }
   },
   "source": "store.put((\"instructions\",), key=\"email_agent\", value={\"prompt\": optimizer_result[1]['prompt']})",
   "outputs": [],
   "execution_count": 132
  },
  {
   "metadata": {
    "ExecuteTime": {
     "end_time": "2025-05-27T11:47:38.414274Z",
     "start_time": "2025-05-27T11:47:38.407435Z"
    }
   },
   "cell_type": "code",
   "source": "store.get((\"instructions\",), key=\"email_agent\")",
   "id": "2a1afcb13347a121",
   "outputs": [
    {
     "data": {
      "text/plain": [
       "Item(namespace=['instructions'], key='email_agent', value={'prompt': 'Write good emails. When drafting emails, always incorporate any user-specific instructions or preferences previously provided (such as preferred sign-off or platform suggestions for meetings). If such context is known, ensure it is respected in every draft. Repeat your draft content to the user after submitting.'}, created_at='2025-05-27T11:47:37.436162+00:00', updated_at='2025-05-27T11:47:37.436169+00:00')"
      ]
     },
     "execution_count": 133,
     "metadata": {},
     "output_type": "execute_result"
    }
   ],
   "execution_count": 133
  },
  {
   "cell_type": "code",
   "id": "d8d66705-a569-43cc-8c45-668cdec62f9e",
   "metadata": {
    "ExecuteTime": {
     "end_time": "2025-05-27T11:47:54.350433Z",
     "start_time": "2025-05-27T11:47:46.931631Z"
    }
   },
   "source": [
    "result = app.invoke(\n",
    "    {\"messages\": [\n",
    "        {\"role\": \"user\", \"content\" :\"Draft an email to joe@langchain.dev saying that we want to schedule a followup meeting for thursday at noon.\"}]},\n",
    ")"
   ],
   "outputs": [],
   "execution_count": 134
  },
  {
   "cell_type": "code",
   "id": "11ae5952-01ce-4374-bd38-c9a22ec44d8f",
   "metadata": {
    "ExecuteTime": {
     "end_time": "2025-05-27T11:48:07.490781Z",
     "start_time": "2025-05-27T11:48:07.487518Z"
    }
   },
   "source": "result[\"messages\"][3].pretty_print()",
   "outputs": [
    {
     "name": "stdout",
     "output_type": "stream",
     "text": [
      "==================================\u001B[1m Ai Message \u001B[0m==================================\n",
      "Name: email_assistant\n",
      "\n",
      "Here is your email draft to joe@langchain.dev:\n",
      "\n",
      "Subject: Scheduling Follow-up Meeting\n",
      "\n",
      "Hi Joe,\n",
      "\n",
      "I hope you're doing well. I wanted to schedule a follow-up meeting and was wondering if Thursday at noon would work for you. Please let me know if that time is convenient or if you would prefer another time.\n",
      "\n",
      "Looking forward to your response.\n",
      "\n",
      "Best regards,  \n",
      "[Your Name]\n"
     ]
    }
   ],
   "execution_count": 137
  },
  {
   "metadata": {
    "ExecuteTime": {
     "end_time": "2025-05-27T11:48:20.149678Z",
     "start_time": "2025-05-27T11:48:12.405371Z"
    }
   },
   "cell_type": "code",
   "source": [
    "result = app.invoke(\n",
    "    {\"messages\": [\n",
    "        {\"role\": \"user\", \"content\" :\"Write a tweet about the beautiful of the world.\"}]},\n",
    ")"
   ],
   "id": "d230480dabde569d",
   "outputs": [],
   "execution_count": 138
  },
  {
   "metadata": {
    "ExecuteTime": {
     "end_time": "2025-05-27T11:48:39.768163Z",
     "start_time": "2025-05-27T11:48:39.765663Z"
    }
   },
   "cell_type": "code",
   "source": "result[\"messages\"][3].pretty_print()",
   "id": "2240ff4bb10cc46",
   "outputs": [
    {
     "name": "stdout",
     "output_type": "stream",
     "text": [
      "==================================\u001B[1m Ai Message \u001B[0m==================================\n",
      "Name: social_media_agent\n",
      "\n",
      "Here's your tweet:\n",
      "\n",
      "The world is breathtakingly beautiful—endless skies, vibrant sunsets, majestic mountains, and the small everyday wonders that make each moment special. Let's celebrate and protect this planet we call home. 🌍✨ #Nature #Gratitude\n",
      "\n",
      "Let me know if you'd like me to post it!\n"
     ]
    }
   ],
   "execution_count": 143
  },
  {
   "metadata": {
    "ExecuteTime": {
     "end_time": "2025-05-27T11:48:58.504428Z",
     "start_time": "2025-05-27T11:48:52.878776Z"
    }
   },
   "cell_type": "code",
   "source": [
    "result = app.invoke(\n",
    "    {\"messages\": result[\"messages\"] + [\n",
    "        {\"role\": \"user\", \"content\" :\"Write a tweet about the bad of the war.\"}]},\n",
    ")"
   ],
   "id": "52d76f0c941dc6",
   "outputs": [],
   "execution_count": 144
  },
  {
   "metadata": {
    "ExecuteTime": {
     "end_time": "2025-05-27T11:49:01.025832Z",
     "start_time": "2025-05-27T11:49:01.023249Z"
    }
   },
   "cell_type": "code",
   "source": "result[\"messages\"][-1].pretty_print()",
   "id": "9d7892b3a8807112",
   "outputs": [
    {
     "name": "stdout",
     "output_type": "stream",
     "text": [
      "==================================\u001B[1m Ai Message \u001B[0m==================================\n",
      "Name: supervisor\n",
      "\n",
      "Here’s a tweet you can use:\n",
      "\n",
      "War leaves nothing but pain, heartbreak, and shattered futures. Every conflict costs innocent lives and scars generations. Let's raise our voices for peace, understanding, and hope. ✌️🌎 #NoMoreWar #PeaceMatters\n",
      "\n",
      "Let me know if you’d like any changes or if you’d like to post it!\n"
     ]
    }
   ],
   "execution_count": 145
  },
  {
   "metadata": {},
   "cell_type": "code",
   "outputs": [],
   "execution_count": null,
   "source": "",
   "id": "db667a08e7bb904c"
  }
 ],
 "metadata": {
  "kernelspec": {
   "display_name": "Python 3 (ipykernel)",
   "language": "python",
   "name": "python3"
  },
  "language_info": {
   "codemirror_mode": {
    "name": "ipython",
    "version": 3
   },
   "file_extension": ".py",
   "mimetype": "text/x-python",
   "name": "python",
   "nbconvert_exporter": "python",
   "pygments_lexer": "ipython3",
   "version": "3.11.2"
  }
 },
 "nbformat": 4,
 "nbformat_minor": 5
}
