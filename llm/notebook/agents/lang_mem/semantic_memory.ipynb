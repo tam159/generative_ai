{
 "cells": [
  {
   "cell_type": "markdown",
   "id": "690f7ef7-9506-46fd-b9b8-f19dbc00ab23",
   "metadata": {},
   "source": [
    "# Semantic Memory"
   ]
  },
  {
   "cell_type": "code",
   "id": "a1e0edc5-6096-4e6a-a107-d5e7588e897a",
   "metadata": {
    "ExecuteTime": {
     "end_time": "2025-05-27T14:58:47.186077Z",
     "start_time": "2025-05-27T14:58:47.180499Z"
    }
   },
   "source": [
    "# %pip install -U langmem langgraph"
   ],
   "outputs": [],
   "execution_count": 10
  },
  {
   "cell_type": "code",
   "id": "778e3a73-afba-4faf-83f2-715885149ffa",
   "metadata": {
    "ExecuteTime": {
     "end_time": "2025-05-27T14:58:47.486693Z",
     "start_time": "2025-05-27T14:58:47.480808Z"
    }
   },
   "source": [
    "from dotenv import load_dotenv\n",
    "from langgraph.prebuilt import create_react_agent\n",
    "from langgraph.checkpoint.memory import InMemorySaver\n",
    "from langgraph.store.memory import InMemoryStore"
   ],
   "outputs": [],
   "execution_count": 11
  },
  {
   "metadata": {
    "ExecuteTime": {
     "end_time": "2025-05-27T14:58:47.786939Z",
     "start_time": "2025-05-27T14:58:47.780357Z"
    }
   },
   "cell_type": "code",
   "source": "load_dotenv()",
   "id": "1fb1ff724b3d7bf8",
   "outputs": [
    {
     "data": {
      "text/plain": [
       "True"
      ]
     },
     "execution_count": 12,
     "metadata": {},
     "output_type": "execute_result"
    }
   ],
   "execution_count": 12
  },
  {
   "metadata": {
    "ExecuteTime": {
     "end_time": "2025-05-27T14:58:48.425728Z",
     "start_time": "2025-05-27T14:58:48.422392Z"
    }
   },
   "cell_type": "code",
   "source": [
    "checkpointer = InMemorySaver()\n",
    "store = InMemoryStore()"
   ],
   "id": "67a8f6be4ddb8e3",
   "outputs": [],
   "execution_count": 13
  },
  {
   "cell_type": "code",
   "id": "c3a7d7e7-907d-490f-a568-3c4bf4790467",
   "metadata": {
    "ExecuteTime": {
     "end_time": "2025-05-27T14:58:50.896014Z",
     "start_time": "2025-05-27T14:58:50.883092Z"
    }
   },
   "source": "agent = create_react_agent(\"google_genai:gemini-2.5-pro-preview-05-06\", tools=[], store=store, checkpointer=checkpointer)",
   "outputs": [],
   "execution_count": 14
  },
  {
   "cell_type": "code",
   "id": "7908d3b6-da10-497d-992c-77e6439d832f",
   "metadata": {
    "ExecuteTime": {
     "end_time": "2025-05-27T14:59:05.116424Z",
     "start_time": "2025-05-27T14:59:05.106842Z"
    }
   },
   "source": [
    "def chat(agent, txt, thread_id):\n",
    "    result_state = agent.invoke({\"messages\": [{\"role\": \"user\", \"content\": txt}]}, config={\"configurable\": {\"thread_id\": thread_id}})\n",
    "    return result_state[\"messages\"][-1].content"
   ],
   "outputs": [],
   "execution_count": 15
  },
  {
   "cell_type": "code",
   "id": "a4e8d540-4f64-417d-9f65-27abc4b06f4f",
   "metadata": {
    "ExecuteTime": {
     "end_time": "2025-05-27T14:59:55.539173Z",
     "start_time": "2025-05-27T14:59:16.030093Z"
    }
   },
   "source": [
    "thread_1 = \"thread-1\"\n",
    "chat(agent, \"Hi there, I'm training for a half marathon in 2 months - could you propose a daily training plan to prepare?\", thread_1)"
   ],
   "outputs": [
    {
     "data": {
      "text/plain": [
       "'Okay, training for a half marathon in 2 months (8 weeks) is ambitious, especially if you\\'re starting from a low fitness base. This plan assumes you can currently run at least 2-3 miles (3-5 km) comfortably a few times a week. If not, you might need to adjust your goal to \"completing\" rather than aiming for a specific time, and be extra cautious about injuries.\\n\\n**Crucial Considerations Before You Start:**\\n\\n1.  **Consult Your Doctor:** Especially if you have any pre-existing health conditions.\\n2.  **Listen to Your Body:** This is paramount. Rest days are as important as training days. If you feel pain (not just discomfort), take an extra rest day or see a professional.\\n3.  **Proper Gear:** Invest in good running shoes fitted for your foot type.\\n4.  **Hydration & Nutrition:** Fuel your body well. Drink plenty of water throughout the day and eat a balanced diet. Start practicing with any gels/chews you might use on race day during your long runs.\\n5.  **Flexibility:** This is a template. Adjust it based on how you feel. If a day says \"run\" but you\\'re exhausted, swap it for rest or cross-training.\\n\\n**Key to the Plan:**\\n\\n*   **Easy Run:** Conversational pace – you should be able to hold a conversation.\\n*   **Tempo Run:** \"Comfortably hard\" pace. You can say a few words, but not hold a full conversation. Typically, a 10-15 min warm-up, 20-30 min at tempo pace, then a 10-15 min cool-down.\\n*   **Intervals:** Short bursts of fast running with recovery jogs/walks in between. E.g., 400m fast, 400m jog, repeat.\\n*   **Long Run:** The most important run of the week. Focus on time on feet and covering the distance, not speed.\\n*   **Cross-Training (XT):** Low-impact activities like swimming, cycling, elliptical. Helps build fitness without the pounding of running.\\n*   **Strength Training (ST):** Focus on core, glutes, and legs. Bodyweight exercises are great (squats, lunges, planks, bridges). 20-30 minutes.\\n*   **Rest:** Complete rest or very light activity like stretching/walking.\\n\\n---\\n\\n**8-Week Half Marathon Training Plan (Daily)**\\n\\n**Week 1: Building a Base**\\n*   **Monday:** Rest or 20-30 min XT (e.g., brisk walk, light cycling)\\n*   **Tuesday:** Easy Run: 2 miles (3km) + ST\\n*   **Wednesday:** Easy Run: 2.5 miles (4km)\\n*   **Thursday:** Rest or 30 min XT + ST\\n*   **Friday:** Easy Run: 2 miles (3km)\\n*   **Saturday:** Long Run: 3 miles (5km)\\n*   **Sunday:** Rest or 20-30 min light XT (e.g., yoga, stretching)\\n\\n**Week 2: Increasing Mileage**\\n*   **Monday:** Rest or 30 min XT\\n*   **Tuesday:** Easy Run: 2.5 miles (4km) + ST\\n*   **Wednesday:** Easy Run: 3 miles (5km)\\n*   **Thursday:** Rest or 30 min XT + ST\\n*   **Friday:** Easy Run: 2.5 miles (4km)\\n*   **Saturday:** Long Run: 4 miles (6.5km)\\n*   **Sunday:** Rest or 20-30 min light XT\\n\\n**Week 3: Introducing Tempo**\\n*   **Monday:** Rest or 30 min XT\\n*   **Tuesday:** Tempo Run: 3 miles total (e.g., 1m easy, 1m tempo, 1m easy) + ST\\n*   **Wednesday:** Easy Run: 3 miles (5km)\\n*   **Thursday:** Rest or 30-40 min XT + ST\\n*   **Friday:** Easy Run: 2.5 miles (4km)\\n*   **Saturday:** Long Run: 5 miles (8km)\\n*   **Sunday:** Rest or 20-30 min light XT\\n\\n**Week 4: Building Endurance**\\n*   **Monday:** Rest or 30 min XT\\n*   **Tuesday:** Tempo Run: 3.5 miles total (e.g., 1m easy, 1.5m tempo, 1m easy) + ST\\n*   **Wednesday:** Easy Run: 3.5 miles (5.5km)\\n*   **Thursday:** Rest or 30-40 min XT + ST\\n*   **Friday:** Easy Run: 3 miles (5km)\\n*   **Saturday:** Long Run: 6 miles (9.5km)\\n*   **Sunday:** Rest or 20-30 min light XT\\n\\n**Week 5: Peak Mileage Approaching (Listen to your body!)**\\n*   **Monday:** Rest or 30 min XT\\n*   **Tuesday:** Tempo Run: 4 miles total (e.g., 1m easy, 2m tempo, 1m easy) + ST\\n*   **Wednesday:** Easy Run: 4 miles (6.5km)\\n*   **Thursday:** Rest or 30-40 min XT + ST\\n*   **Friday:** Easy Run: 3 miles (5km)\\n*   **Saturday:** Long Run: 8 miles (13km)\\n*   **Sunday:** Rest or 20-30 min light XT\\n\\n**Week 6: Longest Run!**\\n*   **Monday:** Rest or 30 min XT\\n*   **Tuesday:** Easy Run: 3.5 miles (5.5km) + ST (lighter)\\n*   **Wednesday:** Tempo Run: 3.5 miles total (e.g., 1m easy, 1.5m tempo, 1m easy)\\n*   **Thursday:** Rest or 30 min XT\\n*   **Friday:** Easy Run: 2.5 miles (4km)\\n*   **Saturday:** Long Run: 10 miles (16km) - *This is your peak long run. Some plans go to 11-12, but 10 is sufficient for an 8-week plan if the goal is to finish.*\\n*   **Sunday:** Rest\\n\\n**Week 7: Tapering (Reducing mileage to recover for race day)**\\n*   **Monday:** Rest or 20-30 min light XT\\n*   **Tuesday:** Easy Run: 3 miles (5km)\\n*   **Wednesday:** Easy Run: 2.5 miles (4km) with a few short (30-sec) pick-ups at race pace\\n*   **Thursday:** Rest or 20 min light XT\\n*   **Friday:** Easy Run: 2 miles (3km)\\n*   **Saturday:** Long Run: 5 miles (8km) - easy pace\\n*   **Sunday:** Rest\\n\\n**Week 8: Race Week! (Focus on rest and light activity)**\\n*   **Monday:** Rest\\n*   **Tuesday:** Easy Run: 2 miles (3km) very easy\\n*   **Wednesday:** Rest or 20 min very light XT (e.g., walk)\\n*   **Thursday:** Easy Run: 1.5 miles (2.5km) with 2-3 x 100m strides (gentle accelerations)\\n*   **Friday:** Complete Rest or very short walk (15-20 min)\\n*   **Saturday:** **RACE DAY! Half Marathon (13.1 miles / 21.1 km)**\\n*   **Sunday:** Active Recovery: Gentle walk, celebrate!\\n\\n---\\n\\n**Important Notes:**\\n\\n*   **Warm-up & Cool-down:** Always do a 5-10 minute dynamic warm-up (leg swings, arm circles, torso twists) before each run and a 5-10 minute cool-down (walking, static stretching) afterwards.\\n*   **Pacing for Long Runs:** Go slow. Slower than you think. The goal is to build endurance, not speed.\\n*   **Strength Training:** Don\\'t skip it! It helps prevent injuries and improves running economy. Focus on compound movements.\\n*   **Sleep:** Aim for 7-9 hours of quality sleep per night. Recovery happens when you sleep.\\n*   **Race Day Strategy:** Start slower than you feel you should. It\\'s easy to get caught up in the excitement. Stick to your planned pace. Don\\'t try anything new on race day (food, gear, pace).\\n\\nThis is a challenging but doable plan. Good luck with your training and your half marathon! Let me know if you have any specific questions as you go.'"
      ]
     },
     "execution_count": 16,
     "metadata": {},
     "output_type": "execute_result"
    }
   ],
   "execution_count": 16
  },
  {
   "cell_type": "code",
   "id": "c8289d65-440c-4bcd-959d-f160842b0d6f",
   "metadata": {
    "ExecuteTime": {
     "end_time": "2025-05-27T15:00:39.727563Z",
     "start_time": "2025-05-27T15:00:35.201194Z"
    }
   },
   "source": [
    "chat(agent, \"Nice! Wish me luck!\", thread_1)"
   ],
   "outputs": [
    {
     "data": {
      "text/plain": [
       "\"Absolutely! **Wishing you the very best of luck with your training and your half marathon!**\\n\\nYou've got this! Remember to listen to your body, stay consistent, and most importantly, enjoy the journey of pushing your limits and achieving something amazing.\\n\\nGo crush it! Let me know how it goes! 🎉👟\""
      ]
     },
     "execution_count": 17,
     "metadata": {},
     "output_type": "execute_result"
    }
   ],
   "execution_count": 17
  },
  {
   "cell_type": "code",
   "id": "ea8b8907-9ee2-4969-836a-f32600a7d6ae",
   "metadata": {
    "ExecuteTime": {
     "end_time": "2025-05-27T15:01:09.360617Z",
     "start_time": "2025-05-27T15:00:57.060465Z"
    }
   },
   "source": [
    "thread_2 = \"thread-2\"\n",
    "chat(agent, \"Nice! Oh thank you! It'll be hard.\", thread_2)"
   ],
   "outputs": [
    {
     "data": {
      "text/plain": [
       "\"You're very welcome!\\n\\nAnd yes, I understand that some things can definitely feel that way. But remember, difficult doesn't mean impossible!\\n\\nIf there's anything I can do to help you break it down, brainstorm, or just provide information as you tackle it, please let me know. Sometimes just talking through the hard parts can make them seem a little less daunting.\\n\\nYou've got this! 💪\""
      ]
     },
     "execution_count": 18,
     "metadata": {},
     "output_type": "execute_result"
    }
   ],
   "execution_count": 18
  },
  {
   "cell_type": "markdown",
   "id": "c5a26b13-e646-4a26-b289-a9b485b755e4",
   "metadata": {},
   "source": [
    "## Adding Memory\n",
    "\n",
    "We'll use regular tools."
   ]
  },
  {
   "cell_type": "code",
   "id": "7daf1c41-7fe8-4c79-8b6c-3a8fb7995ee9",
   "metadata": {
    "ExecuteTime": {
     "end_time": "2025-05-27T15:04:14.530358Z",
     "start_time": "2025-05-27T15:04:14.472564Z"
    }
   },
   "source": [
    "from langmem import create_manage_memory_tool, create_search_memory_tool\n",
    "\n",
    "store = InMemoryStore(\n",
    "    index={\n",
    "        \"dims\": 1536,\n",
    "        \"embed\": \"openai:text-embedding-3-small\"\n",
    "    }\n",
    ")\n",
    "\n",
    "namespace = (\"agent_memories\",)\n",
    "memory_tools = [\n",
    "    create_manage_memory_tool(namespace),\n",
    "    create_search_memory_tool(namespace)\n",
    "]\n",
    "checkpointer = InMemorySaver()\n",
    "agent = create_react_agent(\"google_genai:gemini-2.5-pro-preview-05-06\", tools=memory_tools, store=store, checkpointer=checkpointer)"
   ],
   "outputs": [],
   "execution_count": 20
  },
  {
   "cell_type": "code",
   "id": "e4edaea7-5554-4b12-af49-08e423b04577",
   "metadata": {
    "ExecuteTime": {
     "end_time": "2025-05-27T15:05:15.696834Z",
     "start_time": "2025-05-27T15:04:30.850675Z"
    }
   },
   "source": [
    "thread_1 = \"thread-1\"\n",
    "chat(agent, \"Hi there, I'm training for a half marathon in 2 months - could you propose a daily training plan to prepare?\", thread_1)"
   ],
   "outputs": [
    {
     "data": {
      "text/plain": [
       "\"Okay, training for a half marathon in 2 months is an ambitious goal, but definitely achievable with a structured plan! Here’s a sample 8-week daily training plan.\\n\\n**Important Considerations Before You Start:**\\n*   **Consult your doctor:** Especially if you're new to running or have any health concerns.\\n*   **Listen to your body:** This is crucial. Rest when you need to, and don't push through pain. It's better to take an extra rest day than to get injured.\\n*   **Current fitness:** If you're not currently running, you might need to start with shorter distances or incorporate run/walk intervals (e.g., run 2 mins, walk 1 min, repeat), especially in the first few weeks. This plan assumes some basic level of fitness.\\n*   **Warm-up & Cool-down:** Always include 5-10 minutes of light cardio (like walking or slow jogging) and dynamic stretches before each run. Cool down with 5-10 minutes of walking and static stretches.\\n*   **Pace:**\\n    *   **Easy Pace:** You should be able to hold a conversation comfortably.\\n    *   **Tempo Pace:** Comfortably hard; you can utter short phrases but not full sentences. This is usually sustained for 20-30 minutes during a run.\\n*   **Hydration & Nutrition:** Drink plenty of water throughout the day. Fuel your body with balanced meals. For long runs (over an hour), practice your race-day nutrition and hydration strategy (e.g., energy gels, water intake).\\n*   **Gear:** Invest in a good pair of running shoes that fit well.\\n*   **Cross-Training (XT):** Activities like swimming, cycling, or elliptical training. Helps build fitness with less impact. Strength training (1-2 times a week) focusing on core and legs is also highly beneficial and can be your XT.\\n*   **Flexibility:** Feel free to swap days around to fit your schedule, but try to keep the long run on a day when you have more time and can recover afterwards.\\n\\nHere's the 8-Week Plan:\\n\\n**Week 1: Building a Base**\\n*   **Monday:** Rest\\n*   **Tuesday:** Run 2 miles (or 20-25 mins) at an easy pace.\\n*   **Wednesday:** Cross-Train (XT) 30 mins (e.g., cycling, swimming) or Rest.\\n*   **Thursday:** Run 2 miles (or 20-25 mins) at an easy pace.\\n*   **Friday:** Rest\\n*   **Saturday:** Long Run: 3 miles at an easy pace.\\n*   **Sunday:** Rest or light active recovery (e.g., 20-30 min walk).\\n\\n**Week 2: Increasing Consistency**\\n*   **Monday:** Rest\\n*   **Tuesday:** Run 2.5 miles (or 25-30 mins) at an easy pace.\\n*   **Wednesday:** XT 30-40 mins or Rest.\\n*   **Thursday:** Run 2.5 miles (or 25-30 mins) at an easy pace.\\n*   **Friday:** Rest\\n*   **Saturday:** Long Run: 4 miles at an easy pace.\\n*   **Sunday:** Rest or light active recovery.\\n\\n**Week 3: Adding More Distance**\\n*   **Monday:** Rest\\n*   **Tuesday:** Run 3 miles (or 30-35 mins) at an easy pace.\\n*   **Wednesday:** XT 40 mins OR Run 2 miles easy with 4x100m strides (short bursts of faster running with full recovery).\\n*   **Thursday:** Run 3 miles (or 30-35 mins) at an easy pace.\\n*   **Friday:** Rest\\n*   **Saturday:** Long Run: 5 miles at an easy pace.\\n*   **Sunday:** Rest.\\n\\n**Week 4: Introducing Tempo (Optional)**\\n*   **Monday:** Rest\\n*   **Tuesday:** Run 3 miles easy.\\n*   **Wednesday:** Tempo Run: 1 mile warm-up, 2 miles at tempo pace, 1 mile cool-down (Total 4 miles). OR XT 40 mins.\\n*   **Thursday:** Run 3 miles easy.\\n*   **Friday:** Rest\\n*   **Saturday:** Long Run: 6 miles at an easy pace.\\n*   **Sunday:** Rest or light XT.\\n\\n**Week 5: Building Endurance**\\n*   **Monday:** Rest\\n*   **Tuesday:** Run 3.5 miles easy.\\n*   **Wednesday:** XT 40 mins OR Run 3 miles easy.\\n*   **Thursday:** Run 3.5 miles, with the last mile slightly faster if you feel good.\\n*   **Friday:** Rest\\n*   **Saturday:** Long Run: 7 miles at an easy pace.\\n*   **Sunday:** Rest.\\n\\n**Week 6: Peak Mileage Approaching**\\n*   **Monday:** Rest\\n*   **Tuesday:** Run 4 miles easy.\\n*   **Wednesday:** Tempo Run: 1 mile warm-up, 2-3 miles at tempo pace, 1 mile cool-down. OR XT 45 mins.\\n*   **Thursday:** Run 3 miles easy.\\n*   **Friday:** Rest\\n*   **Saturday:** Long Run: 9 miles at an easy pace.\\n*   **Sunday:** Rest or light XT.\\n\\n**Week 7: Longest Run & Start Taper Thinking**\\n*   **Monday:** Rest\\n*   **Tuesday:** Run 3 miles easy.\\n*   **Wednesday:** XT 30 mins OR Run 2 miles easy.\\n*   **Thursday:** Run 3 miles (can include some gentle hills if available, or just easy pace).\\n*   **Friday:** Rest\\n*   **Saturday:** Long Run: 10-11 miles at an easy pace (This is your longest run before the race).\\n*   **Sunday:** Rest.\\n\\n**Week 8: Taper Week & Race Day!**\\n*   **Monday:** Rest or very light XT (e.g., 20 mins easy cycling/swimming).\\n*   **Tuesday:** Run 2 miles very easy.\\n*   **Wednesday:** Rest.\\n*   **Thursday:** Run 1.5-2 miles very easy, with a few (2-3) 100m strides to keep legs fresh.\\n*   **Friday:** Complete Rest (focus on hydration and nutrition).\\n*   **Saturday:** **RACE DAY! Half Marathon (13.1 miles).** Good luck!\\n*   **Sunday:** Active Recovery (e.g., short, easy walk) or complete rest. Celebrate!\\n\\nRemember to adjust this plan based on how you feel. The key is consistency and listening to your body to avoid injury.\\n\\nWould you like me to save this goal (training for a half marathon in 2 months) or the general outline of this plan for you?\""
      ]
     },
     "execution_count": 21,
     "metadata": {},
     "output_type": "execute_result"
    }
   ],
   "execution_count": 21
  },
  {
   "cell_type": "code",
   "id": "3c4b037a-ab09-43fb-addf-1969af81988d",
   "metadata": {
    "ExecuteTime": {
     "end_time": "2025-05-27T15:38:32.258559Z",
     "start_time": "2025-05-27T15:38:14.519686Z"
    }
   },
   "source": [
    "print(chat(agent, \"Nice! Wish me luck! Please note down the detailed memories for me :)\", thread_1))"
   ],
   "outputs": [
    {
     "name": "stdout",
     "output_type": "stream",
     "text": [
      "Good luck with your training and the half marathon! I've saved the detailed 8-week plan for you. You can ask me to recall it whenever you need.\n",
      "\n",
      "Remember to listen to your body, stay consistent, and enjoy the process! You've got this!\n"
     ]
    }
   ],
   "execution_count": 22
  },
  {
   "cell_type": "code",
   "id": "479d3c7d-7ee1-46b4-ad6f-3ee849644575",
   "metadata": {
    "ExecuteTime": {
     "end_time": "2025-05-27T15:40:55.258574Z",
     "start_time": "2025-05-27T15:40:49.254173Z"
    }
   },
   "source": [
    "thread_2 = \"thread-2\"\n",
    "chat(agent, \"Remember what I'm supposed to do for my training this week? It's week 3...\", thread_2)"
   ],
   "outputs": [
    {
     "data": {
      "text/plain": [
       "\"Okay, for week 3 of your half marathon training plan, here's what's on the schedule:\\n\\n*   **Monday:** Rest\\n*   **Tuesday:** Run 3 miles (30-35 min) easy.\\n*   **Wednesday:** Cross-Training (XT) 40 min OR Run 2 miles easy + 4x100m strides.\\n*   **Thursday:** Run 3 miles (30-35 min) easy.\\n*   **Friday:** Rest\\n*   **Saturday:** Long Run: 5 miles easy.\\n*   **Sunday:** Rest.\""
      ]
     },
     "execution_count": 23,
     "metadata": {},
     "output_type": "execute_result"
    }
   ],
   "execution_count": 23
  },
  {
   "cell_type": "code",
   "id": "9ea0cfb5-4fdb-4680-9c34-7eec063acbf5",
   "metadata": {
    "ExecuteTime": {
     "end_time": "2025-05-27T15:42:34.147399Z",
     "start_time": "2025-05-27T15:41:26.952120Z"
    }
   },
   "source": [
    "chat(agent, \"That may be tricky. I just sprained my ankle. Could you update my plan to include more cross training? Be sure to update the existing key of our plan\", thread_2)"
   ],
   "outputs": [
    {
     "data": {
      "text/plain": [
       "\"I've updated your training plan to focus on non-impact cross-training due to your sprained ankle. I've also added important notes about consulting with your doctor or physical therapist.\\n\\n**Crucially, you should NOT run until you are cleared by a healthcare professional.**\\n\\nHere's a suggested modification for the next few weeks, focusing on healing and maintaining fitness:\\n\\n**Modified Plan (Focus on Ankle Recovery):**\\n\\n*   **General Approach:** All running activities from the original plan should be replaced with non-impact cross-training (e.g., swimming, cycling if it doesn't cause pain, upper body workouts). Listen to your body, and stop if you feel any pain. The durations below are guides for your cross-training.\\n\\n*   **Weeks 1-3 (Initial Injury Phase - assuming your injury happened around the start of Week 3):**\\n    *   **Focus:** Healing and maintaining fitness with non-impact XT. All activities must be pain-free.\\n    *   **Monday:** Rest (elevate and ice your ankle as advised by your doctor/PT).\\n    *   **Tuesday:** XT 30-40 min (e.g., swimming, stationary cycle if no pain, upper body ergometer).\\n    *   **Wednesday:** XT 40-45 min (non-impact).\\n    *   **Thursday:** XT 30-40 min (non-impact).\\n    *   **Friday:** Rest (elevate and ice your ankle as advised).\\n    *   **Saturday:** XT 60-75 min (non-impact, aim for a sustained effort if comfortable).\\n    *   **Sunday:** Rest.\\n\\n*   **Week 4 (Continuing Recovery & Assessing Return - ONLY IF CLEARED BY DOCTOR/PT for light activity):**\\n    *   **Always consult your Doctor/PT before attempting any weight-bearing activity on your ankle or returning to running.**\\n    *   **Monday:** Rest or very light XT 30 min (e.g., swimming).\\n    *   **Tuesday:** XT 40 min. If cleared by your doctor/PT, you might *consider* 5-10 minutes of walking on a flat, even surface. Stop immediately if you feel any pain.\\n    *   **Wednesday:** XT 40-45 min.\\n    *   **Thursday:** XT 40 min. If cleared and Tuesday's walking was okay, you might *consider* 10-15 minutes of walking, or walk/very light jog intervals if advised.\\n    *   **Friday:** Rest.\\n    *   **Saturday:** XT 60-75 min. If cleared and you're progressing, *consider* a short walk (e.g., 20-30 minutes) in addition to your XT.\\n    *   **Sunday:** Rest.\\n\\n*   **Weeks 5-8 (Gradual Reintroduction to Running):**\\n    *   This part of the plan is highly dependent on your recovery and professional advice. The original running progression for these weeks will likely need significant modification.\\n    *   Focus on gradually reintroducing walking, then walk/jogs, and then continuous jogging, ensuring everything is pain-free.\\n    *   You'll likely need to reduce XT volume as you reintroduce running.\\n    *   Be prepared that your original half-marathon timeline might need to be postponed.\\n\\n**Please remember, this is a general modification. Your recovery will be unique. Prioritize pain-free activity and always follow the advice of your doctor or physical therapist. Your half-marathon goal may need to be adjusted.**\\n\\nI've saved this updated plan. Would you like me to read out any specific part of it again?\""
      ]
     },
     "execution_count": 24,
     "metadata": {},
     "output_type": "execute_result"
    }
   ],
   "execution_count": 24
  },
  {
   "cell_type": "markdown",
   "id": "8f562a4e-0ec5-4c70-8027-7791813ec644",
   "metadata": {},
   "source": [
    "## Different User Memories"
   ]
  },
  {
   "cell_type": "code",
   "id": "2fba9529-1118-441b-941e-35ed2d127949",
   "metadata": {
    "ExecuteTime": {
     "end_time": "2025-05-27T15:56:12.187775Z",
     "start_time": "2025-05-27T15:56:12.125314Z"
    }
   },
   "source": [
    "from langmem import create_manage_memory_tool, create_search_memory_tool\n",
    "\n",
    "store = InMemoryStore(\n",
    "    index={\n",
    "        \"dims\": 1536,\n",
    "        \"embed\": \"openai:text-embedding-3-small\"\n",
    "    }\n",
    ")\n",
    "\n",
    "namespace = (\"agent_memories\", \"{user_id}\")\n",
    "memory_tools = [\n",
    "    create_manage_memory_tool(namespace),\n",
    "    create_search_memory_tool(namespace)\n",
    "]\n",
    "checkpointer = InMemorySaver()\n",
    "\n",
    "agent = create_react_agent(\"google_genai:gemini-2.5-pro-preview-05-06\", tools=memory_tools, store=store, checkpointer=checkpointer)"
   ],
   "outputs": [],
   "execution_count": 35
  },
  {
   "cell_type": "code",
   "id": "e1736845-41f7-4ce3-8aec-436e18c8add3",
   "metadata": {
    "ExecuteTime": {
     "end_time": "2025-05-27T15:56:16.821351Z",
     "start_time": "2025-05-27T15:56:16.817433Z"
    }
   },
   "source": [
    "def chat(agent, txt, thread_id, user_id):\n",
    "    result_state = agent.invoke({\"messages\": [{\"role\": \"user\", \"content\": txt}]}, \n",
    "                                config={\"configurable\": {\"thread_id\": thread_id, \"user_id\": user_id}})\n",
    "    return result_state[\"messages\"][-1].content"
   ],
   "outputs": [],
   "execution_count": 36
  },
  {
   "cell_type": "code",
   "id": "fa459758-3241-46b7-a1cc-38ee513d9db2",
   "metadata": {
    "ExecuteTime": {
     "end_time": "2025-05-27T15:43:52.516765Z",
     "start_time": "2025-05-27T15:43:36.923143Z"
    }
   },
   "source": [
    "thread_1 = \"thread-1\"\n",
    "user_id = \"User-A\"\n",
    "chat(agent, \n",
    "     \"Hi I'm Will, I'm training for a half marathon in 2 months - could you propose a daily training plan to prepare and help me stay honest??\",\n",
    "     thread_1,\n",
    "     user_id)"
   ],
   "outputs": [
    {
     "data": {
      "text/plain": [
       "\"Hi Will! That's a great goal. I can definitely help you with a training plan and keeping you on track.\\n\\nTo start, could you tell me a bit about your current running experience? For example, how many times a week do you currently run, and what's your average distance? Knowing this will help me tailor a plan that's right for you.\""
      ]
     },
     "execution_count": 27,
     "metadata": {},
     "output_type": "execute_result"
    }
   ],
   "execution_count": 27
  },
  {
   "cell_type": "code",
   "id": "8ea8e615-58eb-4b02-9084-90acd4b063c9",
   "metadata": {
    "ExecuteTime": {
     "end_time": "2025-05-27T15:45:26.058281Z",
     "start_time": "2025-05-27T15:45:13.820139Z"
    }
   },
   "source": [
    "thread_2 = \"thread-2\"\n",
    "user_id2 = \"User-B\"\n",
    "chat(agent, \n",
    "     \"Hi I'm John, I'm learning chess - could you help me become great??\",\n",
    "     thread_2,\n",
    "     user_id2)"
   ],
   "outputs": [
    {
     "data": {
      "text/plain": [
       "\"Hi John! That's a great goal. I can definitely help you on your journey to becoming a great chess player. I've just created a memory of your goal.\\n\\nTo start, what do you find most challenging about chess right now? Knowing that will help me tailor my advice. We can also explore openings, middle-game strategy, endgames, or even analyze famous games.\""
      ]
     },
     "execution_count": 28,
     "metadata": {},
     "output_type": "execute_result"
    }
   ],
   "execution_count": 28
  },
  {
   "cell_type": "code",
   "id": "6f972317-4050-4af0-8353-3e1667c977e6",
   "metadata": {
    "ExecuteTime": {
     "end_time": "2025-05-27T15:47:44.031386Z",
     "start_time": "2025-05-27T15:47:39.055370Z"
    }
   },
   "source": [
    "chat(agent, \n",
    "     \"Do you remember me liking any sports?\",\n",
    "     thread_1,\n",
    "     user_id2)"
   ],
   "outputs": [
    {
     "data": {
      "text/plain": [
       "\"I don't have a specific memory of you mentioning sports you like. My apologies!\\n\\nHowever, I do remember that you're currently training for a half marathon, which is a fantastic athletic goal!\\n\\nHave you told me about other sports you enjoy before? If so, I'd be happy to refresh my memory.\""
      ]
     },
     "execution_count": 29,
     "metadata": {},
     "output_type": "execute_result"
    }
   ],
   "execution_count": 29
  },
  {
   "cell_type": "code",
   "id": "1592e7af-54c3-4e1e-bcfe-e5299b1606f5",
   "metadata": {
    "ExecuteTime": {
     "end_time": "2025-05-27T15:50:02.153220Z",
     "start_time": "2025-05-27T15:50:02.142194Z"
    }
   },
   "source": [
    "items = store.search((\"agent_memories\",))\n",
    "for item in items:\n",
    "    print(item.namespace, item.value)"
   ],
   "outputs": [
    {
     "name": "stdout",
     "output_type": "stream",
     "text": [
      "('agent_memories', 'User-A') {'content': 'User Will is training for a half marathon to be completed in 2 months. He has requested a daily training plan and assistance in staying honest with his training.'}\n",
      "('agent_memories', 'User-B') {'content': 'User John is learning chess and aims to become a great player.'}\n"
     ]
    }
   ],
   "execution_count": 30
  },
  {
   "cell_type": "markdown",
   "id": "d8f505cc-736f-4894-a214-1872ec8e17f7",
   "metadata": {},
   "source": [
    "## \"Eager\" memory retrieval\n",
    "\n",
    "We can fetch memories before the first LLM call to simplify its response. Otherwise, it has known and unknown unknowns so will almost always try to search for some subclass of questions."
   ]
  },
  {
   "cell_type": "code",
   "id": "dd8ceedf-7c3b-4609-9bb3-542c94f71c66",
   "metadata": {
    "ExecuteTime": {
     "end_time": "2025-05-27T16:00:53.241132Z",
     "start_time": "2025-05-27T16:00:53.179880Z"
    }
   },
   "source": [
    "from langmem import create_manage_memory_tool, create_search_memory_tool\n",
    "from langgraph.config import get_store\n",
    "\n",
    "store = InMemoryStore(\n",
    "    index={\n",
    "        \"dims\": 1536,\n",
    "        \"embed\": \"openai:text-embedding-3-small\"\n",
    "    }\n",
    ")\n",
    "\n",
    "namespace = (\"agent_memories\",)\n",
    "memory_tools = [\n",
    "    create_manage_memory_tool(namespace),\n",
    "    create_search_memory_tool(namespace)\n",
    "]\n",
    "checkpointer = InMemorySaver()\n",
    "\n",
    "def prompt(state):\n",
    "    # Search over memories based on the messages\n",
    "    store = get_store()\n",
    "    items = store.search(namespace, query=state[\"messages\"][-1].content)\n",
    "    memories = \"\\n\\n\".join(str(item) for item in items)\n",
    "    system_msg = {\"role\": \"system\", \"content\": f\"## Memories:\\n\\n{memories}\"}\n",
    "    return [system_msg] + state[\"messages\"]\n",
    "    \n",
    "agent = create_react_agent(\"google_genai:gemini-2.5-pro-preview-05-06\", prompt=prompt, tools=memory_tools, store=store, checkpointer=checkpointer)"
   ],
   "outputs": [],
   "execution_count": 41
  },
  {
   "cell_type": "code",
   "id": "667804de-3b2b-46cd-ac1b-9cd3e01aa9f1",
   "metadata": {
    "ExecuteTime": {
     "end_time": "2025-05-27T16:01:23.652919Z",
     "start_time": "2025-05-27T16:00:54.726297Z"
    }
   },
   "source": [
    "thread_1 = \"thread-1\"\n",
    "chat(agent, \"Hi there, I'm training for a half marathon in 2 months - could you propose a base daily training plan to prepare? Just provide a draft one\", thread_1, None)"
   ],
   "outputs": [
    {
     "data": {
      "text/plain": [
       "\"Okay, I can help you with that! Here's a sample base daily training plan for a half marathon. Remember, this is a general guide, and you may need to adjust it based on your current fitness level and how your body responds. It's also a good idea to consult with a doctor or a running coach.\\n\\n**Key:**\\n\\n*   **Easy Run:** A comfortable pace where you can hold a conversation.\\n*   **Tempo Run:** A comfortably hard pace, sustainable for a longer period.\\n*   **Interval Training:** Alternating between high-intensity bursts and recovery periods.\\n*   **Long Run:** A slow, steady run designed to build endurance.\\n*   **Cross-Training (XT):** Activities like swimming, cycling, or strength training.\\n*   **Rest:** Essential for recovery and injury prevention.\\n\\n**Weekly Schedule (repeat for 8 weeks, gradually increasing mileage):**\\n\\n*   **Monday:** Rest or XT (30-45 minutes)\\n*   **Tuesday:** Easy Run (3-5 miles)\\n*   **Wednesday:** Tempo Run (3-4 miles, with 1-2 miles at tempo pace) or Interval Training (e.g., 6 x 400m repeats with recovery jogs)\\n*   **Thursday:** Easy Run (3-5 miles)\\n*   **Friday:** Rest or XT (30-45 minutes)\\n*   **Saturday:** Long Run (start with 4-5 miles, gradually increasing by 0.5-1 mile each week, up to 10-12 miles)\\n*   **Sunday:** Easy Run (2-3 miles) or Rest\\n\\n**Important Considerations:**\\n\\n*   **Warm-up and Cool-down:** Always include 5-10 minutes of light cardio and dynamic stretching before each run, and 5-10 minutes of static stretching after.\\n*   **Listen to Your Body:** Don't push through pain. Take extra rest days if needed.\\n*   **Hydration and Nutrition:** Drink plenty of water and fuel your body with a balanced diet.\\n*   **Proper Gear:** Invest in good running shoes.\\n*   **Tapering:** In the last 1-2 weeks before the race, gradually reduce your mileage to allow your body to recover and be fresh for race day.\\n\\nThis is a starting point. Would you like me to elaborate on any specific part of the plan, or help you adjust it based on your experience?\""
      ]
     },
     "execution_count": 42,
     "metadata": {},
     "output_type": "execute_result"
    }
   ],
   "execution_count": 42
  },
  {
   "cell_type": "code",
   "id": "078c7701-1a41-4219-8b7d-a3a241afa58a",
   "metadata": {
    "ExecuteTime": {
     "end_time": "2025-05-27T16:01:43.709905Z",
     "start_time": "2025-05-27T16:01:35.232080Z"
    }
   },
   "source": "print(chat(agent, \"Nice! Wish me luck! Please note down this detailed plan in memories for me :)\", thread_1, None))",
   "outputs": [
    {
     "name": "stdout",
     "output_type": "stream",
     "text": [
      "Good luck with your training! I've saved this detailed plan in my memory for you. Feel free to ask me any questions about it as you go, or if you need any modifications. You've got this!\n"
     ]
    }
   ],
   "execution_count": 43
  },
  {
   "cell_type": "code",
   "id": "7d3f2ab4-837c-4867-8788-562010cbfa72",
   "metadata": {
    "ExecuteTime": {
     "end_time": "2025-05-27T16:02:18.572367Z",
     "start_time": "2025-05-27T16:02:03.241763Z"
    }
   },
   "source": [
    "thread_2 = \"thread-2\"\n",
    "chat(agent, \"What I'm supposed to do for my training this week? It's week 3...\", thread_2, None)"
   ],
   "outputs": [
    {
     "data": {
      "text/plain": [
       "\"Okay, for Week 3 of your half marathon training, here’s what your schedule looks like:\\n\\n*   **Monday:** Rest or Cross-Training (XT) for 30-45 minutes.\\n*   **Tuesday:** Easy Run for 3-5 miles.\\n*   **Wednesday:** Tempo Run (3-4 miles, with 1-2 miles at tempo pace) or Interval Training (for example, 6x400m with recovery jogs in between).\\n*   **Thursday:** Easy Run for 3-5 miles.\\n*   **Friday:** Rest or Cross-Training (XT) for 30-45 minutes.\\n*   **Saturday:** Long Run. This week, you should aim for 5-7 miles, increasing from last week's distance.\\n*   **Sunday:** Easy Run for 2-3 miles, or Rest.\\n\\nRemember to include a warm-up before each run and a cool-down afterward. Listen to your body, stay hydrated, and make sure you're fueling properly!\""
      ]
     },
     "execution_count": 44,
     "metadata": {},
     "output_type": "execute_result"
    }
   ],
   "execution_count": 44
  },
  {
   "cell_type": "code",
   "execution_count": null,
   "id": "d1b7f269-ae7e-4134-86f9-fe2d5dec9e74",
   "metadata": {},
   "outputs": [],
   "source": []
  }
 ],
 "metadata": {
  "kernelspec": {
   "display_name": "Python 3 (ipykernel)",
   "language": "python",
   "name": "python3"
  },
  "language_info": {
   "codemirror_mode": {
    "name": "ipython",
    "version": 3
   },
   "file_extension": ".py",
   "mimetype": "text/x-python",
   "name": "python",
   "nbconvert_exporter": "python",
   "pygments_lexer": "ipython3",
   "version": "3.11.2"
  }
 },
 "nbformat": 4,
 "nbformat_minor": 5
}
