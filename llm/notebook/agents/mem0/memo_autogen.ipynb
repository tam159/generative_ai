{
 "cells": [
  {
   "cell_type": "code",
   "id": "initial_id",
   "metadata": {
    "collapsed": true,
    "ExecuteTime": {
     "end_time": "2024-09-10T02:35:31.847059Z",
     "start_time": "2024-09-10T02:35:22.786536Z"
    }
   },
   "source": [
    "import os\n",
    "from autogen import ConversableAgent\n",
    "from mem0 import MemoryClient\n",
    "from openai import OpenAI\n",
    "\n",
    "from dotenv import load_dotenv"
   ],
   "outputs": [
    {
     "name": "stderr",
     "output_type": "stream",
     "text": [
      "/Users/may/.virtualenvs/generative_ai/lib/python3.12/site-packages/tqdm/auto.py:21: TqdmWarning: IProgress not found. Please update jupyter and ipywidgets. See https://ipywidgets.readthedocs.io/en/stable/user_install.html\n",
      "  from .autonotebook import tqdm as notebook_tqdm\n"
     ]
    }
   ],
   "execution_count": 5
  },
  {
   "metadata": {
    "ExecuteTime": {
     "end_time": "2024-09-10T02:35:33.929286Z",
     "start_time": "2024-09-10T02:35:33.918133Z"
    }
   },
   "cell_type": "code",
   "source": "load_dotenv()",
   "id": "27eb9c0fcd9ed583",
   "outputs": [
    {
     "data": {
      "text/plain": [
       "True"
      ]
     },
     "execution_count": 6,
     "metadata": {},
     "output_type": "execute_result"
    }
   ],
   "execution_count": 6
  },
  {
   "metadata": {
    "ExecuteTime": {
     "end_time": "2024-09-10T02:35:35.690235Z",
     "start_time": "2024-09-10T02:35:35.681043Z"
    }
   },
   "cell_type": "code",
   "source": "USER_ID = \"customer_service_bot\"",
   "id": "1a586dd739c6bad7",
   "outputs": [],
   "execution_count": 7
  },
  {
   "metadata": {
    "ExecuteTime": {
     "end_time": "2024-09-10T02:35:39.868037Z",
     "start_time": "2024-09-10T02:35:38.520860Z"
    }
   },
   "cell_type": "code",
   "source": [
    "# Initialize Mem0 and AutoGen agents\n",
    "memory_client = MemoryClient()"
   ],
   "id": "118307d43b705ef4",
   "outputs": [],
   "execution_count": 8
  },
  {
   "metadata": {
    "ExecuteTime": {
     "end_time": "2024-09-10T02:35:40.844534Z",
     "start_time": "2024-09-10T02:35:40.829363Z"
    }
   },
   "cell_type": "code",
   "source": [
    "agent = ConversableAgent(\n",
    "    \"chatbot\",\n",
    "    llm_config={\"config_list\": [{\"model\": \"gpt-4o-2024-08-06\"}]},\n",
    "    code_execution_config=False,\n",
    "    human_input_mode=\"NEVER\",\n",
    ")"
   ],
   "id": "f69d4069e1064531",
   "outputs": [],
   "execution_count": 9
  },
  {
   "metadata": {
    "ExecuteTime": {
     "end_time": "2024-09-10T02:42:24.715922Z",
     "start_time": "2024-09-10T02:42:21.363422Z"
    }
   },
   "cell_type": "code",
   "source": [
    "conversation = [\n",
    "    {\"role\": \"assistant\", \"content\": \"Hi, I'm Best Buy's chatbot! How can I help you?\"},\n",
    "    {\"role\": \"user\", \"content\": \"I'm seeing horizontal lines on my TV.\"},\n",
    "    {\"role\": \"assistant\", \"content\": \"I'm sorry to hear that. Can you provide your TV model?\"},\n",
    "    {\"role\": \"user\", \"content\": \"It's a Sony - 77\\\" Class BRAVIA XR A80K OLED 4K UHD Smart Google TV\"},\n",
    "    {\"role\": \"assistant\", \"content\": \"Thank you for the information. Let's troubleshoot this issue...\"}\n",
    "]\n",
    "\n",
    "memory_client.add(messages=conversation, user_id=USER_ID)\n",
    "print(\"Conversation added to memory.\")"
   ],
   "id": "202f521bb5cc2472",
   "outputs": [
    {
     "name": "stdout",
     "output_type": "stream",
     "text": [
      "Conversation added to memory.\n"
     ]
    }
   ],
   "execution_count": 10
  },
  {
   "metadata": {
    "ExecuteTime": {
     "end_time": "2024-09-10T02:44:05.763904Z",
     "start_time": "2024-09-10T02:44:05.761901Z"
    }
   },
   "cell_type": "code",
   "source": "question = \"What was the issue with my TV?\"",
   "id": "fb555e4c2efb09b2",
   "outputs": [],
   "execution_count": 12
  },
  {
   "metadata": {
    "ExecuteTime": {
     "end_time": "2024-09-10T02:44:07.440046Z",
     "start_time": "2024-09-10T02:44:06.454391Z"
    }
   },
   "cell_type": "code",
   "source": [
    "relevant_memories = memory_client.search(question, user_id=USER_ID)\n",
    "relevant_memories"
   ],
   "id": "311808a9cc3e24e0",
   "outputs": [
    {
     "data": {
      "text/plain": [
       "[{'id': '70d8eb78-8051-4f04-b48f-9e194eb2076b',\n",
       "  'memory': 'User is seeing horizontal lines on their TV',\n",
       "  'user_id': 'customer_service_bot',\n",
       "  'hash': '9cec30204bd8d62f76c5d51e5db53a1c',\n",
       "  'metadata': None,\n",
       "  'categories': ['technology', 'misc'],\n",
       "  'created_at': '2024-09-09T19:42:24.696143-07:00',\n",
       "  'updated_at': '2024-09-09T19:42:24.696158-07:00',\n",
       "  'custom_categories': None,\n",
       "  'score': 0.537702862942561},\n",
       " {'id': '9bc5c3a3-5cb3-43e3-b411-4e83c5d52d04',\n",
       "  'memory': 'User has a Sony - 77\" Class BRAVIA XR A80K OLED 4K UHD Smart Google TV',\n",
       "  'user_id': 'customer_service_bot',\n",
       "  'hash': '206f495b82ad65e1971da343631a5ae3',\n",
       "  'metadata': None,\n",
       "  'categories': ['technology', 'entertainment'],\n",
       "  'created_at': '2024-09-09T19:42:24.663207-07:00',\n",
       "  'updated_at': '2024-09-09T19:42:24.663224-07:00',\n",
       "  'custom_categories': None,\n",
       "  'score': 0.47894369003008896}]"
      ]
     },
     "execution_count": 13,
     "metadata": {},
     "output_type": "execute_result"
    }
   ],
   "execution_count": 13
  },
  {
   "metadata": {
    "ExecuteTime": {
     "end_time": "2024-09-10T02:43:43.850106Z",
     "start_time": "2024-09-10T02:43:40.345112Z"
    }
   },
   "cell_type": "code",
   "source": [
    "def get_context_aware_response(question):\n",
    "    relevant_memories = memory_client.search(question, user_id=USER_ID)\n",
    "    context = \"\\n\".join([m[\"memory\"] for m in relevant_memories])\n",
    "\n",
    "    prompt = f\"\"\"Answer the user question considering the previous interactions:\n",
    "    Previous interactions:\n",
    "    {context}\n",
    "\n",
    "    Question: {question}\n",
    "    \"\"\"\n",
    "\n",
    "    reply = agent.generate_reply(messages=[{\"content\": prompt, \"role\": \"user\"}])\n",
    "    return reply\n",
    "\n",
    "# Example usage\n",
    "answer = get_context_aware_response(question)\n",
    "print(\"Context-aware answer:\", answer)"
   ],
   "id": "2681bc53a993f28f",
   "outputs": [
    {
     "name": "stdout",
     "output_type": "stream",
     "text": [
      "Context-aware answer: Based on the previous interactions, the issue with your TV is that you are seeing horizontal lines on your Sony - 77\" Class BRAVIA XR A80K OLED 4K UHD Smart Google TV. This can often be due to a hardware problem such as a faulty connection or damage to the display panel, or it could occasionally be related to software issues. To diagnose this effectively, you might want to try troubleshooting steps like checking all cables and connections, updating the TV’s firmware, or performing a factory reset. If the issue persists, contacting Sony support or a professional technician may be necessary.\n"
     ]
    }
   ],
   "execution_count": 11
  },
  {
   "metadata": {
    "ExecuteTime": {
     "end_time": "2024-09-10T02:47:19.405569Z",
     "start_time": "2024-09-10T02:47:14.814772Z"
    }
   },
   "cell_type": "code",
   "source": [
    "manager = ConversableAgent(\n",
    "    \"manager\",\n",
    "    system_message=\"You are a manager who helps in resolving complex customer issues.\",\n",
    "    llm_config={\"config_list\": [{\"model\": \"gpt-4o-2024-08-06\"}]},\n",
    "    human_input_mode=\"NEVER\"\n",
    ")\n",
    "\n",
    "def escalate_to_manager(question):\n",
    "    relevant_memories = memory_client.search(question, user_id=USER_ID)\n",
    "    context = \"\\n\".join([m[\"memory\"] for m in relevant_memories])\n",
    "\n",
    "    prompt = f\"\"\"\n",
    "    Context from previous interactions:\n",
    "    {context}\n",
    "\n",
    "    Customer question: {question}\n",
    "\n",
    "    As a manager, how would you address this issue?\n",
    "    \"\"\"\n",
    "\n",
    "    manager_response = manager.generate_reply(messages=[{\"content\": prompt, \"role\": \"user\"}])\n",
    "    return manager_response\n",
    "\n",
    "# Example usage\n",
    "complex_question = \"I'm not satisfied with the troubleshooting steps. What else can be done?\"\n",
    "manager_answer = escalate_to_manager(complex_question)\n",
    "print(\"Manager's response:\", manager_answer)"
   ],
   "id": "b05ac3ed3b01e490",
   "outputs": [
    {
     "name": "stdout",
     "output_type": "stream",
     "text": [
      "Manager's response: I understand your frustration, and I'm here to assist you in resolving this issue as efficiently as possible. Here's what we can do next:\n",
      "\n",
      "1. **Warranty Check and Service Request**: Let's start by checking if your TV is under warranty. If it is, we can arrange for an authorized technician to inspect and service your TV at no cost to you.\n",
      "\n",
      "2. **Escalation to Sony Support**: If it is still under warranty and you've already attempted initial troubleshooting steps, it might be beneficial to escalate this issue directly to Sony's support team. They have specialized knowledge and resources for more advanced troubleshooting.\n",
      "\n",
      "3. **In-Home Service**: Regardless of the warranty status, we can arrange an in-home service where a technician will address the issue on-site. During this visit, they can conduct a thorough diagnostic to determine the cause of the horizontal lines.\n",
      "\n",
      "4. **Replacement Options**: If the issue cannot be resolved, and it is a persistent defect, we can discuss options such as a replacement unit or other solutions that align with our customer satisfaction policies.\n",
      "\n",
      "5. **Customer Satisfaction Compensation**: Depending on the situation, we may also consider offering compensation, such as a discount on future purchases, if the issue has caused significant inconvenience.\n",
      "\n",
      "Please let me know which direction you would prefer to pursue, or if there's anything else I can do to assist you further. Our goal is your satisfaction and to ensure your TV functions perfectly.\n"
     ]
    }
   ],
   "execution_count": 14
  },
  {
   "metadata": {},
   "cell_type": "code",
   "outputs": [],
   "execution_count": null,
   "source": "",
   "id": "6d7e25e7b0897682"
  }
 ],
 "metadata": {
  "kernelspec": {
   "display_name": "Python 3",
   "language": "python",
   "name": "python3"
  },
  "language_info": {
   "codemirror_mode": {
    "name": "ipython",
    "version": 2
   },
   "file_extension": ".py",
   "mimetype": "text/x-python",
   "name": "python",
   "nbconvert_exporter": "python",
   "pygments_lexer": "ipython2",
   "version": "2.7.6"
  }
 },
 "nbformat": 4,
 "nbformat_minor": 5
}
