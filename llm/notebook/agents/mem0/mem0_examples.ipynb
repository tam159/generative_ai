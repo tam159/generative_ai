{
 "cells": [
  {
   "cell_type": "code",
   "id": "initial_id",
   "metadata": {
    "collapsed": true,
    "ExecuteTime": {
     "end_time": "2024-09-10T07:14:57.740278Z",
     "start_time": "2024-09-10T07:14:56.698837Z"
    }
   },
   "source": [
    "import os\n",
    "\n",
    "from dotenv import load_dotenv\n",
    "from mem0 import Memory\n",
    "from openai import OpenAI"
   ],
   "outputs": [],
   "execution_count": 3
  },
  {
   "metadata": {
    "ExecuteTime": {
     "end_time": "2024-09-10T07:14:58.847749Z",
     "start_time": "2024-09-10T07:14:58.836995Z"
    }
   },
   "cell_type": "code",
   "source": [
    "load_dotenv()"
   ],
   "id": "29a3d96b0209061c",
   "outputs": [
    {
     "data": {
      "text/plain": [
       "True"
      ]
     },
     "execution_count": 4,
     "metadata": {},
     "output_type": "execute_result"
    }
   ],
   "execution_count": 4
  },
  {
   "metadata": {
    "ExecuteTime": {
     "end_time": "2024-09-10T07:15:09.286311Z",
     "start_time": "2024-09-10T07:15:09.273908Z"
    }
   },
   "cell_type": "code",
   "source": [
    "client = OpenAI()"
   ],
   "id": "5ad380f900f5bb95",
   "outputs": [],
   "execution_count": 5
  },
  {
   "metadata": {
    "ExecuteTime": {
     "end_time": "2024-09-10T07:15:38.994531Z",
     "start_time": "2024-09-10T07:15:38.989514Z"
    }
   },
   "cell_type": "code",
   "source": [
    "HOST = \"localhost\""
   ],
   "id": "89d576786796e9",
   "outputs": [],
   "execution_count": 6
  },
  {
   "metadata": {},
   "cell_type": "markdown",
   "source": "# Personalized AI Tutor",
   "id": "42c807eea205a27c"
  },
  {
   "metadata": {
    "ExecuteTime": {
     "end_time": "2024-09-10T07:17:15.739681Z",
     "start_time": "2024-09-10T07:17:15.728330Z"
    }
   },
   "cell_type": "code",
   "source": [
    "class PersonalAITutor:\n",
    "    def __init__(self):\n",
    "        \"\"\"\n",
    "        Initialize the PersonalAITutor with memory configuration and OpenAI client.\n",
    "        \"\"\"\n",
    "        config = {\n",
    "            \"vector_store\": {\n",
    "                \"provider\": \"pgvector\",\n",
    "                \"config\": {\n",
    "                    \"user\": os.getenv(\"POSTGRES_USER\"),\n",
    "                    \"password\": os.getenv(\"POSTGRES_PASSWORD\"),\n",
    "                    \"host\": HOST,\n",
    "                    \"port\": os.getenv(\"POSTGRES_LOCAL_PORT\"),\n",
    "                    \"dbname\": \"mem0\",\n",
    "                    \"embedding_model_dims\": 1536,\n",
    "                },\n",
    "            },\n",
    "        }\n",
    "        self.memory = Memory.from_config(config)\n",
    "        self.client = client\n",
    "        self.app_id = \"app-1\"\n",
    "\n",
    "    def ask(self, question, user_id=None):\n",
    "        \"\"\"\n",
    "        Ask a question to the AI and store the relevant facts in memory\n",
    "\n",
    "        :param question: The question to ask the AI.\n",
    "        :param user_id: Optional user ID to associate with the memory.\n",
    "        \"\"\"\n",
    "        # Start a streaming chat completion request to the AI\n",
    "        stream = self.client.chat.completions.create(\n",
    "            model=\"gpt-4o-mini\",\n",
    "            stream=True,\n",
    "            messages=[\n",
    "                {\"role\": \"system\", \"content\": \"You are a personal AI Tutor.\"},\n",
    "                {\"role\": \"user\", \"content\": question},\n",
    "            ],\n",
    "        )\n",
    "        # Store the question in memory\n",
    "        self.memory.add(question, user_id=user_id, metadata={\"app_id\": self.app_id})\n",
    "\n",
    "        # Print the response from the AI in real-time\n",
    "        for chunk in stream:\n",
    "            if chunk.choices[0].delta.content is not None:\n",
    "                print(chunk.choices[0].delta.content, end=\"\")\n",
    "\n",
    "    def get_memories(self, user_id=None):\n",
    "        \"\"\"\n",
    "        Retrieve all memories associated with the given user ID.\n",
    "\n",
    "        :param user_id: Optional user ID to filter memories.\n",
    "        :return: List of memories.\n",
    "        \"\"\"\n",
    "        return self.memory.get_all(user_id=user_id)"
   ],
   "id": "39420aef5a1f1b2e",
   "outputs": [],
   "execution_count": 7
  },
  {
   "metadata": {
    "ExecuteTime": {
     "end_time": "2024-09-10T07:17:22.502365Z",
     "start_time": "2024-09-10T07:17:22.298684Z"
    }
   },
   "cell_type": "code",
   "source": [
    "# Instantiate the PersonalAITutor\n",
    "ai_tutor = PersonalAITutor()"
   ],
   "id": "edaf718ef11961a3",
   "outputs": [],
   "execution_count": 8
  },
  {
   "metadata": {
    "ExecuteTime": {
     "end_time": "2024-09-10T07:18:31.495124Z",
     "start_time": "2024-09-10T07:18:31.489756Z"
    }
   },
   "cell_type": "code",
   "source": [
    "# Define a user ID\n",
    "user_id = \"tam-1a\""
   ],
   "id": "1efb38f8af98c600",
   "outputs": [],
   "execution_count": 9
  },
  {
   "metadata": {
    "ExecuteTime": {
     "end_time": "2024-09-10T07:18:37.717797Z",
     "start_time": "2024-09-10T07:18:34.138535Z"
    }
   },
   "cell_type": "code",
   "source": [
    "# Ask a question\n",
    "ai_tutor.ask(\n",
    "    \"I am learning introduction to CS. What is queue? Briefly explain.\", user_id=user_id\n",
    ")"
   ],
   "id": "77adcb8ac34fe639",
   "outputs": [
    {
     "name": "stdout",
     "output_type": "stream",
     "text": [
      "A queue is a data structure that follows the First-In-First-Out (FIFO) principle. This means that the first element added to the queue will be the first one to be removed. You can think of it like a line of people waiting to buy tickets: the person who arrives first is served first.\n",
      "\n",
      "Key operations associated with a queue include:\n",
      "\n",
      "1. **Enqueue**: Adding an item to the end of the queue.\n",
      "2. **Dequeue**: Removing an item from the front of the queue.\n",
      "3. **Peek/Front**: Viewing the item at the front of the queue without removing it.\n",
      "4. **IsEmpty**: Checking whether the queue is empty.\n",
      "\n",
      "Queues are commonly used in scenarios such as scheduling tasks, managing requests in servers, and buffering data in streaming applications."
     ]
    }
   ],
   "execution_count": 10
  },
  {
   "metadata": {},
   "cell_type": "markdown",
   "source": "# Customer Support AI Agent",
   "id": "bccf9eeca274b94a"
  },
  {
   "metadata": {
    "ExecuteTime": {
     "end_time": "2024-09-10T07:47:51.363223Z",
     "start_time": "2024-09-10T07:47:51.356676Z"
    }
   },
   "cell_type": "code",
   "source": [
    "class CustomerSupportAIAgent:\n",
    "    def __init__(self):\n",
    "        \"\"\"\n",
    "        Initialize the CustomerSupportAIAgent with memory configuration and OpenAI client.\n",
    "        \"\"\"\n",
    "        config = {\n",
    "            \"vector_store\": {\n",
    "                \"provider\": \"pgvector\",\n",
    "                \"config\": {\n",
    "                    \"user\": os.getenv(\"POSTGRES_USER\"),\n",
    "                    \"password\": os.getenv(\"POSTGRES_PASSWORD\"),\n",
    "                    \"host\": HOST,\n",
    "                    \"port\": os.getenv(\"POSTGRES_LOCAL_PORT\"),\n",
    "                    \"dbname\": \"mem0\",\n",
    "                    \"embedding_model_dims\": 1536,\n",
    "                },\n",
    "            },\n",
    "        }\n",
    "        self.memory = Memory.from_config(config)\n",
    "        self.client = OpenAI()\n",
    "        self.app_id = \"customer-support\"\n",
    "\n",
    "    def handle_query(self, query, user_id=None):\n",
    "        \"\"\"\n",
    "        Handle a customer query and store the relevant information in memory.\n",
    "\n",
    "        :param query: The customer query to handle.\n",
    "        :param user_id: Optional user ID to associate with the memory.\n",
    "        \"\"\"\n",
    "        # Start a streaming chat completion request to the AI\n",
    "        stream = self.client.chat.completions.create(\n",
    "            model=\"gpt-4o-mini\",\n",
    "            stream=True,\n",
    "            messages=[\n",
    "                {\"role\": \"system\", \"content\": \"You are a customer support AI agent.\"},\n",
    "                {\"role\": \"user\", \"content\": query},\n",
    "            ],\n",
    "        )\n",
    "        # Store the query in memory\n",
    "        self.memory.add(query, user_id=user_id, metadata={\"app_id\": self.app_id})\n",
    "\n",
    "        # Print the response from the AI in real-time\n",
    "        for chunk in stream:\n",
    "            if chunk.choices[0].delta.content is not None:\n",
    "                print(chunk.choices[0].delta.content, end=\"\")\n",
    "\n",
    "    def get_memories(self, user_id=None):\n",
    "        \"\"\"\n",
    "        Retrieve all memories associated with the given customer ID.\n",
    "\n",
    "        :param user_id: Optional user ID to filter memories.\n",
    "        :return: List of memories.\n",
    "        \"\"\"\n",
    "        return self.memory.get_all(user_id=user_id)"
   ],
   "id": "2a9cd71763b4fbeb",
   "outputs": [],
   "execution_count": 11
  },
  {
   "metadata": {
    "ExecuteTime": {
     "end_time": "2024-09-10T07:47:58.496Z",
     "start_time": "2024-09-10T07:47:58.352523Z"
    }
   },
   "cell_type": "code",
   "source": [
    "# Instantiate the CustomerSupportAIAgent\n",
    "support_agent = CustomerSupportAIAgent()"
   ],
   "id": "7d4ff25509b3ec15",
   "outputs": [],
   "execution_count": 12
  },
  {
   "metadata": {
    "ExecuteTime": {
     "end_time": "2024-09-10T07:48:10.730588Z",
     "start_time": "2024-09-10T07:48:10.720304Z"
    }
   },
   "cell_type": "code",
   "source": [
    "# Define a customer ID\n",
    "customer_id = \"tam-1b\""
   ],
   "id": "23e72ad97078e80",
   "outputs": [],
   "execution_count": 13
  },
  {
   "metadata": {
    "ExecuteTime": {
     "end_time": "2024-09-10T07:48:17.745093Z",
     "start_time": "2024-09-10T07:48:14.029385Z"
    }
   },
   "cell_type": "code",
   "source": [
    "# Handle a customer query\n",
    "support_agent.handle_query(\n",
    "    \"I need help with my recent order. It hasn't arrived yet.\", user_id=customer_id\n",
    ")"
   ],
   "id": "17cd74c5c64dc30",
   "outputs": [
    {
     "name": "stdout",
     "output_type": "stream",
     "text": [
      "I’m sorry to hear that your order hasn’t arrived yet. Can you please provide me with your order number and any additional details such as the date you placed the order? This will help me assist you better."
     ]
    }
   ],
   "execution_count": 14
  },
  {
   "metadata": {},
   "cell_type": "markdown",
   "source": "# Personal AI Travel Assistant",
   "id": "8246f8c0e66c8a27"
  },
  {
   "metadata": {
    "ExecuteTime": {
     "end_time": "2024-09-10T07:51:43.081163Z",
     "start_time": "2024-09-10T07:51:43.070812Z"
    }
   },
   "cell_type": "code",
   "source": [
    "config = {\n",
    "    \"llm\": {\n",
    "        \"provider\": \"openai\",\n",
    "        \"config\": {\n",
    "            \"model\": \"gpt-4o-mini\",\n",
    "            \"temperature\": 0.1,\n",
    "            \"max_tokens\": 2000,\n",
    "        },\n",
    "    },\n",
    "    \"embedder\": {\"provider\": \"openai\", \"config\": {\"model\": \"text-embedding-3-small\"}},\n",
    "    \"vector_store\": {\n",
    "        \"provider\": \"pgvector\",\n",
    "        \"config\": {\n",
    "            \"user\": os.getenv(\"POSTGRES_USER\"),\n",
    "            \"password\": os.getenv(\"POSTGRES_PASSWORD\"),\n",
    "            \"host\": HOST,\n",
    "            \"port\": os.getenv(\"POSTGRES_LOCAL_PORT\"),\n",
    "            \"dbname\": \"mem0\",\n",
    "            \"embedding_model_dims\": 1536,\n",
    "        },\n",
    "    },\n",
    "    \"version\": \"v1.1\",\n",
    "}\n",
    "\n",
    "\n",
    "class PersonalTravelAssistant:\n",
    "    def __init__(self):\n",
    "        self.client = OpenAI()\n",
    "        self.memory = Memory.from_config(config)\n",
    "        self.messages = [\n",
    "            {\"role\": \"system\", \"content\": \"You are a personal AI Assistant.\"}\n",
    "        ]\n",
    "\n",
    "    def ask_question(self, question, user_id):\n",
    "        # Fetch previous related memories\n",
    "        previous_memories = self.search_memories(question, user_id=user_id)\n",
    "        prompt = question\n",
    "        if previous_memories:\n",
    "            prompt = f\"User input: {question}\\n Previous memories: {previous_memories}\"\n",
    "        self.messages.append({\"role\": \"user\", \"content\": prompt})\n",
    "\n",
    "        # Generate response using GPT-4o\n",
    "        response = self.client.chat.completions.create(\n",
    "            model=\"gpt-4o-mini\", messages=self.messages\n",
    "        )\n",
    "        answer = response.choices[0].message.content\n",
    "        self.messages.append({\"role\": \"assistant\", \"content\": answer})\n",
    "\n",
    "        # Store the question in memory\n",
    "        self.memory.add(question, user_id=user_id)\n",
    "        return answer\n",
    "\n",
    "    def get_memories(self, user_id):\n",
    "        memories = self.memory.get_all(user_id=user_id)\n",
    "        return [m[\"memory\"] for m in memories[\"memories\"]]\n",
    "\n",
    "    def search_memories(self, query, user_id):\n",
    "        memories = self.memory.search(query, user_id=user_id)\n",
    "        return [m[\"memory\"] for m in memories[\"memories\"]]"
   ],
   "id": "b5dbb873682d8932",
   "outputs": [],
   "execution_count": 15
  },
  {
   "metadata": {
    "ExecuteTime": {
     "end_time": "2024-09-10T07:51:56.589112Z",
     "start_time": "2024-09-10T07:51:56.549289Z"
    }
   },
   "cell_type": "code",
   "source": [
    "# Usage example\n",
    "user_id = \"tam-1c\"\n",
    "ai_assistant = PersonalTravelAssistant()"
   ],
   "id": "bc6b01e3828c5e06",
   "outputs": [],
   "execution_count": 16
  },
  {
   "metadata": {
    "ExecuteTime": {
     "end_time": "2024-09-10T07:52:17.480266Z",
     "start_time": "2024-09-10T07:52:17.474561Z"
    }
   },
   "cell_type": "code",
   "source": [
    "def ask_travel_assistant():\n",
    "    while True:\n",
    "        question = input(\"Question: \")\n",
    "        if question.lower() in [\"q\", \"exit\"]:\n",
    "            print(\"Exiting...\")\n",
    "            break\n",
    "\n",
    "        answer = ai_assistant.ask_question(question, user_id=user_id)\n",
    "        print(f\"Answer: {answer}\")\n",
    "        memories = ai_assistant.get_memories(user_id=user_id)\n",
    "        print(\"Memories:\")\n",
    "        for memory in memories:\n",
    "            print(f\"- {memory}\")\n",
    "        print(\"-----\")"
   ],
   "id": "223bd5f221361fc3",
   "outputs": [],
   "execution_count": 17
  },
  {
   "metadata": {
    "ExecuteTime": {
     "end_time": "2024-09-10T07:53:15.046991Z",
     "start_time": "2024-09-10T07:52:20.257214Z"
    }
   },
   "cell_type": "code",
   "source": "ask_travel_assistant()",
   "id": "914bd432fc360c3d",
   "outputs": [
    {
     "name": "stdout",
     "output_type": "stream",
     "text": [
      "Answer: That sounds exciting! China is a country rich in history, culture, and diverse landscapes. Here are some things to consider when planning your trip:\n",
      "\n",
      "1. **Destinations**: Popular cities include Beijing (for the Great Wall, Forbidden City), Shanghai (modern skyline, Yu Garden), Xi'an (Terracotta Army), and Chengdu (pandas). Depending on your interests, you might also consider visiting rural areas like Zhangjiajie or the picturesque Li River in Yangshuo.\n",
      "\n",
      "2. **Visa Requirements**: Check the visa requirements for your nationality. Most travelers will need a visa to enter China, which should be applied for in advance.\n",
      "\n",
      "3. **Best Time to Visit**: The best times to visit China are generally during spring (March to May) and autumn (September to November) when the weather is mild and pleasant.\n",
      "\n",
      "4. **Language**: While major cities have some English-speaking residents, it’s helpful to learn a few basic Mandarin phrases. Apps like Google Translate can assist with communication.\n",
      "\n",
      "5. **Cultural Etiquette**: Familiarize yourself with local customs and etiquette, such as greetings, dining etiquette, and gestures.\n",
      "\n",
      "6. **Transportation**: China has an extensive public transportation system, including high-speed trains that make traveling between cities convenient. Consider downloading apps for train schedules and ticket purchases.\n",
      "\n",
      "7. **Currency**: The currency is the Chinese Yuan (CNY). Credit cards are widely accepted in cities, but it’s advisable to have cash for smaller establishments.\n",
      "\n",
      "8. **Food**: Chinese cuisine varies significantly by region. Be sure to try local dishes wherever you go, and don’t hesitate to try street food!\n",
      "\n",
      "9. **Safety and Health**: China is generally safe for tourists, but it's always wise to take standard precautions. Make sure to check any health advisories, especially regarding vaccinations.\n",
      "\n",
      "10. **Cultural Sites and Experiences**: Plan a mix of historical sites, natural wonders, and cultural experiences such as tea ceremonies, calligraphy classes, or local performances.\n",
      "\n",
      "If you have any specific questions or need help with certain aspects of your trip, feel free to ask!\n",
      "Memories:\n",
      "- Wants to travel to China\n",
      "-----\n",
      "Answer: Yes, you can find pho restaurants in China, especially in larger cities like Beijing, Shanghai, and Guangzhou, where there are diverse dining options due to the international community. Pho, a traditional Vietnamese noodle soup, has become popular in many urban areas.\n",
      "\n",
      "Here are a few places you might want to check out:\n",
      "\n",
      "1. **Beijing**: Look for restaurants like \"Vietnamese Restaurant\" or \"Pho 14.\" They often have a good selection of authentic pho.\n",
      "\n",
      "2. **Shanghai**: Places like \"Pho Vietnam\" or \"Little Hanoi\" are known for their flavorful pho and other Vietnamese dishes.\n",
      "\n",
      "3. **Guangzhou**: In this city, you might find \"Pho 36\" or \"Hanoi Pho,\" which are popular among locals and expats.\n",
      "\n",
      "It's always a good idea to check recent reviews online or use food apps like Dianping (similar to Yelp) to find the best options during your visit. Enjoy your culinary adventures in China!\n",
      "Memories:\n",
      "- Wants to travel to China\n",
      "- Looking for a Pho restaurant in San Francisco\n",
      "-----\n",
      "Exiting...\n"
     ]
    }
   ],
   "execution_count": 18
  },
  {
   "metadata": {},
   "cell_type": "code",
   "outputs": [],
   "execution_count": null,
   "source": "",
   "id": "e2381ae8cfdcdb99"
  }
 ],
 "metadata": {
  "kernelspec": {
   "display_name": "Python 3",
   "language": "python",
   "name": "python3"
  },
  "language_info": {
   "codemirror_mode": {
    "name": "ipython",
    "version": 2
   },
   "file_extension": ".py",
   "mimetype": "text/x-python",
   "name": "python",
   "nbconvert_exporter": "python",
   "pygments_lexer": "ipython2",
   "version": "2.7.6"
  }
 },
 "nbformat": 4,
 "nbformat_minor": 5
}
