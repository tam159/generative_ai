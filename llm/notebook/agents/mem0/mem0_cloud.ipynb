{
 "cells": [
  {
   "cell_type": "code",
   "id": "initial_id",
   "metadata": {
    "collapsed": true,
    "ExecuteTime": {
     "end_time": "2024-09-09T08:14:39.393379Z",
     "start_time": "2024-09-09T08:14:38.298136Z"
    }
   },
   "source": [
    "from dotenv import load_dotenv\n",
    "\n",
    "from langchain_openai import ChatOpenAI\n",
    "\n",
    "from mem0 import Memory, MemoryClient"
   ],
   "outputs": [],
   "execution_count": 1
  },
  {
   "metadata": {
    "ExecuteTime": {
     "end_time": "2024-09-09T08:14:39.971157Z",
     "start_time": "2024-09-09T08:14:39.959022Z"
    }
   },
   "cell_type": "code",
   "source": "load_dotenv()",
   "id": "8b75581e5ad3c062",
   "outputs": [
    {
     "data": {
      "text/plain": [
       "True"
      ]
     },
     "execution_count": 2,
     "metadata": {},
     "output_type": "execute_result"
    }
   ],
   "execution_count": 2
  },
  {
   "metadata": {
    "ExecuteTime": {
     "end_time": "2024-09-09T08:16:04.143362Z",
     "start_time": "2024-09-09T08:16:04.126719Z"
    }
   },
   "cell_type": "code",
   "source": "llm = ChatOpenAI(model=\"gpt-4o-mini\", temperature=0)",
   "id": "9db7f3f2985ca39",
   "outputs": [],
   "execution_count": 6
  },
  {
   "metadata": {
    "ExecuteTime": {
     "end_time": "2024-09-09T08:16:07.020051Z",
     "start_time": "2024-09-09T08:16:06.003972Z"
    }
   },
   "cell_type": "code",
   "source": "llm.invoke(\"Hi, I'm Tam Nguyen. I'm keen on working out.\")",
   "id": "2e06de67684d991b",
   "outputs": [
    {
     "data": {
      "text/plain": [
       "AIMessage(content=\"Hi Tam! That's great to hear! Working out is a fantastic way to stay healthy and boost your mood. What type of workouts do you enjoy? Are you into strength training, cardio, yoga, or something else?\", additional_kwargs={'refusal': None}, response_metadata={'token_usage': {'completion_tokens': 44, 'prompt_tokens': 19, 'total_tokens': 63}, 'model_name': 'gpt-4o-mini-2024-07-18', 'system_fingerprint': 'fp_483d39d857', 'finish_reason': 'stop', 'logprobs': None}, id='run-0bcc684c-1616-44ac-ab67-78466cd966db-0', usage_metadata={'input_tokens': 19, 'output_tokens': 44, 'total_tokens': 63})"
      ]
     },
     "execution_count": 7,
     "metadata": {},
     "output_type": "execute_result"
    }
   ],
   "execution_count": 7
  },
  {
   "metadata": {},
   "cell_type": "markdown",
   "source": "# Mem0",
   "id": "772969e1a1fd4dd4"
  },
  {
   "metadata": {
    "ExecuteTime": {
     "end_time": "2024-09-09T08:14:42.595962Z",
     "start_time": "2024-09-09T08:14:41.390790Z"
    }
   },
   "cell_type": "code",
   "source": "client = MemoryClient()",
   "id": "b56fb94b320b512c",
   "outputs": [],
   "execution_count": 4
  },
  {
   "metadata": {
    "ExecuteTime": {
     "end_time": "2024-09-09T08:17:22.469567Z",
     "start_time": "2024-09-09T08:17:18.661145Z"
    }
   },
   "cell_type": "code",
   "source": [
    "human_message = \"Hi, I'm Tam Nguyen. I'm keen on working out.\"\n",
    "messages = [\n",
    "    {\"role\": \"user\", \"content\": human_message},\n",
    "    {\"role\": \"assistant\", \"content\": llm.invoke(human_message).content}\n",
    "]\n",
    "client.add(messages, user_id=\"tam\")"
   ],
   "id": "c17fd3bcc06768f9",
   "outputs": [
    {
     "data": {
      "text/plain": [
       "{'message': 'ok'}"
      ]
     },
     "execution_count": 9,
     "metadata": {},
     "output_type": "execute_result"
    }
   ],
   "execution_count": 9
  },
  {
   "metadata": {
    "ExecuteTime": {
     "end_time": "2024-09-09T08:20:02.573123Z",
     "start_time": "2024-09-09T08:19:57.920501Z"
    }
   },
   "cell_type": "code",
   "source": [
    "messages = [\n",
    "    {\"role\": \"user\", \"content\": \"I'm planning a trip to Japan next month.\"},\n",
    "    {\"role\": \"assistant\", \"content\": \"That's exciting, Tam! A trip to Japan next month sounds wonderful. Would you like some recommendations for gym centers in Japan?\"},\n",
    "    {\"role\": \"user\", \"content\": \"Yes, please! Especially in Tokyo.\"},\n",
    "    {\"role\": \"assistant\", \"content\": \"Great! I'll remember that you're interested in gym in Tokyo for your upcoming trip. I'll prepare a list for you in our next interaction.\"}\n",
    "]\n",
    "client.add(messages, user_id=\"tam\", session_id=\"trip-planning-2024-09\")"
   ],
   "id": "c25faef303167869",
   "outputs": [
    {
     "data": {
      "text/plain": [
       "{'message': 'ok'}"
      ]
     },
     "execution_count": 10,
     "metadata": {},
     "output_type": "execute_result"
    }
   ],
   "execution_count": 10
  },
  {
   "metadata": {
    "ExecuteTime": {
     "end_time": "2024-09-09T08:20:37.716068Z",
     "start_time": "2024-09-09T08:20:34.135458Z"
    }
   },
   "cell_type": "code",
   "source": [
    "messages = [\n",
    "    {\"role\": \"system\", \"content\": \"You are a personalized travel assistant. Remember user preferences and provide tailored recommendations.\"},\n",
    "    {\"role\": \"assistant\", \"content\": \"Understood. I'll maintain personalized travel preferences for each user and provide customized recommendations based on their dietary restrictions, interests, and past interactions.\"}\n",
    "]\n",
    "client.add(messages, agent_id=\"travel-assistant\")"
   ],
   "id": "eb52f30042bc5e1e",
   "outputs": [
    {
     "data": {
      "text/plain": [
       "{'message': 'ok'}"
      ]
     },
     "execution_count": 11,
     "metadata": {},
     "output_type": "execute_result"
    }
   ],
   "execution_count": 11
  },
  {
   "metadata": {
    "ExecuteTime": {
     "end_time": "2024-09-09T08:21:20.127657Z",
     "start_time": "2024-09-09T08:21:18.625183Z"
    }
   },
   "cell_type": "code",
   "source": [
    "query = \"What do you know about me?\"\n",
    "client.search(query, user_id=\"tam\")"
   ],
   "id": "a84dde50f6537982",
   "outputs": [
    {
     "data": {
      "text/plain": [
       "[{'id': 'c7fb2ed9-581f-47af-8423-32aa00fb0598',\n",
       "  'memory': 'Keen on working out',\n",
       "  'user_id': 'tam',\n",
       "  'hash': '5f96dc5f5aa975ec0dbb601ed83cb5d1',\n",
       "  'metadata': None,\n",
       "  'categories': ['health'],\n",
       "  'created_at': '2024-09-09T00:12:03.633581-07:00',\n",
       "  'updated_at': '2024-09-09T01:17:22.334376-07:00',\n",
       "  'custom_categories': None,\n",
       "  'score': 0.3538298712322079},\n",
       " {'id': 'dd3da3e7-e63a-4fc6-8907-b18bce9e0c1c',\n",
       "  'memory': 'Name is Tam Nguyen',\n",
       "  'user_id': 'tam',\n",
       "  'hash': '25e1d43521189d47913c9d726ffc998b',\n",
       "  'metadata': None,\n",
       "  'categories': ['personal_details'],\n",
       "  'created_at': '2024-09-09T01:17:22.374803-07:00',\n",
       "  'updated_at': '2024-09-09T01:17:22.374816-07:00',\n",
       "  'custom_categories': None,\n",
       "  'score': 0.3114839977910523}]"
      ]
     },
     "execution_count": 12,
     "metadata": {},
     "output_type": "execute_result"
    }
   ],
   "execution_count": 12
  },
  {
   "metadata": {
    "ExecuteTime": {
     "end_time": "2024-09-09T08:23:45.371642Z",
     "start_time": "2024-09-09T08:23:44.406474Z"
    }
   },
   "cell_type": "code",
   "source": [
    "query = \"What do you know about me?\"\n",
    "filters = {\n",
    "   \"AND\":[\n",
    "      {\n",
    "         \"user_id\":\"tam\"\n",
    "      },\n",
    "      {\n",
    "         \"agent_id\":{\n",
    "            \"in\":[\n",
    "               \"travel-assistant\",\n",
    "               \"customer-support\"\n",
    "            ]\n",
    "         }\n",
    "      }\n",
    "   ]\n",
    "}\n",
    "client.search(query, version=\"v2\", filters=filters)"
   ],
   "id": "dbd3de8e2997f3a1",
   "outputs": [
    {
     "data": {
      "text/plain": [
       "[]"
      ]
     },
     "execution_count": 15,
     "metadata": {},
     "output_type": "execute_result"
    }
   ],
   "execution_count": 15
  },
  {
   "metadata": {
    "ExecuteTime": {
     "end_time": "2024-09-09T08:24:00.850458Z",
     "start_time": "2024-09-09T08:23:59.838583Z"
    }
   },
   "cell_type": "code",
   "source": [
    "query = \"What do you know about me?\"\n",
    "filters = {\n",
    "    \"AND\": [\n",
    "        {\"created_at\": {\"gte\": \"2024-07-20\", \"lte\": \"2024-10-10\"}},\n",
    "        {\"user_id\": \"tam\"}\n",
    "    ]\n",
    "}\n",
    "client.search(query, version=\"v2\", filters=filters)"
   ],
   "id": "22d0d764290f3d49",
   "outputs": [
    {
     "data": {
      "text/plain": [
       "[{'id': 'c7fb2ed9-581f-47af-8423-32aa00fb0598',\n",
       "  'memory': 'Keen on working out',\n",
       "  'user_id': 'tam',\n",
       "  'hash': '5f96dc5f5aa975ec0dbb601ed83cb5d1',\n",
       "  'metadata': None,\n",
       "  'categories': ['health'],\n",
       "  'created_at': '2024-09-09T00:12:03.633581-07:00',\n",
       "  'updated_at': '2024-09-09T01:17:22.334376-07:00',\n",
       "  'custom_categories': None,\n",
       "  'score': 0.3538298712322079},\n",
       " {'id': 'dd3da3e7-e63a-4fc6-8907-b18bce9e0c1c',\n",
       "  'memory': 'Name is Tam Nguyen',\n",
       "  'user_id': 'tam',\n",
       "  'hash': '25e1d43521189d47913c9d726ffc998b',\n",
       "  'metadata': None,\n",
       "  'categories': ['personal_details'],\n",
       "  'created_at': '2024-09-09T01:17:22.374803-07:00',\n",
       "  'updated_at': '2024-09-09T01:17:22.374816-07:00',\n",
       "  'custom_categories': None,\n",
       "  'score': 0.3114839977910523}]"
      ]
     },
     "execution_count": 16,
     "metadata": {},
     "output_type": "execute_result"
    }
   ],
   "execution_count": 16
  },
  {
   "metadata": {
    "ExecuteTime": {
     "end_time": "2024-09-09T08:24:38.273600Z",
     "start_time": "2024-09-09T08:24:36.981761Z"
    }
   },
   "cell_type": "code",
   "source": "client.users()",
   "id": "c3add85b1bfd3f36",
   "outputs": [
    {
     "data": {
      "text/plain": [
       "{'count': 2,\n",
       " 'next': None,\n",
       " 'previous': None,\n",
       " 'results': [{'id': '13685',\n",
       "   'name': 'tam9',\n",
       "   'created_at': '2024-09-09T01:11:42.484175-07:00',\n",
       "   'updated_at': '2024-09-09T01:11:42.484191-07:00',\n",
       "   'total_memories': 2,\n",
       "   'owner': 'tam9',\n",
       "   'organization': 'tam9-default-org',\n",
       "   'metadata': None,\n",
       "   'type': 'user'},\n",
       "  {'id': '13659',\n",
       "   'name': 'tam',\n",
       "   'created_at': '2024-09-09T00:12:02.194986-07:00',\n",
       "   'updated_at': '2024-09-09T00:12:02.194999-07:00',\n",
       "   'total_memories': 4,\n",
       "   'owner': 'tam9',\n",
       "   'organization': 'tam9-default-org',\n",
       "   'metadata': None,\n",
       "   'type': 'user'}]}"
      ]
     },
     "execution_count": 17,
     "metadata": {},
     "output_type": "execute_result"
    }
   ],
   "execution_count": 17
  },
  {
   "metadata": {
    "ExecuteTime": {
     "end_time": "2024-09-09T08:28:12.643169Z",
     "start_time": "2024-09-09T08:28:11.525993Z"
    }
   },
   "cell_type": "code",
   "source": "client.get_all(agent_id=\"travel-assistant\")",
   "id": "bc1d3dc56cc8e701",
   "outputs": [
    {
     "data": {
      "text/plain": [
       "[]"
      ]
     },
     "execution_count": 20,
     "metadata": {},
     "output_type": "execute_result"
    }
   ],
   "execution_count": 20
  },
  {
   "metadata": {
    "ExecuteTime": {
     "end_time": "2024-09-09T08:28:31.780649Z",
     "start_time": "2024-09-09T08:28:31.496807Z"
    }
   },
   "cell_type": "code",
   "source": [
    "user_memories = client.get_all(user_id=\"tam\")\n",
    "user_memories"
   ],
   "id": "1626bec492e88c4b",
   "outputs": [
    {
     "data": {
      "text/plain": [
       "[{'id': 'c7fb2ed9-581f-47af-8423-32aa00fb0598',\n",
       "  'memory': 'Keen on working out',\n",
       "  'user_id': 'tam',\n",
       "  'hash': '5f96dc5f5aa975ec0dbb601ed83cb5d1',\n",
       "  'metadata': None,\n",
       "  'categories': ['health'],\n",
       "  'created_at': '2024-09-09T00:12:03.633581-07:00',\n",
       "  'updated_at': '2024-09-09T01:17:22.334376-07:00',\n",
       "  'custom_categories': None},\n",
       " {'id': 'dd3da3e7-e63a-4fc6-8907-b18bce9e0c1c',\n",
       "  'memory': 'Name is Tam Nguyen',\n",
       "  'user_id': 'tam',\n",
       "  'hash': '25e1d43521189d47913c9d726ffc998b',\n",
       "  'metadata': None,\n",
       "  'categories': ['personal_details'],\n",
       "  'created_at': '2024-09-09T01:17:22.374803-07:00',\n",
       "  'updated_at': '2024-09-09T01:17:22.374816-07:00',\n",
       "  'custom_categories': None},\n",
       " {'id': '05ba822c-57d9-4c1e-b96f-fda03605b0f1',\n",
       "  'memory': 'Planning a trip to Japan next month',\n",
       "  'user_id': 'tam',\n",
       "  'hash': '166c5d7deda3ccca5a047363b2041ed8',\n",
       "  'metadata': None,\n",
       "  'categories': ['travel'],\n",
       "  'created_at': '2024-09-09T01:20:02.433741-07:00',\n",
       "  'updated_at': '2024-09-09T01:20:02.433757-07:00',\n",
       "  'custom_categories': None},\n",
       " {'id': '8acb68f1-06b7-426e-a3a6-c0988f71f5ec',\n",
       "  'memory': 'Interested in gym centers in Tokyo',\n",
       "  'user_id': 'tam',\n",
       "  'hash': 'fdb8c98b65e9d9bd235a006a8f1f1899',\n",
       "  'metadata': None,\n",
       "  'categories': ['health', 'travel'],\n",
       "  'created_at': '2024-09-09T01:20:02.462016-07:00',\n",
       "  'updated_at': '2024-09-09T01:20:02.462031-07:00',\n",
       "  'custom_categories': None}]"
      ]
     },
     "execution_count": 22,
     "metadata": {},
     "output_type": "execute_result"
    }
   ],
   "execution_count": 22
  },
  {
   "metadata": {
    "ExecuteTime": {
     "end_time": "2024-09-09T08:29:18.275485Z",
     "start_time": "2024-09-09T08:29:17.865539Z"
    }
   },
   "cell_type": "code",
   "source": [
    "short_term_memories = client.get_all(user_id=\"tam\", session_id=\"trip-planning-2024\")\n",
    "short_term_memories"
   ],
   "id": "94dea9170bda1d83",
   "outputs": [
    {
     "data": {
      "text/plain": [
       "[{'id': 'c7fb2ed9-581f-47af-8423-32aa00fb0598',\n",
       "  'memory': 'Keen on working out',\n",
       "  'user_id': 'tam',\n",
       "  'hash': '5f96dc5f5aa975ec0dbb601ed83cb5d1',\n",
       "  'metadata': None,\n",
       "  'categories': ['health'],\n",
       "  'created_at': '2024-09-09T00:12:03.633581-07:00',\n",
       "  'updated_at': '2024-09-09T01:17:22.334376-07:00',\n",
       "  'custom_categories': None},\n",
       " {'id': 'dd3da3e7-e63a-4fc6-8907-b18bce9e0c1c',\n",
       "  'memory': 'Name is Tam Nguyen',\n",
       "  'user_id': 'tam',\n",
       "  'hash': '25e1d43521189d47913c9d726ffc998b',\n",
       "  'metadata': None,\n",
       "  'categories': ['personal_details'],\n",
       "  'created_at': '2024-09-09T01:17:22.374803-07:00',\n",
       "  'updated_at': '2024-09-09T01:17:22.374816-07:00',\n",
       "  'custom_categories': None},\n",
       " {'id': '05ba822c-57d9-4c1e-b96f-fda03605b0f1',\n",
       "  'memory': 'Planning a trip to Japan next month',\n",
       "  'user_id': 'tam',\n",
       "  'hash': '166c5d7deda3ccca5a047363b2041ed8',\n",
       "  'metadata': None,\n",
       "  'categories': ['travel'],\n",
       "  'created_at': '2024-09-09T01:20:02.433741-07:00',\n",
       "  'updated_at': '2024-09-09T01:20:02.433757-07:00',\n",
       "  'custom_categories': None},\n",
       " {'id': '8acb68f1-06b7-426e-a3a6-c0988f71f5ec',\n",
       "  'memory': 'Interested in gym centers in Tokyo',\n",
       "  'user_id': 'tam',\n",
       "  'hash': 'fdb8c98b65e9d9bd235a006a8f1f1899',\n",
       "  'metadata': None,\n",
       "  'categories': ['health', 'travel'],\n",
       "  'created_at': '2024-09-09T01:20:02.462016-07:00',\n",
       "  'updated_at': '2024-09-09T01:20:02.462031-07:00',\n",
       "  'custom_categories': None}]"
      ]
     },
     "execution_count": 24,
     "metadata": {},
     "output_type": "execute_result"
    }
   ],
   "execution_count": 24
  },
  {
   "metadata": {
    "ExecuteTime": {
     "end_time": "2024-09-09T08:38:08.143846Z",
     "start_time": "2024-09-09T08:38:07.131774Z"
    }
   },
   "cell_type": "code",
   "source": [
    "memory = client.get(memory_id=\"05ba822c-57d9-4c1e-b96f-fda03605b0f1\")\n",
    "memory"
   ],
   "id": "9e7ccf0ee0d7c4f7",
   "outputs": [
    {
     "data": {
      "text/plain": [
       "{'id': '05ba822c-57d9-4c1e-b96f-fda03605b0f1',\n",
       " 'memory': 'Planning a trip to Japan next month',\n",
       " 'user_id': 'tam',\n",
       " 'hash': '166c5d7deda3ccca5a047363b2041ed8',\n",
       " 'metadata': None,\n",
       " 'categories': ['travel'],\n",
       " 'created_at': '2024-09-09T01:20:02.433741-07:00',\n",
       " 'updated_at': '2024-09-09T01:20:02.433757-07:00',\n",
       " 'custom_categories': None}"
      ]
     },
     "execution_count": 36,
     "metadata": {},
     "output_type": "execute_result"
    }
   ],
   "execution_count": 36
  },
  {
   "metadata": {
    "ExecuteTime": {
     "end_time": "2024-09-09T08:35:21.587121Z",
     "start_time": "2024-09-09T08:35:15.916698Z"
    }
   },
   "cell_type": "code",
   "source": [
    "# Add some message to create history\n",
    "messages = [{\"role\": \"user\", \"content\": \"I recently tried pingpong.\"}]\n",
    "client.add(messages, user_id=\"tam\")\n",
    "\n",
    "# Add second message to update history\n",
    "messages.append({'role': 'user', 'content': 'I feel table tennis is cool.'})\n",
    "client.add(messages, user_id=\"tam\")"
   ],
   "id": "248ce277f149a0e4",
   "outputs": [
    {
     "data": {
      "text/plain": [
       "{'message': 'ok'}"
      ]
     },
     "execution_count": 31,
     "metadata": {},
     "output_type": "execute_result"
    }
   ],
   "execution_count": 31
  },
  {
   "metadata": {
    "ExecuteTime": {
     "end_time": "2024-09-09T08:40:26.648180Z",
     "start_time": "2024-09-09T08:40:25.574561Z"
    }
   },
   "cell_type": "code",
   "source": [
    "# Get history of how memory changed over time\n",
    "history = client.history(\"5a861231-d1d5-403e-800e-90b49338feee\")\n",
    "history"
   ],
   "id": "e1ab2640bf2f26f5",
   "outputs": [
    {
     "data": {
      "text/plain": [
       "[{'id': '81156459-b829-43ff-9908-582da3a001a9',\n",
       "  'memory_id': '5a861231-d1d5-403e-800e-90b49338feee',\n",
       "  'input': [{'role': 'user', 'content': 'I recently tried pingpong.'}],\n",
       "  'old_memory': None,\n",
       "  'new_memory': 'Recently tried pingpong',\n",
       "  'user_id': 'tam',\n",
       "  'categories': ['hobbies', 'sports'],\n",
       "  'event': 'ADD',\n",
       "  'metadata': None,\n",
       "  'created_at': '2024-09-09T01:35:19.070135-07:00',\n",
       "  'updated_at': '2024-09-09T01:35:19.056012-07:00'},\n",
       " {'id': 'c6db29d3-1624-4a4c-a884-27fda0a3bda4',\n",
       "  'memory_id': '5a861231-d1d5-403e-800e-90b49338feee',\n",
       "  'input': [{'role': 'user', 'content': 'I recently tried pingpong.'}],\n",
       "  'old_memory': 'Recently tried pingpong',\n",
       "  'new_memory': 'Tried pingpong recently',\n",
       "  'user_id': 'tam',\n",
       "  'categories': ['hobbies', 'sports'],\n",
       "  'event': 'UPDATE',\n",
       "  'metadata': None,\n",
       "  'created_at': '2024-09-09T01:39:49.351241-07:00',\n",
       "  'updated_at': '2024-09-09T01:39:49.338300-07:00'}]"
      ]
     },
     "execution_count": 38,
     "metadata": {},
     "output_type": "execute_result"
    }
   ],
   "execution_count": 38
  },
  {
   "metadata": {
    "ExecuteTime": {
     "end_time": "2024-09-09T08:39:49.457750Z",
     "start_time": "2024-09-09T08:39:45.646833Z"
    }
   },
   "cell_type": "code",
   "source": [
    "# Add second message to update history\n",
    "messages.append({'role': 'user', 'content': 'Change my hobby from working out to table tennis.'})\n",
    "client.add(messages, user_id=\"tam\")"
   ],
   "id": "66de3cbcc5937bbb",
   "outputs": [
    {
     "data": {
      "text/plain": [
       "{'message': 'ok'}"
      ]
     },
     "execution_count": 37,
     "metadata": {},
     "output_type": "execute_result"
    }
   ],
   "execution_count": 37
  },
  {
   "metadata": {
    "ExecuteTime": {
     "end_time": "2024-09-09T08:40:36.821303Z",
     "start_time": "2024-09-09T08:40:35.943685Z"
    }
   },
   "cell_type": "code",
   "source": [
    "# Get history of how memory changed over time\n",
    "history = client.history(\"c7fb2ed9-581f-47af-8423-32aa00fb0598\")\n",
    "history"
   ],
   "id": "c65c1c038b794cee",
   "outputs": [
    {
     "data": {
      "text/plain": [
       "[{'id': 'c71d6469-bc34-4639-a189-6c9d3f0e5eb1',\n",
       "  'memory_id': 'c7fb2ed9-581f-47af-8423-32aa00fb0598',\n",
       "  'input': [{'role': 'user', 'content': 'I like working out'}],\n",
       "  'old_memory': None,\n",
       "  'new_memory': 'Likes working out',\n",
       "  'user_id': 'tam',\n",
       "  'categories': ['hobbies', 'sports'],\n",
       "  'event': 'ADD',\n",
       "  'metadata': None,\n",
       "  'created_at': '2024-09-09T00:12:03.648717-07:00',\n",
       "  'updated_at': '2024-09-09T00:12:03.633597-07:00'},\n",
       " {'id': 'e2a8d3e9-38f2-4af3-8265-eba1ad9b2829',\n",
       "  'memory_id': 'c7fb2ed9-581f-47af-8423-32aa00fb0598',\n",
       "  'input': [{'role': 'user', 'content': 'I like working out'}],\n",
       "  'old_memory': 'Likes working out',\n",
       "  'new_memory': 'Keen on working out',\n",
       "  'user_id': 'tam',\n",
       "  'categories': ['hobbies', 'sports'],\n",
       "  'event': 'UPDATE',\n",
       "  'metadata': None,\n",
       "  'created_at': '2024-09-09T01:17:22.350977-07:00',\n",
       "  'updated_at': '2024-09-09T01:17:22.334376-07:00'},\n",
       " {'id': 'ff831e95-bd5d-483b-b199-744baa87003f',\n",
       "  'memory_id': 'c7fb2ed9-581f-47af-8423-32aa00fb0598',\n",
       "  'input': [{'role': 'user', 'content': 'I like working out'}],\n",
       "  'old_memory': 'Keen on working out',\n",
       "  'new_memory': 'Changed hobby from working out to table tennis',\n",
       "  'user_id': 'tam',\n",
       "  'categories': ['hobbies', 'sports'],\n",
       "  'event': 'UPDATE',\n",
       "  'metadata': None,\n",
       "  'created_at': '2024-09-09T01:39:49.314970-07:00',\n",
       "  'updated_at': '2024-09-09T01:39:49.300022-07:00'}]"
      ]
     },
     "execution_count": 39,
     "metadata": {},
     "output_type": "execute_result"
    }
   ],
   "execution_count": 39
  },
  {
   "metadata": {
    "ExecuteTime": {
     "end_time": "2024-09-09T08:41:30.646548Z",
     "start_time": "2024-09-09T08:41:29.804923Z"
    }
   },
   "cell_type": "code",
   "source": [
    "# Get history of how memory changed over time\n",
    "history = client.history(\"5a861231-d1d5-403e-800e-90b49338feee\")\n",
    "history"
   ],
   "id": "9675a6f8a36db93c",
   "outputs": [
    {
     "data": {
      "text/plain": [
       "[{'id': '81156459-b829-43ff-9908-582da3a001a9',\n",
       "  'memory_id': '5a861231-d1d5-403e-800e-90b49338feee',\n",
       "  'input': [{'role': 'user', 'content': 'I recently tried pingpong.'}],\n",
       "  'old_memory': None,\n",
       "  'new_memory': 'Recently tried pingpong',\n",
       "  'user_id': 'tam',\n",
       "  'categories': ['hobbies', 'sports'],\n",
       "  'event': 'ADD',\n",
       "  'metadata': None,\n",
       "  'created_at': '2024-09-09T01:35:19.070135-07:00',\n",
       "  'updated_at': '2024-09-09T01:35:19.056012-07:00'},\n",
       " {'id': 'c6db29d3-1624-4a4c-a884-27fda0a3bda4',\n",
       "  'memory_id': '5a861231-d1d5-403e-800e-90b49338feee',\n",
       "  'input': [{'role': 'user', 'content': 'I recently tried pingpong.'}],\n",
       "  'old_memory': 'Recently tried pingpong',\n",
       "  'new_memory': 'Tried pingpong recently',\n",
       "  'user_id': 'tam',\n",
       "  'categories': ['hobbies', 'sports'],\n",
       "  'event': 'UPDATE',\n",
       "  'metadata': None,\n",
       "  'created_at': '2024-09-09T01:39:49.351241-07:00',\n",
       "  'updated_at': '2024-09-09T01:39:49.338300-07:00'}]"
      ]
     },
     "execution_count": 41,
     "metadata": {},
     "output_type": "execute_result"
    }
   ],
   "execution_count": 41
  },
  {
   "metadata": {
    "ExecuteTime": {
     "end_time": "2024-09-09T08:45:32.161314Z",
     "start_time": "2024-09-09T08:45:31.164887Z"
    }
   },
   "cell_type": "code",
   "source": [
    "message = \"I feel pickleball is more interesting than table tennis.\"\n",
    "client.update(\"c7fb2ed9-581f-47af-8423-32aa00fb0598\", message)"
   ],
   "id": "23d524e9dbd6ed76",
   "outputs": [
    {
     "data": {
      "text/plain": [
       "{'id': 'c7fb2ed9-581f-47af-8423-32aa00fb0598',\n",
       " 'memory': 'I feel pickleball is more interesting than table tennis.',\n",
       " 'user_id': 'tam',\n",
       " 'hash': '7b9a6f225d575b13b799c208d03a6bf9',\n",
       " 'metadata': None,\n",
       " 'categories': ['hobbies', 'sports'],\n",
       " 'created_at': '2024-09-09T00:12:03.633581-07:00',\n",
       " 'updated_at': '2024-09-09T01:45:32.074354-07:00',\n",
       " 'custom_categories': None}"
      ]
     },
     "execution_count": 42,
     "metadata": {},
     "output_type": "execute_result"
    }
   ],
   "execution_count": 42
  },
  {
   "metadata": {
    "ExecuteTime": {
     "end_time": "2024-09-09T08:46:13.768672Z",
     "start_time": "2024-09-09T08:46:12.906730Z"
    }
   },
   "cell_type": "code",
   "source": [
    "# Get history of how memory changed over time\n",
    "history = client.history(\"c7fb2ed9-581f-47af-8423-32aa00fb0598\")\n",
    "history"
   ],
   "id": "9885214410ec88f6",
   "outputs": [
    {
     "data": {
      "text/plain": [
       "[{'id': 'c71d6469-bc34-4639-a189-6c9d3f0e5eb1',\n",
       "  'memory_id': 'c7fb2ed9-581f-47af-8423-32aa00fb0598',\n",
       "  'input': [{'role': 'user', 'content': 'I like working out'}],\n",
       "  'old_memory': None,\n",
       "  'new_memory': 'Likes working out',\n",
       "  'user_id': 'tam',\n",
       "  'categories': ['sports'],\n",
       "  'event': 'ADD',\n",
       "  'metadata': None,\n",
       "  'created_at': '2024-09-09T00:12:03.648717-07:00',\n",
       "  'updated_at': '2024-09-09T00:12:03.633597-07:00'},\n",
       " {'id': 'e2a8d3e9-38f2-4af3-8265-eba1ad9b2829',\n",
       "  'memory_id': 'c7fb2ed9-581f-47af-8423-32aa00fb0598',\n",
       "  'input': [{'role': 'user', 'content': 'I like working out'}],\n",
       "  'old_memory': 'Likes working out',\n",
       "  'new_memory': 'Keen on working out',\n",
       "  'user_id': 'tam',\n",
       "  'categories': ['sports'],\n",
       "  'event': 'UPDATE',\n",
       "  'metadata': None,\n",
       "  'created_at': '2024-09-09T01:17:22.350977-07:00',\n",
       "  'updated_at': '2024-09-09T01:17:22.334376-07:00'},\n",
       " {'id': 'ff831e95-bd5d-483b-b199-744baa87003f',\n",
       "  'memory_id': 'c7fb2ed9-581f-47af-8423-32aa00fb0598',\n",
       "  'input': [{'role': 'user', 'content': 'I like working out'}],\n",
       "  'old_memory': 'Keen on working out',\n",
       "  'new_memory': 'Changed hobby from working out to table tennis',\n",
       "  'user_id': 'tam',\n",
       "  'categories': ['sports'],\n",
       "  'event': 'UPDATE',\n",
       "  'metadata': None,\n",
       "  'created_at': '2024-09-09T01:39:49.314970-07:00',\n",
       "  'updated_at': '2024-09-09T01:39:49.300022-07:00'},\n",
       " {'id': 'fb9ad2f7-4b41-4a91-baf0-748a82adbb98',\n",
       "  'memory_id': 'c7fb2ed9-581f-47af-8423-32aa00fb0598',\n",
       "  'input': [{'role': 'user', 'content': 'I like working out'}],\n",
       "  'old_memory': 'Changed hobby from working out to table tennis',\n",
       "  'new_memory': 'I feel pickleball is more interesting than table tennis.',\n",
       "  'user_id': 'tam',\n",
       "  'categories': ['sports'],\n",
       "  'event': 'UPDATE',\n",
       "  'metadata': None,\n",
       "  'created_at': '2024-09-09T01:45:32.100236-07:00',\n",
       "  'updated_at': '2024-09-09T01:45:32.074354-07:00'}]"
      ]
     },
     "execution_count": 43,
     "metadata": {},
     "output_type": "execute_result"
    }
   ],
   "execution_count": 43
  },
  {
   "metadata": {},
   "cell_type": "code",
   "outputs": [],
   "execution_count": null,
   "source": "",
   "id": "b6815968a1eead88"
  }
 ],
 "metadata": {
  "kernelspec": {
   "display_name": "Python 3",
   "language": "python",
   "name": "python3"
  },
  "language_info": {
   "codemirror_mode": {
    "name": "ipython",
    "version": 2
   },
   "file_extension": ".py",
   "mimetype": "text/x-python",
   "name": "python",
   "nbconvert_exporter": "python",
   "pygments_lexer": "ipython2",
   "version": "2.7.6"
  }
 },
 "nbformat": 4,
 "nbformat_minor": 5
}
