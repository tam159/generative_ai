{
 "cells": [
  {
   "cell_type": "code",
   "id": "initial_id",
   "metadata": {
    "collapsed": true,
    "ExecuteTime": {
     "end_time": "2024-09-10T04:34:25.030375Z",
     "start_time": "2024-09-10T04:34:25.025411Z"
    }
   },
   "source": [
    "import os\n",
    "from IPython.display import Image, display\n",
    "from uuid import uuid4\n",
    "from dotenv import load_dotenv\n",
    "\n",
    "from mem0 import Memory\n",
    "\n",
    "from langgraph.graph import StateGraph, START, MessagesState, END\n",
    "from langchain_openai import ChatOpenAI\n",
    "from langgraph.checkpoint.postgres import PostgresSaver\n",
    "from psycopg import Connection\n",
    "from psycopg.rows import dict_row\n",
    "from langchain_core.messages import SystemMessage"
   ],
   "outputs": [],
   "execution_count": 26
  },
  {
   "metadata": {
    "ExecuteTime": {
     "end_time": "2024-09-10T04:30:07.844260Z",
     "start_time": "2024-09-10T04:30:07.833552Z"
    }
   },
   "cell_type": "code",
   "source": "load_dotenv()",
   "id": "105e649674174874",
   "outputs": [
    {
     "data": {
      "text/plain": [
       "True"
      ]
     },
     "execution_count": 2,
     "metadata": {},
     "output_type": "execute_result"
    }
   ],
   "execution_count": 2
  },
  {
   "metadata": {
    "ExecuteTime": {
     "end_time": "2024-09-10T04:30:08.640748Z",
     "start_time": "2024-09-10T04:30:08.635857Z"
    }
   },
   "cell_type": "code",
   "source": "os.environ[\"LANGCHAIN_PROJECT\"] = \"mem0\"",
   "id": "6b28080a1ed6dceb",
   "outputs": [],
   "execution_count": 3
  },
  {
   "metadata": {
    "ExecuteTime": {
     "end_time": "2024-09-10T04:30:09.428542Z",
     "start_time": "2024-09-10T04:30:09.426041Z"
    }
   },
   "cell_type": "code",
   "source": "DB_URI = os.getenv(\"POSTGRES_URI\")",
   "id": "7be747b4f92a260",
   "outputs": [],
   "execution_count": 4
  },
  {
   "metadata": {
    "ExecuteTime": {
     "end_time": "2024-09-10T04:30:09.937447Z",
     "start_time": "2024-09-10T04:30:09.935432Z"
    }
   },
   "cell_type": "code",
   "source": "HOST = \"localhost\"",
   "id": "ea785ae376ae3ea4",
   "outputs": [],
   "execution_count": 5
  },
  {
   "metadata": {
    "ExecuteTime": {
     "end_time": "2024-09-10T04:30:10.146082Z",
     "start_time": "2024-09-10T04:30:10.143729Z"
    }
   },
   "cell_type": "code",
   "source": [
    "connection_kwargs ={\n",
    "    \"autocommit\": True,\n",
    "    \"prepare_threshold\": 0,\n",
    "    \"row_factory\": dict_row,\n",
    "}"
   ],
   "id": "9507bc8830babd4a",
   "outputs": [],
   "execution_count": 6
  },
  {
   "metadata": {
    "ExecuteTime": {
     "end_time": "2024-09-10T04:30:10.372574Z",
     "start_time": "2024-09-10T04:30:10.347122Z"
    }
   },
   "cell_type": "code",
   "source": "llm = ChatOpenAI(model=\"gpt-4o-2024-08-06\")",
   "id": "98804e5f1c6a7911",
   "outputs": [],
   "execution_count": 7
  },
  {
   "metadata": {
    "ExecuteTime": {
     "end_time": "2024-09-10T04:30:11.024231Z",
     "start_time": "2024-09-10T04:30:11.019027Z"
    }
   },
   "cell_type": "code",
   "source": [
    "config = {\n",
    "    \"llm\": {\n",
    "        \"provider\": \"openai\",\n",
    "        \"config\": {\n",
    "            \"model\": \"gpt-4o-2024-08-06\",\n",
    "            \"temperature\": 0\n",
    "        }\n",
    "    },\n",
    "    \"embedder\": {\n",
    "        \"provider\": \"openai\",\n",
    "        \"config\": {\n",
    "            \"model\": \"text-embedding-3-small\",\n",
    "            \"embedding_dims\": 1536,\n",
    "        }\n",
    "    },\n",
    "    \"graph_store\": {\n",
    "        \"provider\": \"neo4j\",\n",
    "        \"config\": {\n",
    "            \"url\":  f\"neo4j://{HOST}:{os.getenv('NEO4J_LOCAL_DB_PORT')}\",\n",
    "            \"username\": os.getenv(\"NEO4J_USER\"),\n",
    "            \"password\": os.getenv(\"NEO4J_PASSWORD\")\n",
    "        }\n",
    "    },\n",
    "    \"vector_store\": {\n",
    "        \"provider\": \"pgvector\",\n",
    "        \"config\": {\n",
    "            \"user\": os.getenv(\"POSTGRES_USER\"),\n",
    "            \"password\": os.getenv(\"POSTGRES_PASSWORD\"),\n",
    "            \"host\": HOST,\n",
    "            \"port\": os.getenv(\"POSTGRES_LOCAL_PORT\"),\n",
    "            \"dbname\": \"mem0\",\n",
    "            \"embedding_model_dims\": 1536,\n",
    "        }\n",
    "    },\n",
    "    \"version\": \"v1.1\"\n",
    "}"
   ],
   "id": "394ddb2f7bedc4a7",
   "outputs": [],
   "execution_count": 8
  },
  {
   "metadata": {
    "ExecuteTime": {
     "end_time": "2024-09-10T04:30:12.301561Z",
     "start_time": "2024-09-10T04:30:11.701119Z"
    }
   },
   "cell_type": "code",
   "source": "mem0 = Memory.from_config(config_dict=config)",
   "id": "2ef1325531048655",
   "outputs": [],
   "execution_count": 9
  },
  {
   "metadata": {
    "ExecuteTime": {
     "end_time": "2024-09-10T04:30:12.304611Z",
     "start_time": "2024-09-10T04:30:12.302514Z"
    }
   },
   "cell_type": "code",
   "source": [
    "class State(MessagesState):\n",
    "    mem0_user_id: str"
   ],
   "id": "8c98bfc7b4338ccf",
   "outputs": [],
   "execution_count": 10
  },
  {
   "metadata": {
    "ExecuteTime": {
     "end_time": "2024-09-10T04:30:19.826871Z",
     "start_time": "2024-09-10T04:30:19.822590Z"
    }
   },
   "cell_type": "code",
   "source": [
    "def chatbot(state: State):\n",
    "    messages = state[\"messages\"]\n",
    "    user_id = state[\"mem0_user_id\"]\n",
    "\n",
    "    # Retrieve relevant memories\n",
    "    memories = mem0.search(messages[-1].content, user_id=user_id).get(\"memories\", [])\n",
    "    print(f\"Memories: {memories}\")\n",
    "\n",
    "    context = \"Relevant information from previous conversations:\\n\"\n",
    "    for memory in memories:\n",
    "        context += f\"- {memory['memory']}\\n\"\n",
    "\n",
    "    system_message = SystemMessage(content=f\"\"\"You are a helpful customer support assistant. Use the provided context to personalize your responses and remember user preferences and past interactions.\n",
    "{context}\"\"\")\n",
    "\n",
    "    full_messages = [system_message] + messages\n",
    "    response = llm.invoke(full_messages)\n",
    "\n",
    "    # Store the interaction in Mem0\n",
    "    mem0.add(f\"User: {messages[-1].content}\\nAssistant: {response.content}\", user_id=user_id)\n",
    "    return {\"messages\": [response]}"
   ],
   "id": "28b872422af3c007",
   "outputs": [],
   "execution_count": 12
  },
  {
   "metadata": {
    "ExecuteTime": {
     "end_time": "2024-09-10T04:30:20.446450Z",
     "start_time": "2024-09-10T04:30:20.444258Z"
    }
   },
   "cell_type": "code",
   "source": "workflow = StateGraph(State)",
   "id": "f519233df4c44001",
   "outputs": [],
   "execution_count": 13
  },
  {
   "metadata": {
    "ExecuteTime": {
     "end_time": "2024-09-10T04:30:21.541465Z",
     "start_time": "2024-09-10T04:30:21.536689Z"
    }
   },
   "cell_type": "code",
   "source": [
    "workflow.add_node(\"chatbot\", chatbot)\n",
    "workflow.add_edge(START, \"chatbot\")\n",
    "workflow.add_edge(\"chatbot\", END)"
   ],
   "id": "b0f549de4e89a76a",
   "outputs": [],
   "execution_count": 14
  },
  {
   "metadata": {
    "ExecuteTime": {
     "end_time": "2024-09-10T04:30:21.905457Z",
     "start_time": "2024-09-10T04:30:21.847952Z"
    }
   },
   "cell_type": "code",
   "source": "conn = Connection.connect(DB_URI, **connection_kwargs)",
   "id": "b3f8942aebdb2ec3",
   "outputs": [],
   "execution_count": 15
  },
  {
   "metadata": {
    "ExecuteTime": {
     "end_time": "2024-09-10T04:30:22.211941Z",
     "start_time": "2024-09-10T04:30:22.209268Z"
    }
   },
   "cell_type": "code",
   "source": "checkpointer = PostgresSaver(conn)",
   "id": "b8337071cffa5214",
   "outputs": [],
   "execution_count": 16
  },
  {
   "metadata": {
    "ExecuteTime": {
     "end_time": "2024-09-10T04:30:22.481609Z",
     "start_time": "2024-09-10T04:30:22.477915Z"
    }
   },
   "cell_type": "code",
   "source": "graph = workflow.compile(checkpointer=checkpointer)",
   "id": "8a60adeb35763d7d",
   "outputs": [],
   "execution_count": 17
  },
  {
   "metadata": {
    "ExecuteTime": {
     "end_time": "2024-09-10T04:30:23.063352Z",
     "start_time": "2024-09-10T04:30:22.859964Z"
    }
   },
   "cell_type": "code",
   "source": "display(Image(graph.get_graph().draw_mermaid_png()))",
   "id": "af3805d67a00168a",
   "outputs": [
    {
     "data": {
      "image/jpeg": "[encoded data removed]",
      "text/plain": [
       "<IPython.core.display.Image object>"
      ]
     },
     "metadata": {},
     "output_type": "display_data"
    }
   ],
   "execution_count": 18
  },
  {
   "metadata": {
    "ExecuteTime": {
     "end_time": "2024-09-10T04:30:40.218060Z",
     "start_time": "2024-09-10T04:30:40.213265Z"
    }
   },
   "cell_type": "code",
   "source": "mem0_user_id = \"customer_tam_1b\"",
   "id": "61853445edee33bc",
   "outputs": [],
   "execution_count": 21
  },
  {
   "metadata": {
    "ExecuteTime": {
     "end_time": "2024-09-10T04:30:43.160070Z",
     "start_time": "2024-09-10T04:30:43.156998Z"
    }
   },
   "cell_type": "code",
   "source": "config = {\"configurable\": {\"thread_id\": f\"{mem0_user_id}-{uuid4()}\"}}",
   "id": "b11cdf25ff6ed8be",
   "outputs": [],
   "execution_count": 22
  },
  {
   "metadata": {
    "ExecuteTime": {
     "end_time": "2024-09-10T04:30:56.135446Z",
     "start_time": "2024-09-10T04:30:46.639242Z"
    }
   },
   "cell_type": "code",
   "source": [
    "user_input = \"I am Tam, I like working out. What do you have for me?\"\n",
    "events = graph.stream({\"messages\": [(\"user\", user_input)], \"mem0_user_id\": mem0_user_id}, config, stream_mode=\"values\")\n",
    "for event in events:\n",
    "    event[\"messages\"][-1].pretty_print()"
   ],
   "id": "6cdd57324c329f5e",
   "outputs": [
    {
     "name": "stdout",
     "output_type": "stream",
     "text": [
      "================================\u001B[1m Human Message \u001B[0m=================================\n",
      "\n",
      "I am Tam, I like working out. What do you have for me?\n",
      "Memories: []\n",
      "==================================\u001B[1m Ai Message \u001B[0m==================================\n",
      "\n",
      "Hi Tam! It's great to hear that you enjoy working out. Here are a few things you might find useful:\n",
      "\n",
      "1. **Workout Plans**: Depending on your fitness goals, there are various workout plans you can try, like strength training, HIIT, or yoga routines.\n",
      "\n",
      "2. **Fitness Apps**: Apps like MyFitnessPal, Strava, or Nike Training Club can help track your workouts and progress.\n",
      "\n",
      "3. **Wearable Tech**: Consider devices like smartwatches or fitness trackers to monitor your activity levels, heart rate, and more.\n",
      "\n",
      "4. **Nutrition Tips**: Eating the right foods to fuel your workouts is essential. If you're interested, I can provide some general nutrition advice.\n",
      "\n",
      "5. **Recovery Tools**: Items like foam rollers or massage guns can help with muscle recovery after intense workouts.\n",
      "\n",
      "Let me know if you want more detailed information on any of these or have other fitness-related questions!\n"
     ]
    }
   ],
   "execution_count": 23
  },
  {
   "metadata": {
    "ExecuteTime": {
     "end_time": "2024-09-10T04:31:31.669565Z",
     "start_time": "2024-09-10T04:31:23.387264Z"
    }
   },
   "cell_type": "code",
   "source": [
    "config = {\"configurable\": {\"thread_id\": f\"{mem0_user_id}-{uuid4()}\"}}\n",
    "user_input = \"What do i like?\"\n",
    "events = graph.stream({\"messages\": [(\"user\", user_input)], \"mem0_user_id\": mem0_user_id}, config, stream_mode=\"values\")\n",
    "for event in events:\n",
    "    event[\"messages\"][-1].pretty_print()"
   ],
   "id": "5a8345319dbcd02e",
   "outputs": [
    {
     "name": "stdout",
     "output_type": "stream",
     "text": [
      "================================\u001B[1m Human Message \u001B[0m=================================\n",
      "\n",
      "What do i like?\n",
      "Memories: [{'id': 'b497e860-4f64-4765-a52c-0d6ee8449055', 'memory': 'Likes working out', 'hash': 'cd89cc228edaa53de10f29fdf8a035ca', 'metadata': None, 'score': 0.7514338718146566, 'created_at': '2024-09-09T21:30:55.900719-07:00', 'updated_at': None, 'user_id': 'customer_tam_1b'}, {'id': '9a0fb138-c6c4-488f-ba87-a2e7333fd382', 'memory': 'Name is Tam', 'hash': 'e520cfe2b692702ba4dd6342024db729', 'metadata': None, 'score': 0.8666156748900218, 'created_at': '2024-09-09T21:30:55.048811-07:00', 'updated_at': None, 'user_id': 'customer_tam_1b'}]\n",
      "==================================\u001B[1m Ai Message \u001B[0m==================================\n",
      "\n",
      "You mentioned that you like working out. Is there anything else you'd like to share about your interests?\n"
     ]
    }
   ],
   "execution_count": 24
  },
  {
   "metadata": {
    "ExecuteTime": {
     "end_time": "2024-09-10T04:33:47.532128Z",
     "start_time": "2024-09-10T04:33:47.526282Z"
    }
   },
   "cell_type": "code",
   "source": "conn.close()",
   "id": "8e8e4ef82a085888",
   "outputs": [],
   "execution_count": 25
  },
  {
   "metadata": {},
   "cell_type": "code",
   "outputs": [],
   "execution_count": null,
   "source": "",
   "id": "b0ef4b66bb436494"
  }
 ],
 "metadata": {
  "kernelspec": {
   "display_name": "Python 3",
   "language": "python",
   "name": "python3"
  },
  "language_info": {
   "codemirror_mode": {
    "name": "ipython",
    "version": 2
   },
   "file_extension": ".py",
   "mimetype": "text/x-python",
   "name": "python",
   "nbconvert_exporter": "python",
   "pygments_lexer": "ipython2",
   "version": "2.7.6"
  }
 },
 "nbformat": 4,
 "nbformat_minor": 5
}
