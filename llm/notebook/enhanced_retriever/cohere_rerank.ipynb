{
 "cells": [
  {
   "cell_type": "code",
   "id": "initial_id",
   "metadata": {
    "collapsed": true,
    "ExecuteTime": {
     "end_time": "2025-06-22T05:28:53.426305Z",
     "start_time": "2025-06-22T05:28:44.553097Z"
    }
   },
   "source": [
    "from dotenv import load_dotenv\n",
    "import yaml\n",
    "import pandas as pd\n",
    "from io import StringIO\n",
    "\n",
    "from cohere import V2RerankResponse, ClientV2, V2RerankResponseResultsItem\n",
    "\n",
    "from langchain_community.document_loaders import TextLoader\n",
    "from langchain_community.vectorstores import FAISS\n",
    "from langchain_openai import ChatOpenAI, OpenAIEmbeddings\n",
    "from langchain_text_splitters import RecursiveCharacterTextSplitter\n",
    "\n",
    "from langchain.retrievers.contextual_compression import ContextualCompressionRetriever\n",
    "from langchain.chains import RetrievalQA, RetrievalQAWithSourcesChain\n",
    "from langchain_cohere import CohereRerank, CohereEmbeddings, ChatCohere"
   ],
   "outputs": [],
   "execution_count": 1
  },
  {
   "metadata": {
    "ExecuteTime": {
     "end_time": "2025-06-22T05:29:01.612427Z",
     "start_time": "2025-06-22T05:29:01.603323Z"
    }
   },
   "cell_type": "code",
   "source": "load_dotenv()",
   "id": "8342c43e5d6b07b9",
   "outputs": [
    {
     "data": {
      "text/plain": [
       "True"
      ]
     },
     "execution_count": 2,
     "metadata": {},
     "output_type": "execute_result"
    }
   ],
   "execution_count": 2
  },
  {
   "metadata": {},
   "cell_type": "markdown",
   "source": "# Cohere samples",
   "id": "89a209dc9a299238"
  },
  {
   "metadata": {
    "ExecuteTime": {
     "end_time": "2025-06-22T05:29:10.909406Z",
     "start_time": "2025-06-22T05:29:10.880542Z"
    }
   },
   "cell_type": "code",
   "source": "co = ClientV2()",
   "id": "951c8d1ada937f39",
   "outputs": [],
   "execution_count": 3
  },
  {
   "metadata": {},
   "cell_type": "markdown",
   "source": "## Text Data",
   "id": "5546e0ca6760dfc7"
  },
  {
   "metadata": {
    "ExecuteTime": {
     "end_time": "2025-06-22T05:29:18.690440Z",
     "start_time": "2025-06-22T05:29:18.685136Z"
    }
   },
   "cell_type": "code",
   "source": [
    "# Define the documents\n",
    "faqs = [\n",
    "    {\n",
    "        \"text\": \"Reimbursing Travel Expenses: Easily manage your travel expenses by submitting them through our finance tool. Approvals are prompt and straightforward.\"\n",
    "    },\n",
    "    {\n",
    "        \"text\": \"Working from Abroad: Working remotely from another country is possible. Simply coordinate with your manager and ensure your availability during core hours.\"\n",
    "    },\n",
    "    {\n",
    "        \"text\": \"Health and Wellness Benefits: We care about your well-being and offer gym memberships, on-site yoga classes, and comprehensive health insurance.\"\n",
    "    },\n",
    "    {\n",
    "        \"text\": \"Performance Reviews Frequency: We conduct informal check-ins every quarter and formal performance reviews twice a year.\"\n",
    "    },\n",
    "]\n"
   ],
   "id": "a87dc7cea38d8c6b",
   "outputs": [],
   "execution_count": 4
  },
  {
   "metadata": {
    "ExecuteTime": {
     "end_time": "2025-06-22T05:29:42.351232Z",
     "start_time": "2025-06-22T05:29:41.939453Z"
    }
   },
   "cell_type": "code",
   "source": [
    "# Add the user query\n",
    "query = \"Are there fitness-related perks?\"\n",
    "\n",
    "# Rerank the documents\n",
    "results = co.rerank(\n",
    "    model=\"rerank-v3.5\",\n",
    "    query=query,\n",
    "    documents=faqs,\n",
    "    top_n=3,\n",
    ")\n",
    "\n",
    "print(type(results))\n",
    "print(type(results.results))\n",
    "print(results)"
   ],
   "id": "cf6a15b360e8c76c",
   "outputs": [
    {
     "name": "stdout",
     "output_type": "stream",
     "text": [
      "<class 'cohere.v2.types.v2rerank_response.V2RerankResponse'>\n",
      "<class 'list'>\n",
      "id='d497878e-7ff2-41e8-8757-893bc18f9e8a' results=[V2RerankResponseResultsItem(document=None, index=2, relevance_score=0.115670934), V2RerankResponseResultsItem(document=None, index=1, relevance_score=0.01729751), V2RerankResponseResultsItem(document=None, index=3, relevance_score=0.01667148)] meta=ApiMeta(api_version=ApiMetaApiVersion(version='2', is_deprecated=None, is_experimental=None), billed_units=ApiMetaBilledUnits(images=None, input_tokens=None, output_tokens=None, search_units=1.0, classifications=None), tokens=None, warnings=None)\n"
     ]
    }
   ],
   "execution_count": 5
  },
  {
   "metadata": {
    "ExecuteTime": {
     "end_time": "2025-06-22T05:35:32.261678Z",
     "start_time": "2025-06-22T05:35:32.257560Z"
    }
   },
   "cell_type": "code",
   "source": [
    "# Display the reranking results\n",
    "def return_results(results: V2RerankResponse, documents: list[dict]):\n",
    "    # result: V2RerankResponseResultsItem\n",
    "    for idx, result in enumerate(results.results):\n",
    "        print(f\"Rank: {idx+1}\")\n",
    "        print(f\"Score: {result.relevance_score}\")\n",
    "        print(f\"Document: {documents[result.index]}\\n\")"
   ],
   "id": "a40c4af88ee9e320",
   "outputs": [],
   "execution_count": 6
  },
  {
   "metadata": {
    "ExecuteTime": {
     "end_time": "2025-06-22T05:35:32.854199Z",
     "start_time": "2025-06-22T05:35:32.780626Z"
    }
   },
   "cell_type": "code",
   "source": "return_results(results, faqs)",
   "id": "aa180794e4138dcf",
   "outputs": [
    {
     "name": "stdout",
     "output_type": "stream",
     "text": [
      "Rank: 1\n",
      "Score: 0.115670934\n",
      "Document: {'text': 'Health and Wellness Benefits: We care about your well-being and offer gym memberships, on-site yoga classes, and comprehensive health insurance.'}\n",
      "\n",
      "Rank: 2\n",
      "Score: 0.01729751\n",
      "Document: {'text': 'Working from Abroad: Working remotely from another country is possible. Simply coordinate with your manager and ensure your availability during core hours.'}\n",
      "\n",
      "Rank: 3\n",
      "Score: 0.01667148\n",
      "Document: {'text': 'Performance Reviews Frequency: We conduct informal check-ins every quarter and formal performance reviews twice a year.'}\n",
      "\n"
     ]
    }
   ],
   "execution_count": 7
  },
  {
   "metadata": {
    "ExecuteTime": {
     "end_time": "2025-06-22T05:36:19.414671Z",
     "start_time": "2025-06-22T05:36:18.951695Z"
    }
   },
   "cell_type": "code",
   "source": [
    "query = \"هل هناك مزايا تتعلق باللياقة البدنية؟\"  # Are there fitness benefits?\n",
    "# Rerank the documents\n",
    "results = co.rerank(\n",
    "    model=\"rerank-v3.5\",\n",
    "    query=query,\n",
    "    documents=faqs,\n",
    "    top_n=2,\n",
    ")\n",
    "return_results(results, faqs)"
   ],
   "id": "fe5071438036627a",
   "outputs": [
    {
     "name": "stdout",
     "output_type": "stream",
     "text": [
      "Rank: 1\n",
      "Score: 0.22864738\n",
      "Document: {'text': 'Health and Wellness Benefits: We care about your well-being and offer gym memberships, on-site yoga classes, and comprehensive health insurance.'}\n",
      "\n",
      "Rank: 2\n",
      "Score: 0.01610483\n",
      "Document: {'text': 'Working from Abroad: Working remotely from another country is possible. Simply coordinate with your manager and ensure your availability during core hours.'}\n",
      "\n"
     ]
    }
   ],
   "execution_count": 8
  },
  {
   "metadata": {
    "ExecuteTime": {
     "end_time": "2025-06-22T05:37:05.850991Z",
     "start_time": "2025-06-22T05:37:05.338450Z"
    }
   },
   "cell_type": "code",
   "source": [
    "query = \"What is the capital of the United States?\"\n",
    "docs = [\n",
    "    \"Carson City is the capital city of the American state of Nevada. At the 2010 United States Census, Carson City had a population of 55,274.\",\n",
    "    \"The Commonwealth of the Northern Mariana Islands is a group of islands in the Pacific Ocean that are a political division controlled by the United States. Its capital is Saipan.\",\n",
    "    \"Charlotte Amalie is the capital and largest city of the United States Virgin Islands. It has about 20,000 people. The city is on the island of Saint Thomas.\",\n",
    "    \"Washington, D.C. (also known as simply Washington or D.C., and officially as the District of Columbia) is the capital of the United States. It is a federal district. The President of the USA and many major national government offices are in the territory. This makes it the political center of the United States of America.\",\n",
    "    \"Capital punishment has existed in the United States since before the United States was a country. As of 2017, capital punishment is legal in 30 of the 50 states. The federal government (including the United States military) also uses capital punishment.\",\n",
    "]\n",
    "results = co.rerank(\n",
    "    model=\"rerank-v3.5\", query=query, documents=docs, top_n=5, return_documents=True\n",
    ")"
   ],
   "id": "4affcf1ec57b01dd",
   "outputs": [],
   "execution_count": 9
  },
  {
   "metadata": {
    "ExecuteTime": {
     "end_time": "2025-06-22T05:37:46.199626Z",
     "start_time": "2025-06-22T05:37:46.193278Z"
    }
   },
   "cell_type": "code",
   "source": [
    "rerank_results = results.results\n",
    "for result in rerank_results:\n",
    "    print(type(result))\n",
    "    print(result.document.text, result.relevance_score, result.index)\n",
    "    print(\"---\"*10)"
   ],
   "id": "60956cad991b4ceb",
   "outputs": [
    {
     "name": "stdout",
     "output_type": "stream",
     "text": [
      "<class 'cohere.v2.types.v2rerank_response_results_item.V2RerankResponseResultsItem'>\n",
      "Washington, D.C. (also known as simply Washington or D.C., and officially as the District of Columbia) is the capital of the United States. It is a federal district. The President of the USA and many major national government offices are in the territory. This makes it the political center of the United States of America. 0.8858788 3\n",
      "------------------------------\n",
      "<class 'cohere.v2.types.v2rerank_response_results_item.V2RerankResponseResultsItem'>\n",
      "Charlotte Amalie is the capital and largest city of the United States Virgin Islands. It has about 20,000 people. The city is on the island of Saint Thomas. 0.23744369 2\n",
      "------------------------------\n",
      "<class 'cohere.v2.types.v2rerank_response_results_item.V2RerankResponseResultsItem'>\n",
      "Carson City is the capital city of the American state of Nevada. At the 2010 United States Census, Carson City had a population of 55,274. 0.21675707 0\n",
      "------------------------------\n",
      "<class 'cohere.v2.types.v2rerank_response_results_item.V2RerankResponseResultsItem'>\n",
      "The Commonwealth of the Northern Mariana Islands is a group of islands in the Pacific Ocean that are a political division controlled by the United States. Its capital is Saipan. 0.18763861 1\n",
      "------------------------------\n",
      "<class 'cohere.v2.types.v2rerank_response_results_item.V2RerankResponseResultsItem'>\n",
      "Capital punishment has existed in the United States since before the United States was a country. As of 2017, capital punishment is legal in 30 of the 50 states. The federal government (including the United States military) also uses capital punishment. 0.12086384 4\n",
      "------------------------------\n"
     ]
    }
   ],
   "execution_count": 11
  },
  {
   "metadata": {},
   "cell_type": "markdown",
   "source": "## Semi-structured Data",
   "id": "6b554ade36f8fc30"
  },
  {
   "metadata": {
    "ExecuteTime": {
     "end_time": "2025-06-22T05:38:53.473116Z",
     "start_time": "2025-06-22T05:38:53.467746Z"
    }
   },
   "cell_type": "code",
   "source": [
    "# Define the documents\n",
    "emails = [\n",
    "    {\n",
    "        \"from\": \"hr@co1t.com\",\n",
    "        \"to\": \"david@co1t.com\",\n",
    "        \"date\": \"2024-06-24\",\n",
    "        \"subject\": \"A Warm Welcome to Co1t!\",\n",
    "        \"text\": \"We are delighted to welcome you to the team! As you embark on your journey with us, you'll find attached an agenda to guide you through your first week.\",\n",
    "    },\n",
    "    {\n",
    "        \"from\": \"it@co1t.com\",\n",
    "        \"to\": \"david@co1t.com\",\n",
    "        \"date\": \"2024-06-24\",\n",
    "        \"subject\": \"Setting Up Your IT Needs\",\n",
    "        \"text\": \"Greetings! To ensure a seamless start, please refer to the attached comprehensive guide, which will assist you in setting up all your work accounts.\",\n",
    "    },\n",
    "    {\n",
    "        \"from\": \"john@co1t.com\",\n",
    "        \"to\": \"david@co1t.com\",\n",
    "        \"date\": \"2024-06-24\",\n",
    "        \"subject\": \"First Week Check-In\",\n",
    "        \"text\": \"Hello! I hope you're settling in well. Let's connect briefly tomorrow to discuss how your first week has been going. Also, make sure to join us for a welcoming lunch this Thursday at noon—it's a great opportunity to get to know your colleagues!\",\n",
    "    },\n",
    "]\n"
   ],
   "id": "30a0f67e94b935e7",
   "outputs": [],
   "execution_count": 12
  },
  {
   "metadata": {
    "ExecuteTime": {
     "end_time": "2025-06-22T05:47:23.294211Z",
     "start_time": "2025-06-22T05:47:23.285916Z"
    }
   },
   "cell_type": "code",
   "source": [
    "# Convert the documents to YAML format\n",
    "yaml_docs: list[str] = [yaml.dump(doc, sort_keys=False) for doc in emails]\n",
    "for doc in yaml_docs:\n",
    "    print(type(doc))\n",
    "    print(doc)"
   ],
   "id": "56e56a16b723a6b0",
   "outputs": [
    {
     "name": "stdout",
     "output_type": "stream",
     "text": [
      "<class 'str'>\n",
      "from: hr@co1t.com\n",
      "to: david@co1t.com\n",
      "date: '2024-06-24'\n",
      "subject: A Warm Welcome to Co1t!\n",
      "text: We are delighted to welcome you to the team! As you embark on your journey with\n",
      "  us, you'll find attached an agenda to guide you through your first week.\n",
      "\n",
      "<class 'str'>\n",
      "from: it@co1t.com\n",
      "to: david@co1t.com\n",
      "date: '2024-06-24'\n",
      "subject: Setting Up Your IT Needs\n",
      "text: Greetings! To ensure a seamless start, please refer to the attached comprehensive\n",
      "  guide, which will assist you in setting up all your work accounts.\n",
      "\n",
      "<class 'str'>\n",
      "from: john@co1t.com\n",
      "to: david@co1t.com\n",
      "date: '2024-06-24'\n",
      "subject: First Week Check-In\n",
      "text: \"Hello! I hope you're settling in well. Let's connect briefly tomorrow to discuss\\\n",
      "  \\ how your first week has been going. Also, make sure to join us for a welcoming\\\n",
      "  \\ lunch this Thursday at noon\\u2014it's a great opportunity to get to know your\\\n",
      "  \\ colleagues!\"\n",
      "\n"
     ]
    }
   ],
   "execution_count": 14
  },
  {
   "metadata": {
    "ExecuteTime": {
     "end_time": "2025-06-22T05:47:25.660821Z",
     "start_time": "2025-06-22T05:47:25.243648Z"
    }
   },
   "cell_type": "code",
   "source": [
    "# Add the user query\n",
    "query = \"Any email about check ins?\"\n",
    "\n",
    "# Rerank the documents\n",
    "results = co.rerank(\n",
    "    model=\"rerank-v3.5\",\n",
    "    query=query,\n",
    "    documents=yaml_docs,\n",
    "    top_n=2,\n",
    ")"
   ],
   "id": "4719bcf507591ad5",
   "outputs": [],
   "execution_count": 15
  },
  {
   "metadata": {
    "ExecuteTime": {
     "end_time": "2025-06-22T05:47:41.107944Z",
     "start_time": "2025-06-22T05:47:41.103564Z"
    }
   },
   "cell_type": "code",
   "source": "return_results(results, emails)",
   "id": "f023b6ccd73271ca",
   "outputs": [
    {
     "name": "stdout",
     "output_type": "stream",
     "text": [
      "Rank: 1\n",
      "Score: 0.73868835\n",
      "Document: {'from': 'john@co1t.com', 'to': 'david@co1t.com', 'date': '2024-06-24', 'subject': 'First Week Check-In', 'text': \"Hello! I hope you're settling in well. Let's connect briefly tomorrow to discuss how your first week has been going. Also, make sure to join us for a welcoming lunch this Thursday at noon—it's a great opportunity to get to know your colleagues!\"}\n",
      "\n",
      "Rank: 2\n",
      "Score: 0.11693554\n",
      "Document: {'from': 'hr@co1t.com', 'to': 'david@co1t.com', 'date': '2024-06-24', 'subject': 'A Warm Welcome to Co1t!', 'text': \"We are delighted to welcome you to the team! As you embark on your journey with us, you'll find attached an agenda to guide you through your first week.\"}\n",
      "\n"
     ]
    }
   ],
   "execution_count": 16
  },
  {
   "metadata": {},
   "cell_type": "markdown",
   "source": "## Tabular Data",
   "id": "3845c818a57b2745"
  },
  {
   "metadata": {
    "ExecuteTime": {
     "end_time": "2025-06-22T05:49:11.667972Z",
     "start_time": "2025-06-22T05:49:11.641699Z"
    }
   },
   "cell_type": "code",
   "source": [
    "# Create a demo CSV file\n",
    "data = \"\"\"name,role,join_date,email,status\n",
    "Rebecca Lee,Senior Software Engineer,2024-07-01,rebecca@co1t.com,Full-time\n",
    "Emma Williams,Product Designer,2024-06-15,emma@co1t.com,Full-time\n",
    "Michael Jones,Marketing Manager,2024-05-20,michael@co1t.com,Full-time\n",
    "Amelia Thompson,Sales Representative,2024-05-20,amelia@co1t.com,Part-time\n",
    "Ethan Davis,Product Designer,2024-05-25,ethan@co1t.com,Contractor\"\"\"\n",
    "data_csv = StringIO(data)\n",
    "# Load the CSV file\n",
    "df = pd.read_csv(data_csv)\n",
    "df.head(1)"
   ],
   "id": "4d81f51720309b3d",
   "outputs": [
    {
     "data": {
      "text/plain": [
       "          name                      role   join_date             email  \\\n",
       "0  Rebecca Lee  Senior Software Engineer  2024-07-01  rebecca@co1t.com   \n",
       "\n",
       "      status  \n",
       "0  Full-time  "
      ],
      "text/html": [
       "<div>\n",
       "<style scoped>\n",
       "    .dataframe tbody tr th:only-of-type {\n",
       "        vertical-align: middle;\n",
       "    }\n",
       "\n",
       "    .dataframe tbody tr th {\n",
       "        vertical-align: top;\n",
       "    }\n",
       "\n",
       "    .dataframe thead th {\n",
       "        text-align: right;\n",
       "    }\n",
       "</style>\n",
       "<table border=\"1\" class=\"dataframe\">\n",
       "  <thead>\n",
       "    <tr style=\"text-align: right;\">\n",
       "      <th></th>\n",
       "      <th>name</th>\n",
       "      <th>role</th>\n",
       "      <th>join_date</th>\n",
       "      <th>email</th>\n",
       "      <th>status</th>\n",
       "    </tr>\n",
       "  </thead>\n",
       "  <tbody>\n",
       "    <tr>\n",
       "      <th>0</th>\n",
       "      <td>Rebecca Lee</td>\n",
       "      <td>Senior Software Engineer</td>\n",
       "      <td>2024-07-01</td>\n",
       "      <td>rebecca@co1t.com</td>\n",
       "      <td>Full-time</td>\n",
       "    </tr>\n",
       "  </tbody>\n",
       "</table>\n",
       "</div>"
      ]
     },
     "execution_count": 17,
     "metadata": {},
     "output_type": "execute_result"
    }
   ],
   "execution_count": 17
  },
  {
   "metadata": {
    "ExecuteTime": {
     "end_time": "2025-06-22T05:50:50.397539Z",
     "start_time": "2025-06-22T05:50:49.967889Z"
    }
   },
   "cell_type": "code",
   "source": [
    "# Define the documents\n",
    "employees: list[dict] = df.to_dict(\"records\")\n",
    "\n",
    "# Convert the documents to YAML format\n",
    "yaml_docs: list[str] = [yaml.dump(doc, sort_keys=False) for doc in employees]\n",
    "\n",
    "# Add the user query\n",
    "query = \"Any full-time product designers who joined recently?\"\n",
    "\n",
    "# Rerank the documents\n",
    "results = co.rerank(\n",
    "    model=\"rerank-v3.5\",\n",
    "    query=query,\n",
    "    documents=yaml_docs,\n",
    "    top_n=1,\n",
    ")"
   ],
   "id": "1acd911753aa8176",
   "outputs": [],
   "execution_count": 18
  },
  {
   "metadata": {
    "ExecuteTime": {
     "end_time": "2025-06-22T05:50:53.298642Z",
     "start_time": "2025-06-22T05:50:53.294499Z"
    }
   },
   "cell_type": "code",
   "source": "return_results(results, employees)",
   "id": "cd3a11867ee1b4ed",
   "outputs": [
    {
     "name": "stdout",
     "output_type": "stream",
     "text": [
      "Rank: 1\n",
      "Score: 0.81875163\n",
      "Document: {'name': 'Emma Williams', 'role': 'Product Designer', 'join_date': '2024-06-15', 'email': 'emma@co1t.com', 'status': 'Full-time'}\n",
      "\n"
     ]
    }
   ],
   "execution_count": 19
  },
  {
   "metadata": {},
   "cell_type": "markdown",
   "source": "# LangChain Example",
   "id": "e51a4629d8fddc3f"
  },
  {
   "metadata": {
    "ExecuteTime": {
     "end_time": "2025-05-25T02:38:40.680855Z",
     "start_time": "2025-05-25T02:38:40.677729Z"
    }
   },
   "cell_type": "code",
   "source": [
    "# Helper function for printing docs\n",
    "def pretty_print_docs(docs):\n",
    "    print(\n",
    "        f\"\\n{'-' * 100}\\n\".join(\n",
    "            [f\"Document {i+1}:\\n\\n\" + d.page_content for i, d in enumerate(docs)]\n",
    "        )\n",
    "    )"
   ],
   "id": "bef47f3788c64da2",
   "outputs": [],
   "execution_count": 28
  },
  {
   "metadata": {
    "ExecuteTime": {
     "end_time": "2025-05-25T02:38:41.639398Z",
     "start_time": "2025-05-25T02:38:41.634411Z"
    }
   },
   "cell_type": "code",
   "source": [
    "documents = TextLoader(\"data/state_of_the_union.txt\").load()\n",
    "text_splitter = RecursiveCharacterTextSplitter(chunk_size=500, chunk_overlap=100)\n",
    "texts = text_splitter.split_documents(documents)"
   ],
   "id": "a10823d5e85351b7",
   "outputs": [],
   "execution_count": 29
  },
  {
   "metadata": {
    "ExecuteTime": {
     "end_time": "2025-05-25T02:38:45.343690Z",
     "start_time": "2025-05-25T02:38:42.224285Z"
    }
   },
   "cell_type": "code",
   "source": [
    "# oai_embedding = OpenAIEmbeddings(model=\"text-embedding-3-small\")\n",
    "cohere_embedding = CohereEmbeddings(model=\"embed-v4.0\")\n",
    "retriever = FAISS.from_documents(texts, cohere_embedding).as_retriever(\n",
    "    search_kwargs={\"k\": 20}\n",
    ")"
   ],
   "id": "430ba1a1e862bdd2",
   "outputs": [],
   "execution_count": 30
  },
  {
   "metadata": {
    "ExecuteTime": {
     "end_time": "2025-05-25T02:38:46.087284Z",
     "start_time": "2025-05-25T02:38:46.083618Z"
    }
   },
   "cell_type": "code",
   "source": "query = \"What did the president say about Ketanji Brown Jackson\"",
   "id": "99eb6b1640a5a926",
   "outputs": [],
   "execution_count": 31
  },
  {
   "metadata": {
    "ExecuteTime": {
     "end_time": "2025-05-25T02:38:46.753358Z",
     "start_time": "2025-05-25T02:38:46.383723Z"
    }
   },
   "cell_type": "code",
   "source": [
    "docs = retriever.invoke(query)\n",
    "pretty_print_docs(docs)"
   ],
   "id": "14e58c49fe31becc",
   "outputs": [
    {
     "name": "stdout",
     "output_type": "stream",
     "text": [
      "Document 1:\n",
      "\n",
      "One of the most serious constitutional responsibilities a President has is nominating someone to serve on the United States Supreme Court. \n",
      "\n",
      "And I did that 4 days ago, when I nominated Circuit Court of Appeals Judge Ketanji Brown Jackson. One of our nation’s top legal minds, who will continue Justice Breyer’s legacy of excellence.\n",
      "----------------------------------------------------------------------------------------------------\n",
      "Document 2:\n",
      "\n",
      "As I said last year, especially to our younger transgender Americans, I will always have your back as your President, so you can be yourself and reach your God-given potential. \n",
      "\n",
      "While it often appears that we never agree, that isn’t true. I signed 80 bipartisan bills into law last year. From preventing government shutdowns to protecting Asian-Americans from still-too-common hate crimes to reforming military justice.\n",
      "----------------------------------------------------------------------------------------------------\n",
      "Document 3:\n",
      "\n",
      "A former top litigator in private practice. A former federal public defender. And from a family of public school educators and police officers. A consensus builder. Since she’s been nominated, she’s received a broad range of support—from the Fraternal Order of Police to former judges appointed by Democrats and Republicans. \n",
      "\n",
      "And if we are to advance liberty and justice, we need to secure the Border and fix the immigration system.\n",
      "----------------------------------------------------------------------------------------------------\n",
      "Document 4:\n",
      "\n",
      "And tonight, I’m announcing that the Justice Department will name a chief prosecutor for pandemic fraud. \n",
      "\n",
      "By the end of this year, the deficit will be down to less than half what it was before I took office.  \n",
      "\n",
      "The only president ever to cut the deficit by more than one trillion dollars in a single year. \n",
      "\n",
      "Lowering your costs also means demanding more competition. \n",
      "\n",
      "I’m a capitalist, but capitalism without competition isn’t capitalism. \n",
      "\n",
      "It’s exploitation—and it drives up prices.\n",
      "----------------------------------------------------------------------------------------------------\n",
      "Document 5:\n",
      "\n",
      "We’ll build a national network of 500,000 electric vehicle charging stations, begin to replace poisonous lead pipes—so every child—and every American—has clean water to drink at home and at school, provide affordable high-speed internet for every American—urban, suburban, rural, and tribal communities. \n",
      "\n",
      "4,000 projects have already been announced. \n",
      "\n",
      "And tonight, I’m announcing that this year we will start fixing over 65,000 miles of highway and 1,500 bridges in disrepair.\n",
      "----------------------------------------------------------------------------------------------------\n",
      "Document 6:\n",
      "\n",
      "We’re leaving no one behind or ignoring anyone’s needs as we move forward. \n",
      "\n",
      "And on testing, we have made hundreds of millions of tests available for you to order for free.   \n",
      "\n",
      "Even if you already ordered free tests tonight, I am announcing that you can order more from covidtests.gov starting next week. \n",
      "\n",
      "Second – we must prepare for new variants. Over the past year, we’ve gotten much better at detecting new variants.\n",
      "----------------------------------------------------------------------------------------------------\n",
      "Document 7:\n",
      "\n",
      "I spoke with their families and told them that we are forever in debt for their sacrifice, and we will carry on their mission to restore the trust and safety every community deserves. \n",
      "\n",
      "I’ve worked on these issues a long time. \n",
      "\n",
      "I know what works: Investing in crime prevention and community police officers who’ll walk the beat, who’ll know the neighborhood, and who can restore trust and safety. \n",
      "\n",
      "So let’s not abandon our streets. Or choose between safety and equal justice.\n",
      "----------------------------------------------------------------------------------------------------\n",
      "Document 8:\n",
      "\n",
      "He met the Ukrainian people. \n",
      "\n",
      "From President Zelenskyy to every Ukrainian, their fearlessness, their courage, their determination, inspires the world. \n",
      "\n",
      "Groups of citizens blocking tanks with their bodies. Everyone from students to retirees teachers turned soldiers defending their homeland. \n",
      "\n",
      "In this struggle as President Zelenskyy said in his speech to the European Parliament “Light will win over darkness.” The Ukrainian Ambassador to the United States is here tonight.\n",
      "----------------------------------------------------------------------------------------------------\n",
      "Document 9:\n",
      "\n",
      "The only nation that can be defined by a single word: possibilities. \n",
      "\n",
      "So on this night, in our 245th year as a nation, I have come to report on the State of the Union. \n",
      "\n",
      "And my report is this: the State of the Union is strong—because you, the American people, are strong. \n",
      "\n",
      "We are stronger today than we were a year ago. \n",
      "\n",
      "And we will be stronger a year from now than we are today. \n",
      "\n",
      "Now is our moment to meet and overcome the challenges of our time. \n",
      "\n",
      "And we will, as one people. \n",
      "\n",
      "One America.\n",
      "----------------------------------------------------------------------------------------------------\n",
      "Document 10:\n",
      "\n",
      "My administration is providing assistance with job training and housing, and now helping lower-income veterans get VA care debt-free.  \n",
      "\n",
      "Our troops in Iraq and Afghanistan faced many dangers. \n",
      "\n",
      "One was stationed at bases and breathing in toxic smoke from “burn pits” that incinerated wastes of war—medical and hazard material, jet fuel, and more. \n",
      "\n",
      "When they came home, many of the world’s fittest and best trained warriors were never the same. \n",
      "\n",
      "Headaches. Numbness. Dizziness.\n",
      "----------------------------------------------------------------------------------------------------\n",
      "Document 11:\n",
      "\n",
      "Every Administration says they’ll do it, but we are actually doing it. \n",
      "\n",
      "We will buy American to make sure everything from the deck of an aircraft carrier to the steel on highway guardrails are made in America. \n",
      "\n",
      "But to compete for the best jobs of the future, we also need to level the playing field with China and other competitors.\n",
      "----------------------------------------------------------------------------------------------------\n",
      "Document 12:\n",
      "\n",
      "I’m also calling on Congress: pass a law to make sure veterans devastated by toxic exposures in Iraq and Afghanistan finally get the benefits and comprehensive health care they deserve. \n",
      "\n",
      "And fourth, let’s end cancer as we know it. \n",
      "\n",
      "This is personal to me and Jill, to Kamala, and to so many of you. \n",
      "\n",
      "Cancer is the #2 cause of death in America–second only to heart disease.\n",
      "----------------------------------------------------------------------------------------------------\n",
      "Document 13:\n",
      "\n",
      "As I’ve told Xi Jinping, it is never a good bet to bet against the American people. \n",
      "\n",
      "We’ll create good jobs for millions of Americans, modernizing roads, airports, ports, and waterways all across America. \n",
      "\n",
      "And we’ll do it all to withstand the devastating effects of the climate crisis and promote environmental justice.\n",
      "----------------------------------------------------------------------------------------------------\n",
      "Document 14:\n",
      "\n",
      "And I know you’re tired, frustrated, and exhausted. \n",
      "\n",
      "But I also know this. \n",
      "\n",
      "Because of the progress we’ve made, because of your resilience and the tools we have, tonight I can say  \n",
      "we are moving forward safely, back to more normal routines.  \n",
      "\n",
      "We’ve reached a new moment in the fight against COVID-19, with severe cases down to a level not seen since last July.  \n",
      "\n",
      "Just a few days ago, the Centers for Disease Control and Prevention—the CDC—issued new mask guidelines.\n",
      "----------------------------------------------------------------------------------------------------\n",
      "Document 15:\n",
      "\n",
      "He will never extinguish their love of freedom. He will never weaken the resolve of the free world. \n",
      "\n",
      "We meet tonight in an America that has lived through two of the hardest years this nation has ever faced. \n",
      "\n",
      "The pandemic has been punishing. \n",
      "\n",
      "And so many families are living paycheck to paycheck, struggling to keep up with the rising cost of food, gas, housing, and so much more. \n",
      "\n",
      "I understand.\n",
      "----------------------------------------------------------------------------------------------------\n",
      "Document 16:\n",
      "\n",
      "We can do both. At our border, we’ve installed new technology like cutting-edge scanners to better detect drug smuggling.  \n",
      "\n",
      "We’ve set up joint patrols with Mexico and Guatemala to catch more human traffickers.  \n",
      "\n",
      "We’re putting in place dedicated immigration judges so families fleeing persecution and violence can have their cases heard faster. \n",
      "\n",
      "We’re securing commitments and supporting partners in South and Central America to host more refugees and secure their own borders.\n",
      "----------------------------------------------------------------------------------------------------\n",
      "Document 17:\n",
      "\n",
      "Our economy grew at a rate of 5.7% last year, the strongest growth in nearly 40 years, the first step in bringing fundamental change to an economy that hasn’t worked for the working people of this nation for too long.  \n",
      "\n",
      "For the past 40 years we were told that if we gave tax breaks to those at the very top, the benefits would trickle down to everyone else.\n",
      "----------------------------------------------------------------------------------------------------\n",
      "Document 18:\n",
      "\n",
      "If necessary, we’ll be able to deploy new vaccines within 100 days instead of many more months or years.  \n",
      "\n",
      "And, if Congress provides the funds we need, we’ll have new stockpiles of tests, masks, and pills ready if needed. \n",
      "\n",
      "I cannot promise a new variant won’t come. But I can promise you we’ll do everything within our power to be ready if it does.  \n",
      "\n",
      "Third – we can end the shutdown of schools and businesses. We have the tools we need.\n",
      "----------------------------------------------------------------------------------------------------\n",
      "Document 19:\n",
      "\n",
      "Tonight I say to the Russian oligarchs and corrupt leaders who have bilked billions of dollars off this violent regime no more. \n",
      "\n",
      "The U.S. Department of Justice is assembling a dedicated task force to go after the crimes of Russian oligarchs.  \n",
      "\n",
      "We are joining with our European allies to find and seize your yachts your luxury apartments your private jets. We are coming for your ill-begotten gains.\n",
      "----------------------------------------------------------------------------------------------------\n",
      "Document 20:\n",
      "\n",
      "This was a bipartisan effort, and I want to thank the members of both parties who worked to make it happen. \n",
      "\n",
      "We’re done talking about infrastructure weeks. \n",
      "\n",
      "We’re going to have an infrastructure decade. \n",
      "\n",
      "It is going to transform America and put us on a path to win the economic competition of the 21st Century that we face with the rest of the world—particularly with China.  \n",
      "\n",
      "As I’ve told Xi Jinping, it is never a good bet to bet against the American people.\n"
     ]
    }
   ],
   "execution_count": 32
  },
  {
   "metadata": {},
   "cell_type": "markdown",
   "source": "## Cohere Reranking",
   "id": "39530ab2eb8da5e3"
  },
  {
   "metadata": {
    "ExecuteTime": {
     "end_time": "2025-05-25T02:44:14.090109Z",
     "start_time": "2025-05-25T02:44:13.545629Z"
    }
   },
   "cell_type": "code",
   "source": [
    "pure_retrieved_docs = retriever.invoke(query)\n",
    "pretty_print_docs(pure_retrieved_docs)"
   ],
   "id": "9b7f5cca07301d2f",
   "outputs": [
    {
     "name": "stdout",
     "output_type": "stream",
     "text": [
      "Document 1:\n",
      "\n",
      "One of the most serious constitutional responsibilities a President has is nominating someone to serve on the United States Supreme Court. \n",
      "\n",
      "And I did that 4 days ago, when I nominated Circuit Court of Appeals Judge Ketanji Brown Jackson. One of our nation’s top legal minds, who will continue Justice Breyer’s legacy of excellence.\n",
      "----------------------------------------------------------------------------------------------------\n",
      "Document 2:\n",
      "\n",
      "As I said last year, especially to our younger transgender Americans, I will always have your back as your President, so you can be yourself and reach your God-given potential. \n",
      "\n",
      "While it often appears that we never agree, that isn’t true. I signed 80 bipartisan bills into law last year. From preventing government shutdowns to protecting Asian-Americans from still-too-common hate crimes to reforming military justice.\n",
      "----------------------------------------------------------------------------------------------------\n",
      "Document 3:\n",
      "\n",
      "A former top litigator in private practice. A former federal public defender. And from a family of public school educators and police officers. A consensus builder. Since she’s been nominated, she’s received a broad range of support—from the Fraternal Order of Police to former judges appointed by Democrats and Republicans. \n",
      "\n",
      "And if we are to advance liberty and justice, we need to secure the Border and fix the immigration system.\n",
      "----------------------------------------------------------------------------------------------------\n",
      "Document 4:\n",
      "\n",
      "And tonight, I’m announcing that the Justice Department will name a chief prosecutor for pandemic fraud. \n",
      "\n",
      "By the end of this year, the deficit will be down to less than half what it was before I took office.  \n",
      "\n",
      "The only president ever to cut the deficit by more than one trillion dollars in a single year. \n",
      "\n",
      "Lowering your costs also means demanding more competition. \n",
      "\n",
      "I’m a capitalist, but capitalism without competition isn’t capitalism. \n",
      "\n",
      "It’s exploitation—and it drives up prices.\n",
      "----------------------------------------------------------------------------------------------------\n",
      "Document 5:\n",
      "\n",
      "We’ll build a national network of 500,000 electric vehicle charging stations, begin to replace poisonous lead pipes—so every child—and every American—has clean water to drink at home and at school, provide affordable high-speed internet for every American—urban, suburban, rural, and tribal communities. \n",
      "\n",
      "4,000 projects have already been announced. \n",
      "\n",
      "And tonight, I’m announcing that this year we will start fixing over 65,000 miles of highway and 1,500 bridges in disrepair.\n",
      "----------------------------------------------------------------------------------------------------\n",
      "Document 6:\n",
      "\n",
      "We’re leaving no one behind or ignoring anyone’s needs as we move forward. \n",
      "\n",
      "And on testing, we have made hundreds of millions of tests available for you to order for free.   \n",
      "\n",
      "Even if you already ordered free tests tonight, I am announcing that you can order more from covidtests.gov starting next week. \n",
      "\n",
      "Second – we must prepare for new variants. Over the past year, we’ve gotten much better at detecting new variants.\n",
      "----------------------------------------------------------------------------------------------------\n",
      "Document 7:\n",
      "\n",
      "I spoke with their families and told them that we are forever in debt for their sacrifice, and we will carry on their mission to restore the trust and safety every community deserves. \n",
      "\n",
      "I’ve worked on these issues a long time. \n",
      "\n",
      "I know what works: Investing in crime prevention and community police officers who’ll walk the beat, who’ll know the neighborhood, and who can restore trust and safety. \n",
      "\n",
      "So let’s not abandon our streets. Or choose between safety and equal justice.\n",
      "----------------------------------------------------------------------------------------------------\n",
      "Document 8:\n",
      "\n",
      "He met the Ukrainian people. \n",
      "\n",
      "From President Zelenskyy to every Ukrainian, their fearlessness, their courage, their determination, inspires the world. \n",
      "\n",
      "Groups of citizens blocking tanks with their bodies. Everyone from students to retirees teachers turned soldiers defending their homeland. \n",
      "\n",
      "In this struggle as President Zelenskyy said in his speech to the European Parliament “Light will win over darkness.” The Ukrainian Ambassador to the United States is here tonight.\n",
      "----------------------------------------------------------------------------------------------------\n",
      "Document 9:\n",
      "\n",
      "The only nation that can be defined by a single word: possibilities. \n",
      "\n",
      "So on this night, in our 245th year as a nation, I have come to report on the State of the Union. \n",
      "\n",
      "And my report is this: the State of the Union is strong—because you, the American people, are strong. \n",
      "\n",
      "We are stronger today than we were a year ago. \n",
      "\n",
      "And we will be stronger a year from now than we are today. \n",
      "\n",
      "Now is our moment to meet and overcome the challenges of our time. \n",
      "\n",
      "And we will, as one people. \n",
      "\n",
      "One America.\n",
      "----------------------------------------------------------------------------------------------------\n",
      "Document 10:\n",
      "\n",
      "My administration is providing assistance with job training and housing, and now helping lower-income veterans get VA care debt-free.  \n",
      "\n",
      "Our troops in Iraq and Afghanistan faced many dangers. \n",
      "\n",
      "One was stationed at bases and breathing in toxic smoke from “burn pits” that incinerated wastes of war—medical and hazard material, jet fuel, and more. \n",
      "\n",
      "When they came home, many of the world’s fittest and best trained warriors were never the same. \n",
      "\n",
      "Headaches. Numbness. Dizziness.\n",
      "----------------------------------------------------------------------------------------------------\n",
      "Document 11:\n",
      "\n",
      "Every Administration says they’ll do it, but we are actually doing it. \n",
      "\n",
      "We will buy American to make sure everything from the deck of an aircraft carrier to the steel on highway guardrails are made in America. \n",
      "\n",
      "But to compete for the best jobs of the future, we also need to level the playing field with China and other competitors.\n",
      "----------------------------------------------------------------------------------------------------\n",
      "Document 12:\n",
      "\n",
      "I’m also calling on Congress: pass a law to make sure veterans devastated by toxic exposures in Iraq and Afghanistan finally get the benefits and comprehensive health care they deserve. \n",
      "\n",
      "And fourth, let’s end cancer as we know it. \n",
      "\n",
      "This is personal to me and Jill, to Kamala, and to so many of you. \n",
      "\n",
      "Cancer is the #2 cause of death in America–second only to heart disease.\n",
      "----------------------------------------------------------------------------------------------------\n",
      "Document 13:\n",
      "\n",
      "As I’ve told Xi Jinping, it is never a good bet to bet against the American people. \n",
      "\n",
      "We’ll create good jobs for millions of Americans, modernizing roads, airports, ports, and waterways all across America. \n",
      "\n",
      "And we’ll do it all to withstand the devastating effects of the climate crisis and promote environmental justice.\n",
      "----------------------------------------------------------------------------------------------------\n",
      "Document 14:\n",
      "\n",
      "And I know you’re tired, frustrated, and exhausted. \n",
      "\n",
      "But I also know this. \n",
      "\n",
      "Because of the progress we’ve made, because of your resilience and the tools we have, tonight I can say  \n",
      "we are moving forward safely, back to more normal routines.  \n",
      "\n",
      "We’ve reached a new moment in the fight against COVID-19, with severe cases down to a level not seen since last July.  \n",
      "\n",
      "Just a few days ago, the Centers for Disease Control and Prevention—the CDC—issued new mask guidelines.\n",
      "----------------------------------------------------------------------------------------------------\n",
      "Document 15:\n",
      "\n",
      "He will never extinguish their love of freedom. He will never weaken the resolve of the free world. \n",
      "\n",
      "We meet tonight in an America that has lived through two of the hardest years this nation has ever faced. \n",
      "\n",
      "The pandemic has been punishing. \n",
      "\n",
      "And so many families are living paycheck to paycheck, struggling to keep up with the rising cost of food, gas, housing, and so much more. \n",
      "\n",
      "I understand.\n",
      "----------------------------------------------------------------------------------------------------\n",
      "Document 16:\n",
      "\n",
      "We can do both. At our border, we’ve installed new technology like cutting-edge scanners to better detect drug smuggling.  \n",
      "\n",
      "We’ve set up joint patrols with Mexico and Guatemala to catch more human traffickers.  \n",
      "\n",
      "We’re putting in place dedicated immigration judges so families fleeing persecution and violence can have their cases heard faster. \n",
      "\n",
      "We’re securing commitments and supporting partners in South and Central America to host more refugees and secure their own borders.\n",
      "----------------------------------------------------------------------------------------------------\n",
      "Document 17:\n",
      "\n",
      "Our economy grew at a rate of 5.7% last year, the strongest growth in nearly 40 years, the first step in bringing fundamental change to an economy that hasn’t worked for the working people of this nation for too long.  \n",
      "\n",
      "For the past 40 years we were told that if we gave tax breaks to those at the very top, the benefits would trickle down to everyone else.\n",
      "----------------------------------------------------------------------------------------------------\n",
      "Document 18:\n",
      "\n",
      "If necessary, we’ll be able to deploy new vaccines within 100 days instead of many more months or years.  \n",
      "\n",
      "And, if Congress provides the funds we need, we’ll have new stockpiles of tests, masks, and pills ready if needed. \n",
      "\n",
      "I cannot promise a new variant won’t come. But I can promise you we’ll do everything within our power to be ready if it does.  \n",
      "\n",
      "Third – we can end the shutdown of schools and businesses. We have the tools we need.\n",
      "----------------------------------------------------------------------------------------------------\n",
      "Document 19:\n",
      "\n",
      "Tonight I say to the Russian oligarchs and corrupt leaders who have bilked billions of dollars off this violent regime no more. \n",
      "\n",
      "The U.S. Department of Justice is assembling a dedicated task force to go after the crimes of Russian oligarchs.  \n",
      "\n",
      "We are joining with our European allies to find and seize your yachts your luxury apartments your private jets. We are coming for your ill-begotten gains.\n",
      "----------------------------------------------------------------------------------------------------\n",
      "Document 20:\n",
      "\n",
      "This was a bipartisan effort, and I want to thank the members of both parties who worked to make it happen. \n",
      "\n",
      "We’re done talking about infrastructure weeks. \n",
      "\n",
      "We’re going to have an infrastructure decade. \n",
      "\n",
      "It is going to transform America and put us on a path to win the economic competition of the 21st Century that we face with the rest of the world—particularly with China.  \n",
      "\n",
      "As I’ve told Xi Jinping, it is never a good bet to bet against the American people.\n"
     ]
    }
   ],
   "execution_count": 37
  },
  {
   "metadata": {
    "ExecuteTime": {
     "end_time": "2025-05-25T02:44:43.616150Z",
     "start_time": "2025-05-25T02:44:40.552868Z"
    }
   },
   "cell_type": "code",
   "source": [
    "compressor = CohereRerank(top_n=5, model=\"rerank-v3.5\")\n",
    "compression_retriever = ContextualCompressionRetriever(\n",
    "    base_compressor=compressor, base_retriever=retriever\n",
    ")\n",
    "\n",
    "compressed_docs = compression_retriever.invoke(query)\n",
    "pretty_print_docs(compressed_docs)"
   ],
   "id": "7224f2bce595e4a",
   "outputs": [
    {
     "name": "stdout",
     "output_type": "stream",
     "text": [
      "Document 1:\n",
      "\n",
      "One of the most serious constitutional responsibilities a President has is nominating someone to serve on the United States Supreme Court. \n",
      "\n",
      "And I did that 4 days ago, when I nominated Circuit Court of Appeals Judge Ketanji Brown Jackson. One of our nation’s top legal minds, who will continue Justice Breyer’s legacy of excellence.\n",
      "----------------------------------------------------------------------------------------------------\n",
      "Document 2:\n",
      "\n",
      "He will never extinguish their love of freedom. He will never weaken the resolve of the free world. \n",
      "\n",
      "We meet tonight in an America that has lived through two of the hardest years this nation has ever faced. \n",
      "\n",
      "The pandemic has been punishing. \n",
      "\n",
      "And so many families are living paycheck to paycheck, struggling to keep up with the rising cost of food, gas, housing, and so much more. \n",
      "\n",
      "I understand.\n",
      "----------------------------------------------------------------------------------------------------\n",
      "Document 3:\n",
      "\n",
      "I spoke with their families and told them that we are forever in debt for their sacrifice, and we will carry on their mission to restore the trust and safety every community deserves. \n",
      "\n",
      "I’ve worked on these issues a long time. \n",
      "\n",
      "I know what works: Investing in crime prevention and community police officers who’ll walk the beat, who’ll know the neighborhood, and who can restore trust and safety. \n",
      "\n",
      "So let’s not abandon our streets. Or choose between safety and equal justice.\n",
      "----------------------------------------------------------------------------------------------------\n",
      "Document 4:\n",
      "\n",
      "A former top litigator in private practice. A former federal public defender. And from a family of public school educators and police officers. A consensus builder. Since she’s been nominated, she’s received a broad range of support—from the Fraternal Order of Police to former judges appointed by Democrats and Republicans. \n",
      "\n",
      "And if we are to advance liberty and justice, we need to secure the Border and fix the immigration system.\n",
      "----------------------------------------------------------------------------------------------------\n",
      "Document 5:\n",
      "\n",
      "As I said last year, especially to our younger transgender Americans, I will always have your back as your President, so you can be yourself and reach your God-given potential. \n",
      "\n",
      "While it often appears that we never agree, that isn’t true. I signed 80 bipartisan bills into law last year. From preventing government shutdowns to protecting Asian-Americans from still-too-common hate crimes to reforming military justice.\n"
     ]
    }
   ],
   "execution_count": 38
  },
  {
   "metadata": {
    "ExecuteTime": {
     "end_time": "2025-05-25T02:44:48.053812Z",
     "start_time": "2025-05-25T02:44:48.014823Z"
    }
   },
   "cell_type": "code",
   "source": [
    "cohere_llm = ChatCohere(model=\"command-a-03-2025\", temperature=0)\n",
    "\n",
    "chain = RetrievalQA.from_chain_type(\n",
    "    llm=cohere_llm, retriever=compression_retriever\n",
    ")"
   ],
   "id": "72db191d0edb090f",
   "outputs": [],
   "execution_count": 39
  },
  {
   "metadata": {
    "ExecuteTime": {
     "end_time": "2025-05-25T02:44:50.987106Z",
     "start_time": "2025-05-25T02:44:48.592842Z"
    }
   },
   "cell_type": "code",
   "source": [
    "chain.invoke({\"query\": query})\n",
    "# chain({\"question\": query})"
   ],
   "id": "b57ff3dfe4e28b46",
   "outputs": [
    {
     "data": {
      "text/plain": [
       "{'query': 'What did the president say about Ketanji Brown Jackson',\n",
       " 'result': 'The president described Ketanji Brown Jackson as \"one of our nation’s top legal minds, who will continue Justice Breyer’s legacy of excellence.\" He highlighted her background as a former top litigator in private practice, a former federal public defender, and her family ties to public school educators and police officers. He also emphasized her ability as a \"consensus builder,\" noting the broad range of support she has received, including from the Fraternal Order of Police and former judges appointed by both Democrats and Republicans.'}"
      ]
     },
     "execution_count": 40,
     "metadata": {},
     "output_type": "execute_result"
    }
   ],
   "execution_count": 40
  },
  {
   "metadata": {},
   "cell_type": "code",
   "outputs": [],
   "execution_count": null,
   "source": "",
   "id": "c455fb8b92675a90"
  }
 ],
 "metadata": {
  "kernelspec": {
   "display_name": "Python 3",
   "language": "python",
   "name": "python3"
  },
  "language_info": {
   "codemirror_mode": {
    "name": "ipython",
    "version": 2
   },
   "file_extension": ".py",
   "mimetype": "text/x-python",
   "name": "python",
   "nbconvert_exporter": "python",
   "pygments_lexer": "ipython2",
   "version": "2.7.6"
  }
 },
 "nbformat": 4,
 "nbformat_minor": 5
}
